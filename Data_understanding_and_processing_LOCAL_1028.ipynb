{
 "cells": [
  {
   "cell_type": "code",
   "execution_count": 1,
   "metadata": {},
   "outputs": [],
   "source": [
    "import pandas as pd"
   ]
  },
  {
   "cell_type": "code",
   "execution_count": 2,
   "metadata": {},
   "outputs": [],
   "source": [
    "import numpy as np"
   ]
  },
  {
   "cell_type": "code",
   "execution_count": 50,
   "metadata": {},
   "outputs": [],
   "source": [
    "import matplotlib.pyplot as plt"
   ]
  },
  {
   "cell_type": "code",
   "execution_count": 3,
   "metadata": {},
   "outputs": [],
   "source": [
    "data = pd.read_csv(\"dataset.csv\", sep = ';')"
   ]
  },
  {
   "cell_type": "code",
   "execution_count": 4,
   "metadata": {
    "scrolled": true
   },
   "outputs": [
    {
     "data": {
      "text/html": [
       "<div>\n",
       "<style scoped>\n",
       "    .dataframe tbody tr th:only-of-type {\n",
       "        vertical-align: middle;\n",
       "    }\n",
       "\n",
       "    .dataframe tbody tr th {\n",
       "        vertical-align: top;\n",
       "    }\n",
       "\n",
       "    .dataframe thead th {\n",
       "        text-align: right;\n",
       "    }\n",
       "</style>\n",
       "<table border=\"1\" class=\"dataframe\">\n",
       "  <thead>\n",
       "    <tr style=\"text-align: right;\">\n",
       "      <th></th>\n",
       "      <th>Unnamed: 0</th>\n",
       "      <th>Adresa</th>\n",
       "      <th>Aktualizace:</th>\n",
       "      <th>Balkón:</th>\n",
       "      <th>Bankomat:</th>\n",
       "      <th>Bazén:</th>\n",
       "      <th>Bezbariérový:</th>\n",
       "      <th>Bus MHD:</th>\n",
       "      <th>Celková cena:</th>\n",
       "      <th>Cena:</th>\n",
       "      <th>...</th>\n",
       "      <th>Večerka:</th>\n",
       "      <th>Vlak:</th>\n",
       "      <th>Vlastnictví:</th>\n",
       "      <th>Voda:</th>\n",
       "      <th>Vybavení:</th>\n",
       "      <th>Výtah:</th>\n",
       "      <th>Výška stropu:</th>\n",
       "      <th>Zlevněno:</th>\n",
       "      <th>Škola:</th>\n",
       "      <th>Školka:</th>\n",
       "    </tr>\n",
       "  </thead>\n",
       "  <tbody>\n",
       "    <tr>\n",
       "      <td>0</td>\n",
       "      <td>0</td>\n",
       "      <td>Dobrovolného, Praha 9 - Černý Most Panorama</td>\n",
       "      <td>['Dnes']</td>\n",
       "      <td>NaN</td>\n",
       "      <td>['Bankomat České spořitelny', ' (542 m)']</td>\n",
       "      <td>NaN</td>\n",
       "      <td>NaN</td>\n",
       "      <td>['Generála Janouška', ' (132 m)']</td>\n",
       "      <td>['12 000 Kč za měsíc']</td>\n",
       "      <td>NaN</td>\n",
       "      <td>...</td>\n",
       "      <td>['Albert Supermarket', ' (451 m)']</td>\n",
       "      <td>['Praha-Kyje', ' (1445 m)']</td>\n",
       "      <td>['Osobní']</td>\n",
       "      <td>NaN</td>\n",
       "      <td>NaN</td>\n",
       "      <td>NaN</td>\n",
       "      <td>NaN</td>\n",
       "      <td>NaN</td>\n",
       "      <td>['ZUŠ Praha 9, Ratibořická', ' (234 m)']</td>\n",
       "      <td>['MŠ Sluníčko Praha 9 - Černý Most', ' (279 m)']</td>\n",
       "    </tr>\n",
       "    <tr>\n",
       "      <td>1</td>\n",
       "      <td>0</td>\n",
       "      <td>Bořivojova, Praha 3 - Žižkov Panorama</td>\n",
       "      <td>['Dnes']</td>\n",
       "      <td>NaN</td>\n",
       "      <td>['Bankomat České spořitelny', ' (122 m)']</td>\n",
       "      <td>NaN</td>\n",
       "      <td>[\"'boolean-false'\"]</td>\n",
       "      <td>['Tachovské náměstí', ' (443 m)']</td>\n",
       "      <td>['9 500 Kč za nemovitost, + provize RK']</td>\n",
       "      <td>NaN</td>\n",
       "      <td>...</td>\n",
       "      <td>['Shalamar Foods', ' (165 m)']</td>\n",
       "      <td>['Praha hlavní nádraží', ' (984 m)']</td>\n",
       "      <td>['Osobní']</td>\n",
       "      <td>NaN</td>\n",
       "      <td>NaN</td>\n",
       "      <td>NaN</td>\n",
       "      <td>NaN</td>\n",
       "      <td>NaN</td>\n",
       "      <td>['Gymnázium Karla Sladkovského Praha 3', ' (56...</td>\n",
       "      <td>['ZŠ a MŠ Jaroslava Seiferta Praha 3', ' (243 ...</td>\n",
       "    </tr>\n",
       "    <tr>\n",
       "      <td>2</td>\n",
       "      <td>0</td>\n",
       "      <td>Tupolevova, Praha 9 - Letňany Panorama</td>\n",
       "      <td>['Dnes']</td>\n",
       "      <td>NaN</td>\n",
       "      <td>['Bankomat České spořitelny', ' (236 m)']</td>\n",
       "      <td>NaN</td>\n",
       "      <td>[\"'boolean-true'\"]</td>\n",
       "      <td>['Šumperská', ' (177 m)']</td>\n",
       "      <td>['13 900 Kč za měsíc']</td>\n",
       "      <td>NaN</td>\n",
       "      <td>...</td>\n",
       "      <td>['Penny Market', ' (183 m)']</td>\n",
       "      <td>['Praha-Čakovice', ' (1695 m)']</td>\n",
       "      <td>['Osobní']</td>\n",
       "      <td>NaN</td>\n",
       "      <td>NaN</td>\n",
       "      <td>[\"'boolean-true'\"]</td>\n",
       "      <td>NaN</td>\n",
       "      <td>NaN</td>\n",
       "      <td>['Základní škola Fryčovická', ' (160 m)']</td>\n",
       "      <td>['MŠ Havířovská', ' (255 m)']</td>\n",
       "    </tr>\n",
       "    <tr>\n",
       "      <td>3</td>\n",
       "      <td>0</td>\n",
       "      <td>Podbělohorská, Praha 5 - Smíchov Panorama</td>\n",
       "      <td>['Dnes']</td>\n",
       "      <td>NaN</td>\n",
       "      <td>['Bankomat Komerční banky', ' (381 m)']</td>\n",
       "      <td>NaN</td>\n",
       "      <td>[\"'boolean-false'\"]</td>\n",
       "      <td>['Pod Lipkami', ' (30 m)']</td>\n",
       "      <td>['15 000 Kč za nemovitost, + provize RK']</td>\n",
       "      <td>NaN</td>\n",
       "      <td>...</td>\n",
       "      <td>['Smíšené zboží Plzeňská\\t187', ' (404 m)']</td>\n",
       "      <td>['Praha-Cibulka', ' (1229 m)']</td>\n",
       "      <td>['Osobní']</td>\n",
       "      <td>['Dálkový vodovod']</td>\n",
       "      <td>NaN</td>\n",
       "      <td>NaN</td>\n",
       "      <td>NaN</td>\n",
       "      <td>NaN</td>\n",
       "      <td>['ZUŠ Na Popelce', ' (224 m)']</td>\n",
       "      <td>['TROIS PETITES POMMES, s.r.o.', ' (343 m)']</td>\n",
       "    </tr>\n",
       "  </tbody>\n",
       "</table>\n",
       "<p>4 rows × 80 columns</p>\n",
       "</div>"
      ],
      "text/plain": [
       "   Unnamed: 0                                       Adresa Aktualizace:  \\\n",
       "0           0  Dobrovolného, Praha 9 - Černý Most Panorama     ['Dnes']   \n",
       "1           0        Bořivojova, Praha 3 - Žižkov Panorama     ['Dnes']   \n",
       "2           0       Tupolevova, Praha 9 - Letňany Panorama     ['Dnes']   \n",
       "3           0    Podbělohorská, Praha 5 - Smíchov Panorama     ['Dnes']   \n",
       "\n",
       "  Balkón:                                  Bankomat: Bazén:  \\\n",
       "0     NaN  ['Bankomat České spořitelny', ' (542 m)']    NaN   \n",
       "1     NaN  ['Bankomat České spořitelny', ' (122 m)']    NaN   \n",
       "2     NaN  ['Bankomat České spořitelny', ' (236 m)']    NaN   \n",
       "3     NaN    ['Bankomat Komerční banky', ' (381 m)']    NaN   \n",
       "\n",
       "         Bezbariérový:                           Bus MHD:  \\\n",
       "0                  NaN  ['Generála Janouška', ' (132 m)']   \n",
       "1  [\"'boolean-false'\"]  ['Tachovské náměstí', ' (443 m)']   \n",
       "2   [\"'boolean-true'\"]          ['Šumperská', ' (177 m)']   \n",
       "3  [\"'boolean-false'\"]         ['Pod Lipkami', ' (30 m)']   \n",
       "\n",
       "                               Celková cena: Cena:  ...  \\\n",
       "0                     ['12 000 Kč za měsíc']   NaN  ...   \n",
       "1   ['9 500 Kč za nemovitost, + provize RK']   NaN  ...   \n",
       "2                     ['13 900 Kč za měsíc']   NaN  ...   \n",
       "3  ['15 000 Kč za nemovitost, + provize RK']   NaN  ...   \n",
       "\n",
       "                                      Večerka:  \\\n",
       "0           ['Albert Supermarket', ' (451 m)']   \n",
       "1               ['Shalamar Foods', ' (165 m)']   \n",
       "2                 ['Penny Market', ' (183 m)']   \n",
       "3  ['Smíšené zboží Plzeňská\\t187', ' (404 m)']   \n",
       "\n",
       "                                  Vlak: Vlastnictví:                Voda:  \\\n",
       "0           ['Praha-Kyje', ' (1445 m)']   ['Osobní']                  NaN   \n",
       "1  ['Praha hlavní nádraží', ' (984 m)']   ['Osobní']                  NaN   \n",
       "2       ['Praha-Čakovice', ' (1695 m)']   ['Osobní']                  NaN   \n",
       "3        ['Praha-Cibulka', ' (1229 m)']   ['Osobní']  ['Dálkový vodovod']   \n",
       "\n",
       "  Vybavení:              Výtah: Výška stropu: Zlevněno:  \\\n",
       "0       NaN                 NaN           NaN       NaN   \n",
       "1       NaN                 NaN           NaN       NaN   \n",
       "2       NaN  [\"'boolean-true'\"]           NaN       NaN   \n",
       "3       NaN                 NaN           NaN       NaN   \n",
       "\n",
       "                                              Škola:  \\\n",
       "0           ['ZUŠ Praha 9, Ratibořická', ' (234 m)']   \n",
       "1  ['Gymnázium Karla Sladkovského Praha 3', ' (56...   \n",
       "2          ['Základní škola Fryčovická', ' (160 m)']   \n",
       "3                     ['ZUŠ Na Popelce', ' (224 m)']   \n",
       "\n",
       "                                             Školka:  \n",
       "0   ['MŠ Sluníčko Praha 9 - Černý Most', ' (279 m)']  \n",
       "1  ['ZŠ a MŠ Jaroslava Seiferta Praha 3', ' (243 ...  \n",
       "2                      ['MŠ Havířovská', ' (255 m)']  \n",
       "3       ['TROIS PETITES POMMES, s.r.o.', ' (343 m)']  \n",
       "\n",
       "[4 rows x 80 columns]"
      ]
     },
     "execution_count": 4,
     "metadata": {},
     "output_type": "execute_result"
    }
   ],
   "source": [
    "data.head(4)"
   ]
  },
  {
   "cell_type": "code",
   "execution_count": 5,
   "metadata": {
    "scrolled": true
   },
   "outputs": [],
   "source": [
    "data = data.drop([\"Unnamed: 0\"], axis= 1)  #this drops the unnamed column as it has no value"
   ]
  },
  {
   "cell_type": "markdown",
   "metadata": {},
   "source": [
    "All variables we collected"
   ]
  },
  {
   "cell_type": "code",
   "execution_count": 6,
   "metadata": {
    "scrolled": true
   },
   "outputs": [
    {
     "data": {
      "text/plain": [
       "Index(['Adresa', 'Aktualizace:', 'Balkón:', 'Bankomat:', 'Bazén:',\n",
       "       'Bezbariérový:', 'Bus MHD:', 'Celková cena:', 'Cena:', 'Cukrárna:',\n",
       "       'Datum nastěhování:', 'Datum prohlídky do:', 'Datum prohlídky:',\n",
       "       'Datum zahájení prodeje:', 'Divadlo:', 'Doprava:', 'Elektřina:',\n",
       "       'Energetická náročnost budovy:', 'Garáž:', 'Hospoda:', 'Hřiště:',\n",
       "       'ID zakázky:', 'ID:', 'Kino:', 'Komunikace:', 'Kulturní památka:',\n",
       "       'Lodžie:', 'Lékař:', 'Lékárna:', 'Metro:', 'Náklady na bydlení:',\n",
       "       'Obchod:', 'Odpad:', 'Parkování:', 'Plocha podlahová:',\n",
       "       'Plocha pozemku:', 'Plocha zahrady:', 'Plocha zastavěná:', 'Plyn:',\n",
       "       'Podlaží:', 'Poloha domu:', 'Poznámka k ceně:', 'Počet bytů:', 'Pošta:',\n",
       "       'Provize:', 'Průkaz energetické náročnosti budovy:', 'Převod do OV:',\n",
       "       'Přírodní zajímavost:', 'Půdní vestavba:', 'Původní cena:',\n",
       "       'Restaurace:', 'Rok kolaudace:', 'Rok rekonstrukce:', 'Sklep:',\n",
       "       'Sportoviště:', 'Stav objektu:', 'Stav:', 'Stavba:', 'Telekomunikace:',\n",
       "       'Terasa:', 'Title', 'Topení:', 'Tram:', 'Typ bytu:', 'Typ domu:',\n",
       "       'Ukazatel energetické náročnosti budovy:', 'Umístění objektu:',\n",
       "       'Užitná plocha:', 'Veterinář:', 'Večerka:', 'Vlak:', 'Vlastnictví:',\n",
       "       'Voda:', 'Vybavení:', 'Výtah:', 'Výška stropu:', 'Zlevněno:', 'Škola:',\n",
       "       'Školka:'],\n",
       "      dtype='object')"
      ]
     },
     "execution_count": 6,
     "metadata": {},
     "output_type": "execute_result"
    }
   ],
   "source": [
    "data.columns"
   ]
  },
  {
   "cell_type": "code",
   "execution_count": 7,
   "metadata": {
    "scrolled": true
   },
   "outputs": [
    {
     "data": {
      "text/plain": [
       "(7878, 79)"
      ]
     },
     "execution_count": 7,
     "metadata": {},
     "output_type": "execute_result"
    }
   ],
   "source": [
    "data.shape"
   ]
  },
  {
   "cell_type": "markdown",
   "metadata": {},
   "source": [
    "We have 7878 observations and 80 columns"
   ]
  },
  {
   "cell_type": "markdown",
   "metadata": {},
   "source": [
    "## We will examine NaN"
   ]
  },
  {
   "cell_type": "markdown",
   "metadata": {},
   "source": [
    "49 variables have more than 10% of missing values"
   ]
  },
  {
   "cell_type": "code",
   "execution_count": 8,
   "metadata": {},
   "outputs": [
    {
     "data": {
      "text/plain": [
       "49"
      ]
     },
     "execution_count": 8,
     "metadata": {},
     "output_type": "execute_result"
    }
   ],
   "source": [
    "empty = data.isnull().sum()\n",
    "empty[empty > 7878*0.1].sort_values(ascending = False).count()"
   ]
  },
  {
   "cell_type": "code",
   "execution_count": 9,
   "metadata": {},
   "outputs": [
    {
     "data": {
      "text/plain": [
       "Poloha domu:                               7877\n",
       "Typ domu:                                  7877\n",
       "Plocha pozemku:                            7877\n",
       "Datum prohlídky do:                        7873\n",
       "Datum zahájení prodeje:                    7870\n",
       "Počet bytů:                                7870\n",
       "Bazén:                                     7857\n",
       "Převod do OV:                              7854\n",
       "Půdní vestavba:                            7838\n",
       "Datum prohlídky:                           7832\n",
       "Cena:                                      7831\n",
       "Stav:                                      7818\n",
       "Plocha zahrady:                            7808\n",
       "Výška stropu:                              7801\n",
       "Průkaz energetické náročnosti budovy:      7719\n",
       "Provize:                                   7705\n",
       "Zlevněno:                                  7693\n",
       "Původní cena:                              7693\n",
       "Plocha zastavěná:                          7663\n",
       "Rok kolaudace:                             7643\n",
       "Ukazatel energetické náročnosti budovy:    7579\n",
       "Typ bytu:                                  7547\n",
       "Rok rekonstrukce:                          7319\n",
       "Lodžie:                                    7309\n",
       "Náklady na bydlení:                        7224\n",
       "Přírodní zajímavost:                       7013\n",
       "ID:                                        6925\n",
       "Komunikace:                                6841\n",
       "Terasa:                                    6830\n",
       "Garáž:                                     6725\n",
       "Parkování:                                 6412\n",
       "Plyn:                                      6147\n",
       "Bezbariérový:                              6134\n",
       "Datum nastěhování:                         6127\n",
       "Sklep:                                     5976\n",
       "Balkón:                                    5918\n",
       "Odpad:                                     5696\n",
       "Elektřina:                                 5392\n",
       "Umístění objektu:                          5375\n",
       "Voda:                                      5188\n",
       "Telekomunikace:                            5178\n",
       "Topení:                                    4735\n",
       "Doprava:                                   4655\n",
       "Plocha podlahová:                          2575\n",
       "Výtah:                                     2249\n",
       "Poznámka k ceně:                           2114\n",
       "Vybavení:                                  1901\n",
       "Energetická náročnost budovy:              1896\n",
       "ID zakázky:                                 953\n",
       "dtype: int64"
      ]
     },
     "execution_count": 9,
     "metadata": {},
     "output_type": "execute_result"
    }
   ],
   "source": [
    "empty[empty > 7878*0.1].sort_values(ascending = False)"
   ]
  },
  {
   "cell_type": "markdown",
   "metadata": {},
   "source": [
    "25 variables have more than 90% observations NaN. Those variables are useless"
   ]
  },
  {
   "cell_type": "code",
   "execution_count": 10,
   "metadata": {
    "scrolled": true
   },
   "outputs": [
    {
     "data": {
      "text/plain": [
       "25"
      ]
     },
     "execution_count": 10,
     "metadata": {},
     "output_type": "execute_result"
    }
   ],
   "source": [
    "empty[empty > 7878*0.9].sort_values(ascending = False).count()"
   ]
  },
  {
   "cell_type": "code",
   "execution_count": 11,
   "metadata": {
    "scrolled": false
   },
   "outputs": [
    {
     "data": {
      "text/plain": [
       "Typ domu:                                  7877\n",
       "Plocha pozemku:                            7877\n",
       "Poloha domu:                               7877\n",
       "Datum prohlídky do:                        7873\n",
       "Datum zahájení prodeje:                    7870\n",
       "Počet bytů:                                7870\n",
       "Bazén:                                     7857\n",
       "Převod do OV:                              7854\n",
       "Půdní vestavba:                            7838\n",
       "Datum prohlídky:                           7832\n",
       "Cena:                                      7831\n",
       "Stav:                                      7818\n",
       "Plocha zahrady:                            7808\n",
       "Výška stropu:                              7801\n",
       "Průkaz energetické náročnosti budovy:      7719\n",
       "Provize:                                   7705\n",
       "Původní cena:                              7693\n",
       "Zlevněno:                                  7693\n",
       "Plocha zastavěná:                          7663\n",
       "Rok kolaudace:                             7643\n",
       "Ukazatel energetické náročnosti budovy:    7579\n",
       "Typ bytu:                                  7547\n",
       "Rok rekonstrukce:                          7319\n",
       "Lodžie:                                    7309\n",
       "Náklady na bydlení:                        7224\n",
       "dtype: int64"
      ]
     },
     "execution_count": 11,
     "metadata": {},
     "output_type": "execute_result"
    }
   ],
   "source": [
    "empty[empty > 7878*0.9].sort_values(ascending = False)"
   ]
  },
  {
   "cell_type": "markdown",
   "metadata": {},
   "source": [
    "We 31 variables that have sufficient data availability"
   ]
  },
  {
   "cell_type": "code",
   "execution_count": 12,
   "metadata": {},
   "outputs": [
    {
     "data": {
      "text/plain": [
       "30"
      ]
     },
     "execution_count": 12,
     "metadata": {},
     "output_type": "execute_result"
    }
   ],
   "source": [
    "empty[empty < 7878*0.1].sort_values(ascending = False).count()"
   ]
  },
  {
   "cell_type": "code",
   "execution_count": 13,
   "metadata": {
    "scrolled": false
   },
   "outputs": [
    {
     "data": {
      "text/plain": [
       "Kulturní památka:    757\n",
       "Kino:                463\n",
       "Divadlo:             459\n",
       "Obchod:              456\n",
       "Restaurace:          423\n",
       "Bankomat:            423\n",
       "Cukrárna:            423\n",
       "Hospoda:             423\n",
       "Lékař:               423\n",
       "Lékárna:             423\n",
       "Škola:               423\n",
       "Pošta:               423\n",
       "Školka:              423\n",
       "Veterinář:           423\n",
       "Večerka:             423\n",
       "Metro:               254\n",
       "Celková cena:        232\n",
       "Tram:                205\n",
       "Vlak:                128\n",
       "Bus MHD:             122\n",
       "Sportoviště:         117\n",
       "Hřiště:              117\n",
       "Vlastnictví:           1\n",
       "Podlaží:               0\n",
       "Užitná plocha:         0\n",
       "Title                  0\n",
       "Stavba:                0\n",
       "Stav objektu:          0\n",
       "Aktualizace:           0\n",
       "Adresa                 0\n",
       "dtype: int64"
      ]
     },
     "execution_count": 13,
     "metadata": {},
     "output_type": "execute_result"
    }
   ],
   "source": [
    "empty[empty < 7878*0.1].sort_values(ascending = False)"
   ]
  },
  {
   "cell_type": "markdown",
   "metadata": {},
   "source": [
    "The next 6 could be considered"
   ]
  },
  {
   "cell_type": "code",
   "execution_count": 14,
   "metadata": {
    "scrolled": false
   },
   "outputs": [
    {
     "data": {
      "text/plain": [
       "6"
      ]
     },
     "execution_count": 14,
     "metadata": {},
     "output_type": "execute_result"
    }
   ],
   "source": [
    "empty[np.all([(empty > 7878*0.1),(empty < 7878*0.33)], axis = 0)].sort_values(ascending = False).count()"
   ]
  },
  {
   "cell_type": "code",
   "execution_count": 15,
   "metadata": {
    "scrolled": false
   },
   "outputs": [
    {
     "data": {
      "text/plain": [
       "Plocha podlahová:                2575\n",
       "Výtah:                           2249\n",
       "Poznámka k ceně:                 2114\n",
       "Vybavení:                        1901\n",
       "Energetická náročnost budovy:    1896\n",
       "ID zakázky:                       953\n",
       "dtype: int64"
      ]
     },
     "execution_count": 15,
     "metadata": {},
     "output_type": "execute_result"
    }
   ],
   "source": [
    "empty[np.all([(empty > 7878*0.1),(empty < 7878*0.33)], axis = 0)].sort_values(ascending = False)"
   ]
  },
  {
   "cell_type": "markdown",
   "metadata": {},
   "source": [
    "# Proposals for visualisation "
   ]
  },
  {
   "cell_type": "code",
   "execution_count": 16,
   "metadata": {},
   "outputs": [
    {
     "data": {
      "text/plain": [
       "Index(['Adresa', 'Aktualizace:', 'Bankomat:', 'Bus MHD:', 'Celková cena:',\n",
       "       'Cukrárna:', 'Divadlo:', 'Energetická náročnost budovy:', 'Hospoda:',\n",
       "       'Hřiště:', 'ID zakázky:', 'Kino:', 'Kulturní památka:', 'Lékař:',\n",
       "       'Lékárna:', 'Metro:', 'Obchod:', 'Plocha podlahová:', 'Podlaží:',\n",
       "       'Poznámka k ceně:', 'Pošta:', 'Restaurace:', 'Sportoviště:',\n",
       "       'Stav objektu:', 'Stavba:', 'Title', 'Tram:', 'Užitná plocha:',\n",
       "       'Veterinář:', 'Večerka:', 'Vlak:', 'Vlastnictví:', 'Vybavení:',\n",
       "       'Výtah:', 'Škola:', 'Školka:'],\n",
       "      dtype='object')"
      ]
     },
     "execution_count": 16,
     "metadata": {},
     "output_type": "execute_result"
    }
   ],
   "source": [
    "variable = empty[empty < 7878*0.33]\n",
    "variable.index"
   ]
  },
  {
   "cell_type": "code",
   "execution_count": 17,
   "metadata": {
    "scrolled": true
   },
   "outputs": [
    {
     "data": {
      "text/html": [
       "<div>\n",
       "<style scoped>\n",
       "    .dataframe tbody tr th:only-of-type {\n",
       "        vertical-align: middle;\n",
       "    }\n",
       "\n",
       "    .dataframe tbody tr th {\n",
       "        vertical-align: top;\n",
       "    }\n",
       "\n",
       "    .dataframe thead th {\n",
       "        text-align: right;\n",
       "    }\n",
       "</style>\n",
       "<table border=\"1\" class=\"dataframe\">\n",
       "  <thead>\n",
       "    <tr style=\"text-align: right;\">\n",
       "      <th></th>\n",
       "      <th>Adresa</th>\n",
       "      <th>Aktualizace:</th>\n",
       "      <th>Bankomat:</th>\n",
       "      <th>Bus MHD:</th>\n",
       "      <th>Celková cena:</th>\n",
       "      <th>Cukrárna:</th>\n",
       "      <th>Divadlo:</th>\n",
       "      <th>Energetická náročnost budovy:</th>\n",
       "      <th>Hospoda:</th>\n",
       "      <th>Hřiště:</th>\n",
       "      <th>...</th>\n",
       "      <th>Tram:</th>\n",
       "      <th>Užitná plocha:</th>\n",
       "      <th>Veterinář:</th>\n",
       "      <th>Večerka:</th>\n",
       "      <th>Vlak:</th>\n",
       "      <th>Vlastnictví:</th>\n",
       "      <th>Vybavení:</th>\n",
       "      <th>Výtah:</th>\n",
       "      <th>Škola:</th>\n",
       "      <th>Školka:</th>\n",
       "    </tr>\n",
       "  </thead>\n",
       "  <tbody>\n",
       "    <tr>\n",
       "      <td>0</td>\n",
       "      <td>Dobrovolného, Praha 9 - Černý Most Panorama</td>\n",
       "      <td>['Dnes']</td>\n",
       "      <td>['Bankomat České spořitelny', ' (542 m)']</td>\n",
       "      <td>['Generála Janouška', ' (132 m)']</td>\n",
       "      <td>['12 000 Kč za měsíc']</td>\n",
       "      <td>['Shisha Room Dvin', ' (1144 m)']</td>\n",
       "      <td>['Přírodní divadlo Dády Stoklasy', ' (3152 m)']</td>\n",
       "      <td>['Třída G - Mimořádně nehospodárná']</td>\n",
       "      <td>['Šenk Na Rajské', ' (476 m)']</td>\n",
       "      <td>['Dětské hřiště Rajský vrch', ' (162 m)']</td>\n",
       "      <td>...</td>\n",
       "      <td>['Lehovec', ' (1136 m)']</td>\n",
       "      <td>['26m2']</td>\n",
       "      <td>['MetropoleVet Praha s.r.o.', ' (623 m)']</td>\n",
       "      <td>['Albert Supermarket', ' (451 m)']</td>\n",
       "      <td>['Praha-Kyje', ' (1445 m)']</td>\n",
       "      <td>['Osobní']</td>\n",
       "      <td>NaN</td>\n",
       "      <td>NaN</td>\n",
       "      <td>['ZUŠ Praha 9, Ratibořická', ' (234 m)']</td>\n",
       "      <td>['MŠ Sluníčko Praha 9 - Černý Most', ' (279 m)']</td>\n",
       "    </tr>\n",
       "    <tr>\n",
       "      <td>1</td>\n",
       "      <td>Bořivojova, Praha 3 - Žižkov Panorama</td>\n",
       "      <td>['Dnes']</td>\n",
       "      <td>['Bankomat České spořitelny', ' (122 m)']</td>\n",
       "      <td>['Tachovské náměstí', ' (443 m)']</td>\n",
       "      <td>['9 500 Kč za nemovitost, + provize RK']</td>\n",
       "      <td>['Klub JINÝ KAFE', ' (283 m)']</td>\n",
       "      <td>['Žižkovské divadlo Járy Cimrmana', ' (280 m)']</td>\n",
       "      <td>['Třída G - Mimořádně nehospodárná']</td>\n",
       "      <td>['Hospůdka U Habásků', ' (209 m)']</td>\n",
       "      <td>['Dětské hřiště Bořivojova', ' (294 m)']</td>\n",
       "      <td>...</td>\n",
       "      <td>['Lipanská', ' (186 m)']</td>\n",
       "      <td>['23m2']</td>\n",
       "      <td>['MVDr. Jan Dubský', ' (425 m)']</td>\n",
       "      <td>['Shalamar Foods', ' (165 m)']</td>\n",
       "      <td>['Praha hlavní nádraží', ' (984 m)']</td>\n",
       "      <td>['Osobní']</td>\n",
       "      <td>NaN</td>\n",
       "      <td>NaN</td>\n",
       "      <td>['Gymnázium Karla Sladkovského Praha 3', ' (56...</td>\n",
       "      <td>['ZŠ a MŠ Jaroslava Seiferta Praha 3', ' (243 ...</td>\n",
       "    </tr>\n",
       "    <tr>\n",
       "      <td>2</td>\n",
       "      <td>Tupolevova, Praha 9 - Letňany Panorama</td>\n",
       "      <td>['Dnes']</td>\n",
       "      <td>['Bankomat České spořitelny', ' (236 m)']</td>\n",
       "      <td>['Šumperská', ' (177 m)']</td>\n",
       "      <td>['13 900 Kč za měsíc']</td>\n",
       "      <td>['Café Infinity', ' (204 m)']</td>\n",
       "      <td>['Divadlo Pohádka', ' (1057 m)']</td>\n",
       "      <td>NaN</td>\n",
       "      <td>['Pivnice na Královce', ' (1824 m)']</td>\n",
       "      <td>['Venkovní posilovna u obchodního centra', ' (...</td>\n",
       "      <td>...</td>\n",
       "      <td>['Sídliště Ďáblice', ' (1906 m)']</td>\n",
       "      <td>['52m2']</td>\n",
       "      <td>['Veterinární ordinace Letňany', ' (302 m)']</td>\n",
       "      <td>['Penny Market', ' (183 m)']</td>\n",
       "      <td>['Praha-Čakovice', ' (1695 m)']</td>\n",
       "      <td>['Osobní']</td>\n",
       "      <td>NaN</td>\n",
       "      <td>[\"'boolean-true'\"]</td>\n",
       "      <td>['Základní škola Fryčovická', ' (160 m)']</td>\n",
       "      <td>['MŠ Havířovská', ' (255 m)']</td>\n",
       "    </tr>\n",
       "    <tr>\n",
       "      <td>3</td>\n",
       "      <td>Podbělohorská, Praha 5 - Smíchov Panorama</td>\n",
       "      <td>['Dnes']</td>\n",
       "      <td>['Bankomat Komerční banky', ' (381 m)']</td>\n",
       "      <td>['Pod Lipkami', ' (30 m)']</td>\n",
       "      <td>['15 000 Kč za nemovitost, + provize RK']</td>\n",
       "      <td>['Cukrárna Pod Marjánkou', ' (1333 m)']</td>\n",
       "      <td>['JUDr. Jiří Šilhán', ' (279 m)']</td>\n",
       "      <td>['Třída B - Velmi úsporná']</td>\n",
       "      <td>['Restaurace Na zámyšli', ' (423 m)']</td>\n",
       "      <td>['Dětské hřiště Na Vršku', ' (116 m)']</td>\n",
       "      <td>...</td>\n",
       "      <td>['Kavalírka', ' (370 m)']</td>\n",
       "      <td>['58m2']</td>\n",
       "      <td>['Veterinární klinika - MVDr. Pavel Santar, MV...</td>\n",
       "      <td>['Smíšené zboží Plzeňská\\t187', ' (404 m)']</td>\n",
       "      <td>['Praha-Cibulka', ' (1229 m)']</td>\n",
       "      <td>['Osobní']</td>\n",
       "      <td>NaN</td>\n",
       "      <td>NaN</td>\n",
       "      <td>['ZUŠ Na Popelce', ' (224 m)']</td>\n",
       "      <td>['TROIS PETITES POMMES, s.r.o.', ' (343 m)']</td>\n",
       "    </tr>\n",
       "    <tr>\n",
       "      <td>4</td>\n",
       "      <td>Mezi domy, Praha 4 - Písnice Panorama</td>\n",
       "      <td>['Dnes']</td>\n",
       "      <td>['Bankomat Komerční banky', ' (780 m)']</td>\n",
       "      <td>['U Libušské sokolovny', ' (275 m)']</td>\n",
       "      <td>['19 500 Kč za měsíc']</td>\n",
       "      <td>['Cukrářství Viktoria, s.r.o.', ' (900 m)']</td>\n",
       "      <td>['Tradiční loutkové divadlo Zvoneček', ' (3145...</td>\n",
       "      <td>['Třída D - Méně úsporná č. 78/2013 Sb. podle ...</td>\n",
       "      <td>['Hospůdka U Báti', ' (509 m)']</td>\n",
       "      <td>['Dětské hřiště Pyramida Na Okruhu', ' (78 m)']</td>\n",
       "      <td>...</td>\n",
       "      <td>['Levského', ' (1815 m)']</td>\n",
       "      <td>['93m2']</td>\n",
       "      <td>['Vetnemo, s.r.o.', ' (634 m)']</td>\n",
       "      <td>['VIVACOMEX, spol. s r.o.', ' (450 m)']</td>\n",
       "      <td>['Praha-Krč', ' (3635 m)']</td>\n",
       "      <td>['Osobní']</td>\n",
       "      <td>NaN</td>\n",
       "      <td>[\"'boolean-true'\"]</td>\n",
       "      <td>['Střední odborné učiliště potravinářské Praha...</td>\n",
       "      <td>['Mateřská škola Mezi Domy', ' (105 m)']</td>\n",
       "    </tr>\n",
       "  </tbody>\n",
       "</table>\n",
       "<p>5 rows × 36 columns</p>\n",
       "</div>"
      ],
      "text/plain": [
       "                                        Adresa Aktualizace:  \\\n",
       "0  Dobrovolného, Praha 9 - Černý Most Panorama     ['Dnes']   \n",
       "1        Bořivojova, Praha 3 - Žižkov Panorama     ['Dnes']   \n",
       "2       Tupolevova, Praha 9 - Letňany Panorama     ['Dnes']   \n",
       "3    Podbělohorská, Praha 5 - Smíchov Panorama     ['Dnes']   \n",
       "4        Mezi domy, Praha 4 - Písnice Panorama     ['Dnes']   \n",
       "\n",
       "                                   Bankomat:  \\\n",
       "0  ['Bankomat České spořitelny', ' (542 m)']   \n",
       "1  ['Bankomat České spořitelny', ' (122 m)']   \n",
       "2  ['Bankomat České spořitelny', ' (236 m)']   \n",
       "3    ['Bankomat Komerční banky', ' (381 m)']   \n",
       "4    ['Bankomat Komerční banky', ' (780 m)']   \n",
       "\n",
       "                               Bus MHD:  \\\n",
       "0     ['Generála Janouška', ' (132 m)']   \n",
       "1     ['Tachovské náměstí', ' (443 m)']   \n",
       "2             ['Šumperská', ' (177 m)']   \n",
       "3            ['Pod Lipkami', ' (30 m)']   \n",
       "4  ['U Libušské sokolovny', ' (275 m)']   \n",
       "\n",
       "                               Celková cena:  \\\n",
       "0                     ['12 000 Kč za měsíc']   \n",
       "1   ['9 500 Kč za nemovitost, + provize RK']   \n",
       "2                     ['13 900 Kč za měsíc']   \n",
       "3  ['15 000 Kč za nemovitost, + provize RK']   \n",
       "4                     ['19 500 Kč za měsíc']   \n",
       "\n",
       "                                     Cukrárna:  \\\n",
       "0            ['Shisha Room Dvin', ' (1144 m)']   \n",
       "1               ['Klub JINÝ KAFE', ' (283 m)']   \n",
       "2                ['Café Infinity', ' (204 m)']   \n",
       "3      ['Cukrárna Pod Marjánkou', ' (1333 m)']   \n",
       "4  ['Cukrářství Viktoria, s.r.o.', ' (900 m)']   \n",
       "\n",
       "                                            Divadlo:  \\\n",
       "0    ['Přírodní divadlo Dády Stoklasy', ' (3152 m)']   \n",
       "1    ['Žižkovské divadlo Járy Cimrmana', ' (280 m)']   \n",
       "2                   ['Divadlo Pohádka', ' (1057 m)']   \n",
       "3                  ['JUDr. Jiří Šilhán', ' (279 m)']   \n",
       "4  ['Tradiční loutkové divadlo Zvoneček', ' (3145...   \n",
       "\n",
       "                       Energetická náročnost budovy:  \\\n",
       "0               ['Třída G - Mimořádně nehospodárná']   \n",
       "1               ['Třída G - Mimořádně nehospodárná']   \n",
       "2                                                NaN   \n",
       "3                        ['Třída B - Velmi úsporná']   \n",
       "4  ['Třída D - Méně úsporná č. 78/2013 Sb. podle ...   \n",
       "\n",
       "                                Hospoda:  \\\n",
       "0         ['Šenk Na Rajské', ' (476 m)']   \n",
       "1     ['Hospůdka U Habásků', ' (209 m)']   \n",
       "2   ['Pivnice na Královce', ' (1824 m)']   \n",
       "3  ['Restaurace Na zámyšli', ' (423 m)']   \n",
       "4        ['Hospůdka U Báti', ' (509 m)']   \n",
       "\n",
       "                                             Hřiště:  ...  \\\n",
       "0          ['Dětské hřiště Rajský vrch', ' (162 m)']  ...   \n",
       "1           ['Dětské hřiště Bořivojova', ' (294 m)']  ...   \n",
       "2  ['Venkovní posilovna u obchodního centra', ' (...  ...   \n",
       "3             ['Dětské hřiště Na Vršku', ' (116 m)']  ...   \n",
       "4    ['Dětské hřiště Pyramida Na Okruhu', ' (78 m)']  ...   \n",
       "\n",
       "                               Tram: Užitná plocha:  \\\n",
       "0           ['Lehovec', ' (1136 m)']       ['26m2']   \n",
       "1           ['Lipanská', ' (186 m)']       ['23m2']   \n",
       "2  ['Sídliště Ďáblice', ' (1906 m)']       ['52m2']   \n",
       "3          ['Kavalírka', ' (370 m)']       ['58m2']   \n",
       "4          ['Levského', ' (1815 m)']       ['93m2']   \n",
       "\n",
       "                                          Veterinář:  \\\n",
       "0          ['MetropoleVet Praha s.r.o.', ' (623 m)']   \n",
       "1                   ['MVDr. Jan Dubský', ' (425 m)']   \n",
       "2       ['Veterinární ordinace Letňany', ' (302 m)']   \n",
       "3  ['Veterinární klinika - MVDr. Pavel Santar, MV...   \n",
       "4                    ['Vetnemo, s.r.o.', ' (634 m)']   \n",
       "\n",
       "                                      Večerka:  \\\n",
       "0           ['Albert Supermarket', ' (451 m)']   \n",
       "1               ['Shalamar Foods', ' (165 m)']   \n",
       "2                 ['Penny Market', ' (183 m)']   \n",
       "3  ['Smíšené zboží Plzeňská\\t187', ' (404 m)']   \n",
       "4      ['VIVACOMEX, spol. s r.o.', ' (450 m)']   \n",
       "\n",
       "                                  Vlak: Vlastnictví: Vybavení:  \\\n",
       "0           ['Praha-Kyje', ' (1445 m)']   ['Osobní']       NaN   \n",
       "1  ['Praha hlavní nádraží', ' (984 m)']   ['Osobní']       NaN   \n",
       "2       ['Praha-Čakovice', ' (1695 m)']   ['Osobní']       NaN   \n",
       "3        ['Praha-Cibulka', ' (1229 m)']   ['Osobní']       NaN   \n",
       "4            ['Praha-Krč', ' (3635 m)']   ['Osobní']       NaN   \n",
       "\n",
       "               Výtah:                                             Škola:  \\\n",
       "0                 NaN           ['ZUŠ Praha 9, Ratibořická', ' (234 m)']   \n",
       "1                 NaN  ['Gymnázium Karla Sladkovského Praha 3', ' (56...   \n",
       "2  [\"'boolean-true'\"]          ['Základní škola Fryčovická', ' (160 m)']   \n",
       "3                 NaN                     ['ZUŠ Na Popelce', ' (224 m)']   \n",
       "4  [\"'boolean-true'\"]  ['Střední odborné učiliště potravinářské Praha...   \n",
       "\n",
       "                                             Školka:  \n",
       "0   ['MŠ Sluníčko Praha 9 - Černý Most', ' (279 m)']  \n",
       "1  ['ZŠ a MŠ Jaroslava Seiferta Praha 3', ' (243 ...  \n",
       "2                      ['MŠ Havířovská', ' (255 m)']  \n",
       "3       ['TROIS PETITES POMMES, s.r.o.', ' (343 m)']  \n",
       "4           ['Mateřská škola Mezi Domy', ' (105 m)']  \n",
       "\n",
       "[5 rows x 36 columns]"
      ]
     },
     "execution_count": 17,
     "metadata": {},
     "output_type": "execute_result"
    }
   ],
   "source": [
    "data[variable.index].head()"
   ]
  },
  {
   "cell_type": "code",
   "execution_count": 18,
   "metadata": {},
   "outputs": [],
   "source": [
    "data[variable.index].head().to_csv('dataview.csv', sep = ';')"
   ]
  },
  {
   "cell_type": "markdown",
   "metadata": {},
   "source": [
    "## proposel relation for examination"
   ]
  },
  {
   "cell_type": "markdown",
   "metadata": {},
   "source": [
    "celkova cena vs adresa"
   ]
  },
  {
   "cell_type": "markdown",
   "metadata": {},
   "source": [
    "adresa vs metro - dokazeme urcit pozici metra pouze z techto dat pomoci kruznic a pruseciku"
   ]
  },
  {
   "cell_type": "markdown",
   "metadata": {},
   "source": [
    "cena / pocet pokoju - histogram"
   ]
  },
  {
   "cell_type": "markdown",
   "metadata": {},
   "source": [
    "cena / m2 - histogram"
   ]
  },
  {
   "cell_type": "markdown",
   "metadata": {},
   "source": [
    "cena vs. metro - regrese, point plot "
   ]
  },
  {
   "cell_type": "markdown",
   "metadata": {},
   "source": [
    "energeticka narocnost vs adresa (jsou lokace se energetickou narocnosti shlukovane?)"
   ]
  },
  {
   "cell_type": "markdown",
   "metadata": {},
   "source": [
    "### poznamky "
   ]
  },
  {
   "cell_type": "markdown",
   "metadata": {},
   "source": [
    "je vlastnictvi jine nez osobni?\n",
    "vlak je podobna promenna jako metro\n",
    "title ma pocet mistnosti\n",
    "stavba typ - kolik je typu jak zalezi na poloze\n",
    "stav objektu\n",
    "poznamka k cene muze delat potize\n",
    "lisi se podlahova a uzita plocha\n",
    "aktualize asi neni moc zajimava promenna"
   ]
  },
  {
   "cell_type": "code",
   "execution_count": 21,
   "metadata": {},
   "outputs": [],
   "source": [
    "import re"
   ]
  },
  {
   "cell_type": "code",
   "execution_count": 34,
   "metadata": {},
   "outputs": [],
   "source": [
    "def extractor(inp):\n",
    "    try:\n",
    "        pre_prop = re.sub('')\n",
    "        result = int(re.sub(\"[^0-9]\", \"\",inp))\n",
    "    except:\n",
    "        result = None\n",
    "    return result"
   ]
  },
  {
   "cell_type": "code",
   "execution_count": 36,
   "metadata": {},
   "outputs": [],
   "source": [
    "data['cena'] = data['Celková cena:'].apply(extractor)"
   ]
  },
  {
   "cell_type": "code",
   "execution_count": 77,
   "metadata": {},
   "outputs": [
    {
     "data": {
      "text/plain": [
       "6727    23214850.0\n",
       "4727      240000.0\n",
       "7646      180000.0\n",
       "4216      180000.0\n",
       "7435      180000.0\n",
       "1848      180000.0\n",
       "7353      180000.0\n",
       "6485      180000.0\n",
       "7409      175000.0\n",
       "834       175000.0\n",
       "3893      160000.0\n",
       "6405      150000.0\n",
       "6415      143000.0\n",
       "2501      139800.0\n",
       "2594      130000.0\n",
       "6078      130000.0\n",
       "6369      130000.0\n",
       "7864      130000.0\n",
       "7459      120000.0\n",
       "5002      120000.0\n",
       "4265      120000.0\n",
       "6204      119800.0\n",
       "2851      119800.0\n",
       "2092      117700.0\n",
       "7467      115000.0\n",
       "5948      110000.0\n",
       "32        110000.0\n",
       "6416      106000.0\n",
       "5712      105000.0\n",
       "6423      105000.0\n",
       "2481      100000.0\n",
       "6377      100000.0\n",
       "5331      100000.0\n",
       "6118      100000.0\n",
       "6389      100000.0\n",
       "822       100000.0\n",
       "5022      100000.0\n",
       "4226      100000.0\n",
       "3106      100000.0\n",
       "6769      100000.0\n",
       "4970      100000.0\n",
       "50         99500.0\n",
       "7368       99000.0\n",
       "2537       99000.0\n",
       "6388       99000.0\n",
       "7740       95000.0\n",
       "7156       95000.0\n",
       "3079       95000.0\n",
       "3879       95000.0\n",
       "6576       95000.0\n",
       "Name: cena, dtype: float64"
      ]
     },
     "execution_count": 77,
     "metadata": {},
     "output_type": "execute_result"
    }
   ],
   "source": [
    "data['cena'].sort_values(ascending = False)[50:100]"
   ]
  },
  {
   "cell_type": "code",
   "execution_count": 82,
   "metadata": {},
   "outputs": [
    {
     "data": {
      "text/plain": [
       "\"['23 214 Kč (850 EUR) za měsíc, bez poplatků']\""
      ]
     },
     "execution_count": 82,
     "metadata": {},
     "output_type": "execute_result"
    }
   ],
   "source": [
    "data['Celková cena:'][6727]"
   ]
  },
  {
   "cell_type": "code",
   "execution_count": 106,
   "metadata": {},
   "outputs": [
    {
     "data": {
      "text/plain": [
       "\"23214Kč(850EUR)zaměsíc,bezpoplatků']\""
      ]
     },
     "execution_count": 106,
     "metadata": {},
     "output_type": "execute_result"
    }
   ],
   "source": [
    "a = re.sub(\"\\s\",\"\",data['Celková cena:'][6727])\n",
    "re.sub(\"^[^0-9]+\", \"\",a)"
   ]
  },
  {
   "cell_type": "code",
   "execution_count": 89,
   "metadata": {},
   "outputs": [
    {
     "data": {
      "text/plain": [
       "\"['23214Kč(850EUR)zaměsíc,bezpoplatků']\""
      ]
     },
     "execution_count": 89,
     "metadata": {},
     "output_type": "execute_result"
    }
   ],
   "source": [
    "a"
   ]
  },
  {
   "cell_type": "code",
   "execution_count": 47,
   "metadata": {},
   "outputs": [
    {
     "data": {
      "text/plain": [
       "(array([  11,  427, 2216, 1904,  966,  665, 1407], dtype=int64),\n",
       " array([        0,      5000,     10000,     15000,     20000,     25000,\n",
       "            30000, 100000000]))"
      ]
     },
     "execution_count": 47,
     "metadata": {},
     "output_type": "execute_result"
    }
   ],
   "source": [
    "np.histogram(data['cena'], bins = [0,5000,10000,15000,20000,25000,30000, 100000000])"
   ]
  },
  {
   "cell_type": "code",
   "execution_count": 57,
   "metadata": {},
   "outputs": [
    {
     "data": {
      "image/png": "[encoded data removed]",
      "text/plain": [
       "<Figure size 432x288 with 1 Axes>"
      ]
     },
     "metadata": {
      "needs_background": "light"
     },
     "output_type": "display_data"
    }
   ],
   "source": [
    "plt.hist(data['cena'], np.arange(100000, step = 5000))\n",
    "plt.show()"
   ]
  },
  {
   "cell_type": "code",
   "execution_count": 60,
   "metadata": {},
   "outputs": [
    {
     "data": {
      "image/png": "[encoded data removed]",
      "text/plain": [
       "<Figure size 432x288 with 1 Axes>"
      ]
     },
     "metadata": {
      "needs_background": "light"
     },
     "output_type": "display_data"
    }
   ],
   "source": [
    "plt.hist(data['cena'], np.arange(40000,100000, step = 5000))\n",
    "plt.show()"
   ]
  },
  {
   "cell_type": "code",
   "execution_count": 63,
   "metadata": {},
   "outputs": [
    {
     "data": {
      "image/png": "[encoded data removed]",
      "text/plain": [
       "<Figure size 432x288 with 1 Axes>"
      ]
     },
     "metadata": {
      "needs_background": "light"
     },
     "output_type": "display_data"
    }
   ],
   "source": [
    "plt.hist(data['cena'], np.arange(100000,200000, step = 5000))\n",
    "plt.show()"
   ]
  }
 ],
 "metadata": {
  "kernelspec": {
   "display_name": "Python 3",
   "language": "python",
   "name": "python3"
  },
  "language_info": {
   "codemirror_mode": {
    "name": "ipython",
    "version": 3
   },
   "file_extension": ".py",
   "mimetype": "text/x-python",
   "name": "python",
   "nbconvert_exporter": "python",
   "pygments_lexer": "ipython3",
   "version": "3.7.4"
  }
 },
 "nbformat": 4,
 "nbformat_minor": 2
}
