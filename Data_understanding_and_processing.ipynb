{
 "cells": [
  {
   "cell_type": "markdown",
   "metadata": {},
   "source": [
    "# Data preparation, processing and visualization\n",
    "\n",
    "At this point, let's remind our core aim: to analyse some interesting relationships (esp. rent prices and distance from metro) based on data scraped from sReality.cz. \n",
    "\n",
    "Now, having the scraped massive dataset, our goal is to analyse and visualize underlaying relationships of chosen variables. We attempt to do so by (a) matplotlib and (b) geopandas tools. Nevertheless, before we can do so, the data need to be inspected and adjusted.\n",
    "\n",
    "## I. Getting familiar with the data"
   ]
  },
  {
   "cell_type": "markdown",
   "metadata": {},
   "source": [
    "First, we prepare the environment for analysis and get familiar with the structure and variables of data."
   ]
  },
  {
   "cell_type": "code",
   "execution_count": 2,
   "metadata": {
    "scrolled": true
   },
   "outputs": [
    {
     "data": {
      "text/html": [
       "<div>\n",
       "<style scoped>\n",
       "    .dataframe tbody tr th:only-of-type {\n",
       "        vertical-align: middle;\n",
       "    }\n",
       "\n",
       "    .dataframe tbody tr th {\n",
       "        vertical-align: top;\n",
       "    }\n",
       "\n",
       "    .dataframe thead th {\n",
       "        text-align: right;\n",
       "    }\n",
       "</style>\n",
       "<table border=\"1\" class=\"dataframe\">\n",
       "  <thead>\n",
       "    <tr style=\"text-align: right;\">\n",
       "      <th></th>\n",
       "      <th>Unnamed: 0</th>\n",
       "      <th>Adresa</th>\n",
       "      <th>Aktualizace:</th>\n",
       "      <th>Balkón:</th>\n",
       "      <th>Bankomat:</th>\n",
       "      <th>Bazén:</th>\n",
       "      <th>Bezbariérový:</th>\n",
       "      <th>Bus MHD:</th>\n",
       "      <th>Celková cena:</th>\n",
       "      <th>Cena:</th>\n",
       "      <th>...</th>\n",
       "      <th>Večerka:</th>\n",
       "      <th>Vlak:</th>\n",
       "      <th>Vlastnictví:</th>\n",
       "      <th>Voda:</th>\n",
       "      <th>Vybavení:</th>\n",
       "      <th>Výtah:</th>\n",
       "      <th>Výška stropu:</th>\n",
       "      <th>Zlevněno:</th>\n",
       "      <th>Škola:</th>\n",
       "      <th>Školka:</th>\n",
       "    </tr>\n",
       "  </thead>\n",
       "  <tbody>\n",
       "    <tr>\n",
       "      <td>0</td>\n",
       "      <td>0</td>\n",
       "      <td>Dobrovolného, Praha 9 - Černý Most Panorama</td>\n",
       "      <td>['Dnes']</td>\n",
       "      <td>NaN</td>\n",
       "      <td>['Bankomat České spořitelny', ' (542 m)']</td>\n",
       "      <td>NaN</td>\n",
       "      <td>NaN</td>\n",
       "      <td>['Generála Janouška', ' (132 m)']</td>\n",
       "      <td>['12 000 Kč za měsíc']</td>\n",
       "      <td>NaN</td>\n",
       "      <td>...</td>\n",
       "      <td>['Albert Supermarket', ' (451 m)']</td>\n",
       "      <td>['Praha-Kyje', ' (1445 m)']</td>\n",
       "      <td>['Osobní']</td>\n",
       "      <td>NaN</td>\n",
       "      <td>NaN</td>\n",
       "      <td>NaN</td>\n",
       "      <td>NaN</td>\n",
       "      <td>NaN</td>\n",
       "      <td>['ZUŠ Praha 9, Ratibořická', ' (234 m)']</td>\n",
       "      <td>['MŠ Sluníčko Praha 9 - Černý Most', ' (279 m)']</td>\n",
       "    </tr>\n",
       "    <tr>\n",
       "      <td>1</td>\n",
       "      <td>0</td>\n",
       "      <td>Bořivojova, Praha 3 - Žižkov Panorama</td>\n",
       "      <td>['Dnes']</td>\n",
       "      <td>NaN</td>\n",
       "      <td>['Bankomat České spořitelny', ' (122 m)']</td>\n",
       "      <td>NaN</td>\n",
       "      <td>[\"'boolean-false'\"]</td>\n",
       "      <td>['Tachovské náměstí', ' (443 m)']</td>\n",
       "      <td>['9 500 Kč za nemovitost, + provize RK']</td>\n",
       "      <td>NaN</td>\n",
       "      <td>...</td>\n",
       "      <td>['Shalamar Foods', ' (165 m)']</td>\n",
       "      <td>['Praha hlavní nádraží', ' (984 m)']</td>\n",
       "      <td>['Osobní']</td>\n",
       "      <td>NaN</td>\n",
       "      <td>NaN</td>\n",
       "      <td>NaN</td>\n",
       "      <td>NaN</td>\n",
       "      <td>NaN</td>\n",
       "      <td>['Gymnázium Karla Sladkovského Praha 3', ' (56...</td>\n",
       "      <td>['ZŠ a MŠ Jaroslava Seiferta Praha 3', ' (243 ...</td>\n",
       "    </tr>\n",
       "    <tr>\n",
       "      <td>2</td>\n",
       "      <td>0</td>\n",
       "      <td>Tupolevova, Praha 9 - Letňany Panorama</td>\n",
       "      <td>['Dnes']</td>\n",
       "      <td>NaN</td>\n",
       "      <td>['Bankomat České spořitelny', ' (236 m)']</td>\n",
       "      <td>NaN</td>\n",
       "      <td>[\"'boolean-true'\"]</td>\n",
       "      <td>['Šumperská', ' (177 m)']</td>\n",
       "      <td>['13 900 Kč za měsíc']</td>\n",
       "      <td>NaN</td>\n",
       "      <td>...</td>\n",
       "      <td>['Penny Market', ' (183 m)']</td>\n",
       "      <td>['Praha-Čakovice', ' (1695 m)']</td>\n",
       "      <td>['Osobní']</td>\n",
       "      <td>NaN</td>\n",
       "      <td>NaN</td>\n",
       "      <td>[\"'boolean-true'\"]</td>\n",
       "      <td>NaN</td>\n",
       "      <td>NaN</td>\n",
       "      <td>['Základní škola Fryčovická', ' (160 m)']</td>\n",
       "      <td>['MŠ Havířovská', ' (255 m)']</td>\n",
       "    </tr>\n",
       "    <tr>\n",
       "      <td>3</td>\n",
       "      <td>0</td>\n",
       "      <td>Podbělohorská, Praha 5 - Smíchov Panorama</td>\n",
       "      <td>['Dnes']</td>\n",
       "      <td>NaN</td>\n",
       "      <td>['Bankomat Komerční banky', ' (381 m)']</td>\n",
       "      <td>NaN</td>\n",
       "      <td>[\"'boolean-false'\"]</td>\n",
       "      <td>['Pod Lipkami', ' (30 m)']</td>\n",
       "      <td>['15 000 Kč za nemovitost, + provize RK']</td>\n",
       "      <td>NaN</td>\n",
       "      <td>...</td>\n",
       "      <td>['Smíšené zboží Plzeňská\\t187', ' (404 m)']</td>\n",
       "      <td>['Praha-Cibulka', ' (1229 m)']</td>\n",
       "      <td>['Osobní']</td>\n",
       "      <td>['Dálkový vodovod']</td>\n",
       "      <td>NaN</td>\n",
       "      <td>NaN</td>\n",
       "      <td>NaN</td>\n",
       "      <td>NaN</td>\n",
       "      <td>['ZUŠ Na Popelce', ' (224 m)']</td>\n",
       "      <td>['TROIS PETITES POMMES, s.r.o.', ' (343 m)']</td>\n",
       "    </tr>\n",
       "  </tbody>\n",
       "</table>\n",
       "<p>4 rows × 80 columns</p>\n",
       "</div>"
      ],
      "text/plain": [
       "   Unnamed: 0                                       Adresa Aktualizace:  \\\n",
       "0           0  Dobrovolného, Praha 9 - Černý Most Panorama     ['Dnes']   \n",
       "1           0        Bořivojova, Praha 3 - Žižkov Panorama     ['Dnes']   \n",
       "2           0       Tupolevova, Praha 9 - Letňany Panorama     ['Dnes']   \n",
       "3           0    Podbělohorská, Praha 5 - Smíchov Panorama     ['Dnes']   \n",
       "\n",
       "  Balkón:                                  Bankomat: Bazén:  \\\n",
       "0     NaN  ['Bankomat České spořitelny', ' (542 m)']    NaN   \n",
       "1     NaN  ['Bankomat České spořitelny', ' (122 m)']    NaN   \n",
       "2     NaN  ['Bankomat České spořitelny', ' (236 m)']    NaN   \n",
       "3     NaN    ['Bankomat Komerční banky', ' (381 m)']    NaN   \n",
       "\n",
       "         Bezbariérový:                           Bus MHD:  \\\n",
       "0                  NaN  ['Generála Janouška', ' (132 m)']   \n",
       "1  [\"'boolean-false'\"]  ['Tachovské náměstí', ' (443 m)']   \n",
       "2   [\"'boolean-true'\"]          ['Šumperská', ' (177 m)']   \n",
       "3  [\"'boolean-false'\"]         ['Pod Lipkami', ' (30 m)']   \n",
       "\n",
       "                               Celková cena: Cena:  ...  \\\n",
       "0                     ['12 000 Kč za měsíc']   NaN  ...   \n",
       "1   ['9 500 Kč za nemovitost, + provize RK']   NaN  ...   \n",
       "2                     ['13 900 Kč za měsíc']   NaN  ...   \n",
       "3  ['15 000 Kč za nemovitost, + provize RK']   NaN  ...   \n",
       "\n",
       "                                      Večerka:  \\\n",
       "0           ['Albert Supermarket', ' (451 m)']   \n",
       "1               ['Shalamar Foods', ' (165 m)']   \n",
       "2                 ['Penny Market', ' (183 m)']   \n",
       "3  ['Smíšené zboží Plzeňská\\t187', ' (404 m)']   \n",
       "\n",
       "                                  Vlak: Vlastnictví:                Voda:  \\\n",
       "0           ['Praha-Kyje', ' (1445 m)']   ['Osobní']                  NaN   \n",
       "1  ['Praha hlavní nádraží', ' (984 m)']   ['Osobní']                  NaN   \n",
       "2       ['Praha-Čakovice', ' (1695 m)']   ['Osobní']                  NaN   \n",
       "3        ['Praha-Cibulka', ' (1229 m)']   ['Osobní']  ['Dálkový vodovod']   \n",
       "\n",
       "  Vybavení:              Výtah: Výška stropu: Zlevněno:  \\\n",
       "0       NaN                 NaN           NaN       NaN   \n",
       "1       NaN                 NaN           NaN       NaN   \n",
       "2       NaN  [\"'boolean-true'\"]           NaN       NaN   \n",
       "3       NaN                 NaN           NaN       NaN   \n",
       "\n",
       "                                              Škola:  \\\n",
       "0           ['ZUŠ Praha 9, Ratibořická', ' (234 m)']   \n",
       "1  ['Gymnázium Karla Sladkovského Praha 3', ' (56...   \n",
       "2          ['Základní škola Fryčovická', ' (160 m)']   \n",
       "3                     ['ZUŠ Na Popelce', ' (224 m)']   \n",
       "\n",
       "                                             Školka:  \n",
       "0   ['MŠ Sluníčko Praha 9 - Černý Most', ' (279 m)']  \n",
       "1  ['ZŠ a MŠ Jaroslava Seiferta Praha 3', ' (243 ...  \n",
       "2                      ['MŠ Havířovská', ' (255 m)']  \n",
       "3       ['TROIS PETITES POMMES, s.r.o.', ' (343 m)']  \n",
       "\n",
       "[4 rows x 80 columns]"
      ]
     },
     "execution_count": 2,
     "metadata": {},
     "output_type": "execute_result"
    }
   ],
   "source": [
    "import pandas as pd\n",
    "import numpy as np\n",
    "\n",
    "data = pd.read_csv(\"dataset.csv\", sep = ';') #uploading our scraped data\n",
    "data.head(4)"
   ]
  },
  {
   "cell_type": "code",
   "execution_count": 3,
   "metadata": {},
   "outputs": [
    {
     "name": "stdout",
     "output_type": "stream",
     "text": [
      "<class 'pandas.core.frame.DataFrame'>\n",
      "RangeIndex: 7878 entries, 0 to 7877\n",
      "Data columns (total 79 columns):\n",
      "Adresa                                     7878 non-null object\n",
      "Aktualizace:                               7878 non-null object\n",
      "Balkón:                                    1960 non-null object\n",
      "Bankomat:                                  7455 non-null object\n",
      "Bazén:                                     21 non-null object\n",
      "Bezbariérový:                              1744 non-null object\n",
      "Bus MHD:                                   7756 non-null object\n",
      "Celková cena:                              7646 non-null object\n",
      "Cena:                                      47 non-null object\n",
      "Cukrárna:                                  7455 non-null object\n",
      "Datum nastěhování:                         1751 non-null object\n",
      "Datum prohlídky do:                        5 non-null object\n",
      "Datum prohlídky:                           46 non-null object\n",
      "Datum zahájení prodeje:                    8 non-null object\n",
      "Divadlo:                                   7419 non-null object\n",
      "Doprava:                                   3223 non-null object\n",
      "Elektřina:                                 2486 non-null object\n",
      "Energetická náročnost budovy:              5982 non-null object\n",
      "Garáž:                                     1153 non-null object\n",
      "Hospoda:                                   7455 non-null object\n",
      "Hřiště:                                    7761 non-null object\n",
      "ID zakázky:                                6925 non-null object\n",
      "ID:                                        953 non-null object\n",
      "Kino:                                      7415 non-null object\n",
      "Komunikace:                                1037 non-null object\n",
      "Kulturní památka:                          7121 non-null object\n",
      "Lodžie:                                    569 non-null object\n",
      "Lékař:                                     7455 non-null object\n",
      "Lékárna:                                   7455 non-null object\n",
      "Metro:                                     7624 non-null object\n",
      "Náklady na bydlení:                        654 non-null object\n",
      "Obchod:                                    7422 non-null object\n",
      "Odpad:                                     2182 non-null object\n",
      "Parkování:                                 1466 non-null object\n",
      "Plocha podlahová:                          5303 non-null object\n",
      "Plocha pozemku:                            1 non-null object\n",
      "Plocha zahrady:                            70 non-null object\n",
      "Plocha zastavěná:                          215 non-null object\n",
      "Plyn:                                      1731 non-null object\n",
      "Podlaží:                                   7878 non-null object\n",
      "Poloha domu:                               1 non-null object\n",
      "Poznámka k ceně:                           5764 non-null object\n",
      "Počet bytů:                                8 non-null object\n",
      "Pošta:                                     7455 non-null object\n",
      "Provize:                                   173 non-null object\n",
      "Průkaz energetické náročnosti budovy:      159 non-null object\n",
      "Převod do OV:                              24 non-null object\n",
      "Přírodní zajímavost:                       865 non-null object\n",
      "Půdní vestavba:                            40 non-null object\n",
      "Původní cena:                              185 non-null object\n",
      "Restaurace:                                7455 non-null object\n",
      "Rok kolaudace:                             235 non-null object\n",
      "Rok rekonstrukce:                          559 non-null object\n",
      "Sklep:                                     1902 non-null object\n",
      "Sportoviště:                               7761 non-null object\n",
      "Stav objektu:                              7878 non-null object\n",
      "Stav:                                      60 non-null object\n",
      "Stavba:                                    7878 non-null object\n",
      "Telekomunikace:                            2700 non-null object\n",
      "Terasa:                                    1048 non-null object\n",
      "Title                                      7878 non-null object\n",
      "Topení:                                    3143 non-null object\n",
      "Tram:                                      7673 non-null object\n",
      "Typ bytu:                                  331 non-null object\n",
      "Typ domu:                                  1 non-null object\n",
      "Ukazatel energetické náročnosti budovy:    299 non-null object\n",
      "Umístění objektu:                          2503 non-null object\n",
      "Užitná plocha:                             7878 non-null object\n",
      "Veterinář:                                 7455 non-null object\n",
      "Večerka:                                   7455 non-null object\n",
      "Vlak:                                      7750 non-null object\n",
      "Vlastnictví:                               7877 non-null object\n",
      "Voda:                                      2690 non-null object\n",
      "Vybavení:                                  5977 non-null object\n",
      "Výtah:                                     5629 non-null object\n",
      "Výška stropu:                              77 non-null object\n",
      "Zlevněno:                                  185 non-null object\n",
      "Škola:                                     7455 non-null object\n",
      "Školka:                                    7455 non-null object\n",
      "dtypes: object(79)\n",
      "memory usage: 4.7+ MB\n"
     ]
    }
   ],
   "source": [
    "data = data.drop([\"Unnamed: 0\"], axis= 1)  #this drops the unnamed column as it has no value\n",
    "data.info() #inspecting all the variables, their type and number of observations"
   ]
  },
  {
   "cell_type": "code",
   "execution_count": 4,
   "metadata": {},
   "outputs": [],
   "source": [
    "#We rename columns so that we can better work with them \n",
    "#Specifically, adding underscored characters in multi-word names, deleting colons, \n",
    "#rewriting some long names in shorter form (among those that are very likely to be used in the analysis)\n",
    "\n",
    "data.columns = ['Adresa', 'Aktualizace', 'Balkón', 'Bankomat', 'Bazén',\n",
    "       'Bezbariérový', 'Bus_MHD', 'Price_total', 'Price', 'Cukrárna',\n",
    "       'Datum_nastěhování', 'Datum_prohlídky_do', 'Datum_prohlídky',\n",
    "       'Datum_zahájení_prodeje', 'Divadlo', 'Doprava', 'Elektřina',\n",
    "       'Energy_demands', 'Garáž', 'Hospoda', 'Hřiště',\n",
    "       'ID_zakázky:', 'ID', 'Kino', 'Komunikace', 'Kulturní_památka',\n",
    "       'Lodžie', 'Lékař', 'Lékárna', 'Metro', 'Náklady_na_bydlení',\n",
    "       'Obchod', 'Odpad', 'Parkování', 'Plocha_podlahová',\n",
    "       'Plocha_pozemku', 'Plocha_zahrady', 'Plocha_zastavěná', 'Plyn',\n",
    "       'Podlaží', 'Poloha domu', 'Poznámka_k_ceně', 'Počet bytů', 'Pošta',\n",
    "       'Provize', 'Energy_demands_II', 'Převod_do_OV',\n",
    "       'Přírodní zajímavost', 'Půdní_vestavba', 'Původní_cena',\n",
    "       'Restaurace', 'Rok_kolaudace', 'Rok_rekonstrukce', 'Sklep',\n",
    "       'Sportoviště', 'Stav_objektu', 'Stav', 'Stavba', 'Telekomunikace',\n",
    "       'Terasa', 'Title', 'Topení', 'Tram', 'Typ_bytu', 'Typ_domu',\n",
    "       'Energy_demands_III', 'Umístění_objektu',\n",
    "       'Area', 'Veterinář', 'Večerka', 'Vlak', 'Vlastnictví',\n",
    "       'Voda', 'Vybavení', 'Výtah', 'Výška_stropu', 'Zlevněno', 'Škola',\n",
    "       'Školka']"
   ]
  },
  {
   "cell_type": "markdown",
   "metadata": {},
   "source": [
    "In total, we have 7878 observations and 79 columns. Neverheless, as we can see above, many of the columns contain only a relatively limited information (in terms of number of their observations), specifically 49 variables have more than 10% of missing values. Hence, the strenght of their evidence is limited and we need to be aware of this limitation. Variables with extreme portion of missing values (> 90%) deserve special attention and we should rather not include them in the analysis at all because they don't tell us much."
   ]
  },
  {
   "cell_type": "code",
   "execution_count": 5,
   "metadata": {
    "scrolled": true
   },
   "outputs": [
    {
     "data": {
      "text/plain": [
       "25"
      ]
     },
     "execution_count": 5,
     "metadata": {},
     "output_type": "execute_result"
    }
   ],
   "source": [
    "n_observations = 7878\n",
    "empty = data.isnull().sum()\n",
    "empty[empty > n_observations*0.9].sort_values(ascending = False).count()\n",
    "#number of variables that miss more than 90% of observations"
   ]
  },
  {
   "cell_type": "code",
   "execution_count": 6,
   "metadata": {},
   "outputs": [
    {
     "data": {
      "text/plain": [
       "Typ_domu                  7877\n",
       "Plocha_pozemku            7877\n",
       "Poloha domu               7877\n",
       "Datum_prohlídky_do        7873\n",
       "Datum_zahájení_prodeje    7870\n",
       "Počet bytů                7870\n",
       "Bazén                     7857\n",
       "Převod_do_OV              7854\n",
       "Půdní_vestavba            7838\n",
       "Datum_prohlídky           7832\n",
       "Price                     7831\n",
       "Stav                      7818\n",
       "Plocha_zahrady            7808\n",
       "Výška_stropu              7801\n",
       "Energy_demands_II         7719\n",
       "Provize                   7705\n",
       "Původní_cena              7693\n",
       "Zlevněno                  7693\n",
       "Plocha_zastavěná          7663\n",
       "Rok_kolaudace             7643\n",
       "Energy_demands_III        7579\n",
       "Typ_bytu                  7547\n",
       "Rok_rekonstrukce          7319\n",
       "Lodžie                    7309\n",
       "Náklady_na_bydlení        7224\n",
       "dtype: int64"
      ]
     },
     "execution_count": 6,
     "metadata": {},
     "output_type": "execute_result"
    }
   ],
   "source": [
    "empty[empty > n_observations*0.9].sort_values(ascending = False) #list of those variables"
   ]
  },
  {
   "cell_type": "markdown",
   "metadata": {},
   "source": [
    "The most suitable variables are these 31 that miss less than 90% of observations. Regarding the aim of our project, it is pleasant that variable 'Metro' can be found here. In our analysis, we will consider 6 more variables, i.e. all variables that contain more than 66% of observations."
   ]
  },
  {
   "cell_type": "code",
   "execution_count": 7,
   "metadata": {},
   "outputs": [
    {
     "data": {
      "text/plain": [
       "Kulturní_památka    757\n",
       "Kino                463\n",
       "Divadlo             459\n",
       "Obchod              456\n",
       "Restaurace          423\n",
       "Bankomat            423\n",
       "Cukrárna            423\n",
       "Hospoda             423\n",
       "Lékař               423\n",
       "Lékárna             423\n",
       "Škola               423\n",
       "Pošta               423\n",
       "Školka              423\n",
       "Veterinář           423\n",
       "Večerka             423\n",
       "Metro               254\n",
       "Price_total         232\n",
       "Tram                205\n",
       "Vlak                128\n",
       "Bus_MHD             122\n",
       "Sportoviště         117\n",
       "Hřiště              117\n",
       "Vlastnictví           1\n",
       "Podlaží               0\n",
       "Area                  0\n",
       "Title                 0\n",
       "Stavba                0\n",
       "Stav_objektu          0\n",
       "Aktualizace           0\n",
       "Adresa                0\n",
       "dtype: int64"
      ]
     },
     "execution_count": 7,
     "metadata": {},
     "output_type": "execute_result"
    }
   ],
   "source": [
    "empty[empty < n_observations*0.1].sort_values(ascending = False)"
   ]
  },
  {
   "cell_type": "code",
   "execution_count": 8,
   "metadata": {},
   "outputs": [
    {
     "data": {
      "text/plain": [
       "Plocha_podlahová    2575\n",
       "Výtah               2249\n",
       "Poznámka_k_ceně     2114\n",
       "Vybavení            1901\n",
       "Energy_demands      1896\n",
       "ID_zakázky:          953\n",
       "dtype: int64"
      ]
     },
     "execution_count": 8,
     "metadata": {},
     "output_type": "execute_result"
    }
   ],
   "source": [
    "empty[np.all([(empty > n_observations*0.1),(empty < n_observations*0.33)], axis = 0)].sort_values(ascending = False)"
   ]
  },
  {
   "cell_type": "markdown",
   "metadata": {},
   "source": [
    "## II. Dataset adjustments\n",
    "At this point, two things need to be done. Adjusting the dataset only for variables that have some evidence power, and adjusting the column 'Price' as its string values are currently very messy which makes it impossible to work with this crucial variable in our analysis.\n",
    "\n",
    "### a) Keeping worthy variables only\n",
    "As discussed above, we consider only variables with more than 66% of observations. Let's adjust the dataset accordingly..."
   ]
  },
  {
   "cell_type": "code",
   "execution_count": 9,
   "metadata": {
    "scrolled": true
   },
   "outputs": [
    {
     "data": {
      "text/plain": [
       "Index(['Adresa', 'Aktualizace', 'Bankomat', 'Bus_MHD', 'Price_total',\n",
       "       'Cukrárna', 'Divadlo', 'Energy_demands', 'Hospoda', 'Hřiště',\n",
       "       'ID_zakázky:', 'Kino', 'Kulturní_památka', 'Lékař', 'Lékárna', 'Metro',\n",
       "       'Obchod', 'Plocha_podlahová', 'Podlaží', 'Poznámka_k_ceně', 'Pošta',\n",
       "       'Restaurace', 'Sportoviště', 'Stav_objektu', 'Stavba', 'Title', 'Tram',\n",
       "       'Area', 'Veterinář', 'Večerka', 'Vlak', 'Vlastnictví', 'Vybavení',\n",
       "       'Výtah', 'Škola', 'Školka'],\n",
       "      dtype='object')"
      ]
     },
     "execution_count": 9,
     "metadata": {},
     "output_type": "execute_result"
    }
   ],
   "source": [
    "variable = empty[empty < n_observations*0.33]\n",
    "variable.index"
   ]
  },
  {
   "cell_type": "code",
   "execution_count": 10,
   "metadata": {},
   "outputs": [],
   "source": [
    "data = data[variable.index]"
   ]
  },
  {
   "cell_type": "code",
   "execution_count": 11,
   "metadata": {
    "scrolled": true
   },
   "outputs": [
    {
     "data": {
      "text/html": [
       "<div>\n",
       "<style scoped>\n",
       "    .dataframe tbody tr th:only-of-type {\n",
       "        vertical-align: middle;\n",
       "    }\n",
       "\n",
       "    .dataframe tbody tr th {\n",
       "        vertical-align: top;\n",
       "    }\n",
       "\n",
       "    .dataframe thead th {\n",
       "        text-align: right;\n",
       "    }\n",
       "</style>\n",
       "<table border=\"1\" class=\"dataframe\">\n",
       "  <thead>\n",
       "    <tr style=\"text-align: right;\">\n",
       "      <th></th>\n",
       "      <th>Adresa</th>\n",
       "      <th>Aktualizace</th>\n",
       "      <th>Bankomat</th>\n",
       "      <th>Bus_MHD</th>\n",
       "      <th>Price_total</th>\n",
       "      <th>Cukrárna</th>\n",
       "      <th>Divadlo</th>\n",
       "      <th>Energy_demands</th>\n",
       "      <th>Hospoda</th>\n",
       "      <th>Hřiště</th>\n",
       "      <th>...</th>\n",
       "      <th>Tram</th>\n",
       "      <th>Area</th>\n",
       "      <th>Veterinář</th>\n",
       "      <th>Večerka</th>\n",
       "      <th>Vlak</th>\n",
       "      <th>Vlastnictví</th>\n",
       "      <th>Vybavení</th>\n",
       "      <th>Výtah</th>\n",
       "      <th>Škola</th>\n",
       "      <th>Školka</th>\n",
       "    </tr>\n",
       "  </thead>\n",
       "  <tbody>\n",
       "    <tr>\n",
       "      <td>0</td>\n",
       "      <td>Dobrovolného, Praha 9 - Černý Most Panorama</td>\n",
       "      <td>['Dnes']</td>\n",
       "      <td>['Bankomat České spořitelny', ' (542 m)']</td>\n",
       "      <td>['Generála Janouška', ' (132 m)']</td>\n",
       "      <td>['12 000 Kč za měsíc']</td>\n",
       "      <td>['Shisha Room Dvin', ' (1144 m)']</td>\n",
       "      <td>['Přírodní divadlo Dády Stoklasy', ' (3152 m)']</td>\n",
       "      <td>['Třída G - Mimořádně nehospodárná']</td>\n",
       "      <td>['Šenk Na Rajské', ' (476 m)']</td>\n",
       "      <td>['Dětské hřiště Rajský vrch', ' (162 m)']</td>\n",
       "      <td>...</td>\n",
       "      <td>['Lehovec', ' (1136 m)']</td>\n",
       "      <td>['26m2']</td>\n",
       "      <td>['MetropoleVet Praha s.r.o.', ' (623 m)']</td>\n",
       "      <td>['Albert Supermarket', ' (451 m)']</td>\n",
       "      <td>['Praha-Kyje', ' (1445 m)']</td>\n",
       "      <td>['Osobní']</td>\n",
       "      <td>NaN</td>\n",
       "      <td>NaN</td>\n",
       "      <td>['ZUŠ Praha 9, Ratibořická', ' (234 m)']</td>\n",
       "      <td>['MŠ Sluníčko Praha 9 - Černý Most', ' (279 m)']</td>\n",
       "    </tr>\n",
       "    <tr>\n",
       "      <td>1</td>\n",
       "      <td>Bořivojova, Praha 3 - Žižkov Panorama</td>\n",
       "      <td>['Dnes']</td>\n",
       "      <td>['Bankomat České spořitelny', ' (122 m)']</td>\n",
       "      <td>['Tachovské náměstí', ' (443 m)']</td>\n",
       "      <td>['9 500 Kč za nemovitost, + provize RK']</td>\n",
       "      <td>['Klub JINÝ KAFE', ' (283 m)']</td>\n",
       "      <td>['Žižkovské divadlo Járy Cimrmana', ' (280 m)']</td>\n",
       "      <td>['Třída G - Mimořádně nehospodárná']</td>\n",
       "      <td>['Hospůdka U Habásků', ' (209 m)']</td>\n",
       "      <td>['Dětské hřiště Bořivojova', ' (294 m)']</td>\n",
       "      <td>...</td>\n",
       "      <td>['Lipanská', ' (186 m)']</td>\n",
       "      <td>['23m2']</td>\n",
       "      <td>['MVDr. Jan Dubský', ' (425 m)']</td>\n",
       "      <td>['Shalamar Foods', ' (165 m)']</td>\n",
       "      <td>['Praha hlavní nádraží', ' (984 m)']</td>\n",
       "      <td>['Osobní']</td>\n",
       "      <td>NaN</td>\n",
       "      <td>NaN</td>\n",
       "      <td>['Gymnázium Karla Sladkovského Praha 3', ' (56...</td>\n",
       "      <td>['ZŠ a MŠ Jaroslava Seiferta Praha 3', ' (243 ...</td>\n",
       "    </tr>\n",
       "    <tr>\n",
       "      <td>2</td>\n",
       "      <td>Tupolevova, Praha 9 - Letňany Panorama</td>\n",
       "      <td>['Dnes']</td>\n",
       "      <td>['Bankomat České spořitelny', ' (236 m)']</td>\n",
       "      <td>['Šumperská', ' (177 m)']</td>\n",
       "      <td>['13 900 Kč za měsíc']</td>\n",
       "      <td>['Café Infinity', ' (204 m)']</td>\n",
       "      <td>['Divadlo Pohádka', ' (1057 m)']</td>\n",
       "      <td>NaN</td>\n",
       "      <td>['Pivnice na Královce', ' (1824 m)']</td>\n",
       "      <td>['Venkovní posilovna u obchodního centra', ' (...</td>\n",
       "      <td>...</td>\n",
       "      <td>['Sídliště Ďáblice', ' (1906 m)']</td>\n",
       "      <td>['52m2']</td>\n",
       "      <td>['Veterinární ordinace Letňany', ' (302 m)']</td>\n",
       "      <td>['Penny Market', ' (183 m)']</td>\n",
       "      <td>['Praha-Čakovice', ' (1695 m)']</td>\n",
       "      <td>['Osobní']</td>\n",
       "      <td>NaN</td>\n",
       "      <td>[\"'boolean-true'\"]</td>\n",
       "      <td>['Základní škola Fryčovická', ' (160 m)']</td>\n",
       "      <td>['MŠ Havířovská', ' (255 m)']</td>\n",
       "    </tr>\n",
       "    <tr>\n",
       "      <td>3</td>\n",
       "      <td>Podbělohorská, Praha 5 - Smíchov Panorama</td>\n",
       "      <td>['Dnes']</td>\n",
       "      <td>['Bankomat Komerční banky', ' (381 m)']</td>\n",
       "      <td>['Pod Lipkami', ' (30 m)']</td>\n",
       "      <td>['15 000 Kč za nemovitost, + provize RK']</td>\n",
       "      <td>['Cukrárna Pod Marjánkou', ' (1333 m)']</td>\n",
       "      <td>['JUDr. Jiří Šilhán', ' (279 m)']</td>\n",
       "      <td>['Třída B - Velmi úsporná']</td>\n",
       "      <td>['Restaurace Na zámyšli', ' (423 m)']</td>\n",
       "      <td>['Dětské hřiště Na Vršku', ' (116 m)']</td>\n",
       "      <td>...</td>\n",
       "      <td>['Kavalírka', ' (370 m)']</td>\n",
       "      <td>['58m2']</td>\n",
       "      <td>['Veterinární klinika - MVDr. Pavel Santar, MV...</td>\n",
       "      <td>['Smíšené zboží Plzeňská\\t187', ' (404 m)']</td>\n",
       "      <td>['Praha-Cibulka', ' (1229 m)']</td>\n",
       "      <td>['Osobní']</td>\n",
       "      <td>NaN</td>\n",
       "      <td>NaN</td>\n",
       "      <td>['ZUŠ Na Popelce', ' (224 m)']</td>\n",
       "      <td>['TROIS PETITES POMMES, s.r.o.', ' (343 m)']</td>\n",
       "    </tr>\n",
       "    <tr>\n",
       "      <td>4</td>\n",
       "      <td>Mezi domy, Praha 4 - Písnice Panorama</td>\n",
       "      <td>['Dnes']</td>\n",
       "      <td>['Bankomat Komerční banky', ' (780 m)']</td>\n",
       "      <td>['U Libušské sokolovny', ' (275 m)']</td>\n",
       "      <td>['19 500 Kč za měsíc']</td>\n",
       "      <td>['Cukrářství Viktoria, s.r.o.', ' (900 m)']</td>\n",
       "      <td>['Tradiční loutkové divadlo Zvoneček', ' (3145...</td>\n",
       "      <td>['Třída D - Méně úsporná č. 78/2013 Sb. podle ...</td>\n",
       "      <td>['Hospůdka U Báti', ' (509 m)']</td>\n",
       "      <td>['Dětské hřiště Pyramida Na Okruhu', ' (78 m)']</td>\n",
       "      <td>...</td>\n",
       "      <td>['Levského', ' (1815 m)']</td>\n",
       "      <td>['93m2']</td>\n",
       "      <td>['Vetnemo, s.r.o.', ' (634 m)']</td>\n",
       "      <td>['VIVACOMEX, spol. s r.o.', ' (450 m)']</td>\n",
       "      <td>['Praha-Krč', ' (3635 m)']</td>\n",
       "      <td>['Osobní']</td>\n",
       "      <td>NaN</td>\n",
       "      <td>[\"'boolean-true'\"]</td>\n",
       "      <td>['Střední odborné učiliště potravinářské Praha...</td>\n",
       "      <td>['Mateřská škola Mezi Domy', ' (105 m)']</td>\n",
       "    </tr>\n",
       "  </tbody>\n",
       "</table>\n",
       "<p>5 rows × 36 columns</p>\n",
       "</div>"
      ],
      "text/plain": [
       "                                        Adresa Aktualizace  \\\n",
       "0  Dobrovolného, Praha 9 - Černý Most Panorama    ['Dnes']   \n",
       "1        Bořivojova, Praha 3 - Žižkov Panorama    ['Dnes']   \n",
       "2       Tupolevova, Praha 9 - Letňany Panorama    ['Dnes']   \n",
       "3    Podbělohorská, Praha 5 - Smíchov Panorama    ['Dnes']   \n",
       "4        Mezi domy, Praha 4 - Písnice Panorama    ['Dnes']   \n",
       "\n",
       "                                    Bankomat  \\\n",
       "0  ['Bankomat České spořitelny', ' (542 m)']   \n",
       "1  ['Bankomat České spořitelny', ' (122 m)']   \n",
       "2  ['Bankomat České spořitelny', ' (236 m)']   \n",
       "3    ['Bankomat Komerční banky', ' (381 m)']   \n",
       "4    ['Bankomat Komerční banky', ' (780 m)']   \n",
       "\n",
       "                                Bus_MHD  \\\n",
       "0     ['Generála Janouška', ' (132 m)']   \n",
       "1     ['Tachovské náměstí', ' (443 m)']   \n",
       "2             ['Šumperská', ' (177 m)']   \n",
       "3            ['Pod Lipkami', ' (30 m)']   \n",
       "4  ['U Libušské sokolovny', ' (275 m)']   \n",
       "\n",
       "                                 Price_total  \\\n",
       "0                     ['12 000 Kč za měsíc']   \n",
       "1   ['9 500 Kč za nemovitost, + provize RK']   \n",
       "2                     ['13 900 Kč za měsíc']   \n",
       "3  ['15 000 Kč za nemovitost, + provize RK']   \n",
       "4                     ['19 500 Kč za měsíc']   \n",
       "\n",
       "                                      Cukrárna  \\\n",
       "0            ['Shisha Room Dvin', ' (1144 m)']   \n",
       "1               ['Klub JINÝ KAFE', ' (283 m)']   \n",
       "2                ['Café Infinity', ' (204 m)']   \n",
       "3      ['Cukrárna Pod Marjánkou', ' (1333 m)']   \n",
       "4  ['Cukrářství Viktoria, s.r.o.', ' (900 m)']   \n",
       "\n",
       "                                             Divadlo  \\\n",
       "0    ['Přírodní divadlo Dády Stoklasy', ' (3152 m)']   \n",
       "1    ['Žižkovské divadlo Járy Cimrmana', ' (280 m)']   \n",
       "2                   ['Divadlo Pohádka', ' (1057 m)']   \n",
       "3                  ['JUDr. Jiří Šilhán', ' (279 m)']   \n",
       "4  ['Tradiční loutkové divadlo Zvoneček', ' (3145...   \n",
       "\n",
       "                                      Energy_demands  \\\n",
       "0               ['Třída G - Mimořádně nehospodárná']   \n",
       "1               ['Třída G - Mimořádně nehospodárná']   \n",
       "2                                                NaN   \n",
       "3                        ['Třída B - Velmi úsporná']   \n",
       "4  ['Třída D - Méně úsporná č. 78/2013 Sb. podle ...   \n",
       "\n",
       "                                 Hospoda  \\\n",
       "0         ['Šenk Na Rajské', ' (476 m)']   \n",
       "1     ['Hospůdka U Habásků', ' (209 m)']   \n",
       "2   ['Pivnice na Královce', ' (1824 m)']   \n",
       "3  ['Restaurace Na zámyšli', ' (423 m)']   \n",
       "4        ['Hospůdka U Báti', ' (509 m)']   \n",
       "\n",
       "                                              Hřiště  ...  \\\n",
       "0          ['Dětské hřiště Rajský vrch', ' (162 m)']  ...   \n",
       "1           ['Dětské hřiště Bořivojova', ' (294 m)']  ...   \n",
       "2  ['Venkovní posilovna u obchodního centra', ' (...  ...   \n",
       "3             ['Dětské hřiště Na Vršku', ' (116 m)']  ...   \n",
       "4    ['Dětské hřiště Pyramida Na Okruhu', ' (78 m)']  ...   \n",
       "\n",
       "                                Tram      Area  \\\n",
       "0           ['Lehovec', ' (1136 m)']  ['26m2']   \n",
       "1           ['Lipanská', ' (186 m)']  ['23m2']   \n",
       "2  ['Sídliště Ďáblice', ' (1906 m)']  ['52m2']   \n",
       "3          ['Kavalírka', ' (370 m)']  ['58m2']   \n",
       "4          ['Levského', ' (1815 m)']  ['93m2']   \n",
       "\n",
       "                                           Veterinář  \\\n",
       "0          ['MetropoleVet Praha s.r.o.', ' (623 m)']   \n",
       "1                   ['MVDr. Jan Dubský', ' (425 m)']   \n",
       "2       ['Veterinární ordinace Letňany', ' (302 m)']   \n",
       "3  ['Veterinární klinika - MVDr. Pavel Santar, MV...   \n",
       "4                    ['Vetnemo, s.r.o.', ' (634 m)']   \n",
       "\n",
       "                                       Večerka  \\\n",
       "0           ['Albert Supermarket', ' (451 m)']   \n",
       "1               ['Shalamar Foods', ' (165 m)']   \n",
       "2                 ['Penny Market', ' (183 m)']   \n",
       "3  ['Smíšené zboží Plzeňská\\t187', ' (404 m)']   \n",
       "4      ['VIVACOMEX, spol. s r.o.', ' (450 m)']   \n",
       "\n",
       "                                   Vlak Vlastnictví Vybavení  \\\n",
       "0           ['Praha-Kyje', ' (1445 m)']  ['Osobní']      NaN   \n",
       "1  ['Praha hlavní nádraží', ' (984 m)']  ['Osobní']      NaN   \n",
       "2       ['Praha-Čakovice', ' (1695 m)']  ['Osobní']      NaN   \n",
       "3        ['Praha-Cibulka', ' (1229 m)']  ['Osobní']      NaN   \n",
       "4            ['Praha-Krč', ' (3635 m)']  ['Osobní']      NaN   \n",
       "\n",
       "                Výtah                                              Škola  \\\n",
       "0                 NaN           ['ZUŠ Praha 9, Ratibořická', ' (234 m)']   \n",
       "1                 NaN  ['Gymnázium Karla Sladkovského Praha 3', ' (56...   \n",
       "2  [\"'boolean-true'\"]          ['Základní škola Fryčovická', ' (160 m)']   \n",
       "3                 NaN                     ['ZUŠ Na Popelce', ' (224 m)']   \n",
       "4  [\"'boolean-true'\"]  ['Střední odborné učiliště potravinářské Praha...   \n",
       "\n",
       "                                              Školka  \n",
       "0   ['MŠ Sluníčko Praha 9 - Černý Most', ' (279 m)']  \n",
       "1  ['ZŠ a MŠ Jaroslava Seiferta Praha 3', ' (243 ...  \n",
       "2                      ['MŠ Havířovská', ' (255 m)']  \n",
       "3       ['TROIS PETITES POMMES, s.r.o.', ' (343 m)']  \n",
       "4           ['Mateřská škola Mezi Domy', ' (105 m)']  \n",
       "\n",
       "[5 rows x 36 columns]"
      ]
     },
     "execution_count": 11,
     "metadata": {},
     "output_type": "execute_result"
    }
   ],
   "source": [
    "data[variable.index].head()"
   ]
  },
  {
   "cell_type": "code",
   "execution_count": 12,
   "metadata": {},
   "outputs": [],
   "source": [
    "data[variable.index].head().to_csv('dataview.csv', sep = ';')"
   ]
  },
  {
   "cell_type": "markdown",
   "metadata": {},
   "source": [
    "# Data cleaning and processing"
   ]
  },
  {
   "cell_type": "markdown",
   "metadata": {},
   "source": [
    "## Cleaning the square brackets in the whole dataset"
   ]
  },
  {
   "cell_type": "code",
   "execution_count": 13,
   "metadata": {},
   "outputs": [],
   "source": [
    "data = data.applymap(lambda x: x.strip(\"['']\") if type(x) == str else x) #deletes all the square brackets if type string"
   ]
  },
  {
   "cell_type": "markdown",
   "metadata": {},
   "source": [
    "### b) Dealing with messy prices (alternative 1 - Sila advice)"
   ]
  },
  {
   "cell_type": "markdown",
   "metadata": {},
   "source": [
    "Before we can do the analysis, we need to deal with the complicated form of stated prices and obtain purely the monthly rent in CZK, without other specification (in other words, we need to extract integer out of the string values).\n",
    "\n",
    "In order to be able to suitably merge the resulting list of prices to the original dataset, it is neccessary to get rid of rows with empty prices values beforehand. Furthermore, during the analysis, we explored two error values in the dataset (tiny but with serious consequences): observation data.Price_total[984] has value of \"12 CZK\" which is nonsense and observation data.Price_total[6727] has value \"23 214 CZK (850 EUR)\" which cases troubles in the analysis and we need to get rid of both of these errors beforehand."
   ]
  },
  {
   "cell_type": "code",
   "execution_count": 14,
   "metadata": {},
   "outputs": [],
   "source": [
    "def get_price(x):\n",
    "    if ~(type(x) == float and np.isnan(x)): #this check if a valus is not an NA\n",
    "        kc = x.split('Kč') #splits the string by Kc\n",
    "        kc_nogap = kc[0].replace(' ','') #gets the string left of Kc and deletes spaces\n",
    "        kc_int = int(kc_nogap) #converts to int\n",
    "        return kc_int \n",
    "    else:\n",
    "        return x #if NA stay NA"
   ]
  },
  {
   "cell_type": "code",
   "execution_count": 15,
   "metadata": {
    "scrolled": true
   },
   "outputs": [],
   "source": [
    "data['Cena'] = data['Price_total'].apply(get_price) #apply the above defined function to column Price_total"
   ]
  },
  {
   "cell_type": "code",
   "execution_count": 16,
   "metadata": {
    "scrolled": true
   },
   "outputs": [
    {
     "data": {
      "text/plain": [
       "0       12000.0\n",
       "1        9500.0\n",
       "2       13900.0\n",
       "3       15000.0\n",
       "4       19500.0\n",
       "         ...   \n",
       "7873    35000.0\n",
       "7874    33000.0\n",
       "7875    55000.0\n",
       "7876    75000.0\n",
       "7877    35000.0\n",
       "Name: Cena, Length: 7878, dtype: float64"
      ]
     },
     "execution_count": 16,
     "metadata": {},
     "output_type": "execute_result"
    }
   ],
   "source": [
    "data['Cena']"
   ]
  },
  {
   "cell_type": "markdown",
   "metadata": {},
   "source": [
    "### b) Dealing with messy prices (alternative 3 - split method)"
   ]
  },
  {
   "cell_type": "code",
   "execution_count": 17,
   "metadata": {},
   "outputs": [],
   "source": [
    "prices_strings = [str(x) for x in data.Price_total]"
   ]
  },
  {
   "cell_type": "code",
   "execution_count": 18,
   "metadata": {},
   "outputs": [
    {
     "name": "stdout",
     "output_type": "stream",
     "text": [
      "['12000', '9500', '13900', '15000', '19500', '17000', '12500', '8500', '13000', '34900', '13000', '15200', '29000', '13490', '14500', '14500', '19500', '13000', '18000', '17000', '17500', '15500', '7500', '12500', '27000', '20000', '15000', 'nan', 'nan', '15500', '20000', '14800', '110000', '39000', '19000', '14700', '18000', '16000', '18900', '11990', '25000', '13500', '14500', '21000', '17000', '35000', '30000', '60497', '43000', '35000', '99500', '49500', '49000', '33000', '24000', '13000', '12000', '15288', '9500', '10600', '14500', '9000', '18800', '11500', '15000', '9950', '16000', '14450', '8450', '8000', '12000', '16500', '14500', 'nan', '12250', '13900', '17500', 'nan', '9450', '9500', '12000', '9400', '9000', '11500', '25000', '14000', '15500', '15000', '14800', '12200', '19000', '14000', '7500', '14500', '14000', '16000', '25500', '13500', '15000', '13250', '14000', '14000', '12500', '15500', '21000', '17500', '22000', '17000', '13500', '20000', '10500', '14000', '13000', '8700', '9950', '11000', '11600', '9500', '14500', '10000', '13000', '17000', '13500', '12500', '14000', '14000', '15000', '23500', '18500', '20800', '17300', '13500', '14900', '13000', '10200', '11500', '16900', '15300', '13000', '17000', '13500', '14300', '23900', '18000', '13800', '15500', 'nan', '11500', '12300', '14200', '10900', '11500', '10800', '19900', '11000', '11000', '18000', '18000', '27000', '13900', '20000', '12200', '19000', '13000', '26100', '11500', '18500', '20500', '21000', '10000', '12000', '15000', '19500', '9999', '16900', '13500', '12500', '12500', '19800', '10000', '20000', '20000', '20000', '13000', '15000', '13000', '18000', '7000', '10000', '7500', '30000', '15000', '19500', '16000', '13500', '9500', '23000', '11000', '14000', '10000', '29000', '15000', '10500', '10000', '15000', '20000', '14000', '7000', '6500', '20000', '15000', '23000', '11000', '17000', '19500', '19000', '14000', '15500', '23500', '12500', '18900', '15500', '39800', '16900', '14500', '13500', '18000', '10000', '14300', '14900', '18000', '13000', '16500', '70000', '18000', '18000', '11500', '15000', '12000', '15500', '13500', '12000', '10000', '28900', '17000', '11800', '11000', '14500', '14000', '20000', '22999', '14500', '10000', '10000', '16000', '18000', '16000', '12500', '14000', '10500', '11000', '11000', '13000', '14000', '13000', '23000', '13000', '21000', '19999', '9900', '10000', '9500', '11900', '17900', '19500', '11000', '19000', '14000', '11000', '20000', '26000', '11000', '17000', '13000', '35000', '14500', '13900', '12900', '17500', '8490', '14500', '14900', '8000', '11990', '14990', '7990', '29990', '29000', '31000', 'nan', '15000', '11990', '16995', '9490', '14990', '18990', '11990', '8990', '16000', '12200', '12700', '15000', '48000', '12000', '14000', '15000', '22900', '7400', '13900', '14900', '9900', 'nan', '17000', '15500', '14000', '15500', '35000', '17500', '18000', '9500', '49000', '14996', '16500', '13900', '18610', '11800', '14800', '13900', '14000', '20000', '17000', '16000', '14000', '28000', '33000', '10500', '10500', '10000', '15000', '35000', '35000', '13990', '13990', '18990', '8990', '11000', '11990', '8990', '15000', '14000', '15000', '65000', '16300', '28000', '10500', '13500', '13000', '19900', '25000', '35000', '15000', '14000', '20000', '13000', '20000', '12000', '10000', '25000', '17000', '11900', '20000', '16000', '9500', '8900', '22000', '16000', '26500', '15000', '22900', '17000', '18500', '5700', '24000', '11000', '9000', '16500', '17000', '18800', '14900', '14000', '11000', '10000', '13500', '15000', '13900', '13500', '13000', '16000', '11000', '24000', '8000', '14000', '22000', '20500', '24000', '22000', '18000', '25000', '25000', '28000', '28000', '23000', '32000', '18000', '23500', '22000', '22000', '15000', '10000', '20000', '10000', '12000', '18000', '13000', '15000', '19000', '20000', '33000', '33000', '25000', '12990', '18000', 'nan', '14000', '29000', '12000', '11000', '12000', '26000', '26000', '14500', 'nan', '25000', '10000', '18000', '31000', '13800', '18500', '23500', '12900', '21900', '18000', '19000', '12500', '18000', '19900', '10000', '12900', '11500', '14900', '12000', '7000', '18000', '31000', '11500', '15000', '22500', '13700', '18990', '21990', '13100', '22490', '21990', '13990', '15490', '27900', '33990', '21490', '14900', '13900', '14100', '19900', '15500', '19900', '21900', '15900', '19900', '17000', '25900', 'nan', 'nan', 'nan', '25000', '13990', '6499', '15000', '12950', '11950', '9990', '13450', '27000', '9000', '23000', '33000', '8500', '9000', '8800', '18500', '20000', '33000', '36000', '19000', '17500', '30000', '18000', '10000', '18500', '20000', '32900', '16000', '13000', '29000', '16000', '20000', '12000', '15000', '24000', '19000', '11000', '9000', '14990', '12000', '14000', '10000', '9800', '15500', '11000', '18000', '14000', '12900', '11000', '14500', '11000', '18000', '13000', 'nan', '11500', '13500', '10000', '18000', '13500', '15000', '18000', '8000', '8500', '14000', '12000', '14900', '12500', '12000', '15400', '8000', '13500', '20000', '14990', '12700', '16000', '12000', '13500', '12400', '13500', '12500', '13000', '13000', '15250', '17000', '17000', '18000', '13000', '21000', '22000', '8000', '15000', '10900', '20000', '11500', '14000', '25000', '18000', '20000', '14000', 'nan', '18000', '12000', '18500', '13900', '15000', 'nan', '10900', '15000', '17500', '19000', '15000', '15000', '19500', '11500', 'nan', '17000', '13000', '9000', 'nan', '40000', '14000', '18000', '22000', '15000', '12000', '24000', '16900', '10500', '25700', '14000', '32000', '17000', '24000', '16200', '14000', '12000', '15500', '18000', '13000', '20000', '14000', '18000', '15900', 'nan', '11000', '5500', '13500', '11500', '15999', '26500', '10500', '15500', '12000', '15000', '16000', '15500', '33000', '44900', '17205', '23058', '11000', '12000', '15000', '10000', '8500', '16500', '14000', 'nan', '23000', '9900', '18000', '9000', '16000', '12000', '39000', '39500', '12500', '13000', '15000', '12000', '30900', '14000', '24000', '16000', '14500', '20000', '14000', '18000', '11500', '22999', '29000', '14000', '18000', '16000', '33000', '15000', '17000', '19000', '15000', '13500', '10000', '18000', '17900', '9000', '12500', '16900', '11700', '10500', '16000', '23500', '23000', '15000', '18000', '11000', '16500', '7900', '16000', '11400', '11990', '20000', '17500', '29900', '43000', '18900', '23000', '16500', '19000', '14000', '13900', '13900', '80000', '15400', '9900', '19950', '12000', '16000', '9990', '12000', '11900', '14900', '11500', '16000', '16000', '14500', '14000', '22900', 'nan', '21000', '15500', '20000', '28000', '28000', '15000', '20000', '15000', '14500', '15000', '13900', '14000', '25000', '7900', '6000', '11000', '6000', '13700', '16500', '23000', '15500', '12000', '11000', '16000', '6500', '18900', '12990', '11900', '24000', '11500', '35000', '15000', '9900', '32000', '15000', '13500', '16500', '20000', '14000', '11900', '17500', '45000', '52000', '47000', '16000', '49900', '38000', '52000', '42000', '17500', '39000', '42000', '43000', '25400', '52000', '49900', '44000', '19000', '25000', 'nan', '62000', 'nan', '28000', '27000', '26000', '23000', '14100', '13800', '16200', '30000', '14000', '27000', '15000', '100000', '90000', '18000', '43000', '14000', '10000', '18000', '19900', '54500', '25000', '36000', '43000', '175000', '39000', '42000', '53000', '25200', '15000', '15000', '35200', '18500', '11500', '61000', '20000', '19900', '24000', '18000', '25000', '65000', '30000', 'nan', '69217', '19000', '56900', '24000', '88500', '58900', '86550', '84000', '33000', '22900', '33800', '64800', '34800', '59800', '17900', '39000', '18500', '16800', '20000', '13000', 'nan', '19600', '13900', '40000', '15000', '10000', '39000', '28000', '35000', '35000', '24500', '55000', '12000', '70000', '24000', '24000', '26000', '17000', '19000', '22500', '40000', '18000', '34000', '25000', '14000', '39000', 'nan', '13900', '16000', '33800', '11900', '9900', '17000', '12500', '14000', '64800', '13000', '13000', '8990', '26000', '53000', '18000', '9990', '12500', '14500', '17000', '25000', '8000', '11000', '10500', '11500', '15000', '14000', '23000', '22000', '26000', '12000', '11900', '10500', '33000', '28000', '17900', '33000', '13000', '15500', '21000', '30000', '15870', '28000', '35000', '20000', '21980', '13500', '17500', '14000', '17000', '14500', '20000', '25000', '12900', '14000', '15000', '45000', 'nan', '15000', '21000', '25000', 'nan', '13500', '4200', '11000', '16000', '19000', '13990', '10000', '12000', '24000', '20000', '42000', '24000', '48000', '25000', '32000', '21000', '38000', '55000', '32000', '13500', '10900', '20800', '27000', '12', '53000', '48000', '26000', '15900', '32000', '35000', '14900', '20000', '55000', '21000', '22000', '36000', '40000', '39000', '6900', '64900', '32000', '32000', '21000', '38000', '50000', '79000', '22000', '24000', '13500', '15900', '14000', '14900', '13900', '25000', '18000', '21000', '16000', '15000', '11000', '19000', '16500', '15500', '20000', '17000', '12500', '18000', '25000', '19000', '13000', '15500', '65000', '24900', 'nan', '35000', 'nan', 'nan', '35000', '30000', '29000', '27000', '35000', '15000', '9400', '13000', '21500', '15500', '15000', '19000', '50000', '17000', '16500', '5000', '16000', '14500', '17000', '49000', '13000', '11000', '9000', '8000', '11000', '9500', '17990', '14990', '15500', '11490', '11500', '23600', '24000', '42400', '27700', '21600', '45000', '37550', '13000', '29000', '9000', '24990', '36990', '15900', '18000', '25900', '12000', '15200', '24000', '12900', '16000', '26490', '13914', '9000', '12500', '16000', '12400', '14500', '8900', '20000', '4800', '14500', '18900', '14800', '18000', 'nan', '18500', '17700', '22000', '10000', '14400', '13000', '15300', '27000', '13500', '31000', '14900', '19000', '22000', '14500', '15500', '10000', '15000', '13000', '21000', '11000', '10000', '12500', '18000', '20000', '14000', '23000', '28000', '16000', '22900', '19600', '18000', '29600', '22600', '17600', '18600', '18000', '26000', '29400', '75000', '18000', '59000', '35000', '25000', '27900', '64800', '27600', '46500', '49000', '18600', '18000', '28500', '36500', '19000', '15000', '25000', '11500', '10000', '11500', '16800', '16000', '9500', '19000', '9500', '33000', '11000', '16000', '14600', '19000', '17300', '8500', '13000', '19000', '13500', '13500', '20000', '16500', '11500', '16000', '19000', '28000', '15000', '10000', '10000', '18000', '11900', '14000', '25000', '13000', '18000', '12000', '14000', '30000', '17000', '22000', '5900', '17000', '8990', '9700', '16500', '39000', '23000', '13000', '14000', '10500', '12500', '22000', '18000', '19000', '21500', '42000', '10900', '12000', '11000', '16000', '10585', '16500', '11500', '16980', '15000', '10850', '15000', '18900', '22000', '12800', '10500', '13000', '13000', '14000', '20000', '20000', '15000', '17000', '19900', '13990', '13500', '32000', '14900', '13500', '25000', '29900', '15000', '17000', '18000', '9000', '35000', '20000', '13600', '18000', '15000', '15900', '24900', '20000', '16000', '15000', '32000', '32000', 'nan', '37000', '14900', '64900', '32900', '18000', '22000', '22000', '15500', '14900', '25000', '13000', '12000', '15000', '12000', '16000', '10000', '15990', '20900', 'nan', '30000', '21000', '13000', '31000', '29000', '15000', '19000', '14000', '19900', '11000', '14000', '11500', '15000', '19000', '10500', '12000', '13900', '14500', '13900', '11900', '15000', '15000', 'nan', '49000', '38000', '18000', '35000', '65000', '32000', '40000', '85000', '43000', '25000', '39000', '60000', '35000', '30000', '40000', '60000', '20000', '30000', '18000', '11200', '11800', '13900', '11000', '17500', '14000', '10000', '16000', '13000', '13500', '21000', '15000', '32000', '11900', '15500', '18000', '9500', '14500', '9500', '19000', '21000', '23000', '14000', '10500', '19900', '10500', '17000', '10500', 'nan', '19900', '19900', '19500', '11000', '15000', '23500', '8000', '22000', 'nan', '22000', '14500', '15000', '14000', '26000', '16000', '25000', '44800', '45000', '35000', '18000', '24400', '20000', '18800', '13000', '15000', '15900', '10000', '12000', '24000', '15500', '10400', '27000', '9500', '15000', 'nan', '24000', '13000', '12500', '15000', '13000', '13500', '12000', '13900', '35000', '9900', '13500', '15000', '12000', '16000', '20000', '19000', '14500', '12000', '16000', '14500', '22000', '17900', '12000', '15000', '13000', '17500', '15000', '10500', '15800', '12000', '12000', '22000', '27500', '13000', '25000', 'nan', '10000', '12000', '12000', '10500', '12500', '11000', '15000', '10500', '28000', '10900', '12000', '22000', '18500', '13000', '15000', '12000', '12000', '10990', '33000', '14990', '15000', '13500', '11000', '16000', '15500', '13000', '12500', '11000', '23000', 'nan', '12000', '7500', '9800', 'nan', '12000', '22000', '14000', '10500', '16500', '25000', '11000', '10900', '19500', '20000', '10000', '13000', '25000', '13500', '9000', '21900', '14000', '16000', '14000', '38000', '14000', '10000', '9000', '12000', '11000', '24600', '16490', '8000', '12500', '14000', '18000', '14500', '11500', '13900', '13000', '8000', '12500', '18000', '12000', '11000', '10000', '11000', '22000', '12500', '14500', '20500', '25000', '12500', '12500', '8900', '18000', '19500', '12000', '16000', '18500', '15000', '16000', '13000', '13500', '15500', '23000', '45000', '36000', '16000', '22000', '9000', '11000', '16000', '9900', '17000', '14900', '16000', '19000', '10000', '15000', '11000', '12500', '9000', '14500', '16500', '18000', '24000', '24000', '21000', '14000', '19000', '16000', '14000', 'nan', '23000', '17500', '11900', '8000', '13000', '11000', '8500', '10000', '17500', '13000', '13500', '12500', '25000', '30000', '16000', '9900', '14500', 'nan', 'nan', '9000', '12500', '17000', '13990', '23000', '10000', '14900', '12000', '14000', '15500', '22000', '32000', '8500', '16000', 'nan', '10500', '12000', '10900', '8000', '12000', '13000', '12000', '12000', '11000', '13000', '20000', '18000', '14000', '11000', '23000', '9000', '12500', '11500', '11000', 'nan', 'nan', '14900', '29000', '13000', '15500', '16500', '32000', '18000', '15000', '11490', '20900', '17900', '20000', 'nan', '32000', '9500', '12800', '15000', '15000', '14000', '13500', '13000', '16000', '16000', '10000', '12000', '20000', '20500', '20000', '39000', '12000', '13500', '21500', '15000', '18000', '12000', '19500', '14500', '14500', '18000', '18500', '14500', '18500', '32000', '34900', '16000', '21000', '25000', '29000', '30000', '15500', '20000', '25000', '16000', '15000', '39000', '13000', '18000', '14920', '10000', '13000', '34000', '17000', '9500', '11000', '13200', '13500', '23000', '16000', '14900', '12800', '12900', '12500', '17000', '15000', '12000', '12500', '20000', 'nan', '14000', '11000', '15990', 'nan', '14990', '13500', '12990', '11990', '10990', '17990', '12990', 'nan', '11490', '10990', '10990', '12990', '14990', '11490', '19990', '22000', '27900', '14000', '15000', '13500', '10500', '13000', '17000', '16500', '14500', '23000', '39000', '23980', '26000', '65000', '14000', '19000', '15000', '15990', '13000', '15000', '11000', '42000', '54800', '24000', '16000', '24000', '21000', '15900', '12900', '14000', '14000', '12700', '54800', '24000', '16000', '24000', '21000', '15900', '12900', '14000', '14000', '12700', '15000', '10000', '16500', '11500', '16500', '35000', '10500', '12000', '22000', '12000', '22000', '14000', '6900', '15000', '44000', '17000', '22900', '32900', '17000', '13700', '10500', '12000', '13500', '9500', '21990', '14000', '10000', '20000', '12600', '20000', '9500', '8500', '16000', '43840', '35000', '48000', '21000', '22000', '25000', '39000', '24900', 'nan', 'nan', '27040', '55840', '40000', '71840', '47840', '47840', '27840', '32900', '64900', '18000', '25900', '14900', '15900', '37000', 'nan', '16500', '18000', '16500', '11000', '18000', '16000', '17000', '16000', '17800', '19000', '20000', '13500', '18900', '18500', '12500', '14000', '25000', '14000', '13000', '12000', '13000', '25000', '15000', '8000', '13900', '36000', '11750', '10000', '14500', '14500', '15000', '13500', '29000', '12000', '13500', '19000', '10000', '19000', '14000', '20000', '29500', '29500', '22000', '19000', '28000', '22000', '27000', '18900', 'nan', '32000', '62000', '180000', '25500', '30000', '18000', '40000', '21000', '12800', '21000', '31000', '15500', '45000', '41600', '36000', '34500', '20700', '26000', '19000', '17000', '39000', '19000', '17300', '15000', '15000', '12300', '16000', '16900', '20000', '25000', '50000', '31000', '31000', '32000', '14300', '52000', 'nan', '34000', '32000', '27000', '16900', '12800', '9000', '26900', '11000', '14000', '12000', '36000', '16000', '28000', '9000', '21000', '65000', '12900', '13000', '14000', '16500', '9000', '13000', '15000', 'nan', '11000', '55000', '19000', '8000', '20000', '15900', '14000', '18000', '17000', 'nan', '26000', '12000', '12500', '21000', '19000', '67000', '20000', '12000', '15000', '13500', '25000', 'nan', '12000', '28000', '18000', '11000', '10000', '15000', '13000', '29000', '23000', '9000', '10500', '8000', '15000', '14500', '16000', '34500', '15900', '10500', 'nan', '15000', '10990', '8500', '8499', '15000', '15000', '20000', '18000', '18000', '9000', '17000', '15000', '11500', '12000', '14900', '9000', '11900', '18000', '20000', '12500', '12900', '17000', '9900', '18000', '8500', '8100', '23000', '11000', '18000', '29966', '16500', '9900', '16000', '17000', '19990', '17990', '21400', '15000', '15000', '26500', '25900', '15000', '10000', '19799', '13700', '16000', '18000', '25500', '19500', '14000', '16500', '13700', '13000', '20000', '28000', '37000', '18000', '11900', '18000', '8000', '17000', '11500', '10990', '16900', '14000', '12990', '15500', '13000', '15000', '25000', '15000', '13500', '30000', 'nan', '14900', '12000', '14200', 'nan', '12000', '40000', '50000', '14000', '19000', '12500', '19000', '14000', '14000', '10000', '11000', '4900', '11990', '12990', '20000', 'nan', 'nan', '11500', '13500', '14500', '12500', '15000', '5500', '13900', '14800', '23000', '35000', '16500', '32000', '15000', '10000', '9800', '19900', '15990', '20000', '13500', '10500', '17000', '14000', '10500', '19000', '9500', '45000', '32000', '32000', '12000', '16500', '11990', '14500', '15000', '32000', '9500', '16000', '8600', '12000', '19000', '8000', '11500', '17000', '17000', '13000', '14000', '86100', '35000', '56700', 'nan', '117700', '33800', '48000', '69300', '37000', '25000', '52800', '37800', '52800', '25500', '79200', '30000', '74800', '30800', '42200', '37000', '39600', '70400', '39600', '37000', '44000', '44000', '40500', '51000', '35200', '52800', '29900', '8000', '13100', '8000', '15990', '8500', '33900', '9900', '8800', '25000', '8800', '26500', '20000', '13000', '15000', '15000', '11500', '13000', '12500', '19500', '18000', '10000', '15000', '13000', '12000', '17000', '7000', '15000', '9000', '11000', '11000', '14500', '12000', '17000', '28900', '17500', '18000', '11500', '11000', '14000', '18000', '18000', '11500', '14500', '20000', '14000', '35000', '16500', '13500', '19500', '42000', '34000', '15000', '8000', '21900', '10000', '10600', '11000', '15000', '15000', '11000', '9000', '14000', '12000', '15000', '13000', '13800', '14000', '17000', '13000', '15000', '14500', '35000', '18000', '13000', '12500', '35000', '21000', '12500', '13000', '9500', '8000', '15500', '14500', '12000', '18000', '16800', '12900', '17500', '14900', '8999', '10000', '14500', '10500', '10500', '12500', '12000', '17000', '9500', 'nan', '4800', '16000', '11900', '18000', '20000', '30000', '29000', '33000', '14000', '11500', '14000', '18800', '11500', '12000', '9900', '26000', '14500', '16500', '16000', '14000', '22200', '11500', '25000', '20000', '11000', '11000', '17000', '13000', '10900', '18000', '11000', '13000', '10500', '18000', '13500', '13000', '11500', '12900', '16000', '14000', '29000', '10900', '17000', '17000', '13500', '20484', '9500', '9500', '13200', '19000', '79000', '18000', '22000', '10500', '12500', '19800', '14000', 'nan', '9000', '14500', '24900', '24900', '18500', 'nan', '13500', '17500', '19000', '22000', '10000', '16499', 'nan', '19500', '12000', '15000', '17000', '13500', '18000', '22000', '14500', '36000', '35000', '11900', '14000', '35000', '11000', '13000', '9000', '17000', '12500', '24000', '55000', '16000', '22000', '16000', '14000', '18000', '11000', '8000', '14000', '11500', 'nan', '10000', '14500', '13000', '11900', '13000', '14000', '22500', '15000', '18000', '39000', '14500', '13500', '34000', '35000', 'nan', '15500', '25000', '23000', '20000', '11500', '45000', '25900', '36000', '19500', '14900', '25900', '15900', '14500', '29000', '16500', '11600', '12000', '9900', '8430', '28000', '9500', '45000', '14800', '19990', '20000', '49000', '17000', '8000', '8000', '25000', '9500', '18500', '12000', '17000', '23000', '15000', '10990', 'nan', '13500', '13000', '10000', '45000', 'nan', '18000', '13500', '16500', '25000', '8300', '7000', '10000', '18000', '12000', '25000', '35000', '15000', '20000', '30000', '22000', '18500', '23000', '10900', '29000', '10000', '11200', '12500', '25000', '10500', '11800', '21500', '18000', '40000', '8900', '16000', '13000', '14000', '13000', '15000', 'nan', '19950', '23000', '19900', '17000', '11900', '22000', '26900', '22000', '22000', '15000', '21800', '27000', '19000', '13000', '11000', '28000', '8900', '32000', '12500', '10000', '5000', '17500', '20000', '30000', '20900', '13990', '21800', '19000', '15000', '15000', '10000', '30000', '22000', '17000', '14500', '11000', '42500', '17500', '13000', '35000', '35000', '14000', '10000', '14880', '14800', '12000', '22000', '15000', '9500', '15000', '9500', '11500', '15400', '11500', '17000', '15000', '13000', '20000', '15900', '97688', '29000', '10000', '21800', 'nan', '103123', '15000', 'nan', '34800', '33000', '100000', '15000', '15000', '16000', '9500', '15200', '15000', '17799', '11499', '23000', '17000', '14000', '22000', '10000', '9000', '8000', '20000', '59000', '24000', '17000', '139800', '27000', '14500', '14500', '9400', '9000', '9982', '17900', '9000', '15000', '14000', '8000', '14000', '14500', '19000', '17000', '10000', '14000', '13000', '16900', '14500', '26500', '14500', '31000', '24000', '24000', '15000', '30000', '29000', '19000', '14000', '30000', '14444', '6000', '14300', '27000', '99000', '20000', '20000', '21000', '16000', '27000', '22000', '25000', '28000', '31000', '16000', '24500', '40000', '24500', '38000', '27000', '21000', '27000', '9900', '13000', '11500', '18000', '15000', '20000', '18499', '12500', '10500', '8500', '11200', '25000', '16000', '18000', '19800', '14000', '9000', '22500', '18000', '18000', '16000', '10990', '20000', '13500', '20000', '16000', '14950', '14400', '10000', '10000', '30000', 'nan', '35000', '24000', '45000', '30000', '30000', '44700', '46000', '130000', '24000', '20800', '21600', '37550', '27700', '42400', '26200', '18000', '21000', 'nan', '70000', '75000', '19900', '18000', '21000', '19990', '10500', '15000', '20900', '18750', '45000', '19500', '25000', '11800', '9900', '12000', '15000', '17000', '21000', '13600', '13800', '19000', '16000', '19200', '13800', '25000', '14000', '17000', '20000', '12000', '29000', '15000', '8500', '29900', '19900', 'nan', '20000', 'nan', '16000', '15000', '37000', '16000', 'nan', '48000', '25000', '26000', '32000', '26552', '12500', '11900', '25000', '12900', '8900', '17500', '16900', '9500', '14000', '20000', '20500', '24999', '12800', '15000', '29000', '11000', '60000', '37000', '35000', '16900', '13500', '35000', '14990', '9800', '15000', '12000', '15900', '22000', '10600', '19000', '33000', '12000', '80000', '12000', '12000', '45000', '30000', '40965', '9800', '9000', '20000', '10000', '23000', '13990', '8990', '12000', '29000', '9000', '14000', '12000', '12500', '16500', '9900', '12800', '13000', '12000', '15500', '12000', '29000', '15000', '13000', '11500', '9500', '15000', '14000', '11900', '55000', '9000', '17800', '19000', '19500', '10000', '27000', '14900', '20000', '14000', '17000', '15000', '19000', '11000', '17900', '11500', '20000', '13800', '22000', '14180', '37000', '19500', '26400', '19500', '21000', '20000', '44000', '12000', '44000', '10000', '11000', '8000', '11500', '13000', '15000', '20500', '23000', '20500', '19000', '21000', '15000', '10500', '10500', '32000', '12500', '12500', '21000', '12500', '15000', '13000', '8500', '10000', '10500', '13000', '12778', '27700', '12000', '27300', '11000', '6000', '27000', '17000', '29000', '17500', '15500', '12000', '16000', '13000', '12000', '20000', '9000', '12500', '20000', '24990', '23060', '18000', '8000', '8000', '11900', '12700', '13000', '23767', '14900', '13500', '19900', '28000', 'nan', '25000', '49000', '33000', 'nan', '47000', '20000', '14500', '14000', '23000', '20000', '18000', '14000', '25000', '13500', '45000', '37000', '15000', '10000', '11900', '18000', '10900', '12000', '19500', '13500', '7600', '8000', '11000', '10500', '17000', '13990', '21000', '9900', '19000', '13500', 'nan', '11500', '25000', '12500', '12000', '13600', '24000', '14000', '20500', '16900', '11000', '119800', '28000', '12000', '11000', '15000', '10900', '30000', '13000', '19990', '12500', '14500', '12500', '24000', '16000', '11500', '42980', '18000', '11000', '14500', '12900', '11500', '12998', '37000', '38000', '20500', '18500', '12000', '20500', '13500', '19000', '13000', '11000', '16000', '11000', '12500', '18000', '10000', '15500', '12000', '17000', '9000', '13000', '15500', '13900', '10000', '18500', '17000', '14990', '26000', '16000', '16000', '29990', '19500', '15000', '19500', '12500', '16500', 'nan', '14500', '23000', '16000', '64999', '26000', '8000', '24000', '19990', '11000', '12000', '10890', '15000', '14000', '17200', '13000', '17500', '19000', '14200', 'nan', '15000', '16000', '15000', '13000', '9900', '16000', '12000', '9200', '12000', '13000', '13000', '11300', '13800', '12000', '18000', '25000', '16000', '15000', '14000', '25000', '16300', '9800', '13500', '12000', '11000', '20000', '18500', '11000', '11000', '50000', '30000', '20000', '12500', '8499', '9499', '11500', '14500', '14700', '9000', '17500', '15000', '24500', '18500', '24500', '17000', '25000', '13000', '12900', '10900', '14000', '30000', '20000', '15000', '8800', '9500', '13800', '13900', '12900', '13500', '13900', '5500', '12000', '18000', '26000', '14500', '15900', '18000', '11500', '13000', '16000', '13000', '24000', '15400', '18000', '13000', '13000', '28000', '11500', '18000', '20000', '15000', '20000', '11000', '14200', '8000', '28000', '14000', '12000', '11000', '15000', '13000', '20000', '21000', '14000', '35000', '22000', '14000', '35000', '16000', '10000', '25000', '29500', '33000', '18000', '24000', '18500', '31000', '30000', '19900', '30000', '23000', '10800', '13800', '14500', '15900', '14700', '9500', '18800', '16000', '12000', '8900', '17000', '12000', '9500', '15900', '13900', '22000', '23000', '20000', '20000', '15000', '12000', '12000', '25000', '8500', '20500', '15000', '26500', '20000', '16000', '14000', '15900', '11500', '14900', '14500', '12000', '10500', '15000', '14500', '35000', '40000', '95000', '17207', '21000', '29000', '16000', '12500', '22000', '22000', '21000', '12000', '20000', '15000', '14450', '18000', '9950', '19500', '19000', '10500', '9000', '14000', '17000', '10000', '37000', '10000', '49500', '43500', '48000', '100000', '38000', '15000', '13700', 'nan', '24000', '14000', '25000', '30000', '29000', '15500', '15000', '45000', '37000', '29000', '29000', '25000', '27000', '39000', '18000', '15000', '42000', '39000', '35000', '35000', '17000', '12900', '15000', '64900', '41000', '28000', '17000', '14400', '40000', '34000', '25500', '39000', '39000', '49000', '23000', '30000', '15000', '11500', '11000', '11400', '11000', '13000', '17500', '16500', '10900', '13500', '11500', '11000', '32000', '13000', '16000', '12500', '18400', '13000', '35000', '11000', '12800', '13000', '12000', '36000', '35000', '11000', '26999', '11300', '25000', '14000', '24000', '16000', '16500', '6950', '10500', '18500', '23000', '20900', '20900', '20000', '32000', '18000', '11500', '9300', '15100', '9900', '18000', '18000', '15000', '38000', '23000', '9000', 'nan', '12500', '9500', '12000', '25000', '20000', '22000', '26000', '18000', '29000', '25000', '22500', '8190', '17000', '12000', '18000', '15300', '11000', '28000', '29000', '19500', '17000', '14200', '20500', '14500', '17000', '14000', '16000', '11000', '14000', '23990', '10000', '13900', '14500', '13000', '16900', '15000', '27000', '27000', '21000', '21000', '13000', '14500', '20000', '16000', '15000', '12000', '35000', '11500', '26000', '13000', '13000', '24000', '38000', '18000', '9500', '22000', '49000', '12000', '11000', '20000', '14000', '22000', '47684', '13000', '20000', '10000', '14000', '14000', '11000', '50000', '18000', '35000', '18000', '20000', '35000', '14000', '13000', '9900', '14700', '16000', '12500', '7000', '14000', '48000', '9500', '40000', '12000', '9400', '14000', '11000', '15000', '8899', '15000', '20000', '26999', '12500', '9000', '14999', '17500', '14000', '13000', '17500', '20000', '30000', '10000', '17000', '22000', '40000', '13500', '11500', '10000', '15500', '50000', '14000', '13000', '8000', '15000', '14000', '9900', '18000', '18000', '20000', '20000', '16000', '20000', '12000', '16000', '18500', '12000', '15900', '28000', '12000', '35000', '14000', '12000', '14000', '17000', '15000', '20500', '15000', '13000', '30000', '15000', '27700', '10000', '11000', '29990', '22000', '24000', '24000', '21000', '24000', '38000', '25000', '14000', '19500', '18000', '24000', '21000', '36000', '36000', '30000', '21000', '36000', '18000', '9990', '18000', '15000', '26990', '9000', '11500', '13000', '7000', '46240', '15000', '25000', '13800', '12999', '75840', '70240', '14500', '17000', '35000', '13500', '18500', '14500', '6500', '15000', '24000', '6500', '11500', '18000', '15000', '13000', '10000', '16990', '19990', '12900', 'nan', '10000', '26000', '30000', '14000', '12600', '15000', '22900', '15000', '18000', '36000', '14900', '20000', '18800', '15000', '18900', '14000', '17500', '17900', '18000', '33800', '70488', '24900', '15000', '25900', '25500', '63742', '16900', '22000', '14000', '13500', '10900', '17000', '23500', '70000', '12000', '18000', '15400', '9500', '17500', '12500', 'nan', '23499', '17500', '17000', '41100', '16500', '16500', '8000', '16990', '15000', '20000', '20900', '13800', '14499', '9999', '12000', '8999', '9999', '15499', '12000', '16000', '17000', '10000', '12000', '40000', '34000', '24000', '30800', '16900', '10900', '13000', '13000', '25000', '12000', '12000', '10500', '19000', '32000', '39000', '18000', '18900', '14000', '20000', 'nan', '15000', '22000', '14500', '10500', '17000', '15000', '21000', '16000', '49000', '17500', '21000', '18000', '12000', '23000', '13500', '17500', '20000', '16000', '8000', '10000', '13000', '13800', '15000', '19000', '13500', '16000', '28000', '12000', '15000', '10000', '17900', '27000', '9000', '8800', 'nan', '12000', '18000', '29000', '35000', '15000', '20500', '13000', '14000', '24000', '29000', '20000', '15000', '24000', '27000', '34000', '25000', '34000', '39000', '22000', '25000', '22000', '60000', '33000', '22000', '16000', '8500', '35000', '11000', '12000', '13000', '7000', '6900', '9500', '14000', '13000', '19000', '11500', '12500', '12500', '16000', '25000', '20000', '15900', '27000', '15000', '13000', '10857', '15900', '12500', '16900', '13500', '12500', 'nan', '14990', 'nan', '10500', '18000', '11000', '16000', '21000', '17500', '19000', '40000', '45000', '19900', '22000', '19999', '20000', '15000', '15500', '18000', '17000', '14000', '10999', '9500', '25500', '12500', '15500', '36400', '30000', '14000', '23900', '16500', '15000', '13900', '19000', '19000', '16500', '52000', '15000', '79000', '15000', '9500', '18000', '16000', 'nan', '22000', '12000', '12000', '31000', '17000', '25900', '14900', '15900', '17000', '14000', '20000', '13800', '9300', '16000', '11000', '12000', '10000', '15900', '26000', '10500', 'nan', '10900', '18000', '10490', '18900', '15000', '14900', '15900', '12900', '8900', '10500', '29700', '23500', '42900', '14000', '11000', '49000', '24000', '26000', '14900', '26470', '14000', '10500', '12000', '10000', '14000', '25000', '14500', 'nan', '15500', '17000', '20000', '15000', '15000', '45000', '15900', '19900', '14000', '17000', '18300', '11500', '15000', '10000', '17000', '14000', '15900', '11400', '55000', '13900', 'nan', '35000', '32000', '5000', '39000', '14500', '70000', '35000', '20000', '25000', '28000', '25000', '36000', '13000', '36000', '35000', '33000', '25000', '23000', '23000', '25000', '23000', '9900', '20000', '15000', '25000', '10500', '19500', '23000', '20000', '38000', '9500', '13500', '26000', '15000', '15000', '39000', '14000', '12900', 'nan', '16000', '22000', '12500', '69000', '14400', '19500', '22000', '33000', '18000', '16000', '64900', '14900', '12000', '15000', '20000', '25900', '14500', '14999', '8500', '28000', '25000', '41000', '21499', '9900', 'nan', '18500', '14100', '14990', '16000', '7700', '12000', '25000', '14900', '14500', '11000', '23799', '15000', '10500', '27500', '16000', '25500', '23500', '19000', '20500', 'nan', '19000', '33000', '15000', '15000', '20000', '15000', '99136', '65053', '15000', '25000', '13000', '75922', '8990', '23000', '20000', '14500', '16500', '13500', '30000', '20000', '20000', '50000', '17500', '13000', '15000', '15000', '17900', '19000', '18000', '11000', '23000', '12500', 'nan', '15000', '30000', '16900', '18900', '12000', '13000', '13500', '25900', '14900', '32000', '18000', '18000', '18000', '29000', '52000', '12000', '40000', '23500', '35000', '20000', '16000', '21000', '15000', 'nan', '14500', '19000', '18000', '70515', '10000', '14990', '59618', '8500', '28000', '22800', '8900', '15000', '14000', '18500', '12000', '16000', '12000', '10000', '17000', '8500', '8500', '20000', '17000', '11500', '13000', '15000', '15500', '18000', '14500', '18500', '14900', '6500', '18000', '15000', '17000', '10000', '14900', '13000', '16000', '25000', '16000', '25000', '19990', 'nan', '9000', '16000', '18000', '18000', '22000', '38800', '14500', '39000', '48000', '76000', '95000', '24000', '15000', '17000', '15000', '20000', '18000', '6500', '22000', '20000', '16000', '19500', '32000', '28000', '160000', '30000', '11500', '18999', '13000', '14000', '20000', '20000', '13500', '32000', '18000', '18900', '24000', '50000', '40000', '25000', '23000', 'nan', '26000', '15000', '33000', '20000', '9500', '35000', '12000', '13000', '19000', '13000', '16000', '12000', '12200', '14500', '15000', '7500', '53000', '17000', '10000', '16000', '10500', '12500', '12500', '14000', '11500', '12000', '9000', '15000', '19000', 'nan', '13500', '17500', '15900', '8700', '17500', '15000', '17500', '37000', '28500', '11999', '20000', '17000', '20000', '17900', '34900', '9500', '12500', '18990', '16000', '33000', '12000', '14200', '15900', '16000', '28000', '14900', '15500', '38000', '14000', '15000', '11000', '11000', '9000', '28000', '35000', '14000', '23900', '14900', '15900', '13800', '25900', '18000', '18000', '16000', '21000', '15000', '19900', '50000', '18000', '54000', '55000', '25000', '126992', '30000', '31500', '14000', '30000', '15600', '19000', '12000', '16000', '12000', '19000', '25000', '17000', '23000', '21000', '9500', '15000', '29000', '14500', '13000', '10000', '20000', '20000', '20000', '20000', '20000', '20000', '75000', '9500', '15000', '22500', '95531', '40000', '24000', '12700', '12000', '14000', '16990', '19900', '14000', '25000', '26000', '23000', '17500', '35000', '13500', '14000', '23300', '8500', '17000', '25000', '25000', '16000', '18300', '12500', '18800', '26900', '24000', '23000', '10000', '12500', '8900', '22500', '16000', '15000', '16999', '15000', '17000', '25000', '18000', '25900', '12500', '19000', '8990', '15000', '13000', '29000', '27900', '14990', '20000', '12000', '15000', '12000', '14990', '7900', '33000', '32500', '36000', '11000', '14000', '11000', '12000', '11500', '10000', '7900', '13500', '14000', '14500', 'nan', '17900', '14000', '12000', 'nan', '17000', '17000', '27000', '17500', 'nan', '7650', '6800', '20000', '11400', '26000', '30000', '20000', '24000', '41000', '16500', '10500', '48000', '14500', '19000', 'nan', '12500', '24000', '25000', '17000', '12500', '7500', '68000', '15000', '49000', '18000', '15000', '16000', '12000', '11000', '12500', '26000', '20000', '13000', '15000', '18000', '24000', '38999', '16000', 'nan', '18000', '14500', '19000', '14500', '15000', '15000', '12000', '30000', '35000', '8990', '17500', 'nan', '15900', '22000', '15000', '35000', '39000', '8990', '25000', '8990', '12500', '25000', '13500', '18000', '16000', '33000', '20000', '29000', '24000', '25000', '17000', '14500', '12500', '15000', '14400', '26900', '25000', 'nan', '13900', '16500', '26000', '11500', '29990', '20000', '35000', '29000', '11900', '18500', '17900', '18000', '13000', '20500', 'nan', '10000', '11000', '8990', '17500', '36000', '42200', '19990', '15000', '8000', '12000', '26400', '10000', '14500', '39600', '12500', '12500', '39600', 'nan', '16000', '15000', '31700', '65000', '45000', '180000', '23500', '33800', '22000', '60000', 'nan', '38000', '40000', '55000', '32000', '100000', '45000', '17100', '17000', '10000', '42000', 'nan', '64900', '15300', '23000', '16500', '11000', '20000', '14000', '18000', '12000', '13000', '20000', '14000', '25000', '20000', '13000', '13000', '17000', '11000', '10500', '13500', '14500', '27000', '12000', '10000', '15500', '18200', '9750', '14000', '26000', '10900', '38000', '13000', '120000', '22000', '25000', '14600', '10700', '9000', 'nan', '14500', '11000', '13000', '12500', '25000', '22000', '16000', '14900', '23000', '16000', '10900', '49000', '14000', '16000', '38000', '28000', '20000', '29000', '10500', '17000', '12990', '21000', '19000', '22000', '9000', '18500', '9000', '27000', '52000', '11500', '25000', '16500', '31000', '15000', '11000', '9000', 'nan', 'nan', '11960', '25000', '35000', '25000', '20000', '13000', '22500', '22000', '17000', '14000', '13500', '58000', '11000', '22000', '17000', '16000', '11500', '15000', '30000', '22000', '8990', '26000', '5000', '23500', '9000', '39000', '62868', '16900', '13000', '26000', '27000', '25000', '25000', '45000', '19000', '10000', '12000', '23000', '14724', '11000', '49000', '20000', '26900', '20000', '9500', '18000', '14000', '18000', '18000', '15000', '15000', '45000', '22000', 'nan', '8500', '26000', '22000', '12000', '28000', '22000', '22000', 'nan', '18500', '18000', '26500', '18000', '19000', '9500', '10000', '12400', '15000', '15000', '14500', '22000', '65000', '20000', '18000', '16999', '13999', '18000', '12000', '16000', '16000', '30000', '16000', '22000', '14000', '15000', '11500', '12000', '14500', 'nan', '8000', '23000', '17900', '4000', '28000', '22000', '29000', '35000', '15000', '13000', '26000', '17480', '14000', '45000', '38000', '30000', '25000', '25000', '16000', '15000', '21500', '49000', '40000', '23000', '15000', '19000', '15000', '16500', '15000', '13500', '16530', '24900', '13800', '25000', '22000', '45800', '20000', '15500', '16000', '15000', '11000', '11999', '16000', '14499', '13000', 'nan', '15500', '13000', '19900', '14000', '25000', '19000', '12000', '49000', '11000', '7800', '15500', '20000', '35200', '17400', '17400', '10000', '10900', '10500', 'nan', '11800', '25000', '10000', '23000', '10900', '13500', '9900', '15000', '24000', '12000', '40000', '10500', '19500', '15000', '12500', '12000', '12500', '12000', '15000', '16000', '14000', '16000', '14000', '17900', '12990', '13490', '13000', '12000', '13990', '14000', '10990', '27000', '19855', '11000', '12480', '12000', '17000', '13000', '13000', '14000', '13000', '11000', '13000', '17000', '17000', '9500', '17000', '17000', '13000', '13000', '12000', '13000', '21000', '11500', '14500', '24500', '15400', '8100', 'nan', '19000', '25000', '15750', '20000', '14000', 'nan', '6000', '20000', '90000', '14000', '17000', '45000', '41000', '15000', '11500', '18000', '13000', '10500', '15000', '9900', '6900', '18500', '14000', '11900', '11500', '11500', '12500', '11500', '13500', '18000', '6500', '20000', '25000', '25000', '11500', '15000', '14000', '14000', '22000', '23000', '12000', '12300', '13000', '13800', '18500', '11500', '14000', '8990', '13490', '25000', '8000', '21000', '13000', '12000', '12000', '18000', '13000', '12000', '10500', '10000', '20000', '48000', '22000', '8500', '10000', '20000', '12700', '12900', '16900', '12490', '33000', '19900', '15000', '15500', '24000', '50000', '15000', '35000', '23000', '13500', '16000', '17500', 'nan', '17000', '27000', '9900', '15691', '12000', '25000', '17000', '11800', '30000', '18000', '12000', '13000', '16000', '32000', '13000', '12000', '19900', '16000', '18000', '16000', '12500', '13000', '21000', '14500', '14500', '13200', '16000', '16000', '14000', '18000', '9500', '18000', '20000', '19000', '22000', '17000', '17500', '20500', '9900', '30000', '37000', '14000', '16000', '11500', '20000', '14000', '12900', '17000', '74800', '14500', '13500', '12000', '18000', '17500', '30000', '12000', '20500', '22999', '19000', '74800', '9900', '16000', '8000', '18000', '12000', '18000', '32000', '24000', '17000', '24000', '10000', '13500', '15000', '12000', '10400', '20000', '20000', '17000', '25000', '32000', '15000', '14000', 'nan', '17000', '22000', '24000', '33000', '50000', '22000', '23000', '24000', '13500', '33000', '20000', '21000', '38000', '26000', '12000', '13000', '11500', '22000', '49000', '12990', '25000', '26000', '26000', '23000', '30000', '28000', '11000', '13000', '22000', '20000', '15300', '15000', '29700', '16000', '21000', '240000', '70000', '18000', '29000', '19500', '45000', '32000', '45000', '27900', '18000', '59000', '30000', '15000', '48000', '11500', '11000', '18500', '18000', '44000', '10500', '13900', '9000', '26500', '15000', '20500', '14500', '37000', '17000', '54000', '53000', '55000', '18000', '65000', '15000', '69800', '16000', '15000', '12500', '20000', '13500', '13900', '12900', '14500', '20000', '9500', '44000', 'nan', '36000', '20000', '24000', '26000', '40000', '11000', '11500', '13400', '6000', '14900', '14000', '17000', '9500', '17000', '13950', '17000', '16000', '13000', '10000', '7500', '25000', '15000', '13900', '21500', '14000', '10500', '14000', '22000', '12500', '50000', '11000', '11600', '12000', '18800', 'nan', '27000', '27000', '21000', '29000', '18800', '30000', '32000', '60000', '25500', '25000', '5500', 'nan', 'nan', '33000', '19000', '21000', '15000', '32000', '15000', '32000', 'nan', '16500', '75000', '43000', 'nan', 'nan', '24000', '17000', '17000', '22000', '14000', '26500', 'nan', '16900', '26000', '12500', '19000', '21000', '15990', '34900', '10000', '11000', '16500', '9000', '12000', '15900', '11300', '25000', '17500', '16990', '17990', '11000', '10500', '12500', '15990', '24000', '12500', '16000', '38000', '16000', '36000', '13000', '25000', '26000', '19000', '27000', '32000', '25000', '16000', '10000', '15000', '18000', '18000', '33000', '12500', '15900', '26000', '13000', '15500', '32000', '14000', '32000', '15000', '22000', '24000', '14900', '25000', '12500', '10200', '15000', '10000', '17000', '13500', '14000', '35000', '29900', '7000', '28000', '13990', '20000', '38000', '14000', '12500', '12800', '12500', '7000', '9400', '10900', '11000', '12000', '12000', 'nan', '24000', '10000', '45000', '25000', '15900', '7000', '36000', '16500', '12500', '36000', '18000', '17000', '13000', '23000', '7000', '10000', '37000', 'nan', '12000', '9800', '65000', '13900', '10000', '10000', '17000', '9400', '29000', '14430', '25000', '16000', '9800', '14000', '25000', '25000', '13000', '11000', '19000', '13000', '29000', '10600', '14900', '19800', '21000', '38000', '59000', 'nan', '35000', '11500', '45000', '100000', '89000', '26000', '24000', '55000', '38000', '33000', '20000', '27000', '20000', '16000', 'nan', '8000', '13000', '12500', '8000', '30000', '30000', '20000', '18000', '9990', '14500', '17000', '11500', '11500', '15000', '16000', '9500', '49000', '29000', '44000', '9900', '120000', '14999', '10000', '21000', '20500', '14000', '18000', '12000', '23000', '15000', 'nan', '19000', '11000', '18000', '13000', '12500', '11000', '10000', '29800', '30000', '100000', '10000', '25000', '14000', '35000', '25000', '12000', '33400', '34000', '18000', '11900', '15000', '25000', '12500', '16000', '10900', '19900', '25900', '20000', '11000', '15000', '16000', '17700', '29900', '9000', '10000', '26500', '40000', '36000', '24000', '13500', '20000', '22000', '24000', '38000', '16000', '38000', '25000', '34000', '16500', '18000', '14000', '14200', '25900', '13000', '32000', '13800', '28000', '21000', '15000', '13500', '26000', '20000', '15000', '20000', '17000', '13000', '13500', '25000', '52000', '19500', '13000', '24000', '23900', '28000', '14500', '17500', 'nan', '15000', '18000', '15500', '19000', '11000', '14000', '23800', '10500', '24000', '13500', '15000', '16900', '12000', '16000', '20000', '17000', '12500', '29000', '24000', '11500', '10000', '13000', '15000', '14500', '14000', '13500', '12000', '8950', '11950', '23000', '11200', '15300', '21500', '20500', '15000', '19000', '10000', '35000', '45800', '27990', '16000', '16990', '17000', '17900', '10900', '13000', '15000', '8900', '20000', '17990', '14900', '13990', '37000', '14990', '28990', '33000', '39600', '35200', '48400', '8900', '22990', '13500', '33400', '8900', '14900', '17900', '15000', '30000', '28000', '11000', '15000', '14800', '13000', '14000', '10000', '18900', '16000', '25000', '37000', '15000', '37000', '25000', '16300', '12000', '13900', '12000', '7900', '12500', '9500', '42000', '16000', '19000', '11500', '45000', '16000', '12490', '14000', '16000', '7500', '15900', '10000', '32000', '54000', '48000', '53000', '55000', '48000', '14500', '35000', '48000', '12000', '12500', 'nan', '34000', '14500', '16000', '13500', '21000', '15000', '36000', '14000', '20000', '25000', '20000', '11000', '19000', '12000', '9000', '19000', '18990', '17000', '14000', '39600', '51000', '52800', '70400', '66000', '29900', '52000', '40500', '79200', '42200', '44000', '35200', '70400', '70400', '13900', '30800', '16500', '16700', '26400', '12000', '11000', '15000', '13500', '14000', '25000', '25000', '21900', '22000', '16500', '26000', '13500', '12000', '14000', '64999', '13000', '12000', '14950', '25000', 'nan', '19500', '16000', '23000', '11200', '11000', '22000', '12000', '10000', '20000', '8800', '70400', '13900', '10200', '48400', '52800', '15000', '18500', '37000', '11000', '39600', '17500', '14000', '22000', '11000', '16500', '37000', '28000', '25000', '44000', '24000', '15000', '16000', '26400', '5000', '14000', '26400', '14000', '28000', '11500', '14000', '22000', '25000', '11000', '21000', '52800', '25000', '18000', '90000', '37000', '70400', '27000', '38000', '12000', '29000', '15000', '20000', '12800', '6900', '45000', '44000', '14000', '15000', '22000', '15500', '38700', '17000', '15000', '10500', '13000', '14900', '100000', 'nan', '17500', '25000', '24000', '18500', '21000', '13900', '16000', '17800', '18000', '17400', '16000', '25000', '13000', '18000', '11000', '13200', '42000', '49000', '22000', '19678', '22791', '45999', '16000', '12499', '31974', '30999', '21799', '24543', '37323', '15999', '15999', '16322', '20482', '24000', '16738', '15000', '16999', '16999', '38000', '15999', '19900', '13990', '10500', '10000', '12000', '74800', '24990', '12000', '13500', '22000', '22000', '18000', '16000', '22000', '12000', '22500', '26000', '32000', '31000', '33900', '24600', '38000', '90000', '44000', '11000', '12500', '18000', 'nan', '18500', '25000', '15000', '29000', '27000', '23000', 'nan', '15000', '20000', '22000', '80000', '24000', '33000', '12000', '13000', '13500', '13000', '12300', '15900', '20000', '17000', '17000', '27900', '15000', '12400', '11900', '16500', '19000', '4900', '12000', '13500', '32000', '14000', '9000', '10000', '25000', '49000', 'nan', '21500', '11000', '13000', '19500', '20000', '13000', '21000', '30000', '15000', '21000', '3900', '18000', '7900', '22000', '28000', '19500', '26000', '38000', '15000', '20000', '19500', '15000', '21000', '21900', '21900', '22000', '49000', '95859', '19000', '12500', '16500', '35000', '42000', '9800', 'nan', '48000', '48000', '19000', '70000', '50000', '12900', '16000', '23000', '12000', '18000', '16000', '16000', '13000', '15000', '32000', '15000', '19000', '11000', '32000', '17000', '33400', '30000', '19000', '45000', '15000', '36000', '32000', '15000', '51000', '32000', '18000', '14900', '14500', '22000', '37000', '25000', '14000', '15000', '22000', '18000', '8999', '15800', '7000', '23000', '13000', '19000', '21900', '19000', '13900', '31000', '70515', '22000', '32000', '17000', '12000', '15000', '9000', '11000', '11000', '126992', '42000', '19000', '12000', 'nan', '21000', '33500', '9950', '12000', '15000', '15000', '30000', '25000', '29000', '19800', '16800', '16800', '20000', '29500', '63000', '28000', '21000', '9900', '38000', '27000', '11000', '14300', '17500', '29000', '8900', '12000', '55000', '35000', '22000', '72000', '50000', '40000', '38000', '22900', '16500', '25000', '24000', '19000', '25000', '15500', '30000', '42000', '27000', '11000', '14000', '17000', '11000', '10800', '26000', '40000', '10500', '7500', '13000', '24000', '11900', '19000', '30000', '17500', '13000', '9000', '19000', '18000', '16900', '14000', '13800', '11000', '19000', 'nan', '11000', 'nan', '16200', '18000', 'nan', '18000', '14000', '23000', '16000', '26000', '32990', '12000', '19000', '28000', '12000', '23000', '18000', '16000', '16000', '30000', '15000', '15000', '17200', '11000', '19000', '12000', '20000', '12000', '50000', '18000', '23990', '14800', '20900', '70000', '35000', 'nan', '36000', '40000', '15000', '26000', 'nan', 'nan', '24000', '16500', '19000', '20000', '16000', '19500', '26000', '24000', 'nan', '9800', '15500', 'nan', '19500', '11364', '15000', '50000', '34000', '17000', '25000', '10500', '58000', '19000', '55000', '10900', '20000', '25000', '38000', '13000', '18000', 'nan', 'nan', '13000', '15000', '23000', '18000', '16000', '22500', '30500', '30000', '56500', '32500', '20000', 'nan', '30000', '44500', '14000', '12000', '15500', '10000', '12000', '63000', '38000', '33000', '12000', '12000', '12000', '16000', '16000', '16000', '40000', '11000', '17900', '22000', '20000', '105000', '17800', '70000', '24000', '16900', '33400', '42200', '11300', '12500', '22000', '19900', '15000', '39600', '17000', '39000', '14000', '6450', '30500', '37000', '35200', '33500', '11500', '19000', '70000', '26000', '27000', '17000', '12300', '17000', '7000', '36999', '16500', '13800', '12000', '12000', '16000', '39600', '16000', '12000', '13000', '37000', '10500', '12000', '16000', '17500', '11500', '16000', '13500', '7500', '11000', '11000', '10000', '14900', '21000', '14000', '15000', '9500', '19000', '11200', '18000', '37000', '18000', '15000', '31000', '33400', '37000', '21000', '44000', '20000', 'nan', '26000', '50000', '40000', '30000', '72600', '84000', '79200', '25000', '45800', '14000', '13000', '25000', '9800', '18000', '35200', '27000', '11000', '17000', '21000', '15000', '15000', '17000', '16000', '26000', '15000', '16000', '12000', '15000', '37000', '13000', '10000', '28000', '12500', '13500', '11500', '18000', '14500', '14990', '17980', '16050', 'nan', '28000', '52000', '20000', '40000', '60000', 'nan', '35000', '19500', '13300', '20000', '25000', '23000', '19500', '20000', '16000', '21000', '13000', '14000', '14000', '11000', '11900', '29990', '7500', '11500', '45000', '19500', '12500', '25000', '20000', '11900', '11900', '16750', '43000', '12000', '13900', '14000', 'nan', '32000', '35000', '17500', 'nan', '14000', '17500', '18900', '14000', '20500', '16800', '17900', '14000', '16000', '12000', '11900', '27000', '13500', '13000', '12000', '10500', '11900', '15000', '32000', '16000', '30000', '12200', '20000', '13000', '13000', '19380', '89800', '16055', '22000', '19800', '12499', '30000', '17000', '18000', '18000', '35000', '49000', '27000', '22000', '22500', '16000', '19000', '14000', '45000', '65000', '34000', 'nan', '31000', '38000', '32000', '45000', '23000', 'nan', '27000', '40000', '25000', '23000', '15000', '11500', '29000', '6500', '18000', '13000', '49000', '50000', '27000', '22000', '35000', '31000', '23000', '27000', '18000', '25000', '85000', '41500', '45000', '90000', '75000', '29000', 'nan', '75000', '55000', '40000', '40000', '110000', '20000', '40000', '45000', '70000', '17500', '17500', '14000', '23500', '14000', '20000', '18000', '13500', '14500', 'nan', '39000', 'nan', '17000', '28000', '29990', '16000', '17900', '12000', '14050', '27000', '29000', '36000', '46000', '23000', '23000', '14500', '20000', '9500', '19000', '10999', '27000', '7000', '30000', '19000', '15000', '14000', '20000', '27500', '12000', '15000', '7000', '8000', '28000', '12000', '19500', '40000', '23800', '19000', '92800', '23500', '10500', '29500', '15000', '19000', '12000', '84000', '36000', '19500', '14000', '23500', '14000', '20000', '18000', '13500', '14500', 'nan', '39000', 'nan', '17000', '28000', '29990', '16000', '17900', '12000', '14050', '27000', '29000', '36000', '46000', '23000', '23000', '14500', '20000', '9500', '19000', '10999', '27000', '7000', '30000', '19000', '15000', '14000', '20000', '27500', '12000', '15000', '7000', '8000', '28000', '12000', '19500', '40000', '23800', '19000', '92800', '23500', '10500', '29500', '15000', '19000', '12000', '84000', '36000', '19500', '14000', '35000', '22000', '14000', '18400', '15000', '13000', '12000', '15000', '32000', '13000', '130000', '55000', '34000', '29000', '15000', '20000', '13500', '18000', '12500', '12000', '36000', '36000', '16000', '14500', '42000', 'nan', '28000', '19000', '28000', '39000', '40000', '16000', '13000', '13000', '34000', '65000', '45000', '14990', '6000', '25000', '12000', '15000', '39000', '19500', '90000', '65000', '17000', '8000', '16000', '13000', '100000', '25000', '13000', 'nan', '16000', '15000', '20700', '15000', '10500', '20000', '10000', '35000', '25000', '20000', '36000', '29900', '20500', '25000', '20000', '19000', '6500', '87000', '21000', '23000', 'nan', '12400', '89000', '19000', '13500', '19500', '11900', '14400', '23000', '22000', '23000', '20000', '6500', '27000', '12000', '15000', '11000', '11000', '16500', '13850', '80000', '30000', '14000', '16000', '25300', '16000', '9500', '10900', '24400', '4800', '24000', '27000', '20000', '43000', '31500', '11800', '19500', '17000', '17000', '8000', '11400', '12500', '22000', '12990', '18000', '20950', '25000', '13000', '44000', '40500', '34900', '29000', '16000', '35000', '19500', '12800', '14000', '13500', '29999', '4800', '60000', '14500', '119800', '19000', '33000', '8900', '13000', '10500', '9500', '48000', '15000', '15000', '12500', '12000', '12500', 'nan', '11900', '12000', '11500', '16900', '15000', '12900', '14000', '15990', '14000', '28000', '12900', '35000', '17000', '18000', '9100', '12500', '10000', '15800', '10990', '11500', '20000', '18500', '13200', '11500', '7900', '35000', '17499', '21000', '17000', '33000', '10500', '11000', '24000', '15900', '24000', '20000', '11000', '18000', '14500', '32000', '17500', '16500', '31000', '23000', '16000', '22500', '12000', '12000', '35000', '30000', '15000', '23000', '10000', '16500', '10000', '11900', '12900', 'nan', '38000', '14500', '16000', '10500', '24900', '26030', '26030', '76000', '42000', '23000', '35000', '37600', '52800', '32000', '49000', '13200', '35000', '21000', '38000', '127811', '53000', '20000', '37500', '24000', '22000', '24000', '39000', '48000', '38000', '27500', '38000', '20000', '9900', '58000', '26000', '52800', '51000', '27000', '66000', '15000', '13900', '13900', '39600', '13900', '84000', '60000', '37000', '14400', '11100', '23000', '26000', '10100', '23500', '21000', '18000', '12000', '37000', '32000', '32000', '27500', '35000', '19000', '22000', 'nan', '60000', '36000', '28000', '27500', '39000', '21000', '22000', '35000', '15600', '16000', '15000', '13200', '35000', '39000', '26000', '38000', '15000', '14000', '65000', '20000', '48000', '32000', '13000', '50000', '42000', '24000', '21000', '43000', '60000', '130000', '12000', '50000', '26000', '40000', '20000', '21000', '38000', '100000', '42000', '24000', '35000', '67158', '36000', '11000', '21000', '21000', '53000', '55000', '99000', '100000', '21000', '45000', '38000', '48000', '90000', '60000', '21000', '50000', '10100', '55000', '57700', '42000', '52000', '40000', '24600', '150000', '47000', '30000', '55000', '48000', '50000', '19000', '30500', '57000', '65200', '143000', '106000', '48500', '35000', '73000', '27500', '25000', '27000', '105000', '29700', '25000', '15000', '15900', '20000', '17000', '20000', '15000', '25000', '11000', '14500', '13900', '18000', '16000', '17000', '24000', '26000', '60000', '18000', '20000', '22000', '30000', '13000', '17500', '16000', '16000', '15000', '22000', '14500', '18000', '14500', '22000', '37864', '52000', '14900', '17900', '21000', '64900', '11100', '15000', '12100', '46000', '29000', '25900', '32000', '29900', '32000', '25000', '13200', '12000', '14200', '15000', '21000', '9900', '21000', '10700', '21000', '8200', '9500', '16900', '38000', '180000', '25000', '19000', '23000', '9000', '12990', '36000', '22000', '19000', '40000', '5000', '23000', '16000', '22000', '10000', '36000', '29000', '15000', '48000', '15000', '20000', '10500', '18000', '35000', '23000', '35000', '44000', '18000', '13900', '14000', '22000', '15000', '17000', '13000', 'nan', '32000', '32000', '42000', '18000', '13600', '20900', '51900', '19900', '17980', '17500', '8800', '19500', '21000', '14000', '22850', '28000', '27000', '20000', '14000', '16900', '65000', '27000', 'nan', '24000', '24000', '17500', '18700', '16000', '19000', '49000', '17000', '26000', 'nan', '64900', '9000', '11900', '12500', '16000', '35000', '18500', '21000', '24500', '22000', '16500', '15000', '16000', '9900', '16000', '38000', '9600', '12500', '15000', '9000', '15000', 'nan', '32000', '95000', '47000', '42000', '14490', '32000', '48000', '53000', '43000', '39000', '40000', '32000', '38000', '16000', '55000', 'nan', '76000', '11900', '22990', '18990', '17000', '15500', '25000', '16000', '12000', '18500', '22000', '25000', '17500', '45000', '18000', '29900', '39000', '36000', '24000', '29900', '10500', '24000', '11000', '22000', '26900', '14500', '14990', '26900', '25000', '20000', '35000', '23500', '11000', '35000', '38000', 'nan', 'nan', '13000', '7000', '6000', '25000', '17000', '25000', '17000', '30000', '34000', '25000', '15500', '22700', '16500', '22000', '19000', '38000', '18000', '45000', '11500', '12000', '13000', '34000', '36000', '12500', '14000', '39000', 'nan', '15000', '29800', '33000', '11000', '14000', '12000', '12000', '18000', 'nan', '25000', '16000', '30000', '19000', 'nan', '20000', '24000', '13500', '64900', '12000', '16000', '15000', 'nan', '20700', '19900', 'nan', '30000', '18000', '25000', '28000', '12000', '12500', '20000', '19500', '12000', '17000', '16000', '16500', '23000', 'nan', '15000', '16500', '21000', '23000', '10000', '18000', '39000', '20000', '12900', '19000', '45000', '52000', '6000', '5000', '22000', '23900', '45000', '12500', '22000', '16500', '19000', '20000', '30000', '21900', '46000', '16000', '22000', '16500', '14900', '25000', '17000', '20000', '52000', '23214', '15000', '20000', '13000', '11500', '15000', '30000', '16000', '19000', '12000', 'nan', '10000', '24500', '42000', '16000', '11500', '20000', '6500', '16000', '10000', '9900', '59800', '35000', '13000', '14000', '25000', '12000', '20000', '25500', '32000', '25000', '16000', '11000', '17500', '18900', '9900', '17000', '13000', '11000', '20000', '14000', '14000', '100000', '14500', '20000', 'nan', 'nan', '13500', '18000', '15500', '25000', '11000', '16000', 'nan', 'nan', '15000', '13500', '33000', '17800', '28000', '9500', '15000', '20000', '13500', '20000', '39000', '13900', '14000', '9990', '25000', '13500', '22000', '13500', '28000', '49900', '29000', '19000', '25000', '16000', '27000', '21000', '13000', '44000', '49900', '45000', '19000', '16000', '25000', '18500', '24000', '21000', '29000', '24000', '16000', '19900', '21000', '12000', '24000', '50000', '20000', '31000', '13800', '12900', '16200', '13500', '21000', '21000', '13000', '14500', '29000', '85000', '49900', 'nan', '22000', '32000', '7900', '23980', '9000', '24000', 'nan', 'nan', '15500', '44000', '26000', '12500', '19800', '12900', '21500', '15500', 'nan', '24990', '15000', '14000', 'nan', '35000', '35000', '22000', '17000', '40000', '29000', '13500', '24000', '23000', '15000', '48000', '28000', '9500', '65000', '14500', '40000', 'nan', '14500', '40000', '14999', '12000', '49000', '32000', '10000', '11000', '10000', '7000', '10500', '21900', '43000', '12900', '15000', '11900', 'nan', '13000', '22000', '18000', '10000', '36000', '16000', '27000', '21000', '65000', '16000', 'nan', '15500', '20000', '15000', '39000', '12500', '19000', '27000', '13000', '29000', '40000', '35000', '50000', '20000', '44000', '18500', '12200', '21000', '29500', '15000', '13900', '12000', '22000', '17000', '24000', '38000', '14500', '14000', '14000', '14000', '18000', '25000', '55000', '14700', '28000', '35000', '35000', '20000', '35000', '23000', '18000', '27500', '39000', '25000', '25000', '49000', '12000', 'nan', '30000', '40000', '22000', '12500', '40000', '15000', '60000', '75000', '14000', '39000', '13100', '12000', '15000', '34000', '25000', '30000', '11500', '11000', '18990', '21000', '17000', '32000', '25000', '19000', '24500', '17000', '8950', '16500', '65000', '35000', '18000', '18500', 'nan', '32000', '12000', 'nan', '32000', '10000', '9000', '15000', '11000', '13500', '34000', '13500', '27000', '11000', '14000', '27000', 'nan', '25000', '32000', '84000', '18000', '33000', '18000', '12561', '12500', '14000', '57000', '49000', '19300', '14990', '26000', '18900', '26000', '31000', '16000', '18000', '20000', 'nan', '35000', '7000', '21000', 'nan', '18900', '25000', '30000', '17500', '14000', '35000', '11700', '26000', '26000', '19900', '14000', '39000', '20000', '20000', '85000', '16500', '18000', '50000', '15000', '12000', '81930', '22000', '12000', '17000', '76414', '9000', '48000', '97707', '18000', '18000', '40000', '55000', '37087', '27000', '31000', '18000', '27000', '31000', '18000', '27000', '15000', '17000', '29659', '69095', '74393', '62890', '63742', '27000', '27000', '33800', '52026', 'nan', '35000', '49000', '43000', '14500', '25800', '26000', '11000', '18000', '13990', '8500', '9000', '15000', '19500', '17000', '21000', '18900', '12000', '16500', '28000', '42000', '34000', '30000', '37852', '10950', '13500', '13000', '21000', '10450', '13000', '65053', '22000', '12000', '16000', '49000', '24000', '35000', '30000', '25000', '18000', '35000', '12000', '55000', '40000', '15990', '49000', '2500', '29000', '16000', '16000', '15000', '30000', '15000', '15000', '15000', '22000', '17000', '15000', '23000', '18000', '38000', '15000', '30000', '11000', '9990', '11800', '35000', '13000', '20000', '48000', '12999', '30000', '15100', '27000', '37000', '20000', '23000', '30000', '95000', '12500', '12500', '15000', '24000', '17000', '80000', '42000', '30000', '26000', '10500', '21000', '49000', '35000', '27500', '18000', '27000', '18000', '54000', '23000', '35000', 'nan', '14000', '13000', '11500', '13500', '24000', '55000', '17000', '14000', '28000', '32000', '27500', '31000', '27000', '27500', '35000', '39000', '27500', '35000', '35000', '11500', '19900', '55000', '32000', '48000', '55000', '82477', '25000', '28000', '22000', '53000', '20000', '13900', '70000', '32000', '26000', '42000', '23500', '19000', '16000', '35000', '18000', '14000', '48000', '48000', '12000', '55000', '53000', '12500', '15000', '27000', '27000', '23000', '45000', '21500', '30000', '85000', '12000', '9900', '27000', '29000', '29000', '18000', '18500', '30000', '30000', '19900', '16500', '22900', '38000', '30000', '53000', '13000', '55000', '14500', '27000', '39500', '29000', '18000', '33000', '26000', '16800', '27000', 'nan', '17000', '29000', 'nan', '14500', '17000', '16000', '16500', '22000', 'nan', '18000', '22000', '12000', '11000', '6500', '18000', '16500', '18000', '34000', '13000', '39500', '10500', '14000', '55276', '29000', '22000', '30000', '18000', '17500', 'nan', '11000', '80000', '16000', '42000', '29000', '26000', '7500', '11000', '23000', '11500', '52026', '45000', '29000', '23500', '29000', '18000', '27000', '15000', '30000', '17000', '19900', '29413', '21500', '32000', '12000', '49000', '30000', '10500', '33800', '19000', '17999', '49000', '36000', '40000', '12900', '14000', '19500', '25500', '26000', '19000', '26000', '23000', '32000', '14500', '19000', '15000', '35000', '18000', '39000', '12000', '18000', '35000', '39000', '30000', '15000', 'nan', '42500', '49500', '48000', '11000', '24000', 'nan', '25000', '180000', '45000', '17900', '29000', '23000', '11400', '24000', '8000', '76000', '14000', '52000', '24000', '22500', '23000', '46000', '99000', '17500', '36787', '7000', '10000', '21000', '19000', '18000', '39000', '34000', '29000', '29000', '12500', '29500', '13900', '26000', '43000', '23000', '22000', '15000', '12000', '30000', '15000', '12000', '12000', '7000', '23000', '12900', '36000', '69000', '19800', '33000', '13500', '20000', '43000', '32000', '42000', '33000', '45000', '32000', 'nan', '175000', '90000', '16900', '16000', '18000', '29000', '32000', '30000', '45000', '21000', '19000', '21500', '15000', '13400', '11900', '11900', '14900', '15000', '24000', '21000', '21000', '12000', '14000', '15000', '12900', '90000', '180000', '15000', '17500', '17500', '35000', '15000', '25000', '10900', '16500', '52800', '6500', '24000', '17500', '13500', '10000', '40000', '48000', '84000', '30000', '12000', '19000', '60000', '29900', '32500', '120000', '18000', '18000', '30000', '18500', '30000', '22000', '14000', '115000', '65000', '28000', '40000', '40000', '32000', '13000', '21000', '23000', '27000', '40000', '13000', '19800', '30000', '25000', '10500', '26000', '40000', '53000', 'nan', '12600', '25000', '62000', '35000', '101102', '14900', '27500', '70000', '10900', '25000', '22000', '17000', '93592', '35000', '13600', '93500', '25000', '60738', '50278', '12000', '66000', '70400', '39600', '29900', '52800', '51000', '35000', '23000', '29000', '78134', '29000', '33000', '11500', '48000', '36000', '23000', '21000', 'nan', '41000', '102249', 'nan', '39000', '21620', '25000', '22000', '11500', '28900', '19000', '25000', '10500', '18500', '30000', '42000', '17500', '10500', '14000', '65053', '95531', '97716', '62895', '18200', 'nan', '103150', '26500', '44000', '13000', '19000', '6000', '30000', '29000', '55000', '20500', '32000', '52000', 'nan', '24000', 'nan', '22900', 'nan', '75000', '18000', '75000', '23500', '32000', '12500', '18000', '27000', '17000', '22500', '14500', '35000', '15990', '22500', '38000', '36000', '36000', '18500', '62000', '33000', '27000', '12500', '13000', '41000', '25000', '24000', '75950', '10000', '14999', '79000', '28500', '19000', '44000', '21000', '23000', '22000', '25500', '27000', '69500', '30000', '14000', '25000', '30000', '42980', '18000', '16500', 'nan', '29000', '32000', '55000', '55000', '18000', '28000', '19000', '15000', '18000', '13000', '17000', '21000', '19500', '65000', '32000', '36000', '38000', '34000', '42000', '16000', '17000', '22900', '16500', '32500', '21000', '23500', '25400', '36000', '65000', '39000', '90000', '35000', 'nan', '180000', '21000', '25000', '17000', '16000', '11000', '22000', '21000', '18000', '30000', '20000', '32000', '30000', '26000', '38000', '20000', '50000', '16000', '42980', '48000', '39000', '29000', '90000', '11500', '19000', '19500', '27000', '10500', '42980', '23000', '20000', '29000', '45000', '30000', '40000', '95585', '42000', '20000', '25000', '27000', '29000', '29500', '76000', '40965', '53700', '40000', '24000', '38000', '42000', '18000', '12500', '55000', '19500', '17900', '25000', '24900', '34000', '65000', '50000', '24000', '21000', '40000', '22000', '21000', '38000', '65000', '21000', '39000', '40000', '25000', '10000', '52000', '45500', '47000', '28000', '22000', '10000', '37000', '60000', '23000', '34000', '47900', '21000', '25000', '23000', '65000', '34000', '38000', '39000', '17000', '16000', '22250', '30000', '75000', '95000', '20000', '26500', '25000', '15000', '22000', '78200', '45000', '20490', '13000', '25000', '14000', '33000', '16000', '40000', '31000', '18000', '60000', '13980', '13650', '42000', '42000', '35000', '15000', '35000', '65000', '72000', '16500', '42000', '32000', '39000', '25000', '23000', '50000', '36000', '40000', '32000', '19000', '47000', '19000', '24000', '55000', '30000', '30000', '44500', '24000', '19500', '24000', '32000', '45000', '21000', '26000', '40000', '21000', '21000', '32000', '29000', '32000', '59500', '40000', '90000', '85000', '38000', '53000', '53000', '41500', '27000', '17000', '18000', '18000', '21000', '17000', '17000', '23000', '21000', '23000', '16000', '23000', '23000', '38000', '18000', '65000', '32000', '29000', '25000', '20000', '18000', '30000', '65000', '42000', '30000', '29000', '38000', '19000', '39000', '40000', '26000', '21000', '38000', '90000', '22000', '27000', '19000', '40000', '55000', '40000', '40000', '20000', '13900', '48000', '65000', '27900', '23000', '24000', '38100', '21000', '24000', '32000', '55000', 'nan', 'nan', '35000', '16900', '19900', '130000', '19000', '14000', '20000', '21000', '22000', '21000', '18500', 'nan', '35000', '33000', '55000', '75000', '35000']\n"
     ]
    }
   ],
   "source": [
    "prices_alt = []\n",
    "\n",
    "for x in prices_strings:\n",
    "    prices_alt.append(x.split(\"Kč\")[0].replace(\" \",\"\").replace(\"'\",\"\").replace(\"[\",\"\"))\n",
    "\n",
    "print(prices_alt)"
   ]
  },
  {
   "cell_type": "code",
   "execution_count": 19,
   "metadata": {
    "scrolled": true
   },
   "outputs": [
    {
     "data": {
      "text/plain": [
       "7878"
      ]
     },
     "execution_count": 19,
     "metadata": {},
     "output_type": "execute_result"
    }
   ],
   "source": [
    "prices_alt_float = [float(i) for i in prices_alt]\n",
    "len(prices_alt_float)"
   ]
  },
  {
   "cell_type": "code",
   "execution_count": 20,
   "metadata": {
    "scrolled": true
   },
   "outputs": [
    {
     "data": {
      "text/plain": [
       "126992.0"
      ]
     },
     "execution_count": 20,
     "metadata": {},
     "output_type": "execute_result"
    }
   ],
   "source": [
    "prices_alt_float[3993]"
   ]
  },
  {
   "cell_type": "markdown",
   "metadata": {},
   "source": [
    "Number of NaNs:"
   ]
  },
  {
   "cell_type": "code",
   "execution_count": 21,
   "metadata": {},
   "outputs": [
    {
     "data": {
      "text/plain": [
       "232"
      ]
     },
     "execution_count": 21,
     "metadata": {},
     "output_type": "execute_result"
    }
   ],
   "source": [
    "YZX = np.array(prices_alt_float)\n",
    "NaNs_alt = np.argwhere(np.isnan(YZX))\n",
    "len(NaNs_alt)"
   ]
  },
  {
   "cell_type": "markdown",
   "metadata": {},
   "source": [
    "### Separate distance and name  in variable containing 'list'"
   ]
  },
  {
   "cell_type": "code",
   "execution_count": 22,
   "metadata": {},
   "outputs": [],
   "source": [
    "import re\n",
    "def extractor(inp): \n",
    "    ''' This function deletes all non numeric chachters from a string\n",
    "    '''\n",
    "    try: \n",
    "        result = int(re.sub(\"[^0-9]\", \"\",inp))\n",
    "    except:\n",
    "        result = None\n",
    "    return result"
   ]
  },
  {
   "cell_type": "code",
   "execution_count": 23,
   "metadata": {},
   "outputs": [],
   "source": [
    "def brush(x, posi):\n",
    "    ''' \n",
    "    This function solves one problem with a structure of our data, we stored it as a list but pandas converted it to string.\n",
    "    We therefore grab the values by \",\" in a list structure [\" \",\" \"]. We know our lists have two values at most\n",
    "    '''\n",
    "    if ~(type(x) == float and np.isnan(x)):\n",
    "        try:\n",
    "            first = x.strip('[]') # this line is probably redundand since we cleaned the dataset above \n",
    "            return first.split(\"', '\")[posi] \n",
    "        except IndexError: #in column Restaurant some values have a different structure\n",
    "            first = x.strip('[]') # this line is probably redundand since we cleaned the dataset above \n",
    "            return first.split(\",\")[posi] \n",
    "    else:\n",
    "        return None  #once NA always NA"
   ]
  },
  {
   "cell_type": "code",
   "execution_count": 24,
   "metadata": {},
   "outputs": [],
   "source": [
    "def clean(var_name): #from our intitial list we create two new columns \n",
    "    data[f'{var_name}_name'] = data[var_name].apply(brush, args = (0,))\n",
    "    data[f'{var_name}_dist'] = data[var_name].apply(brush, args = (1,))\n",
    "    data[f'{var_name}_dist'] = data[f'{var_name}_dist'].apply(extractor) #we keep only digits converted to int in the _dist column\n",
    "    "
   ]
  },
  {
   "cell_type": "code",
   "execution_count": 25,
   "metadata": {},
   "outputs": [],
   "source": [
    "var_to_clean = ['Bankomat','Bus_MHD', 'Cukrárna','Divadlo','Hospoda','Hřiště','Kino',\n",
    " 'Kulturní_památka', 'Lékař', 'Lékárna', 'Metro','Obchod','Pošta','Restaurace', 'Sportoviště',\n",
    "'Tram', 'Veterinář', 'Večerka', 'Vlak','Škola', 'Školka'] # list of column names to clean"
   ]
  },
  {
   "cell_type": "code",
   "execution_count": 26,
   "metadata": {
    "scrolled": true
   },
   "outputs": [],
   "source": [
    "for var in var_to_clean:\n",
    "    clean(var)"
   ]
  },
  {
   "cell_type": "markdown",
   "metadata": {},
   "source": [
    "### converting True & False to 1 & 0"
   ]
  },
  {
   "cell_type": "code",
   "execution_count": 27,
   "metadata": {},
   "outputs": [],
   "source": [
    "def Booli(x): # converts special true and false strings to  1 & 0\n",
    "    if ~(type(x) == float and np.isnan(x)):\n",
    "        if x == '\"\\'boolean-false\\'\"':\n",
    "            return 0\n",
    "        elif x == '\"\\'boolean-true\\'\"':\n",
    "            return 1\n",
    "        else:\n",
    "            return x\n",
    "    else:\n",
    "        return x"
   ]
  },
  {
   "cell_type": "code",
   "execution_count": 28,
   "metadata": {},
   "outputs": [],
   "source": [
    "def convert_01(var_name): #rewrites values by a Booli function\n",
    "    data[var_name] = data[var_name].apply(Booli)  "
   ]
  },
  {
   "cell_type": "code",
   "execution_count": 29,
   "metadata": {},
   "outputs": [],
   "source": [
    "var_conv = ['Výtah','Vybavení']"
   ]
  },
  {
   "cell_type": "code",
   "execution_count": 30,
   "metadata": {},
   "outputs": [],
   "source": [
    "for var in var_conv:\n",
    "    convert_01(var)"
   ]
  },
  {
   "cell_type": "markdown",
   "metadata": {},
   "source": [
    "### Analyzing certain vars"
   ]
  },
  {
   "cell_type": "code",
   "execution_count": 31,
   "metadata": {},
   "outputs": [],
   "source": [
    "def group_exm(var_name): #this function returns values and they frequency of occurence\n",
    "    return data.groupby(var_name)[var_name].count()  "
   ]
  },
  {
   "cell_type": "code",
   "execution_count": 32,
   "metadata": {},
   "outputs": [
    {
     "data": {
      "text/plain": [
       "Aktualizace\n",
       "01.02.2020       1\n",
       "01.03.2020       1\n",
       "01.04.2020      71\n",
       "02.01.2020       2\n",
       "02.02.2020       5\n",
       "              ... \n",
       "30.03.2020      46\n",
       "30.11.2019       1\n",
       "31.03.2020     104\n",
       "Dnes          1271\n",
       "Včera          489\n",
       "Name: Aktualizace, Length: 127, dtype: int64"
      ]
     },
     "execution_count": 32,
     "metadata": {},
     "output_type": "execute_result"
    }
   ],
   "source": [
    "group_exm('Aktualizace')"
   ]
  },
  {
   "cell_type": "code",
   "execution_count": 33,
   "metadata": {},
   "outputs": [
    {
     "data": {
      "text/plain": [
       "Stav_objektu\n",
       "Dobrý                 630\n",
       "K demolici              1\n",
       "Novostavba           1267\n",
       "Po rekonstrukci      1679\n",
       "Projekt                 2\n",
       "Před rekonstrukcí      11\n",
       "Ve výstavbě             1\n",
       "Velmi dobrý          4287\n",
       "Name: Stav_objektu, dtype: int64"
      ]
     },
     "execution_count": 33,
     "metadata": {},
     "output_type": "execute_result"
    }
   ],
   "source": [
    "group_exm('Stav_objektu')"
   ]
  },
  {
   "cell_type": "code",
   "execution_count": 34,
   "metadata": {
    "scrolled": false
   },
   "outputs": [
    {
     "data": {
      "text/plain": [
       "Stavba\n",
       "Cihlová      6365\n",
       "Dřevěná         6\n",
       "Kamenná        10\n",
       "Montovaná       8\n",
       "Panelová      635\n",
       "Skeletová     243\n",
       "Smíšená       611\n",
       "Name: Stavba, dtype: int64"
      ]
     },
     "execution_count": 34,
     "metadata": {},
     "output_type": "execute_result"
    }
   ],
   "source": [
    "group_exm('Stavba')"
   ]
  },
  {
   "cell_type": "code",
   "execution_count": 35,
   "metadata": {
    "scrolled": false
   },
   "outputs": [
    {
     "data": {
      "text/plain": [
       "Vlastnictví\n",
       "Družstevní        208\n",
       "Osobní           7633\n",
       "Státní/obecní      36\n",
       "Name: Vlastnictví, dtype: int64"
      ]
     },
     "execution_count": 35,
     "metadata": {},
     "output_type": "execute_result"
    }
   ],
   "source": [
    "group_exm('Vlastnictví')"
   ]
  },
  {
   "cell_type": "code",
   "execution_count": 36,
   "metadata": {
    "scrolled": false
   },
   "outputs": [
    {
     "data": {
      "text/plain": [
       "Vybavení\n",
       "0            987\n",
       "1           3845\n",
       "Částečně    1145\n",
       "Name: Vybavení, dtype: int64"
      ]
     },
     "execution_count": 36,
     "metadata": {},
     "output_type": "execute_result"
    }
   ],
   "source": [
    "group_exm('Vybavení')"
   ]
  },
  {
   "cell_type": "code",
   "execution_count": 37,
   "metadata": {
    "scrolled": true
   },
   "outputs": [
    {
     "data": {
      "text/plain": [
       "Energy_demands\n",
       "Třída A - Mimořádně úsporná                                          42\n",
       "Třída A - Mimořádně úsporná č. 148/2007 Sb. podle vyhlášky            1\n",
       "Třída A - Mimořádně úsporná č. 78/2013 Sb. podle vyhlášky            11\n",
       "Třída B - Velmi úsporná                                             298\n",
       "Třída B - Velmi úsporná č. 148/2007 Sb. podle vyhlášky               34\n",
       "Třída B - Velmi úsporná č. 78/2013 Sb. podle vyhlášky               284\n",
       "Třída C - Úsporná                                                   477\n",
       "Třída C - Úsporná č. 148/2007 Sb. podle vyhlášky                     49\n",
       "Třída C - Úsporná č. 78/2013 Sb. podle vyhlášky                     341\n",
       "Třída D - Méně úsporná                                              187\n",
       "Třída D - Méně úsporná č. 148/2007 Sb. podle vyhlášky                21\n",
       "Třída D - Méně úsporná č. 78/2013 Sb. podle vyhlášky                187\n",
       "Třída E - Nehospodárná                                               51\n",
       "Třída E - Nehospodárná č. 148/2007 Sb. podle vyhlášky                12\n",
       "Třída E - Nehospodárná č. 78/2013 Sb. podle vyhlášky                 57\n",
       "Třída F - Velmi nehospodárná                                         11\n",
       "Třída F - Velmi nehospodárná č. 78/2013 Sb. podle vyhlášky           36\n",
       "Třída G - Mimořádně nehospodárná                                   2604\n",
       "Třída G - Mimořádně nehospodárná č. 148/2007 Sb. podle vyhlášky     223\n",
       "Třída G - Mimořádně nehospodárná č. 78/2013 Sb. podle vyhlášky     1056\n",
       "Name: Energy_demands, dtype: int64"
      ]
     },
     "execution_count": 37,
     "metadata": {},
     "output_type": "execute_result"
    }
   ],
   "source": [
    "group_exm('Energy_demands') #this could yet tell us something"
   ]
  },
  {
   "cell_type": "markdown",
   "metadata": {},
   "source": [
    "### Transformation of energy demands"
   ]
  },
  {
   "cell_type": "code",
   "execution_count": 38,
   "metadata": {},
   "outputs": [],
   "source": [
    "def eng_class(x):\n",
    "    \n",
    "    if x in ['Třída A - Mimořádně úsporná','Třída A - Mimořádně úsporná č. 148/2007 Sb. podle vyhlášky','Třída A - Mimořádně úsporná č. 78/2013 Sb. podle vyhlášky']:\n",
    "        clas = 'A'\n",
    "    elif x in ['Třída B - Velmi úsporná', 'Třída B - Velmi úsporná č. 148/2007 Sb. podle vyhlášky', 'Třída B - Velmi úsporná č. 78/2013 Sb. podle vyhlášky']:\n",
    "        clas = 'B'\n",
    "    elif x in ['Třída C - Úsporná', 'Třída C - Úsporná č. 148/2007 Sb. podle vyhlášky', 'Třída C - Úsporná č. 78/2013 Sb. podle vyhlášky']:\n",
    "        clas = 'C'\n",
    "    elif x in ['Třída D - Méně úsporná', 'Třída D - Méně úsporná č. 148/2007 Sb. podle vyhlášky', 'Třída D - Méně úsporná č. 78/2013 Sb. podle vyhlášky']:\n",
    "        clas = 'D'\n",
    "    elif x in ['Třída E - Nehospodárná','Třída E - Nehospodárná č. 148/2007 Sb. podle vyhlášky', 'Třída E - Nehospodárná č. 78/2013 Sb. podle vyhlášky']:\n",
    "        clas = 'E'\n",
    "    elif x in ['Třída F - Velmi nehospodárná','Třída F - Velmi nehospodárná č. 78/2013 Sb. podle vyhlášky']:\n",
    "        clas = 'F'\n",
    "    elif x in ['Třída G - Mimořádně nehospodárná','Třída G - Mimořádně nehospodárná č. 148/2007 Sb. podle vyhlášky', 'Třída G - Mimořádně nehospodárná č. 78/2013 Sb. podle vyhlášky']:\n",
    "        clas = 'G'\n",
    "    else:\n",
    "        clas = x\n",
    "    \n",
    "    return clas"
   ]
  },
  {
   "cell_type": "code",
   "execution_count": 39,
   "metadata": {},
   "outputs": [],
   "source": [
    "data['Energy_class'] = data['Energy_demands'].apply(eng_class)"
   ]
  },
  {
   "cell_type": "code",
   "execution_count": 40,
   "metadata": {
    "scrolled": true
   },
   "outputs": [
    {
     "data": {
      "text/plain": [
       "Energy_class\n",
       "A      54\n",
       "B     616\n",
       "C     867\n",
       "D     395\n",
       "E     120\n",
       "F      47\n",
       "G    3883\n",
       "Name: Energy_class, dtype: int64"
      ]
     },
     "execution_count": 40,
     "metadata": {},
     "output_type": "execute_result"
    }
   ],
   "source": [
    "group_exm('Energy_class')"
   ]
  },
  {
   "cell_type": "markdown",
   "metadata": {},
   "source": [
    "### Transformation of Plocha_podlahova and Area"
   ]
  },
  {
   "cell_type": "code",
   "execution_count": 41,
   "metadata": {},
   "outputs": [],
   "source": [
    "ar_var = ['Area', 'Plocha_podlahová']"
   ]
  },
  {
   "cell_type": "code",
   "execution_count": 42,
   "metadata": {},
   "outputs": [],
   "source": [
    "def ext_m2(inp): #converting area based variable to int\n",
    "    if ~(type(inp) == float and np.isnan(inp)):\n",
    "        return int(inp.split('m2')[0])\n",
    "    else:\n",
    "        return inp"
   ]
  },
  {
   "cell_type": "code",
   "execution_count": 43,
   "metadata": {
    "scrolled": true
   },
   "outputs": [],
   "source": [
    "for var in ar_var:\n",
    "    data[var] = data[var].apply(ext_m2)"
   ]
  },
  {
   "cell_type": "code",
   "execution_count": 44,
   "metadata": {},
   "outputs": [
    {
     "data": {
      "text/plain": [
       "4593"
      ]
     },
     "execution_count": 44,
     "metadata": {},
     "output_type": "execute_result"
    }
   ],
   "source": [
    "sum(data['Plocha_podlahová'] == data['Area']) #those variables are the same in 50% of the cases"
   ]
  },
  {
   "cell_type": "code",
   "execution_count": 45,
   "metadata": {},
   "outputs": [],
   "source": [
    "#sloupce ID_zakáyzky, Aktualize asi nemaji velkou informacni hodnotu pro nase ucely. "
   ]
  },
  {
   "cell_type": "markdown",
   "metadata": {},
   "source": [
    "### Extracting value from a Title"
   ]
  },
  {
   "cell_type": "code",
   "execution_count": 46,
   "metadata": {},
   "outputs": [],
   "source": [
    "def get_rooms(x): #This function extract the number of rooms(type) from the title\n",
    "    words = x.split(' ')\n",
    "    for word in words:\n",
    "        if '+' in word:\n",
    "            return(word)\n",
    "        elif 'atypické' == word:\n",
    "            return('atyp')\n",
    "        elif 'pokoje' == word:\n",
    "            return(1)\n",
    "        elif 'více' == word:\n",
    "            return('6+')"
   ]
  },
  {
   "cell_type": "code",
   "execution_count": 47,
   "metadata": {
    "scrolled": true
   },
   "outputs": [],
   "source": [
    "data['Rooms'] = data['Title'].apply(get_rooms)"
   ]
  },
  {
   "cell_type": "code",
   "execution_count": 48,
   "metadata": {},
   "outputs": [
    {
     "data": {
      "text/plain": [
       "Rooms\n",
       "1         83\n",
       "1+1      395\n",
       "1+kk    1476\n",
       "2+1      701\n",
       "2+kk    2477\n",
       "3+1      649\n",
       "3+kk    1271\n",
       "4+1      222\n",
       "4+kk     394\n",
       "5+1       65\n",
       "5+kk      74\n",
       "6+        37\n",
       "atyp      33\n",
       "Name: Rooms, dtype: int64"
      ]
     },
     "execution_count": 48,
     "metadata": {},
     "output_type": "execute_result"
    }
   ],
   "source": [
    "group_exm('Rooms') #tohle rika, ze Prazaci maji vetsinou oddeleny zachod a koupelnu"
   ]
  },
  {
   "cell_type": "markdown",
   "metadata": {},
   "source": [
    "### Patro"
   ]
  },
  {
   "cell_type": "code",
   "execution_count": 53,
   "metadata": {},
   "outputs": [],
   "source": [
    "data['Podlaží_č'] = data['Podlaží'].apply(lambda x: x[0]) #This extract the floor(always first) from Podlazi"
   ]
  },
  {
   "cell_type": "markdown",
   "metadata": {},
   "source": [
    "## Number of NaNs:"
   ]
  },
  {
   "cell_type": "code",
   "execution_count": 55,
   "metadata": {
    "scrolled": true
   },
   "outputs": [
    {
     "data": {
      "text/plain": [
       "232"
      ]
     },
     "execution_count": 55,
     "metadata": {},
     "output_type": "execute_result"
    }
   ],
   "source": [
    "XYZ = np.array(data.Cena)\n",
    "NaNs = np.argwhere(np.isnan(XYZ))\n",
    "len(NaNs)"
   ]
  },
  {
   "cell_type": "markdown",
   "metadata": {},
   "source": [
    "### c) Dealing with messy adresses"
   ]
  },
  {
   "cell_type": "markdown",
   "metadata": {},
   "source": [
    "In this case, regex method extracting numerical characters (=districts of Prague) from observations appears to be the best way. Using the split fce doesn't seem to work well in this case."
   ]
  },
  {
   "cell_type": "code",
   "execution_count": 56,
   "metadata": {},
   "outputs": [],
   "source": [
    "#my first attempts for the split method. does not work that nice, but i keep it here for case...\n",
    "#adress_strings = [str(i) for i in data.Adresa]"
   ]
  },
  {
   "cell_type": "code",
   "execution_count": 57,
   "metadata": {},
   "outputs": [],
   "source": [
    "#district = []\n",
    "\n",
    "#for y in adress_strings:\n",
    "#    district.append(y.split(\"-\")[0][-8:].replace(\" \",\"\").replace(\"[\",\"\"))\n",
    "\n",
    "#print(district)"
   ]
  },
  {
   "cell_type": "code",
   "execution_count": 58,
   "metadata": {
    "scrolled": true
   },
   "outputs": [
    {
     "name": "stdout",
     "output_type": "stream",
     "text": [
      "0        9.0\n",
      "1        3.0\n",
      "2        9.0\n",
      "3        5.0\n",
      "4        4.0\n",
      "        ... \n",
      "7873     NaN\n",
      "7874    10.0\n",
      "7875    10.0\n",
      "7876     7.0\n",
      "7877     7.0\n",
      "Name: Adresa, Length: 7878, dtype: float64\n"
     ]
    }
   ],
   "source": [
    "district = data['Adresa'].apply(extractor)\n",
    "print(district)"
   ]
  },
  {
   "cell_type": "code",
   "execution_count": 59,
   "metadata": {},
   "outputs": [],
   "source": [
    "data['district'] = district"
   ]
  },
  {
   "cell_type": "code",
   "execution_count": 60,
   "metadata": {
    "scrolled": true
   },
   "outputs": [
    {
     "data": {
      "text/plain": [
       "1098    2810.0\n",
       "2489    2810.0\n",
       "6459    2810.0\n",
       "83      2810.0\n",
       "1436    2810.0\n",
       "2165    2810.0\n",
       "1693    2810.0\n",
       "3550    2810.0\n",
       "6768    2810.0\n",
       "2819    2810.0\n",
       "2488    2810.0\n",
       "5017    1015.0\n",
       "2750     411.0\n",
       "4575     281.0\n",
       "7230     281.0\n",
       "7783     281.0\n",
       "4698     281.0\n",
       "7023     281.0\n",
       "6192     281.0\n",
       "168       86.0\n",
       "74        64.0\n",
       "7607      55.0\n",
       "6107      55.0\n",
       "651       55.0\n",
       "6216      54.0\n",
       "236       54.0\n",
       "3223      54.0\n",
       "134       54.0\n",
       "1800      54.0\n",
       "3956      14.0\n",
       "Name: district, dtype: float64"
      ]
     },
     "execution_count": 60,
     "metadata": {},
     "output_type": "execute_result"
    }
   ],
   "source": [
    "data['district'].sort_values(ascending = False)[1:31] \n",
    "#we can see that these values apparently doesn't give as what we want. \n",
    "#it is because of occurence of \"28. října\" in couple of adresses of Prague 1 and \"28. pluku\" in Prague 10,\n",
    "#\"5. máje\" in Prague 5, \"5.května\" in Prague 4, \"obětí 6.května\" in Prague 4 and \"8.listopadu\" in Prague 6.\n",
    "#For these adresses we need to get rid of the first 1 or 2 characters to obtain the districts' numbers.\n",
    "#Furthermore also 'Praha 10 - Praha 15 Panorama' [index 5017] and 'Praha 4 - Praha 11 Panorama' [index 2750]\n",
    "#bring some complications. For these two, we need to get rid of last 2 characters."
   ]
  },
  {
   "cell_type": "code",
   "execution_count": 61,
   "metadata": {},
   "outputs": [
    {
     "data": {
      "text/plain": [
       "'8. listopadu, Praha 6 - Břevnov'"
      ]
     },
     "execution_count": 61,
     "metadata": {},
     "output_type": "execute_result"
    }
   ],
   "source": [
    "data['Adresa'][168]"
   ]
  },
  {
   "cell_type": "code",
   "execution_count": 62,
   "metadata": {},
   "outputs": [],
   "source": [
    "fal_indx = data['district'].sort_values(ascending = False)[1:30].index"
   ]
  },
  {
   "cell_type": "code",
   "execution_count": 68,
   "metadata": {},
   "outputs": [],
   "source": [
    "dist_name = ('Panorama', 'Praha1','Praha2','Praha3','Praha4','Praha5','Praha6','Praha7','Praha8','Praha9','Praha10','Praha11','Praha12','Praha13','Praha14','Praha15','Praha16','Praha17','Praha18','Praha19','Praha20','Praha21','Praha22')"
   ]
  },
  {
   "cell_type": "code",
   "execution_count": 69,
   "metadata": {
    "scrolled": true
   },
   "outputs": [
    {
     "ename": "KeyError",
     "evalue": "'Requested level (Praha1) does not match index name (None)'",
     "output_type": "error",
     "traceback": [
      "\u001b[1;31m---------------------------------------------------------------------------\u001b[0m",
      "\u001b[1;31mKeyError\u001b[0m                                  Traceback (most recent call last)",
      "\u001b[1;32m<ipython-input-69-b4eaed463e6d>\u001b[0m in \u001b[0;36m<module>\u001b[1;34m\u001b[0m\n\u001b[1;32m----> 1\u001b[1;33m \u001b[0ma\u001b[0m \u001b[1;33m=\u001b[0m \u001b[1;33m[\u001b[0m\u001b[0mdistrict\u001b[0m\u001b[1;33m.\u001b[0m\u001b[0mcount\u001b[0m\u001b[1;33m(\u001b[0m\u001b[0mx\u001b[0m\u001b[1;33m)\u001b[0m \u001b[1;32mfor\u001b[0m \u001b[0mx\u001b[0m \u001b[1;32min\u001b[0m \u001b[0mdist_name\u001b[0m\u001b[1;33m]\u001b[0m\u001b[1;33m\u001b[0m\u001b[1;33m\u001b[0m\u001b[0m\n\u001b[0m\u001b[0;32m      2\u001b[0m \u001b[0mprint\u001b[0m\u001b[1;33m(\u001b[0m\u001b[0ma\u001b[0m\u001b[1;33m)\u001b[0m\u001b[1;33m\u001b[0m\u001b[1;33m\u001b[0m\u001b[0m\n",
      "\u001b[1;32m<ipython-input-69-b4eaed463e6d>\u001b[0m in \u001b[0;36m<listcomp>\u001b[1;34m(.0)\u001b[0m\n\u001b[1;32m----> 1\u001b[1;33m \u001b[0ma\u001b[0m \u001b[1;33m=\u001b[0m \u001b[1;33m[\u001b[0m\u001b[0mdistrict\u001b[0m\u001b[1;33m.\u001b[0m\u001b[0mcount\u001b[0m\u001b[1;33m(\u001b[0m\u001b[0mx\u001b[0m\u001b[1;33m)\u001b[0m \u001b[1;32mfor\u001b[0m \u001b[0mx\u001b[0m \u001b[1;32min\u001b[0m \u001b[0mdist_name\u001b[0m\u001b[1;33m]\u001b[0m\u001b[1;33m\u001b[0m\u001b[1;33m\u001b[0m\u001b[0m\n\u001b[0m\u001b[0;32m      2\u001b[0m \u001b[0mprint\u001b[0m\u001b[1;33m(\u001b[0m\u001b[0ma\u001b[0m\u001b[1;33m)\u001b[0m\u001b[1;33m\u001b[0m\u001b[1;33m\u001b[0m\u001b[0m\n",
      "\u001b[1;32m~\\Anaconda3\\lib\\site-packages\\pandas\\core\\series.py\u001b[0m in \u001b[0;36mcount\u001b[1;34m(self, level)\u001b[0m\n\u001b[0;32m   1890\u001b[0m \u001b[1;33m\u001b[0m\u001b[0m\n\u001b[0;32m   1891\u001b[0m         \u001b[1;32mif\u001b[0m \u001b[0misinstance\u001b[0m\u001b[1;33m(\u001b[0m\u001b[0mlevel\u001b[0m\u001b[1;33m,\u001b[0m \u001b[0mstr\u001b[0m\u001b[1;33m)\u001b[0m\u001b[1;33m:\u001b[0m\u001b[1;33m\u001b[0m\u001b[1;33m\u001b[0m\u001b[0m\n\u001b[1;32m-> 1892\u001b[1;33m             \u001b[0mlevel\u001b[0m \u001b[1;33m=\u001b[0m \u001b[0mself\u001b[0m\u001b[1;33m.\u001b[0m\u001b[0mindex\u001b[0m\u001b[1;33m.\u001b[0m\u001b[0m_get_level_number\u001b[0m\u001b[1;33m(\u001b[0m\u001b[0mlevel\u001b[0m\u001b[1;33m)\u001b[0m\u001b[1;33m\u001b[0m\u001b[1;33m\u001b[0m\u001b[0m\n\u001b[0m\u001b[0;32m   1893\u001b[0m \u001b[1;33m\u001b[0m\u001b[0m\n\u001b[0;32m   1894\u001b[0m         \u001b[0mlev\u001b[0m \u001b[1;33m=\u001b[0m \u001b[0mself\u001b[0m\u001b[1;33m.\u001b[0m\u001b[0mindex\u001b[0m\u001b[1;33m.\u001b[0m\u001b[0mlevels\u001b[0m\u001b[1;33m[\u001b[0m\u001b[0mlevel\u001b[0m\u001b[1;33m]\u001b[0m\u001b[1;33m\u001b[0m\u001b[1;33m\u001b[0m\u001b[0m\n",
      "\u001b[1;32m~\\Anaconda3\\lib\\site-packages\\pandas\\core\\indexes\\base.py\u001b[0m in \u001b[0;36m_get_level_number\u001b[1;34m(self, level)\u001b[0m\n\u001b[0;32m   1561\u001b[0m \u001b[1;33m\u001b[0m\u001b[0m\n\u001b[0;32m   1562\u001b[0m     \u001b[1;32mdef\u001b[0m \u001b[0m_get_level_number\u001b[0m\u001b[1;33m(\u001b[0m\u001b[0mself\u001b[0m\u001b[1;33m,\u001b[0m \u001b[0mlevel\u001b[0m\u001b[1;33m)\u001b[0m\u001b[1;33m:\u001b[0m\u001b[1;33m\u001b[0m\u001b[1;33m\u001b[0m\u001b[0m\n\u001b[1;32m-> 1563\u001b[1;33m         \u001b[0mself\u001b[0m\u001b[1;33m.\u001b[0m\u001b[0m_validate_index_level\u001b[0m\u001b[1;33m(\u001b[0m\u001b[0mlevel\u001b[0m\u001b[1;33m)\u001b[0m\u001b[1;33m\u001b[0m\u001b[1;33m\u001b[0m\u001b[0m\n\u001b[0m\u001b[0;32m   1564\u001b[0m         \u001b[1;32mreturn\u001b[0m \u001b[1;36m0\u001b[0m\u001b[1;33m\u001b[0m\u001b[1;33m\u001b[0m\u001b[0m\n\u001b[0;32m   1565\u001b[0m \u001b[1;33m\u001b[0m\u001b[0m\n",
      "\u001b[1;32m~\\Anaconda3\\lib\\site-packages\\pandas\\core\\indexes\\base.py\u001b[0m in \u001b[0;36m_validate_index_level\u001b[1;34m(self, level)\u001b[0m\n\u001b[0;32m   1556\u001b[0m             raise KeyError(\n\u001b[0;32m   1557\u001b[0m                 \"Requested level ({}) does not match index name ({})\".format(\n\u001b[1;32m-> 1558\u001b[1;33m                     \u001b[0mlevel\u001b[0m\u001b[1;33m,\u001b[0m \u001b[0mself\u001b[0m\u001b[1;33m.\u001b[0m\u001b[0mname\u001b[0m\u001b[1;33m\u001b[0m\u001b[1;33m\u001b[0m\u001b[0m\n\u001b[0m\u001b[0;32m   1559\u001b[0m                 )\n\u001b[0;32m   1560\u001b[0m             )\n",
      "\u001b[1;31mKeyError\u001b[0m: 'Requested level (Praha1) does not match index name (None)'"
     ]
    }
   ],
   "source": [
    "a = [district.count(x) for x in dist_name]\n",
    "print(a)"
   ]
  },
  {
   "cell_type": "code",
   "execution_count": 138,
   "metadata": {},
   "outputs": [
    {
     "data": {
      "text/plain": [
       "6748"
      ]
     },
     "execution_count": 138,
     "metadata": {},
     "output_type": "execute_result"
    }
   ],
   "source": [
    "55+1300+997+731+718+1131+491+313+524+488"
   ]
  },
  {
   "cell_type": "markdown",
   "metadata": {},
   "source": [
    "### Let us reconsider which var are valuable"
   ]
  },
  {
   "cell_type": "code",
   "execution_count": 44,
   "metadata": {
    "scrolled": false
   },
   "outputs": [
    {
     "data": {
      "text/html": [
       "<div>\n",
       "<style scoped>\n",
       "    .dataframe tbody tr th:only-of-type {\n",
       "        vertical-align: middle;\n",
       "    }\n",
       "\n",
       "    .dataframe tbody tr th {\n",
       "        vertical-align: top;\n",
       "    }\n",
       "\n",
       "    .dataframe thead th {\n",
       "        text-align: right;\n",
       "    }\n",
       "</style>\n",
       "<table border=\"1\" class=\"dataframe\">\n",
       "  <thead>\n",
       "    <tr style=\"text-align: right;\">\n",
       "      <th></th>\n",
       "      <th>Adresa</th>\n",
       "      <th>Aktualizace</th>\n",
       "      <th>Bankomat</th>\n",
       "      <th>Bus_MHD</th>\n",
       "      <th>Price_total</th>\n",
       "      <th>Cukrárna</th>\n",
       "      <th>Divadlo</th>\n",
       "      <th>Energy_demands</th>\n",
       "      <th>Hospoda</th>\n",
       "      <th>Hřiště</th>\n",
       "      <th>ID_zakázky:</th>\n",
       "      <th>Kino</th>\n",
       "      <th>Kulturní_památka</th>\n",
       "      <th>Lékař</th>\n",
       "      <th>Lékárna</th>\n",
       "      <th>Metro</th>\n",
       "      <th>Obchod</th>\n",
       "      <th>Plocha_podlahová</th>\n",
       "      <th>Podlaží</th>\n",
       "      <th>Poznámka_k_ceně</th>\n",
       "      <th>Pošta</th>\n",
       "      <th>Restaurace</th>\n",
       "      <th>Sportoviště</th>\n",
       "      <th>Stav_objektu</th>\n",
       "      <th>Stavba</th>\n",
       "      <th>Title</th>\n",
       "      <th>Tram</th>\n",
       "      <th>Area</th>\n",
       "      <th>Veterinář</th>\n",
       "      <th>Večerka</th>\n",
       "      <th>Vlak</th>\n",
       "      <th>Vlastnictví</th>\n",
       "      <th>Vybavení</th>\n",
       "      <th>Výtah</th>\n",
       "      <th>Škola</th>\n",
       "      <th>Školka</th>\n",
       "      <th>Cena</th>\n",
       "      <th>Bankomat_name</th>\n",
       "      <th>Bankomat_dist</th>\n",
       "      <th>Bus_MHD_name</th>\n",
       "      <th>Bus_MHD_dist</th>\n",
       "      <th>Cukrárna_name</th>\n",
       "      <th>Cukrárna_dist</th>\n",
       "      <th>Divadlo_name</th>\n",
       "      <th>Divadlo_dist</th>\n",
       "      <th>Hospoda_name</th>\n",
       "      <th>Hospoda_dist</th>\n",
       "      <th>Hřiště_name</th>\n",
       "      <th>Hřiště_dist</th>\n",
       "      <th>Kino_name</th>\n",
       "      <th>Kino_dist</th>\n",
       "      <th>Kulturní_památka_name</th>\n",
       "      <th>Kulturní_památka_dist</th>\n",
       "      <th>Lékař_name</th>\n",
       "      <th>Lékař_dist</th>\n",
       "      <th>Lékárna_name</th>\n",
       "      <th>Lékárna_dist</th>\n",
       "      <th>Metro_name</th>\n",
       "      <th>Metro_dist</th>\n",
       "      <th>Obchod_name</th>\n",
       "      <th>Obchod_dist</th>\n",
       "      <th>Pošta_name</th>\n",
       "      <th>Pošta_dist</th>\n",
       "      <th>Restaurace_name</th>\n",
       "      <th>Restaurace_dist</th>\n",
       "      <th>Sportoviště_name</th>\n",
       "      <th>Sportoviště_dist</th>\n",
       "      <th>Tram_name</th>\n",
       "      <th>Tram_dist</th>\n",
       "      <th>Veterinář_name</th>\n",
       "      <th>Veterinář_dist</th>\n",
       "      <th>Večerka_name</th>\n",
       "      <th>Večerka_dist</th>\n",
       "      <th>Vlak_name</th>\n",
       "      <th>Vlak_dist</th>\n",
       "      <th>Škola_name</th>\n",
       "      <th>Škola_dist</th>\n",
       "      <th>Školka_name</th>\n",
       "      <th>Školka_dist</th>\n",
       "      <th>Energy_class</th>\n",
       "      <th>Rooms</th>\n",
       "      <th>Podlaží_č</th>\n",
       "    </tr>\n",
       "  </thead>\n",
       "  <tbody>\n",
       "    <tr>\n",
       "      <td>0</td>\n",
       "      <td>Dobrovolného, Praha 9 - Černý Most Panorama</td>\n",
       "      <td>Dnes</td>\n",
       "      <td>Bankomat České spořitelny', ' (542 m)</td>\n",
       "      <td>Generála Janouška', ' (132 m)</td>\n",
       "      <td>12 000 Kč za měsíc</td>\n",
       "      <td>Shisha Room Dvin', ' (1144 m)</td>\n",
       "      <td>Přírodní divadlo Dády Stoklasy', ' (3152 m)</td>\n",
       "      <td>Třída G - Mimořádně nehospodárná</td>\n",
       "      <td>Šenk Na Rajské', ' (476 m)</td>\n",
       "      <td>Dětské hřiště Rajský vrch', ' (162 m)</td>\n",
       "      <td>N05462</td>\n",
       "      <td>CineStar Černý Most', ' (1815 m)</td>\n",
       "      <td>Hajnova vila', ' (3984 m)</td>\n",
       "      <td>MUDr. Zdeněk Valentík', ' (363 m)</td>\n",
       "      <td>Lékárna U Rajské zahrady', ' (500 m)</td>\n",
       "      <td>Rajská zahrada', ' (525 m)</td>\n",
       "      <td>Kaufland', ' (1486 m)</td>\n",
       "      <td>26.0</td>\n",
       "      <td>1. podlaží z celkem 5</td>\n",
       "      <td>+ 2.500,-Kč poplatky, elektřina, provize RK</td>\n",
       "      <td>Pošta Praha 98 - Česká pošta, s.p.', ' (442 m)</td>\n",
       "      <td>Jiří Stopfer', ' (443 m)</td>\n",
       "      <td>Veřejné hřiště na míčové hry Pospíchalova', ' ...</td>\n",
       "      <td>Novostavba</td>\n",
       "      <td>Skeletová</td>\n",
       "      <td>Pronájem bytu 1+kk 26 m²</td>\n",
       "      <td>Lehovec', ' (1136 m)</td>\n",
       "      <td>26</td>\n",
       "      <td>MetropoleVet Praha s.r.o.', ' (623 m)</td>\n",
       "      <td>Albert Supermarket', ' (451 m)</td>\n",
       "      <td>Praha-Kyje', ' (1445 m)</td>\n",
       "      <td>Osobní</td>\n",
       "      <td>NaN</td>\n",
       "      <td>NaN</td>\n",
       "      <td>ZUŠ Praha 9, Ratibořická', ' (234 m)</td>\n",
       "      <td>MŠ Sluníčko Praha 9 - Černý Most', ' (279 m)</td>\n",
       "      <td>12000.0</td>\n",
       "      <td>Bankomat České spořitelny</td>\n",
       "      <td>542.0</td>\n",
       "      <td>Generála Janouška</td>\n",
       "      <td>132.0</td>\n",
       "      <td>Shisha Room Dvin</td>\n",
       "      <td>1144.0</td>\n",
       "      <td>Přírodní divadlo Dády Stoklasy</td>\n",
       "      <td>3152.0</td>\n",
       "      <td>Šenk Na Rajské</td>\n",
       "      <td>476.0</td>\n",
       "      <td>Dětské hřiště Rajský vrch</td>\n",
       "      <td>162.0</td>\n",
       "      <td>CineStar Černý Most</td>\n",
       "      <td>1815.0</td>\n",
       "      <td>Hajnova vila</td>\n",
       "      <td>3984.0</td>\n",
       "      <td>MUDr. Zdeněk Valentík</td>\n",
       "      <td>363.0</td>\n",
       "      <td>Lékárna U Rajské zahrady</td>\n",
       "      <td>500.0</td>\n",
       "      <td>Rajská zahrada</td>\n",
       "      <td>525.0</td>\n",
       "      <td>Kaufland</td>\n",
       "      <td>1486.0</td>\n",
       "      <td>Pošta Praha 98 - Česká pošta, s.p.</td>\n",
       "      <td>442.0</td>\n",
       "      <td>Jiří Stopfer</td>\n",
       "      <td>443.0</td>\n",
       "      <td>Veřejné hřiště na míčové hry Pospíchalova</td>\n",
       "      <td>295.0</td>\n",
       "      <td>Lehovec</td>\n",
       "      <td>1136.0</td>\n",
       "      <td>MetropoleVet Praha s.r.o.</td>\n",
       "      <td>623.0</td>\n",
       "      <td>Albert Supermarket</td>\n",
       "      <td>451.0</td>\n",
       "      <td>Praha-Kyje</td>\n",
       "      <td>1445.0</td>\n",
       "      <td>ZUŠ Praha 9, Ratibořická</td>\n",
       "      <td>234.0</td>\n",
       "      <td>MŠ Sluníčko Praha 9 - Černý Most</td>\n",
       "      <td>279.0</td>\n",
       "      <td>G</td>\n",
       "      <td>1+kk</td>\n",
       "      <td>1</td>\n",
       "    </tr>\n",
       "    <tr>\n",
       "      <td>1</td>\n",
       "      <td>Bořivojova, Praha 3 - Žižkov Panorama</td>\n",
       "      <td>Dnes</td>\n",
       "      <td>Bankomat České spořitelny', ' (122 m)</td>\n",
       "      <td>Tachovské náměstí', ' (443 m)</td>\n",
       "      <td>9 500 Kč za nemovitost, + provize RK</td>\n",
       "      <td>Klub JINÝ KAFE', ' (283 m)</td>\n",
       "      <td>Žižkovské divadlo Járy Cimrmana', ' (280 m)</td>\n",
       "      <td>Třída G - Mimořádně nehospodárná</td>\n",
       "      <td>Hospůdka U Habásků', ' (209 m)</td>\n",
       "      <td>Dětské hřiště Bořivojova', ' (294 m)</td>\n",
       "      <td>57/4562</td>\n",
       "      <td>Filmový klub VŠE', ' (691 m)</td>\n",
       "      <td>Dům U černé Matky Boží', ' (1846 m)</td>\n",
       "      <td>MUDr. Milan Hudi', ' (502 m)</td>\n",
       "      <td>Lékárna U Matky Boží', ' (147 m)</td>\n",
       "      <td>Jiřího z Poděbrad', ' (652 m)</td>\n",
       "      <td>PAVILON, a.s.', ' (941 m)</td>\n",
       "      <td>23.0</td>\n",
       "      <td>5. podlaží z celkem 4</td>\n",
       "      <td>plus poplatky, 500</td>\n",
       "      <td>Pošta Praha 35 - Česká pošta, s.p.', ' (176 m)</td>\n",
       "      <td>Restaurace Lavička', ' (119 m)</td>\n",
       "      <td>Sportovní centrum Olšanka', ' (469 m)</td>\n",
       "      <td>Dobrý</td>\n",
       "      <td>Cihlová</td>\n",
       "      <td>Pronájem bytu 1+kk 23 m²</td>\n",
       "      <td>Lipanská', ' (186 m)</td>\n",
       "      <td>23</td>\n",
       "      <td>MVDr. Jan Dubský', ' (425 m)</td>\n",
       "      <td>Shalamar Foods', ' (165 m)</td>\n",
       "      <td>Praha hlavní nádraží', ' (984 m)</td>\n",
       "      <td>Osobní</td>\n",
       "      <td>NaN</td>\n",
       "      <td>NaN</td>\n",
       "      <td>Gymnázium Karla Sladkovského Praha 3', ' (56 m)</td>\n",
       "      <td>ZŠ a MŠ Jaroslava Seiferta Praha 3', ' (243 m)</td>\n",
       "      <td>9500.0</td>\n",
       "      <td>Bankomat České spořitelny</td>\n",
       "      <td>122.0</td>\n",
       "      <td>Tachovské náměstí</td>\n",
       "      <td>443.0</td>\n",
       "      <td>Klub JINÝ KAFE</td>\n",
       "      <td>283.0</td>\n",
       "      <td>Žižkovské divadlo Járy Cimrmana</td>\n",
       "      <td>280.0</td>\n",
       "      <td>Hospůdka U Habásků</td>\n",
       "      <td>209.0</td>\n",
       "      <td>Dětské hřiště Bořivojova</td>\n",
       "      <td>294.0</td>\n",
       "      <td>Filmový klub VŠE</td>\n",
       "      <td>691.0</td>\n",
       "      <td>Dům U černé Matky Boží</td>\n",
       "      <td>1846.0</td>\n",
       "      <td>MUDr. Milan Hudi</td>\n",
       "      <td>502.0</td>\n",
       "      <td>Lékárna U Matky Boží</td>\n",
       "      <td>147.0</td>\n",
       "      <td>Jiřího z Poděbrad</td>\n",
       "      <td>652.0</td>\n",
       "      <td>PAVILON, a.s.</td>\n",
       "      <td>941.0</td>\n",
       "      <td>Pošta Praha 35 - Česká pošta, s.p.</td>\n",
       "      <td>176.0</td>\n",
       "      <td>Restaurace Lavička</td>\n",
       "      <td>119.0</td>\n",
       "      <td>Sportovní centrum Olšanka</td>\n",
       "      <td>469.0</td>\n",
       "      <td>Lipanská</td>\n",
       "      <td>186.0</td>\n",
       "      <td>MVDr. Jan Dubský</td>\n",
       "      <td>425.0</td>\n",
       "      <td>Shalamar Foods</td>\n",
       "      <td>165.0</td>\n",
       "      <td>Praha hlavní nádraží</td>\n",
       "      <td>984.0</td>\n",
       "      <td>Gymnázium Karla Sladkovského Praha 3</td>\n",
       "      <td>56.0</td>\n",
       "      <td>ZŠ a MŠ Jaroslava Seiferta Praha 3</td>\n",
       "      <td>243.0</td>\n",
       "      <td>G</td>\n",
       "      <td>1+kk</td>\n",
       "      <td>5</td>\n",
       "    </tr>\n",
       "    <tr>\n",
       "      <td>2</td>\n",
       "      <td>Tupolevova, Praha 9 - Letňany Panorama</td>\n",
       "      <td>Dnes</td>\n",
       "      <td>Bankomat České spořitelny', ' (236 m)</td>\n",
       "      <td>Šumperská', ' (177 m)</td>\n",
       "      <td>13 900 Kč za měsíc</td>\n",
       "      <td>Café Infinity', ' (204 m)</td>\n",
       "      <td>Divadlo Pohádka', ' (1057 m)</td>\n",
       "      <td>NaN</td>\n",
       "      <td>Pivnice na Královce', ' (1824 m)</td>\n",
       "      <td>Venkovní posilovna u obchodního centra', ' (19...</td>\n",
       "      <td>NaN</td>\n",
       "      <td>Cinema City Letňany', ' (223 m)</td>\n",
       "      <td>Hajnova vila', ' (2248 m)</td>\n",
       "      <td>MUDr. Petr Zieg', ' (317 m)</td>\n",
       "      <td>APOMED, s.r.o.', ' (302 m)</td>\n",
       "      <td>Letňany', ' (1382 m)</td>\n",
       "      <td>Tesco', ' (366 m)</td>\n",
       "      <td>NaN</td>\n",
       "      <td>4. podlaží</td>\n",
       "      <td>NaN</td>\n",
       "      <td>Pošta Praha 99 - Česká pošta, s.p.', ' (680 m)</td>\n",
       "      <td>Pub Infinity', ' (207 m)</td>\n",
       "      <td>Surf Arena', ' (350 m)</td>\n",
       "      <td>Velmi dobrý</td>\n",
       "      <td>Panelová</td>\n",
       "      <td>Pronájem bytu 2+1 52 m²</td>\n",
       "      <td>Sídliště Ďáblice', ' (1906 m)</td>\n",
       "      <td>52</td>\n",
       "      <td>Veterinární ordinace Letňany', ' (302 m)</td>\n",
       "      <td>Penny Market', ' (183 m)</td>\n",
       "      <td>Praha-Čakovice', ' (1695 m)</td>\n",
       "      <td>Osobní</td>\n",
       "      <td>NaN</td>\n",
       "      <td>1.0</td>\n",
       "      <td>Základní škola Fryčovická', ' (160 m)</td>\n",
       "      <td>MŠ Havířovská', ' (255 m)</td>\n",
       "      <td>13900.0</td>\n",
       "      <td>Bankomat České spořitelny</td>\n",
       "      <td>236.0</td>\n",
       "      <td>Šumperská</td>\n",
       "      <td>177.0</td>\n",
       "      <td>Café Infinity</td>\n",
       "      <td>204.0</td>\n",
       "      <td>Divadlo Pohádka</td>\n",
       "      <td>1057.0</td>\n",
       "      <td>Pivnice na Královce</td>\n",
       "      <td>1824.0</td>\n",
       "      <td>Venkovní posilovna u obchodního centra</td>\n",
       "      <td>194.0</td>\n",
       "      <td>Cinema City Letňany</td>\n",
       "      <td>223.0</td>\n",
       "      <td>Hajnova vila</td>\n",
       "      <td>2248.0</td>\n",
       "      <td>MUDr. Petr Zieg</td>\n",
       "      <td>317.0</td>\n",
       "      <td>APOMED, s.r.o.</td>\n",
       "      <td>302.0</td>\n",
       "      <td>Letňany</td>\n",
       "      <td>1382.0</td>\n",
       "      <td>Tesco</td>\n",
       "      <td>366.0</td>\n",
       "      <td>Pošta Praha 99 - Česká pošta, s.p.</td>\n",
       "      <td>680.0</td>\n",
       "      <td>Pub Infinity</td>\n",
       "      <td>207.0</td>\n",
       "      <td>Surf Arena</td>\n",
       "      <td>350.0</td>\n",
       "      <td>Sídliště Ďáblice</td>\n",
       "      <td>1906.0</td>\n",
       "      <td>Veterinární ordinace Letňany</td>\n",
       "      <td>302.0</td>\n",
       "      <td>Penny Market</td>\n",
       "      <td>183.0</td>\n",
       "      <td>Praha-Čakovice</td>\n",
       "      <td>1695.0</td>\n",
       "      <td>Základní škola Fryčovická</td>\n",
       "      <td>160.0</td>\n",
       "      <td>MŠ Havířovská</td>\n",
       "      <td>255.0</td>\n",
       "      <td>NaN</td>\n",
       "      <td>2+1</td>\n",
       "      <td>4</td>\n",
       "    </tr>\n",
       "    <tr>\n",
       "      <td>3</td>\n",
       "      <td>Podbělohorská, Praha 5 - Smíchov Panorama</td>\n",
       "      <td>Dnes</td>\n",
       "      <td>Bankomat Komerční banky', ' (381 m)</td>\n",
       "      <td>Pod Lipkami', ' (30 m)</td>\n",
       "      <td>15 000 Kč za nemovitost, + provize RK</td>\n",
       "      <td>Cukrárna Pod Marjánkou', ' (1333 m)</td>\n",
       "      <td>JUDr. Jiří Šilhán', ' (279 m)</td>\n",
       "      <td>Třída B - Velmi úsporná</td>\n",
       "      <td>Restaurace Na zámyšli', ' (423 m)</td>\n",
       "      <td>Dětské hřiště Na Vršku', ' (116 m)</td>\n",
       "      <td>44/4562</td>\n",
       "      <td>CineStar Anděl', ' (2038 m)</td>\n",
       "      <td>Šaldova vila', ' (757 m)</td>\n",
       "      <td>MUDr. Drahomíra Miškovská', ' (309 m)</td>\n",
       "      <td>Lékárna Melissa', ' (447 m)</td>\n",
       "      <td>Radlická', ' (2026 m)</td>\n",
       "      <td>Obchodní centrum Nový Smíchov', ' (2075 m)</td>\n",
       "      <td>58.0</td>\n",
       "      <td>2. podlaží z celkem 3</td>\n",
       "      <td>, 3500</td>\n",
       "      <td>Pošta Praha 56 - Česká pošta, s.p.', ' (379 m)</td>\n",
       "      <td>ŘÍZKÁRNA ROZVOZ JÍDEL', ' (345 m)</td>\n",
       "      <td>TJ Banka Praha z.s.', ' (345 m)</td>\n",
       "      <td>Novostavba</td>\n",
       "      <td>Cihlová</td>\n",
       "      <td>Pronájem bytu 2+kk 58 m²</td>\n",
       "      <td>Kavalírka', ' (370 m)</td>\n",
       "      <td>58</td>\n",
       "      <td>Veterinární klinika - MVDr. Pavel Santar, MVDr...</td>\n",
       "      <td>Smíšené zboží Plzeňská\\t187', ' (404 m)</td>\n",
       "      <td>Praha-Cibulka', ' (1229 m)</td>\n",
       "      <td>Osobní</td>\n",
       "      <td>NaN</td>\n",
       "      <td>NaN</td>\n",
       "      <td>ZUŠ Na Popelce', ' (224 m)</td>\n",
       "      <td>TROIS PETITES POMMES, s.r.o.', ' (343 m)</td>\n",
       "      <td>15000.0</td>\n",
       "      <td>Bankomat Komerční banky</td>\n",
       "      <td>381.0</td>\n",
       "      <td>Pod Lipkami</td>\n",
       "      <td>30.0</td>\n",
       "      <td>Cukrárna Pod Marjánkou</td>\n",
       "      <td>1333.0</td>\n",
       "      <td>JUDr. Jiří Šilhán</td>\n",
       "      <td>279.0</td>\n",
       "      <td>Restaurace Na zámyšli</td>\n",
       "      <td>423.0</td>\n",
       "      <td>Dětské hřiště Na Vršku</td>\n",
       "      <td>116.0</td>\n",
       "      <td>CineStar Anděl</td>\n",
       "      <td>2038.0</td>\n",
       "      <td>Šaldova vila</td>\n",
       "      <td>757.0</td>\n",
       "      <td>MUDr. Drahomíra Miškovská</td>\n",
       "      <td>309.0</td>\n",
       "      <td>Lékárna Melissa</td>\n",
       "      <td>447.0</td>\n",
       "      <td>Radlická</td>\n",
       "      <td>2026.0</td>\n",
       "      <td>Obchodní centrum Nový Smíchov</td>\n",
       "      <td>2075.0</td>\n",
       "      <td>Pošta Praha 56 - Česká pošta, s.p.</td>\n",
       "      <td>379.0</td>\n",
       "      <td>ŘÍZKÁRNA ROZVOZ JÍDEL</td>\n",
       "      <td>345.0</td>\n",
       "      <td>TJ Banka Praha z.s.</td>\n",
       "      <td>345.0</td>\n",
       "      <td>Kavalírka</td>\n",
       "      <td>370.0</td>\n",
       "      <td>Veterinární klinika - MVDr. Pavel Santar, MVDr...</td>\n",
       "      <td>1141.0</td>\n",
       "      <td>Smíšené zboží Plzeňská\\t187</td>\n",
       "      <td>404.0</td>\n",
       "      <td>Praha-Cibulka</td>\n",
       "      <td>1229.0</td>\n",
       "      <td>ZUŠ Na Popelce</td>\n",
       "      <td>224.0</td>\n",
       "      <td>TROIS PETITES POMMES, s.r.o.</td>\n",
       "      <td>343.0</td>\n",
       "      <td>B</td>\n",
       "      <td>2+kk</td>\n",
       "      <td>2</td>\n",
       "    </tr>\n",
       "  </tbody>\n",
       "</table>\n",
       "</div>"
      ],
      "text/plain": [
       "                                        Adresa Aktualizace  \\\n",
       "0  Dobrovolného, Praha 9 - Černý Most Panorama        Dnes   \n",
       "1        Bořivojova, Praha 3 - Žižkov Panorama        Dnes   \n",
       "2       Tupolevova, Praha 9 - Letňany Panorama        Dnes   \n",
       "3    Podbělohorská, Praha 5 - Smíchov Panorama        Dnes   \n",
       "\n",
       "                                Bankomat                        Bus_MHD  \\\n",
       "0  Bankomat České spořitelny', ' (542 m)  Generála Janouška', ' (132 m)   \n",
       "1  Bankomat České spořitelny', ' (122 m)  Tachovské náměstí', ' (443 m)   \n",
       "2  Bankomat České spořitelny', ' (236 m)          Šumperská', ' (177 m)   \n",
       "3    Bankomat Komerční banky', ' (381 m)         Pod Lipkami', ' (30 m)   \n",
       "\n",
       "                             Price_total                             Cukrárna  \\\n",
       "0                     12 000 Kč za měsíc        Shisha Room Dvin', ' (1144 m)   \n",
       "1   9 500 Kč za nemovitost, + provize RK           Klub JINÝ KAFE', ' (283 m)   \n",
       "2                     13 900 Kč za měsíc            Café Infinity', ' (204 m)   \n",
       "3  15 000 Kč za nemovitost, + provize RK  Cukrárna Pod Marjánkou', ' (1333 m)   \n",
       "\n",
       "                                       Divadlo  \\\n",
       "0  Přírodní divadlo Dády Stoklasy', ' (3152 m)   \n",
       "1  Žižkovské divadlo Járy Cimrmana', ' (280 m)   \n",
       "2                 Divadlo Pohádka', ' (1057 m)   \n",
       "3                JUDr. Jiří Šilhán', ' (279 m)   \n",
       "\n",
       "                     Energy_demands                            Hospoda  \\\n",
       "0  Třída G - Mimořádně nehospodárná         Šenk Na Rajské', ' (476 m)   \n",
       "1  Třída G - Mimořádně nehospodárná     Hospůdka U Habásků', ' (209 m)   \n",
       "2                               NaN   Pivnice na Královce', ' (1824 m)   \n",
       "3           Třída B - Velmi úsporná  Restaurace Na zámyšli', ' (423 m)   \n",
       "\n",
       "                                              Hřiště ID_zakázky:  \\\n",
       "0              Dětské hřiště Rajský vrch', ' (162 m)      N05462   \n",
       "1               Dětské hřiště Bořivojova', ' (294 m)     57/4562   \n",
       "2  Venkovní posilovna u obchodního centra', ' (19...         NaN   \n",
       "3                 Dětské hřiště Na Vršku', ' (116 m)     44/4562   \n",
       "\n",
       "                               Kino                     Kulturní_památka  \\\n",
       "0  CineStar Černý Most', ' (1815 m)            Hajnova vila', ' (3984 m)   \n",
       "1      Filmový klub VŠE', ' (691 m)  Dům U černé Matky Boží', ' (1846 m)   \n",
       "2   Cinema City Letňany', ' (223 m)            Hajnova vila', ' (2248 m)   \n",
       "3       CineStar Anděl', ' (2038 m)             Šaldova vila', ' (757 m)   \n",
       "\n",
       "                                   Lékař  \\\n",
       "0      MUDr. Zdeněk Valentík', ' (363 m)   \n",
       "1           MUDr. Milan Hudi', ' (502 m)   \n",
       "2            MUDr. Petr Zieg', ' (317 m)   \n",
       "3  MUDr. Drahomíra Miškovská', ' (309 m)   \n",
       "\n",
       "                                Lékárna                          Metro  \\\n",
       "0  Lékárna U Rajské zahrady', ' (500 m)     Rajská zahrada', ' (525 m)   \n",
       "1      Lékárna U Matky Boží', ' (147 m)  Jiřího z Poděbrad', ' (652 m)   \n",
       "2            APOMED, s.r.o.', ' (302 m)           Letňany', ' (1382 m)   \n",
       "3           Lékárna Melissa', ' (447 m)          Radlická', ' (2026 m)   \n",
       "\n",
       "                                       Obchod  Plocha_podlahová  \\\n",
       "0                       Kaufland', ' (1486 m)              26.0   \n",
       "1                   PAVILON, a.s.', ' (941 m)              23.0   \n",
       "2                           Tesco', ' (366 m)               NaN   \n",
       "3  Obchodní centrum Nový Smíchov', ' (2075 m)              58.0   \n",
       "\n",
       "                 Podlaží                              Poznámka_k_ceně  \\\n",
       "0  1. podlaží z celkem 5  + 2.500,-Kč poplatky, elektřina, provize RK   \n",
       "1  5. podlaží z celkem 4                           plus poplatky, 500   \n",
       "2             4. podlaží                                          NaN   \n",
       "3  2. podlaží z celkem 3                                       , 3500   \n",
       "\n",
       "                                            Pošta  \\\n",
       "0  Pošta Praha 98 - Česká pošta, s.p.', ' (442 m)   \n",
       "1  Pošta Praha 35 - Česká pošta, s.p.', ' (176 m)   \n",
       "2  Pošta Praha 99 - Česká pošta, s.p.', ' (680 m)   \n",
       "3  Pošta Praha 56 - Česká pošta, s.p.', ' (379 m)   \n",
       "\n",
       "                          Restaurace  \\\n",
       "0           Jiří Stopfer', ' (443 m)   \n",
       "1     Restaurace Lavička', ' (119 m)   \n",
       "2           Pub Infinity', ' (207 m)   \n",
       "3  ŘÍZKÁRNA ROZVOZ JÍDEL', ' (345 m)   \n",
       "\n",
       "                                         Sportoviště Stav_objektu     Stavba  \\\n",
       "0  Veřejné hřiště na míčové hry Pospíchalova', ' ...   Novostavba  Skeletová   \n",
       "1              Sportovní centrum Olšanka', ' (469 m)        Dobrý    Cihlová   \n",
       "2                             Surf Arena', ' (350 m)  Velmi dobrý   Panelová   \n",
       "3                    TJ Banka Praha z.s.', ' (345 m)   Novostavba    Cihlová   \n",
       "\n",
       "                      Title                           Tram  Area  \\\n",
       "0  Pronájem bytu 1+kk 26 m²           Lehovec', ' (1136 m)    26   \n",
       "1  Pronájem bytu 1+kk 23 m²           Lipanská', ' (186 m)    23   \n",
       "2   Pronájem bytu 2+1 52 m²  Sídliště Ďáblice', ' (1906 m)    52   \n",
       "3  Pronájem bytu 2+kk 58 m²          Kavalírka', ' (370 m)    58   \n",
       "\n",
       "                                           Veterinář  \\\n",
       "0              MetropoleVet Praha s.r.o.', ' (623 m)   \n",
       "1                       MVDr. Jan Dubský', ' (425 m)   \n",
       "2           Veterinární ordinace Letňany', ' (302 m)   \n",
       "3  Veterinární klinika - MVDr. Pavel Santar, MVDr...   \n",
       "\n",
       "                                   Večerka                              Vlak  \\\n",
       "0           Albert Supermarket', ' (451 m)           Praha-Kyje', ' (1445 m)   \n",
       "1               Shalamar Foods', ' (165 m)  Praha hlavní nádraží', ' (984 m)   \n",
       "2                 Penny Market', ' (183 m)       Praha-Čakovice', ' (1695 m)   \n",
       "3  Smíšené zboží Plzeňská\\t187', ' (404 m)        Praha-Cibulka', ' (1229 m)   \n",
       "\n",
       "  Vlastnictví Vybavení  Výtah  \\\n",
       "0      Osobní      NaN    NaN   \n",
       "1      Osobní      NaN    NaN   \n",
       "2      Osobní      NaN    1.0   \n",
       "3      Osobní      NaN    NaN   \n",
       "\n",
       "                                             Škola  \\\n",
       "0             ZUŠ Praha 9, Ratibořická', ' (234 m)   \n",
       "1  Gymnázium Karla Sladkovského Praha 3', ' (56 m)   \n",
       "2            Základní škola Fryčovická', ' (160 m)   \n",
       "3                       ZUŠ Na Popelce', ' (224 m)   \n",
       "\n",
       "                                           Školka     Cena  \\\n",
       "0    MŠ Sluníčko Praha 9 - Černý Most', ' (279 m)  12000.0   \n",
       "1  ZŠ a MŠ Jaroslava Seiferta Praha 3', ' (243 m)   9500.0   \n",
       "2                       MŠ Havířovská', ' (255 m)  13900.0   \n",
       "3        TROIS PETITES POMMES, s.r.o.', ' (343 m)  15000.0   \n",
       "\n",
       "               Bankomat_name  Bankomat_dist       Bus_MHD_name  Bus_MHD_dist  \\\n",
       "0  Bankomat České spořitelny          542.0  Generála Janouška         132.0   \n",
       "1  Bankomat České spořitelny          122.0  Tachovské náměstí         443.0   \n",
       "2  Bankomat České spořitelny          236.0          Šumperská         177.0   \n",
       "3    Bankomat Komerční banky          381.0        Pod Lipkami          30.0   \n",
       "\n",
       "            Cukrárna_name  Cukrárna_dist                     Divadlo_name  \\\n",
       "0        Shisha Room Dvin         1144.0   Přírodní divadlo Dády Stoklasy   \n",
       "1          Klub JINÝ KAFE          283.0  Žižkovské divadlo Járy Cimrmana   \n",
       "2           Café Infinity          204.0                  Divadlo Pohádka   \n",
       "3  Cukrárna Pod Marjánkou         1333.0                JUDr. Jiří Šilhán   \n",
       "\n",
       "   Divadlo_dist           Hospoda_name  Hospoda_dist  \\\n",
       "0        3152.0         Šenk Na Rajské         476.0   \n",
       "1         280.0     Hospůdka U Habásků         209.0   \n",
       "2        1057.0    Pivnice na Královce        1824.0   \n",
       "3         279.0  Restaurace Na zámyšli         423.0   \n",
       "\n",
       "                              Hřiště_name  Hřiště_dist            Kino_name  \\\n",
       "0               Dětské hřiště Rajský vrch        162.0  CineStar Černý Most   \n",
       "1                Dětské hřiště Bořivojova        294.0     Filmový klub VŠE   \n",
       "2  Venkovní posilovna u obchodního centra        194.0  Cinema City Letňany   \n",
       "3                  Dětské hřiště Na Vršku        116.0       CineStar Anděl   \n",
       "\n",
       "   Kino_dist   Kulturní_památka_name  Kulturní_památka_dist  \\\n",
       "0     1815.0            Hajnova vila                 3984.0   \n",
       "1      691.0  Dům U černé Matky Boží                 1846.0   \n",
       "2      223.0            Hajnova vila                 2248.0   \n",
       "3     2038.0            Šaldova vila                  757.0   \n",
       "\n",
       "                  Lékař_name  Lékař_dist              Lékárna_name  \\\n",
       "0      MUDr. Zdeněk Valentík       363.0  Lékárna U Rajské zahrady   \n",
       "1           MUDr. Milan Hudi       502.0      Lékárna U Matky Boží   \n",
       "2            MUDr. Petr Zieg       317.0            APOMED, s.r.o.   \n",
       "3  MUDr. Drahomíra Miškovská       309.0           Lékárna Melissa   \n",
       "\n",
       "   Lékárna_dist         Metro_name  Metro_dist                    Obchod_name  \\\n",
       "0         500.0     Rajská zahrada       525.0                       Kaufland   \n",
       "1         147.0  Jiřího z Poděbrad       652.0                  PAVILON, a.s.   \n",
       "2         302.0            Letňany      1382.0                          Tesco   \n",
       "3         447.0           Radlická      2026.0  Obchodní centrum Nový Smíchov   \n",
       "\n",
       "   Obchod_dist                          Pošta_name  Pošta_dist  \\\n",
       "0       1486.0  Pošta Praha 98 - Česká pošta, s.p.       442.0   \n",
       "1        941.0  Pošta Praha 35 - Česká pošta, s.p.       176.0   \n",
       "2        366.0  Pošta Praha 99 - Česká pošta, s.p.       680.0   \n",
       "3       2075.0  Pošta Praha 56 - Česká pošta, s.p.       379.0   \n",
       "\n",
       "         Restaurace_name  Restaurace_dist  \\\n",
       "0           Jiří Stopfer            443.0   \n",
       "1     Restaurace Lavička            119.0   \n",
       "2           Pub Infinity            207.0   \n",
       "3  ŘÍZKÁRNA ROZVOZ JÍDEL            345.0   \n",
       "\n",
       "                            Sportoviště_name  Sportoviště_dist  \\\n",
       "0  Veřejné hřiště na míčové hry Pospíchalova             295.0   \n",
       "1                  Sportovní centrum Olšanka             469.0   \n",
       "2                                 Surf Arena             350.0   \n",
       "3                        TJ Banka Praha z.s.             345.0   \n",
       "\n",
       "          Tram_name  Tram_dist  \\\n",
       "0           Lehovec     1136.0   \n",
       "1          Lipanská      186.0   \n",
       "2  Sídliště Ďáblice     1906.0   \n",
       "3         Kavalírka      370.0   \n",
       "\n",
       "                                      Veterinář_name  Veterinář_dist  \\\n",
       "0                          MetropoleVet Praha s.r.o.           623.0   \n",
       "1                                   MVDr. Jan Dubský           425.0   \n",
       "2                       Veterinární ordinace Letňany           302.0   \n",
       "3  Veterinární klinika - MVDr. Pavel Santar, MVDr...          1141.0   \n",
       "\n",
       "                  Večerka_name  Večerka_dist             Vlak_name  Vlak_dist  \\\n",
       "0           Albert Supermarket         451.0            Praha-Kyje     1445.0   \n",
       "1               Shalamar Foods         165.0  Praha hlavní nádraží      984.0   \n",
       "2                 Penny Market         183.0        Praha-Čakovice     1695.0   \n",
       "3  Smíšené zboží Plzeňská\\t187         404.0         Praha-Cibulka     1229.0   \n",
       "\n",
       "                             Škola_name  Škola_dist  \\\n",
       "0              ZUŠ Praha 9, Ratibořická       234.0   \n",
       "1  Gymnázium Karla Sladkovského Praha 3        56.0   \n",
       "2             Základní škola Fryčovická       160.0   \n",
       "3                        ZUŠ Na Popelce       224.0   \n",
       "\n",
       "                          Školka_name  Školka_dist Energy_class Rooms  \\\n",
       "0    MŠ Sluníčko Praha 9 - Černý Most        279.0            G  1+kk   \n",
       "1  ZŠ a MŠ Jaroslava Seiferta Praha 3        243.0            G  1+kk   \n",
       "2                       MŠ Havířovská        255.0          NaN   2+1   \n",
       "3        TROIS PETITES POMMES, s.r.o.        343.0            B  2+kk   \n",
       "\n",
       "  Podlaží_č  \n",
       "0         1  \n",
       "1         5  \n",
       "2         4  \n",
       "3         2  "
      ]
     },
     "execution_count": 44,
     "metadata": {},
     "output_type": "execute_result"
    }
   ],
   "source": [
    "pd.set_option('display.max_columns', None)\n",
    "data.head(4)"
   ]
  },
  {
   "cell_type": "code",
   "execution_count": 45,
   "metadata": {},
   "outputs": [],
   "source": [
    "worth = ['Adresa', 'Aktualizace', 'Price_total','ID_zakázky:', 'Plocha_podlahová', 'Podlaží', 'Podlaží_č', \n",
    "'Poznámka_k_ceně', 'Stav_objektu', 'Stavba', 'Title','Rooms', \n",
    "'Area', 'Vlastnictví', 'Vybavení', 'Výtah','Bankomat_name', 'Bankomat_dist',\n",
    "'Bus_MHD_name', 'Bus_MHD_dist', 'Cukrárna_name', 'Cukrárna_dist',\n",
    "'Divadlo_name', 'Divadlo_dist', 'Hospoda_name', 'Hospoda_dist',\n",
    "'Hřiště_name', 'Hřiště_dist', 'Kino_name', 'Kino_dist',\n",
    "'Kulturní_památka_name', 'Kulturní_památka_dist', 'Lékař_name',\n",
    "'Lékař_dist', 'Lékárna_name', 'Lékárna_dist', 'Metro_name',\n",
    "'Metro_dist', 'Obchod_name', 'Obchod_dist', 'Pošta_name', 'Pošta_dist',\n",
    "'Restaurace_name', 'Restaurace_dist', 'Sportoviště_name',\n",
    "'Sportoviště_dist', 'Tram_name', 'Tram_dist', 'Veterinář_name',\n",
    "'Veterinář_dist', 'Večerka_name', 'Večerka_dist', 'Vlak_name',\n",
    "'Vlak_dist', 'Škola_name', 'Škola_dist', 'Školka_name', 'Školka_dist',\n",
    "'Energy_class']"
   ]
  },
  {
   "cell_type": "code",
   "execution_count": 46,
   "metadata": {},
   "outputs": [],
   "source": [
    "data1 = data[worth].copy()"
   ]
  },
  {
   "cell_type": "code",
   "execution_count": 47,
   "metadata": {
    "scrolled": false
   },
   "outputs": [
    {
     "data": {
      "text/html": [
       "<div>\n",
       "<style scoped>\n",
       "    .dataframe tbody tr th:only-of-type {\n",
       "        vertical-align: middle;\n",
       "    }\n",
       "\n",
       "    .dataframe tbody tr th {\n",
       "        vertical-align: top;\n",
       "    }\n",
       "\n",
       "    .dataframe thead th {\n",
       "        text-align: right;\n",
       "    }\n",
       "</style>\n",
       "<table border=\"1\" class=\"dataframe\">\n",
       "  <thead>\n",
       "    <tr style=\"text-align: right;\">\n",
       "      <th></th>\n",
       "      <th>Adresa</th>\n",
       "      <th>Aktualizace</th>\n",
       "      <th>Price_total</th>\n",
       "      <th>ID_zakázky:</th>\n",
       "      <th>Plocha_podlahová</th>\n",
       "      <th>Podlaží</th>\n",
       "      <th>Podlaží_č</th>\n",
       "      <th>Poznámka_k_ceně</th>\n",
       "      <th>Stav_objektu</th>\n",
       "      <th>Stavba</th>\n",
       "      <th>Title</th>\n",
       "      <th>Rooms</th>\n",
       "      <th>Area</th>\n",
       "      <th>Vlastnictví</th>\n",
       "      <th>Vybavení</th>\n",
       "      <th>Výtah</th>\n",
       "      <th>Bankomat_name</th>\n",
       "      <th>Bankomat_dist</th>\n",
       "      <th>Bus_MHD_name</th>\n",
       "      <th>Bus_MHD_dist</th>\n",
       "      <th>Cukrárna_name</th>\n",
       "      <th>Cukrárna_dist</th>\n",
       "      <th>Divadlo_name</th>\n",
       "      <th>Divadlo_dist</th>\n",
       "      <th>Hospoda_name</th>\n",
       "      <th>Hospoda_dist</th>\n",
       "      <th>Hřiště_name</th>\n",
       "      <th>Hřiště_dist</th>\n",
       "      <th>Kino_name</th>\n",
       "      <th>Kino_dist</th>\n",
       "      <th>Kulturní_památka_name</th>\n",
       "      <th>Kulturní_památka_dist</th>\n",
       "      <th>Lékař_name</th>\n",
       "      <th>Lékař_dist</th>\n",
       "      <th>Lékárna_name</th>\n",
       "      <th>Lékárna_dist</th>\n",
       "      <th>Metro_name</th>\n",
       "      <th>Metro_dist</th>\n",
       "      <th>Obchod_name</th>\n",
       "      <th>Obchod_dist</th>\n",
       "      <th>Pošta_name</th>\n",
       "      <th>Pošta_dist</th>\n",
       "      <th>Restaurace_name</th>\n",
       "      <th>Restaurace_dist</th>\n",
       "      <th>Sportoviště_name</th>\n",
       "      <th>Sportoviště_dist</th>\n",
       "      <th>Tram_name</th>\n",
       "      <th>Tram_dist</th>\n",
       "      <th>Veterinář_name</th>\n",
       "      <th>Veterinář_dist</th>\n",
       "      <th>Večerka_name</th>\n",
       "      <th>Večerka_dist</th>\n",
       "      <th>Vlak_name</th>\n",
       "      <th>Vlak_dist</th>\n",
       "      <th>Škola_name</th>\n",
       "      <th>Škola_dist</th>\n",
       "      <th>Školka_name</th>\n",
       "      <th>Školka_dist</th>\n",
       "      <th>Energy_class</th>\n",
       "    </tr>\n",
       "  </thead>\n",
       "  <tbody>\n",
       "    <tr>\n",
       "      <td>0</td>\n",
       "      <td>Dobrovolného, Praha 9 - Černý Most Panorama</td>\n",
       "      <td>Dnes</td>\n",
       "      <td>12 000 Kč za měsíc</td>\n",
       "      <td>N05462</td>\n",
       "      <td>26.0</td>\n",
       "      <td>1. podlaží z celkem 5</td>\n",
       "      <td>1</td>\n",
       "      <td>+ 2.500,-Kč poplatky, elektřina, provize RK</td>\n",
       "      <td>Novostavba</td>\n",
       "      <td>Skeletová</td>\n",
       "      <td>Pronájem bytu 1+kk 26 m²</td>\n",
       "      <td>1+kk</td>\n",
       "      <td>26</td>\n",
       "      <td>Osobní</td>\n",
       "      <td>NaN</td>\n",
       "      <td>NaN</td>\n",
       "      <td>Bankomat České spořitelny</td>\n",
       "      <td>542.0</td>\n",
       "      <td>Generála Janouška</td>\n",
       "      <td>132.0</td>\n",
       "      <td>Shisha Room Dvin</td>\n",
       "      <td>1144.0</td>\n",
       "      <td>Přírodní divadlo Dády Stoklasy</td>\n",
       "      <td>3152.0</td>\n",
       "      <td>Šenk Na Rajské</td>\n",
       "      <td>476.0</td>\n",
       "      <td>Dětské hřiště Rajský vrch</td>\n",
       "      <td>162.0</td>\n",
       "      <td>CineStar Černý Most</td>\n",
       "      <td>1815.0</td>\n",
       "      <td>Hajnova vila</td>\n",
       "      <td>3984.0</td>\n",
       "      <td>MUDr. Zdeněk Valentík</td>\n",
       "      <td>363.0</td>\n",
       "      <td>Lékárna U Rajské zahrady</td>\n",
       "      <td>500.0</td>\n",
       "      <td>Rajská zahrada</td>\n",
       "      <td>525.0</td>\n",
       "      <td>Kaufland</td>\n",
       "      <td>1486.0</td>\n",
       "      <td>Pošta Praha 98 - Česká pošta, s.p.</td>\n",
       "      <td>442.0</td>\n",
       "      <td>Jiří Stopfer</td>\n",
       "      <td>443.0</td>\n",
       "      <td>Veřejné hřiště na míčové hry Pospíchalova</td>\n",
       "      <td>295.0</td>\n",
       "      <td>Lehovec</td>\n",
       "      <td>1136.0</td>\n",
       "      <td>MetropoleVet Praha s.r.o.</td>\n",
       "      <td>623.0</td>\n",
       "      <td>Albert Supermarket</td>\n",
       "      <td>451.0</td>\n",
       "      <td>Praha-Kyje</td>\n",
       "      <td>1445.0</td>\n",
       "      <td>ZUŠ Praha 9, Ratibořická</td>\n",
       "      <td>234.0</td>\n",
       "      <td>MŠ Sluníčko Praha 9 - Černý Most</td>\n",
       "      <td>279.0</td>\n",
       "      <td>G</td>\n",
       "    </tr>\n",
       "    <tr>\n",
       "      <td>1</td>\n",
       "      <td>Bořivojova, Praha 3 - Žižkov Panorama</td>\n",
       "      <td>Dnes</td>\n",
       "      <td>9 500 Kč za nemovitost, + provize RK</td>\n",
       "      <td>57/4562</td>\n",
       "      <td>23.0</td>\n",
       "      <td>5. podlaží z celkem 4</td>\n",
       "      <td>5</td>\n",
       "      <td>plus poplatky, 500</td>\n",
       "      <td>Dobrý</td>\n",
       "      <td>Cihlová</td>\n",
       "      <td>Pronájem bytu 1+kk 23 m²</td>\n",
       "      <td>1+kk</td>\n",
       "      <td>23</td>\n",
       "      <td>Osobní</td>\n",
       "      <td>NaN</td>\n",
       "      <td>NaN</td>\n",
       "      <td>Bankomat České spořitelny</td>\n",
       "      <td>122.0</td>\n",
       "      <td>Tachovské náměstí</td>\n",
       "      <td>443.0</td>\n",
       "      <td>Klub JINÝ KAFE</td>\n",
       "      <td>283.0</td>\n",
       "      <td>Žižkovské divadlo Járy Cimrmana</td>\n",
       "      <td>280.0</td>\n",
       "      <td>Hospůdka U Habásků</td>\n",
       "      <td>209.0</td>\n",
       "      <td>Dětské hřiště Bořivojova</td>\n",
       "      <td>294.0</td>\n",
       "      <td>Filmový klub VŠE</td>\n",
       "      <td>691.0</td>\n",
       "      <td>Dům U černé Matky Boží</td>\n",
       "      <td>1846.0</td>\n",
       "      <td>MUDr. Milan Hudi</td>\n",
       "      <td>502.0</td>\n",
       "      <td>Lékárna U Matky Boží</td>\n",
       "      <td>147.0</td>\n",
       "      <td>Jiřího z Poděbrad</td>\n",
       "      <td>652.0</td>\n",
       "      <td>PAVILON, a.s.</td>\n",
       "      <td>941.0</td>\n",
       "      <td>Pošta Praha 35 - Česká pošta, s.p.</td>\n",
       "      <td>176.0</td>\n",
       "      <td>Restaurace Lavička</td>\n",
       "      <td>119.0</td>\n",
       "      <td>Sportovní centrum Olšanka</td>\n",
       "      <td>469.0</td>\n",
       "      <td>Lipanská</td>\n",
       "      <td>186.0</td>\n",
       "      <td>MVDr. Jan Dubský</td>\n",
       "      <td>425.0</td>\n",
       "      <td>Shalamar Foods</td>\n",
       "      <td>165.0</td>\n",
       "      <td>Praha hlavní nádraží</td>\n",
       "      <td>984.0</td>\n",
       "      <td>Gymnázium Karla Sladkovského Praha 3</td>\n",
       "      <td>56.0</td>\n",
       "      <td>ZŠ a MŠ Jaroslava Seiferta Praha 3</td>\n",
       "      <td>243.0</td>\n",
       "      <td>G</td>\n",
       "    </tr>\n",
       "    <tr>\n",
       "      <td>2</td>\n",
       "      <td>Tupolevova, Praha 9 - Letňany Panorama</td>\n",
       "      <td>Dnes</td>\n",
       "      <td>13 900 Kč za měsíc</td>\n",
       "      <td>NaN</td>\n",
       "      <td>NaN</td>\n",
       "      <td>4. podlaží</td>\n",
       "      <td>4</td>\n",
       "      <td>NaN</td>\n",
       "      <td>Velmi dobrý</td>\n",
       "      <td>Panelová</td>\n",
       "      <td>Pronájem bytu 2+1 52 m²</td>\n",
       "      <td>2+1</td>\n",
       "      <td>52</td>\n",
       "      <td>Osobní</td>\n",
       "      <td>NaN</td>\n",
       "      <td>1.0</td>\n",
       "      <td>Bankomat České spořitelny</td>\n",
       "      <td>236.0</td>\n",
       "      <td>Šumperská</td>\n",
       "      <td>177.0</td>\n",
       "      <td>Café Infinity</td>\n",
       "      <td>204.0</td>\n",
       "      <td>Divadlo Pohádka</td>\n",
       "      <td>1057.0</td>\n",
       "      <td>Pivnice na Královce</td>\n",
       "      <td>1824.0</td>\n",
       "      <td>Venkovní posilovna u obchodního centra</td>\n",
       "      <td>194.0</td>\n",
       "      <td>Cinema City Letňany</td>\n",
       "      <td>223.0</td>\n",
       "      <td>Hajnova vila</td>\n",
       "      <td>2248.0</td>\n",
       "      <td>MUDr. Petr Zieg</td>\n",
       "      <td>317.0</td>\n",
       "      <td>APOMED, s.r.o.</td>\n",
       "      <td>302.0</td>\n",
       "      <td>Letňany</td>\n",
       "      <td>1382.0</td>\n",
       "      <td>Tesco</td>\n",
       "      <td>366.0</td>\n",
       "      <td>Pošta Praha 99 - Česká pošta, s.p.</td>\n",
       "      <td>680.0</td>\n",
       "      <td>Pub Infinity</td>\n",
       "      <td>207.0</td>\n",
       "      <td>Surf Arena</td>\n",
       "      <td>350.0</td>\n",
       "      <td>Sídliště Ďáblice</td>\n",
       "      <td>1906.0</td>\n",
       "      <td>Veterinární ordinace Letňany</td>\n",
       "      <td>302.0</td>\n",
       "      <td>Penny Market</td>\n",
       "      <td>183.0</td>\n",
       "      <td>Praha-Čakovice</td>\n",
       "      <td>1695.0</td>\n",
       "      <td>Základní škola Fryčovická</td>\n",
       "      <td>160.0</td>\n",
       "      <td>MŠ Havířovská</td>\n",
       "      <td>255.0</td>\n",
       "      <td>NaN</td>\n",
       "    </tr>\n",
       "    <tr>\n",
       "      <td>3</td>\n",
       "      <td>Podbělohorská, Praha 5 - Smíchov Panorama</td>\n",
       "      <td>Dnes</td>\n",
       "      <td>15 000 Kč za nemovitost, + provize RK</td>\n",
       "      <td>44/4562</td>\n",
       "      <td>58.0</td>\n",
       "      <td>2. podlaží z celkem 3</td>\n",
       "      <td>2</td>\n",
       "      <td>, 3500</td>\n",
       "      <td>Novostavba</td>\n",
       "      <td>Cihlová</td>\n",
       "      <td>Pronájem bytu 2+kk 58 m²</td>\n",
       "      <td>2+kk</td>\n",
       "      <td>58</td>\n",
       "      <td>Osobní</td>\n",
       "      <td>NaN</td>\n",
       "      <td>NaN</td>\n",
       "      <td>Bankomat Komerční banky</td>\n",
       "      <td>381.0</td>\n",
       "      <td>Pod Lipkami</td>\n",
       "      <td>30.0</td>\n",
       "      <td>Cukrárna Pod Marjánkou</td>\n",
       "      <td>1333.0</td>\n",
       "      <td>JUDr. Jiří Šilhán</td>\n",
       "      <td>279.0</td>\n",
       "      <td>Restaurace Na zámyšli</td>\n",
       "      <td>423.0</td>\n",
       "      <td>Dětské hřiště Na Vršku</td>\n",
       "      <td>116.0</td>\n",
       "      <td>CineStar Anděl</td>\n",
       "      <td>2038.0</td>\n",
       "      <td>Šaldova vila</td>\n",
       "      <td>757.0</td>\n",
       "      <td>MUDr. Drahomíra Miškovská</td>\n",
       "      <td>309.0</td>\n",
       "      <td>Lékárna Melissa</td>\n",
       "      <td>447.0</td>\n",
       "      <td>Radlická</td>\n",
       "      <td>2026.0</td>\n",
       "      <td>Obchodní centrum Nový Smíchov</td>\n",
       "      <td>2075.0</td>\n",
       "      <td>Pošta Praha 56 - Česká pošta, s.p.</td>\n",
       "      <td>379.0</td>\n",
       "      <td>ŘÍZKÁRNA ROZVOZ JÍDEL</td>\n",
       "      <td>345.0</td>\n",
       "      <td>TJ Banka Praha z.s.</td>\n",
       "      <td>345.0</td>\n",
       "      <td>Kavalírka</td>\n",
       "      <td>370.0</td>\n",
       "      <td>Veterinární klinika - MVDr. Pavel Santar, MVDr...</td>\n",
       "      <td>1141.0</td>\n",
       "      <td>Smíšené zboží Plzeňská\\t187</td>\n",
       "      <td>404.0</td>\n",
       "      <td>Praha-Cibulka</td>\n",
       "      <td>1229.0</td>\n",
       "      <td>ZUŠ Na Popelce</td>\n",
       "      <td>224.0</td>\n",
       "      <td>TROIS PETITES POMMES, s.r.o.</td>\n",
       "      <td>343.0</td>\n",
       "      <td>B</td>\n",
       "    </tr>\n",
       "  </tbody>\n",
       "</table>\n",
       "</div>"
      ],
      "text/plain": [
       "                                        Adresa Aktualizace  \\\n",
       "0  Dobrovolného, Praha 9 - Černý Most Panorama        Dnes   \n",
       "1        Bořivojova, Praha 3 - Žižkov Panorama        Dnes   \n",
       "2       Tupolevova, Praha 9 - Letňany Panorama        Dnes   \n",
       "3    Podbělohorská, Praha 5 - Smíchov Panorama        Dnes   \n",
       "\n",
       "                             Price_total ID_zakázky:  Plocha_podlahová  \\\n",
       "0                     12 000 Kč za měsíc      N05462              26.0   \n",
       "1   9 500 Kč za nemovitost, + provize RK     57/4562              23.0   \n",
       "2                     13 900 Kč za měsíc         NaN               NaN   \n",
       "3  15 000 Kč za nemovitost, + provize RK     44/4562              58.0   \n",
       "\n",
       "                 Podlaží Podlaží_č  \\\n",
       "0  1. podlaží z celkem 5         1   \n",
       "1  5. podlaží z celkem 4         5   \n",
       "2             4. podlaží         4   \n",
       "3  2. podlaží z celkem 3         2   \n",
       "\n",
       "                               Poznámka_k_ceně Stav_objektu     Stavba  \\\n",
       "0  + 2.500,-Kč poplatky, elektřina, provize RK   Novostavba  Skeletová   \n",
       "1                           plus poplatky, 500        Dobrý    Cihlová   \n",
       "2                                          NaN  Velmi dobrý   Panelová   \n",
       "3                                       , 3500   Novostavba    Cihlová   \n",
       "\n",
       "                      Title Rooms  Area Vlastnictví Vybavení  Výtah  \\\n",
       "0  Pronájem bytu 1+kk 26 m²  1+kk    26      Osobní      NaN    NaN   \n",
       "1  Pronájem bytu 1+kk 23 m²  1+kk    23      Osobní      NaN    NaN   \n",
       "2   Pronájem bytu 2+1 52 m²   2+1    52      Osobní      NaN    1.0   \n",
       "3  Pronájem bytu 2+kk 58 m²  2+kk    58      Osobní      NaN    NaN   \n",
       "\n",
       "               Bankomat_name  Bankomat_dist       Bus_MHD_name  Bus_MHD_dist  \\\n",
       "0  Bankomat České spořitelny          542.0  Generála Janouška         132.0   \n",
       "1  Bankomat České spořitelny          122.0  Tachovské náměstí         443.0   \n",
       "2  Bankomat České spořitelny          236.0          Šumperská         177.0   \n",
       "3    Bankomat Komerční banky          381.0        Pod Lipkami          30.0   \n",
       "\n",
       "            Cukrárna_name  Cukrárna_dist                     Divadlo_name  \\\n",
       "0        Shisha Room Dvin         1144.0   Přírodní divadlo Dády Stoklasy   \n",
       "1          Klub JINÝ KAFE          283.0  Žižkovské divadlo Járy Cimrmana   \n",
       "2           Café Infinity          204.0                  Divadlo Pohádka   \n",
       "3  Cukrárna Pod Marjánkou         1333.0                JUDr. Jiří Šilhán   \n",
       "\n",
       "   Divadlo_dist           Hospoda_name  Hospoda_dist  \\\n",
       "0        3152.0         Šenk Na Rajské         476.0   \n",
       "1         280.0     Hospůdka U Habásků         209.0   \n",
       "2        1057.0    Pivnice na Královce        1824.0   \n",
       "3         279.0  Restaurace Na zámyšli         423.0   \n",
       "\n",
       "                              Hřiště_name  Hřiště_dist            Kino_name  \\\n",
       "0               Dětské hřiště Rajský vrch        162.0  CineStar Černý Most   \n",
       "1                Dětské hřiště Bořivojova        294.0     Filmový klub VŠE   \n",
       "2  Venkovní posilovna u obchodního centra        194.0  Cinema City Letňany   \n",
       "3                  Dětské hřiště Na Vršku        116.0       CineStar Anděl   \n",
       "\n",
       "   Kino_dist   Kulturní_památka_name  Kulturní_památka_dist  \\\n",
       "0     1815.0            Hajnova vila                 3984.0   \n",
       "1      691.0  Dům U černé Matky Boží                 1846.0   \n",
       "2      223.0            Hajnova vila                 2248.0   \n",
       "3     2038.0            Šaldova vila                  757.0   \n",
       "\n",
       "                  Lékař_name  Lékař_dist              Lékárna_name  \\\n",
       "0      MUDr. Zdeněk Valentík       363.0  Lékárna U Rajské zahrady   \n",
       "1           MUDr. Milan Hudi       502.0      Lékárna U Matky Boží   \n",
       "2            MUDr. Petr Zieg       317.0            APOMED, s.r.o.   \n",
       "3  MUDr. Drahomíra Miškovská       309.0           Lékárna Melissa   \n",
       "\n",
       "   Lékárna_dist         Metro_name  Metro_dist                    Obchod_name  \\\n",
       "0         500.0     Rajská zahrada       525.0                       Kaufland   \n",
       "1         147.0  Jiřího z Poděbrad       652.0                  PAVILON, a.s.   \n",
       "2         302.0            Letňany      1382.0                          Tesco   \n",
       "3         447.0           Radlická      2026.0  Obchodní centrum Nový Smíchov   \n",
       "\n",
       "   Obchod_dist                          Pošta_name  Pošta_dist  \\\n",
       "0       1486.0  Pošta Praha 98 - Česká pošta, s.p.       442.0   \n",
       "1        941.0  Pošta Praha 35 - Česká pošta, s.p.       176.0   \n",
       "2        366.0  Pošta Praha 99 - Česká pošta, s.p.       680.0   \n",
       "3       2075.0  Pošta Praha 56 - Česká pošta, s.p.       379.0   \n",
       "\n",
       "         Restaurace_name  Restaurace_dist  \\\n",
       "0           Jiří Stopfer            443.0   \n",
       "1     Restaurace Lavička            119.0   \n",
       "2           Pub Infinity            207.0   \n",
       "3  ŘÍZKÁRNA ROZVOZ JÍDEL            345.0   \n",
       "\n",
       "                            Sportoviště_name  Sportoviště_dist  \\\n",
       "0  Veřejné hřiště na míčové hry Pospíchalova             295.0   \n",
       "1                  Sportovní centrum Olšanka             469.0   \n",
       "2                                 Surf Arena             350.0   \n",
       "3                        TJ Banka Praha z.s.             345.0   \n",
       "\n",
       "          Tram_name  Tram_dist  \\\n",
       "0           Lehovec     1136.0   \n",
       "1          Lipanská      186.0   \n",
       "2  Sídliště Ďáblice     1906.0   \n",
       "3         Kavalírka      370.0   \n",
       "\n",
       "                                      Veterinář_name  Veterinář_dist  \\\n",
       "0                          MetropoleVet Praha s.r.o.           623.0   \n",
       "1                                   MVDr. Jan Dubský           425.0   \n",
       "2                       Veterinární ordinace Letňany           302.0   \n",
       "3  Veterinární klinika - MVDr. Pavel Santar, MVDr...          1141.0   \n",
       "\n",
       "                  Večerka_name  Večerka_dist             Vlak_name  Vlak_dist  \\\n",
       "0           Albert Supermarket         451.0            Praha-Kyje     1445.0   \n",
       "1               Shalamar Foods         165.0  Praha hlavní nádraží      984.0   \n",
       "2                 Penny Market         183.0        Praha-Čakovice     1695.0   \n",
       "3  Smíšené zboží Plzeňská\\t187         404.0         Praha-Cibulka     1229.0   \n",
       "\n",
       "                             Škola_name  Škola_dist  \\\n",
       "0              ZUŠ Praha 9, Ratibořická       234.0   \n",
       "1  Gymnázium Karla Sladkovského Praha 3        56.0   \n",
       "2             Základní škola Fryčovická       160.0   \n",
       "3                        ZUŠ Na Popelce       224.0   \n",
       "\n",
       "                          Školka_name  Školka_dist Energy_class  \n",
       "0    MŠ Sluníčko Praha 9 - Černý Most        279.0            G  \n",
       "1  ZŠ a MŠ Jaroslava Seiferta Praha 3        243.0            G  \n",
       "2                       MŠ Havířovská        255.0          NaN  \n",
       "3        TROIS PETITES POMMES, s.r.o.        343.0            B  "
      ]
     },
     "execution_count": 47,
     "metadata": {},
     "output_type": "execute_result"
    }
   ],
   "source": [
    "pd.set_option('display.max_columns', None)\n",
    "data1.head(4)"
   ]
  },
  {
   "cell_type": "code",
   "execution_count": 48,
   "metadata": {
    "scrolled": false
   },
   "outputs": [
    {
     "name": "stdout",
     "output_type": "stream",
     "text": [
      "Stored 'data1' (DataFrame)\n"
     ]
    }
   ],
   "source": [
    "%store data1 #storing data1 to use in other jupyter notebooks"
   ]
  }
 ],
 "metadata": {
  "kernelspec": {
   "display_name": "Python 3",
   "language": "python",
   "name": "python3"
  },
  "language_info": {
   "codemirror_mode": {
    "name": "ipython",
    "version": 3
   },
   "file_extension": ".py",
   "mimetype": "text/x-python",
   "name": "python",
   "nbconvert_exporter": "python",
   "pygments_lexer": "ipython3",
   "version": "3.7.4"
  },
  "widgets": {
   "application/vnd.jupyter.widget-state+json": {
    "state": {},
    "version_major": 2,
    "version_minor": 0
   }
  }
 },
 "nbformat": 4,
 "nbformat_minor": 2
}
