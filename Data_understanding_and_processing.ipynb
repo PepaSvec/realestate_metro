{
 "cells": [
  {
   "cell_type": "markdown",
   "metadata": {},
   "source": [
    "# Data preparation, processing and visualization\n",
    "\n",
    "At this point, let's remind our core aim: to analyse some interesting relationships (esp. rent prices and distance from metro) based on data scraped from sReality.cz. \n",
    "\n",
    "Now, having the scraped massive dataset, our goal is to analyse and visualize underlaying relationships of chosen variables. We attempt to do so by (a) matplotlib and (b) geopandas tools. Nevertheless, before we can do so, the data need to be inspected and adjusted.\n",
    "\n",
    "## I. Getting familiar with the data"
   ]
  },
  {
   "cell_type": "markdown",
   "metadata": {},
   "source": [
    "First, we prepare the environment for analysis and get familiar with the structure and variables of data."
   ]
  },
  {
   "cell_type": "code",
   "execution_count": 1,
   "metadata": {},
   "outputs": [
    {
     "data": {
      "text/html": [
       "<div>\n",
       "<style scoped>\n",
       "    .dataframe tbody tr th:only-of-type {\n",
       "        vertical-align: middle;\n",
       "    }\n",
       "\n",
       "    .dataframe tbody tr th {\n",
       "        vertical-align: top;\n",
       "    }\n",
       "\n",
       "    .dataframe thead th {\n",
       "        text-align: right;\n",
       "    }\n",
       "</style>\n",
       "<table border=\"1\" class=\"dataframe\">\n",
       "  <thead>\n",
       "    <tr style=\"text-align: right;\">\n",
       "      <th></th>\n",
       "      <th>Unnamed: 0</th>\n",
       "      <th>Adresa</th>\n",
       "      <th>Aktualizace:</th>\n",
       "      <th>Balkón:</th>\n",
       "      <th>Bankomat:</th>\n",
       "      <th>Bazén:</th>\n",
       "      <th>Bezbariérový:</th>\n",
       "      <th>Bus MHD:</th>\n",
       "      <th>Celková cena:</th>\n",
       "      <th>Cena:</th>\n",
       "      <th>...</th>\n",
       "      <th>Večerka:</th>\n",
       "      <th>Vlak:</th>\n",
       "      <th>Vlastnictví:</th>\n",
       "      <th>Voda:</th>\n",
       "      <th>Vybavení:</th>\n",
       "      <th>Výtah:</th>\n",
       "      <th>Výška stropu:</th>\n",
       "      <th>Zlevněno:</th>\n",
       "      <th>Škola:</th>\n",
       "      <th>Školka:</th>\n",
       "    </tr>\n",
       "  </thead>\n",
       "  <tbody>\n",
       "    <tr>\n",
       "      <th>0</th>\n",
       "      <td>0</td>\n",
       "      <td>Dobrovolného, Praha 9 - Černý Most Panorama</td>\n",
       "      <td>['Dnes']</td>\n",
       "      <td>NaN</td>\n",
       "      <td>['Bankomat České spořitelny', ' (542 m)']</td>\n",
       "      <td>NaN</td>\n",
       "      <td>NaN</td>\n",
       "      <td>['Generála Janouška', ' (132 m)']</td>\n",
       "      <td>['12 000 Kč za měsíc']</td>\n",
       "      <td>NaN</td>\n",
       "      <td>...</td>\n",
       "      <td>['Albert Supermarket', ' (451 m)']</td>\n",
       "      <td>['Praha-Kyje', ' (1445 m)']</td>\n",
       "      <td>['Osobní']</td>\n",
       "      <td>NaN</td>\n",
       "      <td>NaN</td>\n",
       "      <td>NaN</td>\n",
       "      <td>NaN</td>\n",
       "      <td>NaN</td>\n",
       "      <td>['ZUŠ Praha 9, Ratibořická', ' (234 m)']</td>\n",
       "      <td>['MŠ Sluníčko Praha 9 - Černý Most', ' (279 m)']</td>\n",
       "    </tr>\n",
       "    <tr>\n",
       "      <th>1</th>\n",
       "      <td>0</td>\n",
       "      <td>Bořivojova, Praha 3 - Žižkov Panorama</td>\n",
       "      <td>['Dnes']</td>\n",
       "      <td>NaN</td>\n",
       "      <td>['Bankomat České spořitelny', ' (122 m)']</td>\n",
       "      <td>NaN</td>\n",
       "      <td>[\"'boolean-false'\"]</td>\n",
       "      <td>['Tachovské náměstí', ' (443 m)']</td>\n",
       "      <td>['9 500 Kč za nemovitost, + provize RK']</td>\n",
       "      <td>NaN</td>\n",
       "      <td>...</td>\n",
       "      <td>['Shalamar Foods', ' (165 m)']</td>\n",
       "      <td>['Praha hlavní nádraží', ' (984 m)']</td>\n",
       "      <td>['Osobní']</td>\n",
       "      <td>NaN</td>\n",
       "      <td>NaN</td>\n",
       "      <td>NaN</td>\n",
       "      <td>NaN</td>\n",
       "      <td>NaN</td>\n",
       "      <td>['Gymnázium Karla Sladkovského Praha 3', ' (56...</td>\n",
       "      <td>['ZŠ a MŠ Jaroslava Seiferta Praha 3', ' (243 ...</td>\n",
       "    </tr>\n",
       "    <tr>\n",
       "      <th>2</th>\n",
       "      <td>0</td>\n",
       "      <td>Tupolevova, Praha 9 - Letňany Panorama</td>\n",
       "      <td>['Dnes']</td>\n",
       "      <td>NaN</td>\n",
       "      <td>['Bankomat České spořitelny', ' (236 m)']</td>\n",
       "      <td>NaN</td>\n",
       "      <td>[\"'boolean-true'\"]</td>\n",
       "      <td>['Šumperská', ' (177 m)']</td>\n",
       "      <td>['13 900 Kč za měsíc']</td>\n",
       "      <td>NaN</td>\n",
       "      <td>...</td>\n",
       "      <td>['Penny Market', ' (183 m)']</td>\n",
       "      <td>['Praha-Čakovice', ' (1695 m)']</td>\n",
       "      <td>['Osobní']</td>\n",
       "      <td>NaN</td>\n",
       "      <td>NaN</td>\n",
       "      <td>[\"'boolean-true'\"]</td>\n",
       "      <td>NaN</td>\n",
       "      <td>NaN</td>\n",
       "      <td>['Základní škola Fryčovická', ' (160 m)']</td>\n",
       "      <td>['MŠ Havířovská', ' (255 m)']</td>\n",
       "    </tr>\n",
       "    <tr>\n",
       "      <th>3</th>\n",
       "      <td>0</td>\n",
       "      <td>Podbělohorská, Praha 5 - Smíchov Panorama</td>\n",
       "      <td>['Dnes']</td>\n",
       "      <td>NaN</td>\n",
       "      <td>['Bankomat Komerční banky', ' (381 m)']</td>\n",
       "      <td>NaN</td>\n",
       "      <td>[\"'boolean-false'\"]</td>\n",
       "      <td>['Pod Lipkami', ' (30 m)']</td>\n",
       "      <td>['15 000 Kč za nemovitost, + provize RK']</td>\n",
       "      <td>NaN</td>\n",
       "      <td>...</td>\n",
       "      <td>['Smíšené zboží Plzeňská\\t187', ' (404 m)']</td>\n",
       "      <td>['Praha-Cibulka', ' (1229 m)']</td>\n",
       "      <td>['Osobní']</td>\n",
       "      <td>['Dálkový vodovod']</td>\n",
       "      <td>NaN</td>\n",
       "      <td>NaN</td>\n",
       "      <td>NaN</td>\n",
       "      <td>NaN</td>\n",
       "      <td>['ZUŠ Na Popelce', ' (224 m)']</td>\n",
       "      <td>['TROIS PETITES POMMES, s.r.o.', ' (343 m)']</td>\n",
       "    </tr>\n",
       "  </tbody>\n",
       "</table>\n",
       "<p>4 rows × 80 columns</p>\n",
       "</div>"
      ],
      "text/plain": [
       "   Unnamed: 0                                       Adresa Aktualizace:  \\\n",
       "0           0  Dobrovolného, Praha 9 - Černý Most Panorama     ['Dnes']   \n",
       "1           0        Bořivojova, Praha 3 - Žižkov Panorama     ['Dnes']   \n",
       "2           0       Tupolevova, Praha 9 - Letňany Panorama     ['Dnes']   \n",
       "3           0    Podbělohorská, Praha 5 - Smíchov Panorama     ['Dnes']   \n",
       "\n",
       "  Balkón:                                  Bankomat: Bazén:  \\\n",
       "0     NaN  ['Bankomat České spořitelny', ' (542 m)']    NaN   \n",
       "1     NaN  ['Bankomat České spořitelny', ' (122 m)']    NaN   \n",
       "2     NaN  ['Bankomat České spořitelny', ' (236 m)']    NaN   \n",
       "3     NaN    ['Bankomat Komerční banky', ' (381 m)']    NaN   \n",
       "\n",
       "         Bezbariérový:                           Bus MHD:  \\\n",
       "0                  NaN  ['Generála Janouška', ' (132 m)']   \n",
       "1  [\"'boolean-false'\"]  ['Tachovské náměstí', ' (443 m)']   \n",
       "2   [\"'boolean-true'\"]          ['Šumperská', ' (177 m)']   \n",
       "3  [\"'boolean-false'\"]         ['Pod Lipkami', ' (30 m)']   \n",
       "\n",
       "                               Celková cena: Cena:  ...  \\\n",
       "0                     ['12 000 Kč za měsíc']   NaN  ...   \n",
       "1   ['9 500 Kč za nemovitost, + provize RK']   NaN  ...   \n",
       "2                     ['13 900 Kč za měsíc']   NaN  ...   \n",
       "3  ['15 000 Kč za nemovitost, + provize RK']   NaN  ...   \n",
       "\n",
       "                                      Večerka:  \\\n",
       "0           ['Albert Supermarket', ' (451 m)']   \n",
       "1               ['Shalamar Foods', ' (165 m)']   \n",
       "2                 ['Penny Market', ' (183 m)']   \n",
       "3  ['Smíšené zboží Plzeňská\\t187', ' (404 m)']   \n",
       "\n",
       "                                  Vlak: Vlastnictví:                Voda:  \\\n",
       "0           ['Praha-Kyje', ' (1445 m)']   ['Osobní']                  NaN   \n",
       "1  ['Praha hlavní nádraží', ' (984 m)']   ['Osobní']                  NaN   \n",
       "2       ['Praha-Čakovice', ' (1695 m)']   ['Osobní']                  NaN   \n",
       "3        ['Praha-Cibulka', ' (1229 m)']   ['Osobní']  ['Dálkový vodovod']   \n",
       "\n",
       "  Vybavení:              Výtah: Výška stropu: Zlevněno:  \\\n",
       "0       NaN                 NaN           NaN       NaN   \n",
       "1       NaN                 NaN           NaN       NaN   \n",
       "2       NaN  [\"'boolean-true'\"]           NaN       NaN   \n",
       "3       NaN                 NaN           NaN       NaN   \n",
       "\n",
       "                                              Škola:  \\\n",
       "0           ['ZUŠ Praha 9, Ratibořická', ' (234 m)']   \n",
       "1  ['Gymnázium Karla Sladkovského Praha 3', ' (56...   \n",
       "2          ['Základní škola Fryčovická', ' (160 m)']   \n",
       "3                     ['ZUŠ Na Popelce', ' (224 m)']   \n",
       "\n",
       "                                             Školka:  \n",
       "0   ['MŠ Sluníčko Praha 9 - Černý Most', ' (279 m)']  \n",
       "1  ['ZŠ a MŠ Jaroslava Seiferta Praha 3', ' (243 ...  \n",
       "2                      ['MŠ Havířovská', ' (255 m)']  \n",
       "3       ['TROIS PETITES POMMES, s.r.o.', ' (343 m)']  \n",
       "\n",
       "[4 rows x 80 columns]"
      ]
     },
     "execution_count": 1,
     "metadata": {},
     "output_type": "execute_result"
    }
   ],
   "source": [
    "import pandas as pd\n",
    "import numpy as np\n",
    "\n",
    "data = pd.read_csv(\"dataset.csv\", sep = ';') #uploading our scraped data\n",
    "data.head(4)"
   ]
  },
  {
   "cell_type": "code",
   "execution_count": 2,
   "metadata": {},
   "outputs": [
    {
     "name": "stdout",
     "output_type": "stream",
     "text": [
      "<class 'pandas.core.frame.DataFrame'>\n",
      "RangeIndex: 7878 entries, 0 to 7877\n",
      "Data columns (total 79 columns):\n",
      " #   Column                                   Non-Null Count  Dtype \n",
      "---  ------                                   --------------  ----- \n",
      " 0   Adresa                                   7878 non-null   object\n",
      " 1   Aktualizace:                             7878 non-null   object\n",
      " 2   Balkón:                                  1960 non-null   object\n",
      " 3   Bankomat:                                7455 non-null   object\n",
      " 4   Bazén:                                   21 non-null     object\n",
      " 5   Bezbariérový:                            1744 non-null   object\n",
      " 6   Bus MHD:                                 7756 non-null   object\n",
      " 7   Celková cena:                            7646 non-null   object\n",
      " 8   Cena:                                    47 non-null     object\n",
      " 9   Cukrárna:                                7455 non-null   object\n",
      " 10  Datum nastěhování:                       1751 non-null   object\n",
      " 11  Datum prohlídky do:                      5 non-null      object\n",
      " 12  Datum prohlídky:                         46 non-null     object\n",
      " 13  Datum zahájení prodeje:                  8 non-null      object\n",
      " 14  Divadlo:                                 7419 non-null   object\n",
      " 15  Doprava:                                 3223 non-null   object\n",
      " 16  Elektřina:                               2486 non-null   object\n",
      " 17  Energetická náročnost budovy:            5982 non-null   object\n",
      " 18  Garáž:                                   1153 non-null   object\n",
      " 19  Hospoda:                                 7455 non-null   object\n",
      " 20  Hřiště:                                  7761 non-null   object\n",
      " 21  ID zakázky:                              6925 non-null   object\n",
      " 22  ID:                                      953 non-null    object\n",
      " 23  Kino:                                    7415 non-null   object\n",
      " 24  Komunikace:                              1037 non-null   object\n",
      " 25  Kulturní památka:                        7121 non-null   object\n",
      " 26  Lodžie:                                  569 non-null    object\n",
      " 27  Lékař:                                   7455 non-null   object\n",
      " 28  Lékárna:                                 7455 non-null   object\n",
      " 29  Metro:                                   7624 non-null   object\n",
      " 30  Náklady na bydlení:                      654 non-null    object\n",
      " 31  Obchod:                                  7422 non-null   object\n",
      " 32  Odpad:                                   2182 non-null   object\n",
      " 33  Parkování:                               1466 non-null   object\n",
      " 34  Plocha podlahová:                        5303 non-null   object\n",
      " 35  Plocha pozemku:                          1 non-null      object\n",
      " 36  Plocha zahrady:                          70 non-null     object\n",
      " 37  Plocha zastavěná:                        215 non-null    object\n",
      " 38  Plyn:                                    1731 non-null   object\n",
      " 39  Podlaží:                                 7878 non-null   object\n",
      " 40  Poloha domu:                             1 non-null      object\n",
      " 41  Poznámka k ceně:                         5764 non-null   object\n",
      " 42  Počet bytů:                              8 non-null      object\n",
      " 43  Pošta:                                   7455 non-null   object\n",
      " 44  Provize:                                 173 non-null    object\n",
      " 45  Průkaz energetické náročnosti budovy:    159 non-null    object\n",
      " 46  Převod do OV:                            24 non-null     object\n",
      " 47  Přírodní zajímavost:                     865 non-null    object\n",
      " 48  Půdní vestavba:                          40 non-null     object\n",
      " 49  Původní cena:                            185 non-null    object\n",
      " 50  Restaurace:                              7455 non-null   object\n",
      " 51  Rok kolaudace:                           235 non-null    object\n",
      " 52  Rok rekonstrukce:                        559 non-null    object\n",
      " 53  Sklep:                                   1902 non-null   object\n",
      " 54  Sportoviště:                             7761 non-null   object\n",
      " 55  Stav objektu:                            7878 non-null   object\n",
      " 56  Stav:                                    60 non-null     object\n",
      " 57  Stavba:                                  7878 non-null   object\n",
      " 58  Telekomunikace:                          2700 non-null   object\n",
      " 59  Terasa:                                  1048 non-null   object\n",
      " 60  Title                                    7878 non-null   object\n",
      " 61  Topení:                                  3143 non-null   object\n",
      " 62  Tram:                                    7673 non-null   object\n",
      " 63  Typ bytu:                                331 non-null    object\n",
      " 64  Typ domu:                                1 non-null      object\n",
      " 65  Ukazatel energetické náročnosti budovy:  299 non-null    object\n",
      " 66  Umístění objektu:                        2503 non-null   object\n",
      " 67  Užitná plocha:                           7878 non-null   object\n",
      " 68  Veterinář:                               7455 non-null   object\n",
      " 69  Večerka:                                 7455 non-null   object\n",
      " 70  Vlak:                                    7750 non-null   object\n",
      " 71  Vlastnictví:                             7877 non-null   object\n",
      " 72  Voda:                                    2690 non-null   object\n",
      " 73  Vybavení:                                5977 non-null   object\n",
      " 74  Výtah:                                   5629 non-null   object\n",
      " 75  Výška stropu:                            77 non-null     object\n",
      " 76  Zlevněno:                                185 non-null    object\n",
      " 77  Škola:                                   7455 non-null   object\n",
      " 78  Školka:                                  7455 non-null   object\n",
      "dtypes: object(79)\n",
      "memory usage: 4.7+ MB\n"
     ]
    }
   ],
   "source": [
    "data = data.drop([\"Unnamed: 0\"], axis= 1)  #this drops the unnamed column as it has no value\n",
    "data.info() #inspecting all the variables, their type and number of observations"
   ]
  },
  {
   "cell_type": "code",
   "execution_count": 3,
   "metadata": {},
   "outputs": [],
   "source": [
    "#We rename columns so that we can better work with them \n",
    "#Specifically, adding underscored characters in multi-word names, deleting colons, \n",
    "#rewriting some long names in shorter form (among those that are very likely to be used in the analysis)\n",
    "\n",
    "data.columns = ['Adresa', 'Aktualizace', 'Balkón', 'Bankomat', 'Bazén',\n",
    "       'Bezbariérový', 'Bus_MHD', 'Price_total', 'Price', 'Cukrárna',\n",
    "       'Datum_nastěhování', 'Datum_prohlídky_do', 'Datum_prohlídky',\n",
    "       'Datum_zahájení_prodeje', 'Divadlo', 'Doprava', 'Elektřina',\n",
    "       'Energy_demands', 'Garáž', 'Hospoda', 'Hřiště',\n",
    "       'ID_zakázky:', 'ID', 'Kino', 'Komunikace', 'Kulturní_památka',\n",
    "       'Lodžie', 'Lékař', 'Lékárna', 'Metro', 'Náklady_na_bydlení',\n",
    "       'Obchod', 'Odpad', 'Parkování', 'Plocha_podlahová',\n",
    "       'Plocha_pozemku', 'Plocha_zahrady', 'Plocha_zastavěná', 'Plyn',\n",
    "       'Podlaží', 'Poloha domu', 'Poznámka_k_ceně', 'Počet bytů', 'Pošta',\n",
    "       'Provize', 'Energy_demands_II', 'Převod_do_OV',\n",
    "       'Přírodní zajímavost', 'Půdní_vestavba', 'Původní_cena',\n",
    "       'Restaurace', 'Rok_kolaudace', 'Rok_rekonstrukce', 'Sklep',\n",
    "       'Sportoviště', 'Stav_objektu', 'Stav', 'Stavba', 'Telekomunikace',\n",
    "       'Terasa', 'Title', 'Topení', 'Tram', 'Typ_bytu', 'Typ_domu',\n",
    "       'Energy_demands_III', 'Umístění_objektu',\n",
    "       'Area', 'Veterinář', 'Večerka', 'Vlak', 'Vlastnictví',\n",
    "       'Voda', 'Vybavení', 'Výtah', 'Výška_stropu', 'Zlevněno', 'Škola',\n",
    "       'Školka']"
   ]
  },
  {
   "cell_type": "markdown",
   "metadata": {},
   "source": [
    "In total, we have 7878 observations and 79 columns. Neverheless, as we can see above, many of the columns contain only a relatively limited information (in terms of number of their observations), specifically 49 variables have more than 10% of missing values. Hence, the strenght of their evidence is limited and we need to be aware of this limitation. Variables with extreme portion of missing values (> 90%) deserve special attention and we should rather not include them in the analysis at all because they don't tell us much."
   ]
  },
  {
   "cell_type": "code",
   "execution_count": 4,
   "metadata": {
    "scrolled": true
   },
   "outputs": [
    {
     "data": {
      "text/plain": [
       "25"
      ]
     },
     "execution_count": 4,
     "metadata": {},
     "output_type": "execute_result"
    }
   ],
   "source": [
    "n_observations = 7878\n",
    "empty = data.isnull().sum()\n",
    "empty[empty > n_observations*0.9].sort_values(ascending = False).count()\n",
    "#number of variables that miss more than 90% of observations"
   ]
  },
  {
   "cell_type": "code",
   "execution_count": 5,
   "metadata": {},
   "outputs": [
    {
     "data": {
      "text/plain": [
       "Typ_domu                  7877\n",
       "Plocha_pozemku            7877\n",
       "Poloha domu               7877\n",
       "Datum_prohlídky_do        7873\n",
       "Datum_zahájení_prodeje    7870\n",
       "Počet bytů                7870\n",
       "Bazén                     7857\n",
       "Převod_do_OV              7854\n",
       "Půdní_vestavba            7838\n",
       "Datum_prohlídky           7832\n",
       "Price                     7831\n",
       "Stav                      7818\n",
       "Plocha_zahrady            7808\n",
       "Výška_stropu              7801\n",
       "Energy_demands_II         7719\n",
       "Provize                   7705\n",
       "Původní_cena              7693\n",
       "Zlevněno                  7693\n",
       "Plocha_zastavěná          7663\n",
       "Rok_kolaudace             7643\n",
       "Energy_demands_III        7579\n",
       "Typ_bytu                  7547\n",
       "Rok_rekonstrukce          7319\n",
       "Lodžie                    7309\n",
       "Náklady_na_bydlení        7224\n",
       "dtype: int64"
      ]
     },
     "execution_count": 5,
     "metadata": {},
     "output_type": "execute_result"
    }
   ],
   "source": [
    "empty[empty > n_observations*0.9].sort_values(ascending = False) #list of those variables"
   ]
  },
  {
   "cell_type": "markdown",
   "metadata": {},
   "source": [
    "The most suitable variables are these 31 that miss less than 90% of observations. Regarding the aim of our project, it is pleasant that variable 'Metro' can be found here. In our analysis, we will consider 6 more variables, i.e. all variables that contain more than 66% of observations."
   ]
  },
  {
   "cell_type": "code",
   "execution_count": 6,
   "metadata": {},
   "outputs": [
    {
     "data": {
      "text/plain": [
       "Kulturní_památka    757\n",
       "Kino                463\n",
       "Divadlo             459\n",
       "Obchod              456\n",
       "Restaurace          423\n",
       "Bankomat            423\n",
       "Cukrárna            423\n",
       "Hospoda             423\n",
       "Lékař               423\n",
       "Lékárna             423\n",
       "Škola               423\n",
       "Pošta               423\n",
       "Školka              423\n",
       "Veterinář           423\n",
       "Večerka             423\n",
       "Metro               254\n",
       "Price_total         232\n",
       "Tram                205\n",
       "Vlak                128\n",
       "Bus_MHD             122\n",
       "Sportoviště         117\n",
       "Hřiště              117\n",
       "Vlastnictví           1\n",
       "Podlaží               0\n",
       "Area                  0\n",
       "Title                 0\n",
       "Stavba                0\n",
       "Stav_objektu          0\n",
       "Aktualizace           0\n",
       "Adresa                0\n",
       "dtype: int64"
      ]
     },
     "execution_count": 6,
     "metadata": {},
     "output_type": "execute_result"
    }
   ],
   "source": [
    "empty[empty < n_observations*0.1].sort_values(ascending = False)"
   ]
  },
  {
   "cell_type": "code",
   "execution_count": 7,
   "metadata": {},
   "outputs": [
    {
     "data": {
      "text/plain": [
       "Plocha_podlahová    2575\n",
       "Výtah               2249\n",
       "Poznámka_k_ceně     2114\n",
       "Vybavení            1901\n",
       "Energy_demands      1896\n",
       "ID_zakázky:          953\n",
       "dtype: int64"
      ]
     },
     "execution_count": 7,
     "metadata": {},
     "output_type": "execute_result"
    }
   ],
   "source": [
    "empty[np.all([(empty > n_observations*0.1),(empty < n_observations*0.33)], axis = 0)].sort_values(ascending = False)"
   ]
  },
  {
   "cell_type": "markdown",
   "metadata": {},
   "source": [
    "## II. Dataset adjustments\n",
    "At this point, two things need to be done. Adjusting the dataset only for variables that have some evidence power, and adjusting the column 'Price' as its string values are currently very messy which makes it impossible to work with this crucial variable in our analysis.\n",
    "\n",
    "### a) Keeping worthy variables only\n",
    "As discussed above, we consider only variables with more than 66% of observations. Let's adjust the dataset accordingly..."
   ]
  },
  {
   "cell_type": "code",
   "execution_count": 8,
   "metadata": {},
   "outputs": [
    {
     "data": {
      "text/plain": [
       "Index(['Adresa', 'Aktualizace', 'Bankomat', 'Bus_MHD', 'Price_total',\n",
       "       'Cukrárna', 'Divadlo', 'Energy_demands', 'Hospoda', 'Hřiště',\n",
       "       'ID_zakázky:', 'Kino', 'Kulturní_památka', 'Lékař', 'Lékárna', 'Metro',\n",
       "       'Obchod', 'Plocha_podlahová', 'Podlaží', 'Poznámka_k_ceně', 'Pošta',\n",
       "       'Restaurace', 'Sportoviště', 'Stav_objektu', 'Stavba', 'Title', 'Tram',\n",
       "       'Area', 'Veterinář', 'Večerka', 'Vlak', 'Vlastnictví', 'Vybavení',\n",
       "       'Výtah', 'Škola', 'Školka'],\n",
       "      dtype='object')"
      ]
     },
     "execution_count": 8,
     "metadata": {},
     "output_type": "execute_result"
    }
   ],
   "source": [
    "variable = empty[empty < n_observations*0.33]\n",
    "variable.index"
   ]
  },
  {
   "cell_type": "code",
   "execution_count": 9,
   "metadata": {},
   "outputs": [
    {
     "data": {
      "text/html": [
       "<div>\n",
       "<style scoped>\n",
       "    .dataframe tbody tr th:only-of-type {\n",
       "        vertical-align: middle;\n",
       "    }\n",
       "\n",
       "    .dataframe tbody tr th {\n",
       "        vertical-align: top;\n",
       "    }\n",
       "\n",
       "    .dataframe thead th {\n",
       "        text-align: right;\n",
       "    }\n",
       "</style>\n",
       "<table border=\"1\" class=\"dataframe\">\n",
       "  <thead>\n",
       "    <tr style=\"text-align: right;\">\n",
       "      <th></th>\n",
       "      <th>Adresa</th>\n",
       "      <th>Aktualizace</th>\n",
       "      <th>Bankomat</th>\n",
       "      <th>Bus_MHD</th>\n",
       "      <th>Price_total</th>\n",
       "      <th>Cukrárna</th>\n",
       "      <th>Divadlo</th>\n",
       "      <th>Energy_demands</th>\n",
       "      <th>Hospoda</th>\n",
       "      <th>Hřiště</th>\n",
       "      <th>...</th>\n",
       "      <th>Tram</th>\n",
       "      <th>Area</th>\n",
       "      <th>Veterinář</th>\n",
       "      <th>Večerka</th>\n",
       "      <th>Vlak</th>\n",
       "      <th>Vlastnictví</th>\n",
       "      <th>Vybavení</th>\n",
       "      <th>Výtah</th>\n",
       "      <th>Škola</th>\n",
       "      <th>Školka</th>\n",
       "    </tr>\n",
       "  </thead>\n",
       "  <tbody>\n",
       "    <tr>\n",
       "      <th>0</th>\n",
       "      <td>Dobrovolného, Praha 9 - Černý Most Panorama</td>\n",
       "      <td>['Dnes']</td>\n",
       "      <td>['Bankomat České spořitelny', ' (542 m)']</td>\n",
       "      <td>['Generála Janouška', ' (132 m)']</td>\n",
       "      <td>['12 000 Kč za měsíc']</td>\n",
       "      <td>['Shisha Room Dvin', ' (1144 m)']</td>\n",
       "      <td>['Přírodní divadlo Dády Stoklasy', ' (3152 m)']</td>\n",
       "      <td>['Třída G - Mimořádně nehospodárná']</td>\n",
       "      <td>['Šenk Na Rajské', ' (476 m)']</td>\n",
       "      <td>['Dětské hřiště Rajský vrch', ' (162 m)']</td>\n",
       "      <td>...</td>\n",
       "      <td>['Lehovec', ' (1136 m)']</td>\n",
       "      <td>['26m2']</td>\n",
       "      <td>['MetropoleVet Praha s.r.o.', ' (623 m)']</td>\n",
       "      <td>['Albert Supermarket', ' (451 m)']</td>\n",
       "      <td>['Praha-Kyje', ' (1445 m)']</td>\n",
       "      <td>['Osobní']</td>\n",
       "      <td>NaN</td>\n",
       "      <td>NaN</td>\n",
       "      <td>['ZUŠ Praha 9, Ratibořická', ' (234 m)']</td>\n",
       "      <td>['MŠ Sluníčko Praha 9 - Černý Most', ' (279 m)']</td>\n",
       "    </tr>\n",
       "    <tr>\n",
       "      <th>1</th>\n",
       "      <td>Bořivojova, Praha 3 - Žižkov Panorama</td>\n",
       "      <td>['Dnes']</td>\n",
       "      <td>['Bankomat České spořitelny', ' (122 m)']</td>\n",
       "      <td>['Tachovské náměstí', ' (443 m)']</td>\n",
       "      <td>['9 500 Kč za nemovitost, + provize RK']</td>\n",
       "      <td>['Klub JINÝ KAFE', ' (283 m)']</td>\n",
       "      <td>['Žižkovské divadlo Járy Cimrmana', ' (280 m)']</td>\n",
       "      <td>['Třída G - Mimořádně nehospodárná']</td>\n",
       "      <td>['Hospůdka U Habásků', ' (209 m)']</td>\n",
       "      <td>['Dětské hřiště Bořivojova', ' (294 m)']</td>\n",
       "      <td>...</td>\n",
       "      <td>['Lipanská', ' (186 m)']</td>\n",
       "      <td>['23m2']</td>\n",
       "      <td>['MVDr. Jan Dubský', ' (425 m)']</td>\n",
       "      <td>['Shalamar Foods', ' (165 m)']</td>\n",
       "      <td>['Praha hlavní nádraží', ' (984 m)']</td>\n",
       "      <td>['Osobní']</td>\n",
       "      <td>NaN</td>\n",
       "      <td>NaN</td>\n",
       "      <td>['Gymnázium Karla Sladkovského Praha 3', ' (56...</td>\n",
       "      <td>['ZŠ a MŠ Jaroslava Seiferta Praha 3', ' (243 ...</td>\n",
       "    </tr>\n",
       "    <tr>\n",
       "      <th>2</th>\n",
       "      <td>Tupolevova, Praha 9 - Letňany Panorama</td>\n",
       "      <td>['Dnes']</td>\n",
       "      <td>['Bankomat České spořitelny', ' (236 m)']</td>\n",
       "      <td>['Šumperská', ' (177 m)']</td>\n",
       "      <td>['13 900 Kč za měsíc']</td>\n",
       "      <td>['Café Infinity', ' (204 m)']</td>\n",
       "      <td>['Divadlo Pohádka', ' (1057 m)']</td>\n",
       "      <td>NaN</td>\n",
       "      <td>['Pivnice na Královce', ' (1824 m)']</td>\n",
       "      <td>['Venkovní posilovna u obchodního centra', ' (...</td>\n",
       "      <td>...</td>\n",
       "      <td>['Sídliště Ďáblice', ' (1906 m)']</td>\n",
       "      <td>['52m2']</td>\n",
       "      <td>['Veterinární ordinace Letňany', ' (302 m)']</td>\n",
       "      <td>['Penny Market', ' (183 m)']</td>\n",
       "      <td>['Praha-Čakovice', ' (1695 m)']</td>\n",
       "      <td>['Osobní']</td>\n",
       "      <td>NaN</td>\n",
       "      <td>[\"'boolean-true'\"]</td>\n",
       "      <td>['Základní škola Fryčovická', ' (160 m)']</td>\n",
       "      <td>['MŠ Havířovská', ' (255 m)']</td>\n",
       "    </tr>\n",
       "    <tr>\n",
       "      <th>3</th>\n",
       "      <td>Podbělohorská, Praha 5 - Smíchov Panorama</td>\n",
       "      <td>['Dnes']</td>\n",
       "      <td>['Bankomat Komerční banky', ' (381 m)']</td>\n",
       "      <td>['Pod Lipkami', ' (30 m)']</td>\n",
       "      <td>['15 000 Kč za nemovitost, + provize RK']</td>\n",
       "      <td>['Cukrárna Pod Marjánkou', ' (1333 m)']</td>\n",
       "      <td>['JUDr. Jiří Šilhán', ' (279 m)']</td>\n",
       "      <td>['Třída B - Velmi úsporná']</td>\n",
       "      <td>['Restaurace Na zámyšli', ' (423 m)']</td>\n",
       "      <td>['Dětské hřiště Na Vršku', ' (116 m)']</td>\n",
       "      <td>...</td>\n",
       "      <td>['Kavalírka', ' (370 m)']</td>\n",
       "      <td>['58m2']</td>\n",
       "      <td>['Veterinární klinika - MVDr. Pavel Santar, MV...</td>\n",
       "      <td>['Smíšené zboží Plzeňská\\t187', ' (404 m)']</td>\n",
       "      <td>['Praha-Cibulka', ' (1229 m)']</td>\n",
       "      <td>['Osobní']</td>\n",
       "      <td>NaN</td>\n",
       "      <td>NaN</td>\n",
       "      <td>['ZUŠ Na Popelce', ' (224 m)']</td>\n",
       "      <td>['TROIS PETITES POMMES, s.r.o.', ' (343 m)']</td>\n",
       "    </tr>\n",
       "    <tr>\n",
       "      <th>4</th>\n",
       "      <td>Mezi domy, Praha 4 - Písnice Panorama</td>\n",
       "      <td>['Dnes']</td>\n",
       "      <td>['Bankomat Komerční banky', ' (780 m)']</td>\n",
       "      <td>['U Libušské sokolovny', ' (275 m)']</td>\n",
       "      <td>['19 500 Kč za měsíc']</td>\n",
       "      <td>['Cukrářství Viktoria, s.r.o.', ' (900 m)']</td>\n",
       "      <td>['Tradiční loutkové divadlo Zvoneček', ' (3145...</td>\n",
       "      <td>['Třída D - Méně úsporná č. 78/2013 Sb. podle ...</td>\n",
       "      <td>['Hospůdka U Báti', ' (509 m)']</td>\n",
       "      <td>['Dětské hřiště Pyramida Na Okruhu', ' (78 m)']</td>\n",
       "      <td>...</td>\n",
       "      <td>['Levského', ' (1815 m)']</td>\n",
       "      <td>['93m2']</td>\n",
       "      <td>['Vetnemo, s.r.o.', ' (634 m)']</td>\n",
       "      <td>['VIVACOMEX, spol. s r.o.', ' (450 m)']</td>\n",
       "      <td>['Praha-Krč', ' (3635 m)']</td>\n",
       "      <td>['Osobní']</td>\n",
       "      <td>NaN</td>\n",
       "      <td>[\"'boolean-true'\"]</td>\n",
       "      <td>['Střední odborné učiliště potravinářské Praha...</td>\n",
       "      <td>['Mateřská škola Mezi Domy', ' (105 m)']</td>\n",
       "    </tr>\n",
       "  </tbody>\n",
       "</table>\n",
       "<p>5 rows × 36 columns</p>\n",
       "</div>"
      ],
      "text/plain": [
       "                                        Adresa Aktualizace  \\\n",
       "0  Dobrovolného, Praha 9 - Černý Most Panorama    ['Dnes']   \n",
       "1        Bořivojova, Praha 3 - Žižkov Panorama    ['Dnes']   \n",
       "2       Tupolevova, Praha 9 - Letňany Panorama    ['Dnes']   \n",
       "3    Podbělohorská, Praha 5 - Smíchov Panorama    ['Dnes']   \n",
       "4        Mezi domy, Praha 4 - Písnice Panorama    ['Dnes']   \n",
       "\n",
       "                                    Bankomat  \\\n",
       "0  ['Bankomat České spořitelny', ' (542 m)']   \n",
       "1  ['Bankomat České spořitelny', ' (122 m)']   \n",
       "2  ['Bankomat České spořitelny', ' (236 m)']   \n",
       "3    ['Bankomat Komerční banky', ' (381 m)']   \n",
       "4    ['Bankomat Komerční banky', ' (780 m)']   \n",
       "\n",
       "                                Bus_MHD  \\\n",
       "0     ['Generála Janouška', ' (132 m)']   \n",
       "1     ['Tachovské náměstí', ' (443 m)']   \n",
       "2             ['Šumperská', ' (177 m)']   \n",
       "3            ['Pod Lipkami', ' (30 m)']   \n",
       "4  ['U Libušské sokolovny', ' (275 m)']   \n",
       "\n",
       "                                 Price_total  \\\n",
       "0                     ['12 000 Kč za měsíc']   \n",
       "1   ['9 500 Kč za nemovitost, + provize RK']   \n",
       "2                     ['13 900 Kč za měsíc']   \n",
       "3  ['15 000 Kč za nemovitost, + provize RK']   \n",
       "4                     ['19 500 Kč za měsíc']   \n",
       "\n",
       "                                      Cukrárna  \\\n",
       "0            ['Shisha Room Dvin', ' (1144 m)']   \n",
       "1               ['Klub JINÝ KAFE', ' (283 m)']   \n",
       "2                ['Café Infinity', ' (204 m)']   \n",
       "3      ['Cukrárna Pod Marjánkou', ' (1333 m)']   \n",
       "4  ['Cukrářství Viktoria, s.r.o.', ' (900 m)']   \n",
       "\n",
       "                                             Divadlo  \\\n",
       "0    ['Přírodní divadlo Dády Stoklasy', ' (3152 m)']   \n",
       "1    ['Žižkovské divadlo Járy Cimrmana', ' (280 m)']   \n",
       "2                   ['Divadlo Pohádka', ' (1057 m)']   \n",
       "3                  ['JUDr. Jiří Šilhán', ' (279 m)']   \n",
       "4  ['Tradiční loutkové divadlo Zvoneček', ' (3145...   \n",
       "\n",
       "                                      Energy_demands  \\\n",
       "0               ['Třída G - Mimořádně nehospodárná']   \n",
       "1               ['Třída G - Mimořádně nehospodárná']   \n",
       "2                                                NaN   \n",
       "3                        ['Třída B - Velmi úsporná']   \n",
       "4  ['Třída D - Méně úsporná č. 78/2013 Sb. podle ...   \n",
       "\n",
       "                                 Hospoda  \\\n",
       "0         ['Šenk Na Rajské', ' (476 m)']   \n",
       "1     ['Hospůdka U Habásků', ' (209 m)']   \n",
       "2   ['Pivnice na Královce', ' (1824 m)']   \n",
       "3  ['Restaurace Na zámyšli', ' (423 m)']   \n",
       "4        ['Hospůdka U Báti', ' (509 m)']   \n",
       "\n",
       "                                              Hřiště  ...  \\\n",
       "0          ['Dětské hřiště Rajský vrch', ' (162 m)']  ...   \n",
       "1           ['Dětské hřiště Bořivojova', ' (294 m)']  ...   \n",
       "2  ['Venkovní posilovna u obchodního centra', ' (...  ...   \n",
       "3             ['Dětské hřiště Na Vršku', ' (116 m)']  ...   \n",
       "4    ['Dětské hřiště Pyramida Na Okruhu', ' (78 m)']  ...   \n",
       "\n",
       "                                Tram      Area  \\\n",
       "0           ['Lehovec', ' (1136 m)']  ['26m2']   \n",
       "1           ['Lipanská', ' (186 m)']  ['23m2']   \n",
       "2  ['Sídliště Ďáblice', ' (1906 m)']  ['52m2']   \n",
       "3          ['Kavalírka', ' (370 m)']  ['58m2']   \n",
       "4          ['Levského', ' (1815 m)']  ['93m2']   \n",
       "\n",
       "                                           Veterinář  \\\n",
       "0          ['MetropoleVet Praha s.r.o.', ' (623 m)']   \n",
       "1                   ['MVDr. Jan Dubský', ' (425 m)']   \n",
       "2       ['Veterinární ordinace Letňany', ' (302 m)']   \n",
       "3  ['Veterinární klinika - MVDr. Pavel Santar, MV...   \n",
       "4                    ['Vetnemo, s.r.o.', ' (634 m)']   \n",
       "\n",
       "                                       Večerka  \\\n",
       "0           ['Albert Supermarket', ' (451 m)']   \n",
       "1               ['Shalamar Foods', ' (165 m)']   \n",
       "2                 ['Penny Market', ' (183 m)']   \n",
       "3  ['Smíšené zboží Plzeňská\\t187', ' (404 m)']   \n",
       "4      ['VIVACOMEX, spol. s r.o.', ' (450 m)']   \n",
       "\n",
       "                                   Vlak Vlastnictví Vybavení  \\\n",
       "0           ['Praha-Kyje', ' (1445 m)']  ['Osobní']      NaN   \n",
       "1  ['Praha hlavní nádraží', ' (984 m)']  ['Osobní']      NaN   \n",
       "2       ['Praha-Čakovice', ' (1695 m)']  ['Osobní']      NaN   \n",
       "3        ['Praha-Cibulka', ' (1229 m)']  ['Osobní']      NaN   \n",
       "4            ['Praha-Krč', ' (3635 m)']  ['Osobní']      NaN   \n",
       "\n",
       "                Výtah                                              Škola  \\\n",
       "0                 NaN           ['ZUŠ Praha 9, Ratibořická', ' (234 m)']   \n",
       "1                 NaN  ['Gymnázium Karla Sladkovského Praha 3', ' (56...   \n",
       "2  [\"'boolean-true'\"]          ['Základní škola Fryčovická', ' (160 m)']   \n",
       "3                 NaN                     ['ZUŠ Na Popelce', ' (224 m)']   \n",
       "4  [\"'boolean-true'\"]  ['Střední odborné učiliště potravinářské Praha...   \n",
       "\n",
       "                                              Školka  \n",
       "0   ['MŠ Sluníčko Praha 9 - Černý Most', ' (279 m)']  \n",
       "1  ['ZŠ a MŠ Jaroslava Seiferta Praha 3', ' (243 ...  \n",
       "2                      ['MŠ Havířovská', ' (255 m)']  \n",
       "3       ['TROIS PETITES POMMES, s.r.o.', ' (343 m)']  \n",
       "4           ['Mateřská škola Mezi Domy', ' (105 m)']  \n",
       "\n",
       "[5 rows x 36 columns]"
      ]
     },
     "execution_count": 9,
     "metadata": {},
     "output_type": "execute_result"
    }
   ],
   "source": [
    "data[variable.index].head()"
   ]
  },
  {
   "cell_type": "code",
   "execution_count": 10,
   "metadata": {},
   "outputs": [],
   "source": [
    "data[variable.index].head().to_csv('dataview.csv', sep = ';')"
   ]
  },
  {
   "cell_type": "markdown",
   "metadata": {},
   "source": [
    "### b) Dealing with messy prices (alternative 1)"
   ]
  },
  {
   "cell_type": "markdown",
   "metadata": {},
   "source": [
    "Before we can do the analysis, we need to deal with the complicated form of stated prices and obtain purely the monthly rent in CZK, without other specification (in other words, we need to extract integer out of the string values).\n",
    "\n",
    "In order to be able to suitably merge the resulting list of prices to the original dataset, it is neccessary to get rid of rows with empty prices values beforehand. Furthermore, during the analysis, we explored two error values in the dataset (tiny but with serious consequences): observation data.Price_total[984] has value of \"12 CZK\" which is nonsense and observation data.Price_total[6727] has value \"23 214 CZK (850 EUR)\" which cases troubles in the analysis and we need to get rid of both of these errors beforehand."
   ]
  },
  {
   "cell_type": "code",
   "execution_count": 11,
   "metadata": {},
   "outputs": [],
   "source": [
    "# data.dropna(subset = ['Price_total'], inplace=True)\n",
    "# new_data = data.drop([984,6727]).reset_index(drop=True)\n",
    "\n",
    "##by inspecting \"new_data.info()\" we can confirm that the maximum number of observations for any variable is 7645, \n",
    "##which is exactly the number of non-empty observations of 'Price_total' \n",
    "\n",
    "##Taking the available 'Price_total' data\n",
    "#Price_orig = new_data.Price_total\n",
    "#a= np.array(Price_orig)\n",
    "#print(a)"
   ]
  },
  {
   "cell_type": "code",
   "execution_count": 12,
   "metadata": {},
   "outputs": [],
   "source": [
    "##Converting them into a list of strings and subsequently a string\n",
    "#a_str_prep = [str(i) for i in a]\n",
    "#a_string = \",\".join(a_str_prep)\n",
    "#print(a_string)"
   ]
  },
  {
   "cell_type": "code",
   "execution_count": 13,
   "metadata": {},
   "outputs": [],
   "source": [
    "##Extracting all numerical characters out of the a_string\n",
    "#temp = re.findall(r'\\d+', a_string) \n",
    "#res = list(map(int, temp))\n",
    "#print(res)"
   ]
  },
  {
   "cell_type": "markdown",
   "metadata": {},
   "source": [
    "After exploration of the res' output we can see that the goal now is to merge every two elements together in order to obtain the stated price. There is also an obvious issue that Python takes values '000' as '=0', and we get to this soon."
   ]
  },
  {
   "cell_type": "code",
   "execution_count": 14,
   "metadata": {},
   "outputs": [],
   "source": [
    "#res_str = [str(i) for i in res]\n",
    "\n",
    "#Q = []\n",
    "#for k in range(0,7645):\n",
    "#    joined = res_str[0+2*k]+res_str[1+2*k]\n",
    "#    Q.append(joined)\n",
    "#    print(joined)"
   ]
  },
  {
   "cell_type": "markdown",
   "metadata": {},
   "source": [
    "After inspecting the output of the Q list, we can conclude that it seems to work well, except the issue with nulls. We solve this by using the for loop method in combination with \"if statement\". The logic is to take every observation that apparently \"misses two nulls\" (i.e. its value is <1000) and \"add these nulls\" by multiplying the value by 100. Afterwards, everything seems to be just fine..."
   ]
  },
  {
   "cell_type": "code",
   "execution_count": 15,
   "metadata": {},
   "outputs": [],
   "source": [
    "#Q = [float(i) for i in Q]"
   ]
  },
  {
   "cell_type": "code",
   "execution_count": 16,
   "metadata": {},
   "outputs": [],
   "source": [
    "#prices = []\n",
    "\n",
    "#for price in Q:\n",
    "#    if price <1000:\n",
    "#       x = price*100\n",
    "#       prices.append(x)\n",
    "        \n",
    "#    else:\n",
    "#        y = price\n",
    "#        prices.append(y)\n",
    "    \n",
    "#print(prices)"
   ]
  },
  {
   "cell_type": "markdown",
   "metadata": {},
   "source": [
    "### b) Dealing with messy prices (alternative 2 - extractor)"
   ]
  },
  {
   "cell_type": "code",
   "execution_count": 17,
   "metadata": {},
   "outputs": [],
   "source": [
    "import re"
   ]
  },
  {
   "cell_type": "code",
   "execution_count": 18,
   "metadata": {},
   "outputs": [],
   "source": [
    "def extractor(inp):\n",
    "    try:\n",
    "        result = int(re.sub(\"[^0-9]\", \"\",inp))\n",
    "    except:\n",
    "        result = None\n",
    "    return result"
   ]
  },
  {
   "cell_type": "code",
   "execution_count": 19,
   "metadata": {},
   "outputs": [],
   "source": [
    "data['cena'] = data['Price_total'].apply(extractor)"
   ]
  },
  {
   "cell_type": "code",
   "execution_count": 20,
   "metadata": {
    "scrolled": false
   },
   "outputs": [
    {
     "name": "stdout",
     "output_type": "stream",
     "text": [
      "0       12000.0\n",
      "1        9500.0\n",
      "2       13900.0\n",
      "3       15000.0\n",
      "4       19500.0\n",
      "         ...   \n",
      "7873    35000.0\n",
      "7874    33000.0\n",
      "7875    55000.0\n",
      "7876    75000.0\n",
      "7877    35000.0\n",
      "Name: cena, Length: 7878, dtype: float64\n"
     ]
    }
   ],
   "source": [
    "print(data.cena)"
   ]
  },
  {
   "cell_type": "markdown",
   "metadata": {},
   "source": [
    "We spot faulty values in top 51 result with the EUR information included."
   ]
  },
  {
   "cell_type": "code",
   "execution_count": 21,
   "metadata": {},
   "outputs": [
    {
     "data": {
      "text/plain": [
       "5533    1.269925e+09\n",
       "3993    1.269925e+09\n",
       "7549    1.031504e+09\n",
       "2476    1.031234e+09\n",
       "7526    1.022494e+09\n",
       "7491    1.011024e+09\n",
       "3774    9.913636e+08\n",
       "7545    9.771636e+08\n",
       "7054    9.770736e+08\n",
       "2471    9.768836e+08\n",
       "5466    9.585935e+08\n",
       "7681    9.558535e+08\n",
       "7544    9.553135e+08\n",
       "4024    9.553135e+08\n",
       "7499    9.359234e+08\n",
       "7203    8.247730e+08\n",
       "7047    8.193030e+08\n",
       "7516    7.813429e+08\n",
       "7051    7.641428e+08\n",
       "7592    7.595028e+08\n",
       "3779    7.592228e+08\n",
       "7071    7.439327e+08\n",
       "5524    7.051526e+08\n",
       "3828    7.051526e+08\n",
       "3419    7.048826e+08\n",
       "7070    6.909525e+08\n",
       "3775    6.505324e+08\n",
       "7108    6.505324e+08\n",
       "7543    6.505324e+08\n",
       "7073    6.374223e+08\n",
       "3424    6.374223e+08\n",
       "7546    6.289523e+08\n",
       "7072    6.289023e+08\n",
       "4336    6.286823e+08\n",
       "7504    6.073822e+08\n",
       "3831    5.961822e+08\n",
       "7283    5.527620e+08\n",
       "7300    5.202619e+08\n",
       "7077    5.202619e+08\n",
       "7505    5.027818e+08\n",
       "3262    4.768417e+08\n",
       "7689    4.096515e+08\n",
       "2690    4.096515e+08\n",
       "6456    3.786414e+08\n",
       "7101    3.785214e+08\n",
       "7059    3.708714e+08\n",
       "7370    3.678713e+08\n",
       "7069    2.965911e+08\n",
       "7311    2.941311e+08\n",
       "6727    2.321485e+07\n",
       "Name: cena, dtype: float64"
      ]
     },
     "execution_count": 21,
     "metadata": {},
     "output_type": "execute_result"
    }
   ],
   "source": [
    "data['cena'].sort_values(ascending = False)[1:51]"
   ]
  },
  {
   "cell_type": "code",
   "execution_count": 22,
   "metadata": {},
   "outputs": [],
   "source": [
    "fal_indx = data['cena'].sort_values(ascending = False)[1:51].index #we gather indexes\n",
    "spec = 6727 # it is a special index because has 3 digit number in EUR, all other 4 "
   ]
  },
  {
   "cell_type": "code",
   "execution_count": 23,
   "metadata": {},
   "outputs": [],
   "source": [
    "#let us write a function to handle these exceptions\n",
    "def remove_4(index):\n",
    "    #global fal_indx\n",
    "    #global spec\n",
    "    \n",
    "    def rem_4(inp, n = -6):\n",
    "        strin = str(data['cena'][inp])\n",
    "        return(int(strin[:n]))\n",
    "    \n",
    "    if index in fal_indx:\n",
    "        if index == spec:\n",
    "            data['cena'][index] = rem_4(index, -5)\n",
    "        else:\n",
    "            data['cena'][index] = rem_4(index)"
   ]
  },
  {
   "cell_type": "code",
   "execution_count": 24,
   "metadata": {
    "collapsed": true
   },
   "outputs": [
    {
     "name": "stderr",
     "output_type": "stream",
     "text": [
      "/Users/marketamala/opt/anaconda3/lib/python3.7/site-packages/ipykernel_launcher.py:14: SettingWithCopyWarning: \n",
      "A value is trying to be set on a copy of a slice from a DataFrame\n",
      "\n",
      "See the caveats in the documentation: https://pandas.pydata.org/pandas-docs/stable/user_guide/indexing.html#returning-a-view-versus-a-copy\n",
      "  \n",
      "/Users/marketamala/opt/anaconda3/lib/python3.7/site-packages/ipykernel_launcher.py:12: SettingWithCopyWarning: \n",
      "A value is trying to be set on a copy of a slice from a DataFrame\n",
      "\n",
      "See the caveats in the documentation: https://pandas.pydata.org/pandas-docs/stable/user_guide/indexing.html#returning-a-view-versus-a-copy\n",
      "  if sys.path[0] == '':\n"
     ]
    },
    {
     "data": {
      "text/plain": [
       "Index([None, None, None, None, None, None, None, None, None, None,\n",
       "       ...\n",
       "       None, None, None, None, None, None, None, None, None, None],\n",
       "      dtype='object', length=7878)"
      ]
     },
     "execution_count": 24,
     "metadata": {},
     "output_type": "execute_result"
    }
   ],
   "source": [
    "data.index.map(remove_4) #Despite the error, it does what we wanted "
   ]
  },
  {
   "cell_type": "markdown",
   "metadata": {},
   "source": [
    "Test:"
   ]
  },
  {
   "cell_type": "code",
   "execution_count": 25,
   "metadata": {},
   "outputs": [
    {
     "data": {
      "text/plain": [
       "126992.0"
      ]
     },
     "execution_count": 25,
     "metadata": {},
     "output_type": "execute_result"
    }
   ],
   "source": [
    "data['cena'][3993]"
   ]
  },
  {
   "cell_type": "code",
   "execution_count": 26,
   "metadata": {
    "scrolled": true
   },
   "outputs": [
    {
     "data": {
      "text/plain": [
       "\"['126 992 Kč (4 650 EUR) za měsíc, bez poplatků']\""
      ]
     },
     "execution_count": 26,
     "metadata": {},
     "output_type": "execute_result"
    }
   ],
   "source": [
    "data['Price_total'][3993]"
   ]
  },
  {
   "cell_type": "markdown",
   "metadata": {},
   "source": [
    "Number of NaNs:"
   ]
  },
  {
   "cell_type": "code",
   "execution_count": 86,
   "metadata": {
    "scrolled": true
   },
   "outputs": [
    {
     "data": {
      "text/plain": [
       "232"
      ]
     },
     "execution_count": 86,
     "metadata": {},
     "output_type": "execute_result"
    }
   ],
   "source": [
    "XYZ = np.array(data.cena)\n",
    "NaNs = np.argwhere(np.isnan(XYZ))\n",
    "len(NaNs)"
   ]
  },
  {
   "cell_type": "markdown",
   "metadata": {},
   "source": [
    "### b) Dealing with messy prices (alternative 3 - split method)"
   ]
  },
  {
   "cell_type": "code",
   "execution_count": 47,
   "metadata": {},
   "outputs": [],
   "source": [
    "prices_strings = [str(x) for x in data.Price_total]"
   ]
  },
  {
   "cell_type": "code",
   "execution_count": 48,
   "metadata": {
    "collapsed": true
   },
   "outputs": [
    {
     "name": "stdout",
     "output_type": "stream",
     "text": [
      "['12000', '9500', '13900', '15000', '19500', '17000', '12500', '8500', '13000', '34900', '13000', '15200', '29000', '13490', '14500', '14500', '19500', '13000', '18000', '17000', '17500', '15500', '7500', '12500', '27000', '20000', '15000', 'nan', 'nan', '15500', '20000', '14800', '110000', '39000', '19000', '14700', '18000', '16000', '18900', '11990', '25000', '13500', '14500', '21000', '17000', '35000', '30000', '60497', '43000', '35000', '99500', '49500', '49000', '33000', '24000', '13000', '12000', '15288', '9500', '10600', '14500', '9000', '18800', '11500', '15000', '9950', '16000', '14450', '8450', '8000', '12000', '16500', '14500', 'nan', '12250', '13900', '17500', 'nan', '9450', '9500', '12000', '9400', '9000', '11500', '25000', '14000', '15500', '15000', '14800', '12200', '19000', '14000', '7500', '14500', '14000', '16000', '25500', '13500', '15000', '13250', '14000', '14000', '12500', '15500', '21000', '17500', '22000', '17000', '13500', '20000', '10500', '14000', '13000', '8700', '9950', '11000', '11600', '9500', '14500', '10000', '13000', '17000', '13500', '12500', '14000', '14000', '15000', '23500', '18500', '20800', '17300', '13500', '14900', '13000', '10200', '11500', '16900', '15300', '13000', '17000', '13500', '14300', '23900', '18000', '13800', '15500', 'nan', '11500', '12300', '14200', '10900', '11500', '10800', '19900', '11000', '11000', '18000', '18000', '27000', '13900', '20000', '12200', '19000', '13000', '26100', '11500', '18500', '20500', '21000', '10000', '12000', '15000', '19500', '9999', '16900', '13500', '12500', '12500', '19800', '10000', '20000', '20000', '20000', '13000', '15000', '13000', '18000', '7000', '10000', '7500', '30000', '15000', '19500', '16000', '13500', '9500', '23000', '11000', '14000', '10000', '29000', '15000', '10500', '10000', '15000', '20000', '14000', '7000', '6500', '20000', '15000', '23000', '11000', '17000', '19500', '19000', '14000', '15500', '23500', '12500', '18900', '15500', '39800', '16900', '14500', '13500', '18000', '10000', '14300', '14900', '18000', '13000', '16500', '70000', '18000', '18000', '11500', '15000', '12000', '15500', '13500', '12000', '10000', '28900', '17000', '11800', '11000', '14500', '14000', '20000', '22999', '14500', '10000', '10000', '16000', '18000', '16000', '12500', '14000', '10500', '11000', '11000', '13000', '14000', '13000', '23000', '13000', '21000', '19999', '9900', '10000', '9500', '11900', '17900', '19500', '11000', '19000', '14000', '11000', '20000', '26000', '11000', '17000', '13000', '35000', '14500', '13900', '12900', '17500', '8490', '14500', '14900', '8000', '11990', '14990', '7990', '29990', '29000', '31000', 'nan', '15000', '11990', '16995', '9490', '14990', '18990', '11990', '8990', '16000', '12200', '12700', '15000', '48000', '12000', '14000', '15000', '22900', '7400', '13900', '14900', '9900', 'nan', '17000', '15500', '14000', '15500', '35000', '17500', '18000', '9500', '49000', '14996', '16500', '13900', '18610', '11800', '14800', '13900', '14000', '20000', '17000', '16000', '14000', '28000', '33000', '10500', '10500', '10000', '15000', '35000', '35000', '13990', '13990', '18990', '8990', '11000', '11990', '8990', '15000', '14000', '15000', '65000', '16300', '28000', '10500', '13500', '13000', '19900', '25000', '35000', '15000', '14000', '20000', '13000', '20000', '12000', '10000', '25000', '17000', '11900', '20000', '16000', '9500', '8900', '22000', '16000', '26500', '15000', '22900', '17000', '18500', '5700', '24000', '11000', '9000', '16500', '17000', '18800', '14900', '14000', '11000', '10000', '13500', '15000', '13900', '13500', '13000', '16000', '11000', '24000', '8000', '14000', '22000', '20500', '24000', '22000', '18000', '25000', '25000', '28000', '28000', '23000', '32000', '18000', '23500', '22000', '22000', '15000', '10000', '20000', '10000', '12000', '18000', '13000', '15000', '19000', '20000', '33000', '33000', '25000', '12990', '18000', 'nan', '14000', '29000', '12000', '11000', '12000', '26000', '26000', '14500', 'nan', '25000', '10000', '18000', '31000', '13800', '18500', '23500', '12900', '21900', '18000', '19000', '12500', '18000', '19900', '10000', '12900', '11500', '14900', '12000', '7000', '18000', '31000', '11500', '15000', '22500', '13700', '18990', '21990', '13100', '22490', '21990', '13990', '15490', '27900', '33990', '21490', '14900', '13900', '14100', '19900', '15500', '19900', '21900', '15900', '19900', '17000', '25900', 'nan', 'nan', 'nan', '25000', '13990', '6499', '15000', '12950', '11950', '9990', '13450', '27000', '9000', '23000', '33000', '8500', '9000', '8800', '18500', '20000', '33000', '36000', '19000', '17500', '30000', '18000', '10000', '18500', '20000', '32900', '16000', '13000', '29000', '16000', '20000', '12000', '15000', '24000', '19000', '11000', '9000', '14990', '12000', '14000', '10000', '9800', '15500', '11000', '18000', '14000', '12900', '11000', '14500', '11000', '18000', '13000', 'nan', '11500', '13500', '10000', '18000', '13500', '15000', '18000', '8000', '8500', '14000', '12000', '14900', '12500', '12000', '15400', '8000', '13500', '20000', '14990', '12700', '16000', '12000', '13500', '12400', '13500', '12500', '13000', '13000', '15250', '17000', '17000', '18000', '13000', '21000', '22000', '8000', '15000', '10900', '20000', '11500', '14000', '25000', '18000', '20000', '14000', 'nan', '18000', '12000', '18500', '13900', '15000', 'nan', '10900', '15000', '17500', '19000', '15000', '15000', '19500', '11500', 'nan', '17000', '13000', '9000', 'nan', '40000', '14000', '18000', '22000', '15000', '12000', '24000', '16900', '10500', '25700', '14000', '32000', '17000', '24000', '16200', '14000', '12000', '15500', '18000', '13000', '20000', '14000', '18000', '15900', 'nan', '11000', '5500', '13500', '11500', '15999', '26500', '10500', '15500', '12000', '15000', '16000', '15500', '33000', '44900', '17205', '23058', '11000', '12000', '15000', '10000', '8500', '16500', '14000', 'nan', '23000', '9900', '18000', '9000', '16000', '12000', '39000', '39500', '12500', '13000', '15000', '12000', '30900', '14000', '24000', '16000', '14500', '20000', '14000', '18000', '11500', '22999', '29000', '14000', '18000', '16000', '33000', '15000', '17000', '19000', '15000', '13500', '10000', '18000', '17900', '9000', '12500', '16900', '11700', '10500', '16000', '23500', '23000', '15000', '18000', '11000', '16500', '7900', '16000', '11400', '11990', '20000', '17500', '29900', '43000', '18900', '23000', '16500', '19000', '14000', '13900', '13900', '80000', '15400', '9900', '19950', '12000', '16000', '9990', '12000', '11900', '14900', '11500', '16000', '16000', '14500', '14000', '22900', 'nan', '21000', '15500', '20000', '28000', '28000', '15000', '20000', '15000', '14500', '15000', '13900', '14000', '25000', '7900', '6000', '11000', '6000', '13700', '16500', '23000', '15500', '12000', '11000', '16000', '6500', '18900', '12990', '11900', '24000', '11500', '35000', '15000', '9900', '32000', '15000', '13500', '16500', '20000', '14000', '11900', '17500', '45000', '52000', '47000', '16000', '49900', '38000', '52000', '42000', '17500', '39000', '42000', '43000', '25400', '52000', '49900', '44000', '19000', '25000', 'nan', '62000', 'nan', '28000', '27000', '26000', '23000', '14100', '13800', '16200', '30000', '14000', '27000', '15000', '100000', '90000', '18000', '43000', '14000', '10000', '18000', '19900', '54500', '25000', '36000', '43000', '175000', '39000', '42000', '53000', '25200', '15000', '15000', '35200', '18500', '11500', '61000', '20000', '19900', '24000', '18000', '25000', '65000', '30000', 'nan', '69217', '19000', '56900', '24000', '88500', '58900', '86550', '84000', '33000', '22900', '33800', '64800', '34800', '59800', '17900', '39000', '18500', '16800', '20000', '13000', 'nan', '19600', '13900', '40000', '15000', '10000', '39000', '28000', '35000', '35000', '24500', '55000', '12000', '70000', '24000', '24000', '26000', '17000', '19000', '22500', '40000', '18000', '34000', '25000', '14000', '39000', 'nan', '13900', '16000', '33800', '11900', '9900', '17000', '12500', '14000', '64800', '13000', '13000', '8990', '26000', '53000', '18000', '9990', '12500', '14500', '17000', '25000', '8000', '11000', '10500', '11500', '15000', '14000', '23000', '22000', '26000', '12000', '11900', '10500', '33000', '28000', '17900', '33000', '13000', '15500', '21000', '30000', '15870', '28000', '35000', '20000', '21980', '13500', '17500', '14000', '17000', '14500', '20000', '25000', '12900', '14000', '15000', '45000', 'nan', '15000', '21000', '25000', 'nan', '13500', '4200', '11000', '16000', '19000', '13990', '10000', '12000', '24000', '20000', '42000', '24000', '48000', '25000', '32000', '21000', '38000', '55000', '32000', '13500', '10900', '20800', '27000', '12', '53000', '48000', '26000', '15900', '32000', '35000', '14900', '20000', '55000', '21000', '22000', '36000', '40000', '39000', '6900', '64900', '32000', '32000', '21000', '38000', '50000', '79000', '22000', '24000', '13500', '15900', '14000', '14900', '13900', '25000', '18000', '21000', '16000', '15000', '11000', '19000', '16500', '15500', '20000', '17000', '12500', '18000', '25000', '19000', '13000', '15500', '65000', '24900', 'nan', '35000', 'nan', 'nan', '35000', '30000', '29000', '27000', '35000', '15000', '9400', '13000', '21500', '15500', '15000', '19000', '50000', '17000', '16500', '5000', '16000', '14500', '17000', '49000', '13000', '11000', '9000', '8000', '11000', '9500', '17990', '14990', '15500', '11490', '11500', '23600', '24000', '42400', '27700', '21600', '45000', '37550', '13000', '29000', '9000', '24990', '36990', '15900', '18000', '25900', '12000', '15200', '24000', '12900', '16000', '26490', '13914', '9000', '12500', '16000', '12400', '14500', '8900', '20000', '4800', '14500', '18900', '14800', '18000', 'nan', '18500', '17700', '22000', '10000', '14400', '13000', '15300', '27000', '13500', '31000', '14900', '19000', '22000', '14500', '15500', '10000', '15000', '13000', '21000', '11000', '10000', '12500', '18000', '20000', '14000', '23000', '28000', '16000', '22900', '19600', '18000', '29600', '22600', '17600', '18600', '18000', '26000', '29400', '75000', '18000', '59000', '35000', '25000', '27900', '64800', '27600', '46500', '49000', '18600', '18000', '28500', '36500', '19000', '15000', '25000', '11500', '10000', '11500', '16800', '16000', '9500', '19000', '9500', '33000', '11000', '16000', '14600', '19000', '17300', '8500', '13000', '19000', '13500', '13500', '20000', '16500', '11500', '16000', '19000', '28000', '15000', '10000', '10000', '18000', '11900', '14000', '25000', '13000', '18000', '12000', '14000', '30000', '17000', '22000', '5900', '17000', '8990', '9700', '16500', '39000', '23000', '13000', '14000', '10500', '12500', '22000', '18000', '19000', '21500', '42000', '10900', '12000', '11000', '16000', '10585', '16500', '11500', '16980', '15000', '10850', '15000', '18900', '22000', '12800', '10500', '13000', '13000', '14000', '20000', '20000', '15000', '17000', '19900', '13990', '13500', '32000', '14900', '13500', '25000', '29900', '15000', '17000', '18000', '9000', '35000', '20000', '13600', '18000', '15000', '15900', '24900', '20000', '16000', '15000', '32000', '32000', 'nan', '37000', '14900', '64900', '32900', '18000', '22000', '22000', '15500', '14900', '25000', '13000', '12000', '15000', '12000', '16000', '10000', '15990', '20900', 'nan', '30000', '21000', '13000', '31000', '29000', '15000', '19000', '14000', '19900', '11000', '14000', '11500', '15000', '19000', '10500', '12000', '13900', '14500', '13900', '11900', '15000', '15000', 'nan', '49000', '38000', '18000', '35000', '65000', '32000', '40000', '85000', '43000', '25000', '39000', '60000', '35000', '30000', '40000', '60000', '20000', '30000', '18000', '11200', '11800', '13900', '11000', '17500', '14000', '10000', '16000', '13000', '13500', '21000', '15000', '32000', '11900', '15500', '18000', '9500', '14500', '9500', '19000', '21000', '23000', '14000', '10500', '19900', '10500', '17000', '10500', 'nan', '19900', '19900', '19500', '11000', '15000', '23500', '8000', '22000', 'nan', '22000', '14500', '15000', '14000', '26000', '16000', '25000', '44800', '45000', '35000', '18000', '24400', '20000', '18800', '13000', '15000', '15900', '10000', '12000', '24000', '15500', '10400', '27000', '9500', '15000', 'nan', '24000', '13000', '12500', '15000', '13000', '13500', '12000', '13900', '35000', '9900', '13500', '15000', '12000', '16000', '20000', '19000', '14500', '12000', '16000', '14500', '22000', '17900', '12000', '15000', '13000', '17500', '15000', '10500', '15800', '12000', '12000', '22000', '27500', '13000', '25000', 'nan', '10000', '12000', '12000', '10500', '12500', '11000', '15000', '10500', '28000', '10900', '12000', '22000', '18500', '13000', '15000', '12000', '12000', '10990', '33000', '14990', '15000', '13500', '11000', '16000', '15500', '13000', '12500', '11000', '23000', 'nan', '12000', '7500', '9800', 'nan', '12000', '22000', '14000', '10500', '16500', '25000', '11000', '10900', '19500', '20000', '10000', '13000', '25000', '13500', '9000', '21900', '14000', '16000', '14000', '38000', '14000', '10000', '9000', '12000', '11000', '24600', '16490', '8000', '12500', '14000', '18000', '14500', '11500', '13900', '13000', '8000', '12500', '18000', '12000', '11000', '10000', '11000', '22000', '12500', '14500', '20500', '25000', '12500', '12500', '8900', '18000', '19500', '12000', '16000', '18500', '15000', '16000', '13000', '13500', '15500', '23000', '45000', '36000', '16000', '22000', '9000', '11000', '16000', '9900', '17000', '14900', '16000', '19000', '10000', '15000', '11000', '12500', '9000', '14500', '16500', '18000', '24000', '24000', '21000', '14000', '19000', '16000', '14000', 'nan', '23000', '17500', '11900', '8000', '13000', '11000', '8500', '10000', '17500', '13000', '13500', '12500', '25000', '30000', '16000', '9900', '14500', 'nan', 'nan', '9000', '12500', '17000', '13990', '23000', '10000', '14900', '12000', '14000', '15500', '22000', '32000', '8500', '16000', 'nan', '10500', '12000', '10900', '8000', '12000', '13000', '12000', '12000', '11000', '13000', '20000', '18000', '14000', '11000', '23000', '9000', '12500', '11500', '11000', 'nan', 'nan', '14900', '29000', '13000', '15500', '16500', '32000', '18000', '15000', '11490', '20900', '17900', '20000', 'nan', '32000', '9500', '12800', '15000', '15000', '14000', '13500', '13000', '16000', '16000', '10000', '12000', '20000', '20500', '20000', '39000', '12000', '13500', '21500', '15000', '18000', '12000', '19500', '14500', '14500', '18000', '18500', '14500', '18500', '32000', '34900', '16000', '21000', '25000', '29000', '30000', '15500', '20000', '25000', '16000', '15000', '39000', '13000', '18000', '14920', '10000', '13000', '34000', '17000', '9500', '11000', '13200', '13500', '23000', '16000', '14900', '12800', '12900', '12500', '17000', '15000', '12000', '12500', '20000', 'nan', '14000', '11000', '15990', 'nan', '14990', '13500', '12990', '11990', '10990', '17990', '12990', 'nan', '11490', '10990', '10990', '12990', '14990', '11490', '19990', '22000', '27900', '14000', '15000', '13500', '10500', '13000', '17000', '16500', '14500', '23000', '39000', '23980', '26000', '65000', '14000', '19000', '15000', '15990', '13000', '15000', '11000', '42000', '54800', '24000', '16000', '24000', '21000', '15900', '12900', '14000', '14000', '12700', '54800', '24000', '16000', '24000', '21000', '15900', '12900', '14000', '14000', '12700', '15000', '10000', '16500', '11500', '16500', '35000', '10500', '12000', '22000', '12000', '22000', '14000', '6900', '15000', '44000', '17000', '22900', '32900', '17000', '13700', '10500', '12000', '13500', '9500', '21990', '14000', '10000', '20000', '12600', '20000', '9500', '8500', '16000', '43840', '35000', '48000', '21000', '22000', '25000', '39000', '24900', 'nan', 'nan', '27040', '55840', '40000', '71840', '47840', '47840', '27840', '32900', '64900', '18000', '25900', '14900', '15900', '37000', 'nan', '16500', '18000', '16500', '11000', '18000', '16000', '17000', '16000', '17800', '19000', '20000', '13500', '18900', '18500', '12500', '14000', '25000', '14000', '13000', '12000', '13000', '25000', '15000', '8000', '13900', '36000', '11750', '10000', '14500', '14500', '15000', '13500', '29000', '12000', '13500', '19000', '10000', '19000', '14000', '20000', '29500', '29500', '22000', '19000', '28000', '22000', '27000', '18900', 'nan', '32000', '62000', '180000', '25500', '30000', '18000', '40000', '21000', '12800', '21000', '31000', '15500', '45000', '41600', '36000', '34500', '20700', '26000', '19000', '17000', '39000', '19000', '17300', '15000', '15000', '12300', '16000', '16900', '20000', '25000', '50000', '31000', '31000', '32000', '14300', '52000', 'nan', '34000', '32000', '27000', '16900', '12800', '9000', '26900', '11000', '14000', '12000', '36000', '16000', '28000', '9000', '21000', '65000', '12900', '13000', '14000', '16500', '9000', '13000', '15000', 'nan', '11000', '55000', '19000', '8000', '20000', '15900', '14000', '18000', '17000', 'nan', '26000', '12000', '12500', '21000', '19000', '67000', '20000', '12000', '15000', '13500', '25000', 'nan', '12000', '28000', '18000', '11000', '10000', '15000', '13000', '29000', '23000', '9000', '10500', '8000', '15000', '14500', '16000', '34500', '15900', '10500', 'nan', '15000', '10990', '8500', '8499', '15000', '15000', '20000', '18000', '18000', '9000', '17000', '15000', '11500', '12000', '14900', '9000', '11900', '18000', '20000', '12500', '12900', '17000', '9900', '18000', '8500', '8100', '23000', '11000', '18000', '29966', '16500', '9900', '16000', '17000', '19990', '17990', '21400', '15000', '15000', '26500', '25900', '15000', '10000', '19799', '13700', '16000', '18000', '25500', '19500', '14000', '16500', '13700', '13000', '20000', '28000', '37000', '18000', '11900', '18000', '8000', '17000', '11500', '10990', '16900', '14000', '12990', '15500', '13000', '15000', '25000', '15000', '13500', '30000', 'nan', '14900', '12000', '14200', 'nan', '12000', '40000', '50000', '14000', '19000', '12500', '19000', '14000', '14000', '10000', '11000', '4900', '11990', '12990', '20000', 'nan', 'nan', '11500', '13500', '14500', '12500', '15000', '5500', '13900', '14800', '23000', '35000', '16500', '32000', '15000', '10000', '9800', '19900', '15990', '20000', '13500', '10500', '17000', '14000', '10500', '19000', '9500', '45000', '32000', '32000', '12000', '16500', '11990', '14500', '15000', '32000', '9500', '16000', '8600', '12000', '19000', '8000', '11500', '17000', '17000', '13000', '14000', '86100', '35000', '56700', 'nan', '117700', '33800', '48000', '69300', '37000', '25000', '52800', '37800', '52800', '25500', '79200', '30000', '74800', '30800', '42200', '37000', '39600', '70400', '39600', '37000', '44000', '44000', '40500', '51000', '35200', '52800', '29900', '8000', '13100', '8000', '15990', '8500', '33900', '9900', '8800', '25000', '8800', '26500', '20000', '13000', '15000', '15000', '11500', '13000', '12500', '19500', '18000', '10000', '15000', '13000', '12000', '17000', '7000', '15000', '9000', '11000', '11000', '14500', '12000', '17000', '28900', '17500', '18000', '11500', '11000', '14000', '18000', '18000', '11500', '14500', '20000', '14000', '35000', '16500', '13500', '19500', '42000', '34000', '15000', '8000', '21900', '10000', '10600', '11000', '15000', '15000', '11000', '9000', '14000', '12000', '15000', '13000', '13800', '14000', '17000', '13000', '15000', '14500', '35000', '18000', '13000', '12500', '35000', '21000', '12500', '13000', '9500', '8000', '15500', '14500', '12000', '18000', '16800', '12900', '17500', '14900', '8999', '10000', '14500', '10500', '10500', '12500', '12000', '17000', '9500', 'nan', '4800', '16000', '11900', '18000', '20000', '30000', '29000', '33000', '14000', '11500', '14000', '18800', '11500', '12000', '9900', '26000', '14500', '16500', '16000', '14000', '22200', '11500', '25000', '20000', '11000', '11000', '17000', '13000', '10900', '18000', '11000', '13000', '10500', '18000', '13500', '13000', '11500', '12900', '16000', '14000', '29000', '10900', '17000', '17000', '13500', '20484', '9500', '9500', '13200', '19000', '79000', '18000', '22000', '10500', '12500', '19800', '14000', 'nan', '9000', '14500', '24900', '24900', '18500', 'nan', '13500', '17500', '19000', '22000', '10000', '16499', 'nan', '19500', '12000', '15000', '17000', '13500', '18000', '22000', '14500', '36000', '35000', '11900', '14000', '35000', '11000', '13000', '9000', '17000', '12500', '24000', '55000', '16000', '22000', '16000', '14000', '18000', '11000', '8000', '14000', '11500', 'nan', '10000', '14500', '13000', '11900', '13000', '14000', '22500', '15000', '18000', '39000', '14500', '13500', '34000', '35000', 'nan', '15500', '25000', '23000', '20000', '11500', '45000', '25900', '36000', '19500', '14900', '25900', '15900', '14500', '29000', '16500', '11600', '12000', '9900', '8430', '28000', '9500', '45000', '14800', '19990', '20000', '49000', '17000', '8000', '8000', '25000', '9500', '18500', '12000', '17000', '23000', '15000', '10990', 'nan', '13500', '13000', '10000', '45000', 'nan', '18000', '13500', '16500', '25000', '8300', '7000', '10000', '18000', '12000', '25000', '35000', '15000', '20000', '30000', '22000', '18500', '23000', '10900', '29000', '10000', '11200', '12500', '25000', '10500', '11800', '21500', '18000', '40000', '8900', '16000', '13000', '14000', '13000', '15000', 'nan', '19950', '23000', '19900', '17000', '11900', '22000', '26900', '22000', '22000', '15000', '21800', '27000', '19000', '13000', '11000', '28000', '8900', '32000', '12500', '10000', '5000', '17500', '20000', '30000', '20900', '13990', '21800', '19000', '15000', '15000', '10000', '30000', '22000', '17000', '14500', '11000', '42500', '17500', '13000', '35000', '35000', '14000', '10000', '14880', '14800', '12000', '22000', '15000', '9500', '15000', '9500', '11500', '15400', '11500', '17000', '15000', '13000', '20000', '15900', '97688', '29000', '10000', '21800', 'nan', '103123', '15000', 'nan', '34800', '33000', '100000', '15000', '15000', '16000', '9500', '15200', '15000', '17799', '11499', '23000', '17000', '14000', '22000', '10000', '9000', '8000', '20000', '59000', '24000', '17000', '139800', '27000', '14500', '14500', '9400', '9000', '9982', '17900', '9000', '15000', '14000', '8000', '14000', '14500', '19000', '17000', '10000', '14000', '13000', '16900', '14500', '26500', '14500', '31000', '24000', '24000', '15000', '30000', '29000', '19000', '14000', '30000', '14444', '6000', '14300', '27000', '99000', '20000', '20000', '21000', '16000', '27000', '22000', '25000', '28000', '31000', '16000', '24500', '40000', '24500', '38000', '27000', '21000', '27000', '9900', '13000', '11500', '18000', '15000', '20000', '18499', '12500', '10500', '8500', '11200', '25000', '16000', '18000', '19800', '14000', '9000', '22500', '18000', '18000', '16000', '10990', '20000', '13500', '20000', '16000', '14950', '14400', '10000', '10000', '30000', 'nan', '35000', '24000', '45000', '30000', '30000', '44700', '46000', '130000', '24000', '20800', '21600', '37550', '27700', '42400', '26200', '18000', '21000', 'nan', '70000', '75000', '19900', '18000', '21000', '19990', '10500', '15000', '20900', '18750', '45000', '19500', '25000', '11800', '9900', '12000', '15000', '17000', '21000', '13600', '13800', '19000', '16000', '19200', '13800', '25000', '14000', '17000', '20000', '12000', '29000', '15000', '8500', '29900', '19900', 'nan', '20000', 'nan', '16000', '15000', '37000', '16000', 'nan', '48000', '25000', '26000', '32000', '26552', '12500', '11900', '25000', '12900', '8900', '17500', '16900', '9500', '14000', '20000', '20500', '24999', '12800', '15000', '29000', '11000', '60000', '37000', '35000', '16900', '13500', '35000', '14990', '9800', '15000', '12000', '15900', '22000', '10600', '19000', '33000', '12000', '80000', '12000', '12000', '45000', '30000', '40965', '9800', '9000', '20000', '10000', '23000', '13990', '8990', '12000', '29000', '9000', '14000', '12000', '12500', '16500', '9900', '12800', '13000', '12000', '15500', '12000', '29000', '15000', '13000', '11500', '9500', '15000', '14000', '11900', '55000', '9000', '17800', '19000', '19500', '10000', '27000', '14900', '20000', '14000', '17000', '15000', '19000', '11000', '17900', '11500', '20000', '13800', '22000', '14180', '37000', '19500', '26400', '19500', '21000', '20000', '44000', '12000', '44000', '10000', '11000', '8000', '11500', '13000', '15000', '20500', '23000', '20500', '19000', '21000', '15000', '10500', '10500', '32000', '12500', '12500', '21000', '12500', '15000', '13000', '8500', '10000', '10500', '13000', '12778', '27700', '12000', '27300', '11000', '6000', '27000', '17000', '29000', '17500', '15500', '12000', '16000', '13000', '12000', '20000', '9000', '12500', '20000', '24990', '23060', '18000', '8000', '8000', '11900', '12700', '13000', '23767', '14900', '13500', '19900', '28000', 'nan', '25000', '49000', '33000', 'nan', '47000', '20000', '14500', '14000', '23000', '20000', '18000', '14000', '25000', '13500', '45000', '37000', '15000', '10000', '11900', '18000', '10900', '12000', '19500', '13500', '7600', '8000', '11000', '10500', '17000', '13990', '21000', '9900', '19000', '13500', 'nan', '11500', '25000', '12500', '12000', '13600', '24000', '14000', '20500', '16900', '11000', '119800', '28000', '12000', '11000', '15000', '10900', '30000', '13000', '19990', '12500', '14500', '12500', '24000', '16000', '11500', '42980', '18000', '11000', '14500', '12900', '11500', '12998', '37000', '38000', '20500', '18500', '12000', '20500', '13500', '19000', '13000', '11000', '16000', '11000', '12500', '18000', '10000', '15500', '12000', '17000', '9000', '13000', '15500', '13900', '10000', '18500', '17000', '14990', '26000', '16000', '16000', '29990', '19500', '15000', '19500', '12500', '16500', 'nan', '14500', '23000', '16000', '64999', '26000', '8000', '24000', '19990', '11000', '12000', '10890', '15000', '14000', '17200', '13000', '17500', '19000', '14200', 'nan', '15000', '16000', '15000', '13000', '9900', '16000', '12000', '9200', '12000', '13000', '13000', '11300', '13800', '12000', '18000', '25000', '16000', '15000', '14000', '25000', '16300', '9800', '13500', '12000', '11000', '20000', '18500', '11000', '11000', '50000', '30000', '20000', '12500', '8499', '9499', '11500', '14500', '14700', '9000', '17500', '15000', '24500', '18500', '24500', '17000', '25000', '13000', '12900', '10900', '14000', '30000', '20000', '15000', '8800', '9500', '13800', '13900', '12900', '13500', '13900', '5500', '12000', '18000', '26000', '14500', '15900', '18000', '11500', '13000', '16000', '13000', '24000', '15400', '18000', '13000', '13000', '28000', '11500', '18000', '20000', '15000', '20000', '11000', '14200', '8000', '28000', '14000', '12000', '11000', '15000', '13000', '20000', '21000', '14000', '35000', '22000', '14000', '35000', '16000', '10000', '25000', '29500', '33000', '18000', '24000', '18500', '31000', '30000', '19900', '30000', '23000', '10800', '13800', '14500', '15900', '14700', '9500', '18800', '16000', '12000', '8900', '17000', '12000', '9500', '15900', '13900', '22000', '23000', '20000', '20000', '15000', '12000', '12000', '25000', '8500', '20500', '15000', '26500', '20000', '16000', '14000', '15900', '11500', '14900', '14500', '12000', '10500', '15000', '14500', '35000', '40000', '95000', '17207', '21000', '29000', '16000', '12500', '22000', '22000', '21000', '12000', '20000', '15000', '14450', '18000', '9950', '19500', '19000', '10500', '9000', '14000', '17000', '10000', '37000', '10000', '49500', '43500', '48000', '100000', '38000', '15000', '13700', 'nan', '24000', '14000', '25000', '30000', '29000', '15500', '15000', '45000', '37000', '29000', '29000', '25000', '27000', '39000', '18000', '15000', '42000', '39000', '35000', '35000', '17000', '12900', '15000', '64900', '41000', '28000', '17000', '14400', '40000', '34000', '25500', '39000', '39000', '49000', '23000', '30000', '15000', '11500', '11000', '11400', '11000', '13000', '17500', '16500', '10900', '13500', '11500', '11000', '32000', '13000', '16000', '12500', '18400', '13000', '35000', '11000', '12800', '13000', '12000', '36000', '35000', '11000', '26999', '11300', '25000', '14000', '24000', '16000', '16500', '6950', '10500', '18500', '23000', '20900', '20900', '20000', '32000', '18000', '11500', '9300', '15100', '9900', '18000', '18000', '15000', '38000', '23000', '9000', 'nan', '12500', '9500', '12000', '25000', '20000', '22000', '26000', '18000', '29000', '25000', '22500', '8190', '17000', '12000', '18000', '15300', '11000', '28000', '29000', '19500', '17000', '14200', '20500', '14500', '17000', '14000', '16000', '11000', '14000', '23990', '10000', '13900', '14500', '13000', '16900', '15000', '27000', '27000', '21000', '21000', '13000', '14500', '20000', '16000', '15000', '12000', '35000', '11500', '26000', '13000', '13000', '24000', '38000', '18000', '9500', '22000', '49000', '12000', '11000', '20000', '14000', '22000', '47684', '13000', '20000', '10000', '14000', '14000', '11000', '50000', '18000', '35000', '18000', '20000', '35000', '14000', '13000', '9900', '14700', '16000', '12500', '7000', '14000', '48000', '9500', '40000', '12000', '9400', '14000', '11000', '15000', '8899', '15000', '20000', '26999', '12500', '9000', '14999', '17500', '14000', '13000', '17500', '20000', '30000', '10000', '17000', '22000', '40000', '13500', '11500', '10000', '15500', '50000', '14000', '13000', '8000', '15000', '14000', '9900', '18000', '18000', '20000', '20000', '16000', '20000', '12000', '16000', '18500', '12000', '15900', '28000', '12000', '35000', '14000', '12000', '14000', '17000', '15000', '20500', '15000', '13000', '30000', '15000', '27700', '10000', '11000', '29990', '22000', '24000', '24000', '21000', '24000', '38000', '25000', '14000', '19500', '18000', '24000', '21000', '36000', '36000', '30000', '21000', '36000', '18000', '9990', '18000', '15000', '26990', '9000', '11500', '13000', '7000', '46240', '15000', '25000', '13800', '12999', '75840', '70240', '14500', '17000', '35000', '13500', '18500', '14500', '6500', '15000', '24000', '6500', '11500', '18000', '15000', '13000', '10000', '16990', '19990', '12900', 'nan', '10000', '26000', '30000', '14000', '12600', '15000', '22900', '15000', '18000', '36000', '14900', '20000', '18800', '15000', '18900', '14000', '17500', '17900', '18000', '33800', '70488', '24900', '15000', '25900', '25500', '63742', '16900', '22000', '14000', '13500', '10900', '17000', '23500', '70000', '12000', '18000', '15400', '9500', '17500', '12500', 'nan', '23499', '17500', '17000', '41100', '16500', '16500', '8000', '16990', '15000', '20000', '20900', '13800', '14499', '9999', '12000', '8999', '9999', '15499', '12000', '16000', '17000', '10000', '12000', '40000', '34000', '24000', '30800', '16900', '10900', '13000', '13000', '25000', '12000', '12000', '10500', '19000', '32000', '39000', '18000', '18900', '14000', '20000', 'nan', '15000', '22000', '14500', '10500', '17000', '15000', '21000', '16000', '49000', '17500', '21000', '18000', '12000', '23000', '13500', '17500', '20000', '16000', '8000', '10000', '13000', '13800', '15000', '19000', '13500', '16000', '28000', '12000', '15000', '10000', '17900', '27000', '9000', '8800', 'nan', '12000', '18000', '29000', '35000', '15000', '20500', '13000', '14000', '24000', '29000', '20000', '15000', '24000', '27000', '34000', '25000', '34000', '39000', '22000', '25000', '22000', '60000', '33000', '22000', '16000', '8500', '35000', '11000', '12000', '13000', '7000', '6900', '9500', '14000', '13000', '19000', '11500', '12500', '12500', '16000', '25000', '20000', '15900', '27000', '15000', '13000', '10857', '15900', '12500', '16900', '13500', '12500', 'nan', '14990', 'nan', '10500', '18000', '11000', '16000', '21000', '17500', '19000', '40000', '45000', '19900', '22000', '19999', '20000', '15000', '15500', '18000', '17000', '14000', '10999', '9500', '25500', '12500', '15500', '36400', '30000', '14000', '23900', '16500', '15000', '13900', '19000', '19000', '16500', '52000', '15000', '79000', '15000', '9500', '18000', '16000', 'nan', '22000', '12000', '12000', '31000', '17000', '25900', '14900', '15900', '17000', '14000', '20000', '13800', '9300', '16000', '11000', '12000', '10000', '15900', '26000', '10500', 'nan', '10900', '18000', '10490', '18900', '15000', '14900', '15900', '12900', '8900', '10500', '29700', '23500', '42900', '14000', '11000', '49000', '24000', '26000', '14900', '26470', '14000', '10500', '12000', '10000', '14000', '25000', '14500', 'nan', '15500', '17000', '20000', '15000', '15000', '45000', '15900', '19900', '14000', '17000', '18300', '11500', '15000', '10000', '17000', '14000', '15900', '11400', '55000', '13900', 'nan', '35000', '32000', '5000', '39000', '14500', '70000', '35000', '20000', '25000', '28000', '25000', '36000', '13000', '36000', '35000', '33000', '25000', '23000', '23000', '25000', '23000', '9900', '20000', '15000', '25000', '10500', '19500', '23000', '20000', '38000', '9500', '13500', '26000', '15000', '15000', '39000', '14000', '12900', 'nan', '16000', '22000', '12500', '69000', '14400', '19500', '22000', '33000', '18000', '16000', '64900', '14900', '12000', '15000', '20000', '25900', '14500', '14999', '8500', '28000', '25000', '41000', '21499', '9900', 'nan', '18500', '14100', '14990', '16000', '7700', '12000', '25000', '14900', '14500', '11000', '23799', '15000', '10500', '27500', '16000', '25500', '23500', '19000', '20500', 'nan', '19000', '33000', '15000', '15000', '20000', '15000', '99136', '65053', '15000', '25000', '13000', '75922', '8990', '23000', '20000', '14500', '16500', '13500', '30000', '20000', '20000', '50000', '17500', '13000', '15000', '15000', '17900', '19000', '18000', '11000', '23000', '12500', 'nan', '15000', '30000', '16900', '18900', '12000', '13000', '13500', '25900', '14900', '32000', '18000', '18000', '18000', '29000', '52000', '12000', '40000', '23500', '35000', '20000', '16000', '21000', '15000', 'nan', '14500', '19000', '18000', '70515', '10000', '14990', '59618', '8500', '28000', '22800', '8900', '15000', '14000', '18500', '12000', '16000', '12000', '10000', '17000', '8500', '8500', '20000', '17000', '11500', '13000', '15000', '15500', '18000', '14500', '18500', '14900', '6500', '18000', '15000', '17000', '10000', '14900', '13000', '16000', '25000', '16000', '25000', '19990', 'nan', '9000', '16000', '18000', '18000', '22000', '38800', '14500', '39000', '48000', '76000', '95000', '24000', '15000', '17000', '15000', '20000', '18000', '6500', '22000', '20000', '16000', '19500', '32000', '28000', '160000', '30000', '11500', '18999', '13000', '14000', '20000', '20000', '13500', '32000', '18000', '18900', '24000', '50000', '40000', '25000', '23000', 'nan', '26000', '15000', '33000', '20000', '9500', '35000', '12000', '13000', '19000', '13000', '16000', '12000', '12200', '14500', '15000', '7500', '53000', '17000', '10000', '16000', '10500', '12500', '12500', '14000', '11500', '12000', '9000', '15000', '19000', 'nan', '13500', '17500', '15900', '8700', '17500', '15000', '17500', '37000', '28500', '11999', '20000', '17000', '20000', '17900', '34900', '9500', '12500', '18990', '16000', '33000', '12000', '14200', '15900', '16000', '28000', '14900', '15500', '38000', '14000', '15000', '11000', '11000', '9000', '28000', '35000', '14000', '23900', '14900', '15900', '13800', '25900', '18000', '18000', '16000', '21000', '15000', '19900', '50000', '18000', '54000', '55000', '25000', '126992', '30000', '31500', '14000', '30000', '15600', '19000', '12000', '16000', '12000', '19000', '25000', '17000', '23000', '21000', '9500', '15000', '29000', '14500', '13000', '10000', '20000', '20000', '20000', '20000', '20000', '20000', '75000', '9500', '15000', '22500', '95531', '40000', '24000', '12700', '12000', '14000', '16990', '19900', '14000', '25000', '26000', '23000', '17500', '35000', '13500', '14000', '23300', '8500', '17000', '25000', '25000', '16000', '18300', '12500', '18800', '26900', '24000', '23000', '10000', '12500', '8900', '22500', '16000', '15000', '16999', '15000', '17000', '25000', '18000', '25900', '12500', '19000', '8990', '15000', '13000', '29000', '27900', '14990', '20000', '12000', '15000', '12000', '14990', '7900', '33000', '32500', '36000', '11000', '14000', '11000', '12000', '11500', '10000', '7900', '13500', '14000', '14500', 'nan', '17900', '14000', '12000', 'nan', '17000', '17000', '27000', '17500', 'nan', '7650', '6800', '20000', '11400', '26000', '30000', '20000', '24000', '41000', '16500', '10500', '48000', '14500', '19000', 'nan', '12500', '24000', '25000', '17000', '12500', '7500', '68000', '15000', '49000', '18000', '15000', '16000', '12000', '11000', '12500', '26000', '20000', '13000', '15000', '18000', '24000', '38999', '16000', 'nan', '18000', '14500', '19000', '14500', '15000', '15000', '12000', '30000', '35000', '8990', '17500', 'nan', '15900', '22000', '15000', '35000', '39000', '8990', '25000', '8990', '12500', '25000', '13500', '18000', '16000', '33000', '20000', '29000', '24000', '25000', '17000', '14500', '12500', '15000', '14400', '26900', '25000', 'nan', '13900', '16500', '26000', '11500', '29990', '20000', '35000', '29000', '11900', '18500', '17900', '18000', '13000', '20500', 'nan', '10000', '11000', '8990', '17500', '36000', '42200', '19990', '15000', '8000', '12000', '26400', '10000', '14500', '39600', '12500', '12500', '39600', 'nan', '16000', '15000', '31700', '65000', '45000', '180000', '23500', '33800', '22000', '60000', 'nan', '38000', '40000', '55000', '32000', '100000', '45000', '17100', '17000', '10000', '42000', 'nan', '64900', '15300', '23000', '16500', '11000', '20000', '14000', '18000', '12000', '13000', '20000', '14000', '25000', '20000', '13000', '13000', '17000', '11000', '10500', '13500', '14500', '27000', '12000', '10000', '15500', '18200', '9750', '14000', '26000', '10900', '38000', '13000', '120000', '22000', '25000', '14600', '10700', '9000', 'nan', '14500', '11000', '13000', '12500', '25000', '22000', '16000', '14900', '23000', '16000', '10900', '49000', '14000', '16000', '38000', '28000', '20000', '29000', '10500', '17000', '12990', '21000', '19000', '22000', '9000', '18500', '9000', '27000', '52000', '11500', '25000', '16500', '31000', '15000', '11000', '9000', 'nan', 'nan', '11960', '25000', '35000', '25000', '20000', '13000', '22500', '22000', '17000', '14000', '13500', '58000', '11000', '22000', '17000', '16000', '11500', '15000', '30000', '22000', '8990', '26000', '5000', '23500', '9000', '39000', '62868', '16900', '13000', '26000', '27000', '25000', '25000', '45000', '19000', '10000', '12000', '23000', '14724', '11000', '49000', '20000', '26900', '20000', '9500', '18000', '14000', '18000', '18000', '15000', '15000', '45000', '22000', 'nan', '8500', '26000', '22000', '12000', '28000', '22000', '22000', 'nan', '18500', '18000', '26500', '18000', '19000', '9500', '10000', '12400', '15000', '15000', '14500', '22000', '65000', '20000', '18000', '16999', '13999', '18000', '12000', '16000', '16000', '30000', '16000', '22000', '14000', '15000', '11500', '12000', '14500', 'nan', '8000', '23000', '17900', '4000', '28000', '22000', '29000', '35000', '15000', '13000', '26000', '17480', '14000', '45000', '38000', '30000', '25000', '25000', '16000', '15000', '21500', '49000', '40000', '23000', '15000', '19000', '15000', '16500', '15000', '13500', '16530', '24900', '13800', '25000', '22000', '45800', '20000', '15500', '16000', '15000', '11000', '11999', '16000', '14499', '13000', 'nan', '15500', '13000', '19900', '14000', '25000', '19000', '12000', '49000', '11000', '7800', '15500', '20000', '35200', '17400', '17400', '10000', '10900', '10500', 'nan', '11800', '25000', '10000', '23000', '10900', '13500', '9900', '15000', '24000', '12000', '40000', '10500', '19500', '15000', '12500', '12000', '12500', '12000', '15000', '16000', '14000', '16000', '14000', '17900', '12990', '13490', '13000', '12000', '13990', '14000', '10990', '27000', '19855', '11000', '12480', '12000', '17000', '13000', '13000', '14000', '13000', '11000', '13000', '17000', '17000', '9500', '17000', '17000', '13000', '13000', '12000', '13000', '21000', '11500', '14500', '24500', '15400', '8100', 'nan', '19000', '25000', '15750', '20000', '14000', 'nan', '6000', '20000', '90000', '14000', '17000', '45000', '41000', '15000', '11500', '18000', '13000', '10500', '15000', '9900', '6900', '18500', '14000', '11900', '11500', '11500', '12500', '11500', '13500', '18000', '6500', '20000', '25000', '25000', '11500', '15000', '14000', '14000', '22000', '23000', '12000', '12300', '13000', '13800', '18500', '11500', '14000', '8990', '13490', '25000', '8000', '21000', '13000', '12000', '12000', '18000', '13000', '12000', '10500', '10000', '20000', '48000', '22000', '8500', '10000', '20000', '12700', '12900', '16900', '12490', '33000', '19900', '15000', '15500', '24000', '50000', '15000', '35000', '23000', '13500', '16000', '17500', 'nan', '17000', '27000', '9900', '15691', '12000', '25000', '17000', '11800', '30000', '18000', '12000', '13000', '16000', '32000', '13000', '12000', '19900', '16000', '18000', '16000', '12500', '13000', '21000', '14500', '14500', '13200', '16000', '16000', '14000', '18000', '9500', '18000', '20000', '19000', '22000', '17000', '17500', '20500', '9900', '30000', '37000', '14000', '16000', '11500', '20000', '14000', '12900', '17000', '74800', '14500', '13500', '12000', '18000', '17500', '30000', '12000', '20500', '22999', '19000', '74800', '9900', '16000', '8000', '18000', '12000', '18000', '32000', '24000', '17000', '24000', '10000', '13500', '15000', '12000', '10400', '20000', '20000', '17000', '25000', '32000', '15000', '14000', 'nan', '17000', '22000', '24000', '33000', '50000', '22000', '23000', '24000', '13500', '33000', '20000', '21000', '38000', '26000', '12000', '13000', '11500', '22000', '49000', '12990', '25000', '26000', '26000', '23000', '30000', '28000', '11000', '13000', '22000', '20000', '15300', '15000', '29700', '16000', '21000', '240000', '70000', '18000', '29000', '19500', '45000', '32000', '45000', '27900', '18000', '59000', '30000', '15000', '48000', '11500', '11000', '18500', '18000', '44000', '10500', '13900', '9000', '26500', '15000', '20500', '14500', '37000', '17000', '54000', '53000', '55000', '18000', '65000', '15000', '69800', '16000', '15000', '12500', '20000', '13500', '13900', '12900', '14500', '20000', '9500', '44000', 'nan', '36000', '20000', '24000', '26000', '40000', '11000', '11500', '13400', '6000', '14900', '14000', '17000', '9500', '17000', '13950', '17000', '16000', '13000', '10000', '7500', '25000', '15000', '13900', '21500', '14000', '10500', '14000', '22000', '12500', '50000', '11000', '11600', '12000', '18800', 'nan', '27000', '27000', '21000', '29000', '18800', '30000', '32000', '60000', '25500', '25000', '5500', 'nan', 'nan', '33000', '19000', '21000', '15000', '32000', '15000', '32000', 'nan', '16500', '75000', '43000', 'nan', 'nan', '24000', '17000', '17000', '22000', '14000', '26500', 'nan', '16900', '26000', '12500', '19000', '21000', '15990', '34900', '10000', '11000', '16500', '9000', '12000', '15900', '11300', '25000', '17500', '16990', '17990', '11000', '10500', '12500', '15990', '24000', '12500', '16000', '38000', '16000', '36000', '13000', '25000', '26000', '19000', '27000', '32000', '25000', '16000', '10000', '15000', '18000', '18000', '33000', '12500', '15900', '26000', '13000', '15500', '32000', '14000', '32000', '15000', '22000', '24000', '14900', '25000', '12500', '10200', '15000', '10000', '17000', '13500', '14000', '35000', '29900', '7000', '28000', '13990', '20000', '38000', '14000', '12500', '12800', '12500', '7000', '9400', '10900', '11000', '12000', '12000', 'nan', '24000', '10000', '45000', '25000', '15900', '7000', '36000', '16500', '12500', '36000', '18000', '17000', '13000', '23000', '7000', '10000', '37000', 'nan', '12000', '9800', '65000', '13900', '10000', '10000', '17000', '9400', '29000', '14430', '25000', '16000', '9800', '14000', '25000', '25000', '13000', '11000', '19000', '13000', '29000', '10600', '14900', '19800', '21000', '38000', '59000', 'nan', '35000', '11500', '45000', '100000', '89000', '26000', '24000', '55000', '38000', '33000', '20000', '27000', '20000', '16000', 'nan', '8000', '13000', '12500', '8000', '30000', '30000', '20000', '18000', '9990', '14500', '17000', '11500', '11500', '15000', '16000', '9500', '49000', '29000', '44000', '9900', '120000', '14999', '10000', '21000', '20500', '14000', '18000', '12000', '23000', '15000', 'nan', '19000', '11000', '18000', '13000', '12500', '11000', '10000', '29800', '30000', '100000', '10000', '25000', '14000', '35000', '25000', '12000', '33400', '34000', '18000', '11900', '15000', '25000', '12500', '16000', '10900', '19900', '25900', '20000', '11000', '15000', '16000', '17700', '29900', '9000', '10000', '26500', '40000', '36000', '24000', '13500', '20000', '22000', '24000', '38000', '16000', '38000', '25000', '34000', '16500', '18000', '14000', '14200', '25900', '13000', '32000', '13800', '28000', '21000', '15000', '13500', '26000', '20000', '15000', '20000', '17000', '13000', '13500', '25000', '52000', '19500', '13000', '24000', '23900', '28000', '14500', '17500', 'nan', '15000', '18000', '15500', '19000', '11000', '14000', '23800', '10500', '24000', '13500', '15000', '16900', '12000', '16000', '20000', '17000', '12500', '29000', '24000', '11500', '10000', '13000', '15000', '14500', '14000', '13500', '12000', '8950', '11950', '23000', '11200', '15300', '21500', '20500', '15000', '19000', '10000', '35000', '45800', '27990', '16000', '16990', '17000', '17900', '10900', '13000', '15000', '8900', '20000', '17990', '14900', '13990', '37000', '14990', '28990', '33000', '39600', '35200', '48400', '8900', '22990', '13500', '33400', '8900', '14900', '17900', '15000', '30000', '28000', '11000', '15000', '14800', '13000', '14000', '10000', '18900', '16000', '25000', '37000', '15000', '37000', '25000', '16300', '12000', '13900', '12000', '7900', '12500', '9500', '42000', '16000', '19000', '11500', '45000', '16000', '12490', '14000', '16000', '7500', '15900', '10000', '32000', '54000', '48000', '53000', '55000', '48000', '14500', '35000', '48000', '12000', '12500', 'nan', '34000', '14500', '16000', '13500', '21000', '15000', '36000', '14000', '20000', '25000', '20000', '11000', '19000', '12000', '9000', '19000', '18990', '17000', '14000', '39600', '51000', '52800', '70400', '66000', '29900', '52000', '40500', '79200', '42200', '44000', '35200', '70400', '70400', '13900', '30800', '16500', '16700', '26400', '12000', '11000', '15000', '13500', '14000', '25000', '25000', '21900', '22000', '16500', '26000', '13500', '12000', '14000', '64999', '13000', '12000', '14950', '25000', 'nan', '19500', '16000', '23000', '11200', '11000', '22000', '12000', '10000', '20000', '8800', '70400', '13900', '10200', '48400', '52800', '15000', '18500', '37000', '11000', '39600', '17500', '14000', '22000', '11000', '16500', '37000', '28000', '25000', '44000', '24000', '15000', '16000', '26400', '5000', '14000', '26400', '14000', '28000', '11500', '14000', '22000', '25000', '11000', '21000', '52800', '25000', '18000', '90000', '37000', '70400', '27000', '38000', '12000', '29000', '15000', '20000', '12800', '6900', '45000', '44000', '14000', '15000', '22000', '15500', '38700', '17000', '15000', '10500', '13000', '14900', '100000', 'nan', '17500', '25000', '24000', '18500', '21000', '13900', '16000', '17800', '18000', '17400', '16000', '25000', '13000', '18000', '11000', '13200', '42000', '49000', '22000', '19678', '22791', '45999', '16000', '12499', '31974', '30999', '21799', '24543', '37323', '15999', '15999', '16322', '20482', '24000', '16738', '15000', '16999', '16999', '38000', '15999', '19900', '13990', '10500', '10000', '12000', '74800', '24990', '12000', '13500', '22000', '22000', '18000', '16000', '22000', '12000', '22500', '26000', '32000', '31000', '33900', '24600', '38000', '90000', '44000', '11000', '12500', '18000', 'nan', '18500', '25000', '15000', '29000', '27000', '23000', 'nan', '15000', '20000', '22000', '80000', '24000', '33000', '12000', '13000', '13500', '13000', '12300', '15900', '20000', '17000', '17000', '27900', '15000', '12400', '11900', '16500', '19000', '4900', '12000', '13500', '32000', '14000', '9000', '10000', '25000', '49000', 'nan', '21500', '11000', '13000', '19500', '20000', '13000', '21000', '30000', '15000', '21000', '3900', '18000', '7900', '22000', '28000', '19500', '26000', '38000', '15000', '20000', '19500', '15000', '21000', '21900', '21900', '22000', '49000', '95859', '19000', '12500', '16500', '35000', '42000', '9800', 'nan', '48000', '48000', '19000', '70000', '50000', '12900', '16000', '23000', '12000', '18000', '16000', '16000', '13000', '15000', '32000', '15000', '19000', '11000', '32000', '17000', '33400', '30000', '19000', '45000', '15000', '36000', '32000', '15000', '51000', '32000', '18000', '14900', '14500', '22000', '37000', '25000', '14000', '15000', '22000', '18000', '8999', '15800', '7000', '23000', '13000', '19000', '21900', '19000', '13900', '31000', '70515', '22000', '32000', '17000', '12000', '15000', '9000', '11000', '11000', '126992', '42000', '19000', '12000', 'nan', '21000', '33500', '9950', '12000', '15000', '15000', '30000', '25000', '29000', '19800', '16800', '16800', '20000', '29500', '63000', '28000', '21000', '9900', '38000', '27000', '11000', '14300', '17500', '29000', '8900', '12000', '55000', '35000', '22000', '72000', '50000', '40000', '38000', '22900', '16500', '25000', '24000', '19000', '25000', '15500', '30000', '42000', '27000', '11000', '14000', '17000', '11000', '10800', '26000', '40000', '10500', '7500', '13000', '24000', '11900', '19000', '30000', '17500', '13000', '9000', '19000', '18000', '16900', '14000', '13800', '11000', '19000', 'nan', '11000', 'nan', '16200', '18000', 'nan', '18000', '14000', '23000', '16000', '26000', '32990', '12000', '19000', '28000', '12000', '23000', '18000', '16000', '16000', '30000', '15000', '15000', '17200', '11000', '19000', '12000', '20000', '12000', '50000', '18000', '23990', '14800', '20900', '70000', '35000', 'nan', '36000', '40000', '15000', '26000', 'nan', 'nan', '24000', '16500', '19000', '20000', '16000', '19500', '26000', '24000', 'nan', '9800', '15500', 'nan', '19500', '11364', '15000', '50000', '34000', '17000', '25000', '10500', '58000', '19000', '55000', '10900', '20000', '25000', '38000', '13000', '18000', 'nan', 'nan', '13000', '15000', '23000', '18000', '16000', '22500', '30500', '30000', '56500', '32500', '20000', 'nan', '30000', '44500', '14000', '12000', '15500', '10000', '12000', '63000', '38000', '33000', '12000', '12000', '12000', '16000', '16000', '16000', '40000', '11000', '17900', '22000', '20000', '105000', '17800', '70000', '24000', '16900', '33400', '42200', '11300', '12500', '22000', '19900', '15000', '39600', '17000', '39000', '14000', '6450', '30500', '37000', '35200', '33500', '11500', '19000', '70000', '26000', '27000', '17000', '12300', '17000', '7000', '36999', '16500', '13800', '12000', '12000', '16000', '39600', '16000', '12000', '13000', '37000', '10500', '12000', '16000', '17500', '11500', '16000', '13500', '7500', '11000', '11000', '10000', '14900', '21000', '14000', '15000', '9500', '19000', '11200', '18000', '37000', '18000', '15000', '31000', '33400', '37000', '21000', '44000', '20000', 'nan', '26000', '50000', '40000', '30000', '72600', '84000', '79200', '25000', '45800', '14000', '13000', '25000', '9800', '18000', '35200', '27000', '11000', '17000', '21000', '15000', '15000', '17000', '16000', '26000', '15000', '16000', '12000', '15000', '37000', '13000', '10000', '28000', '12500', '13500', '11500', '18000', '14500', '14990', '17980', '16050', 'nan', '28000', '52000', '20000', '40000', '60000', 'nan', '35000', '19500', '13300', '20000', '25000', '23000', '19500', '20000', '16000', '21000', '13000', '14000', '14000', '11000', '11900', '29990', '7500', '11500', '45000', '19500', '12500', '25000', '20000', '11900', '11900', '16750', '43000', '12000', '13900', '14000', 'nan', '32000', '35000', '17500', 'nan', '14000', '17500', '18900', '14000', '20500', '16800', '17900', '14000', '16000', '12000', '11900', '27000', '13500', '13000', '12000', '10500', '11900', '15000', '32000', '16000', '30000', '12200', '20000', '13000', '13000', '19380', '89800', '16055', '22000', '19800', '12499', '30000', '17000', '18000', '18000', '35000', '49000', '27000', '22000', '22500', '16000', '19000', '14000', '45000', '65000', '34000', 'nan', '31000', '38000', '32000', '45000', '23000', 'nan', '27000', '40000', '25000', '23000', '15000', '11500', '29000', '6500', '18000', '13000', '49000', '50000', '27000', '22000', '35000', '31000', '23000', '27000', '18000', '25000', '85000', '41500', '45000', '90000', '75000', '29000', 'nan', '75000', '55000', '40000', '40000', '110000', '20000', '40000', '45000', '70000', '17500', '17500', '14000', '23500', '14000', '20000', '18000', '13500', '14500', 'nan', '39000', 'nan', '17000', '28000', '29990', '16000', '17900', '12000', '14050', '27000', '29000', '36000', '46000', '23000', '23000', '14500', '20000', '9500', '19000', '10999', '27000', '7000', '30000', '19000', '15000', '14000', '20000', '27500', '12000', '15000', '7000', '8000', '28000', '12000', '19500', '40000', '23800', '19000', '92800', '23500', '10500', '29500', '15000', '19000', '12000', '84000', '36000', '19500', '14000', '23500', '14000', '20000', '18000', '13500', '14500', 'nan', '39000', 'nan', '17000', '28000', '29990', '16000', '17900', '12000', '14050', '27000', '29000', '36000', '46000', '23000', '23000', '14500', '20000', '9500', '19000', '10999', '27000', '7000', '30000', '19000', '15000', '14000', '20000', '27500', '12000', '15000', '7000', '8000', '28000', '12000', '19500', '40000', '23800', '19000', '92800', '23500', '10500', '29500', '15000', '19000', '12000', '84000', '36000', '19500', '14000', '35000', '22000', '14000', '18400', '15000', '13000', '12000', '15000', '32000', '13000', '130000', '55000', '34000', '29000', '15000', '20000', '13500', '18000', '12500', '12000', '36000', '36000', '16000', '14500', '42000', 'nan', '28000', '19000', '28000', '39000', '40000', '16000', '13000', '13000', '34000', '65000', '45000', '14990', '6000', '25000', '12000', '15000', '39000', '19500', '90000', '65000', '17000', '8000', '16000', '13000', '100000', '25000', '13000', 'nan', '16000', '15000', '20700', '15000', '10500', '20000', '10000', '35000', '25000', '20000', '36000', '29900', '20500', '25000', '20000', '19000', '6500', '87000', '21000', '23000', 'nan', '12400', '89000', '19000', '13500', '19500', '11900', '14400', '23000', '22000', '23000', '20000', '6500', '27000', '12000', '15000', '11000', '11000', '16500', '13850', '80000', '30000', '14000', '16000', '25300', '16000', '9500', '10900', '24400', '4800', '24000', '27000', '20000', '43000', '31500', '11800', '19500', '17000', '17000', '8000', '11400', '12500', '22000', '12990', '18000', '20950', '25000', '13000', '44000', '40500', '34900', '29000', '16000', '35000', '19500', '12800', '14000', '13500', '29999', '4800', '60000', '14500', '119800', '19000', '33000', '8900', '13000', '10500', '9500', '48000', '15000', '15000', '12500', '12000', '12500', 'nan', '11900', '12000', '11500', '16900', '15000', '12900', '14000', '15990', '14000', '28000', '12900', '35000', '17000', '18000', '9100', '12500', '10000', '15800', '10990', '11500', '20000', '18500', '13200', '11500', '7900', '35000', '17499', '21000', '17000', '33000', '10500', '11000', '24000', '15900', '24000', '20000', '11000', '18000', '14500', '32000', '17500', '16500', '31000', '23000', '16000', '22500', '12000', '12000', '35000', '30000', '15000', '23000', '10000', '16500', '10000', '11900', '12900', 'nan', '38000', '14500', '16000', '10500', '24900', '26030', '26030', '76000', '42000', '23000', '35000', '37600', '52800', '32000', '49000', '13200', '35000', '21000', '38000', '127811', '53000', '20000', '37500', '24000', '22000', '24000', '39000', '48000', '38000', '27500', '38000', '20000', '9900', '58000', '26000', '52800', '51000', '27000', '66000', '15000', '13900', '13900', '39600', '13900', '84000', '60000', '37000', '14400', '11100', '23000', '26000', '10100', '23500', '21000', '18000', '12000', '37000', '32000', '32000', '27500', '35000', '19000', '22000', 'nan', '60000', '36000', '28000', '27500', '39000', '21000', '22000', '35000', '15600', '16000', '15000', '13200', '35000', '39000', '26000', '38000', '15000', '14000', '65000', '20000', '48000', '32000', '13000', '50000', '42000', '24000', '21000', '43000', '60000', '130000', '12000', '50000', '26000', '40000', '20000', '21000', '38000', '100000', '42000', '24000', '35000', '67158', '36000', '11000', '21000', '21000', '53000', '55000', '99000', '100000', '21000', '45000', '38000', '48000', '90000', '60000', '21000', '50000', '10100', '55000', '57700', '42000', '52000', '40000', '24600', '150000', '47000', '30000', '55000', '48000', '50000', '19000', '30500', '57000', '65200', '143000', '106000', '48500', '35000', '73000', '27500', '25000', '27000', '105000', '29700', '25000', '15000', '15900', '20000', '17000', '20000', '15000', '25000', '11000', '14500', '13900', '18000', '16000', '17000', '24000', '26000', '60000', '18000', '20000', '22000', '30000', '13000', '17500', '16000', '16000', '15000', '22000', '14500', '18000', '14500', '22000', '37864', '52000', '14900', '17900', '21000', '64900', '11100', '15000', '12100', '46000', '29000', '25900', '32000', '29900', '32000', '25000', '13200', '12000', '14200', '15000', '21000', '9900', '21000', '10700', '21000', '8200', '9500', '16900', '38000', '180000', '25000', '19000', '23000', '9000', '12990', '36000', '22000', '19000', '40000', '5000', '23000', '16000', '22000', '10000', '36000', '29000', '15000', '48000', '15000', '20000', '10500', '18000', '35000', '23000', '35000', '44000', '18000', '13900', '14000', '22000', '15000', '17000', '13000', 'nan', '32000', '32000', '42000', '18000', '13600', '20900', '51900', '19900', '17980', '17500', '8800', '19500', '21000', '14000', '22850', '28000', '27000', '20000', '14000', '16900', '65000', '27000', 'nan', '24000', '24000', '17500', '18700', '16000', '19000', '49000', '17000', '26000', 'nan', '64900', '9000', '11900', '12500', '16000', '35000', '18500', '21000', '24500', '22000', '16500', '15000', '16000', '9900', '16000', '38000', '9600', '12500', '15000', '9000', '15000', 'nan', '32000', '95000', '47000', '42000', '14490', '32000', '48000', '53000', '43000', '39000', '40000', '32000', '38000', '16000', '55000', 'nan', '76000', '11900', '22990', '18990', '17000', '15500', '25000', '16000', '12000', '18500', '22000', '25000', '17500', '45000', '18000', '29900', '39000', '36000', '24000', '29900', '10500', '24000', '11000', '22000', '26900', '14500', '14990', '26900', '25000', '20000', '35000', '23500', '11000', '35000', '38000', 'nan', 'nan', '13000', '7000', '6000', '25000', '17000', '25000', '17000', '30000', '34000', '25000', '15500', '22700', '16500', '22000', '19000', '38000', '18000', '45000', '11500', '12000', '13000', '34000', '36000', '12500', '14000', '39000', 'nan', '15000', '29800', '33000', '11000', '14000', '12000', '12000', '18000', 'nan', '25000', '16000', '30000', '19000', 'nan', '20000', '24000', '13500', '64900', '12000', '16000', '15000', 'nan', '20700', '19900', 'nan', '30000', '18000', '25000', '28000', '12000', '12500', '20000', '19500', '12000', '17000', '16000', '16500', '23000', 'nan', '15000', '16500', '21000', '23000', '10000', '18000', '39000', '20000', '12900', '19000', '45000', '52000', '6000', '5000', '22000', '23900', '45000', '12500', '22000', '16500', '19000', '20000', '30000', '21900', '46000', '16000', '22000', '16500', '14900', '25000', '17000', '20000', '52000', '23214', '15000', '20000', '13000', '11500', '15000', '30000', '16000', '19000', '12000', 'nan', '10000', '24500', '42000', '16000', '11500', '20000', '6500', '16000', '10000', '9900', '59800', '35000', '13000', '14000', '25000', '12000', '20000', '25500', '32000', '25000', '16000', '11000', '17500', '18900', '9900', '17000', '13000', '11000', '20000', '14000', '14000', '100000', '14500', '20000', 'nan', 'nan', '13500', '18000', '15500', '25000', '11000', '16000', 'nan', 'nan', '15000', '13500', '33000', '17800', '28000', '9500', '15000', '20000', '13500', '20000', '39000', '13900', '14000', '9990', '25000', '13500', '22000', '13500', '28000', '49900', '29000', '19000', '25000', '16000', '27000', '21000', '13000', '44000', '49900', '45000', '19000', '16000', '25000', '18500', '24000', '21000', '29000', '24000', '16000', '19900', '21000', '12000', '24000', '50000', '20000', '31000', '13800', '12900', '16200', '13500', '21000', '21000', '13000', '14500', '29000', '85000', '49900', 'nan', '22000', '32000', '7900', '23980', '9000', '24000', 'nan', 'nan', '15500', '44000', '26000', '12500', '19800', '12900', '21500', '15500', 'nan', '24990', '15000', '14000', 'nan', '35000', '35000', '22000', '17000', '40000', '29000', '13500', '24000', '23000', '15000', '48000', '28000', '9500', '65000', '14500', '40000', 'nan', '14500', '40000', '14999', '12000', '49000', '32000', '10000', '11000', '10000', '7000', '10500', '21900', '43000', '12900', '15000', '11900', 'nan', '13000', '22000', '18000', '10000', '36000', '16000', '27000', '21000', '65000', '16000', 'nan', '15500', '20000', '15000', '39000', '12500', '19000', '27000', '13000', '29000', '40000', '35000', '50000', '20000', '44000', '18500', '12200', '21000', '29500', '15000', '13900', '12000', '22000', '17000', '24000', '38000', '14500', '14000', '14000', '14000', '18000', '25000', '55000', '14700', '28000', '35000', '35000', '20000', '35000', '23000', '18000', '27500', '39000', '25000', '25000', '49000', '12000', 'nan', '30000', '40000', '22000', '12500', '40000', '15000', '60000', '75000', '14000', '39000', '13100', '12000', '15000', '34000', '25000', '30000', '11500', '11000', '18990', '21000', '17000', '32000', '25000', '19000', '24500', '17000', '8950', '16500', '65000', '35000', '18000', '18500', 'nan', '32000', '12000', 'nan', '32000', '10000', '9000', '15000', '11000', '13500', '34000', '13500', '27000', '11000', '14000', '27000', 'nan', '25000', '32000', '84000', '18000', '33000', '18000', '12561', '12500', '14000', '57000', '49000', '19300', '14990', '26000', '18900', '26000', '31000', '16000', '18000', '20000', 'nan', '35000', '7000', '21000', 'nan', '18900', '25000', '30000', '17500', '14000', '35000', '11700', '26000', '26000', '19900', '14000', '39000', '20000', '20000', '85000', '16500', '18000', '50000', '15000', '12000', '81930', '22000', '12000', '17000', '76414', '9000', '48000', '97707', '18000', '18000', '40000', '55000', '37087', '27000', '31000', '18000', '27000', '31000', '18000', '27000', '15000', '17000', '29659', '69095', '74393', '62890', '63742', '27000', '27000', '33800', '52026', 'nan', '35000', '49000', '43000', '14500', '25800', '26000', '11000', '18000', '13990', '8500', '9000', '15000', '19500', '17000', '21000', '18900', '12000', '16500', '28000', '42000', '34000', '30000', '37852', '10950', '13500', '13000', '21000', '10450', '13000', '65053', '22000', '12000', '16000', '49000', '24000', '35000', '30000', '25000', '18000', '35000', '12000', '55000', '40000', '15990', '49000', '2500', '29000', '16000', '16000', '15000', '30000', '15000', '15000', '15000', '22000', '17000', '15000', '23000', '18000', '38000', '15000', '30000', '11000', '9990', '11800', '35000', '13000', '20000', '48000', '12999', '30000', '15100', '27000', '37000', '20000', '23000', '30000', '95000', '12500', '12500', '15000', '24000', '17000', '80000', '42000', '30000', '26000', '10500', '21000', '49000', '35000', '27500', '18000', '27000', '18000', '54000', '23000', '35000', 'nan', '14000', '13000', '11500', '13500', '24000', '55000', '17000', '14000', '28000', '32000', '27500', '31000', '27000', '27500', '35000', '39000', '27500', '35000', '35000', '11500', '19900', '55000', '32000', '48000', '55000', '82477', '25000', '28000', '22000', '53000', '20000', '13900', '70000', '32000', '26000', '42000', '23500', '19000', '16000', '35000', '18000', '14000', '48000', '48000', '12000', '55000', '53000', '12500', '15000', '27000', '27000', '23000', '45000', '21500', '30000', '85000', '12000', '9900', '27000', '29000', '29000', '18000', '18500', '30000', '30000', '19900', '16500', '22900', '38000', '30000', '53000', '13000', '55000', '14500', '27000', '39500', '29000', '18000', '33000', '26000', '16800', '27000', 'nan', '17000', '29000', 'nan', '14500', '17000', '16000', '16500', '22000', 'nan', '18000', '22000', '12000', '11000', '6500', '18000', '16500', '18000', '34000', '13000', '39500', '10500', '14000', '55276', '29000', '22000', '30000', '18000', '17500', 'nan', '11000', '80000', '16000', '42000', '29000', '26000', '7500', '11000', '23000', '11500', '52026', '45000', '29000', '23500', '29000', '18000', '27000', '15000', '30000', '17000', '19900', '29413', '21500', '32000', '12000', '49000', '30000', '10500', '33800', '19000', '17999', '49000', '36000', '40000', '12900', '14000', '19500', '25500', '26000', '19000', '26000', '23000', '32000', '14500', '19000', '15000', '35000', '18000', '39000', '12000', '18000', '35000', '39000', '30000', '15000', 'nan', '42500', '49500', '48000', '11000', '24000', 'nan', '25000', '180000', '45000', '17900', '29000', '23000', '11400', '24000', '8000', '76000', '14000', '52000', '24000', '22500', '23000', '46000', '99000', '17500', '36787', '7000', '10000', '21000', '19000', '18000', '39000', '34000', '29000', '29000', '12500', '29500', '13900', '26000', '43000', '23000', '22000', '15000', '12000', '30000', '15000', '12000', '12000', '7000', '23000', '12900', '36000', '69000', '19800', '33000', '13500', '20000', '43000', '32000', '42000', '33000', '45000', '32000', 'nan', '175000', '90000', '16900', '16000', '18000', '29000', '32000', '30000', '45000', '21000', '19000', '21500', '15000', '13400', '11900', '11900', '14900', '15000', '24000', '21000', '21000', '12000', '14000', '15000', '12900', '90000', '180000', '15000', '17500', '17500', '35000', '15000', '25000', '10900', '16500', '52800', '6500', '24000', '17500', '13500', '10000', '40000', '48000', '84000', '30000', '12000', '19000', '60000', '29900', '32500', '120000', '18000', '18000', '30000', '18500', '30000', '22000', '14000', '115000', '65000', '28000', '40000', '40000', '32000', '13000', '21000', '23000', '27000', '40000', '13000', '19800', '30000', '25000', '10500', '26000', '40000', '53000', 'nan', '12600', '25000', '62000', '35000', '101102', '14900', '27500', '70000', '10900', '25000', '22000', '17000', '93592', '35000', '13600', '93500', '25000', '60738', '50278', '12000', '66000', '70400', '39600', '29900', '52800', '51000', '35000', '23000', '29000', '78134', '29000', '33000', '11500', '48000', '36000', '23000', '21000', 'nan', '41000', '102249', 'nan', '39000', '21620', '25000', '22000', '11500', '28900', '19000', '25000', '10500', '18500', '30000', '42000', '17500', '10500', '14000', '65053', '95531', '97716', '62895', '18200', 'nan', '103150', '26500', '44000', '13000', '19000', '6000', '30000', '29000', '55000', '20500', '32000', '52000', 'nan', '24000', 'nan', '22900', 'nan', '75000', '18000', '75000', '23500', '32000', '12500', '18000', '27000', '17000', '22500', '14500', '35000', '15990', '22500', '38000', '36000', '36000', '18500', '62000', '33000', '27000', '12500', '13000', '41000', '25000', '24000', '75950', '10000', '14999', '79000', '28500', '19000', '44000', '21000', '23000', '22000', '25500', '27000', '69500', '30000', '14000', '25000', '30000', '42980', '18000', '16500', 'nan', '29000', '32000', '55000', '55000', '18000', '28000', '19000', '15000', '18000', '13000', '17000', '21000', '19500', '65000', '32000', '36000', '38000', '34000', '42000', '16000', '17000', '22900', '16500', '32500', '21000', '23500', '25400', '36000', '65000', '39000', '90000', '35000', 'nan', '180000', '21000', '25000', '17000', '16000', '11000', '22000', '21000', '18000', '30000', '20000', '32000', '30000', '26000', '38000', '20000', '50000', '16000', '42980', '48000', '39000', '29000', '90000', '11500', '19000', '19500', '27000', '10500', '42980', '23000', '20000', '29000', '45000', '30000', '40000', '95585', '42000', '20000', '25000', '27000', '29000', '29500', '76000', '40965', '53700', '40000', '24000', '38000', '42000', '18000', '12500', '55000', '19500', '17900', '25000', '24900', '34000', '65000', '50000', '24000', '21000', '40000', '22000', '21000', '38000', '65000', '21000', '39000', '40000', '25000', '10000', '52000', '45500', '47000', '28000', '22000', '10000', '37000', '60000', '23000', '34000', '47900', '21000', '25000', '23000', '65000', '34000', '38000', '39000', '17000', '16000', '22250', '30000', '75000', '95000', '20000', '26500', '25000', '15000', '22000', '78200', '45000', '20490', '13000', '25000', '14000', '33000', '16000', '40000', '31000', '18000', '60000', '13980', '13650', '42000', '42000', '35000', '15000', '35000', '65000', '72000', '16500', '42000', '32000', '39000', '25000', '23000', '50000', '36000', '40000', '32000', '19000', '47000', '19000', '24000', '55000', '30000', '30000', '44500', '24000', '19500', '24000', '32000', '45000', '21000', '26000', '40000', '21000', '21000', '32000', '29000', '32000', '59500', '40000', '90000', '85000', '38000', '53000', '53000', '41500', '27000', '17000', '18000', '18000', '21000', '17000', '17000', '23000', '21000', '23000', '16000', '23000', '23000', '38000', '18000', '65000', '32000', '29000', '25000', '20000', '18000', '30000', '65000', '42000', '30000', '29000', '38000', '19000', '39000', '40000', '26000', '21000', '38000', '90000', '22000', '27000', '19000', '40000', '55000', '40000', '40000', '20000', '13900', '48000', '65000', '27900', '23000', '24000', '38100', '21000', '24000', '32000', '55000', 'nan', 'nan', '35000', '16900', '19900', '130000', '19000', '14000', '20000', '21000', '22000', '21000', '18500', 'nan', '35000', '33000', '55000', '75000', '35000']\n"
     ]
    }
   ],
   "source": [
    "prices_alt = []\n",
    "\n",
    "for x in prices_strings:\n",
    "    prices_alt.append(x.split(\"Kč\")[0].replace(\" \",\"\").replace(\"'\",\"\").replace(\"[\",\"\"))\n",
    "\n",
    "print(prices_alt)"
   ]
  },
  {
   "cell_type": "code",
   "execution_count": 61,
   "metadata": {
    "scrolled": true
   },
   "outputs": [
    {
     "data": {
      "text/plain": [
       "7878"
      ]
     },
     "execution_count": 61,
     "metadata": {},
     "output_type": "execute_result"
    }
   ],
   "source": [
    "prices_alt_float = [float(i) for i in prices_alt]\n",
    "len(prices_alt_float)"
   ]
  },
  {
   "cell_type": "markdown",
   "metadata": {},
   "source": [
    "Test:"
   ]
  },
  {
   "cell_type": "code",
   "execution_count": 90,
   "metadata": {},
   "outputs": [
    {
     "data": {
      "text/plain": [
       "126992.0"
      ]
     },
     "execution_count": 90,
     "metadata": {},
     "output_type": "execute_result"
    }
   ],
   "source": [
    "prices_alt_float[3993]"
   ]
  },
  {
   "cell_type": "code",
   "execution_count": 91,
   "metadata": {
    "scrolled": true
   },
   "outputs": [
    {
     "data": {
      "text/plain": [
       "\"['126 992 Kč (4 650 EUR) za měsíc, bez poplatků']\""
      ]
     },
     "execution_count": 91,
     "metadata": {},
     "output_type": "execute_result"
    }
   ],
   "source": [
    "data['Price_total'][3993]"
   ]
  },
  {
   "cell_type": "markdown",
   "metadata": {},
   "source": [
    "Number of NaNs:"
   ]
  },
  {
   "cell_type": "code",
   "execution_count": 92,
   "metadata": {},
   "outputs": [
    {
     "data": {
      "text/plain": [
       "232"
      ]
     },
     "execution_count": 92,
     "metadata": {},
     "output_type": "execute_result"
    }
   ],
   "source": [
    "YZX = np.array(prices_alt_float)\n",
    "NaNs_alt = np.argwhere(np.isnan(YZX))\n",
    "len(NaNs_alt)"
   ]
  },
  {
   "cell_type": "markdown",
   "metadata": {},
   "source": [
    "### c) Dealing with messy adresses"
   ]
  },
  {
   "cell_type": "markdown",
   "metadata": {},
   "source": [
    "In this case, regex method extracting numerical characters (=districts of Prague) from observations appears to be the best way. Using the split fce doesn't seem to work well in this case."
   ]
  },
  {
   "cell_type": "code",
   "execution_count": 147,
   "metadata": {},
   "outputs": [],
   "source": [
    "#my first attempts for the split method. does not work that nice, but i keep it here for case...\n",
    "#adress_strings = [str(i) for i in data.Adresa]"
   ]
  },
  {
   "cell_type": "code",
   "execution_count": 148,
   "metadata": {},
   "outputs": [],
   "source": [
    "#district = []\n",
    "\n",
    "#for y in adress_strings:\n",
    "#    district.append(y.split(\"-\")[0][-8:].replace(\" \",\"\").replace(\"[\",\"\"))\n",
    "\n",
    "#print(district)"
   ]
  },
  {
   "cell_type": "code",
   "execution_count": 150,
   "metadata": {
    "collapsed": true
   },
   "outputs": [
    {
     "name": "stdout",
     "output_type": "stream",
     "text": [
      "0        9.0\n",
      "1        3.0\n",
      "2        9.0\n",
      "3        5.0\n",
      "4        4.0\n",
      "        ... \n",
      "7873     NaN\n",
      "7874    10.0\n",
      "7875    10.0\n",
      "7876     7.0\n",
      "7877     7.0\n",
      "Name: Adresa, Length: 7878, dtype: float64\n"
     ]
    }
   ],
   "source": [
    "district = data['Adresa'].apply(extractor)\n",
    "print(district)"
   ]
  },
  {
   "cell_type": "code",
   "execution_count": 154,
   "metadata": {},
   "outputs": [],
   "source": [
    "data['district'] = district"
   ]
  },
  {
   "cell_type": "code",
   "execution_count": 164,
   "metadata": {
    "scrolled": true
   },
   "outputs": [
    {
     "data": {
      "text/plain": [
       "1098    2810.0\n",
       "2489    2810.0\n",
       "6459    2810.0\n",
       "83      2810.0\n",
       "1436    2810.0\n",
       "2165    2810.0\n",
       "1693    2810.0\n",
       "3550    2810.0\n",
       "6768    2810.0\n",
       "2819    2810.0\n",
       "2488    2810.0\n",
       "5017    1015.0\n",
       "2750     411.0\n",
       "4575     281.0\n",
       "7230     281.0\n",
       "7783     281.0\n",
       "4698     281.0\n",
       "7023     281.0\n",
       "6192     281.0\n",
       "168       86.0\n",
       "74        64.0\n",
       "7607      55.0\n",
       "6107      55.0\n",
       "651       55.0\n",
       "6216      54.0\n",
       "236       54.0\n",
       "3223      54.0\n",
       "134       54.0\n",
       "1800      54.0\n",
       "3956      14.0\n",
       "Name: district, dtype: float64"
      ]
     },
     "execution_count": 164,
     "metadata": {},
     "output_type": "execute_result"
    }
   ],
   "source": [
    "data['district'].sort_values(ascending = False)[1:31] \n",
    "#we can see that these values apparently doesn't give as what we want. \n",
    "#it is because of occurence of \"28. října\" in couple of adresses of Prague 1 and \"28. pluku\" in Prague 10,\n",
    "#\"5. máje\" in Prague 5, \"5.května\" in Prague 4, \"obětí 6.května\" in Prague 4 and \"8.listopadu\" in Prague 6.\n",
    "#For these adresses we need to get rid of the first 1 or 2 characters to obtain the districts' numbers.\n",
    "#Furthermore also 'Praha 10 - Praha 15 Panorama' [index 5017] and 'Praha 4 - Praha 11 Panorama' [index 2750]\n",
    "#bring some complications. For these two, we need to get rid of last 2 characters."
   ]
  },
  {
   "cell_type": "code",
   "execution_count": 172,
   "metadata": {},
   "outputs": [
    {
     "data": {
      "text/plain": [
       "'8. listopadu, Praha 6 - Břevnov'"
      ]
     },
     "execution_count": 172,
     "metadata": {},
     "output_type": "execute_result"
    }
   ],
   "source": [
    "data['Adresa'][168]"
   ]
  },
  {
   "cell_type": "code",
   "execution_count": null,
   "metadata": {},
   "outputs": [],
   "source": [
    "fal_indx = data['district'].sort_values(ascending = False)[1:30].index"
   ]
  },
  {
   "cell_type": "code",
   "execution_count": null,
   "metadata": {},
   "outputs": [],
   "source": [
    "def remove_4(index):\n",
    "    #global fal_indx\n",
    "    #global spec\n",
    "    \n",
    "    def rem_4(inp, n = -6):\n",
    "        strin = str(data['cena'][inp])\n",
    "        return(int(strin[:n]))\n",
    "    \n",
    "    if index in fal_indx:\n",
    "        if index == spec:\n",
    "            data['cena'][index] = rem_4(index, -5)\n",
    "        else:\n",
    "            data['cena'][index] = rem_4(index)"
   ]
  },
  {
   "cell_type": "code",
   "execution_count": null,
   "metadata": {},
   "outputs": [],
   "source": [
    "data.index.map(remove_4) #Despite the error, it does what we wanted "
   ]
  },
  {
   "cell_type": "code",
   "execution_count": 136,
   "metadata": {},
   "outputs": [],
   "source": [
    "dist_name = ('Panorama','Praha1','Praha2','Praha3','Praha4','Praha5','Praha6','Praha7','Praha8','Praha9','Praha10','Praha11','Praha12','Praha13','Praha14','Praha15','Praha16','Praha17','Praha18','Praha19','Praha20','Praha21','Praha22')"
   ]
  },
  {
   "cell_type": "code",
   "execution_count": 137,
   "metadata": {},
   "outputs": [
    {
     "name": "stdout",
     "output_type": "stream",
     "text": [
      "[55, 1300, 997, 731, 718, 1131, 491, 313, 524, 488, 0, 0, 0, 0, 0, 0, 0, 0, 0, 0, 0, 0, 0]\n"
     ]
    }
   ],
   "source": [
    "a = [district.count(x) for x in dist_name]\n",
    "print(a)"
   ]
  },
  {
   "cell_type": "code",
   "execution_count": 138,
   "metadata": {},
   "outputs": [
    {
     "data": {
      "text/plain": [
       "6748"
      ]
     },
     "execution_count": 138,
     "metadata": {},
     "output_type": "execute_result"
    }
   ],
   "source": [
    "55+1300+997+731+718+1131+491+313+524+488"
   ]
  },
  {
   "cell_type": "markdown",
   "metadata": {},
   "source": [
    "Histograms for price"
   ]
  },
  {
   "cell_type": "code",
   "execution_count": 27,
   "metadata": {},
   "outputs": [],
   "source": [
    "%matplotlib inline\n",
    "import matplotlib.pyplot as plt\n",
    "plt.style.use('seaborn-whitegrid')"
   ]
  },
  {
   "cell_type": "code",
   "execution_count": 28,
   "metadata": {},
   "outputs": [
    {
     "data": {
      "text/plain": [
       "(array([  11,  427, 2216, 1904,  967,  667, 1453]),\n",
       " array([        0,      5000,     10000,     15000,     20000,     25000,\n",
       "            30000, 100000000]))"
      ]
     },
     "execution_count": 28,
     "metadata": {},
     "output_type": "execute_result"
    }
   ],
   "source": [
    "np.histogram(data['cena'], bins = [0,5000,10000,15000,20000,25000,30000, 100000000])"
   ]
  },
  {
   "cell_type": "code",
   "execution_count": 29,
   "metadata": {},
   "outputs": [
    {
     "data": {
      "image/png": "[encoded data removed]",
      "text/plain": [
       "<Figure size 432x288 with 1 Axes>"
      ]
     },
     "metadata": {},
     "output_type": "display_data"
    }
   ],
   "source": [
    "plt.hist(data['cena'], np.arange(100000, step = 5000))\n",
    "plt.show()"
   ]
  },
  {
   "cell_type": "code",
   "execution_count": 30,
   "metadata": {},
   "outputs": [
    {
     "data": {
      "image/png": "[encoded data removed]",
      "text/plain": [
       "<Figure size 432x288 with 1 Axes>"
      ]
     },
     "metadata": {},
     "output_type": "display_data"
    }
   ],
   "source": [
    "plt.hist(data['cena'], np.arange(40000,100000, step = 5000))\n",
    "plt.show()"
   ]
  },
  {
   "cell_type": "code",
   "execution_count": 31,
   "metadata": {},
   "outputs": [
    {
     "data": {
      "image/png": "[encoded data removed]",
      "text/plain": [
       "<Figure size 432x288 with 1 Axes>"
      ]
     },
     "metadata": {},
     "output_type": "display_data"
    }
   ],
   "source": [
    "plt.hist(data['cena'], np.arange(100000,200000, step = 5000))\n",
    "plt.show()"
   ]
  },
  {
   "cell_type": "markdown",
   "metadata": {},
   "source": [
    "## III. Main indicators of price (number of rooms, area size, condition of object)\n",
    "\n",
    "First of all, we focus at the most usual drivers of rents' prices and analyse their relationships. \n",
    "\n",
    "#regrese (covariances), point plot \n",
    "#title ma pocet mistnosti\n",
    "#lisi se podlahova a uzita plocha\n",
    "#condition"
   ]
  },
  {
   "cell_type": "markdown",
   "metadata": {},
   "source": [
    "## IV. Price and adress"
   ]
  },
  {
   "cell_type": "code",
   "execution_count": 48,
   "metadata": {},
   "outputs": [],
   "source": [
    "#různé části prahy - histogram\n",
    "#regrese, point plot \n",
    "#cena - to budu muset nějak vyfiltrovat z toho dlouhého popisku"
   ]
  },
  {
   "cell_type": "markdown",
   "metadata": {},
   "source": [
    "## V. Energy demans and adress"
   ]
  },
  {
   "cell_type": "code",
   "execution_count": 49,
   "metadata": {},
   "outputs": [],
   "source": [
    "#regrese, point plot (jsou lokace se energetickou narocnosti shlukovane?)"
   ]
  },
  {
   "cell_type": "markdown",
   "metadata": {},
   "source": [
    "## VI. Price and metro"
   ]
  },
  {
   "cell_type": "code",
   "execution_count": null,
   "metadata": {},
   "outputs": [],
   "source": [
    "#regrese, point plot \n",
    "#vlak bude fungovat podobně (přidat srovnání, jak by to vyšlo, kdybychom uvažovali 'Metro' OR 'Vlak')"
   ]
  },
  {
   "cell_type": "markdown",
   "metadata": {},
   "source": [
    "## VII. Metro localization"
   ]
  },
  {
   "cell_type": "markdown",
   "metadata": {},
   "source": [
    "#dokazeme urcit pozici metra pouze s techto dat pomoci kruznic a pruseciku\n",
    "#How can we get a Prague map in geopandas\n",
    "#Understand wheater we can plot address with geopandas (if not, we have to use google maps api to convert address to coordinates)"
   ]
  },
  {
   "cell_type": "markdown",
   "metadata": {},
   "source": [
    "## Some remarks at the end "
   ]
  },
  {
   "cell_type": "markdown",
   "metadata": {},
   "source": [
    "- Zmínit koronavirus a to jak ovlivňuje ceny nemovitostí (takže normálně by ceny bytů v centru byly dražší - pro srovnání můžeme jen jednoduše nakopírovat pár historických cen). => ubjektivní pohled potvrzují i data Bezrealitky.cz, které od poloviny března zaznamenaly výrazně vyšší nárůst u pražských bytů zařazovaných do nabídky. Zatímco v hlavním městě jich bylo aktivovaných v nabídce 1 544, během března (k 27. 3.) již 2 183. To je nárůst o 41 procent."
   ]
  }
 ],
 "metadata": {
  "kernelspec": {
   "display_name": "Python 3",
   "language": "python",
   "name": "python3"
  },
  "language_info": {
   "codemirror_mode": {
    "name": "ipython",
    "version": 3
   },
   "file_extension": ".py",
   "mimetype": "text/x-python",
   "name": "python",
   "nbconvert_exporter": "python",
   "pygments_lexer": "ipython3",
   "version": "3.7.4"
  },
  "widgets": {
   "application/vnd.jupyter.widget-state+json": {
    "state": {},
    "version_major": 2,
    "version_minor": 0
   }
  }
 },
 "nbformat": 4,
 "nbformat_minor": 2
}
