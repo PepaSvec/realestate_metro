{
 "cells": [
  {
   "cell_type": "markdown",
   "metadata": {},
   "source": [
    "# Data preparation, processing and visualization\n",
    "\n",
    "At this point, let's remind our core aim: to analyse some interesting relationships (esp. rent prices and distance from metro) based on data scraped from sReality.cz. \n",
    "\n",
    "Now, having the scraped massive dataset, our goal is to analyse and visualize underlaying relationships of chosen variables. We attempt to do so by (a) matplotlib and (b) geopandas tools. Nevertheless, before we can do so, the data need to be inspected and adjusted.\n",
    "\n",
    "## I. Getting familiar with the data"
   ]
  },
  {
   "cell_type": "markdown",
   "metadata": {},
   "source": [
    "First, we prepare the environment for analysis and get familiar with the structure and variables of data."
   ]
  },
  {
   "cell_type": "code",
   "execution_count": 1,
   "metadata": {},
   "outputs": [
    {
     "data": {
      "text/html": [
       "<div>\n",
       "<style scoped>\n",
       "    .dataframe tbody tr th:only-of-type {\n",
       "        vertical-align: middle;\n",
       "    }\n",
       "\n",
       "    .dataframe tbody tr th {\n",
       "        vertical-align: top;\n",
       "    }\n",
       "\n",
       "    .dataframe thead th {\n",
       "        text-align: right;\n",
       "    }\n",
       "</style>\n",
       "<table border=\"1\" class=\"dataframe\">\n",
       "  <thead>\n",
       "    <tr style=\"text-align: right;\">\n",
       "      <th></th>\n",
       "      <th>Unnamed: 0</th>\n",
       "      <th>Adresa</th>\n",
       "      <th>Aktualizace:</th>\n",
       "      <th>Balkón:</th>\n",
       "      <th>Bankomat:</th>\n",
       "      <th>Bazén:</th>\n",
       "      <th>Bezbariérový:</th>\n",
       "      <th>Bus MHD:</th>\n",
       "      <th>Celková cena:</th>\n",
       "      <th>Cena:</th>\n",
       "      <th>...</th>\n",
       "      <th>Večerka:</th>\n",
       "      <th>Vlak:</th>\n",
       "      <th>Vlastnictví:</th>\n",
       "      <th>Voda:</th>\n",
       "      <th>Vybavení:</th>\n",
       "      <th>Výtah:</th>\n",
       "      <th>Výška stropu:</th>\n",
       "      <th>Zlevněno:</th>\n",
       "      <th>Škola:</th>\n",
       "      <th>Školka:</th>\n",
       "    </tr>\n",
       "  </thead>\n",
       "  <tbody>\n",
       "    <tr>\n",
       "      <th>0</th>\n",
       "      <td>0</td>\n",
       "      <td>Dobrovolného, Praha 9 - Černý Most Panorama</td>\n",
       "      <td>['Dnes']</td>\n",
       "      <td>NaN</td>\n",
       "      <td>['Bankomat České spořitelny', ' (542 m)']</td>\n",
       "      <td>NaN</td>\n",
       "      <td>NaN</td>\n",
       "      <td>['Generála Janouška', ' (132 m)']</td>\n",
       "      <td>['12 000 Kč za měsíc']</td>\n",
       "      <td>NaN</td>\n",
       "      <td>...</td>\n",
       "      <td>['Albert Supermarket', ' (451 m)']</td>\n",
       "      <td>['Praha-Kyje', ' (1445 m)']</td>\n",
       "      <td>['Osobní']</td>\n",
       "      <td>NaN</td>\n",
       "      <td>NaN</td>\n",
       "      <td>NaN</td>\n",
       "      <td>NaN</td>\n",
       "      <td>NaN</td>\n",
       "      <td>['ZUŠ Praha 9, Ratibořická', ' (234 m)']</td>\n",
       "      <td>['MŠ Sluníčko Praha 9 - Černý Most', ' (279 m)']</td>\n",
       "    </tr>\n",
       "    <tr>\n",
       "      <th>1</th>\n",
       "      <td>0</td>\n",
       "      <td>Bořivojova, Praha 3 - Žižkov Panorama</td>\n",
       "      <td>['Dnes']</td>\n",
       "      <td>NaN</td>\n",
       "      <td>['Bankomat České spořitelny', ' (122 m)']</td>\n",
       "      <td>NaN</td>\n",
       "      <td>[\"'boolean-false'\"]</td>\n",
       "      <td>['Tachovské náměstí', ' (443 m)']</td>\n",
       "      <td>['9 500 Kč za nemovitost, + provize RK']</td>\n",
       "      <td>NaN</td>\n",
       "      <td>...</td>\n",
       "      <td>['Shalamar Foods', ' (165 m)']</td>\n",
       "      <td>['Praha hlavní nádraží', ' (984 m)']</td>\n",
       "      <td>['Osobní']</td>\n",
       "      <td>NaN</td>\n",
       "      <td>NaN</td>\n",
       "      <td>NaN</td>\n",
       "      <td>NaN</td>\n",
       "      <td>NaN</td>\n",
       "      <td>['Gymnázium Karla Sladkovského Praha 3', ' (56...</td>\n",
       "      <td>['ZŠ a MŠ Jaroslava Seiferta Praha 3', ' (243 ...</td>\n",
       "    </tr>\n",
       "    <tr>\n",
       "      <th>2</th>\n",
       "      <td>0</td>\n",
       "      <td>Tupolevova, Praha 9 - Letňany Panorama</td>\n",
       "      <td>['Dnes']</td>\n",
       "      <td>NaN</td>\n",
       "      <td>['Bankomat České spořitelny', ' (236 m)']</td>\n",
       "      <td>NaN</td>\n",
       "      <td>[\"'boolean-true'\"]</td>\n",
       "      <td>['Šumperská', ' (177 m)']</td>\n",
       "      <td>['13 900 Kč za měsíc']</td>\n",
       "      <td>NaN</td>\n",
       "      <td>...</td>\n",
       "      <td>['Penny Market', ' (183 m)']</td>\n",
       "      <td>['Praha-Čakovice', ' (1695 m)']</td>\n",
       "      <td>['Osobní']</td>\n",
       "      <td>NaN</td>\n",
       "      <td>NaN</td>\n",
       "      <td>[\"'boolean-true'\"]</td>\n",
       "      <td>NaN</td>\n",
       "      <td>NaN</td>\n",
       "      <td>['Základní škola Fryčovická', ' (160 m)']</td>\n",
       "      <td>['MŠ Havířovská', ' (255 m)']</td>\n",
       "    </tr>\n",
       "    <tr>\n",
       "      <th>3</th>\n",
       "      <td>0</td>\n",
       "      <td>Podbělohorská, Praha 5 - Smíchov Panorama</td>\n",
       "      <td>['Dnes']</td>\n",
       "      <td>NaN</td>\n",
       "      <td>['Bankomat Komerční banky', ' (381 m)']</td>\n",
       "      <td>NaN</td>\n",
       "      <td>[\"'boolean-false'\"]</td>\n",
       "      <td>['Pod Lipkami', ' (30 m)']</td>\n",
       "      <td>['15 000 Kč za nemovitost, + provize RK']</td>\n",
       "      <td>NaN</td>\n",
       "      <td>...</td>\n",
       "      <td>['Smíšené zboží Plzeňská\\t187', ' (404 m)']</td>\n",
       "      <td>['Praha-Cibulka', ' (1229 m)']</td>\n",
       "      <td>['Osobní']</td>\n",
       "      <td>['Dálkový vodovod']</td>\n",
       "      <td>NaN</td>\n",
       "      <td>NaN</td>\n",
       "      <td>NaN</td>\n",
       "      <td>NaN</td>\n",
       "      <td>['ZUŠ Na Popelce', ' (224 m)']</td>\n",
       "      <td>['TROIS PETITES POMMES, s.r.o.', ' (343 m)']</td>\n",
       "    </tr>\n",
       "  </tbody>\n",
       "</table>\n",
       "<p>4 rows × 80 columns</p>\n",
       "</div>"
      ],
      "text/plain": [
       "   Unnamed: 0                                       Adresa Aktualizace:  \\\n",
       "0           0  Dobrovolného, Praha 9 - Černý Most Panorama     ['Dnes']   \n",
       "1           0        Bořivojova, Praha 3 - Žižkov Panorama     ['Dnes']   \n",
       "2           0       Tupolevova, Praha 9 - Letňany Panorama     ['Dnes']   \n",
       "3           0    Podbělohorská, Praha 5 - Smíchov Panorama     ['Dnes']   \n",
       "\n",
       "  Balkón:                                  Bankomat: Bazén:  \\\n",
       "0     NaN  ['Bankomat České spořitelny', ' (542 m)']    NaN   \n",
       "1     NaN  ['Bankomat České spořitelny', ' (122 m)']    NaN   \n",
       "2     NaN  ['Bankomat České spořitelny', ' (236 m)']    NaN   \n",
       "3     NaN    ['Bankomat Komerční banky', ' (381 m)']    NaN   \n",
       "\n",
       "         Bezbariérový:                           Bus MHD:  \\\n",
       "0                  NaN  ['Generála Janouška', ' (132 m)']   \n",
       "1  [\"'boolean-false'\"]  ['Tachovské náměstí', ' (443 m)']   \n",
       "2   [\"'boolean-true'\"]          ['Šumperská', ' (177 m)']   \n",
       "3  [\"'boolean-false'\"]         ['Pod Lipkami', ' (30 m)']   \n",
       "\n",
       "                               Celková cena: Cena:  ...  \\\n",
       "0                     ['12 000 Kč za měsíc']   NaN  ...   \n",
       "1   ['9 500 Kč za nemovitost, + provize RK']   NaN  ...   \n",
       "2                     ['13 900 Kč za měsíc']   NaN  ...   \n",
       "3  ['15 000 Kč za nemovitost, + provize RK']   NaN  ...   \n",
       "\n",
       "                                      Večerka:  \\\n",
       "0           ['Albert Supermarket', ' (451 m)']   \n",
       "1               ['Shalamar Foods', ' (165 m)']   \n",
       "2                 ['Penny Market', ' (183 m)']   \n",
       "3  ['Smíšené zboží Plzeňská\\t187', ' (404 m)']   \n",
       "\n",
       "                                  Vlak: Vlastnictví:                Voda:  \\\n",
       "0           ['Praha-Kyje', ' (1445 m)']   ['Osobní']                  NaN   \n",
       "1  ['Praha hlavní nádraží', ' (984 m)']   ['Osobní']                  NaN   \n",
       "2       ['Praha-Čakovice', ' (1695 m)']   ['Osobní']                  NaN   \n",
       "3        ['Praha-Cibulka', ' (1229 m)']   ['Osobní']  ['Dálkový vodovod']   \n",
       "\n",
       "  Vybavení:              Výtah: Výška stropu: Zlevněno:  \\\n",
       "0       NaN                 NaN           NaN       NaN   \n",
       "1       NaN                 NaN           NaN       NaN   \n",
       "2       NaN  [\"'boolean-true'\"]           NaN       NaN   \n",
       "3       NaN                 NaN           NaN       NaN   \n",
       "\n",
       "                                              Škola:  \\\n",
       "0           ['ZUŠ Praha 9, Ratibořická', ' (234 m)']   \n",
       "1  ['Gymnázium Karla Sladkovského Praha 3', ' (56...   \n",
       "2          ['Základní škola Fryčovická', ' (160 m)']   \n",
       "3                     ['ZUŠ Na Popelce', ' (224 m)']   \n",
       "\n",
       "                                             Školka:  \n",
       "0   ['MŠ Sluníčko Praha 9 - Černý Most', ' (279 m)']  \n",
       "1  ['ZŠ a MŠ Jaroslava Seiferta Praha 3', ' (243 ...  \n",
       "2                      ['MŠ Havířovská', ' (255 m)']  \n",
       "3       ['TROIS PETITES POMMES, s.r.o.', ' (343 m)']  \n",
       "\n",
       "[4 rows x 80 columns]"
      ]
     },
     "execution_count": 1,
     "metadata": {},
     "output_type": "execute_result"
    }
   ],
   "source": [
    "import pandas as pd\n",
    "import numpy as np\n",
    "\n",
    "data = pd.read_csv(\"dataset.csv\", sep = ';') #uploading our scraped data\n",
    "data.head(4)"
   ]
  },
  {
   "cell_type": "code",
   "execution_count": 2,
   "metadata": {
    "collapsed": true
   },
   "outputs": [
    {
     "name": "stdout",
     "output_type": "stream",
     "text": [
      "<class 'pandas.core.frame.DataFrame'>\n",
      "RangeIndex: 7878 entries, 0 to 7877\n",
      "Data columns (total 79 columns):\n",
      " #   Column                                   Non-Null Count  Dtype \n",
      "---  ------                                   --------------  ----- \n",
      " 0   Adresa                                   7878 non-null   object\n",
      " 1   Aktualizace:                             7878 non-null   object\n",
      " 2   Balkón:                                  1960 non-null   object\n",
      " 3   Bankomat:                                7455 non-null   object\n",
      " 4   Bazén:                                   21 non-null     object\n",
      " 5   Bezbariérový:                            1744 non-null   object\n",
      " 6   Bus MHD:                                 7756 non-null   object\n",
      " 7   Celková cena:                            7646 non-null   object\n",
      " 8   Cena:                                    47 non-null     object\n",
      " 9   Cukrárna:                                7455 non-null   object\n",
      " 10  Datum nastěhování:                       1751 non-null   object\n",
      " 11  Datum prohlídky do:                      5 non-null      object\n",
      " 12  Datum prohlídky:                         46 non-null     object\n",
      " 13  Datum zahájení prodeje:                  8 non-null      object\n",
      " 14  Divadlo:                                 7419 non-null   object\n",
      " 15  Doprava:                                 3223 non-null   object\n",
      " 16  Elektřina:                               2486 non-null   object\n",
      " 17  Energetická náročnost budovy:            5982 non-null   object\n",
      " 18  Garáž:                                   1153 non-null   object\n",
      " 19  Hospoda:                                 7455 non-null   object\n",
      " 20  Hřiště:                                  7761 non-null   object\n",
      " 21  ID zakázky:                              6925 non-null   object\n",
      " 22  ID:                                      953 non-null    object\n",
      " 23  Kino:                                    7415 non-null   object\n",
      " 24  Komunikace:                              1037 non-null   object\n",
      " 25  Kulturní památka:                        7121 non-null   object\n",
      " 26  Lodžie:                                  569 non-null    object\n",
      " 27  Lékař:                                   7455 non-null   object\n",
      " 28  Lékárna:                                 7455 non-null   object\n",
      " 29  Metro:                                   7624 non-null   object\n",
      " 30  Náklady na bydlení:                      654 non-null    object\n",
      " 31  Obchod:                                  7422 non-null   object\n",
      " 32  Odpad:                                   2182 non-null   object\n",
      " 33  Parkování:                               1466 non-null   object\n",
      " 34  Plocha podlahová:                        5303 non-null   object\n",
      " 35  Plocha pozemku:                          1 non-null      object\n",
      " 36  Plocha zahrady:                          70 non-null     object\n",
      " 37  Plocha zastavěná:                        215 non-null    object\n",
      " 38  Plyn:                                    1731 non-null   object\n",
      " 39  Podlaží:                                 7878 non-null   object\n",
      " 40  Poloha domu:                             1 non-null      object\n",
      " 41  Poznámka k ceně:                         5764 non-null   object\n",
      " 42  Počet bytů:                              8 non-null      object\n",
      " 43  Pošta:                                   7455 non-null   object\n",
      " 44  Provize:                                 173 non-null    object\n",
      " 45  Průkaz energetické náročnosti budovy:    159 non-null    object\n",
      " 46  Převod do OV:                            24 non-null     object\n",
      " 47  Přírodní zajímavost:                     865 non-null    object\n",
      " 48  Půdní vestavba:                          40 non-null     object\n",
      " 49  Původní cena:                            185 non-null    object\n",
      " 50  Restaurace:                              7455 non-null   object\n",
      " 51  Rok kolaudace:                           235 non-null    object\n",
      " 52  Rok rekonstrukce:                        559 non-null    object\n",
      " 53  Sklep:                                   1902 non-null   object\n",
      " 54  Sportoviště:                             7761 non-null   object\n",
      " 55  Stav objektu:                            7878 non-null   object\n",
      " 56  Stav:                                    60 non-null     object\n",
      " 57  Stavba:                                  7878 non-null   object\n",
      " 58  Telekomunikace:                          2700 non-null   object\n",
      " 59  Terasa:                                  1048 non-null   object\n",
      " 60  Title                                    7878 non-null   object\n",
      " 61  Topení:                                  3143 non-null   object\n",
      " 62  Tram:                                    7673 non-null   object\n",
      " 63  Typ bytu:                                331 non-null    object\n",
      " 64  Typ domu:                                1 non-null      object\n",
      " 65  Ukazatel energetické náročnosti budovy:  299 non-null    object\n",
      " 66  Umístění objektu:                        2503 non-null   object\n",
      " 67  Užitná plocha:                           7878 non-null   object\n",
      " 68  Veterinář:                               7455 non-null   object\n",
      " 69  Večerka:                                 7455 non-null   object\n",
      " 70  Vlak:                                    7750 non-null   object\n",
      " 71  Vlastnictví:                             7877 non-null   object\n",
      " 72  Voda:                                    2690 non-null   object\n",
      " 73  Vybavení:                                5977 non-null   object\n",
      " 74  Výtah:                                   5629 non-null   object\n",
      " 75  Výška stropu:                            77 non-null     object\n",
      " 76  Zlevněno:                                185 non-null    object\n",
      " 77  Škola:                                   7455 non-null   object\n",
      " 78  Školka:                                  7455 non-null   object\n",
      "dtypes: object(79)\n",
      "memory usage: 4.7+ MB\n"
     ]
    }
   ],
   "source": [
    "data = data.drop([\"Unnamed: 0\"], axis= 1)  #this drops the unnamed column as it has no value\n",
    "data.info() #inspecting all the variables, their type and number of observations"
   ]
  },
  {
   "cell_type": "code",
   "execution_count": 3,
   "metadata": {},
   "outputs": [],
   "source": [
    "#We rename columns so that we can better work with them \n",
    "#Specifically, adding underscored characters in multi-word names, deleting colons, \n",
    "#rewriting some long names in shorter form (among those that are very likely to be used in the analysis)\n",
    "\n",
    "data.columns = ['Adresa', 'Aktualizace', 'Balkón', 'Bankomat', 'Bazén',\n",
    "       'Bezbariérový', 'Bus_MHD', 'Price_total', 'Price', 'Cukrárna',\n",
    "       'Datum_nastěhování', 'Datum_prohlídky_do', 'Datum_prohlídky',\n",
    "       'Datum_zahájení_prodeje', 'Divadlo', 'Doprava', 'Elektřina',\n",
    "       'Energy_demands', 'Garáž', 'Hospoda', 'Hřiště',\n",
    "       'ID_zakázky:', 'ID', 'Kino', 'Komunikace', 'Kulturní_památka',\n",
    "       'Lodžie', 'Lékař', 'Lékárna', 'Metro', 'Náklady_na_bydlení',\n",
    "       'Obchod', 'Odpad', 'Parkování', 'Plocha_podlahová',\n",
    "       'Plocha_pozemku', 'Plocha_zahrady', 'Plocha_zastavěná', 'Plyn',\n",
    "       'Podlaží', 'Poloha domu', 'Poznámka_k_ceně', 'Počet bytů', 'Pošta',\n",
    "       'Provize', 'Energy_demands_II', 'Převod_do_OV',\n",
    "       'Přírodní zajímavost', 'Půdní_vestavba', 'Původní_cena',\n",
    "       'Restaurace', 'Rok_kolaudace', 'Rok_rekonstrukce', 'Sklep',\n",
    "       'Sportoviště', 'Stav_objektu', 'Stav', 'Stavba', 'Telekomunikace',\n",
    "       'Terasa', 'Title', 'Topení', 'Tram', 'Typ_bytu', 'Typ_domu',\n",
    "       'Energy_demands_III', 'Umístění_objektu',\n",
    "       'Area', 'Veterinář', 'Večerka', 'Vlak', 'Vlastnictví',\n",
    "       'Voda', 'Vybavení', 'Výtah', 'Výška_stropu', 'Zlevněno', 'Škola',\n",
    "       'Školka']"
   ]
  },
  {
   "cell_type": "markdown",
   "metadata": {},
   "source": [
    "In total, we have 7878 observations and 79 columns. Neverheless, as we can see above, many of the columns contain only a relatively limited information (in terms of number of their observations), specifically 49 variables have more than 10% of missing values. Hence, the strenght of their evidence is limited and we need to be aware of this limitation. Variables with extreme portion of missing values (> 90%) deserve special attention and we should rather not include them in the analysis at all because they don't tell us much."
   ]
  },
  {
   "cell_type": "code",
   "execution_count": 43,
   "metadata": {
    "scrolled": true
   },
   "outputs": [
    {
     "data": {
      "text/plain": [
       "25"
      ]
     },
     "execution_count": 43,
     "metadata": {},
     "output_type": "execute_result"
    }
   ],
   "source": [
    "n_observations = 7878\n",
    "empty = data.isnull().sum()\n",
    "empty[empty > n_observations*0.9].sort_values(ascending = False).count()\n",
    "#number of variables that miss more than 90% of observations"
   ]
  },
  {
   "cell_type": "code",
   "execution_count": 44,
   "metadata": {
    "collapsed": true
   },
   "outputs": [
    {
     "data": {
      "text/plain": [
       "Typ_domu                  7877\n",
       "Plocha_pozemku            7877\n",
       "Poloha domu               7877\n",
       "Datum_prohlídky_do        7873\n",
       "Datum_zahájení_prodeje    7870\n",
       "Počet bytů                7870\n",
       "Bazén                     7857\n",
       "Převod_do_OV              7854\n",
       "Půdní_vestavba            7838\n",
       "Datum_prohlídky           7832\n",
       "Price                     7831\n",
       "Stav                      7818\n",
       "Plocha_zahrady            7808\n",
       "Výška_stropu              7801\n",
       "Energy_demands_II         7719\n",
       "Provize                   7705\n",
       "Původní_cena              7693\n",
       "Zlevněno                  7693\n",
       "Plocha_zastavěná          7663\n",
       "Rok_kolaudace             7643\n",
       "Energy_demands_III        7579\n",
       "Typ_bytu                  7547\n",
       "Rok_rekonstrukce          7319\n",
       "Lodžie                    7309\n",
       "Náklady_na_bydlení        7224\n",
       "dtype: int64"
      ]
     },
     "execution_count": 44,
     "metadata": {},
     "output_type": "execute_result"
    }
   ],
   "source": [
    "empty[empty > n_observations*0.9].sort_values(ascending = False) #list of those variables"
   ]
  },
  {
   "cell_type": "markdown",
   "metadata": {},
   "source": [
    "The most suitable variables are these 31 that miss less than 90% of observations. Regarding the aim of our project, it is pleasant that variable 'Metro' can be found here. In our analysis, we will consider 6 more variables, i.e. all variables that contain more than 66% of observations."
   ]
  },
  {
   "cell_type": "code",
   "execution_count": 45,
   "metadata": {
    "collapsed": true
   },
   "outputs": [
    {
     "data": {
      "text/plain": [
       "Kulturní_památka    757\n",
       "Kino                463\n",
       "Divadlo             459\n",
       "Obchod              456\n",
       "Škola               423\n",
       "Hospoda             423\n",
       "Večerka             423\n",
       "Veterinář           423\n",
       "Lékař               423\n",
       "Bankomat            423\n",
       "Lékárna             423\n",
       "Cukrárna            423\n",
       "Restaurace          423\n",
       "Pošta               423\n",
       "Školka              423\n",
       "Metro               254\n",
       "cena                232\n",
       "Price_total         232\n",
       "Tram                205\n",
       "Vlak                128\n",
       "Bus_MHD             122\n",
       "Hřiště              117\n",
       "Sportoviště         117\n",
       "Vlastnictví           1\n",
       "Aktualizace           0\n",
       "Podlaží               0\n",
       "Stav_objektu          0\n",
       "Stavba                0\n",
       "Title                 0\n",
       "Area                  0\n",
       "Adresa                0\n",
       "dtype: int64"
      ]
     },
     "execution_count": 45,
     "metadata": {},
     "output_type": "execute_result"
    }
   ],
   "source": [
    "empty[empty < n_observations*0.1].sort_values(ascending = False)"
   ]
  },
  {
   "cell_type": "code",
   "execution_count": 46,
   "metadata": {
    "collapsed": true
   },
   "outputs": [
    {
     "data": {
      "text/plain": [
       "Plocha_podlahová    2575\n",
       "Výtah               2249\n",
       "Poznámka_k_ceně     2114\n",
       "Vybavení            1901\n",
       "Energy_demands      1896\n",
       "ID_zakázky:          953\n",
       "dtype: int64"
      ]
     },
     "execution_count": 46,
     "metadata": {},
     "output_type": "execute_result"
    }
   ],
   "source": [
    "empty[np.all([(empty > n_observations*0.1),(empty < n_observations*0.33)], axis = 0)].sort_values(ascending = False)"
   ]
  },
  {
   "cell_type": "markdown",
   "metadata": {},
   "source": [
    "## II. Dataset adjustments\n",
    "At this point, two things need to be done. Adjusting the dataset only for variables that have some evidence power, and adjusting the column 'Price' as its string values are currently very messy which makes it impossible to work with this crucial variable in our analysis.\n",
    "\n",
    "### a) Keeping worthy variables only\n",
    "As discussed above, we consider only variables with more than 66% of observations. Let's adjust the dataset accordingly..."
   ]
  },
  {
   "cell_type": "code",
   "execution_count": 47,
   "metadata": {
    "collapsed": true
   },
   "outputs": [
    {
     "data": {
      "text/plain": [
       "Index(['Adresa', 'Aktualizace', 'Bankomat', 'Bus_MHD', 'Price_total',\n",
       "       'Cukrárna', 'Divadlo', 'Energy_demands', 'Hospoda', 'Hřiště',\n",
       "       'ID_zakázky:', 'Kino', 'Kulturní_památka', 'Lékař', 'Lékárna', 'Metro',\n",
       "       'Obchod', 'Plocha_podlahová', 'Podlaží', 'Poznámka_k_ceně', 'Pošta',\n",
       "       'Restaurace', 'Sportoviště', 'Stav_objektu', 'Stavba', 'Title', 'Tram',\n",
       "       'Area', 'Veterinář', 'Večerka', 'Vlak', 'Vlastnictví', 'Vybavení',\n",
       "       'Výtah', 'Škola', 'Školka', 'cena'],\n",
       "      dtype='object')"
      ]
     },
     "execution_count": 47,
     "metadata": {},
     "output_type": "execute_result"
    }
   ],
   "source": [
    "variable = empty[empty < n_observations*0.33]\n",
    "variable.index"
   ]
  },
  {
   "cell_type": "code",
   "execution_count": 48,
   "metadata": {
    "collapsed": true
   },
   "outputs": [
    {
     "data": {
      "text/html": [
       "<div>\n",
       "<style scoped>\n",
       "    .dataframe tbody tr th:only-of-type {\n",
       "        vertical-align: middle;\n",
       "    }\n",
       "\n",
       "    .dataframe tbody tr th {\n",
       "        vertical-align: top;\n",
       "    }\n",
       "\n",
       "    .dataframe thead th {\n",
       "        text-align: right;\n",
       "    }\n",
       "</style>\n",
       "<table border=\"1\" class=\"dataframe\">\n",
       "  <thead>\n",
       "    <tr style=\"text-align: right;\">\n",
       "      <th></th>\n",
       "      <th>Adresa</th>\n",
       "      <th>Aktualizace</th>\n",
       "      <th>Bankomat</th>\n",
       "      <th>Bus_MHD</th>\n",
       "      <th>Price_total</th>\n",
       "      <th>Cukrárna</th>\n",
       "      <th>Divadlo</th>\n",
       "      <th>Energy_demands</th>\n",
       "      <th>Hospoda</th>\n",
       "      <th>Hřiště</th>\n",
       "      <th>...</th>\n",
       "      <th>Area</th>\n",
       "      <th>Veterinář</th>\n",
       "      <th>Večerka</th>\n",
       "      <th>Vlak</th>\n",
       "      <th>Vlastnictví</th>\n",
       "      <th>Vybavení</th>\n",
       "      <th>Výtah</th>\n",
       "      <th>Škola</th>\n",
       "      <th>Školka</th>\n",
       "      <th>cena</th>\n",
       "    </tr>\n",
       "  </thead>\n",
       "  <tbody>\n",
       "    <tr>\n",
       "      <th>0</th>\n",
       "      <td>Dobrovolného, Praha 9 - Černý Most Panorama</td>\n",
       "      <td>['Dnes']</td>\n",
       "      <td>['Bankomat České spořitelny', ' (542 m)']</td>\n",
       "      <td>['Generála Janouška', ' (132 m)']</td>\n",
       "      <td>['12 000 Kč za měsíc']</td>\n",
       "      <td>['Shisha Room Dvin', ' (1144 m)']</td>\n",
       "      <td>['Přírodní divadlo Dády Stoklasy', ' (3152 m)']</td>\n",
       "      <td>['Třída G - Mimořádně nehospodárná']</td>\n",
       "      <td>['Šenk Na Rajské', ' (476 m)']</td>\n",
       "      <td>['Dětské hřiště Rajský vrch', ' (162 m)']</td>\n",
       "      <td>...</td>\n",
       "      <td>['26m2']</td>\n",
       "      <td>['MetropoleVet Praha s.r.o.', ' (623 m)']</td>\n",
       "      <td>['Albert Supermarket', ' (451 m)']</td>\n",
       "      <td>['Praha-Kyje', ' (1445 m)']</td>\n",
       "      <td>['Osobní']</td>\n",
       "      <td>NaN</td>\n",
       "      <td>NaN</td>\n",
       "      <td>['ZUŠ Praha 9, Ratibořická', ' (234 m)']</td>\n",
       "      <td>['MŠ Sluníčko Praha 9 - Černý Most', ' (279 m)']</td>\n",
       "      <td>12000.0</td>\n",
       "    </tr>\n",
       "    <tr>\n",
       "      <th>1</th>\n",
       "      <td>Bořivojova, Praha 3 - Žižkov Panorama</td>\n",
       "      <td>['Dnes']</td>\n",
       "      <td>['Bankomat České spořitelny', ' (122 m)']</td>\n",
       "      <td>['Tachovské náměstí', ' (443 m)']</td>\n",
       "      <td>['9 500 Kč za nemovitost, + provize RK']</td>\n",
       "      <td>['Klub JINÝ KAFE', ' (283 m)']</td>\n",
       "      <td>['Žižkovské divadlo Járy Cimrmana', ' (280 m)']</td>\n",
       "      <td>['Třída G - Mimořádně nehospodárná']</td>\n",
       "      <td>['Hospůdka U Habásků', ' (209 m)']</td>\n",
       "      <td>['Dětské hřiště Bořivojova', ' (294 m)']</td>\n",
       "      <td>...</td>\n",
       "      <td>['23m2']</td>\n",
       "      <td>['MVDr. Jan Dubský', ' (425 m)']</td>\n",
       "      <td>['Shalamar Foods', ' (165 m)']</td>\n",
       "      <td>['Praha hlavní nádraží', ' (984 m)']</td>\n",
       "      <td>['Osobní']</td>\n",
       "      <td>NaN</td>\n",
       "      <td>NaN</td>\n",
       "      <td>['Gymnázium Karla Sladkovského Praha 3', ' (56...</td>\n",
       "      <td>['ZŠ a MŠ Jaroslava Seiferta Praha 3', ' (243 ...</td>\n",
       "      <td>9500.0</td>\n",
       "    </tr>\n",
       "    <tr>\n",
       "      <th>2</th>\n",
       "      <td>Tupolevova, Praha 9 - Letňany Panorama</td>\n",
       "      <td>['Dnes']</td>\n",
       "      <td>['Bankomat České spořitelny', ' (236 m)']</td>\n",
       "      <td>['Šumperská', ' (177 m)']</td>\n",
       "      <td>['13 900 Kč za měsíc']</td>\n",
       "      <td>['Café Infinity', ' (204 m)']</td>\n",
       "      <td>['Divadlo Pohádka', ' (1057 m)']</td>\n",
       "      <td>NaN</td>\n",
       "      <td>['Pivnice na Královce', ' (1824 m)']</td>\n",
       "      <td>['Venkovní posilovna u obchodního centra', ' (...</td>\n",
       "      <td>...</td>\n",
       "      <td>['52m2']</td>\n",
       "      <td>['Veterinární ordinace Letňany', ' (302 m)']</td>\n",
       "      <td>['Penny Market', ' (183 m)']</td>\n",
       "      <td>['Praha-Čakovice', ' (1695 m)']</td>\n",
       "      <td>['Osobní']</td>\n",
       "      <td>NaN</td>\n",
       "      <td>[\"'boolean-true'\"]</td>\n",
       "      <td>['Základní škola Fryčovická', ' (160 m)']</td>\n",
       "      <td>['MŠ Havířovská', ' (255 m)']</td>\n",
       "      <td>13900.0</td>\n",
       "    </tr>\n",
       "    <tr>\n",
       "      <th>3</th>\n",
       "      <td>Podbělohorská, Praha 5 - Smíchov Panorama</td>\n",
       "      <td>['Dnes']</td>\n",
       "      <td>['Bankomat Komerční banky', ' (381 m)']</td>\n",
       "      <td>['Pod Lipkami', ' (30 m)']</td>\n",
       "      <td>['15 000 Kč za nemovitost, + provize RK']</td>\n",
       "      <td>['Cukrárna Pod Marjánkou', ' (1333 m)']</td>\n",
       "      <td>['JUDr. Jiří Šilhán', ' (279 m)']</td>\n",
       "      <td>['Třída B - Velmi úsporná']</td>\n",
       "      <td>['Restaurace Na zámyšli', ' (423 m)']</td>\n",
       "      <td>['Dětské hřiště Na Vršku', ' (116 m)']</td>\n",
       "      <td>...</td>\n",
       "      <td>['58m2']</td>\n",
       "      <td>['Veterinární klinika - MVDr. Pavel Santar, MV...</td>\n",
       "      <td>['Smíšené zboží Plzeňská\\t187', ' (404 m)']</td>\n",
       "      <td>['Praha-Cibulka', ' (1229 m)']</td>\n",
       "      <td>['Osobní']</td>\n",
       "      <td>NaN</td>\n",
       "      <td>NaN</td>\n",
       "      <td>['ZUŠ Na Popelce', ' (224 m)']</td>\n",
       "      <td>['TROIS PETITES POMMES, s.r.o.', ' (343 m)']</td>\n",
       "      <td>15000.0</td>\n",
       "    </tr>\n",
       "    <tr>\n",
       "      <th>4</th>\n",
       "      <td>Mezi domy, Praha 4 - Písnice Panorama</td>\n",
       "      <td>['Dnes']</td>\n",
       "      <td>['Bankomat Komerční banky', ' (780 m)']</td>\n",
       "      <td>['U Libušské sokolovny', ' (275 m)']</td>\n",
       "      <td>['19 500 Kč za měsíc']</td>\n",
       "      <td>['Cukrářství Viktoria, s.r.o.', ' (900 m)']</td>\n",
       "      <td>['Tradiční loutkové divadlo Zvoneček', ' (3145...</td>\n",
       "      <td>['Třída D - Méně úsporná č. 78/2013 Sb. podle ...</td>\n",
       "      <td>['Hospůdka U Báti', ' (509 m)']</td>\n",
       "      <td>['Dětské hřiště Pyramida Na Okruhu', ' (78 m)']</td>\n",
       "      <td>...</td>\n",
       "      <td>['93m2']</td>\n",
       "      <td>['Vetnemo, s.r.o.', ' (634 m)']</td>\n",
       "      <td>['VIVACOMEX, spol. s r.o.', ' (450 m)']</td>\n",
       "      <td>['Praha-Krč', ' (3635 m)']</td>\n",
       "      <td>['Osobní']</td>\n",
       "      <td>NaN</td>\n",
       "      <td>[\"'boolean-true'\"]</td>\n",
       "      <td>['Střední odborné učiliště potravinářské Praha...</td>\n",
       "      <td>['Mateřská škola Mezi Domy', ' (105 m)']</td>\n",
       "      <td>19500.0</td>\n",
       "    </tr>\n",
       "  </tbody>\n",
       "</table>\n",
       "<p>5 rows × 37 columns</p>\n",
       "</div>"
      ],
      "text/plain": [
       "                                        Adresa Aktualizace  \\\n",
       "0  Dobrovolného, Praha 9 - Černý Most Panorama    ['Dnes']   \n",
       "1        Bořivojova, Praha 3 - Žižkov Panorama    ['Dnes']   \n",
       "2       Tupolevova, Praha 9 - Letňany Panorama    ['Dnes']   \n",
       "3    Podbělohorská, Praha 5 - Smíchov Panorama    ['Dnes']   \n",
       "4        Mezi domy, Praha 4 - Písnice Panorama    ['Dnes']   \n",
       "\n",
       "                                    Bankomat  \\\n",
       "0  ['Bankomat České spořitelny', ' (542 m)']   \n",
       "1  ['Bankomat České spořitelny', ' (122 m)']   \n",
       "2  ['Bankomat České spořitelny', ' (236 m)']   \n",
       "3    ['Bankomat Komerční banky', ' (381 m)']   \n",
       "4    ['Bankomat Komerční banky', ' (780 m)']   \n",
       "\n",
       "                                Bus_MHD  \\\n",
       "0     ['Generála Janouška', ' (132 m)']   \n",
       "1     ['Tachovské náměstí', ' (443 m)']   \n",
       "2             ['Šumperská', ' (177 m)']   \n",
       "3            ['Pod Lipkami', ' (30 m)']   \n",
       "4  ['U Libušské sokolovny', ' (275 m)']   \n",
       "\n",
       "                                 Price_total  \\\n",
       "0                     ['12 000 Kč za měsíc']   \n",
       "1   ['9 500 Kč za nemovitost, + provize RK']   \n",
       "2                     ['13 900 Kč za měsíc']   \n",
       "3  ['15 000 Kč za nemovitost, + provize RK']   \n",
       "4                     ['19 500 Kč za měsíc']   \n",
       "\n",
       "                                      Cukrárna  \\\n",
       "0            ['Shisha Room Dvin', ' (1144 m)']   \n",
       "1               ['Klub JINÝ KAFE', ' (283 m)']   \n",
       "2                ['Café Infinity', ' (204 m)']   \n",
       "3      ['Cukrárna Pod Marjánkou', ' (1333 m)']   \n",
       "4  ['Cukrářství Viktoria, s.r.o.', ' (900 m)']   \n",
       "\n",
       "                                             Divadlo  \\\n",
       "0    ['Přírodní divadlo Dády Stoklasy', ' (3152 m)']   \n",
       "1    ['Žižkovské divadlo Járy Cimrmana', ' (280 m)']   \n",
       "2                   ['Divadlo Pohádka', ' (1057 m)']   \n",
       "3                  ['JUDr. Jiří Šilhán', ' (279 m)']   \n",
       "4  ['Tradiční loutkové divadlo Zvoneček', ' (3145...   \n",
       "\n",
       "                                      Energy_demands  \\\n",
       "0               ['Třída G - Mimořádně nehospodárná']   \n",
       "1               ['Třída G - Mimořádně nehospodárná']   \n",
       "2                                                NaN   \n",
       "3                        ['Třída B - Velmi úsporná']   \n",
       "4  ['Třída D - Méně úsporná č. 78/2013 Sb. podle ...   \n",
       "\n",
       "                                 Hospoda  \\\n",
       "0         ['Šenk Na Rajské', ' (476 m)']   \n",
       "1     ['Hospůdka U Habásků', ' (209 m)']   \n",
       "2   ['Pivnice na Královce', ' (1824 m)']   \n",
       "3  ['Restaurace Na zámyšli', ' (423 m)']   \n",
       "4        ['Hospůdka U Báti', ' (509 m)']   \n",
       "\n",
       "                                              Hřiště  ...      Area  \\\n",
       "0          ['Dětské hřiště Rajský vrch', ' (162 m)']  ...  ['26m2']   \n",
       "1           ['Dětské hřiště Bořivojova', ' (294 m)']  ...  ['23m2']   \n",
       "2  ['Venkovní posilovna u obchodního centra', ' (...  ...  ['52m2']   \n",
       "3             ['Dětské hřiště Na Vršku', ' (116 m)']  ...  ['58m2']   \n",
       "4    ['Dětské hřiště Pyramida Na Okruhu', ' (78 m)']  ...  ['93m2']   \n",
       "\n",
       "                                           Veterinář  \\\n",
       "0          ['MetropoleVet Praha s.r.o.', ' (623 m)']   \n",
       "1                   ['MVDr. Jan Dubský', ' (425 m)']   \n",
       "2       ['Veterinární ordinace Letňany', ' (302 m)']   \n",
       "3  ['Veterinární klinika - MVDr. Pavel Santar, MV...   \n",
       "4                    ['Vetnemo, s.r.o.', ' (634 m)']   \n",
       "\n",
       "                                       Večerka  \\\n",
       "0           ['Albert Supermarket', ' (451 m)']   \n",
       "1               ['Shalamar Foods', ' (165 m)']   \n",
       "2                 ['Penny Market', ' (183 m)']   \n",
       "3  ['Smíšené zboží Plzeňská\\t187', ' (404 m)']   \n",
       "4      ['VIVACOMEX, spol. s r.o.', ' (450 m)']   \n",
       "\n",
       "                                   Vlak Vlastnictví Vybavení  \\\n",
       "0           ['Praha-Kyje', ' (1445 m)']  ['Osobní']      NaN   \n",
       "1  ['Praha hlavní nádraží', ' (984 m)']  ['Osobní']      NaN   \n",
       "2       ['Praha-Čakovice', ' (1695 m)']  ['Osobní']      NaN   \n",
       "3        ['Praha-Cibulka', ' (1229 m)']  ['Osobní']      NaN   \n",
       "4            ['Praha-Krč', ' (3635 m)']  ['Osobní']      NaN   \n",
       "\n",
       "                Výtah                                              Škola  \\\n",
       "0                 NaN           ['ZUŠ Praha 9, Ratibořická', ' (234 m)']   \n",
       "1                 NaN  ['Gymnázium Karla Sladkovského Praha 3', ' (56...   \n",
       "2  [\"'boolean-true'\"]          ['Základní škola Fryčovická', ' (160 m)']   \n",
       "3                 NaN                     ['ZUŠ Na Popelce', ' (224 m)']   \n",
       "4  [\"'boolean-true'\"]  ['Střední odborné učiliště potravinářské Praha...   \n",
       "\n",
       "                                              Školka     cena  \n",
       "0   ['MŠ Sluníčko Praha 9 - Černý Most', ' (279 m)']  12000.0  \n",
       "1  ['ZŠ a MŠ Jaroslava Seiferta Praha 3', ' (243 ...   9500.0  \n",
       "2                      ['MŠ Havířovská', ' (255 m)']  13900.0  \n",
       "3       ['TROIS PETITES POMMES, s.r.o.', ' (343 m)']  15000.0  \n",
       "4           ['Mateřská škola Mezi Domy', ' (105 m)']  19500.0  \n",
       "\n",
       "[5 rows x 37 columns]"
      ]
     },
     "execution_count": 48,
     "metadata": {},
     "output_type": "execute_result"
    }
   ],
   "source": [
    "data[variable.index].head()"
   ]
  },
  {
   "cell_type": "code",
   "execution_count": 49,
   "metadata": {},
   "outputs": [],
   "source": [
    "data[variable.index].head().to_csv('dataview.csv', sep = ';')"
   ]
  },
  {
   "cell_type": "markdown",
   "metadata": {},
   "source": [
    "### b) Dealing with messy prices"
   ]
  },
  {
   "cell_type": "markdown",
   "metadata": {},
   "source": [
    "Before we can do the analysis, we need to deal with the complicated form of stated prices and obtain purely the monthly rent in CZK, without other specification (in other words, we need to extract integer out of the string values).\n",
    "\n",
    "In order to be able to suitably merge the resulting list of prices to the original dataset, it is neccessary to get rid of rows with empty prices values beforehand. Furthermore, during the analysis, we explored two error values in the dataset (tiny but with serious consequences): observation data.Price_total[984] has value of \"12 CZK\" which is nonsense and observation data.Price_total[6727] has value \"23 214 CZK (850 EUR)\" which cases troubles in the analysis and we need to get rid of both of these errors beforehand."
   ]
  },
  {
   "cell_type": "code",
   "execution_count": 51,
   "metadata": {},
   "outputs": [],
   "source": [
    "# data.dropna(subset = ['Price_total'], inplace=True)\n",
    "# new_data = data.drop([984,6727]).reset_index(drop=True)\n",
    "\n",
    "##by inspecting \"new_data.info()\" we can confirm that the maximum number of observations for any variable is 7645, \n",
    "##which is exactly the number of non-empty observations of 'Price_total' \n",
    "\n",
    "##Taking the available 'Price_total' data\n",
    "#Price_orig = new_data.Price_total\n",
    "#a= np.array(Price_orig)\n",
    "#print(a)"
   ]
  },
  {
   "cell_type": "code",
   "execution_count": 52,
   "metadata": {},
   "outputs": [],
   "source": [
    "##Converting them into a list of strings and subsequently a string\n",
    "#a_str_prep = [str(i) for i in a]\n",
    "#a_string = \",\".join(a_str_prep)\n",
    "#print(a_string)"
   ]
  },
  {
   "cell_type": "code",
   "execution_count": 53,
   "metadata": {},
   "outputs": [],
   "source": [
    "##Extracting all numerical characters out of the a_string\n",
    "#temp = re.findall(r'\\d+', a_string) \n",
    "#res = list(map(int, temp))\n",
    "#print(res)"
   ]
  },
  {
   "cell_type": "markdown",
   "metadata": {},
   "source": [
    "After exploration of the res' output we can see that the goal now is to merge every two elements together in order to obtain the stated price. There is also an obvious issue that Python takes values '000' as '=0', and we get to this soon."
   ]
  },
  {
   "cell_type": "code",
   "execution_count": 54,
   "metadata": {},
   "outputs": [],
   "source": [
    "#res_str = [str(i) for i in res]\n",
    "\n",
    "#Q = []\n",
    "#for k in range(0,7645):\n",
    "#    joined = res_str[0+2*k]+res_str[1+2*k]\n",
    "#    Q.append(joined)\n",
    "#    print(joined)"
   ]
  },
  {
   "cell_type": "markdown",
   "metadata": {},
   "source": [
    "After inspecting the output of the Q list, we can conclude that it seems to work well, except the issue with nulls. We solve this by using the for loop method in combination with \"if statement\". The logic is to take every observation that apparently \"misses two nulls\" (i.e. its value is <1000) and \"add these nulls\" by multiplying the value by 100. Afterwards, everything seems to be just fine..."
   ]
  },
  {
   "cell_type": "code",
   "execution_count": 55,
   "metadata": {},
   "outputs": [],
   "source": [
    "#Q = [float(i) for i in Q]"
   ]
  },
  {
   "cell_type": "code",
   "execution_count": 56,
   "metadata": {},
   "outputs": [],
   "source": [
    "#prices = []\n",
    "\n",
    "#for price in Q:\n",
    "#    if price <1000:\n",
    "#       x = price*100\n",
    "#       prices.append(x)\n",
    "        \n",
    "#    else:\n",
    "#        y = price\n",
    "#        prices.append(y)\n",
    "    \n",
    "#print(prices)"
   ]
  },
  {
   "cell_type": "markdown",
   "metadata": {},
   "source": [
    "# Alternative solution"
   ]
  },
  {
   "cell_type": "code",
   "execution_count": 11,
   "metadata": {},
   "outputs": [],
   "source": [
    "import re"
   ]
  },
  {
   "cell_type": "code",
   "execution_count": 12,
   "metadata": {},
   "outputs": [],
   "source": [
    "def extractor(inp):\n",
    "    try:\n",
    "        result = int(re.sub(\"[^0-9]\", \"\",inp))\n",
    "    except:\n",
    "        result = None\n",
    "    return result"
   ]
  },
  {
   "cell_type": "code",
   "execution_count": 59,
   "metadata": {},
   "outputs": [],
   "source": [
    "data['cena'] = data['Price_total'].apply(extractor)"
   ]
  },
  {
   "cell_type": "code",
   "execution_count": 60,
   "metadata": {
    "scrolled": false
   },
   "outputs": [
    {
     "name": "stdout",
     "output_type": "stream",
     "text": [
      "0       12000.0\n",
      "1        9500.0\n",
      "2       13900.0\n",
      "3       15000.0\n",
      "4       19500.0\n",
      "         ...   \n",
      "7873    35000.0\n",
      "7874    33000.0\n",
      "7875    55000.0\n",
      "7876    75000.0\n",
      "7877    35000.0\n",
      "Name: cena, Length: 7878, dtype: float64\n"
     ]
    }
   ],
   "source": [
    "print(data.cena)"
   ]
  },
  {
   "cell_type": "markdown",
   "metadata": {},
   "source": [
    "We spot faulty values in top 51 result with the EUR information included."
   ]
  },
  {
   "cell_type": "code",
   "execution_count": 61,
   "metadata": {},
   "outputs": [
    {
     "data": {
      "text/plain": [
       "5533    1.269925e+09\n",
       "3993    1.269925e+09\n",
       "7549    1.031504e+09\n",
       "2476    1.031234e+09\n",
       "7526    1.022494e+09\n",
       "7491    1.011024e+09\n",
       "3774    9.913636e+08\n",
       "7545    9.771636e+08\n",
       "7054    9.770736e+08\n",
       "2471    9.768836e+08\n",
       "5466    9.585935e+08\n",
       "7681    9.558535e+08\n",
       "7544    9.553135e+08\n",
       "4024    9.553135e+08\n",
       "7499    9.359234e+08\n",
       "7203    8.247730e+08\n",
       "7047    8.193030e+08\n",
       "7516    7.813429e+08\n",
       "7051    7.641428e+08\n",
       "7592    7.595028e+08\n",
       "3779    7.592228e+08\n",
       "7071    7.439327e+08\n",
       "5524    7.051526e+08\n",
       "3828    7.051526e+08\n",
       "3419    7.048826e+08\n",
       "7070    6.909525e+08\n",
       "3775    6.505324e+08\n",
       "7108    6.505324e+08\n",
       "7543    6.505324e+08\n",
       "7073    6.374223e+08\n",
       "3424    6.374223e+08\n",
       "7546    6.289523e+08\n",
       "7072    6.289023e+08\n",
       "4336    6.286823e+08\n",
       "7504    6.073822e+08\n",
       "3831    5.961822e+08\n",
       "7283    5.527620e+08\n",
       "7300    5.202619e+08\n",
       "7077    5.202619e+08\n",
       "7505    5.027818e+08\n",
       "3262    4.768417e+08\n",
       "7689    4.096515e+08\n",
       "2690    4.096515e+08\n",
       "6456    3.786414e+08\n",
       "7101    3.785214e+08\n",
       "7059    3.708714e+08\n",
       "7370    3.678713e+08\n",
       "7069    2.965911e+08\n",
       "7311    2.941311e+08\n",
       "6727    2.321485e+07\n",
       "Name: cena, dtype: float64"
      ]
     },
     "execution_count": 61,
     "metadata": {},
     "output_type": "execute_result"
    }
   ],
   "source": [
    "data['cena'].sort_values(ascending = False)[1:51]"
   ]
  },
  {
   "cell_type": "code",
   "execution_count": 62,
   "metadata": {},
   "outputs": [],
   "source": [
    "fal_indx = data['cena'].sort_values(ascending = False)[1:51].index #we gather indexes\n",
    "spec = 6727 # it is a special index because has 3 digit number in EUR, all other 4 "
   ]
  },
  {
   "cell_type": "code",
   "execution_count": 63,
   "metadata": {},
   "outputs": [],
   "source": [
    "#let us write a function to handle these exceptions\n",
    "def remove_4(index):\n",
    "    #global fal_indx\n",
    "    #global spec\n",
    "    \n",
    "    def rem_4(inp, n = -6):\n",
    "        strin = str(data['cena'][inp])\n",
    "        return(int(strin[:n]))\n",
    "    \n",
    "    if index in fal_indx:\n",
    "        if index == spec:\n",
    "            data['cena'][index] = rem_4(index, -5)\n",
    "        else:\n",
    "            data['cena'][index] = rem_4(index)"
   ]
  },
  {
   "cell_type": "code",
   "execution_count": 64,
   "metadata": {
    "collapsed": true
   },
   "outputs": [
    {
     "name": "stderr",
     "output_type": "stream",
     "text": [
      "/Users/marketamala/opt/anaconda3/lib/python3.7/site-packages/ipykernel_launcher.py:14: SettingWithCopyWarning: \n",
      "A value is trying to be set on a copy of a slice from a DataFrame\n",
      "\n",
      "See the caveats in the documentation: https://pandas.pydata.org/pandas-docs/stable/user_guide/indexing.html#returning-a-view-versus-a-copy\n",
      "  \n",
      "/Users/marketamala/opt/anaconda3/lib/python3.7/site-packages/ipykernel_launcher.py:12: SettingWithCopyWarning: \n",
      "A value is trying to be set on a copy of a slice from a DataFrame\n",
      "\n",
      "See the caveats in the documentation: https://pandas.pydata.org/pandas-docs/stable/user_guide/indexing.html#returning-a-view-versus-a-copy\n",
      "  if sys.path[0] == '':\n"
     ]
    },
    {
     "data": {
      "text/plain": [
       "Index([None, None, None, None, None, None, None, None, None, None,\n",
       "       ...\n",
       "       None, None, None, None, None, None, None, None, None, None],\n",
       "      dtype='object', length=7878)"
      ]
     },
     "execution_count": 64,
     "metadata": {},
     "output_type": "execute_result"
    }
   ],
   "source": [
    "data.index.map(remove_4) #Despite the error, it does what we wanted "
   ]
  },
  {
   "cell_type": "markdown",
   "metadata": {},
   "source": [
    "Test:"
   ]
  },
  {
   "cell_type": "code",
   "execution_count": 65,
   "metadata": {},
   "outputs": [
    {
     "data": {
      "text/plain": [
       "126992.0"
      ]
     },
     "execution_count": 65,
     "metadata": {},
     "output_type": "execute_result"
    }
   ],
   "source": [
    "data['cena'][3993]"
   ]
  },
  {
   "cell_type": "code",
   "execution_count": 66,
   "metadata": {},
   "outputs": [
    {
     "data": {
      "text/plain": [
       "\"['126 992 Kč (4 650 EUR) za měsíc, bez poplatků']\""
      ]
     },
     "execution_count": 66,
     "metadata": {},
     "output_type": "execute_result"
    }
   ],
   "source": [
    "data['Price_total'][3993]"
   ]
  },
  {
   "cell_type": "markdown",
   "metadata": {},
   "source": [
    "Histograms for price"
   ]
  },
  {
   "cell_type": "code",
   "execution_count": 67,
   "metadata": {},
   "outputs": [],
   "source": [
    "%matplotlib inline\n",
    "import matplotlib.pyplot as plt\n",
    "plt.style.use('seaborn-whitegrid')"
   ]
  },
  {
   "cell_type": "code",
   "execution_count": 32,
   "metadata": {},
   "outputs": [
    {
     "data": {
      "text/plain": [
       "(array([  11,  427, 2216, 1904,  967,  667, 1453]),\n",
       " array([        0,      5000,     10000,     15000,     20000,     25000,\n",
       "            30000, 100000000]))"
      ]
     },
     "execution_count": 32,
     "metadata": {},
     "output_type": "execute_result"
    }
   ],
   "source": [
    "np.histogram(data['cena'], bins = [0,5000,10000,15000,20000,25000,30000, 100000000])"
   ]
  },
  {
   "cell_type": "code",
   "execution_count": 33,
   "metadata": {},
   "outputs": [
    {
     "data": {
      "image/png": "[encoded data removed]",
      "text/plain": [
       "<Figure size 432x288 with 1 Axes>"
      ]
     },
     "metadata": {},
     "output_type": "display_data"
    }
   ],
   "source": [
    "plt.hist(data['cena'], np.arange(100000, step = 5000))\n",
    "plt.show()"
   ]
  },
  {
   "cell_type": "code",
   "execution_count": 34,
   "metadata": {},
   "outputs": [
    {
     "data": {
      "image/png": "[encoded data removed]",
      "text/plain": [
       "<Figure size 432x288 with 1 Axes>"
      ]
     },
     "metadata": {},
     "output_type": "display_data"
    }
   ],
   "source": [
    "plt.hist(data['cena'], np.arange(40000,100000, step = 5000))\n",
    "plt.show()"
   ]
  },
  {
   "cell_type": "code",
   "execution_count": 35,
   "metadata": {},
   "outputs": [
    {
     "data": {
      "image/png": "[encoded data removed]",
      "text/plain": [
       "<Figure size 432x288 with 1 Axes>"
      ]
     },
     "metadata": {},
     "output_type": "display_data"
    }
   ],
   "source": [
    "plt.hist(data['cena'], np.arange(100000,200000, step = 5000))\n",
    "plt.show()"
   ]
  },
  {
   "cell_type": "markdown",
   "metadata": {},
   "source": [
    "## III. Main indicators of price (number of rooms, area size, condition of object)\n",
    "\n",
    "First of all, we focus at the most usual drivers of rents' prices and analyse their relationships. \n",
    "\n",
    "#regrese (covariances), point plot \n",
    "#title ma pocet mistnosti\n",
    "#lisi se podlahova a uzita plocha\n",
    "#condition"
   ]
  },
  {
   "cell_type": "markdown",
   "metadata": {},
   "source": [
    "## IV. Price and adress"
   ]
  },
  {
   "cell_type": "code",
   "execution_count": 48,
   "metadata": {},
   "outputs": [],
   "source": [
    "#různé části prahy - histogram\n",
    "#regrese, point plot \n",
    "#cena - to budu muset nějak vyfiltrovat z toho dlouhého popisku"
   ]
  },
  {
   "cell_type": "markdown",
   "metadata": {},
   "source": [
    "## V. Energy demans and adress"
   ]
  },
  {
   "cell_type": "code",
   "execution_count": 49,
   "metadata": {},
   "outputs": [],
   "source": [
    "#regrese, point plot (jsou lokace se energetickou narocnosti shlukovane?)"
   ]
  },
  {
   "cell_type": "markdown",
   "metadata": {},
   "source": [
    "## VI. Price and metro"
   ]
  },
  {
   "cell_type": "code",
   "execution_count": null,
   "metadata": {},
   "outputs": [],
   "source": [
    "#regrese, point plot \n",
    "#vlak bude fungovat podobně (přidat srovnání, jak by to vyšlo, kdybychom uvažovali 'Metro' OR 'Vlak')"
   ]
  },
  {
   "cell_type": "markdown",
   "metadata": {},
   "source": [
    "## VII. Metro localization"
   ]
  },
  {
   "cell_type": "markdown",
   "metadata": {},
   "source": [
    "#dokazeme urcit pozici metra pouze s techto dat pomoci kruznic a pruseciku\n",
    "#How can we get a Prague map in geopandas\n",
    "#Understand wheater we can plot address with geopandas (if not, we have to use google maps api to convert address to coordinates)"
   ]
  },
  {
   "cell_type": "markdown",
   "metadata": {},
   "source": [
    "## Some remarks at the end "
   ]
  },
  {
   "cell_type": "markdown",
   "metadata": {},
   "source": [
    "- Zmínit koronavirus a to jak ovlivňuje ceny nemovitostí (takže normálně by ceny bytů v centru byly dražší - pro srovnání můžeme jen jednoduše nakopírovat pár historických cen). => ubjektivní pohled potvrzují i data Bezrealitky.cz, které od poloviny března zaznamenaly výrazně vyšší nárůst u pražských bytů zařazovaných do nabídky. Zatímco v hlavním městě jich bylo aktivovaných v nabídce 1 544, během března (k 27. 3.) již 2 183. To je nárůst o 41 procent."
   ]
  }
 ],
 "metadata": {
  "kernelspec": {
   "display_name": "Python 3",
   "language": "python",
   "name": "python3"
  },
  "language_info": {
   "codemirror_mode": {
    "name": "ipython",
    "version": 3
   },
   "file_extension": ".py",
   "mimetype": "text/x-python",
   "name": "python",
   "nbconvert_exporter": "python",
   "pygments_lexer": "ipython3",
   "version": "3.7.4"
  },
  "widgets": {
   "application/vnd.jupyter.widget-state+json": {
    "state": {},
    "version_major": 2,
    "version_minor": 0
   }
  }
 },
 "nbformat": 4,
 "nbformat_minor": 2
}
