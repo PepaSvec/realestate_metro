{
 "cells": [
  {
   "cell_type": "markdown",
   "metadata": {},
   "source": [
    "# Data visualizations\n",
    "\n",
    "This last part of the project consists of two major parts: (A) usual analyses and visualization, and (B) spatial analysis using geopandas. In (A) we analyse various core but also minor (yet interesting) aspects. In (B) we visualize on the map of Prague districts the intensity of rents supplied but also average prices per each district. Our goal was not to dive into one narrow path analysing a single aspect, our goal is to provide a broad range of possible approaches and method when analysing data from sReality. If interested, variety of the analysed variables can be easily replaced by variables of a reader's interest - our code provide solid tools to do that."
   ]
  },
  {
   "cell_type": "code",
   "execution_count": 227,
   "metadata": {},
   "outputs": [],
   "source": [
    "import pandas as pd\n",
    "import numpy as np"
   ]
  },
  {
   "cell_type": "code",
   "execution_count": 228,
   "metadata": {},
   "outputs": [],
   "source": [
    "data1 = pd.read_csv('clean_data.csv', sep=';',index_col = [0])"
   ]
  },
  {
   "cell_type": "code",
   "execution_count": 229,
   "metadata": {},
   "outputs": [],
   "source": [
    "%matplotlib inline\n",
    "import matplotlib.pyplot as plt\n",
    "plt.style.use('seaborn-whitegrid')"
   ]
  },
  {
   "cell_type": "code",
   "execution_count": 230,
   "metadata": {},
   "outputs": [],
   "source": [
    "import import_ipynb # %pip install import_ipynb"
   ]
  },
  {
   "cell_type": "code",
   "execution_count": 231,
   "metadata": {},
   "outputs": [],
   "source": [
    "# we want to use one function from previous jupyter so we import it with package import_ipynb\n",
    "from data_understanding_and_processing import group_exm "
   ]
  },
  {
   "cell_type": "markdown",
   "metadata": {},
   "source": [
    "# A) Usual analyses and visualizations"
   ]
  },
  {
   "cell_type": "markdown",
   "metadata": {},
   "source": [
    "In this section we pick couple of variable and visualise their relationships. We focused on variaty in visualisation technics rather than deep understanding of relationships in our data"
   ]
  },
  {
   "cell_type": "markdown",
   "metadata": {},
   "source": [
    "## Prices inspection"
   ]
  },
  {
   "cell_type": "code",
   "execution_count": 232,
   "metadata": {},
   "outputs": [
    {
     "data": {
      "text/plain": [
       "count      7646.000000\n",
       "mean      22432.486529\n",
       "std       16053.091726\n",
       "min          12.000000\n",
       "25%       13500.000000\n",
       "50%       17500.000000\n",
       "75%       25000.000000\n",
       "max      240000.000000\n",
       "Name: Cena, dtype: float64"
      ]
     },
     "execution_count": 232,
     "metadata": {},
     "output_type": "execute_result"
    }
   ],
   "source": [
    "data1['Cena'].describe() #quick look at the dispertion of prices"
   ]
  },
  {
   "cell_type": "code",
   "execution_count": 233,
   "metadata": {},
   "outputs": [
    {
     "data": {
      "image/png": "[encoded data removed]",
      "text/plain": [
       "<Figure size 432x288 with 1 Axes>"
      ]
     },
     "metadata": {},
     "output_type": "display_data"
    }
   ],
   "source": [
    "#histogram\n",
    "np.histogram(data1['Cena'], bins = [0,5000,10000,15000,20000,25000,30000, 100000000])\n",
    "plt.hist(data1['Cena'], np.arange(0,100000, step = 5000), width = 4000)\n",
    "plt.xlabel('Total price of a flat')\n",
    "plt.ylabel('Number of flats')\n",
    "plt.show()"
   ]
  },
  {
   "cell_type": "markdown",
   "metadata": {},
   "source": [
    "We can observe that most data points fall into range between 5 000 and 25 000 czk per month with the distribution being skewed to the right. "
   ]
  },
  {
   "cell_type": "code",
   "execution_count": 234,
   "metadata": {},
   "outputs": [
    {
     "data": {
      "text/html": [
       "<div>\n",
       "<style scoped>\n",
       "    .dataframe tbody tr th:only-of-type {\n",
       "        vertical-align: middle;\n",
       "    }\n",
       "\n",
       "    .dataframe tbody tr th {\n",
       "        vertical-align: top;\n",
       "    }\n",
       "\n",
       "    .dataframe thead th {\n",
       "        text-align: right;\n",
       "    }\n",
       "</style>\n",
       "<table border=\"1\" class=\"dataframe\">\n",
       "  <thead>\n",
       "    <tr style=\"text-align: right;\">\n",
       "      <th></th>\n",
       "      <th>Adresa</th>\n",
       "      <th>Aktualizace</th>\n",
       "      <th>Cena</th>\n",
       "      <th>Price_total</th>\n",
       "      <th>ID_zakázky:</th>\n",
       "      <th>Plocha_podlahová</th>\n",
       "      <th>Podlaží</th>\n",
       "      <th>Podlaží_č</th>\n",
       "      <th>Poznámka_k_ceně</th>\n",
       "      <th>Stav_objektu</th>\n",
       "      <th>...</th>\n",
       "      <th>Vlak_dist</th>\n",
       "      <th>Škola_name</th>\n",
       "      <th>Škola_dist</th>\n",
       "      <th>Školka_name</th>\n",
       "      <th>Školka_dist</th>\n",
       "      <th>Energy_class</th>\n",
       "      <th>Adress_clean</th>\n",
       "      <th>location</th>\n",
       "      <th>Cena_cat</th>\n",
       "      <th>Cena_cat2</th>\n",
       "    </tr>\n",
       "  </thead>\n",
       "  <tbody>\n",
       "    <tr>\n",
       "      <td>0</td>\n",
       "      <td>Dobrovolného, Praha 9 - Černý Most Panorama</td>\n",
       "      <td>Dnes</td>\n",
       "      <td>12000.0</td>\n",
       "      <td>12 000 Kč za měsíc</td>\n",
       "      <td>N05462</td>\n",
       "      <td>26.0</td>\n",
       "      <td>1. podlaží z celkem 5</td>\n",
       "      <td>1</td>\n",
       "      <td>+ 2.500,-Kč poplatky, elektřina, provize RK</td>\n",
       "      <td>Novostavba</td>\n",
       "      <td>...</td>\n",
       "      <td>1445.0</td>\n",
       "      <td>ZUŠ Praha 9, Ratibořická</td>\n",
       "      <td>234.0</td>\n",
       "      <td>MŠ Sluníčko Praha 9 - Černý Most</td>\n",
       "      <td>279.0</td>\n",
       "      <td>G</td>\n",
       "      <td>Dobrovolného, Praha 9</td>\n",
       "      <td>(50.1017892, 14.5615725)</td>\n",
       "      <td>(10000, 20000]</td>\n",
       "      <td>(11500.0, 12500.0]</td>\n",
       "    </tr>\n",
       "    <tr>\n",
       "      <td>1</td>\n",
       "      <td>Bořivojova, Praha 3 - Žižkov Panorama</td>\n",
       "      <td>Dnes</td>\n",
       "      <td>9500.0</td>\n",
       "      <td>9 500 Kč za nemovitost, + provize RK</td>\n",
       "      <td>57/4562</td>\n",
       "      <td>23.0</td>\n",
       "      <td>5. podlaží z celkem 4</td>\n",
       "      <td>5</td>\n",
       "      <td>plus poplatky, 500</td>\n",
       "      <td>Dobrý</td>\n",
       "      <td>...</td>\n",
       "      <td>984.0</td>\n",
       "      <td>Gymnázium Karla Sladkovského Praha 3</td>\n",
       "      <td>56.0</td>\n",
       "      <td>ZŠ a MŠ Jaroslava Seiferta Praha 3</td>\n",
       "      <td>243.0</td>\n",
       "      <td>G</td>\n",
       "      <td>Bořivojova, Praha 3</td>\n",
       "      <td>(50.0821429, 14.4537291)</td>\n",
       "      <td>(0, 10000]</td>\n",
       "      <td>(11.999, 10000.0]</td>\n",
       "    </tr>\n",
       "    <tr>\n",
       "      <td>2</td>\n",
       "      <td>Tupolevova, Praha 9 - Letňany Panorama</td>\n",
       "      <td>Dnes</td>\n",
       "      <td>13900.0</td>\n",
       "      <td>13 900 Kč za měsíc</td>\n",
       "      <td>NaN</td>\n",
       "      <td>NaN</td>\n",
       "      <td>4. podlaží</td>\n",
       "      <td>4</td>\n",
       "      <td>NaN</td>\n",
       "      <td>Velmi dobrý</td>\n",
       "      <td>...</td>\n",
       "      <td>1695.0</td>\n",
       "      <td>Základní škola Fryčovická</td>\n",
       "      <td>160.0</td>\n",
       "      <td>MŠ Havířovská</td>\n",
       "      <td>255.0</td>\n",
       "      <td>NaN</td>\n",
       "      <td>Tupolevova, Praha 9</td>\n",
       "      <td>(50.1273975, 14.5148998)</td>\n",
       "      <td>(10000, 20000]</td>\n",
       "      <td>(13800.0, 14500.0]</td>\n",
       "    </tr>\n",
       "    <tr>\n",
       "      <td>3</td>\n",
       "      <td>Podbělohorská, Praha 5 - Smíchov Panorama</td>\n",
       "      <td>Dnes</td>\n",
       "      <td>15000.0</td>\n",
       "      <td>15 000 Kč za nemovitost, + provize RK</td>\n",
       "      <td>44/4562</td>\n",
       "      <td>58.0</td>\n",
       "      <td>2. podlaží z celkem 3</td>\n",
       "      <td>2</td>\n",
       "      <td>, 3500</td>\n",
       "      <td>Novostavba</td>\n",
       "      <td>...</td>\n",
       "      <td>1229.0</td>\n",
       "      <td>ZUŠ Na Popelce</td>\n",
       "      <td>224.0</td>\n",
       "      <td>TROIS PETITES POMMES, s.r.o.</td>\n",
       "      <td>343.0</td>\n",
       "      <td>B</td>\n",
       "      <td>Podbělohorská, Praha 5</td>\n",
       "      <td>(50.0732544, 14.3812666)</td>\n",
       "      <td>(10000, 20000]</td>\n",
       "      <td>(14500.0, 15250.0]</td>\n",
       "    </tr>\n",
       "    <tr>\n",
       "      <td>4</td>\n",
       "      <td>Mezi domy, Praha 4 - Písnice Panorama</td>\n",
       "      <td>Dnes</td>\n",
       "      <td>19500.0</td>\n",
       "      <td>19 500 Kč za měsíc</td>\n",
       "      <td>5702/2918</td>\n",
       "      <td>93.0</td>\n",
       "      <td>6. podlaží z celkem 6</td>\n",
       "      <td>6</td>\n",
       "      <td>Poplatky dle počtu osob</td>\n",
       "      <td>Po rekonstrukci</td>\n",
       "      <td>...</td>\n",
       "      <td>3635.0</td>\n",
       "      <td>Střední odborné učiliště potravinářské Praha 4</td>\n",
       "      <td>386.0</td>\n",
       "      <td>Mateřská škola Mezi Domy</td>\n",
       "      <td>105.0</td>\n",
       "      <td>D</td>\n",
       "      <td>Mezi domy, Praha 4</td>\n",
       "      <td>(50.0030025, 14.4615068)</td>\n",
       "      <td>(10000, 20000]</td>\n",
       "      <td>(18000.0, 20000.0]</td>\n",
       "    </tr>\n",
       "  </tbody>\n",
       "</table>\n",
       "<p>5 rows × 64 columns</p>\n",
       "</div>"
      ],
      "text/plain": [
       "                                        Adresa Aktualizace     Cena  \\\n",
       "0  Dobrovolného, Praha 9 - Černý Most Panorama        Dnes  12000.0   \n",
       "1        Bořivojova, Praha 3 - Žižkov Panorama        Dnes   9500.0   \n",
       "2       Tupolevova, Praha 9 - Letňany Panorama        Dnes  13900.0   \n",
       "3    Podbělohorská, Praha 5 - Smíchov Panorama        Dnes  15000.0   \n",
       "4        Mezi domy, Praha 4 - Písnice Panorama        Dnes  19500.0   \n",
       "\n",
       "                             Price_total ID_zakázky:  Plocha_podlahová  \\\n",
       "0                     12 000 Kč za měsíc      N05462              26.0   \n",
       "1   9 500 Kč za nemovitost, + provize RK     57/4562              23.0   \n",
       "2                     13 900 Kč za měsíc         NaN               NaN   \n",
       "3  15 000 Kč za nemovitost, + provize RK     44/4562              58.0   \n",
       "4                     19 500 Kč za měsíc   5702/2918              93.0   \n",
       "\n",
       "                 Podlaží  Podlaží_č  \\\n",
       "0  1. podlaží z celkem 5          1   \n",
       "1  5. podlaží z celkem 4          5   \n",
       "2             4. podlaží          4   \n",
       "3  2. podlaží z celkem 3          2   \n",
       "4  6. podlaží z celkem 6          6   \n",
       "\n",
       "                               Poznámka_k_ceně     Stav_objektu  ...  \\\n",
       "0  + 2.500,-Kč poplatky, elektřina, provize RK       Novostavba  ...   \n",
       "1                           plus poplatky, 500            Dobrý  ...   \n",
       "2                                          NaN      Velmi dobrý  ...   \n",
       "3                                       , 3500       Novostavba  ...   \n",
       "4                      Poplatky dle počtu osob  Po rekonstrukci  ...   \n",
       "\n",
       "  Vlak_dist                                      Škola_name Škola_dist  \\\n",
       "0    1445.0                        ZUŠ Praha 9, Ratibořická      234.0   \n",
       "1     984.0            Gymnázium Karla Sladkovského Praha 3       56.0   \n",
       "2    1695.0                       Základní škola Fryčovická      160.0   \n",
       "3    1229.0                                  ZUŠ Na Popelce      224.0   \n",
       "4    3635.0  Střední odborné učiliště potravinářské Praha 4      386.0   \n",
       "\n",
       "                          Školka_name Školka_dist Energy_class  \\\n",
       "0    MŠ Sluníčko Praha 9 - Černý Most       279.0            G   \n",
       "1  ZŠ a MŠ Jaroslava Seiferta Praha 3       243.0            G   \n",
       "2                       MŠ Havířovská       255.0          NaN   \n",
       "3        TROIS PETITES POMMES, s.r.o.       343.0            B   \n",
       "4            Mateřská škola Mezi Domy       105.0            D   \n",
       "\n",
       "              Adress_clean                  location        Cena_cat  \\\n",
       "0   Dobrovolného, Praha 9   (50.1017892, 14.5615725)  (10000, 20000]   \n",
       "1     Bořivojova, Praha 3   (50.0821429, 14.4537291)      (0, 10000]   \n",
       "2     Tupolevova, Praha 9   (50.1273975, 14.5148998)  (10000, 20000]   \n",
       "3  Podbělohorská, Praha 5   (50.0732544, 14.3812666)  (10000, 20000]   \n",
       "4      Mezi domy, Praha 4   (50.0030025, 14.4615068)  (10000, 20000]   \n",
       "\n",
       "            Cena_cat2  \n",
       "0  (11500.0, 12500.0]  \n",
       "1   (11.999, 10000.0]  \n",
       "2  (13800.0, 14500.0]  \n",
       "3  (14500.0, 15250.0]  \n",
       "4  (18000.0, 20000.0]  \n",
       "\n",
       "[5 rows x 64 columns]"
      ]
     },
     "execution_count": 234,
     "metadata": {},
     "output_type": "execute_result"
    }
   ],
   "source": [
    "#For further analysis, it will be useful to sort the rows into some categories...\n",
    "\n",
    "#This method groups data into price categories by 10.000 CZK:\n",
    "interval_range = pd.interval_range(start=0, freq=10000, end=200000)\n",
    "data1['Cena_cat'] = pd.cut(data1['Cena'], bins=interval_range)\n",
    "\n",
    "#This command groups data into 15 price categories such that each contains the same number of observations (~500):\n",
    "data1['Cena_cat2'] = pd.qcut(data1['Cena'], q=15) \n",
    "data1.head()"
   ]
  },
  {
   "cell_type": "code",
   "execution_count": 235,
   "metadata": {
    "scrolled": false
   },
   "outputs": [
    {
     "data": {
      "text/html": [
       "<div>\n",
       "<style scoped>\n",
       "    .dataframe tbody tr th:only-of-type {\n",
       "        vertical-align: middle;\n",
       "    }\n",
       "\n",
       "    .dataframe tbody tr th {\n",
       "        vertical-align: top;\n",
       "    }\n",
       "\n",
       "    .dataframe thead th {\n",
       "        text-align: right;\n",
       "    }\n",
       "</style>\n",
       "<table border=\"1\" class=\"dataframe\">\n",
       "  <thead>\n",
       "    <tr style=\"text-align: right;\">\n",
       "      <th></th>\n",
       "      <th>Area</th>\n",
       "      <th>Bankomat_dist</th>\n",
       "      <th>Bus_MHD_dist</th>\n",
       "      <th>Cena</th>\n",
       "      <th>Cukrárna_dist</th>\n",
       "      <th>Divadlo_dist</th>\n",
       "      <th>Hospoda_dist</th>\n",
       "      <th>Hřiště_dist</th>\n",
       "      <th>Kino_dist</th>\n",
       "      <th>Kulturní_památka_dist</th>\n",
       "      <th>...</th>\n",
       "      <th>Pošta_dist</th>\n",
       "      <th>Restaurace_dist</th>\n",
       "      <th>Sportoviště_dist</th>\n",
       "      <th>Tram_dist</th>\n",
       "      <th>Veterinář_dist</th>\n",
       "      <th>Večerka_dist</th>\n",
       "      <th>Vlak_dist</th>\n",
       "      <th>Výtah</th>\n",
       "      <th>Škola_dist</th>\n",
       "      <th>Školka_dist</th>\n",
       "    </tr>\n",
       "    <tr>\n",
       "      <th>Cena_cat</th>\n",
       "      <th></th>\n",
       "      <th></th>\n",
       "      <th></th>\n",
       "      <th></th>\n",
       "      <th></th>\n",
       "      <th></th>\n",
       "      <th></th>\n",
       "      <th></th>\n",
       "      <th></th>\n",
       "      <th></th>\n",
       "      <th></th>\n",
       "      <th></th>\n",
       "      <th></th>\n",
       "      <th></th>\n",
       "      <th></th>\n",
       "      <th></th>\n",
       "      <th></th>\n",
       "      <th></th>\n",
       "      <th></th>\n",
       "      <th></th>\n",
       "      <th></th>\n",
       "    </tr>\n",
       "  </thead>\n",
       "  <tbody>\n",
       "    <tr>\n",
       "      <td>(0, 10000]</td>\n",
       "      <td>28.870307</td>\n",
       "      <td>399.166372</td>\n",
       "      <td>215.298791</td>\n",
       "      <td>8839.356655</td>\n",
       "      <td>444.615929</td>\n",
       "      <td>1155.885510</td>\n",
       "      <td>761.511504</td>\n",
       "      <td>271.148532</td>\n",
       "      <td>1682.014337</td>\n",
       "      <td>1740.837113</td>\n",
       "      <td>...</td>\n",
       "      <td>595.293805</td>\n",
       "      <td>192.803540</td>\n",
       "      <td>537.094991</td>\n",
       "      <td>708.508897</td>\n",
       "      <td>627.555752</td>\n",
       "      <td>332.060177</td>\n",
       "      <td>1200.671280</td>\n",
       "      <td>0.689373</td>\n",
       "      <td>335.334513</td>\n",
       "      <td>308.302655</td>\n",
       "    </tr>\n",
       "    <tr>\n",
       "      <td>(10000, 20000]</td>\n",
       "      <td>53.515123</td>\n",
       "      <td>325.672547</td>\n",
       "      <td>220.125150</td>\n",
       "      <td>15078.733223</td>\n",
       "      <td>382.428323</td>\n",
       "      <td>924.450814</td>\n",
       "      <td>742.767702</td>\n",
       "      <td>257.086104</td>\n",
       "      <td>1489.401951</td>\n",
       "      <td>1681.566604</td>\n",
       "      <td>...</td>\n",
       "      <td>531.654907</td>\n",
       "      <td>178.344845</td>\n",
       "      <td>520.198517</td>\n",
       "      <td>605.326541</td>\n",
       "      <td>634.071304</td>\n",
       "      <td>305.582857</td>\n",
       "      <td>1179.535680</td>\n",
       "      <td>0.790030</td>\n",
       "      <td>270.068323</td>\n",
       "      <td>297.398758</td>\n",
       "    </tr>\n",
       "    <tr>\n",
       "      <td>(20000, 30000]</td>\n",
       "      <td>82.329530</td>\n",
       "      <td>290.192771</td>\n",
       "      <td>250.615228</td>\n",
       "      <td>24964.864430</td>\n",
       "      <td>314.345854</td>\n",
       "      <td>585.563430</td>\n",
       "      <td>708.350815</td>\n",
       "      <td>297.241168</td>\n",
       "      <td>1147.982232</td>\n",
       "      <td>1351.887719</td>\n",
       "      <td>...</td>\n",
       "      <td>504.589653</td>\n",
       "      <td>141.727853</td>\n",
       "      <td>537.815897</td>\n",
       "      <td>345.755297</td>\n",
       "      <td>594.063785</td>\n",
       "      <td>301.976612</td>\n",
       "      <td>1094.396599</td>\n",
       "      <td>0.839854</td>\n",
       "      <td>243.816442</td>\n",
       "      <td>278.330262</td>\n",
       "    </tr>\n",
       "    <tr>\n",
       "      <td>(30000, 40000]</td>\n",
       "      <td>105.426449</td>\n",
       "      <td>277.267296</td>\n",
       "      <td>272.696049</td>\n",
       "      <td>35530.838039</td>\n",
       "      <td>257.509434</td>\n",
       "      <td>420.735849</td>\n",
       "      <td>780.056604</td>\n",
       "      <td>318.828788</td>\n",
       "      <td>964.606299</td>\n",
       "      <td>1143.261002</td>\n",
       "      <td>...</td>\n",
       "      <td>471.361635</td>\n",
       "      <td>123.440252</td>\n",
       "      <td>604.551515</td>\n",
       "      <td>238.671733</td>\n",
       "      <td>601.119497</td>\n",
       "      <td>273.787736</td>\n",
       "      <td>1062.805471</td>\n",
       "      <td>0.899396</td>\n",
       "      <td>202.018868</td>\n",
       "      <td>256.948113</td>\n",
       "    </tr>\n",
       "    <tr>\n",
       "      <td>(40000, 50000]</td>\n",
       "      <td>130.420139</td>\n",
       "      <td>278.073077</td>\n",
       "      <td>256.303249</td>\n",
       "      <td>45758.656250</td>\n",
       "      <td>213.207692</td>\n",
       "      <td>409.888462</td>\n",
       "      <td>753.376923</td>\n",
       "      <td>335.808664</td>\n",
       "      <td>823.243243</td>\n",
       "      <td>992.690909</td>\n",
       "      <td>...</td>\n",
       "      <td>437.707692</td>\n",
       "      <td>121.630769</td>\n",
       "      <td>602.833935</td>\n",
       "      <td>259.068592</td>\n",
       "      <td>657.711538</td>\n",
       "      <td>327.611538</td>\n",
       "      <td>1081.054348</td>\n",
       "      <td>0.886139</td>\n",
       "      <td>169.642308</td>\n",
       "      <td>267.234615</td>\n",
       "    </tr>\n",
       "    <tr>\n",
       "      <td>(50000, 60000]</td>\n",
       "      <td>143.924242</td>\n",
       "      <td>187.180328</td>\n",
       "      <td>244.674419</td>\n",
       "      <td>55019.424242</td>\n",
       "      <td>146.614754</td>\n",
       "      <td>299.418033</td>\n",
       "      <td>697.557377</td>\n",
       "      <td>358.899225</td>\n",
       "      <td>699.098361</td>\n",
       "      <td>1141.511628</td>\n",
       "      <td>...</td>\n",
       "      <td>277.540984</td>\n",
       "      <td>89.377049</td>\n",
       "      <td>664.945736</td>\n",
       "      <td>191.658915</td>\n",
       "      <td>524.303279</td>\n",
       "      <td>266.163934</td>\n",
       "      <td>981.759690</td>\n",
       "      <td>0.925532</td>\n",
       "      <td>156.393443</td>\n",
       "      <td>232.704918</td>\n",
       "    </tr>\n",
       "    <tr>\n",
       "      <td>(60000, 70000]</td>\n",
       "      <td>170.453488</td>\n",
       "      <td>311.564103</td>\n",
       "      <td>359.600000</td>\n",
       "      <td>65770.918605</td>\n",
       "      <td>243.038462</td>\n",
       "      <td>501.205128</td>\n",
       "      <td>705.871795</td>\n",
       "      <td>267.670588</td>\n",
       "      <td>985.974359</td>\n",
       "      <td>1081.458824</td>\n",
       "      <td>...</td>\n",
       "      <td>548.564103</td>\n",
       "      <td>120.076923</td>\n",
       "      <td>548.188235</td>\n",
       "      <td>246.376471</td>\n",
       "      <td>515.358974</td>\n",
       "      <td>347.384615</td>\n",
       "      <td>1172.600000</td>\n",
       "      <td>0.935484</td>\n",
       "      <td>187.666667</td>\n",
       "      <td>261.666667</td>\n",
       "    </tr>\n",
       "    <tr>\n",
       "      <td>(70000, 80000]</td>\n",
       "      <td>176.357143</td>\n",
       "      <td>292.176471</td>\n",
       "      <td>328.277778</td>\n",
       "      <td>75154.482143</td>\n",
       "      <td>193.392157</td>\n",
       "      <td>369.705882</td>\n",
       "      <td>633.882353</td>\n",
       "      <td>271.055556</td>\n",
       "      <td>881.470588</td>\n",
       "      <td>1043.185185</td>\n",
       "      <td>...</td>\n",
       "      <td>346.058824</td>\n",
       "      <td>123.686275</td>\n",
       "      <td>604.425926</td>\n",
       "      <td>194.166667</td>\n",
       "      <td>695.058824</td>\n",
       "      <td>334.666667</td>\n",
       "      <td>1093.462963</td>\n",
       "      <td>0.944444</td>\n",
       "      <td>145.098039</td>\n",
       "      <td>314.215686</td>\n",
       "    </tr>\n",
       "    <tr>\n",
       "      <td>(80000, 90000]</td>\n",
       "      <td>196.742857</td>\n",
       "      <td>193.029412</td>\n",
       "      <td>304.257143</td>\n",
       "      <td>87095.914286</td>\n",
       "      <td>188.382353</td>\n",
       "      <td>448.647059</td>\n",
       "      <td>453.529412</td>\n",
       "      <td>334.828571</td>\n",
       "      <td>741.235294</td>\n",
       "      <td>847.771429</td>\n",
       "      <td>...</td>\n",
       "      <td>419.411765</td>\n",
       "      <td>141.382353</td>\n",
       "      <td>524.742857</td>\n",
       "      <td>171.971429</td>\n",
       "      <td>505.617647</td>\n",
       "      <td>404.705882</td>\n",
       "      <td>1098.571429</td>\n",
       "      <td>0.958333</td>\n",
       "      <td>160.470588</td>\n",
       "      <td>275.617647</td>\n",
       "    </tr>\n",
       "    <tr>\n",
       "      <td>(90000, 100000]</td>\n",
       "      <td>170.187500</td>\n",
       "      <td>356.187500</td>\n",
       "      <td>371.593750</td>\n",
       "      <td>97467.031250</td>\n",
       "      <td>340.656250</td>\n",
       "      <td>535.750000</td>\n",
       "      <td>660.031250</td>\n",
       "      <td>210.437500</td>\n",
       "      <td>1153.968750</td>\n",
       "      <td>1005.406250</td>\n",
       "      <td>...</td>\n",
       "      <td>454.750000</td>\n",
       "      <td>192.281250</td>\n",
       "      <td>576.750000</td>\n",
       "      <td>296.406250</td>\n",
       "      <td>627.125000</td>\n",
       "      <td>418.218750</td>\n",
       "      <td>1121.187500</td>\n",
       "      <td>1.000000</td>\n",
       "      <td>191.281250</td>\n",
       "      <td>242.437500</td>\n",
       "    </tr>\n",
       "    <tr>\n",
       "      <td>(100000, 110000]</td>\n",
       "      <td>167.111111</td>\n",
       "      <td>231.222222</td>\n",
       "      <td>439.666667</td>\n",
       "      <td>105069.333333</td>\n",
       "      <td>145.777778</td>\n",
       "      <td>453.555556</td>\n",
       "      <td>657.777778</td>\n",
       "      <td>256.666667</td>\n",
       "      <td>792.888889</td>\n",
       "      <td>1296.888889</td>\n",
       "      <td>...</td>\n",
       "      <td>229.111111</td>\n",
       "      <td>94.333333</td>\n",
       "      <td>614.666667</td>\n",
       "      <td>208.000000</td>\n",
       "      <td>528.888889</td>\n",
       "      <td>404.444444</td>\n",
       "      <td>1030.888889</td>\n",
       "      <td>1.000000</td>\n",
       "      <td>148.222222</td>\n",
       "      <td>271.333333</td>\n",
       "    </tr>\n",
       "    <tr>\n",
       "      <td>(110000, 120000]</td>\n",
       "      <td>188.000000</td>\n",
       "      <td>335.000000</td>\n",
       "      <td>447.428571</td>\n",
       "      <td>118900.000000</td>\n",
       "      <td>186.857143</td>\n",
       "      <td>602.142857</td>\n",
       "      <td>812.571429</td>\n",
       "      <td>177.571429</td>\n",
       "      <td>779.857143</td>\n",
       "      <td>1263.285714</td>\n",
       "      <td>...</td>\n",
       "      <td>305.000000</td>\n",
       "      <td>170.142857</td>\n",
       "      <td>495.428571</td>\n",
       "      <td>240.142857</td>\n",
       "      <td>495.857143</td>\n",
       "      <td>391.571429</td>\n",
       "      <td>1048.000000</td>\n",
       "      <td>1.000000</td>\n",
       "      <td>116.142857</td>\n",
       "      <td>225.857143</td>\n",
       "    </tr>\n",
       "    <tr>\n",
       "      <td>(120000, 130000]</td>\n",
       "      <td>232.714286</td>\n",
       "      <td>367.714286</td>\n",
       "      <td>224.571429</td>\n",
       "      <td>128827.857143</td>\n",
       "      <td>387.571429</td>\n",
       "      <td>469.142857</td>\n",
       "      <td>890.714286</td>\n",
       "      <td>342.285714</td>\n",
       "      <td>1432.571429</td>\n",
       "      <td>1116.857143</td>\n",
       "      <td>...</td>\n",
       "      <td>355.000000</td>\n",
       "      <td>205.428571</td>\n",
       "      <td>827.714286</td>\n",
       "      <td>345.428571</td>\n",
       "      <td>476.142857</td>\n",
       "      <td>363.142857</td>\n",
       "      <td>1179.857143</td>\n",
       "      <td>1.000000</td>\n",
       "      <td>212.000000</td>\n",
       "      <td>176.000000</td>\n",
       "    </tr>\n",
       "    <tr>\n",
       "      <td>(130000, 140000]</td>\n",
       "      <td>173.000000</td>\n",
       "      <td>187.000000</td>\n",
       "      <td>675.000000</td>\n",
       "      <td>139800.000000</td>\n",
       "      <td>162.000000</td>\n",
       "      <td>658.000000</td>\n",
       "      <td>744.000000</td>\n",
       "      <td>64.000000</td>\n",
       "      <td>773.000000</td>\n",
       "      <td>2006.000000</td>\n",
       "      <td>...</td>\n",
       "      <td>166.000000</td>\n",
       "      <td>174.000000</td>\n",
       "      <td>664.000000</td>\n",
       "      <td>161.000000</td>\n",
       "      <td>357.000000</td>\n",
       "      <td>303.000000</td>\n",
       "      <td>1075.000000</td>\n",
       "      <td>1.000000</td>\n",
       "      <td>100.000000</td>\n",
       "      <td>264.000000</td>\n",
       "    </tr>\n",
       "    <tr>\n",
       "      <td>(140000, 150000]</td>\n",
       "      <td>228.500000</td>\n",
       "      <td>191.500000</td>\n",
       "      <td>110.500000</td>\n",
       "      <td>146500.000000</td>\n",
       "      <td>82.000000</td>\n",
       "      <td>151.000000</td>\n",
       "      <td>410.000000</td>\n",
       "      <td>523.500000</td>\n",
       "      <td>986.500000</td>\n",
       "      <td>523.500000</td>\n",
       "      <td>...</td>\n",
       "      <td>230.500000</td>\n",
       "      <td>35.500000</td>\n",
       "      <td>663.000000</td>\n",
       "      <td>106.500000</td>\n",
       "      <td>798.000000</td>\n",
       "      <td>408.500000</td>\n",
       "      <td>1143.000000</td>\n",
       "      <td>1.000000</td>\n",
       "      <td>83.500000</td>\n",
       "      <td>279.500000</td>\n",
       "    </tr>\n",
       "    <tr>\n",
       "      <td>(150000, 160000]</td>\n",
       "      <td>435.000000</td>\n",
       "      <td>72.000000</td>\n",
       "      <td>108.000000</td>\n",
       "      <td>160000.000000</td>\n",
       "      <td>75.000000</td>\n",
       "      <td>69.000000</td>\n",
       "      <td>246.000000</td>\n",
       "      <td>574.000000</td>\n",
       "      <td>581.000000</td>\n",
       "      <td>270.000000</td>\n",
       "      <td>...</td>\n",
       "      <td>56.000000</td>\n",
       "      <td>24.000000</td>\n",
       "      <td>605.000000</td>\n",
       "      <td>128.000000</td>\n",
       "      <td>363.000000</td>\n",
       "      <td>624.000000</td>\n",
       "      <td>1201.000000</td>\n",
       "      <td>NaN</td>\n",
       "      <td>156.000000</td>\n",
       "      <td>308.000000</td>\n",
       "    </tr>\n",
       "    <tr>\n",
       "      <td>(170000, 180000]</td>\n",
       "      <td>309.500000</td>\n",
       "      <td>230.714286</td>\n",
       "      <td>172.250000</td>\n",
       "      <td>178750.000000</td>\n",
       "      <td>214.285714</td>\n",
       "      <td>242.714286</td>\n",
       "      <td>572.285714</td>\n",
       "      <td>487.375000</td>\n",
       "      <td>1163.571429</td>\n",
       "      <td>692.125000</td>\n",
       "      <td>...</td>\n",
       "      <td>308.000000</td>\n",
       "      <td>92.142857</td>\n",
       "      <td>508.250000</td>\n",
       "      <td>312.875000</td>\n",
       "      <td>487.000000</td>\n",
       "      <td>444.428571</td>\n",
       "      <td>1027.000000</td>\n",
       "      <td>1.000000</td>\n",
       "      <td>95.714286</td>\n",
       "      <td>133.285714</td>\n",
       "    </tr>\n",
       "    <tr>\n",
       "      <td>All</td>\n",
       "      <td>74.084848</td>\n",
       "      <td>296.815758</td>\n",
       "      <td>231.686667</td>\n",
       "      <td>22638.427879</td>\n",
       "      <td>328.117576</td>\n",
       "      <td>653.916364</td>\n",
       "      <td>740.147273</td>\n",
       "      <td>282.872121</td>\n",
       "      <td>1299.086667</td>\n",
       "      <td>1499.040606</td>\n",
       "      <td>...</td>\n",
       "      <td>475.580606</td>\n",
       "      <td>150.829697</td>\n",
       "      <td>512.164848</td>\n",
       "      <td>399.895758</td>\n",
       "      <td>591.350303</td>\n",
       "      <td>300.243030</td>\n",
       "      <td>1117.311515</td>\n",
       "      <td>0.792727</td>\n",
       "      <td>236.141818</td>\n",
       "      <td>275.701212</td>\n",
       "    </tr>\n",
       "  </tbody>\n",
       "</table>\n",
       "<p>18 rows × 26 columns</p>\n",
       "</div>"
      ],
      "text/plain": [
       "                        Area  Bankomat_dist  Bus_MHD_dist           Cena  \\\n",
       "Cena_cat                                                                   \n",
       "(0, 10000]         28.870307     399.166372    215.298791    8839.356655   \n",
       "(10000, 20000]     53.515123     325.672547    220.125150   15078.733223   \n",
       "(20000, 30000]     82.329530     290.192771    250.615228   24964.864430   \n",
       "(30000, 40000]    105.426449     277.267296    272.696049   35530.838039   \n",
       "(40000, 50000]    130.420139     278.073077    256.303249   45758.656250   \n",
       "(50000, 60000]    143.924242     187.180328    244.674419   55019.424242   \n",
       "(60000, 70000]    170.453488     311.564103    359.600000   65770.918605   \n",
       "(70000, 80000]    176.357143     292.176471    328.277778   75154.482143   \n",
       "(80000, 90000]    196.742857     193.029412    304.257143   87095.914286   \n",
       "(90000, 100000]   170.187500     356.187500    371.593750   97467.031250   \n",
       "(100000, 110000]  167.111111     231.222222    439.666667  105069.333333   \n",
       "(110000, 120000]  188.000000     335.000000    447.428571  118900.000000   \n",
       "(120000, 130000]  232.714286     367.714286    224.571429  128827.857143   \n",
       "(130000, 140000]  173.000000     187.000000    675.000000  139800.000000   \n",
       "(140000, 150000]  228.500000     191.500000    110.500000  146500.000000   \n",
       "(150000, 160000]  435.000000      72.000000    108.000000  160000.000000   \n",
       "(170000, 180000]  309.500000     230.714286    172.250000  178750.000000   \n",
       "All                74.084848     296.815758    231.686667   22638.427879   \n",
       "\n",
       "                  Cukrárna_dist  Divadlo_dist  Hospoda_dist  Hřiště_dist  \\\n",
       "Cena_cat                                                                   \n",
       "(0, 10000]           444.615929   1155.885510    761.511504   271.148532   \n",
       "(10000, 20000]       382.428323    924.450814    742.767702   257.086104   \n",
       "(20000, 30000]       314.345854    585.563430    708.350815   297.241168   \n",
       "(30000, 40000]       257.509434    420.735849    780.056604   318.828788   \n",
       "(40000, 50000]       213.207692    409.888462    753.376923   335.808664   \n",
       "(50000, 60000]       146.614754    299.418033    697.557377   358.899225   \n",
       "(60000, 70000]       243.038462    501.205128    705.871795   267.670588   \n",
       "(70000, 80000]       193.392157    369.705882    633.882353   271.055556   \n",
       "(80000, 90000]       188.382353    448.647059    453.529412   334.828571   \n",
       "(90000, 100000]      340.656250    535.750000    660.031250   210.437500   \n",
       "(100000, 110000]     145.777778    453.555556    657.777778   256.666667   \n",
       "(110000, 120000]     186.857143    602.142857    812.571429   177.571429   \n",
       "(120000, 130000]     387.571429    469.142857    890.714286   342.285714   \n",
       "(130000, 140000]     162.000000    658.000000    744.000000    64.000000   \n",
       "(140000, 150000]      82.000000    151.000000    410.000000   523.500000   \n",
       "(150000, 160000]      75.000000     69.000000    246.000000   574.000000   \n",
       "(170000, 180000]     214.285714    242.714286    572.285714   487.375000   \n",
       "All                  328.117576    653.916364    740.147273   282.872121   \n",
       "\n",
       "                    Kino_dist  Kulturní_památka_dist  ...  Pošta_dist  \\\n",
       "Cena_cat                                              ...               \n",
       "(0, 10000]        1682.014337            1740.837113  ...  595.293805   \n",
       "(10000, 20000]    1489.401951            1681.566604  ...  531.654907   \n",
       "(20000, 30000]    1147.982232            1351.887719  ...  504.589653   \n",
       "(30000, 40000]     964.606299            1143.261002  ...  471.361635   \n",
       "(40000, 50000]     823.243243             992.690909  ...  437.707692   \n",
       "(50000, 60000]     699.098361            1141.511628  ...  277.540984   \n",
       "(60000, 70000]     985.974359            1081.458824  ...  548.564103   \n",
       "(70000, 80000]     881.470588            1043.185185  ...  346.058824   \n",
       "(80000, 90000]     741.235294             847.771429  ...  419.411765   \n",
       "(90000, 100000]   1153.968750            1005.406250  ...  454.750000   \n",
       "(100000, 110000]   792.888889            1296.888889  ...  229.111111   \n",
       "(110000, 120000]   779.857143            1263.285714  ...  305.000000   \n",
       "(120000, 130000]  1432.571429            1116.857143  ...  355.000000   \n",
       "(130000, 140000]   773.000000            2006.000000  ...  166.000000   \n",
       "(140000, 150000]   986.500000             523.500000  ...  230.500000   \n",
       "(150000, 160000]   581.000000             270.000000  ...   56.000000   \n",
       "(170000, 180000]  1163.571429             692.125000  ...  308.000000   \n",
       "All               1299.086667            1499.040606  ...  475.580606   \n",
       "\n",
       "                  Restaurace_dist  Sportoviště_dist   Tram_dist  \\\n",
       "Cena_cat                                                          \n",
       "(0, 10000]             192.803540        537.094991  708.508897   \n",
       "(10000, 20000]         178.344845        520.198517  605.326541   \n",
       "(20000, 30000]         141.727853        537.815897  345.755297   \n",
       "(30000, 40000]         123.440252        604.551515  238.671733   \n",
       "(40000, 50000]         121.630769        602.833935  259.068592   \n",
       "(50000, 60000]          89.377049        664.945736  191.658915   \n",
       "(60000, 70000]         120.076923        548.188235  246.376471   \n",
       "(70000, 80000]         123.686275        604.425926  194.166667   \n",
       "(80000, 90000]         141.382353        524.742857  171.971429   \n",
       "(90000, 100000]        192.281250        576.750000  296.406250   \n",
       "(100000, 110000]        94.333333        614.666667  208.000000   \n",
       "(110000, 120000]       170.142857        495.428571  240.142857   \n",
       "(120000, 130000]       205.428571        827.714286  345.428571   \n",
       "(130000, 140000]       174.000000        664.000000  161.000000   \n",
       "(140000, 150000]        35.500000        663.000000  106.500000   \n",
       "(150000, 160000]        24.000000        605.000000  128.000000   \n",
       "(170000, 180000]        92.142857        508.250000  312.875000   \n",
       "All                    150.829697        512.164848  399.895758   \n",
       "\n",
       "                  Veterinář_dist  Večerka_dist    Vlak_dist     Výtah  \\\n",
       "Cena_cat                                                                \n",
       "(0, 10000]            627.555752    332.060177  1200.671280  0.689373   \n",
       "(10000, 20000]        634.071304    305.582857  1179.535680  0.790030   \n",
       "(20000, 30000]        594.063785    301.976612  1094.396599  0.839854   \n",
       "(30000, 40000]        601.119497    273.787736  1062.805471  0.899396   \n",
       "(40000, 50000]        657.711538    327.611538  1081.054348  0.886139   \n",
       "(50000, 60000]        524.303279    266.163934   981.759690  0.925532   \n",
       "(60000, 70000]        515.358974    347.384615  1172.600000  0.935484   \n",
       "(70000, 80000]        695.058824    334.666667  1093.462963  0.944444   \n",
       "(80000, 90000]        505.617647    404.705882  1098.571429  0.958333   \n",
       "(90000, 100000]       627.125000    418.218750  1121.187500  1.000000   \n",
       "(100000, 110000]      528.888889    404.444444  1030.888889  1.000000   \n",
       "(110000, 120000]      495.857143    391.571429  1048.000000  1.000000   \n",
       "(120000, 130000]      476.142857    363.142857  1179.857143  1.000000   \n",
       "(130000, 140000]      357.000000    303.000000  1075.000000  1.000000   \n",
       "(140000, 150000]      798.000000    408.500000  1143.000000  1.000000   \n",
       "(150000, 160000]      363.000000    624.000000  1201.000000       NaN   \n",
       "(170000, 180000]      487.000000    444.428571  1027.000000  1.000000   \n",
       "All                   591.350303    300.243030  1117.311515  0.792727   \n",
       "\n",
       "                  Škola_dist  Školka_dist  \n",
       "Cena_cat                                   \n",
       "(0, 10000]        335.334513   308.302655  \n",
       "(10000, 20000]    270.068323   297.398758  \n",
       "(20000, 30000]    243.816442   278.330262  \n",
       "(30000, 40000]    202.018868   256.948113  \n",
       "(40000, 50000]    169.642308   267.234615  \n",
       "(50000, 60000]    156.393443   232.704918  \n",
       "(60000, 70000]    187.666667   261.666667  \n",
       "(70000, 80000]    145.098039   314.215686  \n",
       "(80000, 90000]    160.470588   275.617647  \n",
       "(90000, 100000]   191.281250   242.437500  \n",
       "(100000, 110000]  148.222222   271.333333  \n",
       "(110000, 120000]  116.142857   225.857143  \n",
       "(120000, 130000]  212.000000   176.000000  \n",
       "(130000, 140000]  100.000000   264.000000  \n",
       "(140000, 150000]   83.500000   279.500000  \n",
       "(150000, 160000]  156.000000   308.000000  \n",
       "(170000, 180000]   95.714286   133.285714  \n",
       "All               236.141818   275.701212  \n",
       "\n",
       "[18 rows x 26 columns]"
      ]
     },
     "execution_count": 235,
     "metadata": {},
     "output_type": "execute_result"
    }
   ],
   "source": [
    "data1.pivot_table(index='Cena_cat', margins= True) #Pivot-table insight \n",
    "#(might be useful for inspection which variables worth closer attention in regards to their relationship to prices)"
   ]
  },
  {
   "cell_type": "markdown",
   "metadata": {},
   "source": [
    "## Condition of the flat"
   ]
  },
  {
   "cell_type": "code",
   "execution_count": 236,
   "metadata": {
    "scrolled": false
   },
   "outputs": [
    {
     "data": {
      "text/html": [
       "<div>\n",
       "<style scoped>\n",
       "    .dataframe tbody tr th:only-of-type {\n",
       "        vertical-align: middle;\n",
       "    }\n",
       "\n",
       "    .dataframe tbody tr th {\n",
       "        vertical-align: top;\n",
       "    }\n",
       "\n",
       "    .dataframe thead th {\n",
       "        text-align: right;\n",
       "    }\n",
       "</style>\n",
       "<table border=\"1\" class=\"dataframe\">\n",
       "  <thead>\n",
       "    <tr style=\"text-align: right;\">\n",
       "      <th></th>\n",
       "      <th>Area</th>\n",
       "      <th>Bankomat_dist</th>\n",
       "      <th>Bus_MHD_dist</th>\n",
       "      <th>Cena</th>\n",
       "      <th>Cukrárna_dist</th>\n",
       "      <th>Divadlo_dist</th>\n",
       "      <th>Hospoda_dist</th>\n",
       "      <th>Hřiště_dist</th>\n",
       "      <th>Kino_dist</th>\n",
       "      <th>Kulturní_památka_dist</th>\n",
       "      <th>...</th>\n",
       "      <th>Pošta_dist</th>\n",
       "      <th>Restaurace_dist</th>\n",
       "      <th>Sportoviště_dist</th>\n",
       "      <th>Tram_dist</th>\n",
       "      <th>Veterinář_dist</th>\n",
       "      <th>Večerka_dist</th>\n",
       "      <th>Vlak_dist</th>\n",
       "      <th>Výtah</th>\n",
       "      <th>Škola_dist</th>\n",
       "      <th>Školka_dist</th>\n",
       "    </tr>\n",
       "    <tr>\n",
       "      <th>Stav_objektu</th>\n",
       "      <th></th>\n",
       "      <th></th>\n",
       "      <th></th>\n",
       "      <th></th>\n",
       "      <th></th>\n",
       "      <th></th>\n",
       "      <th></th>\n",
       "      <th></th>\n",
       "      <th></th>\n",
       "      <th></th>\n",
       "      <th></th>\n",
       "      <th></th>\n",
       "      <th></th>\n",
       "      <th></th>\n",
       "      <th></th>\n",
       "      <th></th>\n",
       "      <th></th>\n",
       "      <th></th>\n",
       "      <th></th>\n",
       "      <th></th>\n",
       "      <th></th>\n",
       "    </tr>\n",
       "  </thead>\n",
       "  <tbody>\n",
       "    <tr>\n",
       "      <td>Dobrý</td>\n",
       "      <td>61.823810</td>\n",
       "      <td>317.267462</td>\n",
       "      <td>221.384117</td>\n",
       "      <td>18595.077815</td>\n",
       "      <td>347.074957</td>\n",
       "      <td>808.424915</td>\n",
       "      <td>710.989779</td>\n",
       "      <td>243.662885</td>\n",
       "      <td>1477.796902</td>\n",
       "      <td>1551.352113</td>\n",
       "      <td>...</td>\n",
       "      <td>528.451448</td>\n",
       "      <td>169.458262</td>\n",
       "      <td>528.411669</td>\n",
       "      <td>488.379705</td>\n",
       "      <td>576.894378</td>\n",
       "      <td>292.548552</td>\n",
       "      <td>1172.392220</td>\n",
       "      <td>0.662309</td>\n",
       "      <td>237.017036</td>\n",
       "      <td>266.761499</td>\n",
       "    </tr>\n",
       "    <tr>\n",
       "      <td>K demolici</td>\n",
       "      <td>83.000000</td>\n",
       "      <td>368.000000</td>\n",
       "      <td>243.000000</td>\n",
       "      <td>17000.000000</td>\n",
       "      <td>308.000000</td>\n",
       "      <td>1621.000000</td>\n",
       "      <td>2394.000000</td>\n",
       "      <td>45.000000</td>\n",
       "      <td>660.000000</td>\n",
       "      <td>2726.000000</td>\n",
       "      <td>...</td>\n",
       "      <td>590.000000</td>\n",
       "      <td>313.000000</td>\n",
       "      <td>220.000000</td>\n",
       "      <td>2313.000000</td>\n",
       "      <td>255.000000</td>\n",
       "      <td>136.000000</td>\n",
       "      <td>1131.000000</td>\n",
       "      <td>1.000000</td>\n",
       "      <td>282.000000</td>\n",
       "      <td>229.000000</td>\n",
       "    </tr>\n",
       "    <tr>\n",
       "      <td>Novostavba</td>\n",
       "      <td>66.218627</td>\n",
       "      <td>425.426216</td>\n",
       "      <td>234.901363</td>\n",
       "      <td>19837.180703</td>\n",
       "      <td>519.280297</td>\n",
       "      <td>1299.558626</td>\n",
       "      <td>927.388293</td>\n",
       "      <td>264.023237</td>\n",
       "      <td>1778.597176</td>\n",
       "      <td>1967.016569</td>\n",
       "      <td>...</td>\n",
       "      <td>640.251443</td>\n",
       "      <td>250.585326</td>\n",
       "      <td>521.393429</td>\n",
       "      <td>861.370675</td>\n",
       "      <td>779.061006</td>\n",
       "      <td>364.741138</td>\n",
       "      <td>1264.833601</td>\n",
       "      <td>0.951245</td>\n",
       "      <td>382.584501</td>\n",
       "      <td>368.178071</td>\n",
       "    </tr>\n",
       "    <tr>\n",
       "      <td>Po rekonstrukci</td>\n",
       "      <td>70.925551</td>\n",
       "      <td>281.458491</td>\n",
       "      <td>239.408816</td>\n",
       "      <td>23289.943210</td>\n",
       "      <td>283.322013</td>\n",
       "      <td>626.923222</td>\n",
       "      <td>681.575472</td>\n",
       "      <td>279.096618</td>\n",
       "      <td>1140.696338</td>\n",
       "      <td>1386.888036</td>\n",
       "      <td>...</td>\n",
       "      <td>479.045283</td>\n",
       "      <td>127.963522</td>\n",
       "      <td>540.746981</td>\n",
       "      <td>372.154033</td>\n",
       "      <td>565.318868</td>\n",
       "      <td>281.344654</td>\n",
       "      <td>1103.714804</td>\n",
       "      <td>0.827966</td>\n",
       "      <td>219.558491</td>\n",
       "      <td>265.804403</td>\n",
       "    </tr>\n",
       "    <tr>\n",
       "      <td>Projekt</td>\n",
       "      <td>53.500000</td>\n",
       "      <td>273.500000</td>\n",
       "      <td>261.000000</td>\n",
       "      <td>12925.000000</td>\n",
       "      <td>119.500000</td>\n",
       "      <td>1705.000000</td>\n",
       "      <td>1162.500000</td>\n",
       "      <td>177.000000</td>\n",
       "      <td>2913.500000</td>\n",
       "      <td>NaN</td>\n",
       "      <td>...</td>\n",
       "      <td>982.500000</td>\n",
       "      <td>177.000000</td>\n",
       "      <td>415.000000</td>\n",
       "      <td>1620.500000</td>\n",
       "      <td>895.000000</td>\n",
       "      <td>221.000000</td>\n",
       "      <td>1632.500000</td>\n",
       "      <td>1.000000</td>\n",
       "      <td>443.000000</td>\n",
       "      <td>473.500000</td>\n",
       "    </tr>\n",
       "    <tr>\n",
       "      <td>Před rekonstrukcí</td>\n",
       "      <td>92.727273</td>\n",
       "      <td>227.800000</td>\n",
       "      <td>141.545455</td>\n",
       "      <td>32772.727273</td>\n",
       "      <td>412.200000</td>\n",
       "      <td>1295.200000</td>\n",
       "      <td>531.600000</td>\n",
       "      <td>229.272727</td>\n",
       "      <td>1376.900000</td>\n",
       "      <td>1550.250000</td>\n",
       "      <td>...</td>\n",
       "      <td>540.900000</td>\n",
       "      <td>109.700000</td>\n",
       "      <td>423.636364</td>\n",
       "      <td>687.272727</td>\n",
       "      <td>552.300000</td>\n",
       "      <td>140.200000</td>\n",
       "      <td>1568.545455</td>\n",
       "      <td>0.750000</td>\n",
       "      <td>192.500000</td>\n",
       "      <td>134.300000</td>\n",
       "    </tr>\n",
       "    <tr>\n",
       "      <td>Ve výstavbě</td>\n",
       "      <td>55.000000</td>\n",
       "      <td>440.000000</td>\n",
       "      <td>52.000000</td>\n",
       "      <td>13990.000000</td>\n",
       "      <td>228.000000</td>\n",
       "      <td>1438.000000</td>\n",
       "      <td>1288.000000</td>\n",
       "      <td>272.000000</td>\n",
       "      <td>1138.000000</td>\n",
       "      <td>1563.000000</td>\n",
       "      <td>...</td>\n",
       "      <td>905.000000</td>\n",
       "      <td>243.000000</td>\n",
       "      <td>540.000000</td>\n",
       "      <td>56.000000</td>\n",
       "      <td>1830.000000</td>\n",
       "      <td>272.000000</td>\n",
       "      <td>468.000000</td>\n",
       "      <td>1.000000</td>\n",
       "      <td>254.000000</td>\n",
       "      <td>402.000000</td>\n",
       "    </tr>\n",
       "    <tr>\n",
       "      <td>Velmi dobrý</td>\n",
       "      <td>73.154187</td>\n",
       "      <td>297.016786</td>\n",
       "      <td>237.532338</td>\n",
       "      <td>23393.748805</td>\n",
       "      <td>322.266601</td>\n",
       "      <td>693.673687</td>\n",
       "      <td>705.373241</td>\n",
       "      <td>283.696568</td>\n",
       "      <td>1257.071429</td>\n",
       "      <td>1427.772129</td>\n",
       "      <td>...</td>\n",
       "      <td>489.484819</td>\n",
       "      <td>149.143175</td>\n",
       "      <td>548.099882</td>\n",
       "      <td>440.931644</td>\n",
       "      <td>598.342138</td>\n",
       "      <td>303.003950</td>\n",
       "      <td>1127.170657</td>\n",
       "      <td>0.788653</td>\n",
       "      <td>232.619600</td>\n",
       "      <td>276.646013</td>\n",
       "    </tr>\n",
       "    <tr>\n",
       "      <td>All</td>\n",
       "      <td>74.084848</td>\n",
       "      <td>296.815758</td>\n",
       "      <td>231.686667</td>\n",
       "      <td>22638.427879</td>\n",
       "      <td>328.117576</td>\n",
       "      <td>653.916364</td>\n",
       "      <td>740.147273</td>\n",
       "      <td>282.872121</td>\n",
       "      <td>1299.086667</td>\n",
       "      <td>1499.040606</td>\n",
       "      <td>...</td>\n",
       "      <td>475.580606</td>\n",
       "      <td>150.829697</td>\n",
       "      <td>512.164848</td>\n",
       "      <td>399.895758</td>\n",
       "      <td>591.350303</td>\n",
       "      <td>300.243030</td>\n",
       "      <td>1117.311515</td>\n",
       "      <td>0.792727</td>\n",
       "      <td>236.141818</td>\n",
       "      <td>275.701212</td>\n",
       "    </tr>\n",
       "  </tbody>\n",
       "</table>\n",
       "<p>9 rows × 26 columns</p>\n",
       "</div>"
      ],
      "text/plain": [
       "                        Area  Bankomat_dist  Bus_MHD_dist          Cena  \\\n",
       "Stav_objektu                                                              \n",
       "Dobrý              61.823810     317.267462    221.384117  18595.077815   \n",
       "K demolici         83.000000     368.000000    243.000000  17000.000000   \n",
       "Novostavba         66.218627     425.426216    234.901363  19837.180703   \n",
       "Po rekonstrukci    70.925551     281.458491    239.408816  23289.943210   \n",
       "Projekt            53.500000     273.500000    261.000000  12925.000000   \n",
       "Před rekonstrukcí  92.727273     227.800000    141.545455  32772.727273   \n",
       "Ve výstavbě        55.000000     440.000000     52.000000  13990.000000   \n",
       "Velmi dobrý        73.154187     297.016786    237.532338  23393.748805   \n",
       "All                74.084848     296.815758    231.686667  22638.427879   \n",
       "\n",
       "                   Cukrárna_dist  Divadlo_dist  Hospoda_dist  Hřiště_dist  \\\n",
       "Stav_objektu                                                                \n",
       "Dobrý                 347.074957    808.424915    710.989779   243.662885   \n",
       "K demolici            308.000000   1621.000000   2394.000000    45.000000   \n",
       "Novostavba            519.280297   1299.558626    927.388293   264.023237   \n",
       "Po rekonstrukci       283.322013    626.923222    681.575472   279.096618   \n",
       "Projekt               119.500000   1705.000000   1162.500000   177.000000   \n",
       "Před rekonstrukcí     412.200000   1295.200000    531.600000   229.272727   \n",
       "Ve výstavbě           228.000000   1438.000000   1288.000000   272.000000   \n",
       "Velmi dobrý           322.266601    693.673687    705.373241   283.696568   \n",
       "All                   328.117576    653.916364    740.147273   282.872121   \n",
       "\n",
       "                     Kino_dist  Kulturní_památka_dist  ...  Pošta_dist  \\\n",
       "Stav_objektu                                           ...               \n",
       "Dobrý              1477.796902            1551.352113  ...  528.451448   \n",
       "K demolici          660.000000            2726.000000  ...  590.000000   \n",
       "Novostavba         1778.597176            1967.016569  ...  640.251443   \n",
       "Po rekonstrukci    1140.696338            1386.888036  ...  479.045283   \n",
       "Projekt            2913.500000                    NaN  ...  982.500000   \n",
       "Před rekonstrukcí  1376.900000            1550.250000  ...  540.900000   \n",
       "Ve výstavbě        1138.000000            1563.000000  ...  905.000000   \n",
       "Velmi dobrý        1257.071429            1427.772129  ...  489.484819   \n",
       "All                1299.086667            1499.040606  ...  475.580606   \n",
       "\n",
       "                   Restaurace_dist  Sportoviště_dist    Tram_dist  \\\n",
       "Stav_objektu                                                        \n",
       "Dobrý                   169.458262        528.411669   488.379705   \n",
       "K demolici              313.000000        220.000000  2313.000000   \n",
       "Novostavba              250.585326        521.393429   861.370675   \n",
       "Po rekonstrukci         127.963522        540.746981   372.154033   \n",
       "Projekt                 177.000000        415.000000  1620.500000   \n",
       "Před rekonstrukcí       109.700000        423.636364   687.272727   \n",
       "Ve výstavbě             243.000000        540.000000    56.000000   \n",
       "Velmi dobrý             149.143175        548.099882   440.931644   \n",
       "All                     150.829697        512.164848   399.895758   \n",
       "\n",
       "                   Veterinář_dist  Večerka_dist    Vlak_dist     Výtah  \\\n",
       "Stav_objektu                                                             \n",
       "Dobrý                  576.894378    292.548552  1172.392220  0.662309   \n",
       "K demolici             255.000000    136.000000  1131.000000  1.000000   \n",
       "Novostavba             779.061006    364.741138  1264.833601  0.951245   \n",
       "Po rekonstrukci        565.318868    281.344654  1103.714804  0.827966   \n",
       "Projekt                895.000000    221.000000  1632.500000  1.000000   \n",
       "Před rekonstrukcí      552.300000    140.200000  1568.545455  0.750000   \n",
       "Ve výstavbě           1830.000000    272.000000   468.000000  1.000000   \n",
       "Velmi dobrý            598.342138    303.003950  1127.170657  0.788653   \n",
       "All                    591.350303    300.243030  1117.311515  0.792727   \n",
       "\n",
       "                   Škola_dist  Školka_dist  \n",
       "Stav_objektu                                \n",
       "Dobrý              237.017036   266.761499  \n",
       "K demolici         282.000000   229.000000  \n",
       "Novostavba         382.584501   368.178071  \n",
       "Po rekonstrukci    219.558491   265.804403  \n",
       "Projekt            443.000000   473.500000  \n",
       "Před rekonstrukcí  192.500000   134.300000  \n",
       "Ve výstavbě        254.000000   402.000000  \n",
       "Velmi dobrý        232.619600   276.646013  \n",
       "All                236.141818   275.701212  \n",
       "\n",
       "[9 rows x 26 columns]"
      ]
     },
     "execution_count": 236,
     "metadata": {},
     "output_type": "execute_result"
    }
   ],
   "source": [
    "data1.pivot_table(index='Stav_objektu', margins= True) \n",
    "#Naturally, we can expect - the better condition, the higher price. Let's confirm this hypothesis..."
   ]
  },
  {
   "cell_type": "code",
   "execution_count": 237,
   "metadata": {
    "scrolled": true
   },
   "outputs": [
    {
     "data": {
      "text/plain": [
       "\"\\nplt.pie(condition, \\n        labels=labels, \\n        autopct='%1.1f%%',\\n        colors=colors,\\n        shadow=True, \\n        startangle=90)\\nplt.show()\""
      ]
     },
     "execution_count": 237,
     "metadata": {},
     "output_type": "execute_result"
    }
   ],
   "source": [
    "import random\n",
    "import matplotlib.colors as mcolors\n",
    "colors = random.choices(list(mcolors.CSS4_COLORS.values()),k = 9)\n",
    "labels = 'Dobrý', 'K demolici', 'Novostavba','Po rekonstrukci', 'Projekt', 'Před rekonstrukcí', 'Ve výstavbě','Velmi dobrý'\n",
    "'''\n",
    "plt.pie(condition, \n",
    "        labels=labels, \n",
    "        autopct='%1.1f%%',\n",
    "        colors=colors,\n",
    "        shadow=True, \n",
    "        startangle=90)\n",
    "plt.show()'''"
   ]
  },
  {
   "cell_type": "code",
   "execution_count": 238,
   "metadata": {},
   "outputs": [],
   "source": [
    "import seaborn as sns\n",
    "sns.set(style=\"ticks\", color_codes=True)"
   ]
  },
  {
   "cell_type": "markdown",
   "metadata": {},
   "source": [
    "We use box plot to better understand the strenght of the relationship between price and condition. "
   ]
  },
  {
   "cell_type": "code",
   "execution_count": 239,
   "metadata": {
    "scrolled": false
   },
   "outputs": [
    {
     "data": {
      "text/plain": [
       "<matplotlib.axes._subplots.AxesSubplot at 0x213e6061588>"
      ]
     },
     "execution_count": 239,
     "metadata": {},
     "output_type": "execute_result"
    },
    {
     "data": {
      "image/png": "[encoded data removed]",
      "text/plain": [
       "<Figure size 1080x504 with 1 Axes>"
      ]
     },
     "metadata": {},
     "output_type": "display_data"
    }
   ],
   "source": [
    "plt.figure(figsize=(15,7))\n",
    "sns.boxplot(\n",
    "    data=data1,\n",
    "    x='Stav_objektu',\n",
    "    y='Cena',\n",
    "    color='green')"
   ]
  },
  {
   "cell_type": "markdown",
   "metadata": {},
   "source": [
    "It is quite surprising that the prices \"před rekonstrukcí\" a \"po rekonstrukci\" do not differ much. On the other hand, the difference between \"dobrý\" and \"velmi dobrý\" follows the intuition."
   ]
  },
  {
   "cell_type": "markdown",
   "metadata": {},
   "source": [
    "## Number of floors"
   ]
  },
  {
   "cell_type": "code",
   "execution_count": 240,
   "metadata": {
    "scrolled": true
   },
   "outputs": [
    {
     "name": "stdout",
     "output_type": "stream",
     "text": [
      "Podlaží_č\n",
      "-1    10614.285714\n",
      " 0    20222.758621\n",
      " 1    19370.094972\n",
      " 2    21843.314251\n",
      " 3    21930.259935\n",
      " 4    22963.783189\n",
      " 5    24964.460474\n",
      " 6    25779.676876\n",
      " 7    25228.108696\n",
      " 8    17061.325843\n",
      " 9    16910.189189\n",
      "Name: Cena, dtype: float64\n"
     ]
    }
   ],
   "source": [
    "#By the analysis below, we confirm the expected - the floor seems not to be \n",
    "#considerably important driver of a price (with the exception of flats in cellar).\n",
    "\n",
    "x = np.array(data1.Cena)\n",
    "y = np.array(data1.Podlaží_č)\n",
    "a = data1.groupby('Podlaží_č')['Cena'].mean()\n",
    "print(a)"
   ]
  },
  {
   "cell_type": "code",
   "execution_count": 241,
   "metadata": {
    "scrolled": true
   },
   "outputs": [
    {
     "data": {
      "image/png": "[encoded data removed]",
      "text/plain": [
       "<Figure size 1080x360 with 1 Axes>"
      ]
     },
     "metadata": {},
     "output_type": "display_data"
    }
   ],
   "source": [
    "f = [-1,0,1,2,3,4,5,6,7,8,9]\n",
    "a\n",
    "\n",
    "plt.figure(figsize=(15,5))\n",
    "plt.plot(f, a, \"green\")\n",
    "plt.title('Mean prices for respective floors')\n",
    "plt.scatter(y, x, color=\"grey\")\n",
    "plt.xlabel('Floor')\n",
    "plt.ylabel('Price')\n",
    "plt.show()"
   ]
  },
  {
   "cell_type": "markdown",
   "metadata": {},
   "source": [
    "The flatness of the curve proves the hyphotesis that the price is not explained by floor."
   ]
  },
  {
   "cell_type": "markdown",
   "metadata": {},
   "source": [
    "## \"Cukrárna\" or \"Hospoda\" in neighborhood?"
   ]
  },
  {
   "cell_type": "code",
   "execution_count": 242,
   "metadata": {},
   "outputs": [
    {
     "data": {
      "text/plain": [
       "Cena_cat2\n",
       "(11.999, 10000.0]      444.615929\n",
       "(10000.0, 11500.0]     420.437500\n",
       "(11500.0, 12500.0]     419.190377\n",
       "(12500.0, 13800.0]     389.510593\n",
       "(13800.0, 14500.0]     391.311111\n",
       "(14500.0, 15250.0]     370.386364\n",
       "(15250.0, 16900.0]     385.692464\n",
       "(16900.0, 18000.0]     343.847902\n",
       "(18000.0, 20000.0]     356.740433\n",
       "(20000.0, 22000.0]     332.250720\n",
       "(22000.0, 25000.0]     314.852552\n",
       "(25000.0, 29000.0]     290.197436\n",
       "(29000.0, 35000.0]     310.143725\n",
       "(35000.0, 45000.0]     200.570755\n",
       "(45000.0, 240000.0]    212.103158\n",
       "Name: Cukrárna_dist, dtype: float64"
      ]
     },
     "execution_count": 242,
     "metadata": {},
     "output_type": "execute_result"
    }
   ],
   "source": [
    "data1.groupby('Cena_cat2')['Cukrárna_dist'].mean()"
   ]
  },
  {
   "cell_type": "code",
   "execution_count": 243,
   "metadata": {
    "scrolled": true
   },
   "outputs": [
    {
     "data": {
      "image/png": "[encoded data removed]",
      "text/plain": [
       "<Figure size 1080x360 with 2 Axes>"
      ]
     },
     "metadata": {},
     "output_type": "display_data"
    }
   ],
   "source": [
    "#Let's have a look whether the price category of a flat is somehow related to \n",
    "#closness of \"coffe sweet shop bar\" or a pub...\n",
    "\n",
    "c = data1.groupby('Cena_cat2')['Cukrárna_dist'].mean()\n",
    "d = data1.groupby('Cena_cat2')['Hospoda_dist'].mean()\n",
    "\n",
    "\n",
    "plt.figure(figsize=(15,5))\n",
    "\n",
    "plt.subplot(1, 2, 1)\n",
    "c.plot(color='teal',linestyle='dashed')\n",
    "plt.xlabel('Prices of flats (from lowest to highest)')\n",
    "plt.ylabel('Distance to the nearest \"cukrárna\"')\n",
    "plt.xticks([])\n",
    "plt.ylim(200,800)\n",
    "\n",
    "\n",
    "\n",
    "plt.subplot(1, 2, 2)\n",
    "d.plot(color='teal',linestyle='dotted')\n",
    "plt.xlabel('Prices of flats (from lowest to highest)')\n",
    "plt.ylabel('Distance to the nearest \"hospoda\"')\n",
    "plt.ylim(200,800)\n",
    "plt.xticks([])\n",
    "plt.show()"
   ]
  },
  {
   "cell_type": "markdown",
   "metadata": {},
   "source": [
    "<p>We can observe that distance to nearest cake shop is decreasing with the price you pay for renting the flat. It is interesting to note that the average distance to the nearest pub is constant. The distance of a pub does not depend on price category.</p><br>In this case, flats are divided into 15 cathegories so that it is true that each cathegory has similar size."
   ]
  },
  {
   "cell_type": "code",
   "execution_count": 244,
   "metadata": {},
   "outputs": [
    {
     "data": {
      "text/plain": [
       "<matplotlib.axes._subplots.AxesSubplot at 0x213e57b06c8>"
      ]
     },
     "execution_count": 244,
     "metadata": {},
     "output_type": "execute_result"
    },
    {
     "data": {
      "image/png": "[encoded data removed]",
      "text/plain": [
       "<Figure size 432x288 with 1 Axes>"
      ]
     },
     "metadata": {},
     "output_type": "display_data"
    }
   ],
   "source": [
    "#Based on this very limited analysis (one could even call it \"analysis that is absurdly blind \n",
    "#towards other much more important obvious factors of price), it seems that \"cukrárna\" just matters!\n",
    "sns.boxplot( \n",
    "    x=\"Cukrárna_dist\",\n",
    "    y=\"Cena_cat2\",\n",
    "    palette=\"ch:.25\", \n",
    "    data=data1)"
   ]
  },
  {
   "cell_type": "code",
   "execution_count": 245,
   "metadata": {},
   "outputs": [
    {
     "data": {
      "text/plain": [
       "<matplotlib.axes._subplots.AxesSubplot at 0x213def99b08>"
      ]
     },
     "execution_count": 245,
     "metadata": {},
     "output_type": "execute_result"
    },
    {
     "data": {
      "image/png": "[encoded data removed]",
      "text/plain": [
       "<Figure size 432x288 with 1 Axes>"
      ]
     },
     "metadata": {},
     "output_type": "display_data"
    }
   ],
   "source": [
    "sns.boxplot( \n",
    "    x=\"Hospoda_dist\",\n",
    "    y=\"Cena_cat2\",\n",
    "    palette=\"ch:.25\", \n",
    "    data=data1)"
   ]
  },
  {
   "cell_type": "markdown",
   "metadata": {},
   "source": [
    "## Area of a flat\n",
    "Area is one of the very first aspects that comes to one's mind when talking about a flat's price. Does our data suggest this?"
   ]
  },
  {
   "cell_type": "code",
   "execution_count": 246,
   "metadata": {
    "scrolled": true
   },
   "outputs": [
    {
     "data": {
      "image/png": "[encoded data removed]",
      "text/plain": [
       "<Figure size 1080x360 with 1 Axes>"
      ]
     },
     "metadata": {},
     "output_type": "display_data"
    }
   ],
   "source": [
    "plt.figure(figsize=(15,5))\n",
    "plt.hist(data1['Area'], np.arange(0,400, step = 10), width = 10, color = 'darkgreen')\n",
    "plt.xlabel('Area of a flat')\n",
    "plt.ylabel('Number of flats')\n",
    "plt.show()"
   ]
  },
  {
   "cell_type": "code",
   "execution_count": 263,
   "metadata": {},
   "outputs": [
    {
     "data": {
      "image/png": "[encoded data removed]",
      "text/plain": [
       "<Figure size 1080x504 with 2 Axes>"
      ]
     },
     "metadata": {},
     "output_type": "display_data"
    }
   ],
   "source": [
    "plt.figure(figsize=(15,7))\n",
    "\n",
    "plt.subplot(1,2,2)\n",
    "plt.title('Area & Price relationship-after exclusion of outliers')\n",
    "plt.xlabel('Area')\n",
    "plt.ylabel('Cena')\n",
    "sns.regplot(data1['Area'].where(data1.Area < 3000),data1['Cena'])\n",
    "plt.xlim((0, 4700))\n",
    "plt.ylim((0,200000))\n",
    "\n",
    "plt.subplot(1,2,1)\n",
    "plt.title('Area & Price relationship')\n",
    "plt.xlabel('Area')\n",
    "plt.ylabel('Cena')\n",
    "sns.regplot(data1['Area'],data1['Cena'])\n",
    "plt.xlim((0, 4700))\n",
    "plt.ylim((0,200000))\n",
    "plt.show()"
   ]
  },
  {
   "cell_type": "markdown",
   "metadata": {},
   "source": [
    "After exclusion of outliers we can see that the regression line fits better. This graph says that a small increase in area has more than proportional influence on price. "
   ]
  },
  {
   "cell_type": "markdown",
   "metadata": {},
   "source": [
    "## Energy demans"
   ]
  },
  {
   "cell_type": "code",
   "execution_count": 44,
   "metadata": {},
   "outputs": [
    {
     "data": {
      "text/plain": [
       "Energy_class\n",
       "A      54\n",
       "B     616\n",
       "C     867\n",
       "D     395\n",
       "E     120\n",
       "F      47\n",
       "G    3883\n",
       "Name: Energy_class, dtype: int64"
      ]
     },
     "execution_count": 44,
     "metadata": {},
     "output_type": "execute_result"
    }
   ],
   "source": [
    "group_exm('Energy_class') #It is really surprising how large portion of flats belong to the worst - G - category."
   ]
  },
  {
   "cell_type": "code",
   "execution_count": 45,
   "metadata": {},
   "outputs": [
    {
     "data": {
      "image/png": "[encoded data removed]",
      "text/plain": [
       "<Figure size 432x288 with 1 Axes>"
      ]
     },
     "metadata": {},
     "output_type": "display_data"
    }
   ],
   "source": [
    "#By this simple plot, one might hastily argue that the worse energy demands - the higher price,\n",
    "#which sounds somehow countra-intuitive (because bad energy demands are connected \n",
    "#rather with old buildings that should be cheaper...). But let's give it further look.\n",
    "\n",
    "e = data1.groupby('Energy_class')['Cena'].mean()\n",
    "\n",
    "e.plot(color='teal',linestyle='dashed')\n",
    "plt.title('Energy demands and prices')\n",
    "plt.xlabel('Energy class')\n",
    "plt.ylabel('Averge price per energy class')\n",
    "plt.show()"
   ]
  },
  {
   "cell_type": "markdown",
   "metadata": {},
   "source": [
    "By this simple plot, one might hastily argue that the worse energy demands - the higher price,\n",
    "which sounds somehow countra-intuitive (because bad energy demands are connected \n",
    "rather with old buildings that should be cheaper...). But let's give it further look.\n",
    "This could be cause by the fact that in renting the energy is covered by the renter more often than by the rentee."
   ]
  },
  {
   "cell_type": "code",
   "execution_count": 46,
   "metadata": {},
   "outputs": [
    {
     "data": {
      "text/plain": [
       "<seaborn.axisgrid.FacetGrid at 0x213dedcffc8>"
      ]
     },
     "execution_count": 46,
     "metadata": {},
     "output_type": "execute_result"
    },
    {
     "data": {
      "image/png": "[encoded data removed]",
      "text/plain": [
       "<Figure size 360x360 with 1 Axes>"
      ]
     },
     "metadata": {},
     "output_type": "display_data"
    }
   ],
   "source": [
    "sns.catplot(\n",
    "    x=\"Energy_class\", \n",
    "    y=\"Cena\", \n",
    "    palette=\"ch:.25\", \n",
    "    data=data1)"
   ]
  },
  {
   "cell_type": "markdown",
   "metadata": {},
   "source": [
    "Same graph is below, more precise but less aesthetic."
   ]
  },
  {
   "cell_type": "code",
   "execution_count": 47,
   "metadata": {
    "scrolled": false
   },
   "outputs": [
    {
     "data": {
      "text/plain": [
       "<matplotlib.axes._subplots.AxesSubplot at 0x213d8884bc8>"
      ]
     },
     "execution_count": 47,
     "metadata": {},
     "output_type": "execute_result"
    },
    {
     "data": {
      "image/png": "[encoded data removed]",
      "text/plain": [
       "<Figure size 1080x504 with 1 Axes>"
      ]
     },
     "metadata": {},
     "output_type": "display_data"
    }
   ],
   "source": [
    "plt.figure(figsize=(15,7))\n",
    "sns.boxplot(\n",
    "    data=data1,\n",
    "    x='Energy_class',\n",
    "    y='Cena',\n",
    "    color='green')"
   ]
  },
  {
   "cell_type": "markdown",
   "metadata": {},
   "source": [
    "After closer look, it seems that the high average price of group G can be partially explained by quite high number of outliers. Still, some surprices remain - especially the relatively low prices of group A."
   ]
  },
  {
   "cell_type": "markdown",
   "metadata": {},
   "source": [
    "## Metro"
   ]
  },
  {
   "cell_type": "code",
   "execution_count": 48,
   "metadata": {},
   "outputs": [
    {
     "data": {
      "text/html": [
       "<div>\n",
       "<style scoped>\n",
       "    .dataframe tbody tr th:only-of-type {\n",
       "        vertical-align: middle;\n",
       "    }\n",
       "\n",
       "    .dataframe tbody tr th {\n",
       "        vertical-align: top;\n",
       "    }\n",
       "\n",
       "    .dataframe thead th {\n",
       "        text-align: right;\n",
       "    }\n",
       "</style>\n",
       "<table border=\"1\" class=\"dataframe\">\n",
       "  <thead>\n",
       "    <tr style=\"text-align: right;\">\n",
       "      <th></th>\n",
       "      <th>Unnamed: 0</th>\n",
       "      <th>Adresa</th>\n",
       "      <th>Aktualizace</th>\n",
       "      <th>Cena</th>\n",
       "      <th>Price_total</th>\n",
       "      <th>ID_zakázky:</th>\n",
       "      <th>Plocha_podlahová</th>\n",
       "      <th>Podlaží</th>\n",
       "      <th>Podlaží_č</th>\n",
       "      <th>Poznámka_k_ceně</th>\n",
       "      <th>...</th>\n",
       "      <th>Vlak_dist</th>\n",
       "      <th>Škola_name</th>\n",
       "      <th>Škola_dist</th>\n",
       "      <th>Školka_name</th>\n",
       "      <th>Školka_dist</th>\n",
       "      <th>Energy_class</th>\n",
       "      <th>Adress_clean</th>\n",
       "      <th>location</th>\n",
       "      <th>Cena_cat</th>\n",
       "      <th>Cena_cat2</th>\n",
       "    </tr>\n",
       "  </thead>\n",
       "  <tbody>\n",
       "    <tr>\n",
       "      <td>0</td>\n",
       "      <td>0</td>\n",
       "      <td>Dobrovolného, Praha 9 - Černý Most Panorama</td>\n",
       "      <td>Dnes</td>\n",
       "      <td>12000.0</td>\n",
       "      <td>12 000 Kč za měsíc</td>\n",
       "      <td>N05462</td>\n",
       "      <td>26.0</td>\n",
       "      <td>1. podlaží z celkem 5</td>\n",
       "      <td>1</td>\n",
       "      <td>+ 2.500,-Kč poplatky, elektřina, provize RK</td>\n",
       "      <td>...</td>\n",
       "      <td>1445.0</td>\n",
       "      <td>ZUŠ Praha 9, Ratibořická</td>\n",
       "      <td>234.0</td>\n",
       "      <td>MŠ Sluníčko Praha 9 - Černý Most</td>\n",
       "      <td>279.0</td>\n",
       "      <td>G</td>\n",
       "      <td>Dobrovolného, Praha 9</td>\n",
       "      <td>(50.1017892, 14.5615725)</td>\n",
       "      <td>(10000, 20000]</td>\n",
       "      <td>(11500.0, 12500.0]</td>\n",
       "    </tr>\n",
       "    <tr>\n",
       "      <td>1</td>\n",
       "      <td>1</td>\n",
       "      <td>Bořivojova, Praha 3 - Žižkov Panorama</td>\n",
       "      <td>Dnes</td>\n",
       "      <td>9500.0</td>\n",
       "      <td>9 500 Kč za nemovitost, + provize RK</td>\n",
       "      <td>57/4562</td>\n",
       "      <td>23.0</td>\n",
       "      <td>5. podlaží z celkem 4</td>\n",
       "      <td>5</td>\n",
       "      <td>plus poplatky, 500</td>\n",
       "      <td>...</td>\n",
       "      <td>984.0</td>\n",
       "      <td>Gymnázium Karla Sladkovského Praha 3</td>\n",
       "      <td>56.0</td>\n",
       "      <td>ZŠ a MŠ Jaroslava Seiferta Praha 3</td>\n",
       "      <td>243.0</td>\n",
       "      <td>G</td>\n",
       "      <td>Bořivojova, Praha 3</td>\n",
       "      <td>(50.0821429, 14.4537291)</td>\n",
       "      <td>(0, 10000]</td>\n",
       "      <td>(11.999, 10000.0]</td>\n",
       "    </tr>\n",
       "    <tr>\n",
       "      <td>2</td>\n",
       "      <td>2</td>\n",
       "      <td>Tupolevova, Praha 9 - Letňany Panorama</td>\n",
       "      <td>Dnes</td>\n",
       "      <td>13900.0</td>\n",
       "      <td>13 900 Kč za měsíc</td>\n",
       "      <td>NaN</td>\n",
       "      <td>NaN</td>\n",
       "      <td>4. podlaží</td>\n",
       "      <td>4</td>\n",
       "      <td>NaN</td>\n",
       "      <td>...</td>\n",
       "      <td>1695.0</td>\n",
       "      <td>Základní škola Fryčovická</td>\n",
       "      <td>160.0</td>\n",
       "      <td>MŠ Havířovská</td>\n",
       "      <td>255.0</td>\n",
       "      <td>NaN</td>\n",
       "      <td>Tupolevova, Praha 9</td>\n",
       "      <td>(50.1273975, 14.5148998)</td>\n",
       "      <td>(10000, 20000]</td>\n",
       "      <td>(13800.0, 14500.0]</td>\n",
       "    </tr>\n",
       "    <tr>\n",
       "      <td>3</td>\n",
       "      <td>3</td>\n",
       "      <td>Podbělohorská, Praha 5 - Smíchov Panorama</td>\n",
       "      <td>Dnes</td>\n",
       "      <td>15000.0</td>\n",
       "      <td>15 000 Kč za nemovitost, + provize RK</td>\n",
       "      <td>44/4562</td>\n",
       "      <td>58.0</td>\n",
       "      <td>2. podlaží z celkem 3</td>\n",
       "      <td>2</td>\n",
       "      <td>, 3500</td>\n",
       "      <td>...</td>\n",
       "      <td>1229.0</td>\n",
       "      <td>ZUŠ Na Popelce</td>\n",
       "      <td>224.0</td>\n",
       "      <td>TROIS PETITES POMMES, s.r.o.</td>\n",
       "      <td>343.0</td>\n",
       "      <td>B</td>\n",
       "      <td>Podbělohorská, Praha 5</td>\n",
       "      <td>(50.0732544, 14.3812666)</td>\n",
       "      <td>(10000, 20000]</td>\n",
       "      <td>(14500.0, 15250.0]</td>\n",
       "    </tr>\n",
       "    <tr>\n",
       "      <td>4</td>\n",
       "      <td>4</td>\n",
       "      <td>Mezi domy, Praha 4 - Písnice Panorama</td>\n",
       "      <td>Dnes</td>\n",
       "      <td>19500.0</td>\n",
       "      <td>19 500 Kč za měsíc</td>\n",
       "      <td>5702/2918</td>\n",
       "      <td>93.0</td>\n",
       "      <td>6. podlaží z celkem 6</td>\n",
       "      <td>6</td>\n",
       "      <td>Poplatky dle počtu osob</td>\n",
       "      <td>...</td>\n",
       "      <td>3635.0</td>\n",
       "      <td>Střední odborné učiliště potravinářské Praha 4</td>\n",
       "      <td>386.0</td>\n",
       "      <td>Mateřská škola Mezi Domy</td>\n",
       "      <td>105.0</td>\n",
       "      <td>D</td>\n",
       "      <td>Mezi domy, Praha 4</td>\n",
       "      <td>(50.0030025, 14.4615068)</td>\n",
       "      <td>(10000, 20000]</td>\n",
       "      <td>(18000.0, 20000.0]</td>\n",
       "    </tr>\n",
       "  </tbody>\n",
       "</table>\n",
       "<p>5 rows × 65 columns</p>\n",
       "</div>"
      ],
      "text/plain": [
       "   Unnamed: 0                                       Adresa Aktualizace  \\\n",
       "0           0  Dobrovolného, Praha 9 - Černý Most Panorama        Dnes   \n",
       "1           1        Bořivojova, Praha 3 - Žižkov Panorama        Dnes   \n",
       "2           2       Tupolevova, Praha 9 - Letňany Panorama        Dnes   \n",
       "3           3    Podbělohorská, Praha 5 - Smíchov Panorama        Dnes   \n",
       "4           4        Mezi domy, Praha 4 - Písnice Panorama        Dnes   \n",
       "\n",
       "      Cena                            Price_total ID_zakázky:  \\\n",
       "0  12000.0                     12 000 Kč za měsíc      N05462   \n",
       "1   9500.0   9 500 Kč za nemovitost, + provize RK     57/4562   \n",
       "2  13900.0                     13 900 Kč za měsíc         NaN   \n",
       "3  15000.0  15 000 Kč za nemovitost, + provize RK     44/4562   \n",
       "4  19500.0                     19 500 Kč za měsíc   5702/2918   \n",
       "\n",
       "   Plocha_podlahová                Podlaží  Podlaží_č  \\\n",
       "0              26.0  1. podlaží z celkem 5          1   \n",
       "1              23.0  5. podlaží z celkem 4          5   \n",
       "2               NaN             4. podlaží          4   \n",
       "3              58.0  2. podlaží z celkem 3          2   \n",
       "4              93.0  6. podlaží z celkem 6          6   \n",
       "\n",
       "                               Poznámka_k_ceně  ... Vlak_dist  \\\n",
       "0  + 2.500,-Kč poplatky, elektřina, provize RK  ...    1445.0   \n",
       "1                           plus poplatky, 500  ...     984.0   \n",
       "2                                          NaN  ...    1695.0   \n",
       "3                                       , 3500  ...    1229.0   \n",
       "4                      Poplatky dle počtu osob  ...    3635.0   \n",
       "\n",
       "                                       Škola_name Škola_dist  \\\n",
       "0                        ZUŠ Praha 9, Ratibořická      234.0   \n",
       "1            Gymnázium Karla Sladkovského Praha 3       56.0   \n",
       "2                       Základní škola Fryčovická      160.0   \n",
       "3                                  ZUŠ Na Popelce      224.0   \n",
       "4  Střední odborné učiliště potravinářské Praha 4      386.0   \n",
       "\n",
       "                          Školka_name  Školka_dist Energy_class  \\\n",
       "0    MŠ Sluníčko Praha 9 - Černý Most        279.0            G   \n",
       "1  ZŠ a MŠ Jaroslava Seiferta Praha 3        243.0            G   \n",
       "2                       MŠ Havířovská        255.0          NaN   \n",
       "3        TROIS PETITES POMMES, s.r.o.        343.0            B   \n",
       "4            Mateřská škola Mezi Domy        105.0            D   \n",
       "\n",
       "              Adress_clean                  location        Cena_cat  \\\n",
       "0   Dobrovolného, Praha 9   (50.1017892, 14.5615725)  (10000, 20000]   \n",
       "1     Bořivojova, Praha 3   (50.0821429, 14.4537291)      (0, 10000]   \n",
       "2     Tupolevova, Praha 9   (50.1273975, 14.5148998)  (10000, 20000]   \n",
       "3  Podbělohorská, Praha 5   (50.0732544, 14.3812666)  (10000, 20000]   \n",
       "4      Mezi domy, Praha 4   (50.0030025, 14.4615068)  (10000, 20000]   \n",
       "\n",
       "            Cena_cat2  \n",
       "0  (11500.0, 12500.0]  \n",
       "1   (11.999, 10000.0]  \n",
       "2  (13800.0, 14500.0]  \n",
       "3  (14500.0, 15250.0]  \n",
       "4  (18000.0, 20000.0]  \n",
       "\n",
       "[5 rows x 65 columns]"
      ]
     },
     "execution_count": 48,
     "metadata": {},
     "output_type": "execute_result"
    }
   ],
   "source": [
    "data1.head()"
   ]
  },
  {
   "cell_type": "markdown",
   "metadata": {},
   "source": [
    "# B) GEOPANDAS SPATIAL ANALYSIS\n",
    "\n",
    "First, we upload the Prague districts (from the open data source www.geoportalpraha.cz/cs/data/otevrena-data/). Second, having the data prepared with location column (latitude, longitude), we can put all of this together to enjoy juicy visualizations of number of supplid flats per district or average prices per district. At the end, there is also a bonus showing the paths how to work with realistic map of Prague using folium package. "
   ]
  },
  {
   "cell_type": "code",
   "execution_count": 49,
   "metadata": {
    "scrolled": false
   },
   "outputs": [],
   "source": [
    "import geopandas as gpd #geopandas is bell installed in anaconda prompt with \"conda install geopandas\""
   ]
  },
  {
   "cell_type": "markdown",
   "metadata": {},
   "source": [
    "It may happen that some dependancies of geopandas wont be installed. In that case, use may want to use anaconda prompt again with for example 'conda install descartes'"
   ]
  },
  {
   "cell_type": "markdown",
   "metadata": {},
   "source": [
    "## Preparing the settup\n",
    "### Upload Prague districts from open sources "
   ]
  },
  {
   "cell_type": "code",
   "execution_count": 50,
   "metadata": {},
   "outputs": [],
   "source": [
    "mestske_casti = gpd.read_file('TMMESTSKECASTI_P.json') \n",
    "# loading the open data of Prague's districts in JSON form \n",
    "# (JSON is the best option as it is easily readable and does not rely on other files)"
   ]
  },
  {
   "cell_type": "code",
   "execution_count": 51,
   "metadata": {},
   "outputs": [
    {
     "name": "stdout",
     "output_type": "stream",
     "text": [
      "   OBJECTID       DAT_VZNIK       DAT_ZMENA       PLOCHA  ID  KOD_MC  \\\n",
      "0         1  20181106141412  20191105233720  10183715.83  25  547310   \n",
      "1         2  20171110095818  20190423111436  13529637.40   9  547361   \n",
      "\n",
      "         NAZEV_MC  KOD_MO KOD_SO  TID_TMMESTSKECASTI_P   POSKYT  ID_POSKYT  \\\n",
      "0  Praha-Čakovice      94    221                    25  HMP-IPR         43   \n",
      "1        Praha 14      94    141                     9  HMP-IPR         43   \n",
      "\n",
      "  STAV_ZMENA   NAZEV_1  Shape_Length    Shape_Area  \\\n",
      "0          U  Čakovice  18510.070841  1.018372e+07   \n",
      "1          U  Praha 14  21694.540664  1.352964e+07   \n",
      "\n",
      "                                            geometry  \n",
      "0  POLYGON ((-733714.400 -1035864.400, -733688.20...  \n",
      "1  POLYGON ((-733418.050 -1044942.710, -733418.90...  \n"
     ]
    }
   ],
   "source": [
    "print(mestske_casti.head(2)) #Let's explore the file's content\n",
    "\n",
    "#Especially column \"geometry\" is crucial for the analysis as it defines precisely all the coordinates of districts' polygons"
   ]
  },
  {
   "cell_type": "code",
   "execution_count": 52,
   "metadata": {
    "scrolled": false
   },
   "outputs": [
    {
     "data": {
      "image/png": "[encoded data removed]",
      "text/plain": [
       "<Figure size 432x288 with 1 Axes>"
      ]
     },
     "metadata": {},
     "output_type": "display_data"
    }
   ],
   "source": [
    "leg_kwds= {'title':'Legend',\n",
    "          'loc':'upper left',\n",
    "           'bbox_to_anchor':(1.0,1.03),\n",
    "          'ncol':5}\n",
    "\n",
    "mestske_casti.plot(column='NAZEV_1', cmap= 'tab20b', \n",
    "                   legend = True, legend_kwds=leg_kwds)\n",
    "plt.title('Districts of Prague')\n",
    "plt.show()"
   ]
  },
  {
   "cell_type": "markdown",
   "metadata": {},
   "source": [
    "### Last data adjustments... for comfortable geospatial analysis"
   ]
  },
  {
   "cell_type": "code",
   "execution_count": 53,
   "metadata": {
    "scrolled": true
   },
   "outputs": [
    {
     "data": {
      "text/html": [
       "<div>\n",
       "<style scoped>\n",
       "    .dataframe tbody tr th:only-of-type {\n",
       "        vertical-align: middle;\n",
       "    }\n",
       "\n",
       "    .dataframe tbody tr th {\n",
       "        vertical-align: top;\n",
       "    }\n",
       "\n",
       "    .dataframe thead th {\n",
       "        text-align: right;\n",
       "    }\n",
       "</style>\n",
       "<table border=\"1\" class=\"dataframe\">\n",
       "  <thead>\n",
       "    <tr style=\"text-align: right;\">\n",
       "      <th></th>\n",
       "      <th>Cena</th>\n",
       "      <th>Cena_cat</th>\n",
       "      <th>location</th>\n",
       "    </tr>\n",
       "  </thead>\n",
       "  <tbody>\n",
       "    <tr>\n",
       "      <td>0</td>\n",
       "      <td>12000.0</td>\n",
       "      <td>(10000, 20000]</td>\n",
       "      <td>(50.1017892, 14.5615725)</td>\n",
       "    </tr>\n",
       "    <tr>\n",
       "      <td>1</td>\n",
       "      <td>9500.0</td>\n",
       "      <td>(0, 10000]</td>\n",
       "      <td>(50.0821429, 14.4537291)</td>\n",
       "    </tr>\n",
       "    <tr>\n",
       "      <td>2</td>\n",
       "      <td>13900.0</td>\n",
       "      <td>(10000, 20000]</td>\n",
       "      <td>(50.1273975, 14.5148998)</td>\n",
       "    </tr>\n",
       "    <tr>\n",
       "      <td>3</td>\n",
       "      <td>15000.0</td>\n",
       "      <td>(10000, 20000]</td>\n",
       "      <td>(50.0732544, 14.3812666)</td>\n",
       "    </tr>\n",
       "    <tr>\n",
       "      <td>4</td>\n",
       "      <td>19500.0</td>\n",
       "      <td>(10000, 20000]</td>\n",
       "      <td>(50.0030025, 14.4615068)</td>\n",
       "    </tr>\n",
       "  </tbody>\n",
       "</table>\n",
       "</div>"
      ],
      "text/plain": [
       "      Cena        Cena_cat                  location\n",
       "0  12000.0  (10000, 20000]  (50.1017892, 14.5615725)\n",
       "1   9500.0      (0, 10000]  (50.0821429, 14.4537291)\n",
       "2  13900.0  (10000, 20000]  (50.1273975, 14.5148998)\n",
       "3  15000.0  (10000, 20000]  (50.0732544, 14.3812666)\n",
       "4  19500.0  (10000, 20000]  (50.0030025, 14.4615068)"
      ]
     },
     "execution_count": 53,
     "metadata": {},
     "output_type": "execute_result"
    }
   ],
   "source": [
    "#Let's prepare data that are needed for our analysis...\n",
    "useful = ['Cena', 'Cena_cat', 'location']\n",
    "data_s = data1[useful].copy()\n",
    "data_s = data_s.dropna()\n",
    "data_s.head()"
   ]
  },
  {
   "cell_type": "code",
   "execution_count": 54,
   "metadata": {},
   "outputs": [
    {
     "data": {
      "text/plain": [
       "0"
      ]
     },
     "execution_count": 54,
     "metadata": {},
     "output_type": "execute_result"
    }
   ],
   "source": [
    "#Check for NaNs - it seems OK (at least in the first two columns, the last one is tricky)\n",
    "data_s.isnull().values.any().sum().sum()"
   ]
  },
  {
   "cell_type": "code",
   "execution_count": 55,
   "metadata": {},
   "outputs": [],
   "source": [
    "#As NaNs are generated as strings in the column 'location', the method .dropna() doesn't work here...\n",
    "location_x = data_s['location'].replace(\"NaN\",\"0\") \n",
    "data_s['location_x'] = location_x\n",
    "data_s = data_s[data_s.location_x != \"0\"]"
   ]
  },
  {
   "cell_type": "code",
   "execution_count": 56,
   "metadata": {},
   "outputs": [],
   "source": [
    "#Now, we need to extract the coordinates out of 'location' into lat & lng columns\n",
    "data_s['lat'] = [loc[0] for loc in data_s.location_x]\n",
    "data_s['lng'] = [loc[1] for loc in data_s.location_x]"
   ]
  },
  {
   "cell_type": "code",
   "execution_count": 57,
   "metadata": {},
   "outputs": [
    {
     "name": "stdout",
     "output_type": "stream",
     "text": [
      "<class 'pandas.core.frame.DataFrame'>\n",
      "Int64Index: 7555 entries, 0 to 7877\n",
      "Data columns (total 6 columns):\n",
      "Cena          7555 non-null float64\n",
      "Cena_cat      7555 non-null category\n",
      "location      7555 non-null object\n",
      "location_x    7555 non-null object\n",
      "lat           7555 non-null object\n",
      "lng           7555 non-null object\n",
      "dtypes: category(1), float64(1), object(4)\n",
      "memory usage: 362.5+ KB\n"
     ]
    }
   ],
   "source": [
    "data_s.info()"
   ]
  },
  {
   "cell_type": "markdown",
   "metadata": {},
   "source": [
    "Seems that everything is fine, we just left out some values (either due to authors who did not state the price at all in their ad, or due to some possible imperfections of our automatic process of GPS coordinates generation). Yet, the loss seems not to be catastrophic - from 7878 observation, we get to 7645 observation with full info about prices and 7555 observations with valid values in location information, i.e. 96 % of data remains. Furthermore, we have no reason to suspect this loss to follow some underlaying pattern that would affect our analysis, i.e. we can assume randomness of this observations removals. "
   ]
  },
  {
   "cell_type": "markdown",
   "metadata": {},
   "source": [
    "## Analysing density of supplied flats per district"
   ]
  },
  {
   "cell_type": "code",
   "execution_count": 58,
   "metadata": {
    "scrolled": true
   },
   "outputs": [
    {
     "data": {
      "image/png": "[encoded data removed]",
      "text/plain": [
       "<Figure size 432x288 with 1 Axes>"
      ]
     },
     "metadata": {},
     "output_type": "display_data"
    }
   ],
   "source": [
    "#Let's have a look how flats' offers are dispersed within Prague?\n",
    "plt.scatter(x = data_s.lat, y= data_s.lng, c = 'darkgreen', marker = 'p')\n",
    "plt.xlim((49.8, 50.4))\n",
    "plt.ylim((14.0,15.0))\n",
    "plt.grid()\n",
    "plt.title('Where most likely you`ll find your future flat if searching at sReality?')\n",
    "plt.xlabel('latitude')\n",
    "plt.ylabel('longitude')\n",
    "plt.show()"
   ]
  },
  {
   "cell_type": "markdown",
   "metadata": {},
   "source": [
    "Obviously, such \"map\" does not tell us much... We need to link it to the real interactive map of Prague or at least (non-interactive) map of districts. So let's put together this scatter plot and info that it contains with the maps defined/imported above."
   ]
  },
  {
   "cell_type": "code",
   "execution_count": 59,
   "metadata": {},
   "outputs": [
    {
     "ename": "TypeError",
     "evalue": "('must be real number, not str', 'occurred at index 0')",
     "output_type": "error",
     "traceback": [
      "\u001b[1;31m---------------------------------------------------------------------------\u001b[0m",
      "\u001b[1;31mTypeError\u001b[0m                                 Traceback (most recent call last)",
      "\u001b[1;32m<ipython-input-59-05736cdcb9a6>\u001b[0m in \u001b[0;36m<module>\u001b[1;34m\u001b[0m\n\u001b[0;32m      2\u001b[0m \u001b[1;32mfrom\u001b[0m \u001b[0mshapely\u001b[0m\u001b[1;33m.\u001b[0m\u001b[0mgeometry\u001b[0m \u001b[1;32mimport\u001b[0m \u001b[0mPoint\u001b[0m\u001b[1;33m\u001b[0m\u001b[1;33m\u001b[0m\u001b[0m\n\u001b[0;32m      3\u001b[0m \u001b[1;33m\u001b[0m\u001b[0m\n\u001b[1;32m----> 4\u001b[1;33m \u001b[0mdata_s\u001b[0m\u001b[1;33m[\u001b[0m\u001b[1;34m'geometry'\u001b[0m\u001b[1;33m]\u001b[0m \u001b[1;33m=\u001b[0m \u001b[0mdata_s\u001b[0m\u001b[1;33m.\u001b[0m\u001b[0mapply\u001b[0m\u001b[1;33m(\u001b[0m\u001b[1;32mlambda\u001b[0m \u001b[0mx\u001b[0m\u001b[1;33m:\u001b[0m \u001b[0mPoint\u001b[0m\u001b[1;33m(\u001b[0m\u001b[1;33m(\u001b[0m\u001b[0mx\u001b[0m\u001b[1;33m.\u001b[0m\u001b[0mlng\u001b[0m\u001b[1;33m,\u001b[0m\u001b[0mx\u001b[0m\u001b[1;33m.\u001b[0m\u001b[0mlat\u001b[0m\u001b[1;33m)\u001b[0m\u001b[1;33m)\u001b[0m\u001b[1;33m,\u001b[0m\u001b[0maxis\u001b[0m \u001b[1;33m=\u001b[0m \u001b[1;36m1\u001b[0m\u001b[1;33m)\u001b[0m\u001b[1;33m\u001b[0m\u001b[1;33m\u001b[0m\u001b[0m\n\u001b[0m\u001b[0;32m      5\u001b[0m \u001b[0mflats_crs\u001b[0m \u001b[1;33m=\u001b[0m \u001b[1;33m{\u001b[0m\u001b[1;34m'init'\u001b[0m\u001b[1;33m:\u001b[0m \u001b[1;34m'epsg:4326'\u001b[0m\u001b[1;33m}\u001b[0m\u001b[1;33m\u001b[0m\u001b[1;33m\u001b[0m\u001b[0m\n",
      "\u001b[1;32m~\\Anaconda3\\lib\\site-packages\\pandas\\core\\frame.py\u001b[0m in \u001b[0;36mapply\u001b[1;34m(self, func, axis, broadcast, raw, reduce, result_type, args, **kwds)\u001b[0m\n\u001b[0;32m   6911\u001b[0m             \u001b[0mkwds\u001b[0m\u001b[1;33m=\u001b[0m\u001b[0mkwds\u001b[0m\u001b[1;33m,\u001b[0m\u001b[1;33m\u001b[0m\u001b[1;33m\u001b[0m\u001b[0m\n\u001b[0;32m   6912\u001b[0m         )\n\u001b[1;32m-> 6913\u001b[1;33m         \u001b[1;32mreturn\u001b[0m \u001b[0mop\u001b[0m\u001b[1;33m.\u001b[0m\u001b[0mget_result\u001b[0m\u001b[1;33m(\u001b[0m\u001b[1;33m)\u001b[0m\u001b[1;33m\u001b[0m\u001b[1;33m\u001b[0m\u001b[0m\n\u001b[0m\u001b[0;32m   6914\u001b[0m \u001b[1;33m\u001b[0m\u001b[0m\n\u001b[0;32m   6915\u001b[0m     \u001b[1;32mdef\u001b[0m \u001b[0mapplymap\u001b[0m\u001b[1;33m(\u001b[0m\u001b[0mself\u001b[0m\u001b[1;33m,\u001b[0m \u001b[0mfunc\u001b[0m\u001b[1;33m)\u001b[0m\u001b[1;33m:\u001b[0m\u001b[1;33m\u001b[0m\u001b[1;33m\u001b[0m\u001b[0m\n",
      "\u001b[1;32m~\\Anaconda3\\lib\\site-packages\\pandas\\core\\apply.py\u001b[0m in \u001b[0;36mget_result\u001b[1;34m(self)\u001b[0m\n\u001b[0;32m    184\u001b[0m             \u001b[1;32mreturn\u001b[0m \u001b[0mself\u001b[0m\u001b[1;33m.\u001b[0m\u001b[0mapply_raw\u001b[0m\u001b[1;33m(\u001b[0m\u001b[1;33m)\u001b[0m\u001b[1;33m\u001b[0m\u001b[1;33m\u001b[0m\u001b[0m\n\u001b[0;32m    185\u001b[0m \u001b[1;33m\u001b[0m\u001b[0m\n\u001b[1;32m--> 186\u001b[1;33m         \u001b[1;32mreturn\u001b[0m \u001b[0mself\u001b[0m\u001b[1;33m.\u001b[0m\u001b[0mapply_standard\u001b[0m\u001b[1;33m(\u001b[0m\u001b[1;33m)\u001b[0m\u001b[1;33m\u001b[0m\u001b[1;33m\u001b[0m\u001b[0m\n\u001b[0m\u001b[0;32m    187\u001b[0m \u001b[1;33m\u001b[0m\u001b[0m\n\u001b[0;32m    188\u001b[0m     \u001b[1;32mdef\u001b[0m \u001b[0mapply_empty_result\u001b[0m\u001b[1;33m(\u001b[0m\u001b[0mself\u001b[0m\u001b[1;33m)\u001b[0m\u001b[1;33m:\u001b[0m\u001b[1;33m\u001b[0m\u001b[1;33m\u001b[0m\u001b[0m\n",
      "\u001b[1;32m~\\Anaconda3\\lib\\site-packages\\pandas\\core\\apply.py\u001b[0m in \u001b[0;36mapply_standard\u001b[1;34m(self)\u001b[0m\n\u001b[0;32m    290\u001b[0m \u001b[1;33m\u001b[0m\u001b[0m\n\u001b[0;32m    291\u001b[0m         \u001b[1;31m# compute the result using the series generator\u001b[0m\u001b[1;33m\u001b[0m\u001b[1;33m\u001b[0m\u001b[1;33m\u001b[0m\u001b[0m\n\u001b[1;32m--> 292\u001b[1;33m         \u001b[0mself\u001b[0m\u001b[1;33m.\u001b[0m\u001b[0mapply_series_generator\u001b[0m\u001b[1;33m(\u001b[0m\u001b[1;33m)\u001b[0m\u001b[1;33m\u001b[0m\u001b[1;33m\u001b[0m\u001b[0m\n\u001b[0m\u001b[0;32m    293\u001b[0m \u001b[1;33m\u001b[0m\u001b[0m\n\u001b[0;32m    294\u001b[0m         \u001b[1;31m# wrap results\u001b[0m\u001b[1;33m\u001b[0m\u001b[1;33m\u001b[0m\u001b[1;33m\u001b[0m\u001b[0m\n",
      "\u001b[1;32m~\\Anaconda3\\lib\\site-packages\\pandas\\core\\apply.py\u001b[0m in \u001b[0;36mapply_series_generator\u001b[1;34m(self)\u001b[0m\n\u001b[0;32m    319\u001b[0m             \u001b[1;32mtry\u001b[0m\u001b[1;33m:\u001b[0m\u001b[1;33m\u001b[0m\u001b[1;33m\u001b[0m\u001b[0m\n\u001b[0;32m    320\u001b[0m                 \u001b[1;32mfor\u001b[0m \u001b[0mi\u001b[0m\u001b[1;33m,\u001b[0m \u001b[0mv\u001b[0m \u001b[1;32min\u001b[0m \u001b[0menumerate\u001b[0m\u001b[1;33m(\u001b[0m\u001b[0mseries_gen\u001b[0m\u001b[1;33m)\u001b[0m\u001b[1;33m:\u001b[0m\u001b[1;33m\u001b[0m\u001b[1;33m\u001b[0m\u001b[0m\n\u001b[1;32m--> 321\u001b[1;33m                     \u001b[0mresults\u001b[0m\u001b[1;33m[\u001b[0m\u001b[0mi\u001b[0m\u001b[1;33m]\u001b[0m \u001b[1;33m=\u001b[0m \u001b[0mself\u001b[0m\u001b[1;33m.\u001b[0m\u001b[0mf\u001b[0m\u001b[1;33m(\u001b[0m\u001b[0mv\u001b[0m\u001b[1;33m)\u001b[0m\u001b[1;33m\u001b[0m\u001b[1;33m\u001b[0m\u001b[0m\n\u001b[0m\u001b[0;32m    322\u001b[0m                     \u001b[0mkeys\u001b[0m\u001b[1;33m.\u001b[0m\u001b[0mappend\u001b[0m\u001b[1;33m(\u001b[0m\u001b[0mv\u001b[0m\u001b[1;33m.\u001b[0m\u001b[0mname\u001b[0m\u001b[1;33m)\u001b[0m\u001b[1;33m\u001b[0m\u001b[1;33m\u001b[0m\u001b[0m\n\u001b[0;32m    323\u001b[0m             \u001b[1;32mexcept\u001b[0m \u001b[0mException\u001b[0m \u001b[1;32mas\u001b[0m \u001b[0me\u001b[0m\u001b[1;33m:\u001b[0m\u001b[1;33m\u001b[0m\u001b[1;33m\u001b[0m\u001b[0m\n",
      "\u001b[1;32m<ipython-input-59-05736cdcb9a6>\u001b[0m in \u001b[0;36m<lambda>\u001b[1;34m(x)\u001b[0m\n\u001b[0;32m      2\u001b[0m \u001b[1;32mfrom\u001b[0m \u001b[0mshapely\u001b[0m\u001b[1;33m.\u001b[0m\u001b[0mgeometry\u001b[0m \u001b[1;32mimport\u001b[0m \u001b[0mPoint\u001b[0m\u001b[1;33m\u001b[0m\u001b[1;33m\u001b[0m\u001b[0m\n\u001b[0;32m      3\u001b[0m \u001b[1;33m\u001b[0m\u001b[0m\n\u001b[1;32m----> 4\u001b[1;33m \u001b[0mdata_s\u001b[0m\u001b[1;33m[\u001b[0m\u001b[1;34m'geometry'\u001b[0m\u001b[1;33m]\u001b[0m \u001b[1;33m=\u001b[0m \u001b[0mdata_s\u001b[0m\u001b[1;33m.\u001b[0m\u001b[0mapply\u001b[0m\u001b[1;33m(\u001b[0m\u001b[1;32mlambda\u001b[0m \u001b[0mx\u001b[0m\u001b[1;33m:\u001b[0m \u001b[0mPoint\u001b[0m\u001b[1;33m(\u001b[0m\u001b[1;33m(\u001b[0m\u001b[0mx\u001b[0m\u001b[1;33m.\u001b[0m\u001b[0mlng\u001b[0m\u001b[1;33m,\u001b[0m\u001b[0mx\u001b[0m\u001b[1;33m.\u001b[0m\u001b[0mlat\u001b[0m\u001b[1;33m)\u001b[0m\u001b[1;33m)\u001b[0m\u001b[1;33m,\u001b[0m\u001b[0maxis\u001b[0m \u001b[1;33m=\u001b[0m \u001b[1;36m1\u001b[0m\u001b[1;33m)\u001b[0m\u001b[1;33m\u001b[0m\u001b[1;33m\u001b[0m\u001b[0m\n\u001b[0m\u001b[0;32m      5\u001b[0m \u001b[0mflats_crs\u001b[0m \u001b[1;33m=\u001b[0m \u001b[1;33m{\u001b[0m\u001b[1;34m'init'\u001b[0m\u001b[1;33m:\u001b[0m \u001b[1;34m'epsg:4326'\u001b[0m\u001b[1;33m}\u001b[0m\u001b[1;33m\u001b[0m\u001b[1;33m\u001b[0m\u001b[0m\n",
      "\u001b[1;32m~\\Anaconda3\\lib\\site-packages\\shapely\\geometry\\point.py\u001b[0m in \u001b[0;36m__init__\u001b[1;34m(self, *args)\u001b[0m\n\u001b[0;32m     47\u001b[0m         \u001b[0mBaseGeometry\u001b[0m\u001b[1;33m.\u001b[0m\u001b[0m__init__\u001b[0m\u001b[1;33m(\u001b[0m\u001b[0mself\u001b[0m\u001b[1;33m)\u001b[0m\u001b[1;33m\u001b[0m\u001b[1;33m\u001b[0m\u001b[0m\n\u001b[0;32m     48\u001b[0m         \u001b[1;32mif\u001b[0m \u001b[0mlen\u001b[0m\u001b[1;33m(\u001b[0m\u001b[0margs\u001b[0m\u001b[1;33m)\u001b[0m \u001b[1;33m>\u001b[0m \u001b[1;36m0\u001b[0m\u001b[1;33m:\u001b[0m\u001b[1;33m\u001b[0m\u001b[1;33m\u001b[0m\u001b[0m\n\u001b[1;32m---> 49\u001b[1;33m             \u001b[0mself\u001b[0m\u001b[1;33m.\u001b[0m\u001b[0m_set_coords\u001b[0m\u001b[1;33m(\u001b[0m\u001b[1;33m*\u001b[0m\u001b[0margs\u001b[0m\u001b[1;33m)\u001b[0m\u001b[1;33m\u001b[0m\u001b[1;33m\u001b[0m\u001b[0m\n\u001b[0m\u001b[0;32m     50\u001b[0m \u001b[1;33m\u001b[0m\u001b[0m\n\u001b[0;32m     51\u001b[0m     \u001b[1;31m# Coordinate getters and setters\u001b[0m\u001b[1;33m\u001b[0m\u001b[1;33m\u001b[0m\u001b[1;33m\u001b[0m\u001b[0m\n",
      "\u001b[1;32m~\\Anaconda3\\lib\\site-packages\\shapely\\geometry\\point.py\u001b[0m in \u001b[0;36m_set_coords\u001b[1;34m(self, *args)\u001b[0m\n\u001b[0;32m    128\u001b[0m         \u001b[0mself\u001b[0m\u001b[1;33m.\u001b[0m\u001b[0mempty\u001b[0m\u001b[1;33m(\u001b[0m\u001b[1;33m)\u001b[0m\u001b[1;33m\u001b[0m\u001b[1;33m\u001b[0m\u001b[0m\n\u001b[0;32m    129\u001b[0m         \u001b[1;32mif\u001b[0m \u001b[0mlen\u001b[0m\u001b[1;33m(\u001b[0m\u001b[0margs\u001b[0m\u001b[1;33m)\u001b[0m \u001b[1;33m==\u001b[0m \u001b[1;36m1\u001b[0m\u001b[1;33m:\u001b[0m\u001b[1;33m\u001b[0m\u001b[1;33m\u001b[0m\u001b[0m\n\u001b[1;32m--> 130\u001b[1;33m             \u001b[0mself\u001b[0m\u001b[1;33m.\u001b[0m\u001b[0m_geom\u001b[0m\u001b[1;33m,\u001b[0m \u001b[0mself\u001b[0m\u001b[1;33m.\u001b[0m\u001b[0m_ndim\u001b[0m \u001b[1;33m=\u001b[0m \u001b[0mgeos_point_from_py\u001b[0m\u001b[1;33m(\u001b[0m\u001b[0margs\u001b[0m\u001b[1;33m[\u001b[0m\u001b[1;36m0\u001b[0m\u001b[1;33m]\u001b[0m\u001b[1;33m)\u001b[0m\u001b[1;33m\u001b[0m\u001b[1;33m\u001b[0m\u001b[0m\n\u001b[0m\u001b[0;32m    131\u001b[0m         \u001b[1;32melse\u001b[0m\u001b[1;33m:\u001b[0m\u001b[1;33m\u001b[0m\u001b[1;33m\u001b[0m\u001b[0m\n\u001b[0;32m    132\u001b[0m             \u001b[0mself\u001b[0m\u001b[1;33m.\u001b[0m\u001b[0m_geom\u001b[0m\u001b[1;33m,\u001b[0m \u001b[0mself\u001b[0m\u001b[1;33m.\u001b[0m\u001b[0m_ndim\u001b[0m \u001b[1;33m=\u001b[0m \u001b[0mgeos_point_from_py\u001b[0m\u001b[1;33m(\u001b[0m\u001b[0mtuple\u001b[0m\u001b[1;33m(\u001b[0m\u001b[0margs\u001b[0m\u001b[1;33m)\u001b[0m\u001b[1;33m)\u001b[0m\u001b[1;33m\u001b[0m\u001b[1;33m\u001b[0m\u001b[0m\n",
      "\u001b[1;32m~\\Anaconda3\\lib\\site-packages\\shapely\\geometry\\point.py\u001b[0m in \u001b[0;36mgeos_point_from_py\u001b[1;34m(ob, update_geom, update_ndim)\u001b[0m\n\u001b[0;32m    207\u001b[0m         \u001b[0mcoords\u001b[0m \u001b[1;33m=\u001b[0m \u001b[0mob\u001b[0m\u001b[1;33m\u001b[0m\u001b[1;33m\u001b[0m\u001b[0m\n\u001b[0;32m    208\u001b[0m     \u001b[0mn\u001b[0m \u001b[1;33m=\u001b[0m \u001b[0mlen\u001b[0m\u001b[1;33m(\u001b[0m\u001b[0mcoords\u001b[0m\u001b[1;33m)\u001b[0m\u001b[1;33m\u001b[0m\u001b[1;33m\u001b[0m\u001b[0m\n\u001b[1;32m--> 209\u001b[1;33m     \u001b[0mdx\u001b[0m \u001b[1;33m=\u001b[0m \u001b[0mc_double\u001b[0m\u001b[1;33m(\u001b[0m\u001b[0mcoords\u001b[0m\u001b[1;33m[\u001b[0m\u001b[1;36m0\u001b[0m\u001b[1;33m]\u001b[0m\u001b[1;33m)\u001b[0m\u001b[1;33m\u001b[0m\u001b[1;33m\u001b[0m\u001b[0m\n\u001b[0m\u001b[0;32m    210\u001b[0m     \u001b[0mdy\u001b[0m \u001b[1;33m=\u001b[0m \u001b[0mc_double\u001b[0m\u001b[1;33m(\u001b[0m\u001b[0mcoords\u001b[0m\u001b[1;33m[\u001b[0m\u001b[1;36m1\u001b[0m\u001b[1;33m]\u001b[0m\u001b[1;33m)\u001b[0m\u001b[1;33m\u001b[0m\u001b[1;33m\u001b[0m\u001b[0m\n\u001b[0;32m    211\u001b[0m     \u001b[0mdz\u001b[0m \u001b[1;33m=\u001b[0m \u001b[1;32mNone\u001b[0m\u001b[1;33m\u001b[0m\u001b[1;33m\u001b[0m\u001b[0m\n",
      "\u001b[1;31mTypeError\u001b[0m: ('must be real number, not str', 'occurred at index 0')"
     ]
    }
   ],
   "source": [
    "#For doing so we need to create a GeoDataFrame from a DataFrame\n",
    "from shapely.geometry import Point\n",
    "\n",
    "data_s['geometry'] = data_s.apply(lambda x: Point((x.lng,x.lat)),axis = 1)\n",
    "flats_crs = {'init': 'epsg:4326'}"
   ]
  },
  {
   "cell_type": "code",
   "execution_count": null,
   "metadata": {},
   "outputs": [],
   "source": [
    "flats_geo = gpd.GeoDataFrame(data_s, crs = flats_crs, geometry = data_s.geometry)"
   ]
  },
  {
   "cell_type": "code",
   "execution_count": null,
   "metadata": {},
   "outputs": [],
   "source": [
    "mc_geo = gpd.GeoDataFrame(mestske_casti, crs = flats_crs, geometry = mestske_casti.geometry)"
   ]
  },
  {
   "cell_type": "code",
   "execution_count": null,
   "metadata": {},
   "outputs": [],
   "source": [
    "#convert geometry from decimal degrees to meters\n",
    "flats_geo.geometry = flats_geo.geometry.to_crs(epsg = 3857)\n",
    "flats_geo.head(1)"
   ]
  },
  {
   "cell_type": "code",
   "execution_count": null,
   "metadata": {},
   "outputs": [],
   "source": [
    "mc_geo.geometry = mc_geo.geometry.to_crs(epsg = 3857)\n",
    "mc_geo.head(1)"
   ]
  },
  {
   "cell_type": "code",
   "execution_count": null,
   "metadata": {
    "scrolled": true
   },
   "outputs": [],
   "source": [
    "#This is a crucial part that analyse the geospacial intersection of our flats and concrete districts.\n",
    "flats_within_districts = gpd.sjoin(mc_geo, flats_geo, op = 'intersects')\n",
    "flats_within_districts.head(10)"
   ]
  },
  {
   "cell_type": "code",
   "execution_count": null,
   "metadata": {
    "scrolled": true
   },
   "outputs": [],
   "source": [
    "#After exloring the intersections one by one case (through the .sjoin method), we can now group them.\n",
    "\n",
    "flats_in_districts = flats_within_districts[['NAZEV_MC','index_right']\n",
    "            ].groupby('NAZEV_MC').count().sort_values('index_right', ascending = False)\n",
    "\n",
    "flats_in_districts.head(5)"
   ]
  },
  {
   "cell_type": "code",
   "execution_count": null,
   "metadata": {},
   "outputs": [],
   "source": [
    "flats_in_districts_df = pd.DataFrame(flats_in_districts) #convert to DataFrame..."
   ]
  },
  {
   "cell_type": "code",
   "execution_count": null,
   "metadata": {},
   "outputs": [],
   "source": [
    "#...and prepare nice new DataFrame\n",
    "flats_in_districts_df.reset_index(inplace=True) \n",
    "flats_in_districts_df.columns = ['NAZEV_MC','Flats_count']\n",
    "flats_in_districts_df.head()"
   ]
  },
  {
   "cell_type": "code",
   "execution_count": null,
   "metadata": {},
   "outputs": [],
   "source": [
    "#Our task now is to merge these Flats_counts into map and visualize it...\n",
    "#Before merging, we need be sure we're considering only the common districts (to have the same lenght of DataFrames)\n",
    "mestske_casti_df = pd.DataFrame(mestske_casti)\n",
    "mylist = list(flats_in_districts_df.NAZEV_MC)\n",
    "mestske_casti_df_x = mestske_casti_df[mestske_casti_df.NAZEV_MC.isin(mylist)]"
   ]
  },
  {
   "cell_type": "code",
   "execution_count": null,
   "metadata": {},
   "outputs": [],
   "source": [
    "districts_with_counts = pd.merge(mestske_casti_df_x,flats_in_districts_df, on = 'NAZEV_MC') #merging"
   ]
  },
  {
   "cell_type": "code",
   "execution_count": null,
   "metadata": {},
   "outputs": [],
   "source": [
    "#Converting the newly created DataFrame into GeoDataFrame\n",
    "districts_with_counts = gpd.GeoDataFrame(districts_with_counts, crs = flats_crs, geometry = districts_with_counts.geometry)"
   ]
  },
  {
   "cell_type": "code",
   "execution_count": null,
   "metadata": {},
   "outputs": [],
   "source": [
    "#with GeoDataFrames we can do couple of cool things,\n",
    "#e.g. use this .area method to calculate the total area of respective district (good to have for any density measures)\n",
    "\n",
    "districts_with_counts['area'] = districts_with_counts.geometry.area "
   ]
  },
  {
   "cell_type": "code",
   "execution_count": null,
   "metadata": {},
   "outputs": [],
   "source": [
    "#Now we simply obtain the density of flats offered per certain districts...\n",
    "districts_with_counts['flats_density'] = districts_with_counts.apply(lambda row: row.Flats_count/row.area, axis = 1)\n",
    "\n",
    "districts_with_counts.head(2)"
   ]
  },
  {
   "cell_type": "code",
   "execution_count": null,
   "metadata": {
    "scrolled": true
   },
   "outputs": [],
   "source": [
    "#...and visualize it in the map by so called \"Choropleth\" geopanda plot:\n",
    "districts_with_counts.plot(column = 'Flats_count', edgecolor = 'black', cmap = 'PuRd',figsize=(10,5), legend = True)\n",
    "plt.title('Density of flats offered')\n",
    "plt.xlabel('longitude')\n",
    "plt.ylabel('latitude')\n",
    "plt.show()"
   ]
  },
  {
   "cell_type": "markdown",
   "metadata": {},
   "source": [
    "## Analysing average prices of supplied flats per district"
   ]
  },
  {
   "cell_type": "markdown",
   "metadata": {},
   "source": [
    "## Energy demands"
   ]
  },
  {
   "cell_type": "markdown",
   "metadata": {},
   "source": [
    "## (B) BONUS part"
   ]
  },
  {
   "cell_type": "markdown",
   "metadata": {},
   "source": [
    "### Interactive map of Prague\n",
    "Defining interactive map of Prague, centered with the National Theatre, using folium package."
   ]
  },
  {
   "cell_type": "code",
   "execution_count": null,
   "metadata": {},
   "outputs": [],
   "source": [
    "import folium\n",
    "\n",
    "Prague = folium.Map(location=[50.0811583,14.4134967], zoom_start = 12) #the location corresponds to the National Theatre\n",
    "display(Prague)"
   ]
  },
  {
   "cell_type": "code",
   "execution_count": null,
   "metadata": {},
   "outputs": [],
   "source": [
    "#Na hraní... člověk si tam takhle pěkně může vyznačit, co chce 8) \n",
    "#(akorát se mi to pak navzájem přepisuje a nemizí původní příkazy)\n",
    "\n",
    "Prague = folium.Map(location=[50.0811583,14.4134967], zoom_start = 12)\n",
    "Prague_3 = mc_geo.loc[mc_geo.NAZEV_MC =='Praha 3']\n",
    "folium.GeoJson(Prague_3).add_to(Prague)\n",
    "display(Prague)"
   ]
  },
  {
   "cell_type": "code",
   "execution_count": null,
   "metadata": {
    "scrolled": true
   },
   "outputs": [],
   "source": [
    "#NOT SURE WHY THIS DOES NOT WORK :(( \n",
    "\n",
    "Prague.choropleth(\n",
    "    geo_data = districts_with_counts,\n",
    "    name = 'geometry',\n",
    "    data = districts_with_counts,\n",
    "    columns = ['NAZEV_MC', 'Flats_count'],\n",
    "    key_on = 'feature.id',\n",
    "    fill_color = 'YlGn',\n",
    "    fill_opacity = 0.75,\n",
    "    line_opacity = 0.5,\n",
    "    legend_name = 'Density of flats offered')\n",
    "\n",
    "folium.LayerControl().add_to(Prague)\n",
    "display(Prague)"
   ]
  },
  {
   "cell_type": "markdown",
   "metadata": {},
   "source": [
    "## IN PROGRESS..."
   ]
  },
  {
   "cell_type": "code",
   "execution_count": null,
   "metadata": {},
   "outputs": [],
   "source": [
    "mc_geo_x = mc_geo.geometry.to_crs(epsg = 4326)\n",
    "flats_geo_x = flats_geo.geometry.to_crs(epsg = 4326)"
   ]
  },
  {
   "cell_type": "code",
   "execution_count": null,
   "metadata": {},
   "outputs": [],
   "source": [
    "mc_geo.plot(column='NAZEV_MC')\n",
    "plt.scatter(x = data_s.lat, y = data_s.lng, c='black')\n",
    "plt.xlim((49.8, 50.4))\n",
    "plt.ylim((14.0,15.0))\n",
    "plt.show()"
   ]
  },
  {
   "cell_type": "code",
   "execution_count": null,
   "metadata": {},
   "outputs": [],
   "source": [
    "#Nástřel kódu, kdybychom chtěli vybrat jen určité byty a ty zobrazit (s cenovou kategorií mi to teda nefunguje,\n",
    "#ale třeba by to šlo s něčím \"jednodušším\".\n",
    "chosen_flats = flats_geo.loc(flats_geo.Cena_cat == (10000, 20000])\n",
    "ax = mc_geo.plot(color = 'lightgreen')\n",
    "chosen_flats.plot(ax=ax, column = 'NAZEV_MC', legend = True)\n",
    "plt.show()\n",
    "                             \n",
    "Prague_x = folium.Map(location=[50.0811583,14.4134967], zoom_start = 12)\n",
    "flats = flats_geo.loc[flats_geo.Cena_cat =='(10000, 20000]']\n",
    "Prague_flats = folium.GeoJson(flats).add_to(Prague_x)\n",
    "display(Prague_flats)"
   ]
  }
 ],
 "metadata": {
  "kernelspec": {
   "display_name": "Python 3",
   "language": "python",
   "name": "python3"
  },
  "language_info": {
   "codemirror_mode": {
    "name": "ipython",
    "version": 3
   },
   "file_extension": ".py",
   "mimetype": "text/x-python",
   "name": "python",
   "nbconvert_exporter": "python",
   "pygments_lexer": "ipython3",
   "version": "3.7.4"
  }
 },
 "nbformat": 4,
 "nbformat_minor": 2
}
