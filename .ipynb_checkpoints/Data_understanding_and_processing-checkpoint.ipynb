{
 "cells": [
  {
   "cell_type": "markdown",
   "metadata": {},
   "source": [
    "# Data preparation, processing and visualization\n",
    "\n",
    "At this point, let's remind our core aim: to analyse some interesting relationships (esp. rent prices and distance from metro) based on data scraped from sReality.cz. \n",
    "\n",
    "Now, having the scraped massive dataset, our goal is to analyse and visualize underlaying relationships of chosen variables. We attempt to do so by (a) matplotlib and (b) geopandas tools. Nevertheless, before we can do so, the data need to be inspected and adjusted.\n",
    "\n",
    "## I. Getting familiar with the data"
   ]
  },
  {
   "cell_type": "markdown",
   "metadata": {},
   "source": [
    "First, we prepare the environment for analysis and get familiar with the structure and variables of data."
   ]
  },
  {
   "cell_type": "code",
   "execution_count": 525,
   "metadata": {
    "scrolled": true
   },
   "outputs": [
    {
     "data": {
      "text/html": [
       "<div>\n",
       "<style scoped>\n",
       "    .dataframe tbody tr th:only-of-type {\n",
       "        vertical-align: middle;\n",
       "    }\n",
       "\n",
       "    .dataframe tbody tr th {\n",
       "        vertical-align: top;\n",
       "    }\n",
       "\n",
       "    .dataframe thead th {\n",
       "        text-align: right;\n",
       "    }\n",
       "</style>\n",
       "<table border=\"1\" class=\"dataframe\">\n",
       "  <thead>\n",
       "    <tr style=\"text-align: right;\">\n",
       "      <th></th>\n",
       "      <th>Unnamed: 0</th>\n",
       "      <th>Adresa</th>\n",
       "      <th>Aktualizace:</th>\n",
       "      <th>Balkón:</th>\n",
       "      <th>Bankomat:</th>\n",
       "      <th>Bazén:</th>\n",
       "      <th>Bezbariérový:</th>\n",
       "      <th>Bus MHD:</th>\n",
       "      <th>Celková cena:</th>\n",
       "      <th>Cena:</th>\n",
       "      <th>...</th>\n",
       "      <th>Večerka:</th>\n",
       "      <th>Vlak:</th>\n",
       "      <th>Vlastnictví:</th>\n",
       "      <th>Voda:</th>\n",
       "      <th>Vybavení:</th>\n",
       "      <th>Výtah:</th>\n",
       "      <th>Výška stropu:</th>\n",
       "      <th>Zlevněno:</th>\n",
       "      <th>Škola:</th>\n",
       "      <th>Školka:</th>\n",
       "    </tr>\n",
       "  </thead>\n",
       "  <tbody>\n",
       "    <tr>\n",
       "      <td>0</td>\n",
       "      <td>0</td>\n",
       "      <td>Dobrovolného, Praha 9 - Černý Most Panorama</td>\n",
       "      <td>['Dnes']</td>\n",
       "      <td>NaN</td>\n",
       "      <td>['Bankomat České spořitelny', ' (542 m)']</td>\n",
       "      <td>NaN</td>\n",
       "      <td>NaN</td>\n",
       "      <td>['Generála Janouška', ' (132 m)']</td>\n",
       "      <td>['12 000 Kč za měsíc']</td>\n",
       "      <td>NaN</td>\n",
       "      <td>...</td>\n",
       "      <td>['Albert Supermarket', ' (451 m)']</td>\n",
       "      <td>['Praha-Kyje', ' (1445 m)']</td>\n",
       "      <td>['Osobní']</td>\n",
       "      <td>NaN</td>\n",
       "      <td>NaN</td>\n",
       "      <td>NaN</td>\n",
       "      <td>NaN</td>\n",
       "      <td>NaN</td>\n",
       "      <td>['ZUŠ Praha 9, Ratibořická', ' (234 m)']</td>\n",
       "      <td>['MŠ Sluníčko Praha 9 - Černý Most', ' (279 m)']</td>\n",
       "    </tr>\n",
       "    <tr>\n",
       "      <td>1</td>\n",
       "      <td>0</td>\n",
       "      <td>Bořivojova, Praha 3 - Žižkov Panorama</td>\n",
       "      <td>['Dnes']</td>\n",
       "      <td>NaN</td>\n",
       "      <td>['Bankomat České spořitelny', ' (122 m)']</td>\n",
       "      <td>NaN</td>\n",
       "      <td>[\"'boolean-false'\"]</td>\n",
       "      <td>['Tachovské náměstí', ' (443 m)']</td>\n",
       "      <td>['9 500 Kč za nemovitost, + provize RK']</td>\n",
       "      <td>NaN</td>\n",
       "      <td>...</td>\n",
       "      <td>['Shalamar Foods', ' (165 m)']</td>\n",
       "      <td>['Praha hlavní nádraží', ' (984 m)']</td>\n",
       "      <td>['Osobní']</td>\n",
       "      <td>NaN</td>\n",
       "      <td>NaN</td>\n",
       "      <td>NaN</td>\n",
       "      <td>NaN</td>\n",
       "      <td>NaN</td>\n",
       "      <td>['Gymnázium Karla Sladkovského Praha 3', ' (56...</td>\n",
       "      <td>['ZŠ a MŠ Jaroslava Seiferta Praha 3', ' (243 ...</td>\n",
       "    </tr>\n",
       "    <tr>\n",
       "      <td>2</td>\n",
       "      <td>0</td>\n",
       "      <td>Tupolevova, Praha 9 - Letňany Panorama</td>\n",
       "      <td>['Dnes']</td>\n",
       "      <td>NaN</td>\n",
       "      <td>['Bankomat České spořitelny', ' (236 m)']</td>\n",
       "      <td>NaN</td>\n",
       "      <td>[\"'boolean-true'\"]</td>\n",
       "      <td>['Šumperská', ' (177 m)']</td>\n",
       "      <td>['13 900 Kč za měsíc']</td>\n",
       "      <td>NaN</td>\n",
       "      <td>...</td>\n",
       "      <td>['Penny Market', ' (183 m)']</td>\n",
       "      <td>['Praha-Čakovice', ' (1695 m)']</td>\n",
       "      <td>['Osobní']</td>\n",
       "      <td>NaN</td>\n",
       "      <td>NaN</td>\n",
       "      <td>[\"'boolean-true'\"]</td>\n",
       "      <td>NaN</td>\n",
       "      <td>NaN</td>\n",
       "      <td>['Základní škola Fryčovická', ' (160 m)']</td>\n",
       "      <td>['MŠ Havířovská', ' (255 m)']</td>\n",
       "    </tr>\n",
       "    <tr>\n",
       "      <td>3</td>\n",
       "      <td>0</td>\n",
       "      <td>Podbělohorská, Praha 5 - Smíchov Panorama</td>\n",
       "      <td>['Dnes']</td>\n",
       "      <td>NaN</td>\n",
       "      <td>['Bankomat Komerční banky', ' (381 m)']</td>\n",
       "      <td>NaN</td>\n",
       "      <td>[\"'boolean-false'\"]</td>\n",
       "      <td>['Pod Lipkami', ' (30 m)']</td>\n",
       "      <td>['15 000 Kč za nemovitost, + provize RK']</td>\n",
       "      <td>NaN</td>\n",
       "      <td>...</td>\n",
       "      <td>['Smíšené zboží Plzeňská\\t187', ' (404 m)']</td>\n",
       "      <td>['Praha-Cibulka', ' (1229 m)']</td>\n",
       "      <td>['Osobní']</td>\n",
       "      <td>['Dálkový vodovod']</td>\n",
       "      <td>NaN</td>\n",
       "      <td>NaN</td>\n",
       "      <td>NaN</td>\n",
       "      <td>NaN</td>\n",
       "      <td>['ZUŠ Na Popelce', ' (224 m)']</td>\n",
       "      <td>['TROIS PETITES POMMES, s.r.o.', ' (343 m)']</td>\n",
       "    </tr>\n",
       "  </tbody>\n",
       "</table>\n",
       "<p>4 rows × 80 columns</p>\n",
       "</div>"
      ],
      "text/plain": [
       "   Unnamed: 0                                       Adresa Aktualizace:  \\\n",
       "0           0  Dobrovolného, Praha 9 - Černý Most Panorama     ['Dnes']   \n",
       "1           0        Bořivojova, Praha 3 - Žižkov Panorama     ['Dnes']   \n",
       "2           0       Tupolevova, Praha 9 - Letňany Panorama     ['Dnes']   \n",
       "3           0    Podbělohorská, Praha 5 - Smíchov Panorama     ['Dnes']   \n",
       "\n",
       "  Balkón:                                  Bankomat: Bazén:  \\\n",
       "0     NaN  ['Bankomat České spořitelny', ' (542 m)']    NaN   \n",
       "1     NaN  ['Bankomat České spořitelny', ' (122 m)']    NaN   \n",
       "2     NaN  ['Bankomat České spořitelny', ' (236 m)']    NaN   \n",
       "3     NaN    ['Bankomat Komerční banky', ' (381 m)']    NaN   \n",
       "\n",
       "         Bezbariérový:                           Bus MHD:  \\\n",
       "0                  NaN  ['Generála Janouška', ' (132 m)']   \n",
       "1  [\"'boolean-false'\"]  ['Tachovské náměstí', ' (443 m)']   \n",
       "2   [\"'boolean-true'\"]          ['Šumperská', ' (177 m)']   \n",
       "3  [\"'boolean-false'\"]         ['Pod Lipkami', ' (30 m)']   \n",
       "\n",
       "                               Celková cena: Cena:  ...  \\\n",
       "0                     ['12 000 Kč za měsíc']   NaN  ...   \n",
       "1   ['9 500 Kč za nemovitost, + provize RK']   NaN  ...   \n",
       "2                     ['13 900 Kč za měsíc']   NaN  ...   \n",
       "3  ['15 000 Kč za nemovitost, + provize RK']   NaN  ...   \n",
       "\n",
       "                                      Večerka:  \\\n",
       "0           ['Albert Supermarket', ' (451 m)']   \n",
       "1               ['Shalamar Foods', ' (165 m)']   \n",
       "2                 ['Penny Market', ' (183 m)']   \n",
       "3  ['Smíšené zboží Plzeňská\\t187', ' (404 m)']   \n",
       "\n",
       "                                  Vlak: Vlastnictví:                Voda:  \\\n",
       "0           ['Praha-Kyje', ' (1445 m)']   ['Osobní']                  NaN   \n",
       "1  ['Praha hlavní nádraží', ' (984 m)']   ['Osobní']                  NaN   \n",
       "2       ['Praha-Čakovice', ' (1695 m)']   ['Osobní']                  NaN   \n",
       "3        ['Praha-Cibulka', ' (1229 m)']   ['Osobní']  ['Dálkový vodovod']   \n",
       "\n",
       "  Vybavení:              Výtah: Výška stropu: Zlevněno:  \\\n",
       "0       NaN                 NaN           NaN       NaN   \n",
       "1       NaN                 NaN           NaN       NaN   \n",
       "2       NaN  [\"'boolean-true'\"]           NaN       NaN   \n",
       "3       NaN                 NaN           NaN       NaN   \n",
       "\n",
       "                                              Škola:  \\\n",
       "0           ['ZUŠ Praha 9, Ratibořická', ' (234 m)']   \n",
       "1  ['Gymnázium Karla Sladkovského Praha 3', ' (56...   \n",
       "2          ['Základní škola Fryčovická', ' (160 m)']   \n",
       "3                     ['ZUŠ Na Popelce', ' (224 m)']   \n",
       "\n",
       "                                             Školka:  \n",
       "0   ['MŠ Sluníčko Praha 9 - Černý Most', ' (279 m)']  \n",
       "1  ['ZŠ a MŠ Jaroslava Seiferta Praha 3', ' (243 ...  \n",
       "2                      ['MŠ Havířovská', ' (255 m)']  \n",
       "3       ['TROIS PETITES POMMES, s.r.o.', ' (343 m)']  \n",
       "\n",
       "[4 rows x 80 columns]"
      ]
     },
     "execution_count": 525,
     "metadata": {},
     "output_type": "execute_result"
    }
   ],
   "source": [
    "import pandas as pd\n",
    "import numpy as np\n",
    "\n",
    "data = pd.read_csv(\"dataset.csv\", sep = ';') #uploading our scraped data\n",
    "data.head(4)"
   ]
  },
  {
   "cell_type": "code",
   "execution_count": 526,
   "metadata": {},
   "outputs": [
    {
     "name": "stdout",
     "output_type": "stream",
     "text": [
      "<class 'pandas.core.frame.DataFrame'>\n",
      "RangeIndex: 7878 entries, 0 to 7877\n",
      "Data columns (total 79 columns):\n",
      "Adresa                                     7878 non-null object\n",
      "Aktualizace:                               7878 non-null object\n",
      "Balkón:                                    1960 non-null object\n",
      "Bankomat:                                  7455 non-null object\n",
      "Bazén:                                     21 non-null object\n",
      "Bezbariérový:                              1744 non-null object\n",
      "Bus MHD:                                   7756 non-null object\n",
      "Celková cena:                              7646 non-null object\n",
      "Cena:                                      47 non-null object\n",
      "Cukrárna:                                  7455 non-null object\n",
      "Datum nastěhování:                         1751 non-null object\n",
      "Datum prohlídky do:                        5 non-null object\n",
      "Datum prohlídky:                           46 non-null object\n",
      "Datum zahájení prodeje:                    8 non-null object\n",
      "Divadlo:                                   7419 non-null object\n",
      "Doprava:                                   3223 non-null object\n",
      "Elektřina:                                 2486 non-null object\n",
      "Energetická náročnost budovy:              5982 non-null object\n",
      "Garáž:                                     1153 non-null object\n",
      "Hospoda:                                   7455 non-null object\n",
      "Hřiště:                                    7761 non-null object\n",
      "ID zakázky:                                6925 non-null object\n",
      "ID:                                        953 non-null object\n",
      "Kino:                                      7415 non-null object\n",
      "Komunikace:                                1037 non-null object\n",
      "Kulturní památka:                          7121 non-null object\n",
      "Lodžie:                                    569 non-null object\n",
      "Lékař:                                     7455 non-null object\n",
      "Lékárna:                                   7455 non-null object\n",
      "Metro:                                     7624 non-null object\n",
      "Náklady na bydlení:                        654 non-null object\n",
      "Obchod:                                    7422 non-null object\n",
      "Odpad:                                     2182 non-null object\n",
      "Parkování:                                 1466 non-null object\n",
      "Plocha podlahová:                          5303 non-null object\n",
      "Plocha pozemku:                            1 non-null object\n",
      "Plocha zahrady:                            70 non-null object\n",
      "Plocha zastavěná:                          215 non-null object\n",
      "Plyn:                                      1731 non-null object\n",
      "Podlaží:                                   7878 non-null object\n",
      "Poloha domu:                               1 non-null object\n",
      "Poznámka k ceně:                           5764 non-null object\n",
      "Počet bytů:                                8 non-null object\n",
      "Pošta:                                     7455 non-null object\n",
      "Provize:                                   173 non-null object\n",
      "Průkaz energetické náročnosti budovy:      159 non-null object\n",
      "Převod do OV:                              24 non-null object\n",
      "Přírodní zajímavost:                       865 non-null object\n",
      "Půdní vestavba:                            40 non-null object\n",
      "Původní cena:                              185 non-null object\n",
      "Restaurace:                                7455 non-null object\n",
      "Rok kolaudace:                             235 non-null object\n",
      "Rok rekonstrukce:                          559 non-null object\n",
      "Sklep:                                     1902 non-null object\n",
      "Sportoviště:                               7761 non-null object\n",
      "Stav objektu:                              7878 non-null object\n",
      "Stav:                                      60 non-null object\n",
      "Stavba:                                    7878 non-null object\n",
      "Telekomunikace:                            2700 non-null object\n",
      "Terasa:                                    1048 non-null object\n",
      "Title                                      7878 non-null object\n",
      "Topení:                                    3143 non-null object\n",
      "Tram:                                      7673 non-null object\n",
      "Typ bytu:                                  331 non-null object\n",
      "Typ domu:                                  1 non-null object\n",
      "Ukazatel energetické náročnosti budovy:    299 non-null object\n",
      "Umístění objektu:                          2503 non-null object\n",
      "Užitná plocha:                             7878 non-null object\n",
      "Veterinář:                                 7455 non-null object\n",
      "Večerka:                                   7455 non-null object\n",
      "Vlak:                                      7750 non-null object\n",
      "Vlastnictví:                               7877 non-null object\n",
      "Voda:                                      2690 non-null object\n",
      "Vybavení:                                  5977 non-null object\n",
      "Výtah:                                     5629 non-null object\n",
      "Výška stropu:                              77 non-null object\n",
      "Zlevněno:                                  185 non-null object\n",
      "Škola:                                     7455 non-null object\n",
      "Školka:                                    7455 non-null object\n",
      "dtypes: object(79)\n",
      "memory usage: 4.7+ MB\n"
     ]
    }
   ],
   "source": [
    "data = data.drop([\"Unnamed: 0\"], axis= 1)  #this drops the unnamed column as it has no value\n",
    "data.info() #inspecting all the variables, their type and number of observations"
   ]
  },
  {
   "cell_type": "code",
   "execution_count": 527,
   "metadata": {},
   "outputs": [],
   "source": [
    "#We rename columns so that we can better work with them \n",
    "#Specifically, adding underscored characters in multi-word names, deleting colons, \n",
    "#rewriting some long names in shorter form (among those that are very likely to be used in the analysis)\n",
    "\n",
    "data.columns = ['Adresa', 'Aktualizace', 'Balkón', 'Bankomat', 'Bazén',\n",
    "       'Bezbariérový', 'Bus_MHD', 'Price_total', 'Price', 'Cukrárna',\n",
    "       'Datum_nastěhování', 'Datum_prohlídky_do', 'Datum_prohlídky',\n",
    "       'Datum_zahájení_prodeje', 'Divadlo', 'Doprava', 'Elektřina',\n",
    "       'Energy_demands', 'Garáž', 'Hospoda', 'Hřiště',\n",
    "       'ID_zakázky:', 'ID', 'Kino', 'Komunikace', 'Kulturní_památka',\n",
    "       'Lodžie', 'Lékař', 'Lékárna', 'Metro', 'Náklady_na_bydlení',\n",
    "       'Obchod', 'Odpad', 'Parkování', 'Plocha_podlahová',\n",
    "       'Plocha_pozemku', 'Plocha_zahrady', 'Plocha_zastavěná', 'Plyn',\n",
    "       'Podlaží', 'Poloha domu', 'Poznámka_k_ceně', 'Počet bytů', 'Pošta',\n",
    "       'Provize', 'Energy_demands_II', 'Převod_do_OV',\n",
    "       'Přírodní zajímavost', 'Půdní_vestavba', 'Původní_cena',\n",
    "       'Restaurace', 'Rok_kolaudace', 'Rok_rekonstrukce', 'Sklep',\n",
    "       'Sportoviště', 'Stav_objektu', 'Stav', 'Stavba', 'Telekomunikace',\n",
    "       'Terasa', 'Title', 'Topení', 'Tram', 'Typ_bytu', 'Typ_domu',\n",
    "       'Energy_demands_III', 'Umístění_objektu',\n",
    "       'Area', 'Veterinář', 'Večerka', 'Vlak', 'Vlastnictví',\n",
    "       'Voda', 'Vybavení', 'Výtah', 'Výška_stropu', 'Zlevněno', 'Škola',\n",
    "       'Školka']"
   ]
  },
  {
   "cell_type": "markdown",
   "metadata": {},
   "source": [
    "In total, we have 7878 observations and 79 columns. Neverheless, as we can see above, many of the columns contain only a relatively limited information (in terms of number of their observations), specifically 49 variables have more than 10% of missing values. Hence, the strenght of their evidence is limited and we need to be aware of this limitation. Variables with extreme portion of missing values (> 90%) deserve special attention and we should rather not include them in the analysis at all because they don't tell us much."
   ]
  },
  {
   "cell_type": "code",
   "execution_count": 528,
   "metadata": {
    "scrolled": true
   },
   "outputs": [
    {
     "data": {
      "text/plain": [
       "25"
      ]
     },
     "execution_count": 528,
     "metadata": {},
     "output_type": "execute_result"
    }
   ],
   "source": [
    "n_observations = 7878\n",
    "empty = data.isnull().sum()\n",
    "empty[empty > n_observations*0.9].sort_values(ascending = False).count()\n",
    "#number of variables that miss more than 90% of observations"
   ]
  },
  {
   "cell_type": "code",
   "execution_count": 529,
   "metadata": {},
   "outputs": [
    {
     "data": {
      "text/plain": [
       "Typ_domu                  7877\n",
       "Plocha_pozemku            7877\n",
       "Poloha domu               7877\n",
       "Datum_prohlídky_do        7873\n",
       "Datum_zahájení_prodeje    7870\n",
       "Počet bytů                7870\n",
       "Bazén                     7857\n",
       "Převod_do_OV              7854\n",
       "Půdní_vestavba            7838\n",
       "Datum_prohlídky           7832\n",
       "Price                     7831\n",
       "Stav                      7818\n",
       "Plocha_zahrady            7808\n",
       "Výška_stropu              7801\n",
       "Energy_demands_II         7719\n",
       "Provize                   7705\n",
       "Původní_cena              7693\n",
       "Zlevněno                  7693\n",
       "Plocha_zastavěná          7663\n",
       "Rok_kolaudace             7643\n",
       "Energy_demands_III        7579\n",
       "Typ_bytu                  7547\n",
       "Rok_rekonstrukce          7319\n",
       "Lodžie                    7309\n",
       "Náklady_na_bydlení        7224\n",
       "dtype: int64"
      ]
     },
     "execution_count": 529,
     "metadata": {},
     "output_type": "execute_result"
    }
   ],
   "source": [
    "empty[empty > n_observations*0.9].sort_values(ascending = False) #list of those variables"
   ]
  },
  {
   "cell_type": "markdown",
   "metadata": {},
   "source": [
    "The most suitable variables are these 31 that miss less than 90% of observations. Regarding the aim of our project, it is pleasant that variable 'Metro' can be found here. In our analysis, we will consider 6 more variables, i.e. all variables that contain more than 66% of observations."
   ]
  },
  {
   "cell_type": "code",
   "execution_count": 530,
   "metadata": {},
   "outputs": [
    {
     "data": {
      "text/plain": [
       "Kulturní_památka    757\n",
       "Kino                463\n",
       "Divadlo             459\n",
       "Obchod              456\n",
       "Restaurace          423\n",
       "Bankomat            423\n",
       "Cukrárna            423\n",
       "Hospoda             423\n",
       "Lékař               423\n",
       "Lékárna             423\n",
       "Škola               423\n",
       "Pošta               423\n",
       "Školka              423\n",
       "Veterinář           423\n",
       "Večerka             423\n",
       "Metro               254\n",
       "Price_total         232\n",
       "Tram                205\n",
       "Vlak                128\n",
       "Bus_MHD             122\n",
       "Sportoviště         117\n",
       "Hřiště              117\n",
       "Vlastnictví           1\n",
       "Podlaží               0\n",
       "Area                  0\n",
       "Title                 0\n",
       "Stavba                0\n",
       "Stav_objektu          0\n",
       "Aktualizace           0\n",
       "Adresa                0\n",
       "dtype: int64"
      ]
     },
     "execution_count": 530,
     "metadata": {},
     "output_type": "execute_result"
    }
   ],
   "source": [
    "empty[empty < n_observations*0.1].sort_values(ascending = False)"
   ]
  },
  {
   "cell_type": "code",
   "execution_count": 531,
   "metadata": {},
   "outputs": [
    {
     "data": {
      "text/plain": [
       "Plocha_podlahová    2575\n",
       "Výtah               2249\n",
       "Poznámka_k_ceně     2114\n",
       "Vybavení            1901\n",
       "Energy_demands      1896\n",
       "ID_zakázky:          953\n",
       "dtype: int64"
      ]
     },
     "execution_count": 531,
     "metadata": {},
     "output_type": "execute_result"
    }
   ],
   "source": [
    "empty[np.all([(empty > n_observations*0.1),(empty < n_observations*0.33)], axis = 0)].sort_values(ascending = False)"
   ]
  },
  {
   "cell_type": "markdown",
   "metadata": {},
   "source": [
    "## II. Dataset adjustments\n",
    "At this point, two things need to be done. Adjusting the dataset only for variables that have some evidence power, and adjusting the column 'Price' as its string values are currently very messy which makes it impossible to work with this crucial variable in our analysis.\n",
    "\n",
    "### a) Keeping worthy variables only\n",
    "As discussed above, we consider only variables with more than 66% of observations. Let's adjust the dataset accordingly..."
   ]
  },
  {
   "cell_type": "code",
   "execution_count": 532,
   "metadata": {
    "scrolled": true
   },
   "outputs": [
    {
     "data": {
      "text/plain": [
       "Index(['Adresa', 'Aktualizace', 'Bankomat', 'Bus_MHD', 'Price_total',\n",
       "       'Cukrárna', 'Divadlo', 'Energy_demands', 'Hospoda', 'Hřiště',\n",
       "       'ID_zakázky:', 'Kino', 'Kulturní_památka', 'Lékař', 'Lékárna', 'Metro',\n",
       "       'Obchod', 'Plocha_podlahová', 'Podlaží', 'Poznámka_k_ceně', 'Pošta',\n",
       "       'Restaurace', 'Sportoviště', 'Stav_objektu', 'Stavba', 'Title', 'Tram',\n",
       "       'Area', 'Veterinář', 'Večerka', 'Vlak', 'Vlastnictví', 'Vybavení',\n",
       "       'Výtah', 'Škola', 'Školka'],\n",
       "      dtype='object')"
      ]
     },
     "execution_count": 532,
     "metadata": {},
     "output_type": "execute_result"
    }
   ],
   "source": [
    "variable = empty[empty < n_observations*0.33]\n",
    "variable.index"
   ]
  },
  {
   "cell_type": "code",
   "execution_count": 586,
   "metadata": {},
   "outputs": [],
   "source": [
    "data = data[variable.index]"
   ]
  },
  {
   "cell_type": "code",
   "execution_count": 533,
   "metadata": {
    "scrolled": true
   },
   "outputs": [
    {
     "data": {
      "text/html": [
       "<div>\n",
       "<style scoped>\n",
       "    .dataframe tbody tr th:only-of-type {\n",
       "        vertical-align: middle;\n",
       "    }\n",
       "\n",
       "    .dataframe tbody tr th {\n",
       "        vertical-align: top;\n",
       "    }\n",
       "\n",
       "    .dataframe thead th {\n",
       "        text-align: right;\n",
       "    }\n",
       "</style>\n",
       "<table border=\"1\" class=\"dataframe\">\n",
       "  <thead>\n",
       "    <tr style=\"text-align: right;\">\n",
       "      <th></th>\n",
       "      <th>Adresa</th>\n",
       "      <th>Aktualizace</th>\n",
       "      <th>Bankomat</th>\n",
       "      <th>Bus_MHD</th>\n",
       "      <th>Price_total</th>\n",
       "      <th>Cukrárna</th>\n",
       "      <th>Divadlo</th>\n",
       "      <th>Energy_demands</th>\n",
       "      <th>Hospoda</th>\n",
       "      <th>Hřiště</th>\n",
       "      <th>...</th>\n",
       "      <th>Tram</th>\n",
       "      <th>Area</th>\n",
       "      <th>Veterinář</th>\n",
       "      <th>Večerka</th>\n",
       "      <th>Vlak</th>\n",
       "      <th>Vlastnictví</th>\n",
       "      <th>Vybavení</th>\n",
       "      <th>Výtah</th>\n",
       "      <th>Škola</th>\n",
       "      <th>Školka</th>\n",
       "    </tr>\n",
       "  </thead>\n",
       "  <tbody>\n",
       "    <tr>\n",
       "      <td>0</td>\n",
       "      <td>Dobrovolného, Praha 9 - Černý Most Panorama</td>\n",
       "      <td>['Dnes']</td>\n",
       "      <td>['Bankomat České spořitelny', ' (542 m)']</td>\n",
       "      <td>['Generála Janouška', ' (132 m)']</td>\n",
       "      <td>['12 000 Kč za měsíc']</td>\n",
       "      <td>['Shisha Room Dvin', ' (1144 m)']</td>\n",
       "      <td>['Přírodní divadlo Dády Stoklasy', ' (3152 m)']</td>\n",
       "      <td>['Třída G - Mimořádně nehospodárná']</td>\n",
       "      <td>['Šenk Na Rajské', ' (476 m)']</td>\n",
       "      <td>['Dětské hřiště Rajský vrch', ' (162 m)']</td>\n",
       "      <td>...</td>\n",
       "      <td>['Lehovec', ' (1136 m)']</td>\n",
       "      <td>['26m2']</td>\n",
       "      <td>['MetropoleVet Praha s.r.o.', ' (623 m)']</td>\n",
       "      <td>['Albert Supermarket', ' (451 m)']</td>\n",
       "      <td>['Praha-Kyje', ' (1445 m)']</td>\n",
       "      <td>['Osobní']</td>\n",
       "      <td>NaN</td>\n",
       "      <td>NaN</td>\n",
       "      <td>['ZUŠ Praha 9, Ratibořická', ' (234 m)']</td>\n",
       "      <td>['MŠ Sluníčko Praha 9 - Černý Most', ' (279 m)']</td>\n",
       "    </tr>\n",
       "    <tr>\n",
       "      <td>1</td>\n",
       "      <td>Bořivojova, Praha 3 - Žižkov Panorama</td>\n",
       "      <td>['Dnes']</td>\n",
       "      <td>['Bankomat České spořitelny', ' (122 m)']</td>\n",
       "      <td>['Tachovské náměstí', ' (443 m)']</td>\n",
       "      <td>['9 500 Kč za nemovitost, + provize RK']</td>\n",
       "      <td>['Klub JINÝ KAFE', ' (283 m)']</td>\n",
       "      <td>['Žižkovské divadlo Járy Cimrmana', ' (280 m)']</td>\n",
       "      <td>['Třída G - Mimořádně nehospodárná']</td>\n",
       "      <td>['Hospůdka U Habásků', ' (209 m)']</td>\n",
       "      <td>['Dětské hřiště Bořivojova', ' (294 m)']</td>\n",
       "      <td>...</td>\n",
       "      <td>['Lipanská', ' (186 m)']</td>\n",
       "      <td>['23m2']</td>\n",
       "      <td>['MVDr. Jan Dubský', ' (425 m)']</td>\n",
       "      <td>['Shalamar Foods', ' (165 m)']</td>\n",
       "      <td>['Praha hlavní nádraží', ' (984 m)']</td>\n",
       "      <td>['Osobní']</td>\n",
       "      <td>NaN</td>\n",
       "      <td>NaN</td>\n",
       "      <td>['Gymnázium Karla Sladkovského Praha 3', ' (56...</td>\n",
       "      <td>['ZŠ a MŠ Jaroslava Seiferta Praha 3', ' (243 ...</td>\n",
       "    </tr>\n",
       "    <tr>\n",
       "      <td>2</td>\n",
       "      <td>Tupolevova, Praha 9 - Letňany Panorama</td>\n",
       "      <td>['Dnes']</td>\n",
       "      <td>['Bankomat České spořitelny', ' (236 m)']</td>\n",
       "      <td>['Šumperská', ' (177 m)']</td>\n",
       "      <td>['13 900 Kč za měsíc']</td>\n",
       "      <td>['Café Infinity', ' (204 m)']</td>\n",
       "      <td>['Divadlo Pohádka', ' (1057 m)']</td>\n",
       "      <td>NaN</td>\n",
       "      <td>['Pivnice na Královce', ' (1824 m)']</td>\n",
       "      <td>['Venkovní posilovna u obchodního centra', ' (...</td>\n",
       "      <td>...</td>\n",
       "      <td>['Sídliště Ďáblice', ' (1906 m)']</td>\n",
       "      <td>['52m2']</td>\n",
       "      <td>['Veterinární ordinace Letňany', ' (302 m)']</td>\n",
       "      <td>['Penny Market', ' (183 m)']</td>\n",
       "      <td>['Praha-Čakovice', ' (1695 m)']</td>\n",
       "      <td>['Osobní']</td>\n",
       "      <td>NaN</td>\n",
       "      <td>[\"'boolean-true'\"]</td>\n",
       "      <td>['Základní škola Fryčovická', ' (160 m)']</td>\n",
       "      <td>['MŠ Havířovská', ' (255 m)']</td>\n",
       "    </tr>\n",
       "    <tr>\n",
       "      <td>3</td>\n",
       "      <td>Podbělohorská, Praha 5 - Smíchov Panorama</td>\n",
       "      <td>['Dnes']</td>\n",
       "      <td>['Bankomat Komerční banky', ' (381 m)']</td>\n",
       "      <td>['Pod Lipkami', ' (30 m)']</td>\n",
       "      <td>['15 000 Kč za nemovitost, + provize RK']</td>\n",
       "      <td>['Cukrárna Pod Marjánkou', ' (1333 m)']</td>\n",
       "      <td>['JUDr. Jiří Šilhán', ' (279 m)']</td>\n",
       "      <td>['Třída B - Velmi úsporná']</td>\n",
       "      <td>['Restaurace Na zámyšli', ' (423 m)']</td>\n",
       "      <td>['Dětské hřiště Na Vršku', ' (116 m)']</td>\n",
       "      <td>...</td>\n",
       "      <td>['Kavalírka', ' (370 m)']</td>\n",
       "      <td>['58m2']</td>\n",
       "      <td>['Veterinární klinika - MVDr. Pavel Santar, MV...</td>\n",
       "      <td>['Smíšené zboží Plzeňská\\t187', ' (404 m)']</td>\n",
       "      <td>['Praha-Cibulka', ' (1229 m)']</td>\n",
       "      <td>['Osobní']</td>\n",
       "      <td>NaN</td>\n",
       "      <td>NaN</td>\n",
       "      <td>['ZUŠ Na Popelce', ' (224 m)']</td>\n",
       "      <td>['TROIS PETITES POMMES, s.r.o.', ' (343 m)']</td>\n",
       "    </tr>\n",
       "    <tr>\n",
       "      <td>4</td>\n",
       "      <td>Mezi domy, Praha 4 - Písnice Panorama</td>\n",
       "      <td>['Dnes']</td>\n",
       "      <td>['Bankomat Komerční banky', ' (780 m)']</td>\n",
       "      <td>['U Libušské sokolovny', ' (275 m)']</td>\n",
       "      <td>['19 500 Kč za měsíc']</td>\n",
       "      <td>['Cukrářství Viktoria, s.r.o.', ' (900 m)']</td>\n",
       "      <td>['Tradiční loutkové divadlo Zvoneček', ' (3145...</td>\n",
       "      <td>['Třída D - Méně úsporná č. 78/2013 Sb. podle ...</td>\n",
       "      <td>['Hospůdka U Báti', ' (509 m)']</td>\n",
       "      <td>['Dětské hřiště Pyramida Na Okruhu', ' (78 m)']</td>\n",
       "      <td>...</td>\n",
       "      <td>['Levského', ' (1815 m)']</td>\n",
       "      <td>['93m2']</td>\n",
       "      <td>['Vetnemo, s.r.o.', ' (634 m)']</td>\n",
       "      <td>['VIVACOMEX, spol. s r.o.', ' (450 m)']</td>\n",
       "      <td>['Praha-Krč', ' (3635 m)']</td>\n",
       "      <td>['Osobní']</td>\n",
       "      <td>NaN</td>\n",
       "      <td>[\"'boolean-true'\"]</td>\n",
       "      <td>['Střední odborné učiliště potravinářské Praha...</td>\n",
       "      <td>['Mateřská škola Mezi Domy', ' (105 m)']</td>\n",
       "    </tr>\n",
       "  </tbody>\n",
       "</table>\n",
       "<p>5 rows × 36 columns</p>\n",
       "</div>"
      ],
      "text/plain": [
       "                                        Adresa Aktualizace  \\\n",
       "0  Dobrovolného, Praha 9 - Černý Most Panorama    ['Dnes']   \n",
       "1        Bořivojova, Praha 3 - Žižkov Panorama    ['Dnes']   \n",
       "2       Tupolevova, Praha 9 - Letňany Panorama    ['Dnes']   \n",
       "3    Podbělohorská, Praha 5 - Smíchov Panorama    ['Dnes']   \n",
       "4        Mezi domy, Praha 4 - Písnice Panorama    ['Dnes']   \n",
       "\n",
       "                                    Bankomat  \\\n",
       "0  ['Bankomat České spořitelny', ' (542 m)']   \n",
       "1  ['Bankomat České spořitelny', ' (122 m)']   \n",
       "2  ['Bankomat České spořitelny', ' (236 m)']   \n",
       "3    ['Bankomat Komerční banky', ' (381 m)']   \n",
       "4    ['Bankomat Komerční banky', ' (780 m)']   \n",
       "\n",
       "                                Bus_MHD  \\\n",
       "0     ['Generála Janouška', ' (132 m)']   \n",
       "1     ['Tachovské náměstí', ' (443 m)']   \n",
       "2             ['Šumperská', ' (177 m)']   \n",
       "3            ['Pod Lipkami', ' (30 m)']   \n",
       "4  ['U Libušské sokolovny', ' (275 m)']   \n",
       "\n",
       "                                 Price_total  \\\n",
       "0                     ['12 000 Kč za měsíc']   \n",
       "1   ['9 500 Kč za nemovitost, + provize RK']   \n",
       "2                     ['13 900 Kč za měsíc']   \n",
       "3  ['15 000 Kč za nemovitost, + provize RK']   \n",
       "4                     ['19 500 Kč za měsíc']   \n",
       "\n",
       "                                      Cukrárna  \\\n",
       "0            ['Shisha Room Dvin', ' (1144 m)']   \n",
       "1               ['Klub JINÝ KAFE', ' (283 m)']   \n",
       "2                ['Café Infinity', ' (204 m)']   \n",
       "3      ['Cukrárna Pod Marjánkou', ' (1333 m)']   \n",
       "4  ['Cukrářství Viktoria, s.r.o.', ' (900 m)']   \n",
       "\n",
       "                                             Divadlo  \\\n",
       "0    ['Přírodní divadlo Dády Stoklasy', ' (3152 m)']   \n",
       "1    ['Žižkovské divadlo Járy Cimrmana', ' (280 m)']   \n",
       "2                   ['Divadlo Pohádka', ' (1057 m)']   \n",
       "3                  ['JUDr. Jiří Šilhán', ' (279 m)']   \n",
       "4  ['Tradiční loutkové divadlo Zvoneček', ' (3145...   \n",
       "\n",
       "                                      Energy_demands  \\\n",
       "0               ['Třída G - Mimořádně nehospodárná']   \n",
       "1               ['Třída G - Mimořádně nehospodárná']   \n",
       "2                                                NaN   \n",
       "3                        ['Třída B - Velmi úsporná']   \n",
       "4  ['Třída D - Méně úsporná č. 78/2013 Sb. podle ...   \n",
       "\n",
       "                                 Hospoda  \\\n",
       "0         ['Šenk Na Rajské', ' (476 m)']   \n",
       "1     ['Hospůdka U Habásků', ' (209 m)']   \n",
       "2   ['Pivnice na Královce', ' (1824 m)']   \n",
       "3  ['Restaurace Na zámyšli', ' (423 m)']   \n",
       "4        ['Hospůdka U Báti', ' (509 m)']   \n",
       "\n",
       "                                              Hřiště  ...  \\\n",
       "0          ['Dětské hřiště Rajský vrch', ' (162 m)']  ...   \n",
       "1           ['Dětské hřiště Bořivojova', ' (294 m)']  ...   \n",
       "2  ['Venkovní posilovna u obchodního centra', ' (...  ...   \n",
       "3             ['Dětské hřiště Na Vršku', ' (116 m)']  ...   \n",
       "4    ['Dětské hřiště Pyramida Na Okruhu', ' (78 m)']  ...   \n",
       "\n",
       "                                Tram      Area  \\\n",
       "0           ['Lehovec', ' (1136 m)']  ['26m2']   \n",
       "1           ['Lipanská', ' (186 m)']  ['23m2']   \n",
       "2  ['Sídliště Ďáblice', ' (1906 m)']  ['52m2']   \n",
       "3          ['Kavalírka', ' (370 m)']  ['58m2']   \n",
       "4          ['Levského', ' (1815 m)']  ['93m2']   \n",
       "\n",
       "                                           Veterinář  \\\n",
       "0          ['MetropoleVet Praha s.r.o.', ' (623 m)']   \n",
       "1                   ['MVDr. Jan Dubský', ' (425 m)']   \n",
       "2       ['Veterinární ordinace Letňany', ' (302 m)']   \n",
       "3  ['Veterinární klinika - MVDr. Pavel Santar, MV...   \n",
       "4                    ['Vetnemo, s.r.o.', ' (634 m)']   \n",
       "\n",
       "                                       Večerka  \\\n",
       "0           ['Albert Supermarket', ' (451 m)']   \n",
       "1               ['Shalamar Foods', ' (165 m)']   \n",
       "2                 ['Penny Market', ' (183 m)']   \n",
       "3  ['Smíšené zboží Plzeňská\\t187', ' (404 m)']   \n",
       "4      ['VIVACOMEX, spol. s r.o.', ' (450 m)']   \n",
       "\n",
       "                                   Vlak Vlastnictví Vybavení  \\\n",
       "0           ['Praha-Kyje', ' (1445 m)']  ['Osobní']      NaN   \n",
       "1  ['Praha hlavní nádraží', ' (984 m)']  ['Osobní']      NaN   \n",
       "2       ['Praha-Čakovice', ' (1695 m)']  ['Osobní']      NaN   \n",
       "3        ['Praha-Cibulka', ' (1229 m)']  ['Osobní']      NaN   \n",
       "4            ['Praha-Krč', ' (3635 m)']  ['Osobní']      NaN   \n",
       "\n",
       "                Výtah                                              Škola  \\\n",
       "0                 NaN           ['ZUŠ Praha 9, Ratibořická', ' (234 m)']   \n",
       "1                 NaN  ['Gymnázium Karla Sladkovského Praha 3', ' (56...   \n",
       "2  [\"'boolean-true'\"]          ['Základní škola Fryčovická', ' (160 m)']   \n",
       "3                 NaN                     ['ZUŠ Na Popelce', ' (224 m)']   \n",
       "4  [\"'boolean-true'\"]  ['Střední odborné učiliště potravinářské Praha...   \n",
       "\n",
       "                                              Školka  \n",
       "0   ['MŠ Sluníčko Praha 9 - Černý Most', ' (279 m)']  \n",
       "1  ['ZŠ a MŠ Jaroslava Seiferta Praha 3', ' (243 ...  \n",
       "2                      ['MŠ Havířovská', ' (255 m)']  \n",
       "3       ['TROIS PETITES POMMES, s.r.o.', ' (343 m)']  \n",
       "4           ['Mateřská škola Mezi Domy', ' (105 m)']  \n",
       "\n",
       "[5 rows x 36 columns]"
      ]
     },
     "execution_count": 533,
     "metadata": {},
     "output_type": "execute_result"
    }
   ],
   "source": [
    "data[variable.index].head()"
   ]
  },
  {
   "cell_type": "code",
   "execution_count": 534,
   "metadata": {},
   "outputs": [],
   "source": [
    "data[variable.index].head().to_csv('dataview.csv', sep = ';')"
   ]
  },
  {
   "cell_type": "markdown",
   "metadata": {},
   "source": [
    "### b) Dealing with messy prices"
   ]
  },
  {
   "cell_type": "markdown",
   "metadata": {},
   "source": [
    "Before we can do the analysis, we need to deal with the complicated form of stated prices and obtain purely the monthly rent in CZK, without other specification (in other words, we need to extract integer out of the string values).\n",
    "\n",
    "In order to be able to suitably merge the resulting list of prices to the original dataset, it is neccessary to get rid of rows with empty prices values beforehand. Furthermore, during the analysis, we explored two error values in the dataset (tiny but with serious consequences): observation data.Price_total[984] has value of \"12 CZK\" which is nonsense and observation data.Price_total[6727] has value \"23 214 CZK (850 EUR)\" which cases troubles in the analysis and we need to get rid of both of these errors beforehand."
   ]
  },
  {
   "cell_type": "code",
   "execution_count": 535,
   "metadata": {},
   "outputs": [],
   "source": [
    "# data.dropna(subset = ['Price_total'], inplace=True)\n",
    "# new_data = data.drop([984,6727]).reset_index(drop=True)\n",
    "\n",
    "##by inspecting \"new_data.info()\" we can confirm that the maximum number of observations for any variable is 7645, \n",
    "##which is exactly the number of non-empty observations of 'Price_total' \n",
    "\n",
    "##Taking the available 'Price_total' data\n",
    "#Price_orig = new_data.Price_total\n",
    "#a= np.array(Price_orig)\n",
    "#print(a)"
   ]
  },
  {
   "cell_type": "code",
   "execution_count": 536,
   "metadata": {},
   "outputs": [],
   "source": [
    "##Converting them into a list of strings and subsequently a string\n",
    "#a_str_prep = [str(i) for i in a]\n",
    "#a_string = \",\".join(a_str_prep)\n",
    "#print(a_string)"
   ]
  },
  {
   "cell_type": "code",
   "execution_count": 537,
   "metadata": {},
   "outputs": [],
   "source": [
    "##Extracting all numerical characters out of the a_string\n",
    "#temp = re.findall(r'\\d+', a_string) \n",
    "#res = list(map(int, temp))\n",
    "#print(res)"
   ]
  },
  {
   "cell_type": "markdown",
   "metadata": {},
   "source": [
    "After exploration of the res' output we can see that the goal now is to merge every two elements together in order to obtain the stated price. There is also an obvious issue that Python takes values '000' as '=0', and we get to this soon."
   ]
  },
  {
   "cell_type": "code",
   "execution_count": 538,
   "metadata": {},
   "outputs": [],
   "source": [
    "#res_str = [str(i) for i in res]\n",
    "\n",
    "#Q = []\n",
    "#for k in range(0,7645):\n",
    "#    joined = res_str[0+2*k]+res_str[1+2*k]\n",
    "#    Q.append(joined)\n",
    "#    print(joined)"
   ]
  },
  {
   "cell_type": "markdown",
   "metadata": {},
   "source": [
    "After inspecting the output of the Q list, we can conclude that it seems to work well, except the issue with nulls. We solve this by using the for loop method in combination with \"if statement\". The logic is to take every observation that apparently \"misses two nulls\" (i.e. its value is <1000) and \"add these nulls\" by multiplying the value by 100. Afterwards, everything seems to be just fine..."
   ]
  },
  {
   "cell_type": "code",
   "execution_count": 539,
   "metadata": {},
   "outputs": [],
   "source": [
    "#Q = [float(i) for i in Q]"
   ]
  },
  {
   "cell_type": "code",
   "execution_count": 540,
   "metadata": {},
   "outputs": [],
   "source": [
    "#prices = []\n",
    "\n",
    "#for price in Q:\n",
    "#    if price <1000:\n",
    "#       x = price*100\n",
    "#       prices.append(x)\n",
    "        \n",
    "#    else:\n",
    "#        y = price\n",
    "#        prices.append(y)\n",
    "    \n",
    "#print(prices)"
   ]
  },
  {
   "cell_type": "markdown",
   "metadata": {},
   "source": [
    "# Alternative solution"
   ]
  },
  {
   "cell_type": "code",
   "execution_count": 541,
   "metadata": {},
   "outputs": [],
   "source": [
    "import re"
   ]
  },
  {
   "cell_type": "code",
   "execution_count": 542,
   "metadata": {},
   "outputs": [],
   "source": [
    "def extractor(inp):\n",
    "    try:\n",
    "        result = int(re.sub(\"[^0-9]\", \"\",inp))\n",
    "    except:\n",
    "        result = None\n",
    "    return result"
   ]
  },
  {
   "cell_type": "code",
   "execution_count": 543,
   "metadata": {},
   "outputs": [],
   "source": [
    "data['cena'] = data['Price_total'].apply(extractor)"
   ]
  },
  {
   "cell_type": "code",
   "execution_count": 544,
   "metadata": {
    "scrolled": false
   },
   "outputs": [
    {
     "name": "stdout",
     "output_type": "stream",
     "text": [
      "0       12000.0\n",
      "1        9500.0\n",
      "2       13900.0\n",
      "3       15000.0\n",
      "4       19500.0\n",
      "         ...   \n",
      "7873    35000.0\n",
      "7874    33000.0\n",
      "7875    55000.0\n",
      "7876    75000.0\n",
      "7877    35000.0\n",
      "Name: cena, Length: 7878, dtype: float64\n"
     ]
    }
   ],
   "source": [
    "print(data.cena)"
   ]
  },
  {
   "cell_type": "markdown",
   "metadata": {},
   "source": [
    "We spot faulty values in top 51 result with the EUR information included."
   ]
  },
  {
   "cell_type": "code",
   "execution_count": 545,
   "metadata": {},
   "outputs": [
    {
     "data": {
      "text/plain": [
       "5533    1.269925e+09\n",
       "3993    1.269925e+09\n",
       "7549    1.031504e+09\n",
       "2476    1.031234e+09\n",
       "7526    1.022494e+09\n",
       "7491    1.011024e+09\n",
       "3774    9.913636e+08\n",
       "7545    9.771636e+08\n",
       "7054    9.770736e+08\n",
       "2471    9.768836e+08\n",
       "5466    9.585935e+08\n",
       "7681    9.558535e+08\n",
       "7544    9.553135e+08\n",
       "4024    9.553135e+08\n",
       "7499    9.359234e+08\n",
       "7203    8.247730e+08\n",
       "7047    8.193030e+08\n",
       "7516    7.813429e+08\n",
       "7051    7.641428e+08\n",
       "7592    7.595028e+08\n",
       "3779    7.592228e+08\n",
       "7071    7.439327e+08\n",
       "5524    7.051526e+08\n",
       "3828    7.051526e+08\n",
       "3419    7.048826e+08\n",
       "7070    6.909525e+08\n",
       "3775    6.505324e+08\n",
       "7108    6.505324e+08\n",
       "7543    6.505324e+08\n",
       "7073    6.374223e+08\n",
       "3424    6.374223e+08\n",
       "7546    6.289523e+08\n",
       "7072    6.289023e+08\n",
       "4336    6.286823e+08\n",
       "7504    6.073822e+08\n",
       "3831    5.961822e+08\n",
       "7283    5.527620e+08\n",
       "7300    5.202619e+08\n",
       "7077    5.202619e+08\n",
       "7505    5.027818e+08\n",
       "3262    4.768417e+08\n",
       "7689    4.096515e+08\n",
       "2690    4.096515e+08\n",
       "6456    3.786414e+08\n",
       "7101    3.785214e+08\n",
       "7059    3.708714e+08\n",
       "7370    3.678713e+08\n",
       "7069    2.965911e+08\n",
       "7311    2.941311e+08\n",
       "6727    2.321485e+07\n",
       "Name: cena, dtype: float64"
      ]
     },
     "execution_count": 545,
     "metadata": {},
     "output_type": "execute_result"
    }
   ],
   "source": [
    "data['cena'].sort_values(ascending = False)[1:51]"
   ]
  },
  {
   "cell_type": "code",
   "execution_count": 546,
   "metadata": {},
   "outputs": [],
   "source": [
    "fal_indx = data['cena'].sort_values(ascending = False)[1:51].index #we gather indexes\n",
    "spec = 6727 # it is a special index because has 3 digit number in EUR, all other 4 "
   ]
  },
  {
   "cell_type": "code",
   "execution_count": 547,
   "metadata": {},
   "outputs": [],
   "source": [
    "#let us write a function to handle these exceptions\n",
    "def remove_4(index):\n",
    "    #global fal_indx\n",
    "    #global spec\n",
    "    \n",
    "    def rem_4(inp, n = -6):\n",
    "        strin = str(data['cena'][inp])\n",
    "        return(int(strin[:n]))\n",
    "    \n",
    "    if index in fal_indx:\n",
    "        if index == spec:\n",
    "            data['cena'][index] = rem_4(index, -5)\n",
    "        else:\n",
    "            data['cena'][index] = rem_4(index)"
   ]
  },
  {
   "cell_type": "code",
   "execution_count": 548,
   "metadata": {},
   "outputs": [
    {
     "name": "stderr",
     "output_type": "stream",
     "text": [
      "C:\\Users\\Josef\\Anaconda3\\lib\\site-packages\\ipykernel_launcher.py:14: SettingWithCopyWarning: \n",
      "A value is trying to be set on a copy of a slice from a DataFrame\n",
      "\n",
      "See the caveats in the documentation: http://pandas.pydata.org/pandas-docs/stable/user_guide/indexing.html#returning-a-view-versus-a-copy\n",
      "  \n",
      "C:\\Users\\Josef\\Anaconda3\\lib\\site-packages\\ipykernel_launcher.py:12: SettingWithCopyWarning: \n",
      "A value is trying to be set on a copy of a slice from a DataFrame\n",
      "\n",
      "See the caveats in the documentation: http://pandas.pydata.org/pandas-docs/stable/user_guide/indexing.html#returning-a-view-versus-a-copy\n",
      "  if sys.path[0] == '':\n"
     ]
    },
    {
     "data": {
      "text/plain": [
       "Index([None, None, None, None, None, None, None, None, None, None,\n",
       "       ...\n",
       "       None, None, None, None, None, None, None, None, None, None],\n",
       "      dtype='object', length=7878)"
      ]
     },
     "execution_count": 548,
     "metadata": {},
     "output_type": "execute_result"
    }
   ],
   "source": [
    "data.index.map(remove_4) #Despite the error, it does what we wanted "
   ]
  },
  {
   "cell_type": "markdown",
   "metadata": {},
   "source": [
    "Test:"
   ]
  },
  {
   "cell_type": "code",
   "execution_count": 549,
   "metadata": {},
   "outputs": [
    {
     "data": {
      "text/plain": [
       "126992.0"
      ]
     },
     "execution_count": 549,
     "metadata": {},
     "output_type": "execute_result"
    }
   ],
   "source": [
    "data['cena'][3993]"
   ]
  },
  {
   "cell_type": "code",
   "execution_count": 550,
   "metadata": {},
   "outputs": [
    {
     "data": {
      "text/plain": [
       "\"['126 992 Kč (4 650 EUR) za měsíc, bez poplatků']\""
      ]
     },
     "execution_count": 550,
     "metadata": {},
     "output_type": "execute_result"
    }
   ],
   "source": [
    "data['Price_total'][3993]"
   ]
  },
  {
   "cell_type": "markdown",
   "metadata": {},
   "source": [
    "Histograms for price"
   ]
  },
  {
   "cell_type": "code",
   "execution_count": 551,
   "metadata": {},
   "outputs": [],
   "source": [
    "%matplotlib inline\n",
    "import matplotlib.pyplot as plt\n",
    "plt.style.use('seaborn-whitegrid')"
   ]
  },
  {
   "cell_type": "code",
   "execution_count": 552,
   "metadata": {},
   "outputs": [
    {
     "data": {
      "text/plain": [
       "(array([  11,  427, 2216, 1904,  967,  667, 1453], dtype=int64),\n",
       " array([        0,      5000,     10000,     15000,     20000,     25000,\n",
       "            30000, 100000000]))"
      ]
     },
     "execution_count": 552,
     "metadata": {},
     "output_type": "execute_result"
    }
   ],
   "source": [
    "np.histogram(data['cena'], bins = [0,5000,10000,15000,20000,25000,30000, 100000000])"
   ]
  },
  {
   "cell_type": "code",
   "execution_count": 553,
   "metadata": {},
   "outputs": [
    {
     "data": {
      "image/png": "[encoded data removed]",
      "text/plain": [
       "<Figure size 432x288 with 1 Axes>"
      ]
     },
     "metadata": {},
     "output_type": "display_data"
    }
   ],
   "source": [
    "plt.hist(data['cena'], np.arange(100000, step = 5000))\n",
    "plt.show()"
   ]
  },
  {
   "cell_type": "code",
   "execution_count": 554,
   "metadata": {},
   "outputs": [
    {
     "data": {
      "image/png": "[encoded data removed]",
      "text/plain": [
       "<Figure size 432x288 with 1 Axes>"
      ]
     },
     "metadata": {},
     "output_type": "display_data"
    }
   ],
   "source": [
    "plt.hist(data['cena'], np.arange(40000,100000, step = 5000))\n",
    "plt.show()"
   ]
  },
  {
   "cell_type": "code",
   "execution_count": 555,
   "metadata": {},
   "outputs": [
    {
     "data": {
      "image/png": "[encoded data removed]",
      "text/plain": [
       "<Figure size 432x288 with 1 Axes>"
      ]
     },
     "metadata": {},
     "output_type": "display_data"
    }
   ],
   "source": [
    "plt.hist(data['cena'], np.arange(100000,200000, step = 5000))\n",
    "plt.show()"
   ]
  },
  {
   "cell_type": "markdown",
   "metadata": {},
   "source": [
    "## III. Main indicators of price (number of rooms, area size, condition of object)\n",
    "\n",
    "First of all, we focus at the most usual drivers of rents' prices and analyse their relationships. \n",
    "\n",
    "#regrese (covariances), point plot \n",
    "#title ma pocet mistnosti\n",
    "#lisi se podlahova a uzita plocha\n",
    "#condition"
   ]
  },
  {
   "cell_type": "markdown",
   "metadata": {},
   "source": [
    "## IV. Price and adress"
   ]
  },
  {
   "cell_type": "code",
   "execution_count": 556,
   "metadata": {},
   "outputs": [],
   "source": [
    "#různé části prahy - histogram\n",
    "#regrese, point plot \n",
    "#cena - to budu muset nějak vyfiltrovat z toho dlouhého popisku"
   ]
  },
  {
   "cell_type": "markdown",
   "metadata": {},
   "source": [
    "## V. Energy demans and adress"
   ]
  },
  {
   "cell_type": "code",
   "execution_count": 557,
   "metadata": {},
   "outputs": [],
   "source": [
    "#regrese, point plot (jsou lokace se energetickou narocnosti shlukovane?)"
   ]
  },
  {
   "cell_type": "markdown",
   "metadata": {},
   "source": [
    "## VI. Price and metro"
   ]
  },
  {
   "cell_type": "code",
   "execution_count": 558,
   "metadata": {},
   "outputs": [],
   "source": [
    "#regrese, point plot \n",
    "#vlak bude fungovat podobně (přidat srovnání, jak by to vyšlo, kdybychom uvažovali 'Metro' OR 'Vlak')"
   ]
  },
  {
   "cell_type": "markdown",
   "metadata": {},
   "source": [
    "## VII. Metro localization"
   ]
  },
  {
   "cell_type": "markdown",
   "metadata": {},
   "source": [
    "#dokazeme urcit pozici metra pouze s techto dat pomoci kruznic a pruseciku\n",
    "#How can we get a Prague map in geopandas\n",
    "#Understand wheater we can plot address with geopandas (if not, we have to use google maps api to convert address to coordinates)"
   ]
  },
  {
   "cell_type": "markdown",
   "metadata": {},
   "source": [
    "## Some remarks at the end "
   ]
  },
  {
   "cell_type": "markdown",
   "metadata": {},
   "source": [
    "- Zmínit koronavirus a to jak ovlivňuje ceny nemovitostí (takže normálně by ceny bytů v centru byly dražší - pro srovnání můžeme jen jednoduše nakopírovat pár historických cen). => ubjektivní pohled potvrzují i data Bezrealitky.cz, které od poloviny března zaznamenaly výrazně vyšší nárůst u pražských bytů zařazovaných do nabídky. Zatímco v hlavním městě jich bylo aktivovaných v nabídce 1 544, během března (k 27. 3.) již 2 183. To je nárůst o 41 procent."
   ]
  },
  {
   "cell_type": "markdown",
   "metadata": {},
   "source": [
    "## Data cleaning and processing"
   ]
  },
  {
   "cell_type": "markdown",
   "metadata": {},
   "source": [
    "## Cleaning the square brackets in the whole dataset"
   ]
  },
  {
   "cell_type": "code",
   "execution_count": 588,
   "metadata": {},
   "outputs": [],
   "source": [
    "data = data.applymap(lambda x: x.strip(\"['']\") if type(x) == str else x) #deletes all the square brackets"
   ]
  },
  {
   "cell_type": "markdown",
   "metadata": {},
   "source": [
    "### Separate distance and name "
   ]
  },
  {
   "cell_type": "code",
   "execution_count": 589,
   "metadata": {},
   "outputs": [],
   "source": [
    "def brush(x, posi):\n",
    "    if ~(type(x) == float and np.isnan(x)):\n",
    "        try:\n",
    "            first = x.strip('[]') \n",
    "            return first.split(\"', '\")[posi]\n",
    "        except IndexError:\n",
    "            first = x.strip('[]') \n",
    "            return first.split(\",\")[posi]\n",
    "\n",
    "    else:\n",
    "        return None  "
   ]
  },
  {
   "cell_type": "code",
   "execution_count": 590,
   "metadata": {},
   "outputs": [],
   "source": [
    "def clean(var_name):\n",
    "    data[f'{var_name}_name'] = data[var_name].apply(brush, args = (0,))\n",
    "    data[f'{var_name}_dist'] = data[var_name].apply(brush, args = (1,))\n",
    "    data[f'{var_name}_dist'] = data[f'{var_name}_dist'].apply(extractor)\n",
    "    "
   ]
  },
  {
   "cell_type": "code",
   "execution_count": 591,
   "metadata": {},
   "outputs": [],
   "source": [
    "var_to_clean = ['Bankomat','Bus_MHD', 'Cukrárna','Divadlo','Hospoda','Hřiště','Kino',\n",
    " 'Kulturní_památka', 'Lékař', 'Lékárna', 'Metro','Obchod','Pošta','Restaurace', 'Sportoviště',\n",
    "'Tram', 'Veterinář', 'Večerka', 'Vlak','Škola', 'Školka']"
   ]
  },
  {
   "cell_type": "code",
   "execution_count": 592,
   "metadata": {
    "scrolled": true
   },
   "outputs": [],
   "source": [
    "for var in var_to_clean:\n",
    "    clean(var)"
   ]
  },
  {
   "cell_type": "markdown",
   "metadata": {},
   "source": [
    "### converting True & False to 1 & 0"
   ]
  },
  {
   "cell_type": "code",
   "execution_count": 631,
   "metadata": {},
   "outputs": [],
   "source": [
    "def Booli(x):\n",
    "    if ~(type(x) == float and np.isnan(x)):\n",
    "        if x == '\"\\'boolean-false\\'\"':\n",
    "            return 0\n",
    "        elif x == '\"\\'boolean-true\\'\"':\n",
    "            return 1\n",
    "        else:\n",
    "            return x\n",
    "    else:\n",
    "        return x"
   ]
  },
  {
   "cell_type": "code",
   "execution_count": 632,
   "metadata": {},
   "outputs": [],
   "source": [
    "def convert_01(var_name):\n",
    "    data[var_name] = data[var_name].apply(Booli)  "
   ]
  },
  {
   "cell_type": "code",
   "execution_count": 633,
   "metadata": {},
   "outputs": [],
   "source": [
    "var_conv = ['Výtah','Vybavení']"
   ]
  },
  {
   "cell_type": "code",
   "execution_count": 634,
   "metadata": {},
   "outputs": [],
   "source": [
    "for var in var_conv:\n",
    "    convert_01(var)"
   ]
  },
  {
   "cell_type": "markdown",
   "metadata": {},
   "source": [
    "### Analyzing certain vars"
   ]
  },
  {
   "cell_type": "code",
   "execution_count": 597,
   "metadata": {},
   "outputs": [],
   "source": [
    "def group_exm(var_name):\n",
    "    return data.groupby(var_name)[var_name].count()\n",
    "    "
   ]
  },
  {
   "cell_type": "code",
   "execution_count": 598,
   "metadata": {},
   "outputs": [
    {
     "data": {
      "text/plain": [
       "Aktualizace\n",
       "01.02.2020       1\n",
       "01.03.2020       1\n",
       "01.04.2020      71\n",
       "02.01.2020       2\n",
       "02.02.2020       5\n",
       "              ... \n",
       "30.03.2020      46\n",
       "30.11.2019       1\n",
       "31.03.2020     104\n",
       "Dnes          1271\n",
       "Včera          489\n",
       "Name: Aktualizace, Length: 127, dtype: int64"
      ]
     },
     "execution_count": 598,
     "metadata": {},
     "output_type": "execute_result"
    }
   ],
   "source": [
    "group_exm('Aktualizace')"
   ]
  },
  {
   "cell_type": "code",
   "execution_count": 599,
   "metadata": {},
   "outputs": [
    {
     "data": {
      "text/plain": [
       "Stav_objektu\n",
       "Dobrý                 630\n",
       "K demolici              1\n",
       "Novostavba           1267\n",
       "Po rekonstrukci      1679\n",
       "Projekt                 2\n",
       "Před rekonstrukcí      11\n",
       "Ve výstavbě             1\n",
       "Velmi dobrý          4287\n",
       "Name: Stav_objektu, dtype: int64"
      ]
     },
     "execution_count": 599,
     "metadata": {},
     "output_type": "execute_result"
    }
   ],
   "source": [
    "group_exm('Stav_objektu')"
   ]
  },
  {
   "cell_type": "code",
   "execution_count": 600,
   "metadata": {
    "scrolled": false
   },
   "outputs": [
    {
     "data": {
      "text/plain": [
       "Stavba\n",
       "Cihlová      6365\n",
       "Dřevěná         6\n",
       "Kamenná        10\n",
       "Montovaná       8\n",
       "Panelová      635\n",
       "Skeletová     243\n",
       "Smíšená       611\n",
       "Name: Stavba, dtype: int64"
      ]
     },
     "execution_count": 600,
     "metadata": {},
     "output_type": "execute_result"
    }
   ],
   "source": [
    "group_exm('Stavba')"
   ]
  },
  {
   "cell_type": "code",
   "execution_count": 601,
   "metadata": {
    "scrolled": false
   },
   "outputs": [
    {
     "data": {
      "text/plain": [
       "Vlastnictví\n",
       "Družstevní        208\n",
       "Osobní           7633\n",
       "Státní/obecní      36\n",
       "Name: Vlastnictví, dtype: int64"
      ]
     },
     "execution_count": 601,
     "metadata": {},
     "output_type": "execute_result"
    }
   ],
   "source": [
    "group_exm('Vlastnictví')"
   ]
  },
  {
   "cell_type": "code",
   "execution_count": 602,
   "metadata": {
    "scrolled": false
   },
   "outputs": [
    {
     "data": {
      "text/plain": [
       "Vybavení\n",
       "\"'boolean-false'\"     987\n",
       "\"'boolean-true'\"     3845\n",
       "Částečně             1145\n",
       "Name: Vybavení, dtype: int64"
      ]
     },
     "execution_count": 602,
     "metadata": {},
     "output_type": "execute_result"
    }
   ],
   "source": [
    "group_exm('Vybavení')"
   ]
  },
  {
   "cell_type": "code",
   "execution_count": 603,
   "metadata": {
    "scrolled": true
   },
   "outputs": [
    {
     "data": {
      "text/plain": [
       "Energy_demands\n",
       "Třída A - Mimořádně úsporná                                          42\n",
       "Třída A - Mimořádně úsporná č. 148/2007 Sb. podle vyhlášky            1\n",
       "Třída A - Mimořádně úsporná č. 78/2013 Sb. podle vyhlášky            11\n",
       "Třída B - Velmi úsporná                                             298\n",
       "Třída B - Velmi úsporná č. 148/2007 Sb. podle vyhlášky               34\n",
       "Třída B - Velmi úsporná č. 78/2013 Sb. podle vyhlášky               284\n",
       "Třída C - Úsporná                                                   477\n",
       "Třída C - Úsporná č. 148/2007 Sb. podle vyhlášky                     49\n",
       "Třída C - Úsporná č. 78/2013 Sb. podle vyhlášky                     341\n",
       "Třída D - Méně úsporná                                              187\n",
       "Třída D - Méně úsporná č. 148/2007 Sb. podle vyhlášky                21\n",
       "Třída D - Méně úsporná č. 78/2013 Sb. podle vyhlášky                187\n",
       "Třída E - Nehospodárná                                               51\n",
       "Třída E - Nehospodárná č. 148/2007 Sb. podle vyhlášky                12\n",
       "Třída E - Nehospodárná č. 78/2013 Sb. podle vyhlášky                 57\n",
       "Třída F - Velmi nehospodárná                                         11\n",
       "Třída F - Velmi nehospodárná č. 78/2013 Sb. podle vyhlášky           36\n",
       "Třída G - Mimořádně nehospodárná                                   2604\n",
       "Třída G - Mimořádně nehospodárná č. 148/2007 Sb. podle vyhlášky     223\n",
       "Třída G - Mimořádně nehospodárná č. 78/2013 Sb. podle vyhlášky     1056\n",
       "Name: Energy_demands, dtype: int64"
      ]
     },
     "execution_count": 603,
     "metadata": {},
     "output_type": "execute_result"
    }
   ],
   "source": [
    "group_exm('Energy_demands') #this could yet tell us something"
   ]
  },
  {
   "cell_type": "markdown",
   "metadata": {},
   "source": [
    "### Transformation of energy demands"
   ]
  },
  {
   "cell_type": "code",
   "execution_count": 604,
   "metadata": {},
   "outputs": [],
   "source": [
    "def eng_class(x):\n",
    "    \n",
    "    if x in ['Třída A - Mimořádně úsporná','Třída A - Mimořádně úsporná č. 148/2007 Sb. podle vyhlášky','Třída A - Mimořádně úsporná č. 78/2013 Sb. podle vyhlášky']:\n",
    "        clas = 'A'\n",
    "    elif x in ['Třída B - Velmi úsporná', 'Třída B - Velmi úsporná č. 148/2007 Sb. podle vyhlášky', 'Třída B - Velmi úsporná č. 78/2013 Sb. podle vyhlášky']:\n",
    "        clas = 'B'\n",
    "    elif x in ['Třída C - Úsporná', 'Třída C - Úsporná č. 148/2007 Sb. podle vyhlášky', 'Třída C - Úsporná č. 78/2013 Sb. podle vyhlášky']:\n",
    "        clas = 'C'\n",
    "    elif x in ['Třída D - Méně úsporná', 'Třída D - Méně úsporná č. 148/2007 Sb. podle vyhlášky', 'Třída D - Méně úsporná č. 78/2013 Sb. podle vyhlášky']:\n",
    "        clas = 'D'\n",
    "    elif x in ['Třída E - Nehospodárná','Třída E - Nehospodárná č. 148/2007 Sb. podle vyhlášky', 'Třída E - Nehospodárná č. 78/2013 Sb. podle vyhlášky']:\n",
    "        clas = 'E'\n",
    "    elif x in ['Třída F - Velmi nehospodárná','Třída F - Velmi nehospodárná č. 78/2013 Sb. podle vyhlášky']:\n",
    "        clas = 'F'\n",
    "    elif x in ['Třída G - Mimořádně nehospodárná','Třída G - Mimořádně nehospodárná č. 148/2007 Sb. podle vyhlášky', 'Třída G - Mimořádně nehospodárná č. 78/2013 Sb. podle vyhlášky']:\n",
    "        clas = 'G'\n",
    "    else:\n",
    "        clas = x\n",
    "    \n",
    "    return clas"
   ]
  },
  {
   "cell_type": "code",
   "execution_count": 605,
   "metadata": {},
   "outputs": [],
   "source": [
    "data['Energy_class'] = data['Energy_demands'].apply(eng_class)"
   ]
  },
  {
   "cell_type": "code",
   "execution_count": 606,
   "metadata": {
    "scrolled": true
   },
   "outputs": [
    {
     "data": {
      "text/plain": [
       "Energy_class\n",
       "A      54\n",
       "B     616\n",
       "C     867\n",
       "D     395\n",
       "E     120\n",
       "F      47\n",
       "G    3883\n",
       "Name: Energy_class, dtype: int64"
      ]
     },
     "execution_count": 606,
     "metadata": {},
     "output_type": "execute_result"
    }
   ],
   "source": [
    "group_exm('Energy_class')"
   ]
  },
  {
   "cell_type": "markdown",
   "metadata": {},
   "source": [
    "### Transformation of Plocha_podlahova and Area"
   ]
  },
  {
   "cell_type": "code",
   "execution_count": 607,
   "metadata": {},
   "outputs": [],
   "source": [
    "ar_var = ['Area', 'Plocha_podlahová']"
   ]
  },
  {
   "cell_type": "code",
   "execution_count": 608,
   "metadata": {},
   "outputs": [],
   "source": [
    "def ext_m2(inp):\n",
    "    if ~(type(inp) == float and np.isnan(inp)):\n",
    "        return int(inp.split('m2')[0])\n",
    "    else:\n",
    "        return inp        "
   ]
  },
  {
   "cell_type": "code",
   "execution_count": 609,
   "metadata": {
    "scrolled": true
   },
   "outputs": [
    {
     "ename": "AttributeError",
     "evalue": "'int' object has no attribute 'split'",
     "output_type": "error",
     "traceback": [
      "\u001b[1;31m---------------------------------------------------------------------------\u001b[0m",
      "\u001b[1;31mAttributeError\u001b[0m                            Traceback (most recent call last)",
      "\u001b[1;32m<ipython-input-609-c1cb0fb6c964>\u001b[0m in \u001b[0;36m<module>\u001b[1;34m\u001b[0m\n\u001b[0;32m      1\u001b[0m \u001b[1;32mfor\u001b[0m \u001b[0mvar\u001b[0m \u001b[1;32min\u001b[0m \u001b[0mar_var\u001b[0m\u001b[1;33m:\u001b[0m\u001b[1;33m\u001b[0m\u001b[1;33m\u001b[0m\u001b[0m\n\u001b[1;32m----> 2\u001b[1;33m     \u001b[0mdata\u001b[0m\u001b[1;33m[\u001b[0m\u001b[0mvar\u001b[0m\u001b[1;33m]\u001b[0m \u001b[1;33m=\u001b[0m \u001b[0mdata\u001b[0m\u001b[1;33m[\u001b[0m\u001b[0mvar\u001b[0m\u001b[1;33m]\u001b[0m\u001b[1;33m.\u001b[0m\u001b[0mapply\u001b[0m\u001b[1;33m(\u001b[0m\u001b[0mext_m2\u001b[0m\u001b[1;33m)\u001b[0m\u001b[1;33m\u001b[0m\u001b[1;33m\u001b[0m\u001b[0m\n\u001b[0m",
      "\u001b[1;32m~\\Anaconda3\\lib\\site-packages\\pandas\\core\\series.py\u001b[0m in \u001b[0;36mapply\u001b[1;34m(self, func, convert_dtype, args, **kwds)\u001b[0m\n\u001b[0;32m   4040\u001b[0m             \u001b[1;32melse\u001b[0m\u001b[1;33m:\u001b[0m\u001b[1;33m\u001b[0m\u001b[1;33m\u001b[0m\u001b[0m\n\u001b[0;32m   4041\u001b[0m                 \u001b[0mvalues\u001b[0m \u001b[1;33m=\u001b[0m \u001b[0mself\u001b[0m\u001b[1;33m.\u001b[0m\u001b[0mastype\u001b[0m\u001b[1;33m(\u001b[0m\u001b[0mobject\u001b[0m\u001b[1;33m)\u001b[0m\u001b[1;33m.\u001b[0m\u001b[0mvalues\u001b[0m\u001b[1;33m\u001b[0m\u001b[1;33m\u001b[0m\u001b[0m\n\u001b[1;32m-> 4042\u001b[1;33m                 \u001b[0mmapped\u001b[0m \u001b[1;33m=\u001b[0m \u001b[0mlib\u001b[0m\u001b[1;33m.\u001b[0m\u001b[0mmap_infer\u001b[0m\u001b[1;33m(\u001b[0m\u001b[0mvalues\u001b[0m\u001b[1;33m,\u001b[0m \u001b[0mf\u001b[0m\u001b[1;33m,\u001b[0m \u001b[0mconvert\u001b[0m\u001b[1;33m=\u001b[0m\u001b[0mconvert_dtype\u001b[0m\u001b[1;33m)\u001b[0m\u001b[1;33m\u001b[0m\u001b[1;33m\u001b[0m\u001b[0m\n\u001b[0m\u001b[0;32m   4043\u001b[0m \u001b[1;33m\u001b[0m\u001b[0m\n\u001b[0;32m   4044\u001b[0m         \u001b[1;32mif\u001b[0m \u001b[0mlen\u001b[0m\u001b[1;33m(\u001b[0m\u001b[0mmapped\u001b[0m\u001b[1;33m)\u001b[0m \u001b[1;32mand\u001b[0m \u001b[0misinstance\u001b[0m\u001b[1;33m(\u001b[0m\u001b[0mmapped\u001b[0m\u001b[1;33m[\u001b[0m\u001b[1;36m0\u001b[0m\u001b[1;33m]\u001b[0m\u001b[1;33m,\u001b[0m \u001b[0mSeries\u001b[0m\u001b[1;33m)\u001b[0m\u001b[1;33m:\u001b[0m\u001b[1;33m\u001b[0m\u001b[1;33m\u001b[0m\u001b[0m\n",
      "\u001b[1;32mpandas\\_libs\\lib.pyx\u001b[0m in \u001b[0;36mpandas._libs.lib.map_infer\u001b[1;34m()\u001b[0m\n",
      "\u001b[1;32m<ipython-input-608-ee925ab55afd>\u001b[0m in \u001b[0;36mext_m2\u001b[1;34m(inp)\u001b[0m\n\u001b[0;32m      1\u001b[0m \u001b[1;32mdef\u001b[0m \u001b[0mext_m2\u001b[0m\u001b[1;33m(\u001b[0m\u001b[0minp\u001b[0m\u001b[1;33m)\u001b[0m\u001b[1;33m:\u001b[0m\u001b[1;33m\u001b[0m\u001b[1;33m\u001b[0m\u001b[0m\n\u001b[0;32m      2\u001b[0m     \u001b[1;32mif\u001b[0m \u001b[1;33m~\u001b[0m\u001b[1;33m(\u001b[0m\u001b[0mtype\u001b[0m\u001b[1;33m(\u001b[0m\u001b[0minp\u001b[0m\u001b[1;33m)\u001b[0m \u001b[1;33m==\u001b[0m \u001b[0mfloat\u001b[0m \u001b[1;32mand\u001b[0m \u001b[0mnp\u001b[0m\u001b[1;33m.\u001b[0m\u001b[0misnan\u001b[0m\u001b[1;33m(\u001b[0m\u001b[0minp\u001b[0m\u001b[1;33m)\u001b[0m\u001b[1;33m)\u001b[0m\u001b[1;33m:\u001b[0m\u001b[1;33m\u001b[0m\u001b[1;33m\u001b[0m\u001b[0m\n\u001b[1;32m----> 3\u001b[1;33m         \u001b[1;32mreturn\u001b[0m \u001b[0mint\u001b[0m\u001b[1;33m(\u001b[0m\u001b[0minp\u001b[0m\u001b[1;33m.\u001b[0m\u001b[0msplit\u001b[0m\u001b[1;33m(\u001b[0m\u001b[1;34m'm2'\u001b[0m\u001b[1;33m)\u001b[0m\u001b[1;33m[\u001b[0m\u001b[1;36m0\u001b[0m\u001b[1;33m]\u001b[0m\u001b[1;33m)\u001b[0m\u001b[1;33m\u001b[0m\u001b[1;33m\u001b[0m\u001b[0m\n\u001b[0m\u001b[0;32m      4\u001b[0m     \u001b[1;32melse\u001b[0m\u001b[1;33m:\u001b[0m\u001b[1;33m\u001b[0m\u001b[1;33m\u001b[0m\u001b[0m\n\u001b[0;32m      5\u001b[0m         \u001b[1;32mreturn\u001b[0m \u001b[0minp\u001b[0m\u001b[1;33m\u001b[0m\u001b[1;33m\u001b[0m\u001b[0m\n",
      "\u001b[1;31mAttributeError\u001b[0m: 'int' object has no attribute 'split'"
     ]
    }
   ],
   "source": [
    "for var in ar_var:\n",
    "    data[var] = data[var].apply(ext_m2)"
   ]
  },
  {
   "cell_type": "code",
   "execution_count": 610,
   "metadata": {},
   "outputs": [
    {
     "data": {
      "text/plain": [
       "4593"
      ]
     },
     "execution_count": 610,
     "metadata": {},
     "output_type": "execute_result"
    }
   ],
   "source": [
    "sum(data['Plocha_podlahová'] == data['Area']) #those variables are the in 50% of the cases"
   ]
  },
  {
   "cell_type": "code",
   "execution_count": 611,
   "metadata": {},
   "outputs": [],
   "source": [
    "#sloupce ID_zakáyzky, Aktualize asi nemaji velkou informacni hodnotu pro nase ucely. "
   ]
  },
  {
   "cell_type": "code",
   "execution_count": 621,
   "metadata": {},
   "outputs": [
    {
     "data": {
      "text/html": [
       "<div>\n",
       "<style scoped>\n",
       "    .dataframe tbody tr th:only-of-type {\n",
       "        vertical-align: middle;\n",
       "    }\n",
       "\n",
       "    .dataframe tbody tr th {\n",
       "        vertical-align: top;\n",
       "    }\n",
       "\n",
       "    .dataframe thead th {\n",
       "        text-align: right;\n",
       "    }\n",
       "</style>\n",
       "<table border=\"1\" class=\"dataframe\">\n",
       "  <thead>\n",
       "    <tr style=\"text-align: right;\">\n",
       "      <th></th>\n",
       "      <th>Adresa</th>\n",
       "      <th>Aktualizace</th>\n",
       "      <th>Bankomat</th>\n",
       "      <th>Bus_MHD</th>\n",
       "      <th>Price_total</th>\n",
       "      <th>Cukrárna</th>\n",
       "      <th>Divadlo</th>\n",
       "      <th>Energy_demands</th>\n",
       "      <th>Hospoda</th>\n",
       "      <th>Hřiště</th>\n",
       "      <th>ID_zakázky:</th>\n",
       "      <th>Kino</th>\n",
       "      <th>Kulturní_památka</th>\n",
       "      <th>Lékař</th>\n",
       "      <th>Lékárna</th>\n",
       "      <th>Metro</th>\n",
       "      <th>Obchod</th>\n",
       "      <th>Plocha_podlahová</th>\n",
       "      <th>Podlaží</th>\n",
       "      <th>Poznámka_k_ceně</th>\n",
       "      <th>Pošta</th>\n",
       "      <th>Restaurace</th>\n",
       "      <th>Sportoviště</th>\n",
       "      <th>Stav_objektu</th>\n",
       "      <th>Stavba</th>\n",
       "      <th>Title</th>\n",
       "      <th>Tram</th>\n",
       "      <th>Area</th>\n",
       "      <th>Veterinář</th>\n",
       "      <th>Večerka</th>\n",
       "      <th>Vlak</th>\n",
       "      <th>Vlastnictví</th>\n",
       "      <th>Vybavení</th>\n",
       "      <th>Výtah</th>\n",
       "      <th>Škola</th>\n",
       "      <th>Školka</th>\n",
       "      <th>Bankomat_name</th>\n",
       "      <th>Bankomat_dist</th>\n",
       "      <th>Bus_MHD_name</th>\n",
       "      <th>Bus_MHD_dist</th>\n",
       "      <th>Cukrárna_name</th>\n",
       "      <th>Cukrárna_dist</th>\n",
       "      <th>Divadlo_name</th>\n",
       "      <th>Divadlo_dist</th>\n",
       "      <th>Hospoda_name</th>\n",
       "      <th>Hospoda_dist</th>\n",
       "      <th>Hřiště_name</th>\n",
       "      <th>Hřiště_dist</th>\n",
       "      <th>Kino_name</th>\n",
       "      <th>Kino_dist</th>\n",
       "      <th>Kulturní_památka_name</th>\n",
       "      <th>Kulturní_památka_dist</th>\n",
       "      <th>Lékař_name</th>\n",
       "      <th>Lékař_dist</th>\n",
       "      <th>Lékárna_name</th>\n",
       "      <th>Lékárna_dist</th>\n",
       "      <th>Metro_name</th>\n",
       "      <th>Metro_dist</th>\n",
       "      <th>Obchod_name</th>\n",
       "      <th>Obchod_dist</th>\n",
       "      <th>Pošta_name</th>\n",
       "      <th>Pošta_dist</th>\n",
       "      <th>Restaurace_name</th>\n",
       "      <th>Restaurace_dist</th>\n",
       "      <th>Sportoviště_name</th>\n",
       "      <th>Sportoviště_dist</th>\n",
       "      <th>Tram_name</th>\n",
       "      <th>Tram_dist</th>\n",
       "      <th>Veterinář_name</th>\n",
       "      <th>Veterinář_dist</th>\n",
       "      <th>Večerka_name</th>\n",
       "      <th>Večerka_dist</th>\n",
       "      <th>Vlak_name</th>\n",
       "      <th>Vlak_dist</th>\n",
       "      <th>Škola_name</th>\n",
       "      <th>Škola_dist</th>\n",
       "      <th>Školka_name</th>\n",
       "      <th>Školka_dist</th>\n",
       "      <th>Energy_class</th>\n",
       "    </tr>\n",
       "  </thead>\n",
       "  <tbody>\n",
       "    <tr>\n",
       "      <td>0</td>\n",
       "      <td>Dobrovolného, Praha 9 - Černý Most Panorama</td>\n",
       "      <td>Dnes</td>\n",
       "      <td>Bankomat České spořitelny', ' (542 m)</td>\n",
       "      <td>Generála Janouška', ' (132 m)</td>\n",
       "      <td>12 000 Kč za měsíc</td>\n",
       "      <td>Shisha Room Dvin', ' (1144 m)</td>\n",
       "      <td>Přírodní divadlo Dády Stoklasy', ' (3152 m)</td>\n",
       "      <td>Třída G - Mimořádně nehospodárná</td>\n",
       "      <td>Šenk Na Rajské', ' (476 m)</td>\n",
       "      <td>Dětské hřiště Rajský vrch', ' (162 m)</td>\n",
       "      <td>N05462</td>\n",
       "      <td>CineStar Černý Most', ' (1815 m)</td>\n",
       "      <td>Hajnova vila', ' (3984 m)</td>\n",
       "      <td>MUDr. Zdeněk Valentík', ' (363 m)</td>\n",
       "      <td>Lékárna U Rajské zahrady', ' (500 m)</td>\n",
       "      <td>Rajská zahrada', ' (525 m)</td>\n",
       "      <td>Kaufland', ' (1486 m)</td>\n",
       "      <td>26.0</td>\n",
       "      <td>1. podlaží z celkem 5</td>\n",
       "      <td>+ 2.500,-Kč poplatky, elektřina, provize RK</td>\n",
       "      <td>Pošta Praha 98 - Česká pošta, s.p.', ' (442 m)</td>\n",
       "      <td>Jiří Stopfer', ' (443 m)</td>\n",
       "      <td>Veřejné hřiště na míčové hry Pospíchalova', ' ...</td>\n",
       "      <td>Novostavba</td>\n",
       "      <td>Skeletová</td>\n",
       "      <td>Pronájem bytu 1+kk 26 m²</td>\n",
       "      <td>Lehovec', ' (1136 m)</td>\n",
       "      <td>26</td>\n",
       "      <td>MetropoleVet Praha s.r.o.', ' (623 m)</td>\n",
       "      <td>Albert Supermarket', ' (451 m)</td>\n",
       "      <td>Praha-Kyje', ' (1445 m)</td>\n",
       "      <td>Osobní</td>\n",
       "      <td>NaN</td>\n",
       "      <td>NaN</td>\n",
       "      <td>ZUŠ Praha 9, Ratibořická', ' (234 m)</td>\n",
       "      <td>MŠ Sluníčko Praha 9 - Černý Most', ' (279 m)</td>\n",
       "      <td>Bankomat České spořitelny</td>\n",
       "      <td>542.0</td>\n",
       "      <td>Generála Janouška</td>\n",
       "      <td>132.0</td>\n",
       "      <td>Shisha Room Dvin</td>\n",
       "      <td>1144.0</td>\n",
       "      <td>Přírodní divadlo Dády Stoklasy</td>\n",
       "      <td>3152.0</td>\n",
       "      <td>Šenk Na Rajské</td>\n",
       "      <td>476.0</td>\n",
       "      <td>Dětské hřiště Rajský vrch</td>\n",
       "      <td>162.0</td>\n",
       "      <td>CineStar Černý Most</td>\n",
       "      <td>1815.0</td>\n",
       "      <td>Hajnova vila</td>\n",
       "      <td>3984.0</td>\n",
       "      <td>MUDr. Zdeněk Valentík</td>\n",
       "      <td>363.0</td>\n",
       "      <td>Lékárna U Rajské zahrady</td>\n",
       "      <td>500.0</td>\n",
       "      <td>Rajská zahrada</td>\n",
       "      <td>525.0</td>\n",
       "      <td>Kaufland</td>\n",
       "      <td>1486.0</td>\n",
       "      <td>Pošta Praha 98 - Česká pošta, s.p.</td>\n",
       "      <td>442.0</td>\n",
       "      <td>Jiří Stopfer</td>\n",
       "      <td>443.0</td>\n",
       "      <td>Veřejné hřiště na míčové hry Pospíchalova</td>\n",
       "      <td>295.0</td>\n",
       "      <td>Lehovec</td>\n",
       "      <td>1136.0</td>\n",
       "      <td>MetropoleVet Praha s.r.o.</td>\n",
       "      <td>623.0</td>\n",
       "      <td>Albert Supermarket</td>\n",
       "      <td>451.0</td>\n",
       "      <td>Praha-Kyje</td>\n",
       "      <td>1445.0</td>\n",
       "      <td>ZUŠ Praha 9, Ratibořická</td>\n",
       "      <td>234.0</td>\n",
       "      <td>MŠ Sluníčko Praha 9 - Černý Most</td>\n",
       "      <td>279.0</td>\n",
       "      <td>G</td>\n",
       "    </tr>\n",
       "    <tr>\n",
       "      <td>1</td>\n",
       "      <td>Bořivojova, Praha 3 - Žižkov Panorama</td>\n",
       "      <td>Dnes</td>\n",
       "      <td>Bankomat České spořitelny', ' (122 m)</td>\n",
       "      <td>Tachovské náměstí', ' (443 m)</td>\n",
       "      <td>9 500 Kč za nemovitost, + provize RK</td>\n",
       "      <td>Klub JINÝ KAFE', ' (283 m)</td>\n",
       "      <td>Žižkovské divadlo Járy Cimrmana', ' (280 m)</td>\n",
       "      <td>Třída G - Mimořádně nehospodárná</td>\n",
       "      <td>Hospůdka U Habásků', ' (209 m)</td>\n",
       "      <td>Dětské hřiště Bořivojova', ' (294 m)</td>\n",
       "      <td>57/4562</td>\n",
       "      <td>Filmový klub VŠE', ' (691 m)</td>\n",
       "      <td>Dům U černé Matky Boží', ' (1846 m)</td>\n",
       "      <td>MUDr. Milan Hudi', ' (502 m)</td>\n",
       "      <td>Lékárna U Matky Boží', ' (147 m)</td>\n",
       "      <td>Jiřího z Poděbrad', ' (652 m)</td>\n",
       "      <td>PAVILON, a.s.', ' (941 m)</td>\n",
       "      <td>23.0</td>\n",
       "      <td>5. podlaží z celkem 4</td>\n",
       "      <td>plus poplatky, 500</td>\n",
       "      <td>Pošta Praha 35 - Česká pošta, s.p.', ' (176 m)</td>\n",
       "      <td>Restaurace Lavička', ' (119 m)</td>\n",
       "      <td>Sportovní centrum Olšanka', ' (469 m)</td>\n",
       "      <td>Dobrý</td>\n",
       "      <td>Cihlová</td>\n",
       "      <td>Pronájem bytu 1+kk 23 m²</td>\n",
       "      <td>Lipanská', ' (186 m)</td>\n",
       "      <td>23</td>\n",
       "      <td>MVDr. Jan Dubský', ' (425 m)</td>\n",
       "      <td>Shalamar Foods', ' (165 m)</td>\n",
       "      <td>Praha hlavní nádraží', ' (984 m)</td>\n",
       "      <td>Osobní</td>\n",
       "      <td>NaN</td>\n",
       "      <td>NaN</td>\n",
       "      <td>Gymnázium Karla Sladkovského Praha 3', ' (56 m)</td>\n",
       "      <td>ZŠ a MŠ Jaroslava Seiferta Praha 3', ' (243 m)</td>\n",
       "      <td>Bankomat České spořitelny</td>\n",
       "      <td>122.0</td>\n",
       "      <td>Tachovské náměstí</td>\n",
       "      <td>443.0</td>\n",
       "      <td>Klub JINÝ KAFE</td>\n",
       "      <td>283.0</td>\n",
       "      <td>Žižkovské divadlo Járy Cimrmana</td>\n",
       "      <td>280.0</td>\n",
       "      <td>Hospůdka U Habásků</td>\n",
       "      <td>209.0</td>\n",
       "      <td>Dětské hřiště Bořivojova</td>\n",
       "      <td>294.0</td>\n",
       "      <td>Filmový klub VŠE</td>\n",
       "      <td>691.0</td>\n",
       "      <td>Dům U černé Matky Boží</td>\n",
       "      <td>1846.0</td>\n",
       "      <td>MUDr. Milan Hudi</td>\n",
       "      <td>502.0</td>\n",
       "      <td>Lékárna U Matky Boží</td>\n",
       "      <td>147.0</td>\n",
       "      <td>Jiřího z Poděbrad</td>\n",
       "      <td>652.0</td>\n",
       "      <td>PAVILON, a.s.</td>\n",
       "      <td>941.0</td>\n",
       "      <td>Pošta Praha 35 - Česká pošta, s.p.</td>\n",
       "      <td>176.0</td>\n",
       "      <td>Restaurace Lavička</td>\n",
       "      <td>119.0</td>\n",
       "      <td>Sportovní centrum Olšanka</td>\n",
       "      <td>469.0</td>\n",
       "      <td>Lipanská</td>\n",
       "      <td>186.0</td>\n",
       "      <td>MVDr. Jan Dubský</td>\n",
       "      <td>425.0</td>\n",
       "      <td>Shalamar Foods</td>\n",
       "      <td>165.0</td>\n",
       "      <td>Praha hlavní nádraží</td>\n",
       "      <td>984.0</td>\n",
       "      <td>Gymnázium Karla Sladkovského Praha 3</td>\n",
       "      <td>56.0</td>\n",
       "      <td>ZŠ a MŠ Jaroslava Seiferta Praha 3</td>\n",
       "      <td>243.0</td>\n",
       "      <td>G</td>\n",
       "    </tr>\n",
       "    <tr>\n",
       "      <td>2</td>\n",
       "      <td>Tupolevova, Praha 9 - Letňany Panorama</td>\n",
       "      <td>Dnes</td>\n",
       "      <td>Bankomat České spořitelny', ' (236 m)</td>\n",
       "      <td>Šumperská', ' (177 m)</td>\n",
       "      <td>13 900 Kč za měsíc</td>\n",
       "      <td>Café Infinity', ' (204 m)</td>\n",
       "      <td>Divadlo Pohádka', ' (1057 m)</td>\n",
       "      <td>NaN</td>\n",
       "      <td>Pivnice na Královce', ' (1824 m)</td>\n",
       "      <td>Venkovní posilovna u obchodního centra', ' (19...</td>\n",
       "      <td>NaN</td>\n",
       "      <td>Cinema City Letňany', ' (223 m)</td>\n",
       "      <td>Hajnova vila', ' (2248 m)</td>\n",
       "      <td>MUDr. Petr Zieg', ' (317 m)</td>\n",
       "      <td>APOMED, s.r.o.', ' (302 m)</td>\n",
       "      <td>Letňany', ' (1382 m)</td>\n",
       "      <td>Tesco', ' (366 m)</td>\n",
       "      <td>NaN</td>\n",
       "      <td>4. podlaží</td>\n",
       "      <td>NaN</td>\n",
       "      <td>Pošta Praha 99 - Česká pošta, s.p.', ' (680 m)</td>\n",
       "      <td>Pub Infinity', ' (207 m)</td>\n",
       "      <td>Surf Arena', ' (350 m)</td>\n",
       "      <td>Velmi dobrý</td>\n",
       "      <td>Panelová</td>\n",
       "      <td>Pronájem bytu 2+1 52 m²</td>\n",
       "      <td>Sídliště Ďáblice', ' (1906 m)</td>\n",
       "      <td>52</td>\n",
       "      <td>Veterinární ordinace Letňany', ' (302 m)</td>\n",
       "      <td>Penny Market', ' (183 m)</td>\n",
       "      <td>Praha-Čakovice', ' (1695 m)</td>\n",
       "      <td>Osobní</td>\n",
       "      <td>NaN</td>\n",
       "      <td>\"'boolean-true'\"</td>\n",
       "      <td>Základní škola Fryčovická', ' (160 m)</td>\n",
       "      <td>MŠ Havířovská', ' (255 m)</td>\n",
       "      <td>Bankomat České spořitelny</td>\n",
       "      <td>236.0</td>\n",
       "      <td>Šumperská</td>\n",
       "      <td>177.0</td>\n",
       "      <td>Café Infinity</td>\n",
       "      <td>204.0</td>\n",
       "      <td>Divadlo Pohádka</td>\n",
       "      <td>1057.0</td>\n",
       "      <td>Pivnice na Královce</td>\n",
       "      <td>1824.0</td>\n",
       "      <td>Venkovní posilovna u obchodního centra</td>\n",
       "      <td>194.0</td>\n",
       "      <td>Cinema City Letňany</td>\n",
       "      <td>223.0</td>\n",
       "      <td>Hajnova vila</td>\n",
       "      <td>2248.0</td>\n",
       "      <td>MUDr. Petr Zieg</td>\n",
       "      <td>317.0</td>\n",
       "      <td>APOMED, s.r.o.</td>\n",
       "      <td>302.0</td>\n",
       "      <td>Letňany</td>\n",
       "      <td>1382.0</td>\n",
       "      <td>Tesco</td>\n",
       "      <td>366.0</td>\n",
       "      <td>Pošta Praha 99 - Česká pošta, s.p.</td>\n",
       "      <td>680.0</td>\n",
       "      <td>Pub Infinity</td>\n",
       "      <td>207.0</td>\n",
       "      <td>Surf Arena</td>\n",
       "      <td>350.0</td>\n",
       "      <td>Sídliště Ďáblice</td>\n",
       "      <td>1906.0</td>\n",
       "      <td>Veterinární ordinace Letňany</td>\n",
       "      <td>302.0</td>\n",
       "      <td>Penny Market</td>\n",
       "      <td>183.0</td>\n",
       "      <td>Praha-Čakovice</td>\n",
       "      <td>1695.0</td>\n",
       "      <td>Základní škola Fryčovická</td>\n",
       "      <td>160.0</td>\n",
       "      <td>MŠ Havířovská</td>\n",
       "      <td>255.0</td>\n",
       "      <td>NaN</td>\n",
       "    </tr>\n",
       "    <tr>\n",
       "      <td>3</td>\n",
       "      <td>Podbělohorská, Praha 5 - Smíchov Panorama</td>\n",
       "      <td>Dnes</td>\n",
       "      <td>Bankomat Komerční banky', ' (381 m)</td>\n",
       "      <td>Pod Lipkami', ' (30 m)</td>\n",
       "      <td>15 000 Kč za nemovitost, + provize RK</td>\n",
       "      <td>Cukrárna Pod Marjánkou', ' (1333 m)</td>\n",
       "      <td>JUDr. Jiří Šilhán', ' (279 m)</td>\n",
       "      <td>Třída B - Velmi úsporná</td>\n",
       "      <td>Restaurace Na zámyšli', ' (423 m)</td>\n",
       "      <td>Dětské hřiště Na Vršku', ' (116 m)</td>\n",
       "      <td>44/4562</td>\n",
       "      <td>CineStar Anděl', ' (2038 m)</td>\n",
       "      <td>Šaldova vila', ' (757 m)</td>\n",
       "      <td>MUDr. Drahomíra Miškovská', ' (309 m)</td>\n",
       "      <td>Lékárna Melissa', ' (447 m)</td>\n",
       "      <td>Radlická', ' (2026 m)</td>\n",
       "      <td>Obchodní centrum Nový Smíchov', ' (2075 m)</td>\n",
       "      <td>58.0</td>\n",
       "      <td>2. podlaží z celkem 3</td>\n",
       "      <td>, 3500</td>\n",
       "      <td>Pošta Praha 56 - Česká pošta, s.p.', ' (379 m)</td>\n",
       "      <td>ŘÍZKÁRNA ROZVOZ JÍDEL', ' (345 m)</td>\n",
       "      <td>TJ Banka Praha z.s.', ' (345 m)</td>\n",
       "      <td>Novostavba</td>\n",
       "      <td>Cihlová</td>\n",
       "      <td>Pronájem bytu 2+kk 58 m²</td>\n",
       "      <td>Kavalírka', ' (370 m)</td>\n",
       "      <td>58</td>\n",
       "      <td>Veterinární klinika - MVDr. Pavel Santar, MVDr...</td>\n",
       "      <td>Smíšené zboží Plzeňská\\t187', ' (404 m)</td>\n",
       "      <td>Praha-Cibulka', ' (1229 m)</td>\n",
       "      <td>Osobní</td>\n",
       "      <td>NaN</td>\n",
       "      <td>NaN</td>\n",
       "      <td>ZUŠ Na Popelce', ' (224 m)</td>\n",
       "      <td>TROIS PETITES POMMES, s.r.o.', ' (343 m)</td>\n",
       "      <td>Bankomat Komerční banky</td>\n",
       "      <td>381.0</td>\n",
       "      <td>Pod Lipkami</td>\n",
       "      <td>30.0</td>\n",
       "      <td>Cukrárna Pod Marjánkou</td>\n",
       "      <td>1333.0</td>\n",
       "      <td>JUDr. Jiří Šilhán</td>\n",
       "      <td>279.0</td>\n",
       "      <td>Restaurace Na zámyšli</td>\n",
       "      <td>423.0</td>\n",
       "      <td>Dětské hřiště Na Vršku</td>\n",
       "      <td>116.0</td>\n",
       "      <td>CineStar Anděl</td>\n",
       "      <td>2038.0</td>\n",
       "      <td>Šaldova vila</td>\n",
       "      <td>757.0</td>\n",
       "      <td>MUDr. Drahomíra Miškovská</td>\n",
       "      <td>309.0</td>\n",
       "      <td>Lékárna Melissa</td>\n",
       "      <td>447.0</td>\n",
       "      <td>Radlická</td>\n",
       "      <td>2026.0</td>\n",
       "      <td>Obchodní centrum Nový Smíchov</td>\n",
       "      <td>2075.0</td>\n",
       "      <td>Pošta Praha 56 - Česká pošta, s.p.</td>\n",
       "      <td>379.0</td>\n",
       "      <td>ŘÍZKÁRNA ROZVOZ JÍDEL</td>\n",
       "      <td>345.0</td>\n",
       "      <td>TJ Banka Praha z.s.</td>\n",
       "      <td>345.0</td>\n",
       "      <td>Kavalírka</td>\n",
       "      <td>370.0</td>\n",
       "      <td>Veterinární klinika - MVDr. Pavel Santar, MVDr...</td>\n",
       "      <td>1141.0</td>\n",
       "      <td>Smíšené zboží Plzeňská\\t187</td>\n",
       "      <td>404.0</td>\n",
       "      <td>Praha-Cibulka</td>\n",
       "      <td>1229.0</td>\n",
       "      <td>ZUŠ Na Popelce</td>\n",
       "      <td>224.0</td>\n",
       "      <td>TROIS PETITES POMMES, s.r.o.</td>\n",
       "      <td>343.0</td>\n",
       "      <td>B</td>\n",
       "    </tr>\n",
       "  </tbody>\n",
       "</table>\n",
       "</div>"
      ],
      "text/plain": [
       "                                        Adresa Aktualizace  \\\n",
       "0  Dobrovolného, Praha 9 - Černý Most Panorama        Dnes   \n",
       "1        Bořivojova, Praha 3 - Žižkov Panorama        Dnes   \n",
       "2       Tupolevova, Praha 9 - Letňany Panorama        Dnes   \n",
       "3    Podbělohorská, Praha 5 - Smíchov Panorama        Dnes   \n",
       "\n",
       "                                Bankomat                        Bus_MHD  \\\n",
       "0  Bankomat České spořitelny', ' (542 m)  Generála Janouška', ' (132 m)   \n",
       "1  Bankomat České spořitelny', ' (122 m)  Tachovské náměstí', ' (443 m)   \n",
       "2  Bankomat České spořitelny', ' (236 m)          Šumperská', ' (177 m)   \n",
       "3    Bankomat Komerční banky', ' (381 m)         Pod Lipkami', ' (30 m)   \n",
       "\n",
       "                             Price_total                             Cukrárna  \\\n",
       "0                     12 000 Kč za měsíc        Shisha Room Dvin', ' (1144 m)   \n",
       "1   9 500 Kč za nemovitost, + provize RK           Klub JINÝ KAFE', ' (283 m)   \n",
       "2                     13 900 Kč za měsíc            Café Infinity', ' (204 m)   \n",
       "3  15 000 Kč za nemovitost, + provize RK  Cukrárna Pod Marjánkou', ' (1333 m)   \n",
       "\n",
       "                                       Divadlo  \\\n",
       "0  Přírodní divadlo Dády Stoklasy', ' (3152 m)   \n",
       "1  Žižkovské divadlo Járy Cimrmana', ' (280 m)   \n",
       "2                 Divadlo Pohádka', ' (1057 m)   \n",
       "3                JUDr. Jiří Šilhán', ' (279 m)   \n",
       "\n",
       "                     Energy_demands                            Hospoda  \\\n",
       "0  Třída G - Mimořádně nehospodárná         Šenk Na Rajské', ' (476 m)   \n",
       "1  Třída G - Mimořádně nehospodárná     Hospůdka U Habásků', ' (209 m)   \n",
       "2                               NaN   Pivnice na Královce', ' (1824 m)   \n",
       "3           Třída B - Velmi úsporná  Restaurace Na zámyšli', ' (423 m)   \n",
       "\n",
       "                                              Hřiště ID_zakázky:  \\\n",
       "0              Dětské hřiště Rajský vrch', ' (162 m)      N05462   \n",
       "1               Dětské hřiště Bořivojova', ' (294 m)     57/4562   \n",
       "2  Venkovní posilovna u obchodního centra', ' (19...         NaN   \n",
       "3                 Dětské hřiště Na Vršku', ' (116 m)     44/4562   \n",
       "\n",
       "                               Kino                     Kulturní_památka  \\\n",
       "0  CineStar Černý Most', ' (1815 m)            Hajnova vila', ' (3984 m)   \n",
       "1      Filmový klub VŠE', ' (691 m)  Dům U černé Matky Boží', ' (1846 m)   \n",
       "2   Cinema City Letňany', ' (223 m)            Hajnova vila', ' (2248 m)   \n",
       "3       CineStar Anděl', ' (2038 m)             Šaldova vila', ' (757 m)   \n",
       "\n",
       "                                   Lékař  \\\n",
       "0      MUDr. Zdeněk Valentík', ' (363 m)   \n",
       "1           MUDr. Milan Hudi', ' (502 m)   \n",
       "2            MUDr. Petr Zieg', ' (317 m)   \n",
       "3  MUDr. Drahomíra Miškovská', ' (309 m)   \n",
       "\n",
       "                                Lékárna                          Metro  \\\n",
       "0  Lékárna U Rajské zahrady', ' (500 m)     Rajská zahrada', ' (525 m)   \n",
       "1      Lékárna U Matky Boží', ' (147 m)  Jiřího z Poděbrad', ' (652 m)   \n",
       "2            APOMED, s.r.o.', ' (302 m)           Letňany', ' (1382 m)   \n",
       "3           Lékárna Melissa', ' (447 m)          Radlická', ' (2026 m)   \n",
       "\n",
       "                                       Obchod  Plocha_podlahová  \\\n",
       "0                       Kaufland', ' (1486 m)              26.0   \n",
       "1                   PAVILON, a.s.', ' (941 m)              23.0   \n",
       "2                           Tesco', ' (366 m)               NaN   \n",
       "3  Obchodní centrum Nový Smíchov', ' (2075 m)              58.0   \n",
       "\n",
       "                 Podlaží                              Poznámka_k_ceně  \\\n",
       "0  1. podlaží z celkem 5  + 2.500,-Kč poplatky, elektřina, provize RK   \n",
       "1  5. podlaží z celkem 4                           plus poplatky, 500   \n",
       "2             4. podlaží                                          NaN   \n",
       "3  2. podlaží z celkem 3                                       , 3500   \n",
       "\n",
       "                                            Pošta  \\\n",
       "0  Pošta Praha 98 - Česká pošta, s.p.', ' (442 m)   \n",
       "1  Pošta Praha 35 - Česká pošta, s.p.', ' (176 m)   \n",
       "2  Pošta Praha 99 - Česká pošta, s.p.', ' (680 m)   \n",
       "3  Pošta Praha 56 - Česká pošta, s.p.', ' (379 m)   \n",
       "\n",
       "                          Restaurace  \\\n",
       "0           Jiří Stopfer', ' (443 m)   \n",
       "1     Restaurace Lavička', ' (119 m)   \n",
       "2           Pub Infinity', ' (207 m)   \n",
       "3  ŘÍZKÁRNA ROZVOZ JÍDEL', ' (345 m)   \n",
       "\n",
       "                                         Sportoviště Stav_objektu     Stavba  \\\n",
       "0  Veřejné hřiště na míčové hry Pospíchalova', ' ...   Novostavba  Skeletová   \n",
       "1              Sportovní centrum Olšanka', ' (469 m)        Dobrý    Cihlová   \n",
       "2                             Surf Arena', ' (350 m)  Velmi dobrý   Panelová   \n",
       "3                    TJ Banka Praha z.s.', ' (345 m)   Novostavba    Cihlová   \n",
       "\n",
       "                      Title                           Tram  Area  \\\n",
       "0  Pronájem bytu 1+kk 26 m²           Lehovec', ' (1136 m)    26   \n",
       "1  Pronájem bytu 1+kk 23 m²           Lipanská', ' (186 m)    23   \n",
       "2   Pronájem bytu 2+1 52 m²  Sídliště Ďáblice', ' (1906 m)    52   \n",
       "3  Pronájem bytu 2+kk 58 m²          Kavalírka', ' (370 m)    58   \n",
       "\n",
       "                                           Veterinář  \\\n",
       "0              MetropoleVet Praha s.r.o.', ' (623 m)   \n",
       "1                       MVDr. Jan Dubský', ' (425 m)   \n",
       "2           Veterinární ordinace Letňany', ' (302 m)   \n",
       "3  Veterinární klinika - MVDr. Pavel Santar, MVDr...   \n",
       "\n",
       "                                   Večerka                              Vlak  \\\n",
       "0           Albert Supermarket', ' (451 m)           Praha-Kyje', ' (1445 m)   \n",
       "1               Shalamar Foods', ' (165 m)  Praha hlavní nádraží', ' (984 m)   \n",
       "2                 Penny Market', ' (183 m)       Praha-Čakovice', ' (1695 m)   \n",
       "3  Smíšené zboží Plzeňská\\t187', ' (404 m)        Praha-Cibulka', ' (1229 m)   \n",
       "\n",
       "  Vlastnictví Vybavení             Výtah  \\\n",
       "0      Osobní      NaN               NaN   \n",
       "1      Osobní      NaN               NaN   \n",
       "2      Osobní      NaN  \"'boolean-true'\"   \n",
       "3      Osobní      NaN               NaN   \n",
       "\n",
       "                                             Škola  \\\n",
       "0             ZUŠ Praha 9, Ratibořická', ' (234 m)   \n",
       "1  Gymnázium Karla Sladkovského Praha 3', ' (56 m)   \n",
       "2            Základní škola Fryčovická', ' (160 m)   \n",
       "3                       ZUŠ Na Popelce', ' (224 m)   \n",
       "\n",
       "                                           Školka              Bankomat_name  \\\n",
       "0    MŠ Sluníčko Praha 9 - Černý Most', ' (279 m)  Bankomat České spořitelny   \n",
       "1  ZŠ a MŠ Jaroslava Seiferta Praha 3', ' (243 m)  Bankomat České spořitelny   \n",
       "2                       MŠ Havířovská', ' (255 m)  Bankomat České spořitelny   \n",
       "3        TROIS PETITES POMMES, s.r.o.', ' (343 m)    Bankomat Komerční banky   \n",
       "\n",
       "   Bankomat_dist       Bus_MHD_name  Bus_MHD_dist           Cukrárna_name  \\\n",
       "0          542.0  Generála Janouška         132.0        Shisha Room Dvin   \n",
       "1          122.0  Tachovské náměstí         443.0          Klub JINÝ KAFE   \n",
       "2          236.0          Šumperská         177.0           Café Infinity   \n",
       "3          381.0        Pod Lipkami          30.0  Cukrárna Pod Marjánkou   \n",
       "\n",
       "   Cukrárna_dist                     Divadlo_name  Divadlo_dist  \\\n",
       "0         1144.0   Přírodní divadlo Dády Stoklasy        3152.0   \n",
       "1          283.0  Žižkovské divadlo Járy Cimrmana         280.0   \n",
       "2          204.0                  Divadlo Pohádka        1057.0   \n",
       "3         1333.0                JUDr. Jiří Šilhán         279.0   \n",
       "\n",
       "            Hospoda_name  Hospoda_dist  \\\n",
       "0         Šenk Na Rajské         476.0   \n",
       "1     Hospůdka U Habásků         209.0   \n",
       "2    Pivnice na Královce        1824.0   \n",
       "3  Restaurace Na zámyšli         423.0   \n",
       "\n",
       "                              Hřiště_name  Hřiště_dist            Kino_name  \\\n",
       "0               Dětské hřiště Rajský vrch        162.0  CineStar Černý Most   \n",
       "1                Dětské hřiště Bořivojova        294.0     Filmový klub VŠE   \n",
       "2  Venkovní posilovna u obchodního centra        194.0  Cinema City Letňany   \n",
       "3                  Dětské hřiště Na Vršku        116.0       CineStar Anděl   \n",
       "\n",
       "   Kino_dist   Kulturní_památka_name  Kulturní_památka_dist  \\\n",
       "0     1815.0            Hajnova vila                 3984.0   \n",
       "1      691.0  Dům U černé Matky Boží                 1846.0   \n",
       "2      223.0            Hajnova vila                 2248.0   \n",
       "3     2038.0            Šaldova vila                  757.0   \n",
       "\n",
       "                  Lékař_name  Lékař_dist              Lékárna_name  \\\n",
       "0      MUDr. Zdeněk Valentík       363.0  Lékárna U Rajské zahrady   \n",
       "1           MUDr. Milan Hudi       502.0      Lékárna U Matky Boží   \n",
       "2            MUDr. Petr Zieg       317.0            APOMED, s.r.o.   \n",
       "3  MUDr. Drahomíra Miškovská       309.0           Lékárna Melissa   \n",
       "\n",
       "   Lékárna_dist         Metro_name  Metro_dist                    Obchod_name  \\\n",
       "0         500.0     Rajská zahrada       525.0                       Kaufland   \n",
       "1         147.0  Jiřího z Poděbrad       652.0                  PAVILON, a.s.   \n",
       "2         302.0            Letňany      1382.0                          Tesco   \n",
       "3         447.0           Radlická      2026.0  Obchodní centrum Nový Smíchov   \n",
       "\n",
       "   Obchod_dist                          Pošta_name  Pošta_dist  \\\n",
       "0       1486.0  Pošta Praha 98 - Česká pošta, s.p.       442.0   \n",
       "1        941.0  Pošta Praha 35 - Česká pošta, s.p.       176.0   \n",
       "2        366.0  Pošta Praha 99 - Česká pošta, s.p.       680.0   \n",
       "3       2075.0  Pošta Praha 56 - Česká pošta, s.p.       379.0   \n",
       "\n",
       "         Restaurace_name  Restaurace_dist  \\\n",
       "0           Jiří Stopfer            443.0   \n",
       "1     Restaurace Lavička            119.0   \n",
       "2           Pub Infinity            207.0   \n",
       "3  ŘÍZKÁRNA ROZVOZ JÍDEL            345.0   \n",
       "\n",
       "                            Sportoviště_name  Sportoviště_dist  \\\n",
       "0  Veřejné hřiště na míčové hry Pospíchalova             295.0   \n",
       "1                  Sportovní centrum Olšanka             469.0   \n",
       "2                                 Surf Arena             350.0   \n",
       "3                        TJ Banka Praha z.s.             345.0   \n",
       "\n",
       "          Tram_name  Tram_dist  \\\n",
       "0           Lehovec     1136.0   \n",
       "1          Lipanská      186.0   \n",
       "2  Sídliště Ďáblice     1906.0   \n",
       "3         Kavalírka      370.0   \n",
       "\n",
       "                                      Veterinář_name  Veterinář_dist  \\\n",
       "0                          MetropoleVet Praha s.r.o.           623.0   \n",
       "1                                   MVDr. Jan Dubský           425.0   \n",
       "2                       Veterinární ordinace Letňany           302.0   \n",
       "3  Veterinární klinika - MVDr. Pavel Santar, MVDr...          1141.0   \n",
       "\n",
       "                  Večerka_name  Večerka_dist             Vlak_name  Vlak_dist  \\\n",
       "0           Albert Supermarket         451.0            Praha-Kyje     1445.0   \n",
       "1               Shalamar Foods         165.0  Praha hlavní nádraží      984.0   \n",
       "2                 Penny Market         183.0        Praha-Čakovice     1695.0   \n",
       "3  Smíšené zboží Plzeňská\\t187         404.0         Praha-Cibulka     1229.0   \n",
       "\n",
       "                             Škola_name  Škola_dist  \\\n",
       "0              ZUŠ Praha 9, Ratibořická       234.0   \n",
       "1  Gymnázium Karla Sladkovského Praha 3        56.0   \n",
       "2             Základní škola Fryčovická       160.0   \n",
       "3                        ZUŠ Na Popelce       224.0   \n",
       "\n",
       "                          Školka_name  Školka_dist Energy_class  \n",
       "0    MŠ Sluníčko Praha 9 - Černý Most        279.0            G  \n",
       "1  ZŠ a MŠ Jaroslava Seiferta Praha 3        243.0            G  \n",
       "2                       MŠ Havířovská        255.0          NaN  \n",
       "3        TROIS PETITES POMMES, s.r.o.        343.0            B  "
      ]
     },
     "execution_count": 621,
     "metadata": {},
     "output_type": "execute_result"
    }
   ],
   "source": [
    "pd.set_option('display.max_columns', None)\n",
    "data.head(4)"
   ]
  },
  {
   "cell_type": "code",
   "execution_count": 624,
   "metadata": {},
   "outputs": [],
   "source": [
    "worth = ['Adresa', 'Aktualizace', 'Price_total','ID_zakázky:', 'Plocha_podlahová', 'Podlaží', \n",
    "'Poznámka_k_ceně', 'Stav_objektu', 'Stavba', 'Title',  \n",
    "'Area', 'Vlastnictví', 'Vybavení', 'Výtah','Bankomat_name', 'Bankomat_dist',\n",
    "'Bus_MHD_name', 'Bus_MHD_dist', 'Cukrárna_name', 'Cukrárna_dist',\n",
    "'Divadlo_name', 'Divadlo_dist', 'Hospoda_name', 'Hospoda_dist',\n",
    "'Hřiště_name', 'Hřiště_dist', 'Kino_name', 'Kino_dist',\n",
    "'Kulturní_památka_name', 'Kulturní_památka_dist', 'Lékař_name',\n",
    "'Lékař_dist', 'Lékárna_name', 'Lékárna_dist', 'Metro_name',\n",
    "'Metro_dist', 'Obchod_name', 'Obchod_dist', 'Pošta_name', 'Pošta_dist',\n",
    "'Restaurace_name', 'Restaurace_dist', 'Sportoviště_name',\n",
    "'Sportoviště_dist', 'Tram_name', 'Tram_dist', 'Veterinář_name',\n",
    "'Veterinář_dist', 'Večerka_name', 'Večerka_dist', 'Vlak_name',\n",
    "'Vlak_dist', 'Škola_name', 'Škola_dist', 'Školka_name', 'Školka_dist',\n",
    "'Energy_class']"
   ]
  },
  {
   "cell_type": "code",
   "execution_count": 625,
   "metadata": {},
   "outputs": [],
   "source": [
    "data1 = data[worth].copy()"
   ]
  },
  {
   "cell_type": "code",
   "execution_count": 626,
   "metadata": {},
   "outputs": [
    {
     "data": {
      "text/html": [
       "<div>\n",
       "<style scoped>\n",
       "    .dataframe tbody tr th:only-of-type {\n",
       "        vertical-align: middle;\n",
       "    }\n",
       "\n",
       "    .dataframe tbody tr th {\n",
       "        vertical-align: top;\n",
       "    }\n",
       "\n",
       "    .dataframe thead th {\n",
       "        text-align: right;\n",
       "    }\n",
       "</style>\n",
       "<table border=\"1\" class=\"dataframe\">\n",
       "  <thead>\n",
       "    <tr style=\"text-align: right;\">\n",
       "      <th></th>\n",
       "      <th>Adresa</th>\n",
       "      <th>Aktualizace</th>\n",
       "      <th>Price_total</th>\n",
       "      <th>ID_zakázky:</th>\n",
       "      <th>Plocha_podlahová</th>\n",
       "      <th>Podlaží</th>\n",
       "      <th>Poznámka_k_ceně</th>\n",
       "      <th>Stav_objektu</th>\n",
       "      <th>Stavba</th>\n",
       "      <th>Title</th>\n",
       "      <th>Area</th>\n",
       "      <th>Vlastnictví</th>\n",
       "      <th>Vybavení</th>\n",
       "      <th>Výtah</th>\n",
       "      <th>Bankomat_name</th>\n",
       "      <th>Bankomat_dist</th>\n",
       "      <th>Bus_MHD_name</th>\n",
       "      <th>Bus_MHD_dist</th>\n",
       "      <th>Cukrárna_name</th>\n",
       "      <th>Cukrárna_dist</th>\n",
       "      <th>Divadlo_name</th>\n",
       "      <th>Divadlo_dist</th>\n",
       "      <th>Hospoda_name</th>\n",
       "      <th>Hospoda_dist</th>\n",
       "      <th>Hřiště_name</th>\n",
       "      <th>Hřiště_dist</th>\n",
       "      <th>Kino_name</th>\n",
       "      <th>Kino_dist</th>\n",
       "      <th>Kulturní_památka_name</th>\n",
       "      <th>Kulturní_památka_dist</th>\n",
       "      <th>Lékař_name</th>\n",
       "      <th>Lékař_dist</th>\n",
       "      <th>Lékárna_name</th>\n",
       "      <th>Lékárna_dist</th>\n",
       "      <th>Metro_name</th>\n",
       "      <th>Metro_dist</th>\n",
       "      <th>Obchod_name</th>\n",
       "      <th>Obchod_dist</th>\n",
       "      <th>Pošta_name</th>\n",
       "      <th>Pošta_dist</th>\n",
       "      <th>Restaurace_name</th>\n",
       "      <th>Restaurace_dist</th>\n",
       "      <th>Sportoviště_name</th>\n",
       "      <th>Sportoviště_dist</th>\n",
       "      <th>Tram_name</th>\n",
       "      <th>Tram_dist</th>\n",
       "      <th>Veterinář_name</th>\n",
       "      <th>Veterinář_dist</th>\n",
       "      <th>Večerka_name</th>\n",
       "      <th>Večerka_dist</th>\n",
       "      <th>Vlak_name</th>\n",
       "      <th>Vlak_dist</th>\n",
       "      <th>Škola_name</th>\n",
       "      <th>Škola_dist</th>\n",
       "      <th>Školka_name</th>\n",
       "      <th>Školka_dist</th>\n",
       "      <th>Energy_class</th>\n",
       "    </tr>\n",
       "  </thead>\n",
       "  <tbody>\n",
       "    <tr>\n",
       "      <td>0</td>\n",
       "      <td>Dobrovolného, Praha 9 - Černý Most Panorama</td>\n",
       "      <td>Dnes</td>\n",
       "      <td>12 000 Kč za měsíc</td>\n",
       "      <td>N05462</td>\n",
       "      <td>26.0</td>\n",
       "      <td>1. podlaží z celkem 5</td>\n",
       "      <td>+ 2.500,-Kč poplatky, elektřina, provize RK</td>\n",
       "      <td>Novostavba</td>\n",
       "      <td>Skeletová</td>\n",
       "      <td>Pronájem bytu 1+kk 26 m²</td>\n",
       "      <td>26</td>\n",
       "      <td>Osobní</td>\n",
       "      <td>NaN</td>\n",
       "      <td>NaN</td>\n",
       "      <td>Bankomat České spořitelny</td>\n",
       "      <td>542.0</td>\n",
       "      <td>Generála Janouška</td>\n",
       "      <td>132.0</td>\n",
       "      <td>Shisha Room Dvin</td>\n",
       "      <td>1144.0</td>\n",
       "      <td>Přírodní divadlo Dády Stoklasy</td>\n",
       "      <td>3152.0</td>\n",
       "      <td>Šenk Na Rajské</td>\n",
       "      <td>476.0</td>\n",
       "      <td>Dětské hřiště Rajský vrch</td>\n",
       "      <td>162.0</td>\n",
       "      <td>CineStar Černý Most</td>\n",
       "      <td>1815.0</td>\n",
       "      <td>Hajnova vila</td>\n",
       "      <td>3984.0</td>\n",
       "      <td>MUDr. Zdeněk Valentík</td>\n",
       "      <td>363.0</td>\n",
       "      <td>Lékárna U Rajské zahrady</td>\n",
       "      <td>500.0</td>\n",
       "      <td>Rajská zahrada</td>\n",
       "      <td>525.0</td>\n",
       "      <td>Kaufland</td>\n",
       "      <td>1486.0</td>\n",
       "      <td>Pošta Praha 98 - Česká pošta, s.p.</td>\n",
       "      <td>442.0</td>\n",
       "      <td>Jiří Stopfer</td>\n",
       "      <td>443.0</td>\n",
       "      <td>Veřejné hřiště na míčové hry Pospíchalova</td>\n",
       "      <td>295.0</td>\n",
       "      <td>Lehovec</td>\n",
       "      <td>1136.0</td>\n",
       "      <td>MetropoleVet Praha s.r.o.</td>\n",
       "      <td>623.0</td>\n",
       "      <td>Albert Supermarket</td>\n",
       "      <td>451.0</td>\n",
       "      <td>Praha-Kyje</td>\n",
       "      <td>1445.0</td>\n",
       "      <td>ZUŠ Praha 9, Ratibořická</td>\n",
       "      <td>234.0</td>\n",
       "      <td>MŠ Sluníčko Praha 9 - Černý Most</td>\n",
       "      <td>279.0</td>\n",
       "      <td>G</td>\n",
       "    </tr>\n",
       "    <tr>\n",
       "      <td>1</td>\n",
       "      <td>Bořivojova, Praha 3 - Žižkov Panorama</td>\n",
       "      <td>Dnes</td>\n",
       "      <td>9 500 Kč za nemovitost, + provize RK</td>\n",
       "      <td>57/4562</td>\n",
       "      <td>23.0</td>\n",
       "      <td>5. podlaží z celkem 4</td>\n",
       "      <td>plus poplatky, 500</td>\n",
       "      <td>Dobrý</td>\n",
       "      <td>Cihlová</td>\n",
       "      <td>Pronájem bytu 1+kk 23 m²</td>\n",
       "      <td>23</td>\n",
       "      <td>Osobní</td>\n",
       "      <td>NaN</td>\n",
       "      <td>NaN</td>\n",
       "      <td>Bankomat České spořitelny</td>\n",
       "      <td>122.0</td>\n",
       "      <td>Tachovské náměstí</td>\n",
       "      <td>443.0</td>\n",
       "      <td>Klub JINÝ KAFE</td>\n",
       "      <td>283.0</td>\n",
       "      <td>Žižkovské divadlo Járy Cimrmana</td>\n",
       "      <td>280.0</td>\n",
       "      <td>Hospůdka U Habásků</td>\n",
       "      <td>209.0</td>\n",
       "      <td>Dětské hřiště Bořivojova</td>\n",
       "      <td>294.0</td>\n",
       "      <td>Filmový klub VŠE</td>\n",
       "      <td>691.0</td>\n",
       "      <td>Dům U černé Matky Boží</td>\n",
       "      <td>1846.0</td>\n",
       "      <td>MUDr. Milan Hudi</td>\n",
       "      <td>502.0</td>\n",
       "      <td>Lékárna U Matky Boží</td>\n",
       "      <td>147.0</td>\n",
       "      <td>Jiřího z Poděbrad</td>\n",
       "      <td>652.0</td>\n",
       "      <td>PAVILON, a.s.</td>\n",
       "      <td>941.0</td>\n",
       "      <td>Pošta Praha 35 - Česká pošta, s.p.</td>\n",
       "      <td>176.0</td>\n",
       "      <td>Restaurace Lavička</td>\n",
       "      <td>119.0</td>\n",
       "      <td>Sportovní centrum Olšanka</td>\n",
       "      <td>469.0</td>\n",
       "      <td>Lipanská</td>\n",
       "      <td>186.0</td>\n",
       "      <td>MVDr. Jan Dubský</td>\n",
       "      <td>425.0</td>\n",
       "      <td>Shalamar Foods</td>\n",
       "      <td>165.0</td>\n",
       "      <td>Praha hlavní nádraží</td>\n",
       "      <td>984.0</td>\n",
       "      <td>Gymnázium Karla Sladkovského Praha 3</td>\n",
       "      <td>56.0</td>\n",
       "      <td>ZŠ a MŠ Jaroslava Seiferta Praha 3</td>\n",
       "      <td>243.0</td>\n",
       "      <td>G</td>\n",
       "    </tr>\n",
       "    <tr>\n",
       "      <td>2</td>\n",
       "      <td>Tupolevova, Praha 9 - Letňany Panorama</td>\n",
       "      <td>Dnes</td>\n",
       "      <td>13 900 Kč za měsíc</td>\n",
       "      <td>NaN</td>\n",
       "      <td>NaN</td>\n",
       "      <td>4. podlaží</td>\n",
       "      <td>NaN</td>\n",
       "      <td>Velmi dobrý</td>\n",
       "      <td>Panelová</td>\n",
       "      <td>Pronájem bytu 2+1 52 m²</td>\n",
       "      <td>52</td>\n",
       "      <td>Osobní</td>\n",
       "      <td>NaN</td>\n",
       "      <td>\"'boolean-true'\"</td>\n",
       "      <td>Bankomat České spořitelny</td>\n",
       "      <td>236.0</td>\n",
       "      <td>Šumperská</td>\n",
       "      <td>177.0</td>\n",
       "      <td>Café Infinity</td>\n",
       "      <td>204.0</td>\n",
       "      <td>Divadlo Pohádka</td>\n",
       "      <td>1057.0</td>\n",
       "      <td>Pivnice na Královce</td>\n",
       "      <td>1824.0</td>\n",
       "      <td>Venkovní posilovna u obchodního centra</td>\n",
       "      <td>194.0</td>\n",
       "      <td>Cinema City Letňany</td>\n",
       "      <td>223.0</td>\n",
       "      <td>Hajnova vila</td>\n",
       "      <td>2248.0</td>\n",
       "      <td>MUDr. Petr Zieg</td>\n",
       "      <td>317.0</td>\n",
       "      <td>APOMED, s.r.o.</td>\n",
       "      <td>302.0</td>\n",
       "      <td>Letňany</td>\n",
       "      <td>1382.0</td>\n",
       "      <td>Tesco</td>\n",
       "      <td>366.0</td>\n",
       "      <td>Pošta Praha 99 - Česká pošta, s.p.</td>\n",
       "      <td>680.0</td>\n",
       "      <td>Pub Infinity</td>\n",
       "      <td>207.0</td>\n",
       "      <td>Surf Arena</td>\n",
       "      <td>350.0</td>\n",
       "      <td>Sídliště Ďáblice</td>\n",
       "      <td>1906.0</td>\n",
       "      <td>Veterinární ordinace Letňany</td>\n",
       "      <td>302.0</td>\n",
       "      <td>Penny Market</td>\n",
       "      <td>183.0</td>\n",
       "      <td>Praha-Čakovice</td>\n",
       "      <td>1695.0</td>\n",
       "      <td>Základní škola Fryčovická</td>\n",
       "      <td>160.0</td>\n",
       "      <td>MŠ Havířovská</td>\n",
       "      <td>255.0</td>\n",
       "      <td>NaN</td>\n",
       "    </tr>\n",
       "    <tr>\n",
       "      <td>3</td>\n",
       "      <td>Podbělohorská, Praha 5 - Smíchov Panorama</td>\n",
       "      <td>Dnes</td>\n",
       "      <td>15 000 Kč za nemovitost, + provize RK</td>\n",
       "      <td>44/4562</td>\n",
       "      <td>58.0</td>\n",
       "      <td>2. podlaží z celkem 3</td>\n",
       "      <td>, 3500</td>\n",
       "      <td>Novostavba</td>\n",
       "      <td>Cihlová</td>\n",
       "      <td>Pronájem bytu 2+kk 58 m²</td>\n",
       "      <td>58</td>\n",
       "      <td>Osobní</td>\n",
       "      <td>NaN</td>\n",
       "      <td>NaN</td>\n",
       "      <td>Bankomat Komerční banky</td>\n",
       "      <td>381.0</td>\n",
       "      <td>Pod Lipkami</td>\n",
       "      <td>30.0</td>\n",
       "      <td>Cukrárna Pod Marjánkou</td>\n",
       "      <td>1333.0</td>\n",
       "      <td>JUDr. Jiří Šilhán</td>\n",
       "      <td>279.0</td>\n",
       "      <td>Restaurace Na zámyšli</td>\n",
       "      <td>423.0</td>\n",
       "      <td>Dětské hřiště Na Vršku</td>\n",
       "      <td>116.0</td>\n",
       "      <td>CineStar Anděl</td>\n",
       "      <td>2038.0</td>\n",
       "      <td>Šaldova vila</td>\n",
       "      <td>757.0</td>\n",
       "      <td>MUDr. Drahomíra Miškovská</td>\n",
       "      <td>309.0</td>\n",
       "      <td>Lékárna Melissa</td>\n",
       "      <td>447.0</td>\n",
       "      <td>Radlická</td>\n",
       "      <td>2026.0</td>\n",
       "      <td>Obchodní centrum Nový Smíchov</td>\n",
       "      <td>2075.0</td>\n",
       "      <td>Pošta Praha 56 - Česká pošta, s.p.</td>\n",
       "      <td>379.0</td>\n",
       "      <td>ŘÍZKÁRNA ROZVOZ JÍDEL</td>\n",
       "      <td>345.0</td>\n",
       "      <td>TJ Banka Praha z.s.</td>\n",
       "      <td>345.0</td>\n",
       "      <td>Kavalírka</td>\n",
       "      <td>370.0</td>\n",
       "      <td>Veterinární klinika - MVDr. Pavel Santar, MVDr...</td>\n",
       "      <td>1141.0</td>\n",
       "      <td>Smíšené zboží Plzeňská\\t187</td>\n",
       "      <td>404.0</td>\n",
       "      <td>Praha-Cibulka</td>\n",
       "      <td>1229.0</td>\n",
       "      <td>ZUŠ Na Popelce</td>\n",
       "      <td>224.0</td>\n",
       "      <td>TROIS PETITES POMMES, s.r.o.</td>\n",
       "      <td>343.0</td>\n",
       "      <td>B</td>\n",
       "    </tr>\n",
       "  </tbody>\n",
       "</table>\n",
       "</div>"
      ],
      "text/plain": [
       "                                        Adresa Aktualizace  \\\n",
       "0  Dobrovolného, Praha 9 - Černý Most Panorama        Dnes   \n",
       "1        Bořivojova, Praha 3 - Žižkov Panorama        Dnes   \n",
       "2       Tupolevova, Praha 9 - Letňany Panorama        Dnes   \n",
       "3    Podbělohorská, Praha 5 - Smíchov Panorama        Dnes   \n",
       "\n",
       "                             Price_total ID_zakázky:  Plocha_podlahová  \\\n",
       "0                     12 000 Kč za měsíc      N05462              26.0   \n",
       "1   9 500 Kč za nemovitost, + provize RK     57/4562              23.0   \n",
       "2                     13 900 Kč za měsíc         NaN               NaN   \n",
       "3  15 000 Kč za nemovitost, + provize RK     44/4562              58.0   \n",
       "\n",
       "                 Podlaží                              Poznámka_k_ceně  \\\n",
       "0  1. podlaží z celkem 5  + 2.500,-Kč poplatky, elektřina, provize RK   \n",
       "1  5. podlaží z celkem 4                           plus poplatky, 500   \n",
       "2             4. podlaží                                          NaN   \n",
       "3  2. podlaží z celkem 3                                       , 3500   \n",
       "\n",
       "  Stav_objektu     Stavba                     Title  Area Vlastnictví  \\\n",
       "0   Novostavba  Skeletová  Pronájem bytu 1+kk 26 m²    26      Osobní   \n",
       "1        Dobrý    Cihlová  Pronájem bytu 1+kk 23 m²    23      Osobní   \n",
       "2  Velmi dobrý   Panelová   Pronájem bytu 2+1 52 m²    52      Osobní   \n",
       "3   Novostavba    Cihlová  Pronájem bytu 2+kk 58 m²    58      Osobní   \n",
       "\n",
       "  Vybavení             Výtah              Bankomat_name  Bankomat_dist  \\\n",
       "0      NaN               NaN  Bankomat České spořitelny          542.0   \n",
       "1      NaN               NaN  Bankomat České spořitelny          122.0   \n",
       "2      NaN  \"'boolean-true'\"  Bankomat České spořitelny          236.0   \n",
       "3      NaN               NaN    Bankomat Komerční banky          381.0   \n",
       "\n",
       "        Bus_MHD_name  Bus_MHD_dist           Cukrárna_name  Cukrárna_dist  \\\n",
       "0  Generála Janouška         132.0        Shisha Room Dvin         1144.0   \n",
       "1  Tachovské náměstí         443.0          Klub JINÝ KAFE          283.0   \n",
       "2          Šumperská         177.0           Café Infinity          204.0   \n",
       "3        Pod Lipkami          30.0  Cukrárna Pod Marjánkou         1333.0   \n",
       "\n",
       "                      Divadlo_name  Divadlo_dist           Hospoda_name  \\\n",
       "0   Přírodní divadlo Dády Stoklasy        3152.0         Šenk Na Rajské   \n",
       "1  Žižkovské divadlo Járy Cimrmana         280.0     Hospůdka U Habásků   \n",
       "2                  Divadlo Pohádka        1057.0    Pivnice na Královce   \n",
       "3                JUDr. Jiří Šilhán         279.0  Restaurace Na zámyšli   \n",
       "\n",
       "   Hospoda_dist                             Hřiště_name  Hřiště_dist  \\\n",
       "0         476.0               Dětské hřiště Rajský vrch        162.0   \n",
       "1         209.0                Dětské hřiště Bořivojova        294.0   \n",
       "2        1824.0  Venkovní posilovna u obchodního centra        194.0   \n",
       "3         423.0                  Dětské hřiště Na Vršku        116.0   \n",
       "\n",
       "             Kino_name  Kino_dist   Kulturní_památka_name  \\\n",
       "0  CineStar Černý Most     1815.0            Hajnova vila   \n",
       "1     Filmový klub VŠE      691.0  Dům U černé Matky Boží   \n",
       "2  Cinema City Letňany      223.0            Hajnova vila   \n",
       "3       CineStar Anděl     2038.0            Šaldova vila   \n",
       "\n",
       "   Kulturní_památka_dist                 Lékař_name  Lékař_dist  \\\n",
       "0                 3984.0      MUDr. Zdeněk Valentík       363.0   \n",
       "1                 1846.0           MUDr. Milan Hudi       502.0   \n",
       "2                 2248.0            MUDr. Petr Zieg       317.0   \n",
       "3                  757.0  MUDr. Drahomíra Miškovská       309.0   \n",
       "\n",
       "               Lékárna_name  Lékárna_dist         Metro_name  Metro_dist  \\\n",
       "0  Lékárna U Rajské zahrady         500.0     Rajská zahrada       525.0   \n",
       "1      Lékárna U Matky Boží         147.0  Jiřího z Poděbrad       652.0   \n",
       "2            APOMED, s.r.o.         302.0            Letňany      1382.0   \n",
       "3           Lékárna Melissa         447.0           Radlická      2026.0   \n",
       "\n",
       "                     Obchod_name  Obchod_dist  \\\n",
       "0                       Kaufland       1486.0   \n",
       "1                  PAVILON, a.s.        941.0   \n",
       "2                          Tesco        366.0   \n",
       "3  Obchodní centrum Nový Smíchov       2075.0   \n",
       "\n",
       "                           Pošta_name  Pošta_dist        Restaurace_name  \\\n",
       "0  Pošta Praha 98 - Česká pošta, s.p.       442.0           Jiří Stopfer   \n",
       "1  Pošta Praha 35 - Česká pošta, s.p.       176.0     Restaurace Lavička   \n",
       "2  Pošta Praha 99 - Česká pošta, s.p.       680.0           Pub Infinity   \n",
       "3  Pošta Praha 56 - Česká pošta, s.p.       379.0  ŘÍZKÁRNA ROZVOZ JÍDEL   \n",
       "\n",
       "   Restaurace_dist                           Sportoviště_name  \\\n",
       "0            443.0  Veřejné hřiště na míčové hry Pospíchalova   \n",
       "1            119.0                  Sportovní centrum Olšanka   \n",
       "2            207.0                                 Surf Arena   \n",
       "3            345.0                        TJ Banka Praha z.s.   \n",
       "\n",
       "   Sportoviště_dist         Tram_name  Tram_dist  \\\n",
       "0             295.0           Lehovec     1136.0   \n",
       "1             469.0          Lipanská      186.0   \n",
       "2             350.0  Sídliště Ďáblice     1906.0   \n",
       "3             345.0         Kavalírka      370.0   \n",
       "\n",
       "                                      Veterinář_name  Veterinář_dist  \\\n",
       "0                          MetropoleVet Praha s.r.o.           623.0   \n",
       "1                                   MVDr. Jan Dubský           425.0   \n",
       "2                       Veterinární ordinace Letňany           302.0   \n",
       "3  Veterinární klinika - MVDr. Pavel Santar, MVDr...          1141.0   \n",
       "\n",
       "                  Večerka_name  Večerka_dist             Vlak_name  Vlak_dist  \\\n",
       "0           Albert Supermarket         451.0            Praha-Kyje     1445.0   \n",
       "1               Shalamar Foods         165.0  Praha hlavní nádraží      984.0   \n",
       "2                 Penny Market         183.0        Praha-Čakovice     1695.0   \n",
       "3  Smíšené zboží Plzeňská\\t187         404.0         Praha-Cibulka     1229.0   \n",
       "\n",
       "                             Škola_name  Škola_dist  \\\n",
       "0              ZUŠ Praha 9, Ratibořická       234.0   \n",
       "1  Gymnázium Karla Sladkovského Praha 3        56.0   \n",
       "2             Základní škola Fryčovická       160.0   \n",
       "3                        ZUŠ Na Popelce       224.0   \n",
       "\n",
       "                          Školka_name  Školka_dist Energy_class  \n",
       "0    MŠ Sluníčko Praha 9 - Černý Most        279.0            G  \n",
       "1  ZŠ a MŠ Jaroslava Seiferta Praha 3        243.0            G  \n",
       "2                       MŠ Havířovská        255.0          NaN  \n",
       "3        TROIS PETITES POMMES, s.r.o.        343.0            B  "
      ]
     },
     "execution_count": 626,
     "metadata": {},
     "output_type": "execute_result"
    }
   ],
   "source": [
    "data1.head(4)"
   ]
  }
 ],
 "metadata": {
  "kernelspec": {
   "display_name": "Python 3",
   "language": "python",
   "name": "python3"
  },
  "language_info": {
   "codemirror_mode": {
    "name": "ipython",
    "version": 3
   },
   "file_extension": ".py",
   "mimetype": "text/x-python",
   "name": "python",
   "nbconvert_exporter": "python",
   "pygments_lexer": "ipython3",
   "version": "3.7.4"
  },
  "widgets": {
   "application/vnd.jupyter.widget-state+json": {
    "state": {},
    "version_major": 2,
    "version_minor": 0
   }
  }
 },
 "nbformat": 4,
 "nbformat_minor": 2
}
