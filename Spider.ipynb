{
 "cells": [
  {
   "cell_type": "markdown",
   "metadata": {},
   "source": [
    "# Project proposal\n",
    "### _Josef Švec & Markéta Malá_"
   ]
  },
  {
   "cell_type": "markdown",
   "metadata": {},
   "source": [
    "We would like to work on the analysis of Prague's real estate market. The source for our data is the server Sreality.cz from Seznam that represents a trully extensive pool of supply of real estates either for rent or for sale (and that is due to the coronavirus crisis even more extensive than ever before). We'd like to narrow our focus only to the for rent properties within Prague.\n",
    "\n",
    "Below, at the very end of this code, there are listed all the variables that we should be able to scrape from the web (with a bit of time and luck). Based on this list we came to conclusion that the most interesting way of approaching the data could be to import a simple map of Prague and visually express the average prices per m^2 on it (e.g. by different intensity of colour or by height of a surface in a 3D model). Also a histogram comparing the prices across different Prague's districts. Alternatively, we could plot different set of variables once we examine our dataset. In ordet to create visualisations, we are planning to use a library such as geo pandas, although we are not familiar with its capabilities yet.\n",
    "\n",
    "In the notebook below, we were dealing with the issue of scraping dynamic webpages. We came up with a solution using the Selenium libarary. However, we counted that by our proposed way the scraping would take hours, because every link has to be openned separatelly and that takes time... If there is a better approach to this we will be very happy to learn it.\n",
    "\n",
    "PS: We are aware the the code, will be rewriten into the object oriented programming. This is only a proof of concept. "
   ]
  },
  {
   "cell_type": "markdown",
   "metadata": {},
   "source": [
    "## Start of a nice jupyter"
   ]
  },
  {
   "cell_type": "code",
   "execution_count": 2,
   "metadata": {},
   "outputs": [],
   "source": [
    "from selenium import webdriver"
   ]
  },
  {
   "cell_type": "code",
   "execution_count": 3,
   "metadata": {},
   "outputs": [],
   "source": [
    "import time"
   ]
  },
  {
   "cell_type": "code",
   "execution_count": 4,
   "metadata": {},
   "outputs": [],
   "source": [
    "from math import ceil"
   ]
  },
  {
   "cell_type": "code",
   "execution_count": 5,
   "metadata": {},
   "outputs": [],
   "source": [
    "from bs4 import BeautifulSoup"
   ]
  },
  {
   "cell_type": "markdown",
   "metadata": {},
   "source": [
    "## How is the link structured "
   ]
  },
  {
   "cell_type": "markdown",
   "metadata": {},
   "source": [
    "The website is located under domain name www.sreality.cz\n",
    "\n",
    "Then it allows a client to search real estate under specified parameters. \n",
    "\n",
    "We specify: renting\n",
    "\n",
    "type: flats\n",
    "\n",
    "location: Prague\n",
    "\n",
    "Then it displays 20 adverts per page"
   ]
  },
  {
   "cell_type": "markdown",
   "metadata": {},
   "source": [
    "Here we break down how the link is structured"
   ]
  },
  {
   "cell_type": "code",
   "execution_count": 6,
   "metadata": {},
   "outputs": [],
   "source": [
    "link_base = \"https://www.sreality.cz\""
   ]
  },
  {
   "cell_type": "code",
   "execution_count": 7,
   "metadata": {},
   "outputs": [],
   "source": [
    "search = \"/hledani/pronajem/byty/praha\""
   ]
  },
  {
   "cell_type": "code",
   "execution_count": 8,
   "metadata": {},
   "outputs": [],
   "source": [
    "pg = \"?strana=\""
   ]
  },
  {
   "cell_type": "markdown",
   "metadata": {},
   "source": [
    "According to number of matches we can calculate the number of pages from which we have to get the links"
   ]
  },
  {
   "cell_type": "code",
   "execution_count": 9,
   "metadata": {},
   "outputs": [],
   "source": [
    "matches = 7536"
   ]
  },
  {
   "cell_type": "code",
   "execution_count": 10,
   "metadata": {},
   "outputs": [],
   "source": [
    "pages = ceil(matches/20)"
   ]
  },
  {
   "cell_type": "code",
   "execution_count": 11,
   "metadata": {},
   "outputs": [
    {
     "data": {
      "text/plain": [
       "377"
      ]
     },
     "execution_count": 11,
     "metadata": {},
     "output_type": "execute_result"
    }
   ],
   "source": [
    "pages"
   ]
  },
  {
   "cell_type": "markdown",
   "metadata": {},
   "source": [
    "Because we understand the structure of the link we can create a list of all list that we want to visit"
   ]
  },
  {
   "cell_type": "code",
   "execution_count": 12,
   "metadata": {},
   "outputs": [],
   "source": [
    "all_pages = [link_base+search+pg+str(k+1) for k in range(0, pages)]"
   ]
  },
  {
   "cell_type": "markdown",
   "metadata": {},
   "source": [
    "We print first and last item of the list to verify our result"
   ]
  },
  {
   "cell_type": "code",
   "execution_count": 18,
   "metadata": {
    "scrolled": false
   },
   "outputs": [
    {
     "data": {
      "text/plain": [
       "['https://www.sreality.cz/hledani/pronajem/byty/praha?strana=1',\n",
       " 'https://www.sreality.cz/hledani/pronajem/byty/praha?strana=377']"
      ]
     },
     "execution_count": 18,
     "metadata": {},
     "output_type": "execute_result"
    }
   ],
   "source": [
    "[all_pages[0], all_pages[-1]]"
   ]
  },
  {
   "cell_type": "markdown",
   "metadata": {},
   "source": [
    "Now we gathered all the links to give us the link that we will later scrape.\n",
    "Sreality is a dynamic page so we will use selenium <3"
   ]
  },
  {
   "cell_type": "markdown",
   "metadata": {},
   "source": [
    "### Selenium"
   ]
  },
  {
   "cell_type": "markdown",
   "metadata": {},
   "source": [
    "#### code for one page"
   ]
  },
  {
   "cell_type": "markdown",
   "metadata": {},
   "source": [
    "We visit the webpage with selenium get the html code and find all the links that lead to our desired destination."
   ]
  },
  {
   "cell_type": "code",
   "execution_count": 19,
   "metadata": {},
   "outputs": [],
   "source": [
    "driver = webdriver.Chrome(\"C:\\\\chromedriver\\\\chromedriver.exe\")\n",
    "driver.get(\"https://www.sreality.cz/hledani/pronajem/byty/praha\")\n",
    "time.sleep(2)\n",
    "res1 = driver.execute_script(\"return document.documentElement.outerHTML\")\n",
    "driver.quit()"
   ]
  },
  {
   "cell_type": "code",
   "execution_count": 20,
   "metadata": {},
   "outputs": [],
   "source": [
    "soup = BeautifulSoup(res1, \"lxml\")"
   ]
  },
  {
   "cell_type": "code",
   "execution_count": 21,
   "metadata": {},
   "outputs": [],
   "source": [
    "links = soup.find_all(\"a\", {\"class\":\"title\"})"
   ]
  },
  {
   "cell_type": "markdown",
   "metadata": {},
   "source": [
    "We check that we collected 21 links because there is one sponsored link per page.\n",
    "Then we print the first link that is not sponsored"
   ]
  },
  {
   "cell_type": "code",
   "execution_count": 22,
   "metadata": {},
   "outputs": [
    {
     "data": {
      "text/plain": [
       "21"
      ]
     },
     "execution_count": 22,
     "metadata": {},
     "output_type": "execute_result"
    }
   ],
   "source": [
    "len(links)"
   ]
  },
  {
   "cell_type": "code",
   "execution_count": 23,
   "metadata": {},
   "outputs": [
    {
     "data": {
      "text/plain": [
       "'/detail/pronajem/byt/2+kk/praha-zizkov-blahnikova/2249539164'"
      ]
     },
     "execution_count": 23,
     "metadata": {},
     "output_type": "execute_result"
    }
   ],
   "source": [
    "links[1]['href']"
   ]
  },
  {
   "cell_type": "markdown",
   "metadata": {},
   "source": [
    "### for many pages"
   ]
  },
  {
   "cell_type": "markdown",
   "metadata": {},
   "source": [
    "Now this code is generalized for visiting all the pages that we previously set out to get links from"
   ]
  },
  {
   "cell_type": "code",
   "execution_count": 24,
   "metadata": {},
   "outputs": [],
   "source": [
    "driver = webdriver.Chrome(\"C:\\\\chromedriver\\\\chromedriver.exe\")\n",
    "all_links = []\n",
    "for k in range(2): # when ready replace 2 with variable \"pages\"\n",
    "    driver.get(all_pages[k])\n",
    "    time.sleep(1)\n",
    "    res = driver.execute_script(\"return document.documentElement.outerHTML\")\n",
    "    soup = BeautifulSoup(res, \"lxml\")\n",
    "    links = soup.find_all(\"a\", {\"class\":\"title\"})\n",
    "    for j in links[1:]:\n",
    "        all_links.append(j['href'])\n",
    "driver.quit()"
   ]
  },
  {
   "cell_type": "code",
   "execution_count": 25,
   "metadata": {
    "scrolled": true
   },
   "outputs": [
    {
     "data": {
      "text/plain": [
       "40"
      ]
     },
     "execution_count": 25,
     "metadata": {},
     "output_type": "execute_result"
    }
   ],
   "source": [
    "len(all_links)"
   ]
  },
  {
   "cell_type": "code",
   "execution_count": 30,
   "metadata": {
    "scrolled": true
   },
   "outputs": [
    {
     "data": {
      "text/plain": [
       "['/detail/pronajem/byt/2+kk/praha-zizkov-blahnikova/2249539164',\n",
       " '/detail/pronajem/byt/3+kk/praha-vinohrady-slavikova/4239736412',\n",
       " '/detail/pronajem/byt/1+kk/praha-nove-mesto-wenzigova/3521785436',\n",
       " '/detail/pronajem/byt/2+kk/praha-nove-mesto-wenzigova/2774216284',\n",
       " '/detail/pronajem/byt/4+kk/praha-stare-mesto-naprstkova/1197882972']"
      ]
     },
     "execution_count": 30,
     "metadata": {},
     "output_type": "execute_result"
    }
   ],
   "source": [
    "all_links[:5]"
   ]
  },
  {
   "cell_type": "markdown",
   "metadata": {},
   "source": [
    "This is just a begining of all the links we can get :D"
   ]
  },
  {
   "cell_type": "markdown",
   "metadata": {},
   "source": [
    "## Now we need to decide what we want from individual sites."
   ]
  },
  {
   "cell_type": "code",
   "execution_count": 47,
   "metadata": {},
   "outputs": [],
   "source": [
    "link_explore = link_base + all_links[1]\n",
    "driver = webdriver.Chrome(\"C:\\\\chromedriver\\\\chromedriver.exe\")\n",
    "driver.get(link_explore)\n",
    "time.sleep(2)\n",
    "gist = driver.execute_script(\"return document.documentElement.outerHTML\")\n",
    "driver.quit()"
   ]
  },
  {
   "cell_type": "code",
   "execution_count": 49,
   "metadata": {},
   "outputs": [],
   "source": [
    "info = BeautifulSoup(gist, \"lxml\")"
   ]
  },
  {
   "cell_type": "markdown",
   "metadata": {},
   "source": [
    "### magic from now on "
   ]
  },
  {
   "cell_type": "code",
   "execution_count": 50,
   "metadata": {
    "scrolled": true
   },
   "outputs": [
    {
     "name": "stdout",
     "output_type": "stream",
     "text": [
      "{'title': ['Pronájem bytu 3+kk 50 m²'], 'adresa': ['Slavíkova, Praha 2 - Vinohrady'], 'Celková cena:': ['15 000 Kč za měsíc'], 'Poznámka k ceně:': ['služby 800,-/osoba/měsíc + převod energií na nájemce'], 'ID zakázky:': ['411/3466'], 'Aktualizace:': ['Dnes'], 'Stavba:': ['Cihlová'], 'Stav objektu:': ['Po rekonstrukci'], 'Vlastnictví:': ['Osobní'], 'Podlaží:': ['6. podlaží z celkem 6'], 'Užitná plocha:': ['50m2'], 'Plocha podlahová:': ['50m2'], 'Energetická náročnost budovy:': ['Třída G - Mimořádně nehospodárná č. 78/2013 Sb. podle vyhlášky'], 'Bezbariérový:': [\"'boolean-false'\"], 'Vybavení:': [\"'boolean-true'\"], 'Výtah:': [\"'boolean-true'\"], 'Cukrárna:': ['Vinohradské dorty', ' (64 m)'], 'Kino:': ['Filmový klub VŠE', ' (790 m)'], 'Hřiště:': ['Dětské hřiště Milešovská', ' (225 m)'], 'Kulturní památka:': ['Dům U černé Matky Boží', ' (1857 m)'], 'Večerka:': ['Potraviny Kubelíkova', ' (350 m)'], 'Hospoda:': ['U Pižďucha', ' (713 m)'], 'Divadlo:': ['Theatre ROYAL', ' (505 m)'], 'Veterinář:': ['Veterinární klinika Panda', ' (202 m)'], 'Lékař:': ['MUDr. Milan Hudi', ' (154 m)'], 'Restaurace:': ['Restaurace U Růžového sadu', ' (82 m)'], 'Tram:': ['Jiřího z Poděbrad', ' (186 m)'], 'Lékárna:': ['Lékárna U krále Jiřího', ' (170 m)'], 'Sportoviště:': ['Sportovní centrum Olšanka', ' (790 m)'], 'Škola:': ['ZŠ Praha 3, náměstí Jiřího z Poděbrad', ' (73 m)'], 'Školka:': ['Piccole Pesti, s.r.o.', ' (98 m)'], 'Bankomat:': ['Bankomat Euronet', ' (252 m)'], 'Pošta:': ['Pošta Praha 33 - Česká pošta, s.p.', ' (316 m)'], 'Bus MHD:': ['Na Smetance', ' (737 m)'], 'Vlak:': ['Praha hlavní nádraží', ' (926 m)'], 'Obchod:': ['PAVILON, a.s.', ' (464 m)'], 'Metro:': ['Jiřího z Poděbrad', ' (138 m)']}\n"
     ]
    }
   ],
   "source": [
    "lists = info.find_all(\"li\")\n",
    "dict = {}\n",
    "\n",
    "dict[\"title\"] = [info.find(\"span\",{\"itemprop\":\"name\"}).findChild().get_text().replace(\"\\n\",\"\").replace(\"\\xa0\",\" \") ]\n",
    "dict[\"adresa\"] = [info.find(\"span\",{\"class\": \"location\"}).get_text().replace(\"\\n\",\"\").replace(\"\\xa0\",\" \")]\n",
    "for k in lists:\n",
    "    try:\n",
    "        column = k.find(\"label\").get_text()\n",
    "    except:\n",
    "        break\n",
    "    try:\n",
    "        value = [k.find(\"strong\").get_text()]\n",
    "    except:\n",
    "        try:\n",
    "            value = [k.find(\"a\").get_text(), k.find(\"span\", {\"class\":\"c-pois__distance ng-binding\"}).get_text()]\n",
    "        except:\n",
    "            value = [k.find(\"span\",{\"class\":\"c-pois__poi-text ng-binding ng-scope\"}).get_text(),k.find(\"span\", {\"class\":\"c-pois__distance ng-binding\"}).get_text()]\n",
    "    \n",
    "    if value[0] == \"\\n\\n\\n\\n\\n\\n\\n\":\n",
    "        try:\n",
    "            value[0] = k.find(\"strong\").findChild(\"span\",{\"class\": \"icof icon-cross ng-scope\"})[\"ng-if\"].split(\" \")[-1]\n",
    "        except:\n",
    "            value[0] = k.find(\"strong\").findChild(\"span\",{\"class\": \"icof icon-ok ng-scope\"})[\"ng-if\"].split(\" \")[-1]\n",
    "    \n",
    "    #we clean the values a little bit\n",
    "    keys = [val.replace(\"\\n\",\"\") for val in value]\n",
    "    keys_a = [ki.replace(\"\\xa0\",\" \") for ki in keys]    \n",
    "\n",
    "    #add it to the dictionary\n",
    "    dict[column] = keys_a\n",
    "\n",
    "print(dict)  "
   ]
  },
  {
   "cell_type": "code",
   "execution_count": 51,
   "metadata": {
    "scrolled": false
   },
   "outputs": [
    {
     "data": {
      "text/plain": [
       "{'title': ['Pronájem bytu 3+kk 50 m²'],\n",
       " 'adresa': ['Slavíkova, Praha 2 - Vinohrady'],\n",
       " 'Celková cena:': ['15 000 Kč za měsíc'],\n",
       " 'Poznámka k ceně:': ['služby 800,-/osoba/měsíc + převod energií na nájemce'],\n",
       " 'ID zakázky:': ['411/3466'],\n",
       " 'Aktualizace:': ['Dnes'],\n",
       " 'Stavba:': ['Cihlová'],\n",
       " 'Stav objektu:': ['Po rekonstrukci'],\n",
       " 'Vlastnictví:': ['Osobní'],\n",
       " 'Podlaží:': ['6. podlaží z celkem 6'],\n",
       " 'Užitná plocha:': ['50m2'],\n",
       " 'Plocha podlahová:': ['50m2'],\n",
       " 'Energetická náročnost budovy:': ['Třída G - Mimořádně nehospodárná č. 78/2013 Sb. podle vyhlášky'],\n",
       " 'Bezbariérový:': [\"'boolean-false'\"],\n",
       " 'Vybavení:': [\"'boolean-true'\"],\n",
       " 'Výtah:': [\"'boolean-true'\"],\n",
       " 'Cukrárna:': ['Vinohradské dorty', ' (64 m)'],\n",
       " 'Kino:': ['Filmový klub VŠE', ' (790 m)'],\n",
       " 'Hřiště:': ['Dětské hřiště Milešovská', ' (225 m)'],\n",
       " 'Kulturní památka:': ['Dům U černé Matky Boží', ' (1857 m)'],\n",
       " 'Večerka:': ['Potraviny Kubelíkova', ' (350 m)'],\n",
       " 'Hospoda:': ['U Pižďucha', ' (713 m)'],\n",
       " 'Divadlo:': ['Theatre ROYAL', ' (505 m)'],\n",
       " 'Veterinář:': ['Veterinární klinika Panda', ' (202 m)'],\n",
       " 'Lékař:': ['MUDr. Milan Hudi', ' (154 m)'],\n",
       " 'Restaurace:': ['Restaurace U Růžového sadu', ' (82 m)'],\n",
       " 'Tram:': ['Jiřího z Poděbrad', ' (186 m)'],\n",
       " 'Lékárna:': ['Lékárna U krále Jiřího', ' (170 m)'],\n",
       " 'Sportoviště:': ['Sportovní centrum Olšanka', ' (790 m)'],\n",
       " 'Škola:': ['ZŠ Praha 3, náměstí Jiřího z Poděbrad', ' (73 m)'],\n",
       " 'Školka:': ['Piccole Pesti, s.r.o.', ' (98 m)'],\n",
       " 'Bankomat:': ['Bankomat Euronet', ' (252 m)'],\n",
       " 'Pošta:': ['Pošta Praha 33 - Česká pošta, s.p.', ' (316 m)'],\n",
       " 'Bus MHD:': ['Na Smetance', ' (737 m)'],\n",
       " 'Vlak:': ['Praha hlavní nádraží', ' (926 m)'],\n",
       " 'Obchod:': ['PAVILON, a.s.', ' (464 m)'],\n",
       " 'Metro:': ['Jiřího z Poděbrad', ' (138 m)']}"
      ]
     },
     "execution_count": 51,
     "metadata": {},
     "output_type": "execute_result"
    }
   ],
   "source": [
    "dict"
   ]
  },
  {
   "cell_type": "markdown",
   "metadata": {},
   "source": [
    "Although, it should be rewriten as at least functions maybe OOP"
   ]
  },
  {
   "cell_type": "markdown",
   "metadata": {},
   "source": [
    "## Now we can collect data \n",
    "### is it going to be a dictionary of dictionaries? or json?"
   ]
  },
  {
   "cell_type": "code",
   "execution_count": 52,
   "metadata": {},
   "outputs": [
    {
     "data": {
      "text/plain": [
       "' (186 m)'"
      ]
     },
     "execution_count": 52,
     "metadata": {},
     "output_type": "execute_result"
    }
   ],
   "source": [
    "dict['Tram:'][1]"
   ]
  }
 ],
 "metadata": {
  "kernelspec": {
   "display_name": "Python 3",
   "language": "python",
   "name": "python3"
  },
  "language_info": {
   "codemirror_mode": {
    "name": "ipython",
    "version": 3
   },
   "file_extension": ".py",
   "mimetype": "text/x-python",
   "name": "python",
   "nbconvert_exporter": "python",
   "pygments_lexer": "ipython3",
   "version": "3.7.4"
  }
 },
 "nbformat": 4,
 "nbformat_minor": 2
}
