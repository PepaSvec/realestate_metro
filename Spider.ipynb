{
 "cells": [
  {
   "cell_type": "markdown",
   "metadata": {},
   "source": [
    "# Project proposal\n",
    "### _Josef Švec & Markéta Malá_"
   ]
  },
  {
   "cell_type": "markdown",
   "metadata": {},
   "source": [
    "We want to work on the analysis of Prague's real estate market. The source for our data is the server Sreality.cz from Seznam that represents a trully extensive pool of supply of real estates either for rent or sale (and that is due to the coronavirus crisis even more extensive than ever before). We'd like to narrow our focus only to rents within Prague.\n",
    "\n",
    "Below, at the very end of this code, there are listed all the variables that we should be able to scrape from the web (with a bit of time and luck). Based on this list we came to conclusion that the most interesting way of approaching the data could be to import a simple map of Prague and visually express the average prices per m^2 on it (e.g. by different intensity of colour or by hight of a surface in a 3D model). Also a histogram comparing the prices across different Prague's districts.\n",
    "\n",
    "Nevertheless, currently we are dealing with a problem (stemming from the dynamic character of the page that requires usage of Selenium) of technically too demanding scraping. Literally, we counted that by our proposed way the scraping would take hours, because every link has to be openned separatelly and that takes time... If there is a better approach to this we will be very happy to learn it."
   ]
  },
  {
   "cell_type": "markdown",
   "metadata": {},
   "source": [
    "## Start of a nice jupyter"
   ]
  },
  {
   "cell_type": "code",
   "execution_count": 1,
   "metadata": {},
   "outputs": [],
   "source": [
    "from selenium import webdriver"
   ]
  },
  {
   "cell_type": "code",
   "execution_count": 2,
   "metadata": {},
   "outputs": [],
   "source": [
    "import time"
   ]
  },
  {
   "cell_type": "code",
   "execution_count": 3,
   "metadata": {},
   "outputs": [],
   "source": [
    "from math import ceil"
   ]
  },
  {
   "cell_type": "code",
   "execution_count": 4,
   "metadata": {},
   "outputs": [],
   "source": [
    "from bs4 import BeautifulSoup"
   ]
  },
  {
   "cell_type": "markdown",
   "metadata": {},
   "source": [
    "## How is the link structured "
   ]
  },
  {
   "cell_type": "markdown",
   "metadata": {},
   "source": [
    "The website is located under domain name www.sreality.cz\n",
    "\n",
    "Then it allows a client to search real estate under specified parameters. \n",
    "\n",
    "We specify: renting\n",
    "\n",
    "type: flats\n",
    "\n",
    "location: Prague\n",
    "\n",
    "Then it displays 20 adverts per page"
   ]
  },
  {
   "cell_type": "markdown",
   "metadata": {},
   "source": [
    "Here we break down how the link is structured"
   ]
  },
  {
   "cell_type": "code",
   "execution_count": 8,
   "metadata": {},
   "outputs": [],
   "source": [
    "link_base = \"https://www.sreality.cz\""
   ]
  },
  {
   "cell_type": "code",
   "execution_count": 9,
   "metadata": {},
   "outputs": [],
   "source": [
    "search = \"/hledani/pronajem/byty/praha\""
   ]
  },
  {
   "cell_type": "code",
   "execution_count": 10,
   "metadata": {},
   "outputs": [],
   "source": [
    "pg = \"?strana=\""
   ]
  },
  {
   "cell_type": "markdown",
   "metadata": {},
   "source": [
    "According to number of matches we can calculate the number of pages from which we have to get the links"
   ]
  },
  {
   "cell_type": "code",
   "execution_count": 11,
   "metadata": {},
   "outputs": [],
   "source": [
    "matches = 7536"
   ]
  },
  {
   "cell_type": "code",
   "execution_count": 12,
   "metadata": {},
   "outputs": [],
   "source": [
    "pages = ceil(matches/20)"
   ]
  },
  {
   "cell_type": "code",
   "execution_count": 13,
   "metadata": {},
   "outputs": [
    {
     "data": {
      "text/plain": [
       "377"
      ]
     },
     "execution_count": 13,
     "metadata": {},
     "output_type": "execute_result"
    }
   ],
   "source": [
    "pages"
   ]
  },
  {
   "cell_type": "markdown",
   "metadata": {},
   "source": [
    "Because we understand the structure of the link we can create a list of all list that we want to visit"
   ]
  },
  {
   "cell_type": "code",
   "execution_count": 16,
   "metadata": {},
   "outputs": [],
   "source": [
    "all_pages = [link_base+search+pg+str(k+1) for k in range(0, pages)]"
   ]
  },
  {
   "cell_type": "code",
   "execution_count": 23,
   "metadata": {
    "scrolled": false
   },
   "outputs": [
    {
     "data": {
      "text/plain": [
       "['https://www.sreality.cz/hledani/pronajem/byty/praha?strana=1',\n",
       " 'https://www.sreality.cz/hledani/pronajem/byty/praha?strana=2',\n",
       " 'https://www.sreality.cz/hledani/pronajem/byty/praha?strana=3',\n",
       " 'https://www.sreality.cz/hledani/pronajem/byty/praha?strana=4',\n",
       " 'https://www.sreality.cz/hledani/pronajem/byty/praha?strana=5',\n",
       " 'https://www.sreality.cz/hledani/pronajem/byty/praha?strana=6',\n",
       " 'https://www.sreality.cz/hledani/pronajem/byty/praha?strana=7',\n",
       " 'https://www.sreality.cz/hledani/pronajem/byty/praha?strana=8',\n",
       " 'https://www.sreality.cz/hledani/pronajem/byty/praha?strana=9',\n",
       " 'https://www.sreality.cz/hledani/pronajem/byty/praha?strana=10',\n",
       " 'https://www.sreality.cz/hledani/pronajem/byty/praha?strana=11',\n",
       " 'https://www.sreality.cz/hledani/pronajem/byty/praha?strana=12',\n",
       " 'https://www.sreality.cz/hledani/pronajem/byty/praha?strana=13',\n",
       " 'https://www.sreality.cz/hledani/pronajem/byty/praha?strana=14',\n",
       " 'https://www.sreality.cz/hledani/pronajem/byty/praha?strana=15',\n",
       " 'https://www.sreality.cz/hledani/pronajem/byty/praha?strana=16',\n",
       " 'https://www.sreality.cz/hledani/pronajem/byty/praha?strana=17',\n",
       " 'https://www.sreality.cz/hledani/pronajem/byty/praha?strana=18',\n",
       " 'https://www.sreality.cz/hledani/pronajem/byty/praha?strana=19',\n",
       " 'https://www.sreality.cz/hledani/pronajem/byty/praha?strana=20',\n",
       " 'https://www.sreality.cz/hledani/pronajem/byty/praha?strana=21',\n",
       " 'https://www.sreality.cz/hledani/pronajem/byty/praha?strana=22',\n",
       " 'https://www.sreality.cz/hledani/pronajem/byty/praha?strana=23',\n",
       " 'https://www.sreality.cz/hledani/pronajem/byty/praha?strana=24',\n",
       " 'https://www.sreality.cz/hledani/pronajem/byty/praha?strana=25',\n",
       " 'https://www.sreality.cz/hledani/pronajem/byty/praha?strana=26',\n",
       " 'https://www.sreality.cz/hledani/pronajem/byty/praha?strana=27',\n",
       " 'https://www.sreality.cz/hledani/pronajem/byty/praha?strana=28',\n",
       " 'https://www.sreality.cz/hledani/pronajem/byty/praha?strana=29',\n",
       " 'https://www.sreality.cz/hledani/pronajem/byty/praha?strana=30',\n",
       " 'https://www.sreality.cz/hledani/pronajem/byty/praha?strana=31',\n",
       " 'https://www.sreality.cz/hledani/pronajem/byty/praha?strana=32',\n",
       " 'https://www.sreality.cz/hledani/pronajem/byty/praha?strana=33',\n",
       " 'https://www.sreality.cz/hledani/pronajem/byty/praha?strana=34',\n",
       " 'https://www.sreality.cz/hledani/pronajem/byty/praha?strana=35',\n",
       " 'https://www.sreality.cz/hledani/pronajem/byty/praha?strana=36',\n",
       " 'https://www.sreality.cz/hledani/pronajem/byty/praha?strana=37',\n",
       " 'https://www.sreality.cz/hledani/pronajem/byty/praha?strana=38',\n",
       " 'https://www.sreality.cz/hledani/pronajem/byty/praha?strana=39',\n",
       " 'https://www.sreality.cz/hledani/pronajem/byty/praha?strana=40',\n",
       " 'https://www.sreality.cz/hledani/pronajem/byty/praha?strana=41',\n",
       " 'https://www.sreality.cz/hledani/pronajem/byty/praha?strana=42',\n",
       " 'https://www.sreality.cz/hledani/pronajem/byty/praha?strana=43',\n",
       " 'https://www.sreality.cz/hledani/pronajem/byty/praha?strana=44',\n",
       " 'https://www.sreality.cz/hledani/pronajem/byty/praha?strana=45',\n",
       " 'https://www.sreality.cz/hledani/pronajem/byty/praha?strana=46',\n",
       " 'https://www.sreality.cz/hledani/pronajem/byty/praha?strana=47',\n",
       " 'https://www.sreality.cz/hledani/pronajem/byty/praha?strana=48',\n",
       " 'https://www.sreality.cz/hledani/pronajem/byty/praha?strana=49',\n",
       " 'https://www.sreality.cz/hledani/pronajem/byty/praha?strana=50',\n",
       " 'https://www.sreality.cz/hledani/pronajem/byty/praha?strana=51',\n",
       " 'https://www.sreality.cz/hledani/pronajem/byty/praha?strana=52',\n",
       " 'https://www.sreality.cz/hledani/pronajem/byty/praha?strana=53',\n",
       " 'https://www.sreality.cz/hledani/pronajem/byty/praha?strana=54',\n",
       " 'https://www.sreality.cz/hledani/pronajem/byty/praha?strana=55',\n",
       " 'https://www.sreality.cz/hledani/pronajem/byty/praha?strana=56',\n",
       " 'https://www.sreality.cz/hledani/pronajem/byty/praha?strana=57',\n",
       " 'https://www.sreality.cz/hledani/pronajem/byty/praha?strana=58',\n",
       " 'https://www.sreality.cz/hledani/pronajem/byty/praha?strana=59',\n",
       " 'https://www.sreality.cz/hledani/pronajem/byty/praha?strana=60',\n",
       " 'https://www.sreality.cz/hledani/pronajem/byty/praha?strana=61',\n",
       " 'https://www.sreality.cz/hledani/pronajem/byty/praha?strana=62',\n",
       " 'https://www.sreality.cz/hledani/pronajem/byty/praha?strana=63',\n",
       " 'https://www.sreality.cz/hledani/pronajem/byty/praha?strana=64',\n",
       " 'https://www.sreality.cz/hledani/pronajem/byty/praha?strana=65',\n",
       " 'https://www.sreality.cz/hledani/pronajem/byty/praha?strana=66',\n",
       " 'https://www.sreality.cz/hledani/pronajem/byty/praha?strana=67',\n",
       " 'https://www.sreality.cz/hledani/pronajem/byty/praha?strana=68',\n",
       " 'https://www.sreality.cz/hledani/pronajem/byty/praha?strana=69',\n",
       " 'https://www.sreality.cz/hledani/pronajem/byty/praha?strana=70',\n",
       " 'https://www.sreality.cz/hledani/pronajem/byty/praha?strana=71',\n",
       " 'https://www.sreality.cz/hledani/pronajem/byty/praha?strana=72',\n",
       " 'https://www.sreality.cz/hledani/pronajem/byty/praha?strana=73',\n",
       " 'https://www.sreality.cz/hledani/pronajem/byty/praha?strana=74',\n",
       " 'https://www.sreality.cz/hledani/pronajem/byty/praha?strana=75',\n",
       " 'https://www.sreality.cz/hledani/pronajem/byty/praha?strana=76',\n",
       " 'https://www.sreality.cz/hledani/pronajem/byty/praha?strana=77',\n",
       " 'https://www.sreality.cz/hledani/pronajem/byty/praha?strana=78',\n",
       " 'https://www.sreality.cz/hledani/pronajem/byty/praha?strana=79',\n",
       " 'https://www.sreality.cz/hledani/pronajem/byty/praha?strana=80',\n",
       " 'https://www.sreality.cz/hledani/pronajem/byty/praha?strana=81',\n",
       " 'https://www.sreality.cz/hledani/pronajem/byty/praha?strana=82',\n",
       " 'https://www.sreality.cz/hledani/pronajem/byty/praha?strana=83',\n",
       " 'https://www.sreality.cz/hledani/pronajem/byty/praha?strana=84',\n",
       " 'https://www.sreality.cz/hledani/pronajem/byty/praha?strana=85',\n",
       " 'https://www.sreality.cz/hledani/pronajem/byty/praha?strana=86',\n",
       " 'https://www.sreality.cz/hledani/pronajem/byty/praha?strana=87',\n",
       " 'https://www.sreality.cz/hledani/pronajem/byty/praha?strana=88',\n",
       " 'https://www.sreality.cz/hledani/pronajem/byty/praha?strana=89',\n",
       " 'https://www.sreality.cz/hledani/pronajem/byty/praha?strana=90',\n",
       " 'https://www.sreality.cz/hledani/pronajem/byty/praha?strana=91',\n",
       " 'https://www.sreality.cz/hledani/pronajem/byty/praha?strana=92',\n",
       " 'https://www.sreality.cz/hledani/pronajem/byty/praha?strana=93',\n",
       " 'https://www.sreality.cz/hledani/pronajem/byty/praha?strana=94',\n",
       " 'https://www.sreality.cz/hledani/pronajem/byty/praha?strana=95',\n",
       " 'https://www.sreality.cz/hledani/pronajem/byty/praha?strana=96',\n",
       " 'https://www.sreality.cz/hledani/pronajem/byty/praha?strana=97',\n",
       " 'https://www.sreality.cz/hledani/pronajem/byty/praha?strana=98',\n",
       " 'https://www.sreality.cz/hledani/pronajem/byty/praha?strana=99',\n",
       " 'https://www.sreality.cz/hledani/pronajem/byty/praha?strana=100',\n",
       " 'https://www.sreality.cz/hledani/pronajem/byty/praha?strana=101',\n",
       " 'https://www.sreality.cz/hledani/pronajem/byty/praha?strana=102',\n",
       " 'https://www.sreality.cz/hledani/pronajem/byty/praha?strana=103',\n",
       " 'https://www.sreality.cz/hledani/pronajem/byty/praha?strana=104',\n",
       " 'https://www.sreality.cz/hledani/pronajem/byty/praha?strana=105',\n",
       " 'https://www.sreality.cz/hledani/pronajem/byty/praha?strana=106',\n",
       " 'https://www.sreality.cz/hledani/pronajem/byty/praha?strana=107',\n",
       " 'https://www.sreality.cz/hledani/pronajem/byty/praha?strana=108',\n",
       " 'https://www.sreality.cz/hledani/pronajem/byty/praha?strana=109',\n",
       " 'https://www.sreality.cz/hledani/pronajem/byty/praha?strana=110',\n",
       " 'https://www.sreality.cz/hledani/pronajem/byty/praha?strana=111',\n",
       " 'https://www.sreality.cz/hledani/pronajem/byty/praha?strana=112',\n",
       " 'https://www.sreality.cz/hledani/pronajem/byty/praha?strana=113',\n",
       " 'https://www.sreality.cz/hledani/pronajem/byty/praha?strana=114',\n",
       " 'https://www.sreality.cz/hledani/pronajem/byty/praha?strana=115',\n",
       " 'https://www.sreality.cz/hledani/pronajem/byty/praha?strana=116',\n",
       " 'https://www.sreality.cz/hledani/pronajem/byty/praha?strana=117',\n",
       " 'https://www.sreality.cz/hledani/pronajem/byty/praha?strana=118',\n",
       " 'https://www.sreality.cz/hledani/pronajem/byty/praha?strana=119',\n",
       " 'https://www.sreality.cz/hledani/pronajem/byty/praha?strana=120',\n",
       " 'https://www.sreality.cz/hledani/pronajem/byty/praha?strana=121',\n",
       " 'https://www.sreality.cz/hledani/pronajem/byty/praha?strana=122',\n",
       " 'https://www.sreality.cz/hledani/pronajem/byty/praha?strana=123',\n",
       " 'https://www.sreality.cz/hledani/pronajem/byty/praha?strana=124',\n",
       " 'https://www.sreality.cz/hledani/pronajem/byty/praha?strana=125',\n",
       " 'https://www.sreality.cz/hledani/pronajem/byty/praha?strana=126',\n",
       " 'https://www.sreality.cz/hledani/pronajem/byty/praha?strana=127',\n",
       " 'https://www.sreality.cz/hledani/pronajem/byty/praha?strana=128',\n",
       " 'https://www.sreality.cz/hledani/pronajem/byty/praha?strana=129',\n",
       " 'https://www.sreality.cz/hledani/pronajem/byty/praha?strana=130',\n",
       " 'https://www.sreality.cz/hledani/pronajem/byty/praha?strana=131',\n",
       " 'https://www.sreality.cz/hledani/pronajem/byty/praha?strana=132',\n",
       " 'https://www.sreality.cz/hledani/pronajem/byty/praha?strana=133',\n",
       " 'https://www.sreality.cz/hledani/pronajem/byty/praha?strana=134',\n",
       " 'https://www.sreality.cz/hledani/pronajem/byty/praha?strana=135',\n",
       " 'https://www.sreality.cz/hledani/pronajem/byty/praha?strana=136',\n",
       " 'https://www.sreality.cz/hledani/pronajem/byty/praha?strana=137',\n",
       " 'https://www.sreality.cz/hledani/pronajem/byty/praha?strana=138',\n",
       " 'https://www.sreality.cz/hledani/pronajem/byty/praha?strana=139',\n",
       " 'https://www.sreality.cz/hledani/pronajem/byty/praha?strana=140',\n",
       " 'https://www.sreality.cz/hledani/pronajem/byty/praha?strana=141',\n",
       " 'https://www.sreality.cz/hledani/pronajem/byty/praha?strana=142',\n",
       " 'https://www.sreality.cz/hledani/pronajem/byty/praha?strana=143',\n",
       " 'https://www.sreality.cz/hledani/pronajem/byty/praha?strana=144',\n",
       " 'https://www.sreality.cz/hledani/pronajem/byty/praha?strana=145',\n",
       " 'https://www.sreality.cz/hledani/pronajem/byty/praha?strana=146',\n",
       " 'https://www.sreality.cz/hledani/pronajem/byty/praha?strana=147',\n",
       " 'https://www.sreality.cz/hledani/pronajem/byty/praha?strana=148',\n",
       " 'https://www.sreality.cz/hledani/pronajem/byty/praha?strana=149',\n",
       " 'https://www.sreality.cz/hledani/pronajem/byty/praha?strana=150',\n",
       " 'https://www.sreality.cz/hledani/pronajem/byty/praha?strana=151',\n",
       " 'https://www.sreality.cz/hledani/pronajem/byty/praha?strana=152',\n",
       " 'https://www.sreality.cz/hledani/pronajem/byty/praha?strana=153',\n",
       " 'https://www.sreality.cz/hledani/pronajem/byty/praha?strana=154',\n",
       " 'https://www.sreality.cz/hledani/pronajem/byty/praha?strana=155',\n",
       " 'https://www.sreality.cz/hledani/pronajem/byty/praha?strana=156',\n",
       " 'https://www.sreality.cz/hledani/pronajem/byty/praha?strana=157',\n",
       " 'https://www.sreality.cz/hledani/pronajem/byty/praha?strana=158',\n",
       " 'https://www.sreality.cz/hledani/pronajem/byty/praha?strana=159',\n",
       " 'https://www.sreality.cz/hledani/pronajem/byty/praha?strana=160',\n",
       " 'https://www.sreality.cz/hledani/pronajem/byty/praha?strana=161',\n",
       " 'https://www.sreality.cz/hledani/pronajem/byty/praha?strana=162',\n",
       " 'https://www.sreality.cz/hledani/pronajem/byty/praha?strana=163',\n",
       " 'https://www.sreality.cz/hledani/pronajem/byty/praha?strana=164',\n",
       " 'https://www.sreality.cz/hledani/pronajem/byty/praha?strana=165',\n",
       " 'https://www.sreality.cz/hledani/pronajem/byty/praha?strana=166',\n",
       " 'https://www.sreality.cz/hledani/pronajem/byty/praha?strana=167',\n",
       " 'https://www.sreality.cz/hledani/pronajem/byty/praha?strana=168',\n",
       " 'https://www.sreality.cz/hledani/pronajem/byty/praha?strana=169',\n",
       " 'https://www.sreality.cz/hledani/pronajem/byty/praha?strana=170',\n",
       " 'https://www.sreality.cz/hledani/pronajem/byty/praha?strana=171',\n",
       " 'https://www.sreality.cz/hledani/pronajem/byty/praha?strana=172',\n",
       " 'https://www.sreality.cz/hledani/pronajem/byty/praha?strana=173',\n",
       " 'https://www.sreality.cz/hledani/pronajem/byty/praha?strana=174',\n",
       " 'https://www.sreality.cz/hledani/pronajem/byty/praha?strana=175',\n",
       " 'https://www.sreality.cz/hledani/pronajem/byty/praha?strana=176',\n",
       " 'https://www.sreality.cz/hledani/pronajem/byty/praha?strana=177',\n",
       " 'https://www.sreality.cz/hledani/pronajem/byty/praha?strana=178',\n",
       " 'https://www.sreality.cz/hledani/pronajem/byty/praha?strana=179',\n",
       " 'https://www.sreality.cz/hledani/pronajem/byty/praha?strana=180',\n",
       " 'https://www.sreality.cz/hledani/pronajem/byty/praha?strana=181',\n",
       " 'https://www.sreality.cz/hledani/pronajem/byty/praha?strana=182',\n",
       " 'https://www.sreality.cz/hledani/pronajem/byty/praha?strana=183',\n",
       " 'https://www.sreality.cz/hledani/pronajem/byty/praha?strana=184',\n",
       " 'https://www.sreality.cz/hledani/pronajem/byty/praha?strana=185',\n",
       " 'https://www.sreality.cz/hledani/pronajem/byty/praha?strana=186',\n",
       " 'https://www.sreality.cz/hledani/pronajem/byty/praha?strana=187',\n",
       " 'https://www.sreality.cz/hledani/pronajem/byty/praha?strana=188',\n",
       " 'https://www.sreality.cz/hledani/pronajem/byty/praha?strana=189',\n",
       " 'https://www.sreality.cz/hledani/pronajem/byty/praha?strana=190',\n",
       " 'https://www.sreality.cz/hledani/pronajem/byty/praha?strana=191',\n",
       " 'https://www.sreality.cz/hledani/pronajem/byty/praha?strana=192',\n",
       " 'https://www.sreality.cz/hledani/pronajem/byty/praha?strana=193',\n",
       " 'https://www.sreality.cz/hledani/pronajem/byty/praha?strana=194',\n",
       " 'https://www.sreality.cz/hledani/pronajem/byty/praha?strana=195',\n",
       " 'https://www.sreality.cz/hledani/pronajem/byty/praha?strana=196',\n",
       " 'https://www.sreality.cz/hledani/pronajem/byty/praha?strana=197',\n",
       " 'https://www.sreality.cz/hledani/pronajem/byty/praha?strana=198',\n",
       " 'https://www.sreality.cz/hledani/pronajem/byty/praha?strana=199',\n",
       " 'https://www.sreality.cz/hledani/pronajem/byty/praha?strana=200',\n",
       " 'https://www.sreality.cz/hledani/pronajem/byty/praha?strana=201',\n",
       " 'https://www.sreality.cz/hledani/pronajem/byty/praha?strana=202',\n",
       " 'https://www.sreality.cz/hledani/pronajem/byty/praha?strana=203',\n",
       " 'https://www.sreality.cz/hledani/pronajem/byty/praha?strana=204',\n",
       " 'https://www.sreality.cz/hledani/pronajem/byty/praha?strana=205',\n",
       " 'https://www.sreality.cz/hledani/pronajem/byty/praha?strana=206',\n",
       " 'https://www.sreality.cz/hledani/pronajem/byty/praha?strana=207',\n",
       " 'https://www.sreality.cz/hledani/pronajem/byty/praha?strana=208',\n",
       " 'https://www.sreality.cz/hledani/pronajem/byty/praha?strana=209',\n",
       " 'https://www.sreality.cz/hledani/pronajem/byty/praha?strana=210',\n",
       " 'https://www.sreality.cz/hledani/pronajem/byty/praha?strana=211',\n",
       " 'https://www.sreality.cz/hledani/pronajem/byty/praha?strana=212',\n",
       " 'https://www.sreality.cz/hledani/pronajem/byty/praha?strana=213',\n",
       " 'https://www.sreality.cz/hledani/pronajem/byty/praha?strana=214',\n",
       " 'https://www.sreality.cz/hledani/pronajem/byty/praha?strana=215',\n",
       " 'https://www.sreality.cz/hledani/pronajem/byty/praha?strana=216',\n",
       " 'https://www.sreality.cz/hledani/pronajem/byty/praha?strana=217',\n",
       " 'https://www.sreality.cz/hledani/pronajem/byty/praha?strana=218',\n",
       " 'https://www.sreality.cz/hledani/pronajem/byty/praha?strana=219',\n",
       " 'https://www.sreality.cz/hledani/pronajem/byty/praha?strana=220',\n",
       " 'https://www.sreality.cz/hledani/pronajem/byty/praha?strana=221',\n",
       " 'https://www.sreality.cz/hledani/pronajem/byty/praha?strana=222',\n",
       " 'https://www.sreality.cz/hledani/pronajem/byty/praha?strana=223',\n",
       " 'https://www.sreality.cz/hledani/pronajem/byty/praha?strana=224',\n",
       " 'https://www.sreality.cz/hledani/pronajem/byty/praha?strana=225',\n",
       " 'https://www.sreality.cz/hledani/pronajem/byty/praha?strana=226',\n",
       " 'https://www.sreality.cz/hledani/pronajem/byty/praha?strana=227',\n",
       " 'https://www.sreality.cz/hledani/pronajem/byty/praha?strana=228',\n",
       " 'https://www.sreality.cz/hledani/pronajem/byty/praha?strana=229',\n",
       " 'https://www.sreality.cz/hledani/pronajem/byty/praha?strana=230',\n",
       " 'https://www.sreality.cz/hledani/pronajem/byty/praha?strana=231',\n",
       " 'https://www.sreality.cz/hledani/pronajem/byty/praha?strana=232',\n",
       " 'https://www.sreality.cz/hledani/pronajem/byty/praha?strana=233',\n",
       " 'https://www.sreality.cz/hledani/pronajem/byty/praha?strana=234',\n",
       " 'https://www.sreality.cz/hledani/pronajem/byty/praha?strana=235',\n",
       " 'https://www.sreality.cz/hledani/pronajem/byty/praha?strana=236',\n",
       " 'https://www.sreality.cz/hledani/pronajem/byty/praha?strana=237',\n",
       " 'https://www.sreality.cz/hledani/pronajem/byty/praha?strana=238',\n",
       " 'https://www.sreality.cz/hledani/pronajem/byty/praha?strana=239',\n",
       " 'https://www.sreality.cz/hledani/pronajem/byty/praha?strana=240',\n",
       " 'https://www.sreality.cz/hledani/pronajem/byty/praha?strana=241',\n",
       " 'https://www.sreality.cz/hledani/pronajem/byty/praha?strana=242',\n",
       " 'https://www.sreality.cz/hledani/pronajem/byty/praha?strana=243',\n",
       " 'https://www.sreality.cz/hledani/pronajem/byty/praha?strana=244',\n",
       " 'https://www.sreality.cz/hledani/pronajem/byty/praha?strana=245',\n",
       " 'https://www.sreality.cz/hledani/pronajem/byty/praha?strana=246',\n",
       " 'https://www.sreality.cz/hledani/pronajem/byty/praha?strana=247',\n",
       " 'https://www.sreality.cz/hledani/pronajem/byty/praha?strana=248',\n",
       " 'https://www.sreality.cz/hledani/pronajem/byty/praha?strana=249',\n",
       " 'https://www.sreality.cz/hledani/pronajem/byty/praha?strana=250',\n",
       " 'https://www.sreality.cz/hledani/pronajem/byty/praha?strana=251',\n",
       " 'https://www.sreality.cz/hledani/pronajem/byty/praha?strana=252',\n",
       " 'https://www.sreality.cz/hledani/pronajem/byty/praha?strana=253',\n",
       " 'https://www.sreality.cz/hledani/pronajem/byty/praha?strana=254',\n",
       " 'https://www.sreality.cz/hledani/pronajem/byty/praha?strana=255',\n",
       " 'https://www.sreality.cz/hledani/pronajem/byty/praha?strana=256',\n",
       " 'https://www.sreality.cz/hledani/pronajem/byty/praha?strana=257',\n",
       " 'https://www.sreality.cz/hledani/pronajem/byty/praha?strana=258',\n",
       " 'https://www.sreality.cz/hledani/pronajem/byty/praha?strana=259',\n",
       " 'https://www.sreality.cz/hledani/pronajem/byty/praha?strana=260',\n",
       " 'https://www.sreality.cz/hledani/pronajem/byty/praha?strana=261',\n",
       " 'https://www.sreality.cz/hledani/pronajem/byty/praha?strana=262',\n",
       " 'https://www.sreality.cz/hledani/pronajem/byty/praha?strana=263',\n",
       " 'https://www.sreality.cz/hledani/pronajem/byty/praha?strana=264',\n",
       " 'https://www.sreality.cz/hledani/pronajem/byty/praha?strana=265',\n",
       " 'https://www.sreality.cz/hledani/pronajem/byty/praha?strana=266',\n",
       " 'https://www.sreality.cz/hledani/pronajem/byty/praha?strana=267',\n",
       " 'https://www.sreality.cz/hledani/pronajem/byty/praha?strana=268',\n",
       " 'https://www.sreality.cz/hledani/pronajem/byty/praha?strana=269',\n",
       " 'https://www.sreality.cz/hledani/pronajem/byty/praha?strana=270',\n",
       " 'https://www.sreality.cz/hledani/pronajem/byty/praha?strana=271',\n",
       " 'https://www.sreality.cz/hledani/pronajem/byty/praha?strana=272',\n",
       " 'https://www.sreality.cz/hledani/pronajem/byty/praha?strana=273',\n",
       " 'https://www.sreality.cz/hledani/pronajem/byty/praha?strana=274',\n",
       " 'https://www.sreality.cz/hledani/pronajem/byty/praha?strana=275',\n",
       " 'https://www.sreality.cz/hledani/pronajem/byty/praha?strana=276',\n",
       " 'https://www.sreality.cz/hledani/pronajem/byty/praha?strana=277',\n",
       " 'https://www.sreality.cz/hledani/pronajem/byty/praha?strana=278',\n",
       " 'https://www.sreality.cz/hledani/pronajem/byty/praha?strana=279',\n",
       " 'https://www.sreality.cz/hledani/pronajem/byty/praha?strana=280',\n",
       " 'https://www.sreality.cz/hledani/pronajem/byty/praha?strana=281',\n",
       " 'https://www.sreality.cz/hledani/pronajem/byty/praha?strana=282',\n",
       " 'https://www.sreality.cz/hledani/pronajem/byty/praha?strana=283',\n",
       " 'https://www.sreality.cz/hledani/pronajem/byty/praha?strana=284',\n",
       " 'https://www.sreality.cz/hledani/pronajem/byty/praha?strana=285',\n",
       " 'https://www.sreality.cz/hledani/pronajem/byty/praha?strana=286',\n",
       " 'https://www.sreality.cz/hledani/pronajem/byty/praha?strana=287',\n",
       " 'https://www.sreality.cz/hledani/pronajem/byty/praha?strana=288',\n",
       " 'https://www.sreality.cz/hledani/pronajem/byty/praha?strana=289',\n",
       " 'https://www.sreality.cz/hledani/pronajem/byty/praha?strana=290',\n",
       " 'https://www.sreality.cz/hledani/pronajem/byty/praha?strana=291',\n",
       " 'https://www.sreality.cz/hledani/pronajem/byty/praha?strana=292',\n",
       " 'https://www.sreality.cz/hledani/pronajem/byty/praha?strana=293',\n",
       " 'https://www.sreality.cz/hledani/pronajem/byty/praha?strana=294',\n",
       " 'https://www.sreality.cz/hledani/pronajem/byty/praha?strana=295',\n",
       " 'https://www.sreality.cz/hledani/pronajem/byty/praha?strana=296',\n",
       " 'https://www.sreality.cz/hledani/pronajem/byty/praha?strana=297',\n",
       " 'https://www.sreality.cz/hledani/pronajem/byty/praha?strana=298',\n",
       " 'https://www.sreality.cz/hledani/pronajem/byty/praha?strana=299',\n",
       " 'https://www.sreality.cz/hledani/pronajem/byty/praha?strana=300',\n",
       " 'https://www.sreality.cz/hledani/pronajem/byty/praha?strana=301',\n",
       " 'https://www.sreality.cz/hledani/pronajem/byty/praha?strana=302',\n",
       " 'https://www.sreality.cz/hledani/pronajem/byty/praha?strana=303',\n",
       " 'https://www.sreality.cz/hledani/pronajem/byty/praha?strana=304',\n",
       " 'https://www.sreality.cz/hledani/pronajem/byty/praha?strana=305',\n",
       " 'https://www.sreality.cz/hledani/pronajem/byty/praha?strana=306',\n",
       " 'https://www.sreality.cz/hledani/pronajem/byty/praha?strana=307',\n",
       " 'https://www.sreality.cz/hledani/pronajem/byty/praha?strana=308',\n",
       " 'https://www.sreality.cz/hledani/pronajem/byty/praha?strana=309',\n",
       " 'https://www.sreality.cz/hledani/pronajem/byty/praha?strana=310',\n",
       " 'https://www.sreality.cz/hledani/pronajem/byty/praha?strana=311',\n",
       " 'https://www.sreality.cz/hledani/pronajem/byty/praha?strana=312',\n",
       " 'https://www.sreality.cz/hledani/pronajem/byty/praha?strana=313',\n",
       " 'https://www.sreality.cz/hledani/pronajem/byty/praha?strana=314',\n",
       " 'https://www.sreality.cz/hledani/pronajem/byty/praha?strana=315',\n",
       " 'https://www.sreality.cz/hledani/pronajem/byty/praha?strana=316',\n",
       " 'https://www.sreality.cz/hledani/pronajem/byty/praha?strana=317',\n",
       " 'https://www.sreality.cz/hledani/pronajem/byty/praha?strana=318',\n",
       " 'https://www.sreality.cz/hledani/pronajem/byty/praha?strana=319',\n",
       " 'https://www.sreality.cz/hledani/pronajem/byty/praha?strana=320',\n",
       " 'https://www.sreality.cz/hledani/pronajem/byty/praha?strana=321',\n",
       " 'https://www.sreality.cz/hledani/pronajem/byty/praha?strana=322',\n",
       " 'https://www.sreality.cz/hledani/pronajem/byty/praha?strana=323',\n",
       " 'https://www.sreality.cz/hledani/pronajem/byty/praha?strana=324',\n",
       " 'https://www.sreality.cz/hledani/pronajem/byty/praha?strana=325',\n",
       " 'https://www.sreality.cz/hledani/pronajem/byty/praha?strana=326',\n",
       " 'https://www.sreality.cz/hledani/pronajem/byty/praha?strana=327',\n",
       " 'https://www.sreality.cz/hledani/pronajem/byty/praha?strana=328',\n",
       " 'https://www.sreality.cz/hledani/pronajem/byty/praha?strana=329',\n",
       " 'https://www.sreality.cz/hledani/pronajem/byty/praha?strana=330',\n",
       " 'https://www.sreality.cz/hledani/pronajem/byty/praha?strana=331',\n",
       " 'https://www.sreality.cz/hledani/pronajem/byty/praha?strana=332',\n",
       " 'https://www.sreality.cz/hledani/pronajem/byty/praha?strana=333',\n",
       " 'https://www.sreality.cz/hledani/pronajem/byty/praha?strana=334',\n",
       " 'https://www.sreality.cz/hledani/pronajem/byty/praha?strana=335',\n",
       " 'https://www.sreality.cz/hledani/pronajem/byty/praha?strana=336',\n",
       " 'https://www.sreality.cz/hledani/pronajem/byty/praha?strana=337',\n",
       " 'https://www.sreality.cz/hledani/pronajem/byty/praha?strana=338',\n",
       " 'https://www.sreality.cz/hledani/pronajem/byty/praha?strana=339',\n",
       " 'https://www.sreality.cz/hledani/pronajem/byty/praha?strana=340',\n",
       " 'https://www.sreality.cz/hledani/pronajem/byty/praha?strana=341',\n",
       " 'https://www.sreality.cz/hledani/pronajem/byty/praha?strana=342',\n",
       " 'https://www.sreality.cz/hledani/pronajem/byty/praha?strana=343',\n",
       " 'https://www.sreality.cz/hledani/pronajem/byty/praha?strana=344',\n",
       " 'https://www.sreality.cz/hledani/pronajem/byty/praha?strana=345',\n",
       " 'https://www.sreality.cz/hledani/pronajem/byty/praha?strana=346',\n",
       " 'https://www.sreality.cz/hledani/pronajem/byty/praha?strana=347',\n",
       " 'https://www.sreality.cz/hledani/pronajem/byty/praha?strana=348',\n",
       " 'https://www.sreality.cz/hledani/pronajem/byty/praha?strana=349',\n",
       " 'https://www.sreality.cz/hledani/pronajem/byty/praha?strana=350',\n",
       " 'https://www.sreality.cz/hledani/pronajem/byty/praha?strana=351',\n",
       " 'https://www.sreality.cz/hledani/pronajem/byty/praha?strana=352',\n",
       " 'https://www.sreality.cz/hledani/pronajem/byty/praha?strana=353',\n",
       " 'https://www.sreality.cz/hledani/pronajem/byty/praha?strana=354',\n",
       " 'https://www.sreality.cz/hledani/pronajem/byty/praha?strana=355',\n",
       " 'https://www.sreality.cz/hledani/pronajem/byty/praha?strana=356',\n",
       " 'https://www.sreality.cz/hledani/pronajem/byty/praha?strana=357',\n",
       " 'https://www.sreality.cz/hledani/pronajem/byty/praha?strana=358',\n",
       " 'https://www.sreality.cz/hledani/pronajem/byty/praha?strana=359',\n",
       " 'https://www.sreality.cz/hledani/pronajem/byty/praha?strana=360',\n",
       " 'https://www.sreality.cz/hledani/pronajem/byty/praha?strana=361',\n",
       " 'https://www.sreality.cz/hledani/pronajem/byty/praha?strana=362',\n",
       " 'https://www.sreality.cz/hledani/pronajem/byty/praha?strana=363',\n",
       " 'https://www.sreality.cz/hledani/pronajem/byty/praha?strana=364',\n",
       " 'https://www.sreality.cz/hledani/pronajem/byty/praha?strana=365',\n",
       " 'https://www.sreality.cz/hledani/pronajem/byty/praha?strana=366',\n",
       " 'https://www.sreality.cz/hledani/pronajem/byty/praha?strana=367',\n",
       " 'https://www.sreality.cz/hledani/pronajem/byty/praha?strana=368',\n",
       " 'https://www.sreality.cz/hledani/pronajem/byty/praha?strana=369',\n",
       " 'https://www.sreality.cz/hledani/pronajem/byty/praha?strana=370',\n",
       " 'https://www.sreality.cz/hledani/pronajem/byty/praha?strana=371',\n",
       " 'https://www.sreality.cz/hledani/pronajem/byty/praha?strana=372',\n",
       " 'https://www.sreality.cz/hledani/pronajem/byty/praha?strana=373',\n",
       " 'https://www.sreality.cz/hledani/pronajem/byty/praha?strana=374',\n",
       " 'https://www.sreality.cz/hledani/pronajem/byty/praha?strana=375',\n",
       " 'https://www.sreality.cz/hledani/pronajem/byty/praha?strana=376',\n",
       " 'https://www.sreality.cz/hledani/pronajem/byty/praha?strana=377']"
      ]
     },
     "execution_count": 23,
     "metadata": {},
     "output_type": "execute_result"
    }
   ],
   "source": [
    "all_pages"
   ]
  },
  {
   "cell_type": "markdown",
   "metadata": {},
   "source": [
    "Now we gathered all the links to give us the link that we will later scrape.\n",
    "Sreality is a dynamic page so we will use selenium <3"
   ]
  },
  {
   "cell_type": "markdown",
   "metadata": {},
   "source": [
    "### Selenium"
   ]
  },
  {
   "cell_type": "markdown",
   "metadata": {},
   "source": [
    "#### code for one page"
   ]
  },
  {
   "cell_type": "markdown",
   "metadata": {},
   "source": [
    "We visit the webpage with selenium get the html code and find all the links that lead to our desired destination."
   ]
  },
  {
   "cell_type": "code",
   "execution_count": 25,
   "metadata": {},
   "outputs": [],
   "source": [
    "driver = webdriver.Chrome(\"C:\\\\chromedriver\\\\chromedriver.exe\")\n",
    "driver.get(\"https://www.sreality.cz/hledani/pronajem/byty/praha\")\n",
    "time.sleep(2)\n",
    "res1 = driver.execute_script(\"return document.documentElement.outerHTML\")\n",
    "driver.quit()"
   ]
  },
  {
   "cell_type": "code",
   "execution_count": 26,
   "metadata": {},
   "outputs": [],
   "source": [
    "soup = BeautifulSoup(res1, \"lxml\")"
   ]
  },
  {
   "cell_type": "code",
   "execution_count": 27,
   "metadata": {},
   "outputs": [],
   "source": [
    "links = soup.find_all(\"a\", {\"class\":\"title\"})"
   ]
  },
  {
   "cell_type": "markdown",
   "metadata": {},
   "source": [
    "We check that we collected 21 links because there is one sponsored link per page.\n",
    "Then we print the first link that is not sponsored"
   ]
  },
  {
   "cell_type": "code",
   "execution_count": 28,
   "metadata": {},
   "outputs": [
    {
     "data": {
      "text/plain": [
       "21"
      ]
     },
     "execution_count": 28,
     "metadata": {},
     "output_type": "execute_result"
    }
   ],
   "source": [
    "len(links)"
   ]
  },
  {
   "cell_type": "code",
   "execution_count": 30,
   "metadata": {},
   "outputs": [
    {
     "data": {
      "text/plain": [
       "'/detail/pronajem/byt/1+1/praha-haje-brechtova/3401264732'"
      ]
     },
     "execution_count": 30,
     "metadata": {},
     "output_type": "execute_result"
    }
   ],
   "source": [
    "links[1]['href']"
   ]
  },
  {
   "cell_type": "markdown",
   "metadata": {},
   "source": [
    "### for many pages"
   ]
  },
  {
   "cell_type": "markdown",
   "metadata": {},
   "source": [
    "Now this code is generalized for visiting all the pages that we previously set out to get links from"
   ]
  },
  {
   "cell_type": "code",
   "execution_count": 34,
   "metadata": {},
   "outputs": [],
   "source": [
    "driver = webdriver.Chrome(\"C:\\\\chromedriver\\\\chromedriver.exe\")\n",
    "all_links = []\n",
    "for k in range(2): # when ready replace 2 with variable \"pages\"\n",
    "    driver.get(all_pages[k])\n",
    "    time.sleep(1)\n",
    "    res = driver.execute_script(\"return document.documentElement.outerHTML\")\n",
    "    soup = BeautifulSoup(res, \"lxml\")\n",
    "    links = soup.find_all(\"a\", {\"class\":\"title\"})\n",
    "    for j in links[1:]:\n",
    "        all_links.append(j['href'])\n",
    "driver.quit()"
   ]
  },
  {
   "cell_type": "code",
   "execution_count": 35,
   "metadata": {
    "scrolled": true
   },
   "outputs": [
    {
     "data": {
      "text/plain": [
       "60"
      ]
     },
     "execution_count": 35,
     "metadata": {},
     "output_type": "execute_result"
    }
   ],
   "source": [
    "len(all_links)"
   ]
  },
  {
   "cell_type": "code",
   "execution_count": 36,
   "metadata": {
    "scrolled": true
   },
   "outputs": [
    {
     "data": {
      "text/plain": [
       "['/detail/pronajem/byt/1+1/praha-strasnice-starostrasnicka/2781822556',\n",
       " '/detail/pronajem/byt/1+1/praha-haje-brechtova/3401264732',\n",
       " '/detail/pronajem/byt/2+kk/praha-vrsovice-mexicka/2075864668',\n",
       " '/detail/pronajem/byt/1+kk/praha-bubenec-u-akademie/820854364',\n",
       " '/detail/pronajem/byt/1+kk/praha-reporyje-k-trebonicum/1313029724']"
      ]
     },
     "execution_count": 36,
     "metadata": {},
     "output_type": "execute_result"
    }
   ],
   "source": [
    "all_links[:5]"
   ]
  },
  {
   "cell_type": "markdown",
   "metadata": {},
   "source": [
    "This is just a begining of all the links we can get :D"
   ]
  },
  {
   "cell_type": "markdown",
   "metadata": {},
   "source": [
    "## Now we need to decide what we want from individual sites."
   ]
  },
  {
   "cell_type": "code",
   "execution_count": 39,
   "metadata": {},
   "outputs": [],
   "source": [
    "link_explore = link_base + all_links[0]\n",
    "driver = webdriver.Chrome(\"C:\\\\chromedriver\\\\chromedriver.exe\")\n",
    "driver.get(link_explore)\n",
    "time.sleep(1)\n",
    "gist = driver.execute_script(\"return document.documentElement.outerHTML\")"
   ]
  },
  {
   "cell_type": "code",
   "execution_count": 38,
   "metadata": {},
   "outputs": [],
   "source": [
    "info = BeautifulSoup(gist, \"lxml\")"
   ]
  },
  {
   "cell_type": "markdown",
   "metadata": {},
   "source": [
    "### magic from now on "
   ]
  },
  {
   "cell_type": "code",
   "execution_count": 41,
   "metadata": {
    "scrolled": true
   },
   "outputs": [
    {
     "name": "stdout",
     "output_type": "stream",
     "text": [
      "{'title': ['Pronájem bytu 1+1 43 m²'], 'adresa': ['Starostrašnická, Praha 10 - Strašnice Panorama'], 'Celková cena:': ['12 000 Kč za měsíc'], 'Poznámka k ceně:': ['+ 1500,- služby včetně el. a plynu'], 'ID zakázky:': ['273-N00709'], 'Aktualizace:': ['Dnes'], 'Stavba:': ['Cihlová'], 'Stav objektu:': ['Velmi dobrý'], 'Vlastnictví:': ['Osobní'], 'Podlaží:': ['3. podlaží z celkem 6'], 'Užitná plocha:': ['43m2'], 'Plocha podlahová:': ['43m2'], 'Voda:': ['Místní zdroj'], 'Topení:': ['Ústřední dálkové'], 'Plyn:': ['Plynovod'], 'Odpad:': ['Veřejná kanalizace'], 'Telekomunikace:': ['Telefon, Internet, Kabelová televize'], 'Elektřina:': ['400V'], 'Doprava:': ['MHD'], 'Energetická náročnost budovy:': ['Třída G - Mimořádně nehospodárná'], 'Cukrárna:': ['OVOCNÝ SVĚTOZOR', ' (569 m)'], 'Kino:': ['Cinema City Flora', ' (2219 m)'], 'Přírodní zajímavost:': ['Mokřad Triangl', ' (2384 m)'], 'Hřiště:': ['Dětské hřiště Nad Primaskou', ' (174 m)'], 'Večerka:': ['BILLA', ' (421 m)'], 'Hospoda:': ['Hospůdka U Kladiva', ' (849 m)'], 'Divadlo:': ['Strašnické divadlo', ' (605 m)'], 'Veterinář:': ['PET-MEDIC', ' (260 m)'], 'Škola:': ['ŽS speciální Praha, Starostrašnická', ' (129 m)'], 'Obchod:': ['Tesco Extra Skalka', ' (1419 m)'], 'Tram:': ['Strašnická', ' (57 m)'], 'Školka:': ['Barevná školička', ' (404 m)'], 'Lékař:': ['MUDr. Hana Březinová', ' (440 m)'], 'Restaurace:': ['Restaurace Sabroso', ' (151 m)'], 'Metro:': ['Strašnická', ' (82 m)'], 'Sportoviště:': ['Lanové centrum Gutovka', ' (281 m)'], 'Pošta:': ['Pošta Praha 10 - Česká pošta, s.p.', ' (343 m)'], 'Lékárna:': ['Lékárna U Metra Strašnická', ' (72 m)'], 'Bus MHD:': ['Strašnická', ' (118 m)'], 'Bankomat:': ['Bankomat Komerční banky', ' (30 m)'], 'Vlak:': ['Praha-Strašnice zastávka', ' (672 m)']}\n"
     ]
    }
   ],
   "source": [
    "lists = info.find_all(\"li\")\n",
    "dict = {}\n",
    "\n",
    "dict[\"title\"] = [info.find(\"span\",{\"itemprop\":\"name\"}).findChild().get_text().replace(\"\\n\",\"\").replace(\"\\xa0\",\" \") ]\n",
    "dict[\"adresa\"] = [info.find(\"span\",{\"class\": \"location\"}).get_text().replace(\"\\n\",\"\").replace(\"\\xa0\",\" \")]\n",
    "for k in lists:\n",
    "    try:\n",
    "        column = k.find(\"label\").get_text()\n",
    "    except:\n",
    "        break\n",
    "    try:\n",
    "        value = [k.find(\"strong\").get_text()]\n",
    "    except:\n",
    "        try:\n",
    "            value = [k.find(\"a\").get_text(), k.find(\"span\", {\"class\":\"c-pois__distance ng-binding\"}).get_text()]\n",
    "        except:\n",
    "            value = [k.find(\"span\",{\"class\":\"c-pois__poi-text ng-binding ng-scope\"}).get_text(),k.find(\"span\", {\"class\":\"c-pois__distance ng-binding\"}).get_text()]\n",
    "    \n",
    "    if value[0] == \"\\n\\n\\n\\n\\n\\n\\n\":\n",
    "        value[0] = k.find(\"strong\").findChild(\"span\",{\"class\": \"icof icon-ok ng-scope\"})[\"ng-if\"].split(\" \")[-1]\n",
    "    \n",
    "    #we clean the values a little bit\n",
    "    keys = [val.replace(\"\\n\",\"\") for val in value]\n",
    "    keys_a = [ki.replace(\"\\xa0\",\" \") for ki in keys]    \n",
    "\n",
    "    #add it to the dictionary\n",
    "    dict[column] = keys_a\n",
    "\n",
    "print(dict)  "
   ]
  },
  {
   "cell_type": "code",
   "execution_count": 42,
   "metadata": {
    "scrolled": false
   },
   "outputs": [
    {
     "data": {
      "text/plain": [
       "{'title': ['Pronájem bytu 1+1 43 m²'],\n",
       " 'adresa': ['Starostrašnická, Praha 10 - Strašnice Panorama'],\n",
       " 'Celková cena:': ['12 000 Kč za měsíc'],\n",
       " 'Poznámka k ceně:': ['+ 1500,- služby včetně el. a plynu'],\n",
       " 'ID zakázky:': ['273-N00709'],\n",
       " 'Aktualizace:': ['Dnes'],\n",
       " 'Stavba:': ['Cihlová'],\n",
       " 'Stav objektu:': ['Velmi dobrý'],\n",
       " 'Vlastnictví:': ['Osobní'],\n",
       " 'Podlaží:': ['3. podlaží z celkem 6'],\n",
       " 'Užitná plocha:': ['43m2'],\n",
       " 'Plocha podlahová:': ['43m2'],\n",
       " 'Voda:': ['Místní zdroj'],\n",
       " 'Topení:': ['Ústřední dálkové'],\n",
       " 'Plyn:': ['Plynovod'],\n",
       " 'Odpad:': ['Veřejná kanalizace'],\n",
       " 'Telekomunikace:': ['Telefon, Internet, Kabelová televize'],\n",
       " 'Elektřina:': ['400V'],\n",
       " 'Doprava:': ['MHD'],\n",
       " 'Energetická náročnost budovy:': ['Třída G - Mimořádně nehospodárná'],\n",
       " 'Cukrárna:': ['OVOCNÝ SVĚTOZOR', ' (569 m)'],\n",
       " 'Kino:': ['Cinema City Flora', ' (2219 m)'],\n",
       " 'Přírodní zajímavost:': ['Mokřad Triangl', ' (2384 m)'],\n",
       " 'Hřiště:': ['Dětské hřiště Nad Primaskou', ' (174 m)'],\n",
       " 'Večerka:': ['BILLA', ' (421 m)'],\n",
       " 'Hospoda:': ['Hospůdka U Kladiva', ' (849 m)'],\n",
       " 'Divadlo:': ['Strašnické divadlo', ' (605 m)'],\n",
       " 'Veterinář:': ['PET-MEDIC', ' (260 m)'],\n",
       " 'Škola:': ['ŽS speciální Praha, Starostrašnická', ' (129 m)'],\n",
       " 'Obchod:': ['Tesco Extra Skalka', ' (1419 m)'],\n",
       " 'Tram:': ['Strašnická', ' (57 m)'],\n",
       " 'Školka:': ['Barevná školička', ' (404 m)'],\n",
       " 'Lékař:': ['MUDr. Hana Březinová', ' (440 m)'],\n",
       " 'Restaurace:': ['Restaurace Sabroso', ' (151 m)'],\n",
       " 'Metro:': ['Strašnická', ' (82 m)'],\n",
       " 'Sportoviště:': ['Lanové centrum Gutovka', ' (281 m)'],\n",
       " 'Pošta:': ['Pošta Praha 10 - Česká pošta, s.p.', ' (343 m)'],\n",
       " 'Lékárna:': ['Lékárna U Metra Strašnická', ' (72 m)'],\n",
       " 'Bus MHD:': ['Strašnická', ' (118 m)'],\n",
       " 'Bankomat:': ['Bankomat Komerční banky', ' (30 m)'],\n",
       " 'Vlak:': ['Praha-Strašnice zastávka', ' (672 m)']}"
      ]
     },
     "execution_count": 42,
     "metadata": {},
     "output_type": "execute_result"
    }
   ],
   "source": [
    "dict"
   ]
  },
  {
   "cell_type": "markdown",
   "metadata": {},
   "source": [
    "Although, it should be rewriten as at least functions maybe OOP"
   ]
  },
  {
   "cell_type": "markdown",
   "metadata": {},
   "source": [
    "## Now we can collect data \n",
    "### is it going to be a dictionary of dictionaries? or json?"
   ]
  },
  {
   "cell_type": "code",
   "execution_count": 45,
   "metadata": {},
   "outputs": [
    {
     "data": {
      "text/plain": [
       "'Strašnická'"
      ]
     },
     "execution_count": 45,
     "metadata": {},
     "output_type": "execute_result"
    }
   ],
   "source": [
    "dict['Tram:'][0]"
   ]
  },
  {
   "cell_type": "code",
   "execution_count": null,
   "metadata": {},
   "outputs": [],
   "source": [
    "Scrape(2)"
   ]
  }
 ],
 "metadata": {
  "kernelspec": {
   "display_name": "Python 3",
   "language": "python",
   "name": "python3"
  },
  "language_info": {
   "codemirror_mode": {
    "name": "ipython",
    "version": 3
   },
   "file_extension": ".py",
   "mimetype": "text/x-python",
   "name": "python",
   "nbconvert_exporter": "python",
   "pygments_lexer": "ipython3",
   "version": "3.7.4"
  }
 },
 "nbformat": 4,
 "nbformat_minor": 2
}
