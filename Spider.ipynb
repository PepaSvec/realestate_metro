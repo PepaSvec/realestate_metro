{
 "cells": [
  {
   "cell_type": "markdown",
   "metadata": {},
   "source": [
    "### Some OOP for practice (will be deleted)"
   ]
  },
  {
   "cell_type": "code",
   "execution_count": 57,
   "metadata": {},
   "outputs": [],
   "source": [
    "class Downloader():\n",
    "    def __init__(self):\n",
    "        self.name = \"Pepa\"\n",
    "          "
   ]
  },
  {
   "cell_type": "code",
   "execution_count": 58,
   "metadata": {},
   "outputs": [],
   "source": [
    "A_person = Downloader()"
   ]
  },
  {
   "cell_type": "code",
   "execution_count": 59,
   "metadata": {
    "scrolled": true
   },
   "outputs": [
    {
     "data": {
      "text/plain": [
       "'Pepa'"
      ]
     },
     "execution_count": 59,
     "metadata": {},
     "output_type": "execute_result"
    }
   ],
   "source": [
    "A_person.name "
   ]
  },
  {
   "cell_type": "markdown",
   "metadata": {},
   "source": [
    "# Start of a nice jupyter"
   ]
  },
  {
   "cell_type": "code",
   "execution_count": 60,
   "metadata": {},
   "outputs": [],
   "source": [
    "from selenium import webdriver"
   ]
  },
  {
   "cell_type": "code",
   "execution_count": 61,
   "metadata": {},
   "outputs": [],
   "source": [
    "import time"
   ]
  },
  {
   "cell_type": "code",
   "execution_count": 62,
   "metadata": {},
   "outputs": [],
   "source": [
    "from math import ceil"
   ]
  },
  {
   "cell_type": "code",
   "execution_count": 63,
   "metadata": {},
   "outputs": [],
   "source": [
    "from bs4 import BeautifulSoup"
   ]
  },
  {
   "cell_type": "markdown",
   "metadata": {},
   "source": [
    "# How is the link structured"
   ]
  },
  {
   "cell_type": "markdown",
   "metadata": {},
   "source": [
    "The website is located under domain name www.sreality.cz\n",
    "\n",
    "Then it allows a client to search real estate under specified parameters. \n",
    "\n",
    "We specify: renting\n",
    "\n",
    "type: flats\n",
    "\n",
    "location: Prague\n",
    "\n",
    "Then it displays 20 adverts per page"
   ]
  },
  {
   "cell_type": "markdown",
   "metadata": {},
   "source": [
    "Here we break down how the link is structured"
   ]
  },
  {
   "cell_type": "code",
   "execution_count": 64,
   "metadata": {},
   "outputs": [],
   "source": [
    "link_base = \"https://www.sreality.cz\""
   ]
  },
  {
   "cell_type": "code",
   "execution_count": 65,
   "metadata": {},
   "outputs": [],
   "source": [
    "search = \"/hledani/pronajem/byty/praha\""
   ]
  },
  {
   "cell_type": "code",
   "execution_count": 66,
   "metadata": {},
   "outputs": [],
   "source": [
    "pg = \"?strana=\""
   ]
  },
  {
   "cell_type": "markdown",
   "metadata": {},
   "source": [
    "According to number of matches we can calculate the number of pages from which we have to get the links"
   ]
  },
  {
   "cell_type": "code",
   "execution_count": 67,
   "metadata": {},
   "outputs": [],
   "source": [
    "matches = 7448"
   ]
  },
  {
   "cell_type": "code",
   "execution_count": 68,
   "metadata": {},
   "outputs": [],
   "source": [
    "pages = ceil(matches/20)"
   ]
  },
  {
   "cell_type": "code",
   "execution_count": 69,
   "metadata": {},
   "outputs": [
    {
     "data": {
      "text/plain": [
       "373"
      ]
     },
     "execution_count": 69,
     "metadata": {},
     "output_type": "execute_result"
    }
   ],
   "source": [
    "pages"
   ]
  },
  {
   "cell_type": "markdown",
   "metadata": {},
   "source": [
    "Because we understand the structure of the link we can create a list of all list that we want to visit"
   ]
  },
  {
   "cell_type": "code",
   "execution_count": 70,
   "metadata": {},
   "outputs": [],
   "source": [
    "all_pages = [link_base+search+pg+str(k+1) for k in range(0, pages)]"
   ]
  },
  {
   "cell_type": "code",
   "execution_count": 71,
   "metadata": {
    "scrolled": false
   },
   "outputs": [
    {
     "data": {
      "text/plain": [
       "['https://www.sreality.cz/hledani/pronajem/byty/praha?strana=1',\n",
       " 'https://www.sreality.cz/hledani/pronajem/byty/praha?strana=373']"
      ]
     },
     "execution_count": 71,
     "metadata": {},
     "output_type": "execute_result"
    }
   ],
   "source": [
    "all_pages[::372]"
   ]
  },
  {
   "cell_type": "markdown",
   "metadata": {},
   "source": [
    "Now we gathered all the links to give us the link that we will later scrape.\n",
    "Sreality is a dynamic page so we will use selenium <3"
   ]
  },
  {
   "cell_type": "markdown",
   "metadata": {},
   "source": [
    "## Selenium"
   ]
  },
  {
   "cell_type": "markdown",
   "metadata": {},
   "source": [
    "### code for one page"
   ]
  },
  {
   "cell_type": "markdown",
   "metadata": {},
   "source": [
    "We visit the webpage with selenium get the html code and find all the links that lead to our desired destination."
   ]
  },
  {
   "cell_type": "code",
   "execution_count": 72,
   "metadata": {},
   "outputs": [],
   "source": [
    "driver = webdriver.Chrome(\"C:\\\\chromedriver\\\\chromedriver.exe\")\n",
    "driver.get(\"https://www.sreality.cz/hledani/pronajem/byty/praha\")\n",
    "time.sleep(2)\n",
    "res1 = driver.execute_script(\"return document.documentElement.outerHTML\")\n",
    "driver.quit()"
   ]
  },
  {
   "cell_type": "code",
   "execution_count": 73,
   "metadata": {},
   "outputs": [],
   "source": [
    "soup = BeautifulSoup(res1, \"lxml\")"
   ]
  },
  {
   "cell_type": "code",
   "execution_count": 74,
   "metadata": {},
   "outputs": [],
   "source": [
    "links = soup.find_all(\"a\", {\"class\":\"title\"})"
   ]
  },
  {
   "cell_type": "markdown",
   "metadata": {},
   "source": [
    "We check that we collected 21 links because there is one sponsored link per page.\n",
    "Then we print the first link that is not sponsored"
   ]
  },
  {
   "cell_type": "code",
   "execution_count": 75,
   "metadata": {},
   "outputs": [
    {
     "data": {
      "text/plain": [
       "21"
      ]
     },
     "execution_count": 75,
     "metadata": {},
     "output_type": "execute_result"
    }
   ],
   "source": [
    "len(links)"
   ]
  },
  {
   "cell_type": "code",
   "execution_count": 78,
   "metadata": {},
   "outputs": [
    {
     "data": {
      "text/plain": [
       "'/detail/pronajem/byt/2+kk/praha-zizkov-blahnikova/181878364'"
      ]
     },
     "execution_count": 78,
     "metadata": {},
     "output_type": "execute_result"
    }
   ],
   "source": [
    "links[1]['href']"
   ]
  },
  {
   "cell_type": "markdown",
   "metadata": {},
   "source": [
    "## for many pages"
   ]
  },
  {
   "cell_type": "markdown",
   "metadata": {},
   "source": [
    "Now this code is generalized for visiting all the pages that we previously set out to get links from"
   ]
  },
  {
   "cell_type": "code",
   "execution_count": 79,
   "metadata": {},
   "outputs": [],
   "source": [
    "driver = webdriver.Chrome(\"C:\\\\chromedriver\\\\chromedriver.exe\")\n",
    "all_links = []\n",
    "for k in range(2): # when ready replace 2 with variable \"pages\"\n",
    "    driver.get(all_pages[k])\n",
    "    time.sleep(1)\n",
    "    res = driver.execute_script(\"return document.documentElement.outerHTML\")\n",
    "    soup = BeautifulSoup(res, \"lxml\")\n",
    "    links = soup.find_all(\"a\", {\"class\":\"title\"})\n",
    "    for j in links[1:]:\n",
    "        all_links.append(j['href'])\n",
    "driver.quit()"
   ]
  },
  {
   "cell_type": "code",
   "execution_count": 80,
   "metadata": {},
   "outputs": [
    {
     "data": {
      "text/plain": [
       "40"
      ]
     },
     "execution_count": 80,
     "metadata": {},
     "output_type": "execute_result"
    }
   ],
   "source": [
    "len(all_links)"
   ]
  },
  {
   "cell_type": "code",
   "execution_count": 81,
   "metadata": {
    "scrolled": true
   },
   "outputs": [
    {
     "data": {
      "text/plain": [
       "['/detail/pronajem/byt/1+1/praha-smichov-plzenska/1797537372',\n",
       " '/detail/pronajem/byt/2+kk/praha-zizkov-blahnikova/181878364',\n",
       " '/detail/pronajem/byt/2+kk/praha-zizkov-blahnikova/3836165724',\n",
       " '/detail/pronajem/byt/3+kk/praha-zizkov-blahnikova/2225552988',\n",
       " '/detail/pronajem/byt/3+kk/praha-vinohrady-slavikova/614940252',\n",
       " '/detail/pronajem/byt/4+kk/praha-zizkov-cimburkova/2275884636',\n",
       " '/detail/pronajem/byt/4+1/praha-stare-mesto-karoliny-svetle/3687136860',\n",
       " '/detail/pronajem/byt/3+kk/praha-vinohrady-slavikova/4224007772',\n",
       " '/detail/pronajem/byt/3+kk/praha-hostivar-pod-stepem/1195589212',\n",
       " '/detail/pronajem/byt/3+kk/praha-hostivar-pod-stepem/2302885468',\n",
       " '/detail/pronajem/byt/3+kk/praha-nove-mesto-masarykovo-nabrezi/2820947548',\n",
       " '/detail/pronajem/byt/2+kk/praha-nusle-sdruzeni/4108926556',\n",
       " '/detail/pronajem/byt/1+kk/praha-vysocany-parikova/2032418396',\n",
       " '/detail/pronajem/byt/2+kk/praha-horni-mecholupy-modenska/2422685276',\n",
       " '/detail/pronajem/byt/1+kk/praha-horni-mecholupy-mantovska/2959556188',\n",
       " '/detail/pronajem/byt/3+kk/praha-smichov-u-divcich-hradu/3269410396',\n",
       " '/detail/pronajem/byt/2+1/praha-nusle-5--kvetna/3378855516',\n",
       " '/detail/pronajem/byt/2+kk/praha-zizkov-premyslovska/4195499612',\n",
       " '/detail/pronajem/byt/3+kk/praha-strasnice-revova/4179902044',\n",
       " '/detail/pronajem/byt/3+1/praha-nove-mesto-bolzanova/1590869596',\n",
       " '/detail/pronajem/byt/1+kk/praha-nove-mesto-bolzanova/1684799068',\n",
       " '/detail/pronajem/byt/3+kk/praha-nove-mesto-masarykovo-nabrezi/3553885788',\n",
       " '/detail/pronajem/byt/4+kk/praha-vinohrady-balbinova/1819410012',\n",
       " '/detail/pronajem/byt/1+kk/praha-smichov-v-lesicku/3772575324',\n",
       " '/detail/pronajem/byt/3+1/praha-smichov-dienzenhoferovy-sady/3721125468',\n",
       " '/detail/pronajem/byt/3+kk/praha-smichov-v-lesicku/1116589660',\n",
       " '/detail/pronajem/byt/3+kk/praha-vinohrady-balbinova/2009189980',\n",
       " '/detail/pronajem/byt/3+kk/praha-nove-mesto-bolzanova/2764164700',\n",
       " '/detail/pronajem/byt/2+kk/praha-vinohrady-balbinova/281136732',\n",
       " '/detail/pronajem/byt/2+kk/praha-nove-mesto-bolzanova/2898382428',\n",
       " '/detail/pronajem/byt/2+kk/praha-nove-mesto-bolzanova/2948714076',\n",
       " '/detail/pronajem/byt/3+1/praha-smichov-janackovo-nabrezi/1270365788',\n",
       " '/detail/pronajem/byt/5+kk/praha-jinonice-za-zameckem/3691789916',\n",
       " '/detail/pronajem/byt/3+kk/praha-vinohrady-korunni/3643031132',\n",
       " '/detail/pronajem/byt/2+1/praha-mala-strana-hellichova/3374595676',\n",
       " '/detail/pronajem/byt/2+1/praha-zizkov-na-balkane/1847869020',\n",
       " '/detail/pronajem/byt/2+kk/praha-zlicin-misovicka/2322808412',\n",
       " '/detail/pronajem/byt/3+kk/praha-michle-magistru/2537963100',\n",
       " '/detail/pronajem/byt/1+kk/praha-holesovice-poupetova/2921610844',\n",
       " '/detail/pronajem/byt/1+kk/praha-modrany-k-vystrkovu/2653175388']"
      ]
     },
     "execution_count": 81,
     "metadata": {},
     "output_type": "execute_result"
    }
   ],
   "source": [
    "all_links"
   ]
  },
  {
   "cell_type": "markdown",
   "metadata": {},
   "source": [
    "This is just a begining of all the links we can get :D"
   ]
  },
  {
   "cell_type": "markdown",
   "metadata": {},
   "source": [
    "# Now we need to decide what we want from individual sites."
   ]
  },
  {
   "cell_type": "code",
   "execution_count": 83,
   "metadata": {},
   "outputs": [],
   "source": [
    "link_explore = link_base + all_links[0]\n",
    "driver = webdriver.Chrome(\"C:\\\\chromedriver\\\\chromedriver.exe\")\n",
    "driver.get(link_explore)\n",
    "gist = driver.execute_script(\"return document.documentElement.outerHTML\")"
   ]
  },
  {
   "cell_type": "code",
   "execution_count": 84,
   "metadata": {},
   "outputs": [],
   "source": [
    "info = BeautifulSoup(gist, \"lxml\")"
   ]
  },
  {
   "cell_type": "markdown",
   "metadata": {},
   "source": [
    "## magic from now on "
   ]
  },
  {
   "cell_type": "code",
   "execution_count": 98,
   "metadata": {},
   "outputs": [
    {
     "data": {
      "text/plain": [
       "'Komunikace:'"
      ]
     },
     "execution_count": 98,
     "metadata": {},
     "output_type": "execute_result"
    }
   ],
   "source": [
    "info.find_all(\"li\")[13].find(\"label\").get_text()"
   ]
  },
  {
   "cell_type": "code",
   "execution_count": 94,
   "metadata": {},
   "outputs": [
    {
     "data": {
      "text/plain": [
       "'\\n\\nAsfaltová\\n\\n\\n\\n\\n'"
      ]
     },
     "execution_count": 94,
     "metadata": {},
     "output_type": "execute_result"
    }
   ],
   "source": [
    "info.find_all(\"li\")[13].find(\"strong\").get_text()"
   ]
  },
  {
   "cell_type": "code",
   "execution_count": 163,
   "metadata": {},
   "outputs": [
    {
     "name": "stdout",
     "output_type": "stream",
     "text": [
      "{'Celková cena:': '13 000 Kč za měsíc, + provize RK, bez poplatků, včetně právního servisu', 'Provize:': '13000,0 Kč', 'Poznámka k ceně:': 'Kauce 13000', 'Náklady na bydlení:': '2500 bez elektřiny ( v ceně internet )', 'ID zakázky:': '010720', 'Aktualizace:': 'Dnes', 'Stavba:': 'Cihlová', 'Stav objektu:': 'Po rekonstrukci', 'Vlastnictví:': 'Osobní', 'Podlaží:': '2. podlaží', 'Užitná plocha:': '45m2', 'Telekomunikace:': 'Telefon, Internet, Kabelová televize', 'Doprava:': 'Vlak, Silnice, MHD, Autobus', 'Komunikace:': 'Asfaltová', 'Vybavení:': \"'boolean-true'\"}\n"
     ]
    }
   ],
   "source": [
    "lists = info.find_all(\"li\")\n",
    "dict = {}\n",
    "\n",
    "for k in lists:\n",
    "    try:\n",
    "        column = k.find(\"label\").get_text()\n",
    "    except:\n",
    "        break\n",
    "    value = k.find(\"strong\").get_text()\n",
    "    if value == \"\\n\\n\\n\\n\\n\\n\\n\":\n",
    "        value = k.find(\"strong\").findChild(\"span\",{\"class\": \"icof icon-ok ng-scope\"})[\"ng-if\"].split(\" \")[-1]\n",
    "    keys = value.replace(\"\\n\",\"\")\n",
    "    keys_a = keys.replace(\"\\xa0\",\" \")\n",
    "    #add it to the dictionary\n",
    "    dict[column] = keys_a\n",
    "print(dict)   "
   ]
  },
  {
   "cell_type": "code",
   "execution_count": 164,
   "metadata": {
    "scrolled": true
   },
   "outputs": [
    {
     "data": {
      "text/plain": [
       "{'Celková cena:': '13 000 Kč za měsíc, + provize RK, bez poplatků, včetně právního servisu',\n",
       " 'Provize:': '13000,0 Kč',\n",
       " 'Poznámka k ceně:': 'Kauce 13000',\n",
       " 'Náklady na bydlení:': '2500 bez elektřiny ( v ceně internet )',\n",
       " 'ID zakázky:': '010720',\n",
       " 'Aktualizace:': 'Dnes',\n",
       " 'Stavba:': 'Cihlová',\n",
       " 'Stav objektu:': 'Po rekonstrukci',\n",
       " 'Vlastnictví:': 'Osobní',\n",
       " 'Podlaží:': '2. podlaží',\n",
       " 'Užitná plocha:': '45m2',\n",
       " 'Telekomunikace:': 'Telefon, Internet, Kabelová televize',\n",
       " 'Doprava:': 'Vlak, Silnice, MHD, Autobus',\n",
       " 'Komunikace:': 'Asfaltová',\n",
       " 'Vybavení:': \"'boolean-true'\"}"
      ]
     },
     "execution_count": 164,
     "metadata": {},
     "output_type": "execute_result"
    }
   ],
   "source": [
    "dict"
   ]
  },
  {
   "cell_type": "markdown",
   "metadata": {},
   "source": [
    "it is time to test it on multiple pages..."
   ]
  },
  {
   "cell_type": "markdown",
   "metadata": {},
   "source": [
    "Plus, it should be rewriten as at least functions maybe OOP"
   ]
  },
  {
   "cell_type": "code",
   "execution_count": null,
   "metadata": {},
   "outputs": [],
   "source": []
  }
 ],
 "metadata": {
  "kernelspec": {
   "display_name": "Python 3",
   "language": "python",
   "name": "python3"
  },
  "language_info": {
   "codemirror_mode": {
    "name": "ipython",
    "version": 3
   },
   "file_extension": ".py",
   "mimetype": "text/x-python",
   "name": "python",
   "nbconvert_exporter": "python",
   "pygments_lexer": "ipython3",
   "version": "3.7.4"
  }
 },
 "nbformat": 4,
 "nbformat_minor": 2
}
