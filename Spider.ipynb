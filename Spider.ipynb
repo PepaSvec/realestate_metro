{
 "cells": [
  {
   "cell_type": "markdown",
   "metadata": {},
   "source": [
    "# Project proposal\n",
    "### _Josef Švec & Markéta Malá_"
   ]
  },
  {
   "cell_type": "markdown",
   "metadata": {},
   "source": [
    "We would like to work on the analysis of Prague's real estate market. The source for our data is the server Sreality.cz from Seznam that represents a trully extensive pool of supply of real estates either for rent or for sale (and that is due to the coronavirus crisis even more extensive than ever before). We'd like to narrow our focus only to the for rent properties within Prague.\n",
    "\n",
    "Below, at the very end of this code, there are listed all the variables that we should be able to scrape from the web (with a bit of time and luck). Based on this list we came to conclusion that the most interesting way of approaching the data could be to import a simple map of Prague and visually express the average prices per m^2 on it (e.g. by different intensity of colour or by height of a surface in a 3D model). Also a histogram comparing the prices across different Prague's districts. Alternatively, we could plot different set of variables once we examine our dataset. In ordet to create visualisations, we are planning to use a library such as geo pandas, although we are not familiar with its capabilities yet.\n",
    "\n",
    "In the notebook below, we were dealing with the issue of scraping dynamic webpages. We came up with a solution using the Selenium libarary. However, we counted that by our proposed way the scraping would take hours, because every link has to be openned separatelly and that takes time... If there is a better approach to this we will be very happy to learn it.\n",
    "\n",
    "PS: We are aware the the code, will be rewriten into the object oriented programming. This is only a proof of concept. "
   ]
  },
  {
   "cell_type": "markdown",
   "metadata": {},
   "source": [
    "## Start of a nice jupyter"
   ]
  },
  {
   "cell_type": "code",
   "execution_count": 1,
   "metadata": {},
   "outputs": [],
   "source": [
    "from selenium import webdriver"
   ]
  },
  {
   "cell_type": "code",
   "execution_count": 2,
   "metadata": {},
   "outputs": [],
   "source": [
    "import time"
   ]
  },
  {
   "cell_type": "code",
   "execution_count": 3,
   "metadata": {},
   "outputs": [],
   "source": [
    "from math import ceil"
   ]
  },
  {
   "cell_type": "code",
   "execution_count": 4,
   "metadata": {},
   "outputs": [],
   "source": [
    "from bs4 import BeautifulSoup"
   ]
  },
  {
   "cell_type": "markdown",
   "metadata": {},
   "source": [
    "## How is the link structured "
   ]
  },
  {
   "cell_type": "markdown",
   "metadata": {},
   "source": [
    "The website is located under domain name www.sreality.cz\n",
    "\n",
    "Then it allows a client to search real estate under specified parameters. \n",
    "\n",
    "We specify: renting\n",
    "\n",
    "type: flats\n",
    "\n",
    "location: Prague\n",
    "\n",
    "Then it displays 20 adverts per page"
   ]
  },
  {
   "cell_type": "markdown",
   "metadata": {},
   "source": [
    "Here we break down how the link is structured"
   ]
  },
  {
   "cell_type": "code",
   "execution_count": 5,
   "metadata": {},
   "outputs": [],
   "source": [
    "link_base = \"https://www.sreality.cz\""
   ]
  },
  {
   "cell_type": "code",
   "execution_count": 6,
   "metadata": {},
   "outputs": [],
   "source": [
    "search = \"/hledani/pronajem/byty/praha\""
   ]
  },
  {
   "cell_type": "code",
   "execution_count": 7,
   "metadata": {},
   "outputs": [],
   "source": [
    "pg = \"?strana=\""
   ]
  },
  {
   "cell_type": "markdown",
   "metadata": {},
   "source": [
    "According to number of matches we can calculate the number of pages from which we have to get the links"
   ]
  },
  {
   "cell_type": "code",
   "execution_count": 8,
   "metadata": {},
   "outputs": [],
   "source": [
    "matches = 7536"
   ]
  },
  {
   "cell_type": "code",
   "execution_count": 9,
   "metadata": {},
   "outputs": [],
   "source": [
    "pages = ceil(matches/20)"
   ]
  },
  {
   "cell_type": "code",
   "execution_count": 10,
   "metadata": {},
   "outputs": [
    {
     "data": {
      "text/plain": [
       "377"
      ]
     },
     "execution_count": 10,
     "metadata": {},
     "output_type": "execute_result"
    }
   ],
   "source": [
    "pages"
   ]
  },
  {
   "cell_type": "markdown",
   "metadata": {},
   "source": [
    "Because we understand the structure of the link we can create a list of all list that we want to visit"
   ]
  },
  {
   "cell_type": "code",
   "execution_count": 11,
   "metadata": {},
   "outputs": [],
   "source": [
    "all_pages = [link_base+search+pg+str(k+1) for k in range(0, pages)]"
   ]
  },
  {
   "cell_type": "markdown",
   "metadata": {},
   "source": [
    "We print first and last item of the list to verify our result"
   ]
  },
  {
   "cell_type": "code",
   "execution_count": 12,
   "metadata": {
    "scrolled": false
   },
   "outputs": [
    {
     "data": {
      "text/plain": [
       "['https://www.sreality.cz/hledani/pronajem/byty/praha?strana=1',\n",
       " 'https://www.sreality.cz/hledani/pronajem/byty/praha?strana=377']"
      ]
     },
     "execution_count": 12,
     "metadata": {},
     "output_type": "execute_result"
    }
   ],
   "source": [
    "[all_pages[0], all_pages[-1]]"
   ]
  },
  {
   "cell_type": "markdown",
   "metadata": {},
   "source": [
    "Now we gathered all the links to give us the link that we will later scrape.\n",
    "Sreality is a dynamic page so we will use selenium <3"
   ]
  },
  {
   "cell_type": "markdown",
   "metadata": {},
   "source": [
    "### Selenium"
   ]
  },
  {
   "cell_type": "markdown",
   "metadata": {},
   "source": [
    "#### code for one page"
   ]
  },
  {
   "cell_type": "markdown",
   "metadata": {},
   "source": [
    "We visit the webpage with selenium get the html code and find all the links that lead to our desired destination."
   ]
  },
  {
   "cell_type": "code",
   "execution_count": 13,
   "metadata": {},
   "outputs": [],
   "source": [
    "driver = webdriver.Chrome(\"C:\\\\chromedriver\\\\chromedriver.exe\")\n",
    "driver.get(\"https://www.sreality.cz/hledani/pronajem/byty/praha\")\n",
    "time.sleep(2)\n",
    "res1 = driver.execute_script(\"return document.documentElement.outerHTML\")\n",
    "driver.quit()"
   ]
  },
  {
   "cell_type": "code",
   "execution_count": 14,
   "metadata": {},
   "outputs": [],
   "source": [
    "soup = BeautifulSoup(res1, \"lxml\")"
   ]
  },
  {
   "cell_type": "code",
   "execution_count": 15,
   "metadata": {},
   "outputs": [],
   "source": [
    "links = soup.find_all(\"a\", {\"class\":\"title\"})"
   ]
  },
  {
   "cell_type": "markdown",
   "metadata": {},
   "source": [
    "We check that we collected 21 links because there is one sponsored link per page.\n",
    "Then we print the first link that is not sponsored"
   ]
  },
  {
   "cell_type": "code",
   "execution_count": 16,
   "metadata": {},
   "outputs": [
    {
     "data": {
      "text/plain": [
       "21"
      ]
     },
     "execution_count": 16,
     "metadata": {},
     "output_type": "execute_result"
    }
   ],
   "source": [
    "len(links)"
   ]
  },
  {
   "cell_type": "code",
   "execution_count": 17,
   "metadata": {},
   "outputs": [
    {
     "data": {
      "text/plain": [
       "'/detail/pronajem/byt/3+1/praha-zizkov-habrova/2636791388'"
      ]
     },
     "execution_count": 17,
     "metadata": {},
     "output_type": "execute_result"
    }
   ],
   "source": [
    "links[1]['href']"
   ]
  },
  {
   "cell_type": "markdown",
   "metadata": {},
   "source": [
    "### for many pages"
   ]
  },
  {
   "cell_type": "markdown",
   "metadata": {},
   "source": [
    "Now this code is generalized for visiting all the pages that we previously set out to get links from"
   ]
  },
  {
   "cell_type": "code",
   "execution_count": 18,
   "metadata": {},
   "outputs": [],
   "source": [
    "driver = webdriver.Chrome(\"C:\\\\chromedriver\\\\chromedriver.exe\")\n",
    "all_links = []\n",
    "for k in range(2): # when ready replace 2 with variable \"pages\"\n",
    "    driver.get(all_pages[k])\n",
    "    time.sleep(1)\n",
    "    res = driver.execute_script(\"return document.documentElement.outerHTML\")\n",
    "    soup = BeautifulSoup(res, \"lxml\")\n",
    "    links = soup.find_all(\"a\", {\"class\":\"title\"})\n",
    "    for j in links[1:]:\n",
    "        all_links.append(j['href'])\n",
    "driver.quit()"
   ]
  },
  {
   "cell_type": "code",
   "execution_count": 19,
   "metadata": {
    "scrolled": true
   },
   "outputs": [
    {
     "data": {
      "text/plain": [
       "40"
      ]
     },
     "execution_count": 19,
     "metadata": {},
     "output_type": "execute_result"
    }
   ],
   "source": [
    "len(all_links)"
   ]
  },
  {
   "cell_type": "code",
   "execution_count": 20,
   "metadata": {
    "scrolled": true
   },
   "outputs": [
    {
     "data": {
      "text/plain": [
       "['/detail/pronajem/byt/3+1/praha-zizkov-habrova/2636791388',\n",
       " '/detail/pronajem/byt/3+1/praha-nove-mesto-pstrossova/2218868316',\n",
       " '/detail/pronajem/byt/4+1/praha-vinohrady-rubesova/744504924',\n",
       " '/detail/pronajem/byt/5+1/praha-vinohrady-rubesova/526401116',\n",
       " '/detail/pronajem/byt/2+kk/praha-vinohrady-varsavska/3126279772']"
      ]
     },
     "execution_count": 20,
     "metadata": {},
     "output_type": "execute_result"
    }
   ],
   "source": [
    "all_links[:5]"
   ]
  },
  {
   "cell_type": "markdown",
   "metadata": {},
   "source": [
    "This is just a begining of all the links we can get :D"
   ]
  },
  {
   "cell_type": "markdown",
   "metadata": {},
   "source": [
    "## Now we need to decide what we want from individual sites."
   ]
  },
  {
   "cell_type": "code",
   "execution_count": 21,
   "metadata": {},
   "outputs": [],
   "source": [
    "link_explore = link_base + all_links[1]\n",
    "driver = webdriver.Chrome(\"C:\\\\chromedriver\\\\chromedriver.exe\")\n",
    "driver.get(link_explore)\n",
    "time.sleep(2)\n",
    "gist = driver.execute_script(\"return document.documentElement.outerHTML\")\n",
    "driver.quit()"
   ]
  },
  {
   "cell_type": "code",
   "execution_count": 22,
   "metadata": {},
   "outputs": [],
   "source": [
    "info = BeautifulSoup(gist, \"lxml\")"
   ]
  },
  {
   "cell_type": "markdown",
   "metadata": {},
   "source": [
    "### magic from now on "
   ]
  },
  {
   "cell_type": "code",
   "execution_count": 26,
   "metadata": {},
   "outputs": [
    {
     "data": {
      "text/plain": [
       "'https://www.sreality.cz/detail/pronajem/byt/3+1/praha-nove-mesto-pstrossova/2218868316'"
      ]
     },
     "execution_count": 26,
     "metadata": {},
     "output_type": "execute_result"
    }
   ],
   "source": [
    "link_explore"
   ]
  },
  {
   "cell_type": "code",
   "execution_count": 23,
   "metadata": {
    "scrolled": false
   },
   "outputs": [
    {
     "name": "stdout",
     "output_type": "stream",
     "text": [
      "{'title': ['Pronájem bytu 3+1 85 m²'], 'adresa': ['Pštrossova, Praha 1 - Nové Město'], 'Celková cena:': ['24 990 Kč za měsíc, + provize RK, bez poplatků'], 'Poznámka k ceně:': ['bez poplatků, + provize RK'], 'ID zakázky:': ['00150'], 'Aktualizace:': ['Dnes'], 'Stavba:': ['Cihlová'], 'Stav objektu:': ['Velmi dobrý'], 'Vlastnictví:': ['Osobní'], 'Umístění objektu:': ['Centrum obce'], 'Podlaží:': ['3. podlaží'], 'Užitná plocha:': ['85m2'], 'Sklep:': ['20m2'], 'Voda:': ['Dálkový vodovod'], 'Topení:': ['Ústřední elektrické'], 'Plyn:': ['Plynovod'], 'Odpad:': ['Veřejná kanalizace'], 'Telekomunikace:': ['Telefon, Internet, Satelit, Kabelová televize, Kabelové rozvody, Ostatní'], 'Elektřina:': ['230V'], 'Doprava:': ['Silnice, MHD'], 'Komunikace:': ['Asfaltová'], 'Energetická náročnost budovy:': ['Třída G - Mimořádně nehospodárná'], 'Vybavení:': [\"'boolean-true'\"], 'Cukrárna:': ['Kavárna Globe', ' (97 m)'], 'Kino:': ['Kino Mat', ' (271 m)'], 'Hřiště:': ['Dětské hřiště Vojtěšský obvod', ' (230 m)'], 'Kulturní památka:': ['Dům U černé Matky Boží', ' (1134 m)'], 'Večerka:': ['MANNI MINI MARKET', ' (192 m)'], 'Hospoda:': ['Batalion Café & Music Bar', ' (674 m)'], 'Divadlo:': ['Národní divadlo', ' (290 m)'], 'Veterinář:': ['MVDr. Katka Sviták Novozámská', ' (693 m)'], 'Lékař:': ['TeamPrevent-Santé, s.r.o.', ' (62 m)'], 'Vlak:': ['Praha hlavní nádraží', ' (1575 m)'], 'Pošta:': ['Pošta Praha 5 - Česká pošta, s.p.', ' (786 m)'], 'Školka:': ['Mateřská škola Pštrossova', ' (84 m)'], 'Lékárna:': ['BENU Lékárna', ' (313 m)'], 'Bankomat:': ['Bankomat MONETA Money Bank', ' (271 m)'], 'Restaurace:': ['Restaurace U Fleků', ' (81 m)'], 'Škola:': ['Gymnázium Jana Palacha, Praha 1', ' (69 m)'], 'Sportoviště:': ['Vinland Golf Club', ' (348 m)'], 'Obchod:': ['Quadrio', ' (402 m)'], 'Metro:': ['Národní třída', ' (313 m)'], 'Tram:': ['Národní divadlo', ' (180 m)'], 'Bus MHD:': ['Jiráskovo náměstí', ' (379 m)']}\n"
     ]
    }
   ],
   "source": [
    "lists = info.find_all(\"li\")\n",
    "dict = {}\n",
    "\n",
    "dict[\"title\"] = [info.find(\"span\",{\"itemprop\":\"name\"}).findChild().get_text().replace(\"\\n\",\"\").replace(\"\\xa0\",\" \") ]\n",
    "dict[\"adresa\"] = [info.find(\"span\",{\"class\": \"location\"}).get_text().replace(\"\\n\",\"\").replace(\"\\xa0\",\" \")]\n",
    "for k in lists:\n",
    "    try:\n",
    "        column = k.find(\"label\").get_text()\n",
    "    except:\n",
    "        break\n",
    "    try:\n",
    "        value = [k.find(\"strong\").get_text()]\n",
    "    except:\n",
    "        try:\n",
    "            value = [k.find(\"a\").get_text(), k.find(\"span\", {\"class\":\"c-pois__distance ng-binding\"}).get_text()]\n",
    "        except:\n",
    "            value = [k.find(\"span\",{\"class\":\"c-pois__poi-text ng-binding ng-scope\"}).get_text(),k.find(\"span\", {\"class\":\"c-pois__distance ng-binding\"}).get_text()]\n",
    "    \n",
    "    if value[0] == \"\\n\\n\\n\\n\\n\\n\\n\":\n",
    "        try:\n",
    "            value[0] = k.find(\"strong\").findChild(\"span\",{\"class\": \"icof icon-cross ng-scope\"})[\"ng-if\"].split(\" \")[-1]\n",
    "        except:\n",
    "            value[0] = k.find(\"strong\").findChild(\"span\",{\"class\": \"icof icon-ok ng-scope\"})[\"ng-if\"].split(\" \")[-1]\n",
    "    \n",
    "    #we clean the values a little bit\n",
    "    keys = [val.replace(\"\\n\",\"\") for val in value]\n",
    "    keys_a = [ki.replace(\"\\xa0\",\" \") for ki in keys]    \n",
    "\n",
    "    #add it to the dictionary\n",
    "    dict[column] = keys_a\n",
    "\n",
    "print(dict)  "
   ]
  },
  {
   "cell_type": "code",
   "execution_count": 24,
   "metadata": {
    "scrolled": false
   },
   "outputs": [
    {
     "data": {
      "text/plain": [
       "{'title': ['Pronájem bytu 3+1 85 m²'],\n",
       " 'adresa': ['Pštrossova, Praha 1 - Nové Město'],\n",
       " 'Celková cena:': ['24 990 Kč za měsíc, + provize RK, bez poplatků'],\n",
       " 'Poznámka k ceně:': ['bez poplatků, + provize RK'],\n",
       " 'ID zakázky:': ['00150'],\n",
       " 'Aktualizace:': ['Dnes'],\n",
       " 'Stavba:': ['Cihlová'],\n",
       " 'Stav objektu:': ['Velmi dobrý'],\n",
       " 'Vlastnictví:': ['Osobní'],\n",
       " 'Umístění objektu:': ['Centrum obce'],\n",
       " 'Podlaží:': ['3. podlaží'],\n",
       " 'Užitná plocha:': ['85m2'],\n",
       " 'Sklep:': ['20m2'],\n",
       " 'Voda:': ['Dálkový vodovod'],\n",
       " 'Topení:': ['Ústřední elektrické'],\n",
       " 'Plyn:': ['Plynovod'],\n",
       " 'Odpad:': ['Veřejná kanalizace'],\n",
       " 'Telekomunikace:': ['Telefon, Internet, Satelit, Kabelová televize, Kabelové rozvody, Ostatní'],\n",
       " 'Elektřina:': ['230V'],\n",
       " 'Doprava:': ['Silnice, MHD'],\n",
       " 'Komunikace:': ['Asfaltová'],\n",
       " 'Energetická náročnost budovy:': ['Třída G - Mimořádně nehospodárná'],\n",
       " 'Vybavení:': [\"'boolean-true'\"],\n",
       " 'Cukrárna:': ['Kavárna Globe', ' (97 m)'],\n",
       " 'Kino:': ['Kino Mat', ' (271 m)'],\n",
       " 'Hřiště:': ['Dětské hřiště Vojtěšský obvod', ' (230 m)'],\n",
       " 'Kulturní památka:': ['Dům U černé Matky Boží', ' (1134 m)'],\n",
       " 'Večerka:': ['MANNI MINI MARKET', ' (192 m)'],\n",
       " 'Hospoda:': ['Batalion Café & Music Bar', ' (674 m)'],\n",
       " 'Divadlo:': ['Národní divadlo', ' (290 m)'],\n",
       " 'Veterinář:': ['MVDr. Katka Sviták Novozámská', ' (693 m)'],\n",
       " 'Lékař:': ['TeamPrevent-Santé, s.r.o.', ' (62 m)'],\n",
       " 'Vlak:': ['Praha hlavní nádraží', ' (1575 m)'],\n",
       " 'Pošta:': ['Pošta Praha 5 - Česká pošta, s.p.', ' (786 m)'],\n",
       " 'Školka:': ['Mateřská škola Pštrossova', ' (84 m)'],\n",
       " 'Lékárna:': ['BENU Lékárna', ' (313 m)'],\n",
       " 'Bankomat:': ['Bankomat MONETA Money Bank', ' (271 m)'],\n",
       " 'Restaurace:': ['Restaurace U Fleků', ' (81 m)'],\n",
       " 'Škola:': ['Gymnázium Jana Palacha, Praha 1', ' (69 m)'],\n",
       " 'Sportoviště:': ['Vinland Golf Club', ' (348 m)'],\n",
       " 'Obchod:': ['Quadrio', ' (402 m)'],\n",
       " 'Metro:': ['Národní třída', ' (313 m)'],\n",
       " 'Tram:': ['Národní divadlo', ' (180 m)'],\n",
       " 'Bus MHD:': ['Jiráskovo náměstí', ' (379 m)']}"
      ]
     },
     "execution_count": 24,
     "metadata": {},
     "output_type": "execute_result"
    }
   ],
   "source": [
    "dict"
   ]
  },
  {
   "cell_type": "markdown",
   "metadata": {},
   "source": [
    "Although, it should be rewriten as at least functions maybe OOP"
   ]
  },
  {
   "cell_type": "markdown",
   "metadata": {},
   "source": [
    "## Now we can collect data \n",
    "### is it going to be a dictionary of dictionaries? or json?"
   ]
  },
  {
   "cell_type": "code",
   "execution_count": 25,
   "metadata": {},
   "outputs": [
    {
     "data": {
      "text/plain": [
       "' (180 m)'"
      ]
     },
     "execution_count": 25,
     "metadata": {},
     "output_type": "execute_result"
    }
   ],
   "source": [
    "dict['Tram:'][1]"
   ]
  },
  {
   "cell_type": "code",
   "execution_count": null,
   "metadata": {},
   "outputs": [],
   "source": []
  },
  {
   "cell_type": "code",
   "execution_count": null,
   "metadata": {},
   "outputs": [],
   "source": []
  }
 ],
 "metadata": {
  "kernelspec": {
   "display_name": "Python 3",
   "language": "python",
   "name": "python3"
  },
  "language_info": {
   "codemirror_mode": {
    "name": "ipython",
    "version": 3
   },
   "file_extension": ".py",
   "mimetype": "text/x-python",
   "name": "python",
   "nbconvert_exporter": "python",
   "pygments_lexer": "ipython3",
   "version": "3.7.4"
  }
 },
 "nbformat": 4,
 "nbformat_minor": 2
}
