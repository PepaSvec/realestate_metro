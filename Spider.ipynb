{
 "cells": [
  {
   "cell_type": "markdown",
   "metadata": {},
   "source": [
    "### Some OOP for practice (will be deleted)"
   ]
  },
  {
   "cell_type": "code",
   "execution_count": 2,
   "metadata": {},
   "outputs": [],
   "source": [
    "class Downloader():\n",
    "    def __init__(self):\n",
    "        self.name = \"Pepa\"\n",
    "          "
   ]
  },
  {
   "cell_type": "code",
   "execution_count": 3,
   "metadata": {},
   "outputs": [],
   "source": [
    "A_person = Downloader()"
   ]
  },
  {
   "cell_type": "code",
   "execution_count": 4,
   "metadata": {
    "scrolled": true
   },
   "outputs": [
    {
     "data": {
      "text/plain": [
       "'Pepa'"
      ]
     },
     "execution_count": 4,
     "metadata": {},
     "output_type": "execute_result"
    }
   ],
   "source": [
    "A_person.name "
   ]
  },
  {
   "cell_type": "markdown",
   "metadata": {},
   "source": [
    "# Start of a nice jupyter"
   ]
  },
  {
   "cell_type": "code",
   "execution_count": 5,
   "metadata": {},
   "outputs": [],
   "source": [
    "from selenium import webdriver"
   ]
  },
  {
   "cell_type": "code",
   "execution_count": 6,
   "metadata": {},
   "outputs": [],
   "source": [
    "import time"
   ]
  },
  {
   "cell_type": "code",
   "execution_count": 7,
   "metadata": {},
   "outputs": [],
   "source": [
    "from math import ceil"
   ]
  },
  {
   "cell_type": "code",
   "execution_count": 8,
   "metadata": {},
   "outputs": [],
   "source": [
    "from bs4 import BeautifulSoup"
   ]
  },
  {
   "cell_type": "markdown",
   "metadata": {},
   "source": [
    "# How is the link structured"
   ]
  },
  {
   "cell_type": "markdown",
   "metadata": {},
   "source": [
    "The website is located under domain name www.sreality.cz\n",
    "\n",
    "Then it allows a client to search real estate under specified parameters. \n",
    "\n",
    "We specify: renting\n",
    "\n",
    "type: flats\n",
    "\n",
    "location: Prague\n",
    "\n",
    "Then it displays 20 adverts per page"
   ]
  },
  {
   "cell_type": "markdown",
   "metadata": {},
   "source": [
    "Here we break down how the link is structured"
   ]
  },
  {
   "cell_type": "code",
   "execution_count": 9,
   "metadata": {},
   "outputs": [],
   "source": [
    "link_base = \"https://www.sreality.cz\""
   ]
  },
  {
   "cell_type": "code",
   "execution_count": 10,
   "metadata": {},
   "outputs": [],
   "source": [
    "search = \"/hledani/pronajem/byty/praha\""
   ]
  },
  {
   "cell_type": "code",
   "execution_count": 11,
   "metadata": {},
   "outputs": [],
   "source": [
    "pg = \"?strana=\""
   ]
  },
  {
   "cell_type": "markdown",
   "metadata": {},
   "source": [
    "According to number of matches we can calculate the number of pages from which we have to get the links"
   ]
  },
  {
   "cell_type": "code",
   "execution_count": 12,
   "metadata": {},
   "outputs": [],
   "source": [
    "matches = 7448"
   ]
  },
  {
   "cell_type": "code",
   "execution_count": 13,
   "metadata": {},
   "outputs": [],
   "source": [
    "pages = ceil(matches/20)"
   ]
  },
  {
   "cell_type": "code",
   "execution_count": 14,
   "metadata": {},
   "outputs": [
    {
     "data": {
      "text/plain": [
       "373"
      ]
     },
     "execution_count": 14,
     "metadata": {},
     "output_type": "execute_result"
    }
   ],
   "source": [
    "pages"
   ]
  },
  {
   "cell_type": "markdown",
   "metadata": {},
   "source": [
    "Because we understand the structure of the link we can create a list of all list that we want to visit"
   ]
  },
  {
   "cell_type": "code",
   "execution_count": 15,
   "metadata": {},
   "outputs": [],
   "source": [
    "all_pages = [link_base+search+pg+str(k+1) for k in range(0, pages)]"
   ]
  },
  {
   "cell_type": "code",
   "execution_count": 16,
   "metadata": {
    "scrolled": false
   },
   "outputs": [
    {
     "data": {
      "text/plain": [
       "['https://www.sreality.cz/hledani/pronajem/byty/praha?strana=1',\n",
       " 'https://www.sreality.cz/hledani/pronajem/byty/praha?strana=373']"
      ]
     },
     "execution_count": 16,
     "metadata": {},
     "output_type": "execute_result"
    }
   ],
   "source": [
    "all_pages[::372]"
   ]
  },
  {
   "cell_type": "markdown",
   "metadata": {},
   "source": [
    "Now we gathered all the links to give us the link that we will later scrape.\n",
    "Sreality is a dynamic page so we will use selenium <3"
   ]
  },
  {
   "cell_type": "markdown",
   "metadata": {},
   "source": [
    "## Selenium"
   ]
  },
  {
   "cell_type": "markdown",
   "metadata": {},
   "source": [
    "### code for one page"
   ]
  },
  {
   "cell_type": "markdown",
   "metadata": {},
   "source": [
    "We visit the webpage with selenium get the html code and find all the links that lead to our desired destination."
   ]
  },
  {
   "cell_type": "code",
   "execution_count": 17,
   "metadata": {},
   "outputs": [],
   "source": [
    "driver = webdriver.Chrome(\"C:\\\\chromedriver\\\\chromedriver.exe\")\n",
    "driver.get(\"https://www.sreality.cz/hledani/pronajem/byty/praha\")\n",
    "time.sleep(2)\n",
    "res1 = driver.execute_script(\"return document.documentElement.outerHTML\")\n",
    "driver.quit()"
   ]
  },
  {
   "cell_type": "code",
   "execution_count": 18,
   "metadata": {},
   "outputs": [],
   "source": [
    "soup = BeautifulSoup(res1, \"lxml\")"
   ]
  },
  {
   "cell_type": "code",
   "execution_count": 19,
   "metadata": {},
   "outputs": [],
   "source": [
    "links = soup.find_all(\"a\", {\"class\":\"title\"})"
   ]
  },
  {
   "cell_type": "markdown",
   "metadata": {},
   "source": [
    "We check that we collected 21 links because there is one sponsored link per page.\n",
    "Then we print the first link that is not sponsored"
   ]
  },
  {
   "cell_type": "code",
   "execution_count": 20,
   "metadata": {},
   "outputs": [
    {
     "data": {
      "text/plain": [
       "21"
      ]
     },
     "execution_count": 20,
     "metadata": {},
     "output_type": "execute_result"
    }
   ],
   "source": [
    "len(links)"
   ]
  },
  {
   "cell_type": "code",
   "execution_count": 21,
   "metadata": {},
   "outputs": [
    {
     "data": {
      "text/plain": [
       "'/detail/pronajem/byt/2+kk/praha-branik-novodvorska/4260773468'"
      ]
     },
     "execution_count": 21,
     "metadata": {},
     "output_type": "execute_result"
    }
   ],
   "source": [
    "links[1]['href']"
   ]
  },
  {
   "cell_type": "markdown",
   "metadata": {},
   "source": [
    "## for many pages"
   ]
  },
  {
   "cell_type": "markdown",
   "metadata": {},
   "source": [
    "Now this code is generalized for visiting all the pages that we previously set out to get links from"
   ]
  },
  {
   "cell_type": "code",
   "execution_count": 22,
   "metadata": {},
   "outputs": [],
   "source": [
    "driver = webdriver.Chrome(\"C:\\\\chromedriver\\\\chromedriver.exe\")\n",
    "all_links = []\n",
    "for k in range(2): # when ready replace 2 with variable \"pages\"\n",
    "    driver.get(all_pages[k])\n",
    "    time.sleep(1)\n",
    "    res = driver.execute_script(\"return document.documentElement.outerHTML\")\n",
    "    soup = BeautifulSoup(res, \"lxml\")\n",
    "    links = soup.find_all(\"a\", {\"class\":\"title\"})\n",
    "    for j in links[1:]:\n",
    "        all_links.append(j['href'])\n",
    "driver.quit()"
   ]
  },
  {
   "cell_type": "code",
   "execution_count": 23,
   "metadata": {},
   "outputs": [
    {
     "data": {
      "text/plain": [
       "40"
      ]
     },
     "execution_count": 23,
     "metadata": {},
     "output_type": "execute_result"
    }
   ],
   "source": [
    "len(all_links)"
   ]
  },
  {
   "cell_type": "code",
   "execution_count": 24,
   "metadata": {
    "scrolled": true
   },
   "outputs": [
    {
     "data": {
      "text/plain": [
       "['/detail/pronajem/byt/2+kk/praha-branik-novodvorska/4260773468',\n",
       " '/detail/pronajem/byt/2+kk/praha-nusle-mecislavova/2212941404',\n",
       " '/detail/pronajem/byt/atypicky/praha-mala-strana-petrinska/3046194780',\n",
       " '/detail/pronajem/byt/2+kk/praha-strizkov-zaksinska/1682259548',\n",
       " '/detail/pronajem/byt/3+kk/praha-zabehlice-jahodova/1368604252']"
      ]
     },
     "execution_count": 24,
     "metadata": {},
     "output_type": "execute_result"
    }
   ],
   "source": [
    "all_links[:5]"
   ]
  },
  {
   "cell_type": "markdown",
   "metadata": {},
   "source": [
    "This is just a begining of all the links we can get :D"
   ]
  },
  {
   "cell_type": "markdown",
   "metadata": {},
   "source": [
    "# Now we need to decide what we want from individual sites."
   ]
  },
  {
   "cell_type": "code",
   "execution_count": 36,
   "metadata": {},
   "outputs": [],
   "source": [
    "link_explore = link_base + all_links[0]\n",
    "driver = webdriver.Chrome(\"C:\\\\chromedriver\\\\chromedriver.exe\")\n",
    "driver.get(link_explore)\n",
    "time.sleep(1)\n",
    "gist = driver.execute_script(\"return document.documentElement.outerHTML\")"
   ]
  },
  {
   "cell_type": "code",
   "execution_count": 37,
   "metadata": {},
   "outputs": [],
   "source": [
    "info = BeautifulSoup(gist, \"lxml\")"
   ]
  },
  {
   "cell_type": "markdown",
   "metadata": {},
   "source": [
    "## magic from now on "
   ]
  },
  {
   "cell_type": "code",
   "execution_count": 175,
   "metadata": {
    "scrolled": true
   },
   "outputs": [
    {
     "name": "stdout",
     "output_type": "stream",
     "text": [
      "{'title': ['Pronájem bytu 2+kk 40 m²'], 'adresa': ['Novodvorská, Praha 4 - Braník'], 'Celková cena:': ['11 000 Kč za měsíc, + provize RK, bez poplatků'], 'ID zakázky:': ['21035'], 'Aktualizace:': ['Dnes'], 'Stavba:': ['Panelová'], 'Stav objektu:': ['Dobrý'], 'Vlastnictví:': ['Osobní'], 'Umístění objektu:': ['Centrum obce'], 'Podlaží:': ['7. podlaží z celkem 8'], 'Užitná plocha:': ['40m2'], 'Plocha podlahová:': ['47m2'], 'Lodžie:': [\"'boolean-true'\"], 'Sklep:': [\"'boolean-true'\"], 'Voda:': ['Dálkový vodovod'], 'Topení:': ['Ústřední plynové'], 'Plyn:': ['Plynovod'], 'Odpad:': ['Veřejná kanalizace'], 'Elektřina:': ['230V'], 'Cukrárna:': ['Cukrárna Simona', ' (71 m)'], 'Kino:': ['Modřanský biograf', ' (3149 m)'], 'Hřiště:': ['Dětské hřiště Nad Lesním divadlem', ' (141 m)'], 'Kulturní památka:': ['Rondokubistická vila v Hodkovičkách', ' (1872 m)'], 'Večerka:': ['Albert Supermarket', ' (180 m)'], 'Hospoda:': ['Karel MLEJNEK', ' (1012 m)'], 'Divadlo:': ['Tradiční loutkové divadlo Zvoneček', ' (71 m)'], 'Veterinář:': ['Vitalii Havryliuk, Veterinární lékař', ' (185 m)'], 'Bus MHD:': ['Sídliště Novodvorská', ' (119 m)'], 'Lékárna:': ['Novodvorská', ' (180 m)'], 'Metro:': ['Budějovická', ' (2349 m)'], 'Školka:': ['MŠ Praha 4, Jílovská', ' (292 m)'], 'Restaurace:': ['Pizzeria La Bussola', ' (62 m)'], 'Vlak:': ['Praha-Krč', ' (1368 m)'], 'Lékař:': ['CODUM, s.r.o.', ' (44 m)'], 'Škola:': ['ZŠ Praha 4, Jílovská', ' (256 m)'], 'Obchod:': ['Novodvorská Plaza', ' (100 m)'], 'Sportoviště:': ['Biotop Lhotka', ' (451 m)'], 'Bankomat:': ['Bankomat ČSOB', ' (100 m)'], 'Pošta:': ['Pošta Praha 418 - Česká pošta, s.p.', ' (180 m)'], 'Tram:': ['Nádraží Braník', ' (1946 m)']}\n"
     ]
    }
   ],
   "source": [
    "lists = info.find_all(\"li\")\n",
    "dict = {}\n",
    "\n",
    "dict[\"title\"] = [info.find(\"span\",{\"itemprop\":\"name\"}).findChild().get_text().replace(\"\\n\",\"\").replace(\"\\xa0\",\" \") ]\n",
    "dict[\"adresa\"] = [info.find(\"span\",{\"class\": \"location\"}).get_text().replace(\"\\n\",\"\").replace(\"\\xa0\",\" \")]\n",
    "for k in lists:\n",
    "    try:\n",
    "        column = k.find(\"label\").get_text()\n",
    "    except:\n",
    "        break\n",
    "    try:\n",
    "        value = [k.find(\"strong\").get_text()]\n",
    "    except:\n",
    "        try:\n",
    "            value = [k.find(\"a\").get_text(), k.find(\"span\", {\"class\":\"c-pois__distance ng-binding\"}).get_text()]\n",
    "        except:\n",
    "            value = [k.find(\"span\",{\"class\":\"c-pois__poi-text ng-binding ng-scope\"}).get_text(),k.find(\"span\", {\"class\":\"c-pois__distance ng-binding\"}).get_text()]\n",
    "    \n",
    "    if value[0] == \"\\n\\n\\n\\n\\n\\n\\n\":\n",
    "        value[0] = k.find(\"strong\").findChild(\"span\",{\"class\": \"icof icon-ok ng-scope\"})[\"ng-if\"].split(\" \")[-1]\n",
    "    \n",
    "    #we clean the values a little bit\n",
    "    keys = [val.replace(\"\\n\",\"\") for val in value]\n",
    "    keys_a = [ki.replace(\"\\xa0\",\" \") for ki in keys]    \n",
    "\n",
    "    #add it to the dictionary\n",
    "    dict[column] = keys_a\n",
    "\n",
    "print(dict)  "
   ]
  },
  {
   "cell_type": "code",
   "execution_count": 176,
   "metadata": {
    "scrolled": false
   },
   "outputs": [
    {
     "data": {
      "text/plain": [
       "{'title': ['Pronájem bytu 2+kk 40 m²'],\n",
       " 'adresa': ['Novodvorská, Praha 4 - Braník'],\n",
       " 'Celková cena:': ['11 000 Kč za měsíc, + provize RK, bez poplatků'],\n",
       " 'ID zakázky:': ['21035'],\n",
       " 'Aktualizace:': ['Dnes'],\n",
       " 'Stavba:': ['Panelová'],\n",
       " 'Stav objektu:': ['Dobrý'],\n",
       " 'Vlastnictví:': ['Osobní'],\n",
       " 'Umístění objektu:': ['Centrum obce'],\n",
       " 'Podlaží:': ['7. podlaží z celkem 8'],\n",
       " 'Užitná plocha:': ['40m2'],\n",
       " 'Plocha podlahová:': ['47m2'],\n",
       " 'Lodžie:': [\"'boolean-true'\"],\n",
       " 'Sklep:': [\"'boolean-true'\"],\n",
       " 'Voda:': ['Dálkový vodovod'],\n",
       " 'Topení:': ['Ústřední plynové'],\n",
       " 'Plyn:': ['Plynovod'],\n",
       " 'Odpad:': ['Veřejná kanalizace'],\n",
       " 'Elektřina:': ['230V'],\n",
       " 'Cukrárna:': ['Cukrárna Simona', ' (71 m)'],\n",
       " 'Kino:': ['Modřanský biograf', ' (3149 m)'],\n",
       " 'Hřiště:': ['Dětské hřiště Nad Lesním divadlem', ' (141 m)'],\n",
       " 'Kulturní památka:': ['Rondokubistická vila v Hodkovičkách', ' (1872 m)'],\n",
       " 'Večerka:': ['Albert Supermarket', ' (180 m)'],\n",
       " 'Hospoda:': ['Karel MLEJNEK', ' (1012 m)'],\n",
       " 'Divadlo:': ['Tradiční loutkové divadlo Zvoneček', ' (71 m)'],\n",
       " 'Veterinář:': ['Vitalii Havryliuk, Veterinární lékař', ' (185 m)'],\n",
       " 'Bus MHD:': ['Sídliště Novodvorská', ' (119 m)'],\n",
       " 'Lékárna:': ['Novodvorská', ' (180 m)'],\n",
       " 'Metro:': ['Budějovická', ' (2349 m)'],\n",
       " 'Školka:': ['MŠ Praha 4, Jílovská', ' (292 m)'],\n",
       " 'Restaurace:': ['Pizzeria La Bussola', ' (62 m)'],\n",
       " 'Vlak:': ['Praha-Krč', ' (1368 m)'],\n",
       " 'Lékař:': ['CODUM, s.r.o.', ' (44 m)'],\n",
       " 'Škola:': ['ZŠ Praha 4, Jílovská', ' (256 m)'],\n",
       " 'Obchod:': ['Novodvorská Plaza', ' (100 m)'],\n",
       " 'Sportoviště:': ['Biotop Lhotka', ' (451 m)'],\n",
       " 'Bankomat:': ['Bankomat ČSOB', ' (100 m)'],\n",
       " 'Pošta:': ['Pošta Praha 418 - Česká pošta, s.p.', ' (180 m)'],\n",
       " 'Tram:': ['Nádraží Braník', ' (1946 m)']}"
      ]
     },
     "execution_count": 176,
     "metadata": {},
     "output_type": "execute_result"
    }
   ],
   "source": [
    "dict"
   ]
  },
  {
   "cell_type": "markdown",
   "metadata": {},
   "source": [
    "it looks so good, just saying"
   ]
  },
  {
   "cell_type": "markdown",
   "metadata": {},
   "source": [
    "Plus, it should be rewriten as at least functions maybe OOP"
   ]
  }
 ],
 "metadata": {
  "kernelspec": {
   "display_name": "Python 3",
   "language": "python",
   "name": "python3"
  },
  "language_info": {
   "codemirror_mode": {
    "name": "ipython",
    "version": 3
   },
   "file_extension": ".py",
   "mimetype": "text/x-python",
   "name": "python",
   "nbconvert_exporter": "python",
   "pygments_lexer": "ipython3",
   "version": "3.7.4"
  }
 },
 "nbformat": 4,
 "nbformat_minor": 2
}
